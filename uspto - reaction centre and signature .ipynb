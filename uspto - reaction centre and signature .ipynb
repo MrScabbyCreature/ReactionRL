{
 "cells": [
  {
   "cell_type": "code",
   "execution_count": 1,
   "metadata": {},
   "outputs": [],
   "source": [
    "from rdkit import Chem\n",
    "import pickle\n",
    "import numpy as np\n",
    "import pandas as pd\n",
    "from IPython.display import display\n",
    "from copy import deepcopy"
   ]
  },
  {
   "cell_type": "markdown",
   "metadata": {},
   "source": [
    "# Load processed data"
   ]
  },
  {
   "cell_type": "code",
   "execution_count": 2,
   "metadata": {},
   "outputs": [],
   "source": [
    "dataset = pd.read_csv(\"/home/abhor/Desktop/datasets/my_uspto/processed_data.csv\", index_col=0)"
   ]
  },
  {
   "cell_type": "code",
   "execution_count": 3,
   "metadata": {
    "scrolled": false
   },
   "outputs": [
    {
     "data": {
      "text/html": [
       "<div>\n",
       "<style scoped>\n",
       "    .dataframe tbody tr th:only-of-type {\n",
       "        vertical-align: middle;\n",
       "    }\n",
       "\n",
       "    .dataframe tbody tr th {\n",
       "        vertical-align: top;\n",
       "    }\n",
       "\n",
       "    .dataframe thead th {\n",
       "        text-align: right;\n",
       "    }\n",
       "</style>\n",
       "<table border=\"1\" class=\"dataframe\">\n",
       "  <thead>\n",
       "    <tr style=\"text-align: right;\">\n",
       "      <th></th>\n",
       "      <th>reactants</th>\n",
       "      <th>reagents</th>\n",
       "      <th>products</th>\n",
       "    </tr>\n",
       "  </thead>\n",
       "  <tbody>\n",
       "    <tr>\n",
       "      <th>0</th>\n",
       "      <td>CON(C)C(=O)c1ccc(O)nc1</td>\n",
       "      <td>C1CCOC1.[Cl-]</td>\n",
       "      <td>CC(C)CC(=O)c1ccc(O)nc1</td>\n",
       "    </tr>\n",
       "    <tr>\n",
       "      <th>1</th>\n",
       "      <td>O=C(O)c1ccc(Cl)c([N+](=O)[O-])c1</td>\n",
       "      <td>O</td>\n",
       "      <td>CNc1ccc(C(=O)O)cc1[N+](=O)[O-]</td>\n",
       "    </tr>\n",
       "    <tr>\n",
       "      <th>2</th>\n",
       "      <td>CCn1cc(C(=O)O)c(=O)c2cc(F)c(-c3ccc(N)cc3)cc21</td>\n",
       "      <td>NaN</td>\n",
       "      <td>CCn1cc(C(=O)O)c(=O)c2cc(F)c(-c3ccc(NC=O)cc3)cc21</td>\n",
       "    </tr>\n",
       "    <tr>\n",
       "      <th>3</th>\n",
       "      <td>COCC(C)Oc1cc(Oc2cnc(C(=O)N3CCC3)cn2)cc(C(=O)O)c1</td>\n",
       "      <td>CC(C)=C(Cl)N(C)C.ClCCl.c1ccncc1</td>\n",
       "      <td>COCC(C)Oc1cc(Oc2cnc(C(=O)N3CCC3)cn2)cc(C(=O)Nc...</td>\n",
       "    </tr>\n",
       "    <tr>\n",
       "      <th>4</th>\n",
       "      <td>Clc1cc2c(Cl)nc(-c3ccncc3)nc2s1</td>\n",
       "      <td>NaN</td>\n",
       "      <td>Clc1cc2c(NCc3ccc(Cl)c(Cl)c3)nc(-c3ccncc3)nc2s1</td>\n",
       "    </tr>\n",
       "    <tr>\n",
       "      <th>...</th>\n",
       "      <td>...</td>\n",
       "      <td>...</td>\n",
       "      <td>...</td>\n",
       "    </tr>\n",
       "    <tr>\n",
       "      <th>448504</th>\n",
       "      <td>CCP(CC)CC</td>\n",
       "      <td>NaN</td>\n",
       "      <td>CCCCOS(=O)(=O)[O-]</td>\n",
       "    </tr>\n",
       "    <tr>\n",
       "      <th>448505</th>\n",
       "      <td>CCCCOS(=O)(=O)OCCCC</td>\n",
       "      <td>NaN</td>\n",
       "      <td>CCCC[P+](CC)(CC)CC</td>\n",
       "    </tr>\n",
       "    <tr>\n",
       "      <th>448506</th>\n",
       "      <td>Cc1cccc(C)c1N=C1NCCN1OCc1ccccn1</td>\n",
       "      <td>CC#N.Cl</td>\n",
       "      <td>Cc1cccc(C)c1N=C1NCCN1O</td>\n",
       "    </tr>\n",
       "    <tr>\n",
       "      <th>448507</th>\n",
       "      <td>Clc1ccnc(Cl)c1</td>\n",
       "      <td>ClCCl</td>\n",
       "      <td>N[n+]1ccc(Cl)cc1Cl</td>\n",
       "    </tr>\n",
       "    <tr>\n",
       "      <th>448508</th>\n",
       "      <td>O=C(c1ccc(Cl)cc1)c1cc2ccccc2cn1</td>\n",
       "      <td>ClCCl</td>\n",
       "      <td>N[n+]1cc2ccccc2cc1C(=O)c1ccc(Cl)cc1</td>\n",
       "    </tr>\n",
       "  </tbody>\n",
       "</table>\n",
       "<p>448313 rows × 3 columns</p>\n",
       "</div>"
      ],
      "text/plain": [
       "                                               reactants  \\\n",
       "0                                 CON(C)C(=O)c1ccc(O)nc1   \n",
       "1                       O=C(O)c1ccc(Cl)c([N+](=O)[O-])c1   \n",
       "2          CCn1cc(C(=O)O)c(=O)c2cc(F)c(-c3ccc(N)cc3)cc21   \n",
       "3       COCC(C)Oc1cc(Oc2cnc(C(=O)N3CCC3)cn2)cc(C(=O)O)c1   \n",
       "4                         Clc1cc2c(Cl)nc(-c3ccncc3)nc2s1   \n",
       "...                                                  ...   \n",
       "448504                                         CCP(CC)CC   \n",
       "448505                               CCCCOS(=O)(=O)OCCCC   \n",
       "448506                   Cc1cccc(C)c1N=C1NCCN1OCc1ccccn1   \n",
       "448507                                    Clc1ccnc(Cl)c1   \n",
       "448508                   O=C(c1ccc(Cl)cc1)c1cc2ccccc2cn1   \n",
       "\n",
       "                               reagents  \\\n",
       "0                         C1CCOC1.[Cl-]   \n",
       "1                                     O   \n",
       "2                                   NaN   \n",
       "3       CC(C)=C(Cl)N(C)C.ClCCl.c1ccncc1   \n",
       "4                                   NaN   \n",
       "...                                 ...   \n",
       "448504                              NaN   \n",
       "448505                              NaN   \n",
       "448506                          CC#N.Cl   \n",
       "448507                            ClCCl   \n",
       "448508                            ClCCl   \n",
       "\n",
       "                                                 products  \n",
       "0                                  CC(C)CC(=O)c1ccc(O)nc1  \n",
       "1                          CNc1ccc(C(=O)O)cc1[N+](=O)[O-]  \n",
       "2        CCn1cc(C(=O)O)c(=O)c2cc(F)c(-c3ccc(NC=O)cc3)cc21  \n",
       "3       COCC(C)Oc1cc(Oc2cnc(C(=O)N3CCC3)cn2)cc(C(=O)Nc...  \n",
       "4          Clc1cc2c(NCc3ccc(Cl)c(Cl)c3)nc(-c3ccncc3)nc2s1  \n",
       "...                                                   ...  \n",
       "448504                                 CCCCOS(=O)(=O)[O-]  \n",
       "448505                                 CCCC[P+](CC)(CC)CC  \n",
       "448506                             Cc1cccc(C)c1N=C1NCCN1O  \n",
       "448507                                 N[n+]1ccc(Cl)cc1Cl  \n",
       "448508                N[n+]1cc2ccccc2cc1C(=O)c1ccc(Cl)cc1  \n",
       "\n",
       "[448313 rows x 3 columns]"
      ]
     },
     "execution_count": 3,
     "metadata": {},
     "output_type": "execute_result"
    }
   ],
   "source": [
    "dataset"
   ]
  },
  {
   "cell_type": "markdown",
   "metadata": {},
   "source": [
    "# Reaction signature"
   ]
  },
  {
   "cell_type": "code",
   "execution_count": 4,
   "metadata": {},
   "outputs": [],
   "source": [
    "from rdkit import Chem\n",
    "from rdkit.Chem import Draw\n",
    "from rdkit.Chem.Draw import SimilarityMaps\n",
    "from rdkit import DataStructs\n",
    "from rdkit.Chem import rdFMCS\n",
    "from rdkit.Chem import AllChem\n",
    "from rdkit.Chem import rdchem"
   ]
  },
  {
   "cell_type": "code",
   "execution_count": 1,
   "metadata": {},
   "outputs": [],
   "source": [
    "# draw molecule with index\n",
    "def mol_with_atom_index( mol ):\n",
    "    mol = Chem.Mol(mol)\n",
    "    atoms = mol.GetNumAtoms()\n",
    "    for idx in range( atoms ):\n",
    "        mol.GetAtomWithIdx( idx ).SetProp( 'molAtomMapNumber', str( mol.GetAtomWithIdx( idx ).GetIdx() ) )\n",
    "    return mol\n",
    "\n",
    "def smiles_without_atom_index( smiles ):\n",
    "    '''\n",
    "    Convert smiles with numbers to smiles without numbers\n",
    "    '''\n",
    "    mol = Chem.MolFromSmiles(smiles)\n",
    "    atoms = mol.GetNumAtoms()\n",
    "    for idx in range( atoms ):\n",
    "        mol.GetAtomWithIdx( idx ).ClearProp( 'molAtomMapNumber' )\n",
    "    return Chem.MolToSmiles(mol)"
   ]
  },
  {
   "cell_type": "code",
   "execution_count": 57,
   "metadata": {},
   "outputs": [],
   "source": [
    "i = 0"
   ]
  },
  {
   "cell_type": "code",
   "execution_count": 46,
   "metadata": {},
   "outputs": [
    {
     "name": "stdout",
     "output_type": "stream",
     "text": [
      "CCn1cc(C(=O)O)c(=O)c2cc(F)c(-c3ccc(N)cc3)cc21\n"
     ]
    },
    {
     "data": {
      "image/png": "[encoded data removed]",
      "text/plain": [
       "<rdkit.Chem.rdchem.Mol at 0x7faec1a07e40>"
      ]
     },
     "metadata": {},
     "output_type": "display_data"
    }
   ],
   "source": [
    "r = dataset.iloc[i][\"reactants\"]\n",
    "\n",
    "print(r)\n",
    "display(Chem.MolFromSmiles(r))\n",
    "i+=1"
   ]
  },
  {
   "cell_type": "code",
   "execution_count": 55,
   "metadata": {},
   "outputs": [],
   "source": [
    "i-=1"
   ]
  },
  {
   "cell_type": "code",
   "execution_count": 41,
   "metadata": {},
   "outputs": [
    {
     "data": {
      "image/png": "[encoded data removed]",
      "text/plain": [
       "<rdkit.Chem.rdchem.Mol at 0x7faec1a6d170>"
      ]
     },
     "execution_count": 41,
     "metadata": {},
     "output_type": "execute_result"
    }
   ],
   "source": [
    "m = Chem.MolFromSmiles(\"c1c(O)cc(CC(=O)C)cc1\")\n",
    "\n",
    "mol_with_atom_index(m)"
   ]
  },
  {
   "cell_type": "code",
   "execution_count": 90,
   "metadata": {},
   "outputs": [
    {
     "name": "stdout",
     "output_type": "stream",
     "text": [
      "[2, 1, 0, 3, 10, 4, 9]\n",
      "[0, 1, 2, 10, 3, 9, 4]\n",
      "[1, 0, 3, 10, 4, 9]\n",
      "[3, 1, 4, 0, 9, 10]\n",
      "[0, 1, 3, 10, 4, 9]\n"
     ]
    },
    {
     "data": {
      "text/plain": [
       "[0, 1, 3, 10, 4, 9]"
      ]
     },
     "execution_count": 90,
     "metadata": {},
     "output_type": "execute_result"
    }
   ],
   "source": [
    "def add_aromatic_ring_if_possible(mol, atom_indices): # Aromatic atoms cannot be represented individually in signatures so we add the whole ring if possible\n",
    "    atoms = list(map(mol.GetAtomWithIdx, atom_indices))\n",
    "    aromatic = any(list(map(lambda atom: atom.GetIsAromatic(), atoms)))\n",
    "    \n",
    "    def get_neighbors():\n",
    "        neighbors = []\n",
    "        for n in list(map(lambda atom: atom.GetNeighbors(), [mol.GetAtomWithIdx(int(x)) for x in atom_indices])):\n",
    "            neighbors.extend(n)\n",
    "        neighbors = np.unique(list(map(lambda a: a.GetIdx(), neighbors)))\n",
    "        return neighbors\n",
    "\n",
    "    # if any aromtic atoms in neighbors, add them\n",
    "    repeat = True\n",
    "    while repeat:\n",
    "        repeat = False\n",
    "        for n in set(get_neighbors()) - set(atom_indices):\n",
    "            if n not in atom_indices and mol.GetAtomWithIdx(int(n)).GetIsAromatic():\n",
    "                atom_indices.append(n)\n",
    "                repeat = True\n",
    "    \n",
    "    print(atom_indices)\n",
    "    return atom_indices\n",
    "                \n",
    "        \n",
    "add_aromatic_ring_if_possible(m, [2])\n",
    "add_aromatic_ring_if_possible(m, [0, 1, 2])\n",
    "add_aromatic_ring_if_possible(m, [1])\n",
    "add_aromatic_ring_if_possible(m, [3])\n",
    "add_aromatic_ring_if_possible(m, [0, 1, 3])"
   ]
  },
  {
   "cell_type": "code",
   "execution_count": 92,
   "metadata": {},
   "outputs": [
    {
     "name": "stdout",
     "output_type": "stream",
     "text": [
      "i = 2\n",
      "MCS\n"
     ]
    },
    {
     "data": {
      "image/png": "[encoded data removed]",
      "text/plain": [
       "<rdkit.Chem.rdchem.Mol at 0x7faec14f3f30>"
      ]
     },
     "metadata": {},
     "output_type": "display_data"
    },
    {
     "name": "stdout",
     "output_type": "stream",
     "text": [
      "----------------------------------------------------------------------------------------------------\n",
      "\n",
      "Reactant\n",
      "\n",
      "Signature\n"
     ]
    },
    {
     "data": {
      "image/png": "[encoded data removed]",
      "text/plain": [
       "<rdkit.Chem.rdchem.Mol at 0x7faec14f32b0>"
      ]
     },
     "metadata": {},
     "output_type": "display_data"
    },
    {
     "name": "stdout",
     "output_type": "stream",
     "text": [
      "Centre at []\n",
      "---------------------------------------------------------------------------------------------------- \n",
      "Product\n",
      "\n",
      "Signature\n"
     ]
    },
    {
     "data": {
      "image/png": "[encoded data removed]",
      "text/plain": [
       "<rdkit.Chem.rdchem.Mol at 0x7faec14f3850>"
      ]
     },
     "metadata": {},
     "output_type": "display_data"
    },
    {
     "name": "stdout",
     "output_type": "stream",
     "text": [
      "Centre at [20]\n",
      "Signature\n"
     ]
    },
    {
     "data": {
      "image/png": "[encoded data removed]",
      "text/plain": [
       "<rdkit.Chem.rdchem.Mol at 0x7faec1a4a0d0>"
      ]
     },
     "metadata": {},
     "output_type": "display_data"
    },
    {
     "name": "stdout",
     "output_type": "stream",
     "text": [
      "Signature\n"
     ]
    },
    {
     "data": {
      "image/png": "[encoded data removed]",
      "text/plain": [
       "<rdkit.Chem.rdchem.Mol at 0x7faec1aa4170>"
      ]
     },
     "metadata": {},
     "output_type": "display_data"
    },
    {
     "name": "stdout",
     "output_type": "stream",
     "text": [
      "Centres ([19], [19])\n",
      "Subgraphs ('[NH3:19]', '[NH2:19][CH:20]=[O:21]')\n",
      "Signatures ('[n:2]1[cH:3][cH:4][cH:8][c:10]2[cH:11][cH:12][c:14](-[c:15]3[cH:16][cH:17][c:18]([NH2:19])[cH:20][cH:21]3)[cH:22][c:23]12', '[n:2]1[cH:3][cH:4][cH:8][c:10]2[cH:11][cH:12][c:14](-[c:15]3[cH:16][cH:17][c:18]([NH:19][CH:20]=[O:21])[cH:22][cH:23]3)[cH:24][c:25]12')\n",
      "Bonds ([[1.0]], [[1.0]])\n"
     ]
    }
   ],
   "source": [
    "def highlight_atoms(mol, hit_ats):\n",
    "    '''\n",
    "    Highlight the atoms in mol that have index in 'hit_ats'\n",
    "    '''\n",
    "#     # this is the code given in rdkit docs but doesn't actually work\n",
    "#     d = rdMolDraw2D.MolDraw2DSVG(500, 500) # or MolDraw2DCairo to get PNGs\n",
    "#     rdMolDraw2D.PrepareAndDrawMolecule(d, mol, highlightAtoms=hit_ats,)\n",
    "    mol.__sssAtoms = hit_ats # workaround for now. Might not work in a later version of rdkit\n",
    "\n",
    "class RLMol:\n",
    "    def __init__(self, mol):\n",
    "        self.mol = mol\n",
    "        self.pushback = False\n",
    "    \n",
    "    def display_mol(self, atom_num=False, highlight=False):\n",
    "        mol = Chem.Mol(self.mol)\n",
    "        if atom_num:\n",
    "            mol = mol_with_atom_index(mol)\n",
    "        if highlight:\n",
    "            highlight_atoms(mol, self.sig)\n",
    "        display(mol)\n",
    "        \n",
    "    def calculate_centres_and_signatures(self, common_subsequence, debug=False):\n",
    "        # input\n",
    "        mol = Chem.Mol(self.mol)\n",
    "        self.common_subsequence = common_subsequence\n",
    "        cs = Chem.Mol(self.common_subsequence)\n",
    "        \n",
    "        # deal with atom indices\n",
    "        mol_indices = list(range(mol.GetNumAtoms()))\n",
    "        mol_indices_in_cs = rdchem.Mol(mol).GetSubstructMatch(cs)\n",
    "        if not mol_indices_in_cs: # in some rare cases, GetSubstructureMatch returns empty tuple - rdkit algo problem\n",
    "            cs = rdFMCS.FindMCS([mol, cs])\n",
    "            self.common_subsequence = Chem.MolFromSmarts(cs.smartsString)\n",
    "            cs = Chem.Mol(self.common_subsequence)\n",
    "#             display(mcs)\n",
    "            mol_indices_in_cs = rdchem.Mol(mol).GetSubstructMatch(cs)\n",
    "            \n",
    "        \n",
    "        # find signature\n",
    "        difference = list(set(mol_indices) - set(mol_indices_in_cs))\n",
    "        self.sig = difference\n",
    "        \n",
    "        # find centre (and bond)\n",
    "        self.cen = []\n",
    "        for idx in self.sig:\n",
    "            atom = mol.GetAtomWithIdx(idx)\n",
    "            neighbors = atom.GetNeighbors()\n",
    "            neighbors_indices = list(map(lambda x: x.GetIdx(), neighbors))\n",
    "            if set(neighbors_indices) - set(self.sig): # this atom has a neighbor outside of signature\n",
    "                self.cen.append(idx)\n",
    "        \n",
    "        # find bond\n",
    "        self.calc_bond()\n",
    "\n",
    "        # if debug, display\n",
    "        if debug:\n",
    "            print(\"Signature\")\n",
    "            self.display_mol(atom_num=True, highlight=True)\n",
    "            \n",
    "            print(\"Centre at\", self.cen)\n",
    "    \n",
    "    def try_to_merge(self, debug=False):\n",
    "        ''' \n",
    "        if more than 1 centre, tries to merge them into 1 if they have a common atom\n",
    "        Returns True if merge happens, else False\n",
    "        '''\n",
    "        mol = Chem.Mol(self.mol)\n",
    "        cs = Chem.Mol(self.common_subsequence)\n",
    "        if len(self.cen) < 2:\n",
    "            return False\n",
    "        \n",
    "        conn_atom_d = {}\n",
    "        conn_idx_list = []\n",
    "        mol_indices_in_cs = rdchem.Mol(mol).GetSubstructMatch(cs)\n",
    "        for cen in self.cen:\n",
    "            cen_atom = mol.GetAtomWithIdx(cen)\n",
    "            cen_neighbors_indices = list(map(lambda x: x.GetIdx(), cen_atom.GetNeighbors()))\n",
    "            \n",
    "            connecting_atom_idx = list(set(cen_neighbors_indices).intersection(set(mol_indices_in_cs)))[0]\n",
    "            connecting_atom = mol.GetAtomWithIdx(connecting_atom_idx)\n",
    "            \n",
    "            conn_atom_d[cen] = [connecting_atom]\n",
    "            conn_idx_list.append(connecting_atom_idx)\n",
    "            \n",
    "        # if they have common atom, merge\n",
    "        if len(np.unique(conn_idx_list)) == 1:\n",
    "            # If connecting atom is aromatic, don't merge\n",
    "            if mol.GetAtomWithIdx(conn_idx_list[0]).isAromatic():\n",
    "                return False\n",
    "            self.sig.append(conn_idx_list[0])\n",
    "            self.cen = [conn_idx_list[0]]\n",
    "            self.calc_bond()\n",
    "            \n",
    "            # if debug, display\n",
    "            if debug:\n",
    "                print(\"Signature\")\n",
    "                self.display_mol(atom_num=True, highlight=True)\n",
    "            \n",
    "            self.pushback = True\n",
    "        return self.pushback\n",
    "    \n",
    "    def get_centre_in_cs(self):\n",
    "        mol_indices_in_cs = np.array(rdchem.Mol(self.mol).GetSubstructMatch(rdchem.Mol(self.common_subsequence)))\n",
    "        return int(abs(mol_indices_in_cs - self.cen[0]).argmin())\n",
    "        \n",
    "    def calc_bond(self):\n",
    "        self.bond = []\n",
    "        for c in self.cen:\n",
    "            atom = self.mol.GetAtomWithIdx(c)\n",
    "            neighbors = atom.GetNeighbors()\n",
    "            neighbors_indices = list(map(lambda x: x.GetIdx(), neighbors))\n",
    "            self.bond.append([self.mol.GetBondBetweenAtoms(c, natom).GetBondTypeAsDouble() for natom in set(neighbors_indices) - set(self.sig)])\n",
    "    \n",
    "    def push_back_centre(self, cs_centre, debug):\n",
    "        '''\n",
    "        This function adds the adjoining atom from common subsequence (cs) to the signature\n",
    "        In case singature is null, cs_centre is used to determine the atom to be added.\n",
    "        '''\n",
    "        mol = Chem.Mol(self.mol)\n",
    "        cs = Chem.Mol(self.common_subsequence)\n",
    "        \n",
    "        if self.cen:\n",
    "            cen = self.cen[0]\n",
    "            cen_atom = mol.GetAtomWithIdx(cen)\n",
    "            cen_neighbors_indices = list(map(lambda x: x.GetIdx(), cen_atom.GetNeighbors()))\n",
    "            mol_indices_in_cs = rdchem.Mol(mol).GetSubstructMatch(cs)\n",
    "            connecting_atom_idx = list(set(cen_neighbors_indices).intersection(set(mol_indices_in_cs)))[0]\n",
    "\n",
    "            self.sig.append(connecting_atom_idx)\n",
    "            self.cen = [connecting_atom_idx]\n",
    "\n",
    "        else:\n",
    "            # calculate the reaction centre from common subsequence and use it for signature\n",
    "            self.cen = [int(rdchem.Mol(mol).GetSubstructMatch(cs)[cs_centre])]\n",
    "            self.sig = list(self.cen)\n",
    "        \n",
    "        self.calc_bond()\n",
    "        \n",
    "        self.pushback = True\n",
    "        \n",
    "        # if debug, display\n",
    "        if debug:\n",
    "            print(\"Signature\")\n",
    "            self.display_mol(atom_num=True, highlight=True)\n",
    "            \n",
    "    def get_subgraph(self):\n",
    "        # calc Mol from list of ints\n",
    "        sig = None\n",
    "        mol = mol_with_atom_index(self.mol)\n",
    "        with Chem.RWMol(mol) as mw:\n",
    "            for idx in set(list(range(self.mol.GetNumAtoms()))) - set(self.sig):\n",
    "                mw.RemoveAtom(idx)\n",
    "            sig = Chem.Mol(mw)\n",
    "        return mw\n",
    "    \n",
    "    def get_smiles_subgraph(self):\n",
    "        return Chem.MolToSmiles(self.get_subgraph())\n",
    "    \n",
    "    \n",
    "    def add_aromatic_ring_if_possible(self, atom_indices): \n",
    "        # Aromatic atoms cannot be represented individually in signatures so we add the whole ring if possible\n",
    "        mol = Chem.Mol(self.mol)\n",
    "        atoms = list(map(mol.GetAtomWithIdx, atom_indices))\n",
    "        aromatic = any(list(map(lambda atom: atom.GetIsAromatic(), atoms)))\n",
    "\n",
    "        def get_neighbors():\n",
    "            neighbors = []\n",
    "            for n in list(map(lambda atom: atom.GetNeighbors(), [mol.GetAtomWithIdx(int(x)) for x in atom_indices])):\n",
    "                neighbors.extend(n)\n",
    "            neighbors = np.unique(list(map(lambda a: a.GetIdx(), neighbors)))\n",
    "            return neighbors\n",
    "\n",
    "        # if any aromtic atoms in neighbors, add them\n",
    "        repeat = True\n",
    "        while repeat:\n",
    "            repeat = False\n",
    "            for n in set(get_neighbors()) - set(atom_indices):\n",
    "                if n not in atom_indices and mol.GetAtomWithIdx(int(n)).GetIsAromatic():\n",
    "                    atom_indices.append(n)\n",
    "                    repeat = True\n",
    "\n",
    "        return atom_indices\n",
    "    \n",
    "    def get_signature(self):\n",
    "        # Add neighbors of self.cen and its neighbors to subgraph\n",
    "        neighbors = []\n",
    "        for c in self.cen:\n",
    "            neighbors.extend([atom.GetIdx() for atom in self.mol.GetAtomWithIdx(c).GetNeighbors()])\n",
    "    \n",
    "        if not self.pushback:\n",
    "            additional_neighbors = []\n",
    "            for n in neighbors:\n",
    "                additional_neighbors.extend([atom.GetIdx() for atom in self.mol.GetAtomWithIdx(n).GetNeighbors()])\n",
    "            neighbors.extend(additional_neighbors)\n",
    "        \n",
    "        # Add any aromatic rings if attached\n",
    "        neighbors = self.add_aromatic_ring_if_possible(neighbors)\n",
    "        \n",
    "        # calc Mol from list of ints\n",
    "        sig = None\n",
    "        mol = mol_with_atom_index(self.mol)\n",
    "        with Chem.RWMol(mol) as mw:\n",
    "            for idx in set(list(range(self.mol.GetNumAtoms()))) - (set(self.sig).union(set(neighbors))):\n",
    "                mw.RemoveAtom(idx)\n",
    "            sig = Chem.Mol(mw)\n",
    "        return mw\n",
    "    \n",
    "    def get_smiles_signature(self):\n",
    "        return Chem.MolToSmiles(self.get_signature())\n",
    "    \n",
    "    def get_centre(self):\n",
    "        return self.cen\n",
    "    \n",
    "    def get_bond(self):\n",
    "        return self.bond\n",
    "                \n",
    "            \n",
    "        \n",
    "\n",
    "class Reaction:\n",
    "    def __init__(self, reactant, product, debug=False):\n",
    "        self.reactant = RLMol(reactant)\n",
    "        self.product = RLMol(product)\n",
    "        self.debug = debug\n",
    "        \n",
    "    def _GetMCS(self):\n",
    "        '''Get the Maximum common subsequence from reactant and product'''\n",
    "        mcs = rdFMCS.FindMCS([self.reactant.mol, self.product.mol])\n",
    "        return Chem.MolFromSmarts(mcs.smartsString)\n",
    "    \n",
    "    def display_reactant(self, atom_num=False, highlight=False):\n",
    "        self.reactant.display_mol(atom_num, highlight)\n",
    "            \n",
    "            \n",
    "    def display_product(self, atom_num=False, highlight=False):\n",
    "        self.product.display_mol(atom_num, highlight)\n",
    "    \n",
    "    def calculate_centres_and_signatures(self):\n",
    "        '''\n",
    "        Calculates centres and signatures from reactants and products\n",
    "        Returns None\n",
    "        '''\n",
    "        mcs = self._GetMCS()\n",
    "        if self.debug:\n",
    "            print(\"MCS\")\n",
    "            display(mcs)\n",
    "            print(\"-\"*100+\"\\n\")\n",
    "            print(\"Reactant\\n\")\n",
    "        self.reactant.calculate_centres_and_signatures(mcs, self.debug)\n",
    "        \n",
    "        if self.debug:\n",
    "            print(\"-\"*100, \"\\nProduct\\n\")\n",
    "        self.product.calculate_centres_and_signatures(mcs, self.debug)\n",
    "        \n",
    "        # if unequal signatures/centres obtained, try to fix:\n",
    "        # CASE 1: More than 1 signature - try to merge them to reduce count\n",
    "        rcen, pcen = self.get_centres()\n",
    "        rmerge, pmerge = False, False\n",
    "        if len(rcen) > 1:\n",
    "            rmerge = self.reactant.try_to_merge(self.debug)\n",
    "        if len(pcen) > 1:\n",
    "            pmerge = self.product.try_to_merge(self.debug)\n",
    "        \n",
    "        # if only one merge was successful, push back the centre by one atom in the other\n",
    "        if rmerge and not pmerge:\n",
    "            self.product.push_back_centre(self.reactant.get_centre_in_cs(), self.debug)\n",
    "        elif pmerge and not rmerge:\n",
    "            self.reactant.push_back_centre(self.product.get_centre_in_cs(), self.debug)\n",
    "            \n",
    "        # CASE 2: Reactant signature is Hydrogen\n",
    "        rcen, pcen = self.get_centres()\n",
    "        if len(rcen) == 0 and len(pcen) != 0:\n",
    "            self.reactant.push_back_centre(self.product.get_centre_in_cs(), self.debug)\n",
    "            self.product.push_back_centre(self.reactant.get_centre_in_cs(), self.debug)\n",
    "    \n",
    "    def get_signatures(self):\n",
    "        # calc Mol from atom indices\n",
    "        return self.reactant.get_signature(), self.product.get_signature()\n",
    "    \n",
    "    def get_subgraphs(self):\n",
    "        return self.reactant.get_subgraph(), self.product.get_subgraph()\n",
    "    \n",
    "    def get_smiles_subgraphs(self):\n",
    "        return self.reactant.get_smiles_subgraph(), self.product.get_smiles_subgraph()\n",
    "    \n",
    "    def get_smiles_signatures(self):\n",
    "        return self.reactant.get_smiles_signature(), self.product.get_smiles_signature()\n",
    "    \n",
    "    def get_centres(self):\n",
    "        return self.reactant.get_centre(), self.product.get_centre()\n",
    "\n",
    "    def get_bonds(self):\n",
    "        return self.reactant.get_bond(), self.product.get_bond()\n",
    "\n",
    "print(\"i =\", i)\n",
    "mol1 = Chem.MolFromSmiles(dataset[\"reactants\"].iloc[i])\n",
    "mol2 = Chem.MolFromSmiles(dataset[\"products\"].iloc[i])\n",
    "R = Reaction(mol1, mol2, debug=True)\n",
    "R.calculate_centres_and_signatures()\n",
    "print(\"Centres\", R.get_centres())\n",
    "print(\"Subgraphs\", R.get_smiles_subgraphs())\n",
    "print(\"Signatures\", R.get_smiles_signatures())\n",
    "print(\"Bonds\", R.get_bonds())\n",
    "i += 1"
   ]
  },
  {
   "cell_type": "code",
   "execution_count": 9,
   "metadata": {
    "scrolled": true
   },
   "outputs": [
    {
     "ename": "KeyboardInterrupt",
     "evalue": "",
     "output_type": "error",
     "traceback": [
      "\u001b[0;31m---------------------------------------------------------------------------\u001b[0m",
      "\u001b[0;31mKeyboardInterrupt\u001b[0m                         Traceback (most recent call last)",
      "\u001b[0;32m/tmp/ipykernel_6857/4201581576.py\u001b[0m in \u001b[0;36m<module>\u001b[0;34m\u001b[0m\n\u001b[1;32m     11\u001b[0m \u001b[0;34m\u001b[0m\u001b[0m\n\u001b[1;32m     12\u001b[0m         \u001b[0mR\u001b[0m \u001b[0;34m=\u001b[0m \u001b[0mReaction\u001b[0m\u001b[0;34m(\u001b[0m\u001b[0mmol1\u001b[0m\u001b[0;34m,\u001b[0m \u001b[0mmol2\u001b[0m\u001b[0;34m)\u001b[0m\u001b[0;34m\u001b[0m\u001b[0;34m\u001b[0m\u001b[0m\n\u001b[0;32m---> 13\u001b[0;31m         \u001b[0mR\u001b[0m\u001b[0;34m.\u001b[0m\u001b[0mcalculate_centres_and_signatures\u001b[0m\u001b[0;34m(\u001b[0m\u001b[0;34m)\u001b[0m\u001b[0;34m\u001b[0m\u001b[0;34m\u001b[0m\u001b[0m\n\u001b[0m\u001b[1;32m     14\u001b[0m \u001b[0;34m\u001b[0m\u001b[0m\n\u001b[1;32m     15\u001b[0m         \u001b[0mrcen\u001b[0m\u001b[0;34m,\u001b[0m \u001b[0mpcen\u001b[0m \u001b[0;34m=\u001b[0m \u001b[0mR\u001b[0m\u001b[0;34m.\u001b[0m\u001b[0mget_centres\u001b[0m\u001b[0;34m(\u001b[0m\u001b[0;34m)\u001b[0m\u001b[0;34m\u001b[0m\u001b[0;34m\u001b[0m\u001b[0m\n",
      "\u001b[0;32m/tmp/ipykernel_6857/2895379974.py\u001b[0m in \u001b[0;36mcalculate_centres_and_signatures\u001b[0;34m(self)\u001b[0m\n\u001b[1;32m    163\u001b[0m         \u001b[0mReturns\u001b[0m \u001b[0;32mNone\u001b[0m\u001b[0;34m\u001b[0m\u001b[0;34m\u001b[0m\u001b[0m\n\u001b[1;32m    164\u001b[0m         '''\n\u001b[0;32m--> 165\u001b[0;31m         \u001b[0mmcs\u001b[0m \u001b[0;34m=\u001b[0m \u001b[0mself\u001b[0m\u001b[0;34m.\u001b[0m\u001b[0m_GetMCS\u001b[0m\u001b[0;34m(\u001b[0m\u001b[0;34m)\u001b[0m\u001b[0;34m\u001b[0m\u001b[0;34m\u001b[0m\u001b[0m\n\u001b[0m\u001b[1;32m    166\u001b[0m         \u001b[0mdisplay\u001b[0m\u001b[0;34m(\u001b[0m\u001b[0mmcs\u001b[0m\u001b[0;34m)\u001b[0m\u001b[0;34m\u001b[0m\u001b[0;34m\u001b[0m\u001b[0m\n\u001b[1;32m    167\u001b[0m         \u001b[0;32mif\u001b[0m \u001b[0mself\u001b[0m\u001b[0;34m.\u001b[0m\u001b[0mdebug\u001b[0m\u001b[0;34m:\u001b[0m\u001b[0;34m\u001b[0m\u001b[0;34m\u001b[0m\u001b[0m\n",
      "\u001b[0;32m/tmp/ipykernel_6857/2895379974.py\u001b[0m in \u001b[0;36m_GetMCS\u001b[0;34m(self)\u001b[0m\n\u001b[1;32m    148\u001b[0m     \u001b[0;32mdef\u001b[0m \u001b[0m_GetMCS\u001b[0m\u001b[0;34m(\u001b[0m\u001b[0mself\u001b[0m\u001b[0;34m)\u001b[0m\u001b[0;34m:\u001b[0m\u001b[0;34m\u001b[0m\u001b[0;34m\u001b[0m\u001b[0m\n\u001b[1;32m    149\u001b[0m         \u001b[0;34m'''Get the Maximum common subsequence from reactant and product'''\u001b[0m\u001b[0;34m\u001b[0m\u001b[0;34m\u001b[0m\u001b[0m\n\u001b[0;32m--> 150\u001b[0;31m         \u001b[0mmcs\u001b[0m \u001b[0;34m=\u001b[0m \u001b[0mrdFMCS\u001b[0m\u001b[0;34m.\u001b[0m\u001b[0mFindMCS\u001b[0m\u001b[0;34m(\u001b[0m\u001b[0;34m[\u001b[0m\u001b[0mself\u001b[0m\u001b[0;34m.\u001b[0m\u001b[0mreactant\u001b[0m\u001b[0;34m.\u001b[0m\u001b[0mmol\u001b[0m\u001b[0;34m,\u001b[0m \u001b[0mself\u001b[0m\u001b[0;34m.\u001b[0m\u001b[0mproduct\u001b[0m\u001b[0;34m.\u001b[0m\u001b[0mmol\u001b[0m\u001b[0;34m]\u001b[0m\u001b[0;34m)\u001b[0m\u001b[0;34m\u001b[0m\u001b[0;34m\u001b[0m\u001b[0m\n\u001b[0m\u001b[1;32m    151\u001b[0m         \u001b[0;32mreturn\u001b[0m \u001b[0mChem\u001b[0m\u001b[0;34m.\u001b[0m\u001b[0mMolFromSmarts\u001b[0m\u001b[0;34m(\u001b[0m\u001b[0mmcs\u001b[0m\u001b[0;34m.\u001b[0m\u001b[0msmartsString\u001b[0m\u001b[0;34m)\u001b[0m\u001b[0;34m\u001b[0m\u001b[0;34m\u001b[0m\u001b[0m\n\u001b[1;32m    152\u001b[0m \u001b[0;34m\u001b[0m\u001b[0m\n",
      "\u001b[0;31mKeyboardInterrupt\u001b[0m: "
     ]
    }
   ],
   "source": [
    "rsig_list = []\n",
    "psig_list = []\n",
    "rcen_list = []\n",
    "pcen_list = []\n",
    "\n",
    "n = 259430\n",
    "for i in range(n, n+100):\n",
    "#     if i not in [487]:\n",
    "        mol1 = Chem.MolFromSmiles(dataset[\"reactants\"].iloc[i])\n",
    "        mol2 = Chem.MolFromSmiles(dataset[\"products\"].iloc[i])\n",
    "\n",
    "        R = Reaction(mol1, mol2)\n",
    "        R.calculate_centres_and_signatures()\n",
    "\n",
    "        rcen, pcen = R.get_centres()\n",
    "        rsig, psig = R.get_smiles_signatures()\n",
    "\n",
    "        rsig_list.append(rsig)\n",
    "        psig_list.append(psig)    \n",
    "        rcen_list.append(rcen)    \n",
    "        pcen_list.append(pcen)    \n",
    "\n",
    "        print(i)"
   ]
  },
  {
   "cell_type": "code",
   "execution_count": 28,
   "metadata": {},
   "outputs": [
    {
     "data": {
      "text/plain": [
       "True"
      ]
     },
     "execution_count": 28,
     "metadata": {},
     "output_type": "execute_result"
    }
   ],
   "source": [
    "a.GetIsAromatic()"
   ]
  },
  {
   "cell_type": "code",
   "execution_count": 33,
   "metadata": {},
   "outputs": [],
   "source": [
    "df = dataset.iloc[:100]\n",
    "\n",
    "df = df.drop(\"reagents\", axis=1)"
   ]
  },
  {
   "cell_type": "code",
   "execution_count": 36,
   "metadata": {},
   "outputs": [],
   "source": [
    "df[\"rsig\"] = rsig_list\n",
    "df[\"psig\"] = psig_list\n",
    "df[\"rcen\"] = rcen_list\n",
    "df[\"pcen\"] = pcen_list"
   ]
  }
 ],
 "metadata": {
  "kernelspec": {
   "display_name": "Python 3 (ipykernel)",
   "language": "python",
   "name": "python3"
  },
  "language_info": {
   "codemirror_mode": {
    "name": "ipython",
    "version": 3
   },
   "file_extension": ".py",
   "mimetype": "text/x-python",
   "name": "python",
   "nbconvert_exporter": "python",
   "pygments_lexer": "ipython3",
   "version": "3.7.13"
  }
 },
 "nbformat": 4,
 "nbformat_minor": 2
}
