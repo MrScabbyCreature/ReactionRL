{
 "cells": [
  {
   "cell_type": "code",
   "execution_count": 1,
   "id": "c1cfa57a",
   "metadata": {
    "tags": []
   },
   "outputs": [],
   "source": [
    "%run supervised_functions.ipynb"
   ]
  },
  {
   "cell_type": "markdown",
   "id": "758d230b",
   "metadata": {},
   "source": [
    "# Generate data"
   ]
  },
  {
   "cell_type": "code",
   "execution_count": 2,
   "id": "536ae7f8",
   "metadata": {
    "tags": []
   },
   "outputs": [],
   "source": [
    "start_mols = pickle.load(open(\"datasets/my_uspto/unique_start_mols.pickle\", 'rb'))"
   ]
  },
  {
   "cell_type": "code",
   "execution_count": 3,
   "id": "322bdda4",
   "metadata": {},
   "outputs": [
    {
     "name": "stderr",
     "output_type": "stream",
     "text": [
      "107702it [01:59, 902.27it/s]                                                                         \n"
     ]
    },
    {
     "name": "stdout",
     "output_type": "stream",
     "text": [
      "(107702, 10)\n",
      "(107702, 10)\n"
     ]
    }
   ],
   "source": [
    "np.random.seed(42)\n",
    "\n",
    "N = 100000\n",
    "steps = 5\n",
    "\n",
    "df_list = []\n",
    "final_shape = 0\n",
    "smiles_per_random_sample = 1000\n",
    "pool_chunk_size = 10\n",
    "\n",
    "# Create dataset for multi-step pred\n",
    "with Pool(30) as p, tqdm.tqdm(total=N) as pbar:\n",
    "    while final_shape < N:\n",
    "        smiles = np.random.choice(start_mols, size=(smiles_per_random_sample,))\n",
    "\n",
    "        for new_df in p.imap_unordered(functools.partial(generate_train_data, steps=steps), smiles, chunksize=10):\n",
    "            df_list.append(new_df)\n",
    "            final_shape += new_df.shape[0]\n",
    "            \n",
    "        pbar.update(final_shape - pbar.n)\n",
    "\n",
    "main_df = pd.concat(df_list)\n",
    "del df_list\n",
    "print(main_df.shape)\n",
    "\n",
    "# randomize\n",
    "main_df = pd.concat([main_df[:int(main_df.shape[0]*0.8)].sample(frac=1), main_df[int(main_df.shape[0]*0.8):].sample(frac=1)])\n",
    "print(main_df.shape)"
   ]
  },
  {
   "cell_type": "markdown",
   "id": "56d58b5a",
   "metadata": {},
   "source": [
    "# Networks"
   ]
  },
  {
   "cell_type": "code",
   "execution_count": 4,
   "id": "3432cfc9",
   "metadata": {
    "tags": []
   },
   "outputs": [],
   "source": [
    "device = torch.device(\"cuda:3\" if torch.cuda.is_available() else \"cpu\")"
   ]
  },
  {
   "cell_type": "markdown",
   "id": "58bb759a",
   "metadata": {},
   "source": [
    "# Helper stuff"
   ]
  },
  {
   "cell_type": "code",
   "execution_count": 5,
   "id": "cf8b1d7c",
   "metadata": {},
   "outputs": [
    {
     "name": "stdout",
     "output_type": "stream",
     "text": [
      "(89384, 8)\n"
     ]
    },
    {
     "name": "stderr",
     "output_type": "stream",
     "text": [
      "/home/abhor/miniconda3/envs/de_novo/lib/python3.7/site-packages/torchdrug-0.2.0-py3.7.egg/torchdrug/data/feature.py:42: UserWarning: Unknown value `Li`\n",
      "  warnings.warn(\"Unknown value `%s`\" % x)\n",
      "/home/abhor/miniconda3/envs/de_novo/lib/python3.7/site-packages/torchdrug-0.2.0-py3.7.egg/torchdrug/data/feature.py:42: UserWarning: Unknown value `Ge`\n",
      "  warnings.warn(\"Unknown value `%s`\" % x)\n",
      "/home/abhor/miniconda3/envs/de_novo/lib/python3.7/site-packages/torchdrug-0.2.0-py3.7.egg/torchdrug/data/feature.py:42: UserWarning: Unknown value `K`\n",
      "  warnings.warn(\"Unknown value `%s`\" % x)\n",
      "/home/abhor/miniconda3/envs/de_novo/lib/python3.7/site-packages/torchdrug-0.2.0-py3.7.egg/torchdrug/data/feature.py:42: UserWarning: Unknown value `Na`\n",
      "  warnings.warn(\"Unknown value `%s`\" % x)\n",
      "/home/abhor/miniconda3/envs/de_novo/lib/python3.7/site-packages/torchdrug-0.2.0-py3.7.egg/torchdrug/data/feature.py:42: UserWarning: Unknown value `Ti`\n",
      "  warnings.warn(\"Unknown value `%s`\" % x)\n",
      "/home/abhor/miniconda3/envs/de_novo/lib/python3.7/site-packages/torchdrug-0.2.0-py3.7.egg/torchdrug/data/feature.py:42: UserWarning: Unknown value `Pb`\n",
      "  warnings.warn(\"Unknown value `%s`\" % x)\n",
      "/home/abhor/miniconda3/envs/de_novo/lib/python3.7/site-packages/torchdrug-0.2.0-py3.7.egg/torchdrug/data/feature.py:42: UserWarning: Unknown value `Al`\n",
      "  warnings.warn(\"Unknown value `%s`\" % x)\n",
      "/home/abhor/miniconda3/envs/de_novo/lib/python3.7/site-packages/torchdrug-0.2.0-py3.7.egg/torchdrug/data/feature.py:42: UserWarning: Unknown value `Ga`\n",
      "  warnings.warn(\"Unknown value `%s`\" % x)\n",
      "/home/abhor/miniconda3/envs/de_novo/lib/python3.7/site-packages/torchdrug-0.2.0-py3.7.egg/torchdrug/data/feature.py:42: UserWarning: Unknown value `Ru`\n",
      "  warnings.warn(\"Unknown value `%s`\" % x)\n",
      "/home/abhor/miniconda3/envs/de_novo/lib/python3.7/site-packages/torchdrug-0.2.0-py3.7.egg/torchdrug/data/feature.py:42: UserWarning: Unknown value `Ta`\n",
      "  warnings.warn(\"Unknown value `%s`\" % x)\n",
      "/home/abhor/miniconda3/envs/de_novo/lib/python3.7/site-packages/torchdrug-0.2.0-py3.7.egg/torchdrug/data/feature.py:42: UserWarning: Unknown value `As`\n",
      "  warnings.warn(\"Unknown value `%s`\" % x)\n",
      "/home/abhor/miniconda3/envs/de_novo/lib/python3.7/site-packages/torchdrug-0.2.0-py3.7.egg/torchdrug/data/feature.py:42: UserWarning: Unknown value `Cr`\n",
      "  warnings.warn(\"Unknown value `%s`\" % x)\n",
      "/home/abhor/miniconda3/envs/de_novo/lib/python3.7/site-packages/torchdrug-0.2.0-py3.7.egg/torchdrug/data/feature.py:42: UserWarning: Unknown value `Cd`\n",
      "  warnings.warn(\"Unknown value `%s`\" % x)\n",
      "/home/abhor/miniconda3/envs/de_novo/lib/python3.7/site-packages/torchdrug-0.2.0-py3.7.egg/torchdrug/data/feature.py:42: UserWarning: Unknown value `Pt`\n",
      "  warnings.warn(\"Unknown value `%s`\" % x)\n"
     ]
    },
    {
     "name": "stdout",
     "output_type": "stream",
     "text": [
      "CPU times: user 3min 31s, sys: 5.35 s, total: 3min 36s\n",
      "Wall time: 3min 21s\n"
     ]
    }
   ],
   "source": [
    "%%time\n",
    "action_dataset = pd.read_csv(\"datasets/my_uspto/action_dataset-filtered.csv\", index_col=0)\n",
    "action_dataset = action_dataset.loc[action_dataset[\"action_tested\"] & action_dataset[\"action_works\"]]\n",
    "action_dataset = action_dataset[[\"rsub\", \"rcen\", \"rsig\", \"rbond\", \"psub\", \"pcen\", \"psig\", \"pbond\"]]\n",
    "print(action_dataset.shape)\n",
    "\n",
    "action_rsigs = data.Molecule.pack(list(map(molecule_from_smile, action_dataset[\"rsig\"])))\n",
    "action_psigs = data.Molecule.pack(list(map(molecule_from_smile, action_dataset[\"psig\"])))"
   ]
  },
  {
   "cell_type": "code",
   "execution_count": 6,
   "id": "76237cfb",
   "metadata": {},
   "outputs": [
    {
     "name": "stderr",
     "output_type": "stream",
     "text": [
      "100%|███████████████████████████████████████████████████████| 107702/107702 [04:22<00:00, 409.66it/s]\n"
     ]
    }
   ],
   "source": [
    "# I'm storing as lists, so doing numpy operations for the elements\n",
    "correct_applicable_indices = []\n",
    "correct_action_dataset_indices = []\n",
    "action_embedding_indices = []\n",
    "\n",
    "# for indices_used_for_data, correct_idx in tqdm.tqdm(map(get_emb_indices_and_correct_idx, main_df.iterrows()), total=main_df.shape[0]):\n",
    "with Pool(20) as p:\n",
    "    for indices_used_for_data, correct_app_idx, correct_act_idx in tqdm.tqdm(p.imap(get_emb_indices_and_correct_idx, main_df.iterrows(), chunksize=50), total=main_df.shape[0]):\n",
    "        action_embedding_indices.append(indices_used_for_data)\n",
    "        correct_applicable_indices.append(correct_app_idx)\n",
    "        correct_action_dataset_indices.append(correct_act_idx)"
   ]
  },
  {
   "cell_type": "markdown",
   "id": "5b6e7a90",
   "metadata": {},
   "source": [
    "# Training"
   ]
  },
  {
   "cell_type": "code",
   "execution_count": 40,
   "id": "5dd7007b",
   "metadata": {},
   "outputs": [],
   "source": [
    "train_idx = np.arange(0, int(main_df.shape[0]*0.8))\n",
    "test_idx = np.arange(int(main_df.shape[0]*0.8), main_df.shape[0])"
   ]
  },
  {
   "cell_type": "markdown",
   "id": "7d4e7968",
   "metadata": {},
   "source": [
    "train_idx = torch.arange(0, int(main_df.shape[0]*0.8))[:500]\n",
    "test_idx = torch.arange(int(main_df.shape[0]*0.8), main_df.shape[0])[-200:]"
   ]
  },
  {
   "cell_type": "code",
   "execution_count": 41,
   "id": "35299712",
   "metadata": {},
   "outputs": [
    {
     "name": "stderr",
     "output_type": "stream",
     "text": [
      "/home/abhor/miniconda3/envs/de_novo/lib/python3.7/site-packages/torchdrug-0.2.0-py3.7.egg/torchdrug/data/feature.py:42: UserWarning: Unknown value `Li`\n",
      "  warnings.warn(\"Unknown value `%s`\" % x)\n",
      "/home/abhor/miniconda3/envs/de_novo/lib/python3.7/site-packages/torchdrug-0.2.0-py3.7.egg/torchdrug/data/feature.py:42: UserWarning: Unknown value `Pb`\n",
      "  warnings.warn(\"Unknown value `%s`\" % x)\n",
      "/home/abhor/miniconda3/envs/de_novo/lib/python3.7/site-packages/torchdrug-0.2.0-py3.7.egg/torchdrug/data/feature.py:42: UserWarning: Unknown value `As`\n",
      "  warnings.warn(\"Unknown value `%s`\" % x)\n",
      "/home/abhor/miniconda3/envs/de_novo/lib/python3.7/site-packages/torchdrug-0.2.0-py3.7.egg/torchdrug/data/feature.py:42: UserWarning: Unknown value `Ga`\n",
      "  warnings.warn(\"Unknown value `%s`\" % x)\n",
      "/home/abhor/miniconda3/envs/de_novo/lib/python3.7/site-packages/torchdrug-0.2.0-py3.7.egg/torchdrug/data/feature.py:42: UserWarning: Unknown value `Al`\n",
      "  warnings.warn(\"Unknown value `%s`\" % x)\n"
     ]
    },
    {
     "name": "stdout",
     "output_type": "stream",
     "text": [
      "86161 86161 86161 86161\n",
      "21541 21541 21541 21541\n",
      "CPU times: user 11min 20s, sys: 26.5 s, total: 11min 47s\n",
      "Wall time: 11min 4s\n"
     ]
    }
   ],
   "source": [
    "%%time\n",
    "%matplotlib inline\n",
    "train_reactants = data.Molecule.pack(list(map(molecule_from_smile, main_df.iloc[train_idx][\"reactant\"]))).to(device)\n",
    "train_products = data.Molecule.pack(list(map(molecule_from_smile, main_df.iloc[train_idx][\"product\"]))).to(device)\n",
    "train_rsigs = data.Molecule.pack(list(map(molecule_from_smile, main_df.iloc[train_idx][\"rsig\"]))).to(device)\n",
    "train_psigs = data.Molecule.pack(list(map(molecule_from_smile, main_df.iloc[train_idx][\"psig\"]))).to(device)\n",
    "\n",
    "test_reactants = data.Molecule.pack(list(map(molecule_from_smile, main_df.iloc[test_idx][\"reactant\"]))).to(device)\n",
    "test_products = data.Molecule.pack(list(map(molecule_from_smile, main_df.iloc[test_idx][\"product\"]))).to(device)\n",
    "test_rsigs = data.Molecule.pack(list(map(molecule_from_smile, main_df.iloc[test_idx][\"rsig\"]))).to(device)\n",
    "test_psigs = data.Molecule.pack(list(map(molecule_from_smile, main_df.iloc[test_idx][\"psig\"]))).to(device)\n",
    "\n",
    "print(train_reactants.batch_size, train_products.batch_size, train_rsigs.batch_size, train_psigs.batch_size)\n",
    "print(test_reactants.batch_size, test_products.batch_size, test_rsigs.batch_size, test_psigs.batch_size)"
   ]
  },
  {
   "cell_type": "code",
   "execution_count": 42,
   "id": "6c6c56fb",
   "metadata": {
    "scrolled": true
   },
   "outputs": [
    {
     "name": "stdout",
     "output_type": "stream",
     "text": [
      "@@@@@@@@@@@@@@@@@@@@@@@@@@@@@@@@@@@@@@@@@@@@@@@@@@@@@@@@@@@@@@@@@@@@@@@@@@@@@@@@@@@@@@@@@@@@@@@@@@@@@@@@@@@@@@@@@@@@@@@@@@@@@@@@@@@@@@@@@@@@@@@@@@@@@@@@@@@@@@@@@@@@@@@@@@@@@@@@@@@@@@@@@@@@@@\n",
      "@@@@@@@@@@@@@@@@@@@@@@@@@@@@@@@@@@@@@@@@@@@@@@@@@@@@@@@@@@@@@@@@@@@@@@@@@@@@@@@@@@@@@@@@@@@@@@@@@@@@@@@@@@@@@@@@@@@@@@@@@@@@@@@@@@@@@@@@@@@@@@@@@@@@@@@@@@@@@@@@@@@@@@@@@@@@@@@@@@@@@@@@@@@@@@\n",
      "@@@@@@@@@@@@@@@@@@@@@@@@@@@@@@@@@@@@@@@@@@@@@@@@@@@@@@@@@@@@@@@@@@@@@@@@@@@@@@@@@@@@@@@@@@@@@@@@@@@@@@@@@@@@@@@@@@@@@@@@@@@@@@@@@@@@@@@@@@@@@@@@@@@@@@@@@@@@@@@@@@@@@@@@@@@@@@@@@@@@@@@@@@@@@@\n"
     ]
    },
    {
     "name": "stderr",
     "output_type": "stream",
     "text": [
      "100%|████████████████████████████████████████████████████████████████| 44/44 [00:04<00:00,  9.14it/s]\n"
     ]
    },
    {
     "name": "stdout",
     "output_type": "stream",
     "text": [
      "Epoch 1/50. Batch 86016/86033. Train loss = 0.082570\n",
      "\n"
     ]
    },
    {
     "name": "stderr",
     "output_type": "stream",
     "text": [
      "100%|████████████████████████████████████████████████████████████████| 44/44 [00:04<00:00,  9.82it/s]\n"
     ]
    },
    {
     "name": "stdout",
     "output_type": "stream",
     "text": [
      "╒════╤══════════╤══════════╤═══════════╤═══════════╤══════════════╤══════════════╤═══════════════╤═════════════╤════════════╤════════════╤═════════════╤═══════════╤═════════════════════════╕\n",
      "│    │   GT_acc │   GT_rec │   GT_prec │     GT_f1 │   others_acc │   others_rec │   others_prec │   others_f1 │   mean_acc │   mean_rec │   mean_prec │   mean_f1 │ time(epoch_start-now)   │\n",
      "╞════╪══════════╪══════════╪═══════════╪═══════════╪══════════════╪══════════════╪═══════════════╪═════════════╪════════════╪════════════╪═════════════╪═══════════╪═════════════════════════╡\n",
      "│  1 │ 0.023856 │ 0.023856 │         1 │ 0.0466004 │     0.992188 │     0.992188 │             1 │    0.996078 │   0.508022 │   0.023856 │    0.753304 │ 0.0462475 │ 8.72 min                │\n",
      "╘════╧══════════╧══════════╧═══════════╧═══════════╧══════════════╧══════════════╧═══════════════╧═════════════╧════════════╧════════════╧═════════════╧═══════════╧═════════════════════════╛\n",
      "\n",
      "BEST MODEL UPDATED! BEST GT_f1 = 0.046600354271699146\n",
      "Epoch 2/50. Batch 86016/86033. Train loss = 0.073857\n",
      "\n"
     ]
    },
    {
     "name": "stderr",
     "output_type": "stream",
     "text": [
      "100%|████████████████████████████████████████████████████████████████| 44/44 [00:04<00:00,  9.92it/s]\n"
     ]
    },
    {
     "name": "stdout",
     "output_type": "stream",
     "text": [
      "╒════╤═══════════╤═══════════╤═══════════╤══════════╤══════════════╤══════════════╤═══════════════╤═════════════╤════════════╤════════════╤═════════════╤═══════════╤═════════════════════════╕\n",
      "│    │    GT_acc │    GT_rec │   GT_prec │    GT_f1 │   others_acc │   others_rec │   others_prec │   others_f1 │   mean_acc │   mean_rec │   mean_prec │   mean_f1 │ time(epoch_start-now)   │\n",
      "╞════╪═══════════╪═══════════╪═══════════╪══════════╪══════════════╪══════════════╪═══════════════╪═════════════╪════════════╪════════════╪═════════════╪═══════════╪═════════════════════════╡\n",
      "│  2 │ 0.0560826 │ 0.0560826 │         1 │ 0.106209 │      0.99149 │      0.99149 │             1 │    0.995727 │   0.523786 │  0.0560826 │    0.868251 │   0.10536 │ 8.33 min                │\n",
      "╘════╧═══════════╧═══════════╧═══════════╧══════════╧══════════════╧══════════════╧═══════════════╧═════════════╧════════════╧════════════╧═════════════╧═══════════╧═════════════════════════╛\n",
      "\n",
      "BEST MODEL UPDATED! BEST GT_f1 = 0.1062087186261559\n",
      "Epoch 3/50. Batch 86016/86033. Train loss = 0.065239\n",
      "\n"
     ]
    },
    {
     "name": "stderr",
     "output_type": "stream",
     "text": [
      "100%|████████████████████████████████████████████████████████████████| 44/44 [00:04<00:00, 10.28it/s]\n"
     ]
    },
    {
     "name": "stdout",
     "output_type": "stream",
     "text": [
      "╒════╤══════════╤══════════╤═══════════╤══════════╤══════════════╤══════════════╤═══════════════╤═════════════╤════════════╤════════════╤═════════════╤═══════════╤═════════════════════════╕\n",
      "│    │   GT_acc │   GT_rec │   GT_prec │    GT_f1 │   others_acc │   others_rec │   others_prec │   others_f1 │   mean_acc │   mean_rec │   mean_prec │   mean_f1 │ time(epoch_start-now)   │\n",
      "╞════╪══════════╪══════════╪═══════════╪══════════╪══════════════╪══════════════╪═══════════════╪═════════════╪════════════╪════════════╪═════════════╪═══════════╪═════════════════════════╡\n",
      "│  3 │ 0.120536 │ 0.120536 │         1 │ 0.215139 │     0.985166 │     0.985166 │             1 │    0.992527 │   0.552851 │   0.120536 │    0.890416 │  0.212328 │ 7.78 min                │\n",
      "╘════╧══════════╧══════════╧═══════════╧══════════╧══════════════╧══════════════╧═══════════════╧═════════════╧════════════╧════════════╧═════════════╧═══════════╧═════════════════════════╛\n",
      "\n",
      "BEST MODEL UPDATED! BEST GT_f1 = 0.21513944223107573\n",
      "Epoch 4/50. Batch 86016/86033. Train loss = 0.057269\n",
      "\n"
     ]
    },
    {
     "name": "stderr",
     "output_type": "stream",
     "text": [
      "100%|████████████████████████████████████████████████████████████████| 44/44 [00:04<00:00, 10.01it/s]\n"
     ]
    },
    {
     "name": "stdout",
     "output_type": "stream",
     "text": [
      "╒════╤══════════╤══════════╤═══════════╤══════════╤══════════════╤══════════════╤═══════════════╤═════════════╤════════════╤════════════╤═════════════╤═══════════╤═════════════════════════╕\n",
      "│    │   GT_acc │   GT_rec │   GT_prec │    GT_f1 │   others_acc │   others_rec │   others_prec │   others_f1 │   mean_acc │   mean_rec │   mean_prec │   mean_f1 │ time(epoch_start-now)   │\n",
      "╞════╪══════════╪══════════╪═══════════╪══════════╪══════════════╪══════════════╪═══════════════╪═════════════╪════════════╪════════════╪═════════════╪═══════════╪═════════════════════════╡\n",
      "│  4 │  0.18936 │  0.18936 │         1 │ 0.318424 │     0.972563 │     0.972563 │             1 │    0.986091 │   0.580962 │    0.18936 │    0.873445 │  0.311244 │ 7.96 min                │\n",
      "╘════╧══════════╧══════════╧═══════════╧══════════╧══════════════╧══════════════╧═══════════════╧═════════════╧════════════╧════════════╧═════════════╧═══════════╧═════════════════════════╛\n",
      "\n",
      "BEST MODEL UPDATED! BEST GT_f1 = 0.31842352205192365\n",
      "Epoch 5/50. Batch 86016/86033. Train loss = 0.055532\n",
      "\n"
     ]
    },
    {
     "name": "stderr",
     "output_type": "stream",
     "text": [
      "100%|████████████████████████████████████████████████████████████████| 44/44 [00:04<00:00, 10.16it/s]\n"
     ]
    },
    {
     "name": "stdout",
     "output_type": "stream",
     "text": [
      "╒════╤══════════╤══════════╤═══════════╤══════════╤══════════════╤══════════════╤═══════════════╤═════════════╤════════════╤════════════╤═════════════╤═══════════╤═════════════════════════╕\n",
      "│    │   GT_acc │   GT_rec │   GT_prec │    GT_f1 │   others_acc │   others_rec │   others_prec │   others_f1 │   mean_acc │   mean_rec │   mean_prec │   mean_f1 │ time(epoch_start-now)   │\n",
      "╞════╪══════════╪══════════╪═══════════╪══════════╪══════════════╪══════════════╪═══════════════╪═════════════╪════════════╪════════════╪═════════════╪═══════════╪═════════════════════════╡\n",
      "│  5 │ 0.222145 │ 0.222145 │         1 │ 0.363533 │     0.966471 │     0.966471 │             1 │     0.98295 │   0.594308 │   0.222145 │    0.868861 │  0.353826 │ 8.51 min                │\n",
      "╘════╧══════════╧══════════╧═══════════╧══════════╧══════════════╧══════════════╧═══════════════╧═════════════╧════════════╧════════════╧═════════════╧═══════════╧═════════════════════════╛\n",
      "\n",
      "BEST MODEL UPDATED! BEST GT_f1 = 0.3635325900840912\n",
      "Epoch 6/50. Batch 86016/86033. Train loss = 0.048330\n",
      "\n"
     ]
    },
    {
     "name": "stderr",
     "output_type": "stream",
     "text": [
      "100%|████████████████████████████████████████████████████████████████| 44/44 [00:04<00:00,  9.63it/s]\n"
     ]
    },
    {
     "name": "stdout",
     "output_type": "stream",
     "text": [
      "╒════╤══════════╤══════════╤═══════════╤══════════╤══════════════╤══════════════╤═══════════════╤═════════════╤════════════╤════════════╤═════════════╤═══════════╤═════════════════════════╕\n",
      "│    │   GT_acc │   GT_rec │   GT_prec │    GT_f1 │   others_acc │   others_rec │   others_prec │   others_f1 │   mean_acc │   mean_rec │   mean_prec │   mean_f1 │ time(epoch_start-now)   │\n",
      "╞════╪══════════╪══════════╪═══════════╪══════════╪══════════════╪══════════════╪═══════════════╪═════════════╪════════════╪════════════╪═════════════╪═══════════╪═════════════════════════╡\n",
      "│  6 │ 0.238281 │ 0.238281 │         1 │ 0.384858 │     0.970285 │     0.970285 │             1 │    0.984918 │   0.604283 │   0.238281 │     0.88912 │  0.375839 │ 8.57 min                │\n",
      "╘════╧══════════╧══════════╧═══════════╧══════════╧══════════════╧══════════════╧═══════════════╧═════════════╧════════════╧════════════╧═════════════╧═══════════╧═════════════════════════╛\n",
      "\n",
      "BEST MODEL UPDATED! BEST GT_f1 = 0.38485804416403785\n",
      "Epoch 7/50. Batch 86016/86033. Train loss = 0.051093\n",
      "\n"
     ]
    },
    {
     "name": "stderr",
     "output_type": "stream",
     "text": [
      "100%|████████████████████████████████████████████████████████████████| 44/44 [00:04<00:00,  9.67it/s]\n"
     ]
    },
    {
     "name": "stdout",
     "output_type": "stream",
     "text": [
      "╒════╤══════════╤══════════╤═══════════╤═════════╤══════════════╤══════════════╤═══════════════╤═════════════╤════════════╤════════════╤═════════════╤═══════════╤═════════════════════════╕\n",
      "│    │   GT_acc │   GT_rec │   GT_prec │   GT_f1 │   others_acc │   others_rec │   others_prec │   others_f1 │   mean_acc │   mean_rec │   mean_prec │   mean_f1 │ time(epoch_start-now)   │\n",
      "╞════╪══════════╪══════════╪═══════════╪═════════╪══════════════╪══════════════╪═══════════════╪═════════════╪════════════╪════════════╪═════════════╪═══════════╪═════════════════════════╡\n",
      "│  7 │ 0.349609 │ 0.349609 │         1 │ 0.51809 │     0.935593 │     0.935593 │             1 │    0.966725 │   0.642601 │   0.349609 │    0.844434 │  0.494491 │ 8.48 min                │\n",
      "╘════╧══════════╧══════════╧═══════════╧═════════╧══════════════╧══════════════╧═══════════════╧═════════════╧════════════╧════════════╧═════════════╧═══════════╧═════════════════════════╛\n",
      "\n",
      "BEST MODEL UPDATED! BEST GT_f1 = 0.5180897250361794\n",
      "Epoch 8/50. Batch 86016/86033. Train loss = 0.047459\n",
      "\n"
     ]
    },
    {
     "name": "stderr",
     "output_type": "stream",
     "text": [
      "100%|████████████████████████████████████████████████████████████████| 44/44 [00:04<00:00,  9.53it/s]\n"
     ]
    },
    {
     "name": "stdout",
     "output_type": "stream",
     "text": [
      "╒════╤══════════╤══════════╤═══════════╤══════════╤══════════════╤══════════════╤═══════════════╤═════════════╤════════════╤════════════╤═════════════╤═══════════╤═════════════════════════╕\n",
      "│    │   GT_acc │   GT_rec │   GT_prec │    GT_f1 │   others_acc │   others_rec │   others_prec │   others_f1 │   mean_acc │   mean_rec │   mean_prec │   mean_f1 │ time(epoch_start-now)   │\n",
      "╞════╪══════════╪══════════╪═══════════╪══════════╪══════════════╪══════════════╪═══════════════╪═════════════╪════════════╪════════════╪═════════════╪═══════════╪═════════════════════════╡\n",
      "│  8 │ 0.333287 │ 0.333287 │         1 │ 0.499948 │     0.946847 │     0.946847 │             1 │    0.972698 │   0.640067 │   0.333287 │    0.862455 │  0.480781 │ 8.53 min                │\n",
      "╘════╧══════════╧══════════╧═══════════╧══════════╧══════════════╧══════════════╧═══════════════╧═════════════╧════════════╧════════════╧═════════════╧═══════════╧═════════════════════════╛\n",
      "\n",
      "Epoch 9/50. Batch 86016/86033. Train loss = 0.043039\n",
      "\n"
     ]
    },
    {
     "name": "stderr",
     "output_type": "stream",
     "text": [
      "100%|████████████████████████████████████████████████████████████████| 44/44 [00:04<00:00,  9.41it/s]\n"
     ]
    },
    {
     "name": "stdout",
     "output_type": "stream",
     "text": [
      "╒════╤══════════╤══════════╤═══════════╤══════════╤══════════════╤══════════════╤═══════════════╤═════════════╤════════════╤════════════╤═════════════╤═══════════╤═════════════════════════╕\n",
      "│    │   GT_acc │   GT_rec │   GT_prec │    GT_f1 │   others_acc │   others_rec │   others_prec │   others_f1 │   mean_acc │   mean_rec │   mean_prec │   mean_f1 │ time(epoch_start-now)   │\n",
      "╞════╪══════════╪══════════╪═══════════╪══════════╪══════════════╪══════════════╪═══════════════╪═════════════╪════════════╪════════════╪═════════════╪═══════════╪═════════════════════════╡\n",
      "│  9 │ 0.341843 │ 0.341843 │         1 │ 0.509513 │     0.948289 │     0.948289 │             1 │    0.973458 │   0.645066 │   0.341843 │    0.868605 │  0.490606 │ 8.57 min                │\n",
      "╘════╧══════════╧══════════╧═══════════╧══════════╧══════════════╧══════════════╧═══════════════╧═════════════╧════════════╧════════════╧═════════════╧═══════════╧═════════════════════════╛\n",
      "\n",
      "Epoch 10/50. Batch 86016/86033. Train loss = 0.037270\n",
      "\n"
     ]
    },
    {
     "name": "stderr",
     "output_type": "stream",
     "text": [
      "100%|████████████████████████████████████████████████████████████████| 44/44 [00:04<00:00,  9.78it/s]\n"
     ]
    },
    {
     "name": "stdout",
     "output_type": "stream",
     "text": [
      "╒════╤══════════╤══════════╤═══════════╤══════════╤══════════════╤══════════════╤═══════════════╤═════════════╤════════════╤════════════╤═════════════╤═══════════╤═════════════════════════╕\n",
      "│    │   GT_acc │   GT_rec │   GT_prec │    GT_f1 │   others_acc │   others_rec │   others_prec │   others_f1 │   mean_acc │   mean_rec │   mean_prec │   mean_f1 │ time(epoch_start-now)   │\n",
      "╞════╪══════════╪══════════╪═══════════╪══════════╪══════════════╪══════════════╪═══════════════╪═════════════╪════════════╪════════════╪═════════════╪═══════════╪═════════════════════════╡\n",
      "│ 10 │ 0.426618 │ 0.426618 │         1 │ 0.598083 │     0.923038 │     0.923038 │             1 │    0.959979 │   0.674828 │   0.426618 │     0.84717 │   0.56747 │ 8.35 min                │\n",
      "╘════╧══════════╧══════════╧═══════════╧══════════╧══════════════╧══════════════╧═══════════════╧═════════════╧════════════╧════════════╧═════════════╧═══════════╧═════════════════════════╛\n",
      "\n",
      "BEST MODEL UPDATED! BEST GT_f1 = 0.5980833170350087\n",
      "Epoch 11/50. Batch 86016/86033. Train loss = 0.039138\n",
      "\n"
     ]
    },
    {
     "name": "stderr",
     "output_type": "stream",
     "text": [
      "100%|████████████████████████████████████████████████████████████████| 44/44 [00:04<00:00,  9.82it/s]\n"
     ]
    },
    {
     "name": "stdout",
     "output_type": "stream",
     "text": [
      "╒════╤══════════╤══════════╤═══════════╤══════════╤══════════════╤══════════════╤═══════════════╤═════════════╤════════════╤════════════╤═════════════╤═══════════╤═════════════════════════╕\n",
      "│    │   GT_acc │   GT_rec │   GT_prec │    GT_f1 │   others_acc │   others_rec │   others_prec │   others_f1 │   mean_acc │   mean_rec │   mean_prec │   mean_f1 │ time(epoch_start-now)   │\n",
      "╞════╪══════════╪══════════╪═══════════╪══════════╪══════════════╪══════════════╪═══════════════╪═════════════╪════════════╪════════════╪═════════════╪═══════════╪═════════════════════════╡\n",
      "│ 11 │ 0.355236 │ 0.355236 │         1 │ 0.524243 │      0.94401 │      0.94401 │             1 │    0.971199 │   0.649623 │   0.355236 │    0.863847 │  0.503444 │ 7.99 min                │\n",
      "╘════╧══════════╧══════════╧═══════════╧══════════╧══════════════╧══════════════╧═══════════════╧═════════════╧════════════╧════════════╧═════════════╧═══════════╧═════════════════════════╛\n",
      "\n",
      "Epoch 12/50. Batch 86016/86033. Train loss = 0.035645\n",
      "\n"
     ]
    },
    {
     "name": "stderr",
     "output_type": "stream",
     "text": [
      "100%|████████████████████████████████████████████████████████████████| 44/44 [00:04<00:00,  9.76it/s]\n"
     ]
    },
    {
     "name": "stdout",
     "output_type": "stream",
     "text": [
      "╒════╤══════════╤══════════╤═══════════╤══════════╤══════════════╤══════════════╤═══════════════╤═════════════╤════════════╤════════════╤═════════════╤═══════════╤═════════════════════════╕\n",
      "│    │   GT_acc │   GT_rec │   GT_prec │    GT_f1 │   others_acc │   others_rec │   others_prec │   others_f1 │   mean_acc │   mean_rec │   mean_prec │   mean_f1 │ time(epoch_start-now)   │\n",
      "╞════╪══════════╪══════════╪═══════════╪══════════╪══════════════╪══════════════╪═══════════════╪═════════════╪════════════╪════════════╪═════════════╪═══════════╪═════════════════════════╡\n",
      "│ 12 │ 0.332496 │ 0.332496 │         1 │ 0.499058 │     0.953265 │     0.953265 │             1 │    0.976073 │    0.64288 │   0.332496 │    0.876763 │  0.482147 │ 8.54 min                │\n",
      "╘════╧══════════╧══════════╧═══════════╧══════════╧══════════════╧══════════════╧═══════════════╧═════════════╧════════════╧════════════╧═════════════╧═══════════╧═════════════════════════╛\n",
      "\n",
      "Epoch 13/50. Batch 86016/86033. Train loss = 0.033423\n",
      "\n"
     ]
    },
    {
     "name": "stderr",
     "output_type": "stream",
     "text": [
      "100%|████████████████████████████████████████████████████████████████| 44/44 [00:04<00:00,  9.66it/s]\n"
     ]
    },
    {
     "name": "stdout",
     "output_type": "stream",
     "text": [
      "╒════╤══════════╤══════════╤═══════════╤══════════╤══════════════╤══════════════╤═══════════════╤═════════════╤════════════╤════════════╤═════════════╤═══════════╤═════════════════════════╕\n",
      "│    │   GT_acc │   GT_rec │   GT_prec │    GT_f1 │   others_acc │   others_rec │   others_prec │   others_f1 │   mean_acc │   mean_rec │   mean_prec │   mean_f1 │ time(epoch_start-now)   │\n",
      "╞════╪══════════╪══════════╪═══════════╪══════════╪══════════════╪══════════════╪═══════════════╪═════════════╪════════════╪════════════╪═════════════╪═══════════╪═════════════════════════╡\n",
      "│ 13 │ 0.354492 │ 0.354492 │         1 │ 0.523432 │     0.949637 │     0.949637 │             1 │    0.974168 │   0.652065 │   0.354492 │    0.875603 │  0.504667 │ 8.56 min                │\n",
      "╘════╧══════════╧══════════╧═══════════╧══════════╧══════════════╧══════════════╧═══════════════╧═════════════╧════════════╧════════════╧═════════════╧═══════════╧═════════════════════════╛\n",
      "\n",
      "Epoch 14/50. Batch 86016/86033. Train loss = 0.029611\n",
      "\n"
     ]
    },
    {
     "name": "stderr",
     "output_type": "stream",
     "text": [
      "100%|████████████████████████████████████████████████████████████████| 44/44 [00:04<00:00,  9.57it/s]\n"
     ]
    },
    {
     "name": "stdout",
     "output_type": "stream",
     "text": [
      "╒════╤══════════╤══════════╤═══════════╤══════════╤══════════════╤══════════════╤═══════════════╤═════════════╤════════════╤════════════╤═════════════╤═══════════╤═════════════════════════╕\n",
      "│    │   GT_acc │   GT_rec │   GT_prec │    GT_f1 │   others_acc │   others_rec │   others_prec │   others_f1 │   mean_acc │   mean_rec │   mean_prec │   mean_f1 │ time(epoch_start-now)   │\n",
      "╞════╪══════════╪══════════╪═══════════╪══════════╪══════════════╪══════════════╪═══════════════╪═════════════╪════════════╪════════════╪═════════════╪═══════════╪═════════════════════════╡\n",
      "│ 14 │ 0.393322 │ 0.393322 │         1 │ 0.564582 │     0.940058 │     0.940058 │             1 │    0.969103 │    0.66669 │   0.393322 │    0.867754 │  0.541295 │ 8.45 min                │\n",
      "╘════╧══════════╧══════════╧═══════════╧══════════╧══════════════╧══════════════╧═══════════════╧═════════════╧════════════╧════════════╧═════════════╧═══════════╧═════════════════════════╛\n",
      "\n",
      "Epoch 15/50. Batch 86016/86033. Train loss = 0.031037\n",
      "\n"
     ]
    },
    {
     "name": "stderr",
     "output_type": "stream",
     "text": [
      "100%|████████████████████████████████████████████████████████████████| 44/44 [00:04<00:00,  9.94it/s]\n"
     ]
    },
    {
     "name": "stdout",
     "output_type": "stream",
     "text": [
      "╒════╤══════════╤══════════╤═══════════╤═════════╤══════════════╤══════════════╤═══════════════╤═════════════╤════════════╤════════════╤═════════════╤═══════════╤═════════════════════════╕\n",
      "│    │   GT_acc │   GT_rec │   GT_prec │   GT_f1 │   others_acc │   others_rec │   others_prec │   others_f1 │   mean_acc │   mean_rec │   mean_prec │   mean_f1 │ time(epoch_start-now)   │\n",
      "╞════╪══════════╪══════════╪═══════════╪═════════╪══════════════╪══════════════╪═══════════════╪═════════════╪════════════╪════════════╪═════════════╪═══════════╪═════════════════════════╡\n",
      "│ 15 │ 0.365374 │ 0.365374 │         1 │  0.5352 │      0.94694 │      0.94694 │             1 │    0.972747 │   0.656157 │   0.365374 │    0.873194 │  0.515179 │ 7.91 min                │\n",
      "╘════╧══════════╧══════════╧═══════════╧═════════╧══════════════╧══════════════╧═══════════════╧═════════════╧════════════╧════════════╧═════════════╧═══════════╧═════════════════════════╛\n",
      "\n",
      "Epoch 16/50. Batch 86016/86033. Train loss = 0.030324\n",
      "\n"
     ]
    },
    {
     "name": "stderr",
     "output_type": "stream",
     "text": [
      "100%|████████████████████████████████████████████████████████████████| 44/44 [00:04<00:00,  9.66it/s]\n"
     ]
    },
    {
     "name": "stdout",
     "output_type": "stream",
     "text": [
      "╒════╤══════════╤══════════╤═══════════╤══════════╤══════════════╤══════════════╤═══════════════╤═════════════╤════════════╤════════════╤═════════════╤═══════════╤═════════════════════════╕\n",
      "│    │   GT_acc │   GT_rec │   GT_prec │    GT_f1 │   others_acc │   others_rec │   others_prec │   others_f1 │   mean_acc │   mean_rec │   mean_prec │   mean_f1 │ time(epoch_start-now)   │\n",
      "╞════╪══════════╪══════════╪═══════════╪══════════╪══════════════╪══════════════╪═══════════════╪═════════════╪════════════╪════════════╪═════════════╪═══════════╪═════════════════════════╡\n",
      "│ 16 │ 0.382068 │ 0.382068 │         1 │ 0.552894 │     0.938988 │     0.938988 │             1 │    0.968534 │   0.660528 │   0.382068 │    0.862301 │  0.529518 │ 8.47 min                │\n",
      "╘════╧══════════╧══════════╧═══════════╧══════════╧══════════════╧══════════════╧═══════════════╧═════════════╧════════════╧════════════╧═════════════╧═══════════╧═════════════════════════╛\n",
      "\n",
      "Epoch 17/50. Batch 86016/86033. Train loss = 0.029885\n",
      "\n"
     ]
    },
    {
     "name": "stderr",
     "output_type": "stream",
     "text": [
      "100%|████████████████████████████████████████████████████████████████| 44/44 [00:04<00:00,  9.68it/s]\n"
     ]
    },
    {
     "name": "stdout",
     "output_type": "stream",
     "text": [
      "╒════╤══════════╤══════════╤═══════════╤══════════╤══════════════╤══════════════╤═══════════════╤═════════════╤════════════╤════════════╤═════════════╤═══════════╤═════════════════════════╕\n",
      "│    │   GT_acc │   GT_rec │   GT_prec │    GT_f1 │   others_acc │   others_rec │   others_prec │   others_f1 │   mean_acc │   mean_rec │   mean_prec │   mean_f1 │ time(epoch_start-now)   │\n",
      "╞════╪══════════╪══════════╪═══════════╪══════════╪══════════════╪══════════════╪═══════════════╪═════════════╪════════════╪════════════╪═════════════╪═══════════╪═════════════════════════╡\n",
      "│ 17 │ 0.349935 │ 0.349935 │         1 │ 0.518447 │     0.948335 │     0.948335 │             1 │    0.973483 │   0.649135 │   0.349935 │    0.871352 │  0.499336 │ 8.37 min                │\n",
      "╘════╧══════════╧══════════╧═══════════╧══════════╧══════════════╧══════════════╧═══════════════╧═════════════╧════════════╧════════════╧═════════════╧═══════════╧═════════════════════════╛\n",
      "\n",
      "Epoch 18/50. Batch 86016/86033. Train loss = 0.029658\n",
      "\n"
     ]
    },
    {
     "name": "stderr",
     "output_type": "stream",
     "text": [
      "100%|████████████████████████████████████████████████████████████████| 44/44 [00:04<00:00,  9.56it/s]\n"
     ]
    },
    {
     "name": "stdout",
     "output_type": "stream",
     "text": [
      "╒════╤══════════╤══════════╤═══════════╤══════════╤══════════════╤══════════════╤═══════════════╤═════════════╤════════════╤════════════╤═════════════╤═══════════╤═════════════════════════╕\n",
      "│    │   GT_acc │   GT_rec │   GT_prec │    GT_f1 │   others_acc │   others_rec │   others_prec │   others_f1 │   mean_acc │   mean_rec │   mean_prec │   mean_f1 │ time(epoch_start-now)   │\n",
      "╞════╪══════════╪══════════╪═══════════╪══════════╪══════════════╪══════════════╪═══════════════╪═════════════╪════════════╪════════════╪═════════════╪═══════════╪═════════════════════════╡\n",
      "│ 18 │ 0.389648 │ 0.389648 │         1 │ 0.560787 │     0.942197 │     0.942197 │             1 │    0.970238 │   0.665923 │   0.389648 │    0.870817 │  0.538392 │ 7.79 min                │\n",
      "╘════╧══════════╧══════════╧═══════════╧══════════╧══════════════╧══════════════╧═══════════════╧═════════════╧════════════╧════════════╧═════════════╧═══════════╧═════════════════════════╛\n",
      "\n",
      "Epoch 19/50. Batch 86016/86033. Train loss = 0.028910\n",
      "\n"
     ]
    },
    {
     "name": "stderr",
     "output_type": "stream",
     "text": [
      "100%|████████████████████████████████████████████████████████████████| 44/44 [00:04<00:00,  9.27it/s]\n"
     ]
    },
    {
     "name": "stdout",
     "output_type": "stream",
     "text": [
      "╒════╤══════════╤══════════╤═══════════╤══════════╤══════════════╤══════════════╤═══════════════╤═════════════╤════════════╤════════════╤═════════════╤═══════════╤═════════════════════════╕\n",
      "│    │   GT_acc │   GT_rec │   GT_prec │    GT_f1 │   others_acc │   others_rec │   others_prec │   others_f1 │   mean_acc │   mean_rec │   mean_prec │   mean_f1 │ time(epoch_start-now)   │\n",
      "╞════╪══════════╪══════════╪═══════════╪══════════╪══════════════╪══════════════╪═══════════════╪═════════════╪════════════╪════════════╪═════════════╪═══════════╪═════════════════════════╡\n",
      "│ 19 │ 0.396763 │ 0.396763 │         1 │ 0.568118 │     0.940523 │     0.940523 │             1 │     0.96935 │   0.668643 │   0.396763 │    0.869636 │  0.544915 │ 7.94 min                │\n",
      "╘════╧══════════╧══════════╧═══════════╧══════════╧══════════════╧══════════════╧═══════════════╧═════════════╧════════════╧════════════╧═════════════╧═══════════╧═════════════════════════╛\n",
      "\n",
      "Epoch 20/50. Batch 86016/86033. Train loss = 0.024757\n",
      "\n"
     ]
    },
    {
     "name": "stderr",
     "output_type": "stream",
     "text": [
      "100%|████████████████████████████████████████████████████████████████| 44/44 [00:04<00:00,  9.76it/s]\n"
     ]
    },
    {
     "name": "stdout",
     "output_type": "stream",
     "text": [
      "╒════╤══════════╤══════════╤═══════════╤══════════╤══════════════╤══════════════╤═══════════════╤═════════════╤════════════╤════════════╤═════════════╤═══════════╤═════════════════════════╕\n",
      "│    │   GT_acc │   GT_rec │   GT_prec │    GT_f1 │   others_acc │   others_rec │   others_prec │   others_f1 │   mean_acc │   mean_rec │   mean_prec │   mean_f1 │ time(epoch_start-now)   │\n",
      "╞════╪══════════╪══════════╪═══════════╪══════════╪══════════════╪══════════════╪═══════════════╪═════════════╪════════════╪════════════╪═════════════╪═══════════╪═════════════════════════╡\n",
      "│ 20 │ 0.426944 │ 0.426944 │         1 │ 0.598403 │     0.927827 │     0.927827 │             1 │    0.962563 │   0.677386 │   0.426944 │    0.855399 │  0.569594 │ 8.55 min                │\n",
      "╘════╧══════════╧══════════╧═══════════╧══════════╧══════════════╧══════════════╧═══════════════╧═════════════╧════════════╧════════════╧═════════════╧═══════════╧═════════════════════════╛\n",
      "\n",
      "BEST MODEL UPDATED! BEST GT_f1 = 0.5984031285644452\n",
      "Epoch 21/50. Batch 86016/86033. Train loss = 0.024652\n",
      "\n"
     ]
    },
    {
     "name": "stderr",
     "output_type": "stream",
     "text": [
      "100%|████████████████████████████████████████████████████████████████| 44/44 [00:04<00:00,  9.72it/s]\n"
     ]
    },
    {
     "name": "stdout",
     "output_type": "stream",
     "text": [
      "╒════╤══════════╤══════════╤═══════════╤══════════╤══════════════╤══════════════╤═══════════════╤═════════════╤════════════╤════════════╤═════════════╤═══════════╤═════════════════════════╕\n",
      "│    │   GT_acc │   GT_rec │   GT_prec │    GT_f1 │   others_acc │   others_rec │   others_prec │   others_f1 │   mean_acc │   mean_rec │   mean_prec │   mean_f1 │ time(epoch_start-now)   │\n",
      "╞════╪══════════╪══════════╪═══════════╪══════════╪══════════════╪══════════════╪═══════════════╪═════════════╪════════════╪════════════╪═════════════╪═══════════╪═════════════════════════╡\n",
      "│ 21 │ 0.353051 │ 0.353051 │         1 │ 0.521859 │     0.949265 │     0.949265 │             1 │    0.973972 │   0.651158 │   0.353051 │    0.874352 │  0.502998 │ 8.51 min                │\n",
      "╘════╧══════════╧══════════╧═══════════╧══════════╧══════════════╧══════════════╧═══════════════╧═════════════╧════════════╧════════════╧═════════════╧═══════════╧═════════════════════════╛\n",
      "\n",
      "Epoch 22/50. Batch 86016/86033. Train loss = 0.022421\n",
      "\n"
     ]
    },
    {
     "name": "stderr",
     "output_type": "stream",
     "text": [
      "100%|████████████████████████████████████████████████████████████████| 44/44 [00:04<00:00,  9.83it/s]\n"
     ]
    },
    {
     "name": "stdout",
     "output_type": "stream",
     "text": [
      "╒════╤══════════╤══════════╤═══════════╤══════════╤══════════════╤══════════════╤═══════════════╤═════════════╤════════════╤════════════╤═════════════╤═══════════╤═════════════════════════╕\n",
      "│    │   GT_acc │   GT_rec │   GT_prec │    GT_f1 │   others_acc │   others_rec │   others_prec │   others_f1 │   mean_acc │   mean_rec │   mean_prec │   mean_f1 │ time(epoch_start-now)   │\n",
      "╞════╪══════════╪══════════╪═══════════╪══════════╪══════════════╪══════════════╪═══════════════╪═════════════╪════════════╪════════════╪═════════════╪═══════════╪═════════════════════════╡\n",
      "│ 22 │ 0.379046 │ 0.379046 │         1 │ 0.549722 │     0.942662 │     0.942662 │             1 │    0.970485 │   0.660854 │   0.379046 │    0.868606 │  0.527778 │ 8.60 min                │\n",
      "╘════╧══════════╧══════════╧═══════════╧══════════╧══════════════╧══════════════╧═══════════════╧═════════════╧════════════╧════════════╧═════════════╧═══════════╧═════════════════════════╛\n",
      "\n",
      "Epoch 23/50. Batch 86016/86033. Train loss = 0.022380\n",
      "\n"
     ]
    },
    {
     "name": "stderr",
     "output_type": "stream",
     "text": [
      "100%|████████████████████████████████████████████████████████████████| 44/44 [00:04<00:00,  9.57it/s]\n"
     ]
    },
    {
     "name": "stdout",
     "output_type": "stream",
     "text": [
      "╒════╤══════════╤══════════╤═══════════╤══════════╤══════════════╤══════════════╤═══════════════╤═════════════╤════════════╤════════════╤═════════════╤═══════════╤═════════════════════════╕\n",
      "│    │   GT_acc │   GT_rec │   GT_prec │    GT_f1 │   others_acc │   others_rec │   others_prec │   others_f1 │   mean_acc │   mean_rec │   mean_prec │   mean_f1 │ time(epoch_start-now)   │\n",
      "╞════╪══════════╪══════════╪═══════════╪══════════╪══════════════╪══════════════╪═══════════════╪═════════════╪════════════╪════════════╪═════════════╪═══════════╪═════════════════════════╡\n",
      "│ 23 │ 0.363607 │ 0.363607 │         1 │ 0.533302 │     0.951404 │     0.951404 │             1 │    0.975097 │   0.657506 │   0.363607 │    0.882107 │   0.51495 │ 8.53 min                │\n",
      "╘════╧══════════╧══════════╧═══════════╧══════════╧══════════════╧══════════════╧═══════════════╧═════════════╧════════════╧════════════╧═════════════╧═══════════╧═════════════════════════╛\n",
      "\n",
      "Epoch 24/50. Batch 86016/86033. Train loss = 0.021447\n",
      "\n"
     ]
    },
    {
     "name": "stderr",
     "output_type": "stream",
     "text": [
      "100%|████████████████████████████████████████████████████████████████| 44/44 [00:04<00:00,  9.35it/s]\n"
     ]
    },
    {
     "name": "stdout",
     "output_type": "stream",
     "text": [
      "╒════╤══════════╤══════════╤═══════════╤══════════╤══════════════╤══════════════╤═══════════════╤═════════════╤════════════╤════════════╤═════════════╤═══════════╤═════════════════════════╕\n",
      "│    │   GT_acc │   GT_rec │   GT_prec │    GT_f1 │   others_acc │   others_rec │   others_prec │   others_f1 │   mean_acc │   mean_rec │   mean_prec │   mean_f1 │ time(epoch_start-now)   │\n",
      "╞════╪══════════╪══════════╪═══════════╪══════════╪══════════════╪══════════════╪═══════════════╪═════════════╪════════════╪════════════╪═════════════╪═══════════╪═════════════════════════╡\n",
      "│ 24 │ 0.421177 │ 0.421177 │         1 │ 0.592716 │     0.930711 │     0.930711 │             1 │    0.964112 │   0.675944 │   0.421177 │    0.858728 │  0.565162 │ 8.49 min                │\n",
      "╘════╧══════════╧══════════╧═══════════╧══════════╧══════════════╧══════════════╧═══════════════╧═════════════╧════════════╧════════════╧═════════════╧═══════════╧═════════════════════════╛\n",
      "\n",
      "Epoch 25/50. Batch 86016/86033. Train loss = 0.022490\n",
      "\n"
     ]
    },
    {
     "name": "stderr",
     "output_type": "stream",
     "text": [
      "100%|████████████████████████████████████████████████████████████████| 44/44 [00:04<00:00,  9.54it/s]\n"
     ]
    },
    {
     "name": "stdout",
     "output_type": "stream",
     "text": [
      "╒════╤══════════╤══════════╤═══════════╤═════════╤══════════════╤══════════════╤═══════════════╤═════════════╤════════════╤════════════╤═════════════╤═══════════╤═════════════════════════╕\n",
      "│    │   GT_acc │   GT_rec │   GT_prec │   GT_f1 │   others_acc │   others_rec │   others_prec │   others_f1 │   mean_acc │   mean_rec │   mean_prec │   mean_f1 │ time(epoch_start-now)   │\n",
      "╞════╪══════════╪══════════╪═══════════╪═════════╪══════════════╪══════════════╪═══════════════╪═════════════╪════════════╪════════════╪═════════════╪═══════════╪═════════════════════════╡\n",
      "│ 25 │ 0.390578 │ 0.390578 │         1 │ 0.56175 │     0.942894 │     0.942894 │             1 │    0.970608 │   0.666736 │   0.390578 │    0.872442 │  0.539591 │ 8.56 min                │\n",
      "╘════╧══════════╧══════════╧═══════════╧═════════╧══════════════╧══════════════╧═══════════════╧═════════════╧════════════╧════════════╧═════════════╧═══════════╧═════════════════════════╛\n",
      "\n",
      "Epoch 26/50. Batch 86016/86033. Train loss = 0.020979\n",
      "\n"
     ]
    },
    {
     "name": "stderr",
     "output_type": "stream",
     "text": [
      "100%|████████████████████████████████████████████████████████████████| 44/44 [00:04<00:00, 10.06it/s]\n"
     ]
    },
    {
     "name": "stdout",
     "output_type": "stream",
     "text": [
      "╒════╤══════════╤══════════╤═══════════╤══════════╤══════════════╤══════════════╤═══════════════╤═════════════╤════════════╤════════════╤═════════════╤═══════════╤═════════════════════════╕\n",
      "│    │   GT_acc │   GT_rec │   GT_prec │    GT_f1 │   others_acc │   others_rec │   others_prec │   others_f1 │   mean_acc │   mean_rec │   mean_prec │   mean_f1 │ time(epoch_start-now)   │\n",
      "╞════╪══════════╪══════════╪═══════════╪══════════╪══════════════╪══════════════╪═══════════════╪═════════════╪════════════╪════════════╪═════════════╪═══════════╪═════════════════════════╡\n",
      "│ 26 │ 0.443359 │ 0.443359 │         1 │ 0.614344 │       0.9242 │       0.9242 │             1 │    0.960607 │    0.68378 │   0.443359 │    0.853995 │   0.58369 │ 8.47 min                │\n",
      "╘════╧══════════╧══════════╧═══════════╧══════════╧══════════════╧══════════════╧═══════════════╧═════════════╧════════════╧════════════╧═════════════╧═══════════╧═════════════════════════╛\n",
      "\n",
      "BEST MODEL UPDATED! BEST GT_f1 = 0.6143437077131259\n",
      "Epoch 27/50. Batch 86016/86033. Train loss = 0.016676\n",
      "\n"
     ]
    },
    {
     "name": "stderr",
     "output_type": "stream",
     "text": [
      "100%|████████████████████████████████████████████████████████████████| 44/44 [00:04<00:00,  9.56it/s]\n"
     ]
    },
    {
     "name": "stdout",
     "output_type": "stream",
     "text": [
      "╒════╤══════════╤══════════╤═══════════╤══════════╤══════════════╤══════════════╤═══════════════╤═════════════╤════════════╤════════════╤═════════════╤═══════════╤═════════════════════════╕\n",
      "│    │   GT_acc │   GT_rec │   GT_prec │    GT_f1 │   others_acc │   others_rec │   others_prec │   others_f1 │   mean_acc │   mean_rec │   mean_prec │   mean_f1 │ time(epoch_start-now)   │\n",
      "╞════╪══════════╪══════════╪═══════════╪══════════╪══════════════╪══════════════╪═══════════════╪═════════════╪════════════╪════════════╪═════════════╪═══════════╪═════════════════════════╡\n",
      "│ 27 │ 0.437919 │ 0.437919 │         1 │ 0.609101 │     0.923968 │     0.923968 │             1 │    0.960481 │   0.680943 │   0.437919 │    0.852063 │  0.578511 │ 8.42 min                │\n",
      "╘════╧══════════╧══════════╧═══════════╧══════════╧══════════════╧══════════════╧═══════════════╧═════════════╧════════════╧════════════╧═════════════╧═══════════╧═════════════════════════╛\n",
      "\n",
      "Epoch 28/50. Batch 86016/86033. Train loss = 0.018064\n",
      "\n"
     ]
    },
    {
     "name": "stderr",
     "output_type": "stream",
     "text": [
      "100%|████████████████████████████████████████████████████████████████| 44/44 [00:04<00:00,  9.70it/s]\n"
     ]
    },
    {
     "name": "stdout",
     "output_type": "stream",
     "text": [
      "╒════╤══════════╤══════════╤═══════════╤══════════╤══════════════╤══════════════╤═══════════════╤═════════════╤════════════╤════════════╤═════════════╤═══════════╤═════════════════════════╕\n",
      "│    │   GT_acc │   GT_rec │   GT_prec │    GT_f1 │   others_acc │   others_rec │   others_prec │   others_f1 │   mean_acc │   mean_rec │   mean_prec │   mean_f1 │ time(epoch_start-now)   │\n",
      "╞════╪══════════╪══════════╪═══════════╪══════════╪══════════════╪══════════════╪═══════════════╪═════════════╪════════════╪════════════╪═════════════╪═══════════╪═════════════════════════╡\n",
      "│ 28 │ 0.404669 │ 0.404669 │         1 │ 0.576177 │     0.938895 │     0.938895 │             1 │    0.968485 │   0.671782 │   0.404669 │     0.86881 │  0.552157 │ 8.39 min                │\n",
      "╘════╧══════════╧══════════╧═══════════╧══════════╧══════════════╧══════════════╧═══════════════╧═════════════╧════════════╧════════════╧═════════════╧═══════════╧═════════════════════════╛\n",
      "\n",
      "Epoch 29/50. Batch 86016/86033. Train loss = 0.014826\n",
      "\n"
     ]
    },
    {
     "name": "stderr",
     "output_type": "stream",
     "text": [
      "100%|████████████████████████████████████████████████████████████████| 44/44 [00:04<00:00,  9.69it/s]\n"
     ]
    },
    {
     "name": "stdout",
     "output_type": "stream",
     "text": [
      "╒════╤══════════╤══════════╤═══════════╤══════════╤══════════════╤══════════════╤═══════════════╤═════════════╤════════════╤════════════╤═════════════╤═══════════╤═════════════════════════╕\n",
      "│    │   GT_acc │   GT_rec │   GT_prec │    GT_f1 │   others_acc │   others_rec │   others_prec │   others_f1 │   mean_acc │   mean_rec │   mean_prec │   mean_f1 │ time(epoch_start-now)   │\n",
      "╞════╪══════════╪══════════╪═══════════╪══════════╪══════════════╪══════════════╪═══════════════╪═════════════╪════════════╪════════════╪═════════════╪═══════════╪═════════════════════════╡\n",
      "│ 29 │ 0.392532 │ 0.392532 │         1 │ 0.563767 │     0.938895 │     0.938895 │             1 │    0.968485 │   0.665713 │   0.392532 │      0.8653 │  0.540068 │ 8.52 min                │\n",
      "╘════╧══════════╧══════════╧═══════════╧══════════╧══════════════╧══════════════╧═══════════════╧═════════════╧════════════╧════════════╧═════════════╧═══════════╧═════════════════════════╛\n",
      "\n",
      "Epoch 30/50. Batch 86016/86033. Train loss = 0.017487\n",
      "\n"
     ]
    },
    {
     "name": "stderr",
     "output_type": "stream",
     "text": [
      "100%|████████████████████████████████████████████████████████████████| 44/44 [00:04<00:00,  9.66it/s]\n"
     ]
    },
    {
     "name": "stdout",
     "output_type": "stream",
     "text": [
      "╒════╤══════════╤══════════╤═══════════╤══════════╤══════════════╤══════════════╤═══════════════╤═════════════╤════════════╤════════════╤═════════════╤═══════════╤═════════════════════════╕\n",
      "│    │   GT_acc │   GT_rec │   GT_prec │    GT_f1 │   others_acc │   others_rec │   others_prec │   others_f1 │   mean_acc │   mean_rec │   mean_prec │   mean_f1 │ time(epoch_start-now)   │\n",
      "╞════╪══════════╪══════════╪═══════════╪══════════╪══════════════╪══════════════╪═══════════════╪═════════════╪════════════╪════════════╪═════════════╪═══════════╪═════════════════════════╡\n",
      "│ 30 │ 0.377697 │ 0.377697 │         1 │ 0.548302 │     0.942894 │     0.942894 │             1 │    0.970608 │   0.660296 │   0.377697 │    0.868663 │   0.52648 │ 8.51 min                │\n",
      "╘════╧══════════╧══════════╧═══════════╧══════════╧══════════════╧══════════════╧═══════════════╧═════════════╧════════════╧════════════╧═════════════╧═══════════╧═════════════════════════╛\n",
      "\n",
      "Epoch 31/50. Batch 86016/86033. Train loss = 0.018636\n",
      "\n"
     ]
    },
    {
     "name": "stderr",
     "output_type": "stream",
     "text": [
      "100%|████████████████████████████████████████████████████████████████| 44/44 [00:04<00:00,  9.67it/s]\n"
     ]
    },
    {
     "name": "stdout",
     "output_type": "stream",
     "text": [
      "╒════╤══════════╤══════════╤═══════════╤═════════╤══════════════╤══════════════╤═══════════════╤═════════════╤════════════╤════════════╤═════════════╤═══════════╤═════════════════════════╕\n",
      "│    │   GT_acc │   GT_rec │   GT_prec │   GT_f1 │   others_acc │   others_rec │   others_prec │   others_f1 │   mean_acc │   mean_rec │   mean_prec │   mean_f1 │ time(epoch_start-now)   │\n",
      "╞════╪══════════╪══════════╪═══════════╪═════════╪══════════════╪══════════════╪═══════════════╪═════════════╪════════════╪════════════╪═════════════╪═══════════╪═════════════════════════╡\n",
      "│ 31 │ 0.385138 │ 0.385138 │         1 │  0.5561 │     0.944103 │     0.944103 │             1 │    0.971248 │   0.664621 │   0.385138 │     0.87326 │  0.534529 │ 8.24 min                │\n",
      "╘════╧══════════╧══════════╧═══════════╧═════════╧══════════════╧══════════════╧═══════════════╧═════════════╧════════════╧════════════╧═════════════╧═══════════╧═════════════════════════╛\n",
      "\n",
      "Epoch 32/50. Batch 86016/86033. Train loss = 0.015195\n",
      "\n"
     ]
    },
    {
     "name": "stderr",
     "output_type": "stream",
     "text": [
      "100%|████████████████████████████████████████████████████████████████| 44/44 [00:04<00:00,  9.55it/s]\n"
     ]
    },
    {
     "name": "stdout",
     "output_type": "stream",
     "text": [
      "╒════╤══════════╤══════════╤═══════════╤══════════╤══════════════╤══════════════╤═══════════════╤═════════════╤════════════╤════════════╤═════════════╤═══════════╤═════════════════════════╕\n",
      "│    │   GT_acc │   GT_rec │   GT_prec │    GT_f1 │   others_acc │   others_rec │   others_prec │   others_f1 │   mean_acc │   mean_rec │   mean_prec │   mean_f1 │ time(epoch_start-now)   │\n",
      "╞════╪══════════╪══════════╪═══════════╪══════════╪══════════════╪══════════════╪═══════════════╪═════════════╪════════════╪════════════╪═════════════╪═══════════╪═════════════════════════╡\n",
      "│ 32 │ 0.375512 │ 0.375512 │         1 │ 0.545995 │     0.948707 │     0.948707 │             1 │    0.973679 │   0.662109 │   0.375512 │    0.879821 │  0.526367 │ 7.80 min                │\n",
      "╘════╧══════════╧══════════╧═══════════╧══════════╧══════════════╧══════════════╧═══════════════╧═════════════╧════════════╧════════════╧═════════════╧═══════════╧═════════════════════════╛\n",
      "\n",
      "Epoch 33/50. Batch 86016/86033. Train loss = 0.018012\n",
      "\n"
     ]
    },
    {
     "name": "stderr",
     "output_type": "stream",
     "text": [
      "100%|████████████████████████████████████████████████████████████████| 44/44 [00:04<00:00,  9.69it/s]\n"
     ]
    },
    {
     "name": "stdout",
     "output_type": "stream",
     "text": [
      "╒════╤══════════╤══════════╤═══════════╤══════════╤══════════════╤══════════════╤═══════════════╤═════════════╤════════════╤════════════╤═════════════╤═══════════╤═════════════════════════╕\n",
      "│    │   GT_acc │   GT_rec │   GT_prec │    GT_f1 │   others_acc │   others_rec │   others_prec │   others_f1 │   mean_acc │   mean_rec │   mean_prec │   mean_f1 │ time(epoch_start-now)   │\n",
      "╞════╪══════════╪══════════╪═══════════╪══════════╪══════════════╪══════════════╪═══════════════╪═════════════╪════════════╪════════════╪═════════════╪═══════════╪═════════════════════════╡\n",
      "│ 33 │ 0.380255 │ 0.380255 │         1 │ 0.550992 │     0.946196 │     0.946196 │             1 │    0.972354 │   0.663225 │   0.380255 │    0.876045 │   0.53032 │ 7.99 min                │\n",
      "╘════╧══════════╧══════════╧═══════════╧══════════╧══════════════╧══════════════╧═══════════════╧═════════════╧════════════╧════════════╧═════════════╧═══════════╧═════════════════════════╛\n",
      "\n",
      "Epoch 34/50. Batch 86016/86033. Train loss = 0.017459\n",
      "\n"
     ]
    },
    {
     "name": "stderr",
     "output_type": "stream",
     "text": [
      "100%|████████████████████████████████████████████████████████████████| 44/44 [00:04<00:00,  9.66it/s]\n"
     ]
    },
    {
     "name": "stdout",
     "output_type": "stream",
     "text": [
      "╒════╤══════════╤══════════╤═══════════╤══════════╤══════════════╤══════════════╤═══════════════╤═════════════╤════════════╤════════════╤═════════════╤═══════════╤═════════════════════════╕\n",
      "│    │   GT_acc │   GT_rec │   GT_prec │    GT_f1 │   others_acc │   others_rec │   others_prec │   others_f1 │   mean_acc │   mean_rec │   mean_prec │   mean_f1 │ time(epoch_start-now)   │\n",
      "╞════╪══════════╪══════════╪═══════════╪══════════╪══════════════╪══════════════╪═══════════════╪═════════════╪════════════╪════════════╪═════════════╪═══════════╪═════════════════════════╡\n",
      "│ 34 │ 0.432338 │ 0.432338 │         1 │ 0.603682 │     0.927688 │     0.927688 │             1 │    0.962488 │   0.680013 │   0.432338 │    0.856708 │  0.574669 │ 8.54 min                │\n",
      "╘════╧══════════╧══════════╧═══════════╧══════════╧══════════════╧══════════════╧═══════════════╧═════════════╧════════════╧════════════╧═════════════╧═══════════╧═════════════════════════╛\n",
      "\n",
      "Epoch 35/50. Batch 86016/86033. Train loss = 0.017040\n",
      "\n"
     ]
    },
    {
     "name": "stderr",
     "output_type": "stream",
     "text": [
      "100%|████████████████████████████████████████████████████████████████| 44/44 [00:04<00:00,  9.50it/s]\n"
     ]
    },
    {
     "name": "stdout",
     "output_type": "stream",
     "text": [
      "╒════╤══════════╤══════════╤═══════════╤══════════╤══════════════╤══════════════╤═══════════════╤═════════════╤════════════╤════════════╤═════════════╤═══════════╤═════════════════════════╕\n",
      "│    │   GT_acc │   GT_rec │   GT_prec │    GT_f1 │   others_acc │   others_rec │   others_prec │   others_f1 │   mean_acc │   mean_rec │   mean_prec │   mean_f1 │ time(epoch_start-now)   │\n",
      "╞════╪══════════╪══════════╪═══════════╪══════════╪══════════════╪══════════════╪═══════════════╪═════════════╪════════════╪════════════╪═════════════╪═══════════╪═════════════════════════╡\n",
      "│ 35 │ 0.389741 │ 0.389741 │         1 │ 0.560883 │     0.944475 │     0.944475 │             1 │    0.971445 │   0.667108 │   0.389741 │      0.8753 │  0.539335 │ 8.47 min                │\n",
      "╘════╧══════════╧══════════╧═══════════╧══════════╧══════════════╧══════════════╧═══════════════╧═════════════╧════════════╧════════════╧═════════════╧═══════════╧═════════════════════════╛\n",
      "\n",
      "Epoch 36/50. Batch 86016/86033. Train loss = 0.015063\n",
      "\n"
     ]
    },
    {
     "name": "stderr",
     "output_type": "stream",
     "text": [
      "100%|████████████████████████████████████████████████████████████████| 44/44 [00:04<00:00,  9.87it/s]\n"
     ]
    },
    {
     "name": "stdout",
     "output_type": "stream",
     "text": [
      "╒════╤══════════╤══════════╤═══════════╤═════════╤══════════════╤══════════════╤═══════════════╤═════════════╤════════════╤════════════╤═════════════╤═══════════╤═════════════════════════╕\n",
      "│    │   GT_acc │   GT_rec │   GT_prec │   GT_f1 │   others_acc │   others_rec │   others_prec │   others_f1 │   mean_acc │   mean_rec │   mean_prec │   mean_f1 │ time(epoch_start-now)   │\n",
      "╞════╪══════════╪══════════╪═══════════╪═════════╪══════════════╪══════════════╪═══════════════╪═════════════╪════════════╪════════════╪═════════════╪═══════════╪═════════════════════════╡\n",
      "│ 36 │ 0.390067 │ 0.390067 │         1 │ 0.56122 │     0.944568 │     0.944568 │             1 │    0.971494 │   0.667318 │   0.390067 │    0.875574 │  0.539699 │ 8.59 min                │\n",
      "╘════╧══════════╧══════════╧═══════════╧═════════╧══════════════╧══════════════╧═══════════════╧═════════════╧════════════╧════════════╧═════════════╧═══════════╧═════════════════════════╛\n",
      "\n",
      "Epoch 37/50. Batch 86016/86033. Train loss = 0.013497\n",
      "\n"
     ]
    },
    {
     "name": "stderr",
     "output_type": "stream",
     "text": [
      "100%|████████████████████████████████████████████████████████████████| 44/44 [00:04<00:00,  9.78it/s]\n"
     ]
    },
    {
     "name": "stdout",
     "output_type": "stream",
     "text": [
      "╒════╤══════════╤══════════╤═══════════╤══════════╤══════════════╤══════════════╤═══════════════╤═════════════╤════════════╤════════════╤═════════════╤═══════════╤═════════════════════════╕\n",
      "│    │   GT_acc │   GT_rec │   GT_prec │    GT_f1 │   others_acc │   others_rec │   others_prec │   others_f1 │   mean_acc │   mean_rec │   mean_prec │   mean_f1 │ time(epoch_start-now)   │\n",
      "╞════╪══════════╪══════════╪═══════════╪══════════╪══════════════╪══════════════╪═══════════════╪═════════════╪════════════╪════════════╪═════════════╪═══════════╪═════════════════════════╡\n",
      "│ 37 │ 0.401135 │ 0.401135 │         1 │ 0.572585 │     0.939314 │     0.939314 │             1 │    0.968707 │   0.670224 │   0.401135 │    0.868593 │  0.548815 │ 8.51 min                │\n",
      "╘════╧══════════╧══════════╧═══════════╧══════════╧══════════════╧══════════════╧═══════════════╧═════════════╧════════════╧════════════╧═════════════╧═══════════╧═════════════════════════╛\n",
      "\n",
      "Epoch 38/50. Batch 86016/86033. Train loss = 0.015058\n",
      "\n"
     ]
    },
    {
     "name": "stderr",
     "output_type": "stream",
     "text": [
      "100%|████████████████████████████████████████████████████████████████| 44/44 [00:04<00:00,  9.97it/s]\n"
     ]
    },
    {
     "name": "stdout",
     "output_type": "stream",
     "text": [
      "╒════╤══════════╤══════════╤═══════════╤══════════╤══════════════╤══════════════╤═══════════════╤═════════════╤════════════╤════════════╤═════════════╤═══════════╤═════════════════════════╕\n",
      "│    │   GT_acc │   GT_rec │   GT_prec │    GT_f1 │   others_acc │   others_rec │   others_prec │   others_f1 │   mean_acc │   mean_rec │   mean_prec │   mean_f1 │ time(epoch_start-now)   │\n",
      "╞════╪══════════╪══════════╪═══════════╪══════════╪══════════════╪══════════════╪═══════════════╪═════════════╪════════════╪════════════╪═════════════╪═══════════╪═════════════════════════╡\n",
      "│ 38 │ 0.389881 │ 0.389881 │         1 │ 0.561028 │     0.943871 │     0.943871 │             1 │    0.971125 │   0.666876 │   0.389881 │    0.874153 │  0.539251 │ 8.44 min                │\n",
      "╘════╧══════════╧══════════╧═══════════╧══════════╧══════════════╧══════════════╧═══════════════╧═════════════╧════════════╧════════════╧═════════════╧═══════════╧═════════════════════════╛\n",
      "\n",
      "Epoch 39/50. Batch 86016/86033. Train loss = 0.013965\n",
      "\n"
     ]
    },
    {
     "name": "stderr",
     "output_type": "stream",
     "text": [
      "100%|████████████████████████████████████████████████████████████████| 44/44 [00:04<00:00,  9.63it/s]\n"
     ]
    },
    {
     "name": "stdout",
     "output_type": "stream",
     "text": [
      "╒════╤══════════╤══════════╤═══════════╤═════════╤══════════════╤══════════════╤═══════════════╤═════════════╤════════════╤════════════╤═════════════╤═══════════╤═════════════════════════╕\n",
      "│    │   GT_acc │   GT_rec │   GT_prec │   GT_f1 │   others_acc │   others_rec │   others_prec │   others_f1 │   mean_acc │   mean_rec │   mean_prec │   mean_f1 │ time(epoch_start-now)   │\n",
      "╞════╪══════════╪══════════╪═══════════╪═════════╪══════════════╪══════════════╪═══════════════╪═════════════╪════════════╪════════════╪═════════════╪═══════════╪═════════════════════════╡\n",
      "│ 39 │ 0.403134 │ 0.403134 │         1 │ 0.57462 │     0.935454 │     0.935454 │             1 │    0.966651 │   0.669294 │   0.403134 │    0.861987 │  0.549349 │ 8.53 min                │\n",
      "╘════╧══════════╧══════════╧═══════════╧═════════╧══════════════╧══════════════╧═══════════════╧═════════════╧════════════╧════════════╧═════════════╧═══════════╧═════════════════════════╛\n",
      "\n",
      "Epoch 40/50. Batch 86016/86033. Train loss = 0.013406\n",
      "\n"
     ]
    },
    {
     "name": "stderr",
     "output_type": "stream",
     "text": [
      "100%|████████████████████████████████████████████████████████████████| 44/44 [00:04<00:00,  9.44it/s]\n"
     ]
    },
    {
     "name": "stdout",
     "output_type": "stream",
     "text": [
      "╒════╤══════════╤══════════╤═══════════╤══════════╤══════════════╤══════════════╤═══════════════╤═════════════╤════════════╤════════════╤═════════════╤═══════════╤═════════════════════════╕\n",
      "│    │   GT_acc │   GT_rec │   GT_prec │    GT_f1 │   others_acc │   others_rec │   others_prec │   others_f1 │   mean_acc │   mean_rec │   mean_prec │   mean_f1 │ time(epoch_start-now)   │\n",
      "╞════╪══════════╪══════════╪═══════════╪══════════╪══════════════╪══════════════╪═══════════════╪═════════════╪════════════╪════════════╪═════════════╪═══════════╪═════════════════════════╡\n",
      "│ 40 │ 0.365932 │ 0.365932 │         1 │ 0.535798 │     0.952055 │     0.952055 │             1 │    0.975439 │   0.658994 │   0.365932 │    0.884157 │  0.517629 │ 8.46 min                │\n",
      "╘════╧══════════╧══════════╧═══════════╧══════════╧══════════════╧══════════════╧═══════════════╧═════════════╧════════════╧════════════╧═════════════╧═══════════╧═════════════════════════╛\n",
      "\n",
      "Epoch 41/50. Batch 86016/86033. Train loss = 0.013461\n",
      "\n"
     ]
    },
    {
     "name": "stderr",
     "output_type": "stream",
     "text": [
      "100%|████████████████████████████████████████████████████████████████| 44/44 [00:04<00:00,  9.71it/s]\n"
     ]
    },
    {
     "name": "stdout",
     "output_type": "stream",
     "text": [
      "╒════╤══════════╤══════════╤═══════════╤══════════╤══════════════╤══════════════╤═══════════════╤═════════════╤════════════╤════════════╤═════════════╤═══════════╤═════════════════════════╕\n",
      "│    │   GT_acc │   GT_rec │   GT_prec │    GT_f1 │   others_acc │   others_rec │   others_prec │   others_f1 │   mean_acc │   mean_rec │   mean_prec │   mean_f1 │ time(epoch_start-now)   │\n",
      "╞════╪══════════╪══════════╪═══════════╪══════════╪══════════════╪══════════════╪═══════════════╪═════════════╪════════════╪════════════╪═════════════╪═══════════╪═════════════════════════╡\n",
      "│ 41 │ 0.391788 │ 0.391788 │         1 │ 0.562999 │     0.944522 │     0.944522 │             1 │     0.97147 │   0.668155 │   0.391788 │    0.875962 │  0.541418 │ 8.45 min                │\n",
      "╘════╧══════════╧══════════╧═══════════╧══════════╧══════════════╧══════════════╧═══════════════╧═════════════╧════════════╧════════════╧═════════════╧═══════════╧═════════════════════════╛\n",
      "\n",
      "Epoch 42/50. Batch 86016/86033. Train loss = 0.011783\n",
      "\n"
     ]
    },
    {
     "name": "stderr",
     "output_type": "stream",
     "text": [
      "100%|████████████████████████████████████████████████████████████████| 44/44 [00:04<00:00,  9.93it/s]\n"
     ]
    },
    {
     "name": "stdout",
     "output_type": "stream",
     "text": [
      "╒════╤══════════╤══════════╤═══════════╤══════════╤══════════════╤══════════════╤═══════════════╤═════════════╤════════════╤════════════╤═════════════╤═══════════╤═════════════════════════╕\n",
      "│    │   GT_acc │   GT_rec │   GT_prec │    GT_f1 │   others_acc │   others_rec │   others_prec │   others_f1 │   mean_acc │   mean_rec │   mean_prec │   mean_f1 │ time(epoch_start-now)   │\n",
      "╞════╪══════════╪══════════╪═══════════╪══════════╪══════════════╪══════════════╪═══════════════╪═════════════╪════════════╪════════════╪═════════════╪═══════════╪═════════════════════════╡\n",
      "│ 42 │ 0.388672 │ 0.388672 │         1 │ 0.559775 │     0.942522 │     0.942522 │             1 │    0.970411 │   0.665597 │   0.388672 │    0.871169 │  0.537527 │ 8.65 min                │\n",
      "╘════╧══════════╧══════════╧═══════════╧══════════╧══════════════╧══════════════╧═══════════════╧═════════════╧════════════╧════════════╧═════════════╧═══════════╧═════════════════════════╛\n",
      "\n",
      "Epoch 43/50. Batch 86016/86033. Train loss = 0.013662\n",
      "\n"
     ]
    },
    {
     "name": "stderr",
     "output_type": "stream",
     "text": [
      "100%|████████████████████████████████████████████████████████████████| 44/44 [00:04<00:00,  9.73it/s]\n"
     ]
    },
    {
     "name": "stdout",
     "output_type": "stream",
     "text": [
      "╒════╤══════════╤══════════╤═══════════╤══════════╤══════════════╤══════════════╤═══════════════╤═════════════╤════════════╤════════════╤═════════════╤═══════════╤═════════════════════════╕\n",
      "│    │   GT_acc │   GT_rec │   GT_prec │    GT_f1 │   others_acc │   others_rec │   others_prec │   others_f1 │   mean_acc │   mean_rec │   mean_prec │   mean_f1 │ time(epoch_start-now)   │\n",
      "╞════╪══════════╪══════════╪═══════════╪══════════╪══════════════╪══════════════╪═══════════════╪═════════════╪════════════╪════════════╪═════════════╪═══════════╪═════════════════════════╡\n",
      "│ 43 │ 0.374256 │ 0.374256 │         1 │ 0.544667 │     0.949544 │     0.949544 │             1 │    0.974119 │     0.6619 │   0.374256 │      0.8812 │  0.525378 │ 8.40 min                │\n",
      "╘════╧══════════╧══════════╧═══════════╧══════════╧══════════════╧══════════════╧═══════════════╧═════════════╧════════════╧════════════╧═════════════╧═══════════╧═════════════════════════╛\n",
      "\n",
      "Epoch 44/50. Batch 86016/86033. Train loss = 0.013779\n",
      "\n"
     ]
    },
    {
     "name": "stderr",
     "output_type": "stream",
     "text": [
      "100%|████████████████████████████████████████████████████████████████| 44/44 [00:04<00:00, 10.06it/s]\n"
     ]
    },
    {
     "name": "stdout",
     "output_type": "stream",
     "text": [
      "╒════╤══════════╤══════════╤═══════════╤══════════╤══════════════╤══════════════╤═══════════════╤═════════════╤════════════╤════════════╤═════════════╤═══════════╤═════════════════════════╕\n",
      "│    │   GT_acc │   GT_rec │   GT_prec │    GT_f1 │   others_acc │   others_rec │   others_prec │   others_f1 │   mean_acc │   mean_rec │   mean_prec │   mean_f1 │ time(epoch_start-now)   │\n",
      "╞════╪══════════╪══════════╪═══════════╪══════════╪══════════════╪══════════════╪═══════════════╪═════════════╪════════════╪════════════╪═════════════╪═══════════╪═════════════════════════╡\n",
      "│ 44 │ 0.386161 │ 0.386161 │         1 │ 0.557166 │     0.940662 │     0.940662 │             1 │    0.969424 │   0.663411 │   0.386161 │    0.866806 │  0.534294 │ 8.58 min                │\n",
      "╘════╧══════════╧══════════╧═══════════╧══════════╧══════════════╧══════════════╧═══════════════╧═════════════╧════════════╧════════════╧═════════════╧═══════════╧═════════════════════════╛\n",
      "\n",
      "Epoch 45/50. Batch 86016/86033. Train loss = 0.011322\n",
      "\n"
     ]
    },
    {
     "name": "stderr",
     "output_type": "stream",
     "text": [
      "100%|████████████████████████████████████████████████████████████████| 44/44 [00:04<00:00,  9.47it/s]\n"
     ]
    },
    {
     "name": "stdout",
     "output_type": "stream",
     "text": [
      "╒════╤══════════╤══════════╤═══════════╤══════════╤══════════════╤══════════════╤═══════════════╤═════════════╤════════════╤════════════╤═════════════╤═══════════╤═════════════════════════╕\n",
      "│    │   GT_acc │   GT_rec │   GT_prec │    GT_f1 │   others_acc │   others_rec │   others_prec │   others_f1 │   mean_acc │   mean_rec │   mean_prec │   mean_f1 │ time(epoch_start-now)   │\n",
      "╞════╪══════════╪══════════╪═══════════╪══════════╪══════════════╪══════════════╪═══════════════╪═════════════╪════════════╪════════════╪═════════════╪═══════════╪═════════════════════════╡\n",
      "│ 45 │  0.40732 │  0.40732 │         1 │ 0.578859 │     0.939081 │     0.939081 │             1 │    0.968584 │     0.6732 │    0.40732 │    0.869898 │  0.554841 │ 8.57 min                │\n",
      "╘════╧══════════╧══════════╧═══════════╧══════════╧══════════════╧══════════════╧═══════════════╧═════════════╧════════════╧════════════╧═════════════╧═══════════╧═════════════════════════╛\n",
      "\n",
      "Epoch 46/50. Batch 86016/86033. Train loss = 0.013482\n",
      "\n"
     ]
    },
    {
     "name": "stderr",
     "output_type": "stream",
     "text": [
      "100%|████████████████████████████████████████████████████████████████| 44/44 [00:04<00:00,  9.59it/s]\n"
     ]
    },
    {
     "name": "stdout",
     "output_type": "stream",
     "text": [
      "╒════╤══════════╤══════════╤═══════════╤═════════╤══════════════╤══════════════╤═══════════════╤═════════════╤════════════╤════════════╤═════════════╤═══════════╤═════════════════════════╕\n",
      "│    │   GT_acc │   GT_rec │   GT_prec │   GT_f1 │   others_acc │   others_rec │   others_prec │   others_f1 │   mean_acc │   mean_rec │   mean_prec │   mean_f1 │ time(epoch_start-now)   │\n",
      "╞════╪══════════╪══════════╪═══════════╪═════════╪══════════════╪══════════════╪═══════════════╪═════════════╪════════════╪════════════╪═════════════╪═══════════╪═════════════════════════╡\n",
      "│ 46 │ 0.365327 │ 0.365327 │         1 │ 0.53515 │     0.950381 │     0.950381 │             1 │     0.97456 │   0.657854 │   0.365327 │    0.880421 │  0.516383 │ 8.50 min                │\n",
      "╘════╧══════════╧══════════╧═══════════╧═════════╧══════════════╧══════════════╧═══════════════╧═════════════╧════════════╧════════════╧═════════════╧═══════════╧═════════════════════════╛\n",
      "\n",
      "Epoch 47/50. Batch 86016/86033. Train loss = 0.011957\n",
      "\n"
     ]
    },
    {
     "name": "stderr",
     "output_type": "stream",
     "text": [
      "100%|████████████████████████████████████████████████████████████████| 44/44 [00:04<00:00,  9.96it/s]\n"
     ]
    },
    {
     "name": "stdout",
     "output_type": "stream",
     "text": [
      "╒════╤══════════╤══════════╤═══════════╤══════════╤══════════════╤══════════════╤═══════════════╤═════════════╤════════════╤════════════╤═════════════╤═══════════╤═════════════════════════╕\n",
      "│    │   GT_acc │   GT_rec │   GT_prec │    GT_f1 │   others_acc │   others_rec │   others_prec │   others_f1 │   mean_acc │   mean_rec │   mean_prec │   mean_f1 │ time(epoch_start-now)   │\n",
      "╞════╪══════════╪══════════╪═══════════╪══════════╪══════════════╪══════════════╪═══════════════╪═════════════╪════════════╪════════════╪═════════════╪═══════════╪═════════════════════════╡\n",
      "│ 47 │ 0.402437 │ 0.402437 │         1 │ 0.573911 │     0.942243 │     0.942243 │             1 │    0.970263 │    0.67234 │   0.402437 │    0.874495 │   0.55121 │ 8.57 min                │\n",
      "╘════╧══════════╧══════════╧═══════════╧══════════╧══════════════╧══════════════╧═══════════════╧═════════════╧════════════╧════════════╧═════════════╧═══════════╧═════════════════════════╛\n",
      "\n",
      "Epoch 48/50. Batch 86016/86033. Train loss = 0.013126\n",
      "\n"
     ]
    },
    {
     "name": "stderr",
     "output_type": "stream",
     "text": [
      "100%|████████████████████████████████████████████████████████████████| 44/44 [00:04<00:00,  9.96it/s]\n"
     ]
    },
    {
     "name": "stdout",
     "output_type": "stream",
     "text": [
      "╒════╤══════════╤══════════╤═══════════╤══════════╤══════════════╤══════════════╤═══════════════╤═════════════╤════════════╤════════════╤═════════════╤═══════════╤═════════════════════════╕\n",
      "│    │   GT_acc │   GT_rec │   GT_prec │    GT_f1 │   others_acc │   others_rec │   others_prec │   others_f1 │   mean_acc │   mean_rec │   mean_prec │   mean_f1 │ time(epoch_start-now)   │\n",
      "╞════╪══════════╪══════════╪═══════════╪══════════╪══════════════╪══════════════╪═══════════════╪═════════════╪════════════╪════════════╪═════════════╪═══════════╪═════════════════════════╡\n",
      "│ 48 │ 0.365792 │ 0.365792 │         1 │ 0.535649 │     0.950707 │     0.950707 │             1 │    0.974731 │    0.65825 │   0.365792 │    0.881246 │   0.51699 │ 8.46 min                │\n",
      "╘════╧══════════╧══════════╧═══════════╧══════════╧══════════════╧══════════════╧═══════════════╧═════════════╧════════════╧════════════╧═════════════╧═══════════╧═════════════════════════╛\n",
      "\n",
      "Epoch 49/50. Batch 86016/86033. Train loss = 0.013888\n",
      "\n"
     ]
    },
    {
     "name": "stderr",
     "output_type": "stream",
     "text": [
      "100%|████████████████████████████████████████████████████████████████| 44/44 [00:04<00:00,  9.60it/s]\n"
     ]
    },
    {
     "name": "stdout",
     "output_type": "stream",
     "text": [
      "╒════╤══════════╤══════════╤═══════════╤══════════╤══════════════╤══════════════╤═══════════════╤═════════════╤════════════╤════════════╤═════════════╤═══════════╤═════════════════════════╕\n",
      "│    │   GT_acc │   GT_rec │   GT_prec │    GT_f1 │   others_acc │   others_rec │   others_prec │   others_f1 │   mean_acc │   mean_rec │   mean_prec │   mean_f1 │ time(epoch_start-now)   │\n",
      "╞════╪══════════╪══════════╪═══════════╪══════════╪══════════════╪══════════════╪═══════════════╪═════════════╪════════════╪════════════╪═════════════╪═══════════╪═════════════════════════╡\n",
      "│ 49 │ 0.388858 │ 0.388858 │         1 │ 0.559968 │     0.944568 │     0.944568 │             1 │    0.971494 │   0.666713 │   0.388858 │    0.875236 │  0.538476 │ 8.52 min                │\n",
      "╘════╧══════════╧══════════╧═══════════╧══════════╧══════════════╧══════════════╧═══════════════╧═════════════╧════════════╧════════════╧═════════════╧═══════════╧═════════════════════════╛\n",
      "\n",
      "Epoch 50/50. Batch 86016/86033. Train loss = 0.012870\n",
      "\n"
     ]
    },
    {
     "name": "stderr",
     "output_type": "stream",
     "text": [
      "100%|████████████████████████████████████████████████████████████████| 44/44 [00:04<00:00,  9.40it/s]\n"
     ]
    },
    {
     "name": "stdout",
     "output_type": "stream",
     "text": [
      "╒════╤══════════╤══════════╤═══════════╤══════════╤══════════════╤══════════════╤═══════════════╤═════════════╤════════════╤════════════╤═════════════╤═══════════╤═════════════════════════╕\n",
      "│    │   GT_acc │   GT_rec │   GT_prec │    GT_f1 │   others_acc │   others_rec │   others_prec │   others_f1 │   mean_acc │   mean_rec │   mean_prec │   mean_f1 │ time(epoch_start-now)   │\n",
      "╞════╪══════════╪══════════╪═══════════╪══════════╪══════════════╪══════════════╪═══════════════╪═════════════╪════════════╪════════════╪═════════════╪═══════════╪═════════════════════════╡\n",
      "│ 50 │ 0.412853 │ 0.412853 │         1 │ 0.584425 │      0.93564 │      0.93564 │             1 │     0.96675 │   0.674247 │   0.412853 │    0.865134 │  0.558962 │ 8.52 min                │\n",
      "╘════╧══════════╧══════════╧═══════════╧══════════╧══════════════╧══════════════╧═══════════════╧═════════════╧════════════╧════════════╧═════════════╧═══════════╧═════════════════════════╛\n",
      "\n",
      "Saved model at models/supervised/critic/emb_model_update=1||steps=5||topk=10\n"
     ]
    },
    {
     "data": {
      "image/png": "[encoded data removed]",
      "text/plain": [
       "<Figure size 1200x1200 with 1 Axes>"
      ]
     },
     "metadata": {},
     "output_type": "display_data"
    }
   ],
   "source": [
    "from sklearn.metrics import accuracy_score, precision_recall_fscore_support\n",
    "\n",
    "lr = 1e-3\n",
    "epochs = 50\n",
    "batch_size = 128\n",
    "\n",
    "for topk, emb_model_update in itertools.product([10], [1]):\n",
    "    print(\"@\"*190)\n",
    "    print(\"@\"*190)\n",
    "    print(\"@\"*190)\n",
    "\n",
    "    # Model inits\n",
    "    model = CriticNetwork().to(device)\n",
    "    optimizer = torch.optim.Adam(model.parameters(), lr=lr)  \n",
    "    loss_criterion = nn.MSELoss()\n",
    "    \n",
    "    # Embeddings init\n",
    "    embedding_model = torch.load(\"models/zinc2m_gin.pth\").to(device)\n",
    "    embedding_model.load_state_dict(model.GIN.state_dict())\n",
    "    action_embeddings = get_action_dataset_embeddings(embedding_model)\n",
    "    action_embeddings_norm = torch.linalg.norm(action_embeddings, axis=1)\n",
    "    \n",
    "    # Some helper inits\n",
    "    best_metric = -100\n",
    "    best_model = None\n",
    "    \n",
    "    metric_dict = {\"GT_acc\": [], \"GT_rec\": [], \"GT_prec\": [], \"GT_f1\": [], \n",
    "                    \"others_acc\": [], \"others_rec\": [], \"others_prec\": [], \"others_f1\": [], \n",
    "                    \"mean_acc\": [], \"mean_rec\": [], \"mean_prec\": [], \"mean_f1\": [],  \"time(epoch_start-now)\": []}\n",
    "    \n",
    "    # Train the model\n",
    "    for epoch in range(1, epochs+1):\n",
    "        start_time = time.time()\n",
    "        model.train()\n",
    "        for i in range(0, train_reactants.batch_size - batch_size, batch_size):\n",
    "            # Forward pass\n",
    "#             qs = model(train_reactants[i:i+batch_size], train_products[i:i+batch_size], train_rsigs[i:i+batch_size], train_psigs[i:i+batch_size])\n",
    "            curr_shape = min(i+batch_size, train_reactants.batch_size) - i\n",
    "\n",
    "            # Calc negatives\n",
    "            negative_indices = []\n",
    "            \n",
    "            for _i in range(curr_shape):\n",
    "                correct_action_dataset_index = correct_action_dataset_indices[train_idx[i+_i]]\n",
    "                curr_out = action_embeddings[correct_action_dataset_index]\n",
    "                dist = torch.linalg.norm(action_embeddings - curr_out, axis=1)\n",
    "                sorted_idx = torch.argsort(dist)[:topk] # get topk\n",
    "                sorted_idx = sorted_idx[sorted_idx != correct_action_dataset_index] # Remove if correct index in list\n",
    "                negative_indices.append(sorted_idx)\n",
    "                \n",
    "            # critic update\n",
    "            batch_reactants = train_reactants[sum([[i+_i]*(1+negative_indices[_i].shape[0]) for _i in range(curr_shape)], [])]\n",
    "            batch_products = train_products[sum([[i+_i]*(1+negative_indices[_i].shape[0]) for _i in range(curr_shape)], [])]\n",
    "            batch_rsigs = action_rsigs[sum([[correct_action_dataset_indices[train_idx[i+_i]]] + negative_indices[_i].tolist() for _i in range(curr_shape)], [])]\n",
    "            batch_psigs = action_psigs[sum([[correct_action_dataset_indices[train_idx[i+_i]]] + negative_indices[_i].tolist() for _i in range(curr_shape)], [])]\n",
    "            batch_q_targets = torch.Tensor(sum([[1] + [0] * negative_indices[_i].shape[0] for _i in range(curr_shape)], [])).view(-1, 1)\n",
    "\n",
    "            \n",
    "            qs = model(batch_reactants.to(device), batch_products.to(device), batch_rsigs.to(device), batch_psigs.to(device))\n",
    "            loss = loss_criterion(qs, batch_q_targets.to(device))\n",
    "            optimizer.zero_grad()\n",
    "            loss.backward()\n",
    "            optimizer.step()\n",
    "            \n",
    "            # Emptry any cache (free GPU memory)\n",
    "            torch.cuda.empty_cache()\n",
    "\n",
    "        print (f'Epoch {epoch}/{epochs}. Batch {i}/{train_reactants.batch_size - batch_size}. Train loss = {loss.item():.6f}')#, end='\\r')\n",
    "        \n",
    "        model.eval()\n",
    "        with torch.no_grad():\n",
    "            print()\n",
    "\n",
    "            # Update embedding model and action_embeddings\n",
    "            if epoch % emb_model_update == 0:\n",
    "                embedding_model.load_state_dict(model.GIN.state_dict())\n",
    "                action_embeddings = get_action_dataset_embeddings(embedding_model)\n",
    "                action_embeddings_norm = torch.linalg.norm(action_embeddings, axis=1)\n",
    "\n",
    "            # Predict for GT\n",
    "            GT_pred_qs = (torch.concatenate([model(test_reactants[i:i+batch_size], \n",
    "                         test_products[i:i+batch_size], \n",
    "                         test_rsigs[i:i+batch_size], \n",
    "                         test_psigs[i:i+batch_size]).detach() for i in range(0, test_reactants.batch_size-batch_size, batch_size)], axis=0).cpu().numpy() > 0.5).astype(int)\n",
    "#             GT_pred_qs = (model(test_reactants, test_products, test_rsigs, test_psigs).detach().cpu().numpy() > 0.5).astype(int)\n",
    "            GT_true_qs = np.ones_like(GT_pred_qs)\n",
    "\n",
    "            # Pred for others\n",
    "            negative_indices = []\n",
    "\n",
    "            for i in test_idx:\n",
    "                correct_action_dataset_index = correct_action_dataset_indices[i]\n",
    "                curr_out = action_embeddings[correct_action_dataset_index]\n",
    "                dist = torch.linalg.norm(action_embeddings - curr_out, axis=1)\n",
    "\n",
    "                # Get the closest that is not GT\n",
    "                sorted_idx = torch.argsort(dist)[:2]\n",
    "                sorted_idx = sorted_idx[sorted_idx != correct_action_dataset_index] # Remove if correct index in list\n",
    "                sorted_idx = sorted_idx[:1]\n",
    "                negative_indices.append(sorted_idx)\n",
    "\n",
    "            # critic update\n",
    "            test_batch_reactants = test_reactants[sum([[i]*negative_indices[i].shape[0] for i in range(test_idx.shape[0])], [])].to(device)\n",
    "            test_batch_products = test_products[sum([[i]*negative_indices[i].shape[0] for i in range(test_idx.shape[0])], [])].to(device)\n",
    "            test_batch_rsigs = action_rsigs[torch.concatenate(negative_indices)].to(device)\n",
    "            test_batch_psigs = action_psigs[torch.concatenate(negative_indices)].to(device)\n",
    "\n",
    "            others_pred_qs = (torch.concatenate([model(test_batch_reactants[i:i+batch_size], \n",
    "                         test_batch_products[i:i+batch_size], \n",
    "                         test_batch_rsigs[i:i+batch_size], \n",
    "                         test_batch_psigs[i:i+batch_size]).detach() for i in range(0, test_batch_reactants.batch_size-batch_size, batch_size)], axis=0).cpu().numpy() > 0.5).astype(int)\n",
    "            others_true_qs = np.zeros_like(others_pred_qs)\n",
    "\n",
    "            # Update metrics (with inverted labels -- sklearn considers 0 as true class in confusion matrix)\n",
    "            acc, (prec, rec, f1, _) = accuracy_score(GT_true_qs, GT_pred_qs), precision_recall_fscore_support(GT_true_qs, GT_pred_qs, average=\"binary\")\n",
    "            metric_dict[\"GT_acc\"].append(acc); metric_dict[\"GT_rec\"].append(rec); metric_dict[\"GT_prec\"].append(prec); metric_dict[\"GT_f1\"].append(f1)\n",
    "\n",
    "            # 1-others in prec_rec_f1 because sklearn wants true class as 1 and others has true class 0 (only for the sake of metric scores)\n",
    "            acc, (prec, rec, f1, _) = accuracy_score(others_true_qs, others_pred_qs), precision_recall_fscore_support(1-others_true_qs, 1-others_pred_qs, average=\"binary\") \n",
    "            metric_dict[\"others_acc\"].append(acc); metric_dict[\"others_rec\"].append(rec); metric_dict[\"others_prec\"].append(prec); metric_dict[\"others_f1\"].append(f1)\n",
    "\n",
    "            mean_pred_qs = np.concatenate([GT_pred_qs, others_pred_qs], axis=0)\n",
    "            mean_true_qs = np.concatenate([GT_true_qs, others_true_qs], axis=0)\n",
    "            acc, (prec, rec, f1, _) = accuracy_score(mean_true_qs, mean_pred_qs), precision_recall_fscore_support(mean_true_qs, mean_pred_qs, average=\"binary\")\n",
    "            metric_dict[\"mean_acc\"].append(acc); metric_dict[\"mean_rec\"].append(rec); metric_dict[\"mean_prec\"].append(prec); metric_dict[\"mean_f1\"].append(f1)\n",
    "\n",
    "            # Print\n",
    "            metric_df = pd.DataFrame(columns=[\"GT_acc\", \"GT_rec\", \"GT_prec\", \"GT_f1\", \"others_acc\", \"others_rec\", \"others_prec\", \"others_f1\", \n",
    "                                              \"mean_acc\", \"mean_rec\", \"mean_prec\", \"mean_f1\",  \"time(epoch_start-now)\"])\n",
    "\n",
    "            metric_dict[\"time(epoch_start-now)\"].append(f\"{(time.time()-start_time)/60:.2f} min\")\n",
    "            for col in metric_df.columns:\n",
    "                metric_df[col] = [metric_dict[col][-1]]\n",
    "            metric_df.index = [epoch]\n",
    "            print(tabulate(metric_df, headers='keys', tablefmt='fancy_grid'))\n",
    "            print()\n",
    "\n",
    "            \n",
    "\n",
    "        # Update best model (with GT f1 - we want critic for best GT)\n",
    "        metric_for_best_model = \"GT_f1\"\n",
    "        curr_metric = metric_dict[metric_for_best_model][-1]\n",
    "        if curr_metric > best_metric:\n",
    "            best_metric = curr_metric\n",
    "            best_model = type(model)()\n",
    "            best_model.load_state_dict(model.state_dict())\n",
    "            best_epoch = epoch\n",
    "            print(f\"BEST MODEL UPDATED! BEST {metric_for_best_model} = {best_metric}\")\n",
    "\n",
    "    # save everything\n",
    "    folder = f\"models/supervised/critic/emb_model_update={emb_model_update}||steps={steps}||topk={topk}\"\n",
    "    os.makedirs(folder, exist_ok = True)\n",
    "    torch.save(model, os.path.join(folder, \"model.pth\"))\n",
    "    pd.DataFrame.from_dict(metric_dict).to_csv(os.path.join(folder, \"metrics.csv\"))\n",
    "\n",
    "    # Save plots\n",
    "    fig = plt.figure(figsize=(12, 12))\n",
    "    line_style = {\"GT\": \"-\", \"others\": \":\", \"mean\": \"--\"}\n",
    "    for metric in filter(lambda x: \"time\" not in x, metric_dict.keys()):\n",
    "        plt.plot(metric_dict[metric], label=metric, linestyle=line_style[metric.split(\"_\")[0]])\n",
    "    plt.title(f\"steps={steps}\")\n",
    "    plt.xlabel(\"epoch\")\n",
    "    plt.ylabel(\"metrics\")\n",
    "    plt.legend()\n",
    "    fig.savefig(os.path.join(folder, \"plot.png\"))\n",
    "\n",
    "    json.dump({\n",
    "        \"steps(trajectory length)\": steps,\n",
    "        \"lr\": lr,\n",
    "        \"epochs\": epochs, \n",
    "        \"batch_size\": batch_size,\n",
    "        \"train_samples\": train_idx.shape,\n",
    "        \"test_samples\": test_idx.shape,\n",
    "        \"topk\": topk,\n",
    "        \"emb_model_update\": emb_model_update,\n",
    "        \"best_epoch\": best_epoch,\n",
    "        f\"best_{metric_for_best_model}\": best_metric,\n",
    "    }, open(os.path.join(folder, \"config.txt\"), 'w'))\n",
    "    print(\"Saved model at\", folder)"
   ]
  }
 ],
 "metadata": {
  "kernelspec": {
   "display_name": "Python 3 (ipykernel)",
   "language": "python",
   "name": "python3"
  },
  "language_info": {
   "codemirror_mode": {
    "name": "ipython",
    "version": 3
   },
   "file_extension": ".py",
   "mimetype": "text/x-python",
   "name": "python",
   "nbconvert_exporter": "python",
   "pygments_lexer": "ipython3",
   "version": "3.7.16"
  }
 },
 "nbformat": 4,
 "nbformat_minor": 5
}
