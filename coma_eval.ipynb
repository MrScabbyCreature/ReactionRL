{
 "cells": [
  {
   "cell_type": "code",
   "execution_count": 1,
   "id": "35a24a10",
   "metadata": {},
   "outputs": [
    {
     "name": "stderr",
     "output_type": "stream",
     "text": [
      "/home/abhor/miniconda3/envs/de_nono/lib/python3.7/site-packages/sklearn/utils/validation.py:37: DeprecationWarning: distutils Version classes are deprecated. Use packaging.version instead.\n",
      "  LARGE_SPARSE_SUPPORTED = LooseVersion(scipy_version) >= '0.14.0'\n",
      "/home/abhor/miniconda3/envs/de_nono/lib/python3.7/site-packages/sklearn/linear_model/least_angle.py:35: DeprecationWarning: `np.float` is a deprecated alias for the builtin `float`. To silence this warning, use `float` by itself. Doing this will not modify any behavior and is safe. If you specifically wanted the numpy scalar type, use `np.float64` here.\n",
      "Deprecated in NumPy 1.20; for more details and guidance: https://numpy.org/devdocs/release/1.20.0-notes.html#deprecations\n",
      "  eps=np.finfo(np.float).eps,\n",
      "/home/abhor/miniconda3/envs/de_nono/lib/python3.7/site-packages/sklearn/linear_model/least_angle.py:597: DeprecationWarning: `np.float` is a deprecated alias for the builtin `float`. To silence this warning, use `float` by itself. Doing this will not modify any behavior and is safe. If you specifically wanted the numpy scalar type, use `np.float64` here.\n",
      "Deprecated in NumPy 1.20; for more details and guidance: https://numpy.org/devdocs/release/1.20.0-notes.html#deprecations\n",
      "  eps=np.finfo(np.float).eps, copy_X=True, fit_path=True,\n",
      "/home/abhor/miniconda3/envs/de_nono/lib/python3.7/site-packages/sklearn/linear_model/least_angle.py:836: DeprecationWarning: `np.float` is a deprecated alias for the builtin `float`. To silence this warning, use `float` by itself. Doing this will not modify any behavior and is safe. If you specifically wanted the numpy scalar type, use `np.float64` here.\n",
      "Deprecated in NumPy 1.20; for more details and guidance: https://numpy.org/devdocs/release/1.20.0-notes.html#deprecations\n",
      "  eps=np.finfo(np.float).eps, copy_X=True, fit_path=True,\n",
      "/home/abhor/miniconda3/envs/de_nono/lib/python3.7/site-packages/sklearn/linear_model/least_angle.py:862: DeprecationWarning: `np.float` is a deprecated alias for the builtin `float`. To silence this warning, use `float` by itself. Doing this will not modify any behavior and is safe. If you specifically wanted the numpy scalar type, use `np.float64` here.\n",
      "Deprecated in NumPy 1.20; for more details and guidance: https://numpy.org/devdocs/release/1.20.0-notes.html#deprecations\n",
      "  eps=np.finfo(np.float).eps, positive=False):\n",
      "/home/abhor/miniconda3/envs/de_nono/lib/python3.7/site-packages/sklearn/linear_model/least_angle.py:1097: DeprecationWarning: `np.float` is a deprecated alias for the builtin `float`. To silence this warning, use `float` by itself. Doing this will not modify any behavior and is safe. If you specifically wanted the numpy scalar type, use `np.float64` here.\n",
      "Deprecated in NumPy 1.20; for more details and guidance: https://numpy.org/devdocs/release/1.20.0-notes.html#deprecations\n",
      "  max_n_alphas=1000, n_jobs=None, eps=np.finfo(np.float).eps,\n",
      "/home/abhor/miniconda3/envs/de_nono/lib/python3.7/site-packages/sklearn/linear_model/least_angle.py:1344: DeprecationWarning: `np.float` is a deprecated alias for the builtin `float`. To silence this warning, use `float` by itself. Doing this will not modify any behavior and is safe. If you specifically wanted the numpy scalar type, use `np.float64` here.\n",
      "Deprecated in NumPy 1.20; for more details and guidance: https://numpy.org/devdocs/release/1.20.0-notes.html#deprecations\n",
      "  max_n_alphas=1000, n_jobs=None, eps=np.finfo(np.float).eps,\n",
      "/home/abhor/miniconda3/envs/de_nono/lib/python3.7/site-packages/sklearn/linear_model/least_angle.py:1480: DeprecationWarning: `np.float` is a deprecated alias for the builtin `float`. To silence this warning, use `float` by itself. Doing this will not modify any behavior and is safe. If you specifically wanted the numpy scalar type, use `np.float64` here.\n",
      "Deprecated in NumPy 1.20; for more details and guidance: https://numpy.org/devdocs/release/1.20.0-notes.html#deprecations\n",
      "  eps=np.finfo(np.float).eps, copy_X=True, positive=False):\n",
      "/home/abhor/miniconda3/envs/de_nono/lib/python3.7/site-packages/sklearn/linear_model/randomized_l1.py:152: DeprecationWarning: `np.float` is a deprecated alias for the builtin `float`. To silence this warning, use `float` by itself. Doing this will not modify any behavior and is safe. If you specifically wanted the numpy scalar type, use `np.float64` here.\n",
      "Deprecated in NumPy 1.20; for more details and guidance: https://numpy.org/devdocs/release/1.20.0-notes.html#deprecations\n",
      "  precompute=False, eps=np.finfo(np.float).eps,\n",
      "/home/abhor/miniconda3/envs/de_nono/lib/python3.7/site-packages/sklearn/linear_model/randomized_l1.py:320: DeprecationWarning: `np.float` is a deprecated alias for the builtin `float`. To silence this warning, use `float` by itself. Doing this will not modify any behavior and is safe. If you specifically wanted the numpy scalar type, use `np.float64` here.\n",
      "Deprecated in NumPy 1.20; for more details and guidance: https://numpy.org/devdocs/release/1.20.0-notes.html#deprecations\n",
      "  eps=np.finfo(np.float).eps, random_state=None,\n",
      "/home/abhor/miniconda3/envs/de_nono/lib/python3.7/site-packages/sklearn/linear_model/randomized_l1.py:580: DeprecationWarning: `np.float` is a deprecated alias for the builtin `float`. To silence this warning, use `float` by itself. Doing this will not modify any behavior and is safe. If you specifically wanted the numpy scalar type, use `np.float64` here.\n",
      "Deprecated in NumPy 1.20; for more details and guidance: https://numpy.org/devdocs/release/1.20.0-notes.html#deprecations\n",
      "  eps=4 * np.finfo(np.float).eps, n_jobs=None,\n"
     ]
    }
   ],
   "source": [
    "import pickle\n",
    "import glob, os\n",
    "import numpy as np\n",
    "from rewards.properties import qed as mol_qed, drd2 as mol_drd2, logP as mol_logP\n",
    "from coma.properties import penalized_logp\n",
    "from rdkit import Chem\n",
    "import tqdm\n",
    "import networkx as nx\n",
    "from rdkit.Chem import Descriptors\n",
    "\n",
    "from multiprocess import Pool\n",
    "pool = Pool(12)\n",
    "\n",
    "def qed(smile):\n",
    "    return mol_qed(Chem.MolFromSmiles(smile))\n",
    "\n",
    "def drd2(smile):\n",
    "    return mol_drd2(Chem.MolFromSmiles(smile))\n",
    "\n",
    "def logP(smile):\n",
    "    return mol_logP(Chem.MolFromSmiles(smile))"
   ]
  },
  {
   "cell_type": "code",
   "execution_count": 2,
   "id": "50e83b70",
   "metadata": {},
   "outputs": [],
   "source": [
    "# PROPERTY_NAME = \"drd2\"\n",
    "# SCORING_FT = drd2\n",
    "\n",
    "# PROPERTY_NAME = \"qed\"\n",
    "# SCORING_FT = qed\n",
    "\n",
    "# PROPERTY_NAME = \"logp04\"\n",
    "# SCORING_FT = penalized_logp\n",
    "\n",
    "PROPERTY_NAME = \"logp06\"\n",
    "SCORING_FT = penalized_logp"
   ]
  },
  {
   "cell_type": "code",
   "execution_count": 3,
   "id": "93c80de2",
   "metadata": {},
   "outputs": [
    {
     "name": "stdout",
     "output_type": "stream",
     "text": [
      "800\n"
     ]
    }
   ],
   "source": [
    "files = glob.glob(f\"results/eval_on_coma_{PROPERTY_NAME}/*\")\n",
    "print(len(files))"
   ]
  },
  {
   "cell_type": "markdown",
   "id": "de37cbba",
   "metadata": {},
   "source": [
    "# Get the top molecules based on x*sim+y*prop combination"
   ]
  },
  {
   "cell_type": "code",
   "execution_count": 4,
   "id": "d5ef8ccc",
   "metadata": {},
   "outputs": [
    {
     "name": "stdout",
     "output_type": "stream",
     "text": [
      "CPU times: user 449 ms, sys: 32.9 ms, total: 481 ms\n",
      "Wall time: 4.7 s\n"
     ]
    }
   ],
   "source": [
    "from rewards.drd2_scorer import fingerprints_from_mol\n",
    "from functools import partial\n",
    "clf = pickle.load(open(\"rewards/clf_py36.pkl\", 'rb'))\n",
    "\n",
    "def sm_fp(sm):\n",
    "    return fingerprints_from_mol(Chem.MolFromSmiles(sm))\n",
    "\n",
    "def get_drd2_on_fp(clf, fp):\n",
    "    fp = np.array(fp)\n",
    "    fp = fp.reshape(-1, 2048)\n",
    "    return clf.predict_proba(fp)[:, 1]\n",
    "    \n",
    "    \n",
    "def get_drd2_on_smile_arr_mp(smiles_arr):\n",
    "    bs = 10\n",
    "    smile_list_reshaped = [list(map(sm_fp, smiles_arr[i:i+bs])) for i in range(0, smiles_arr.shape[0], bs)]\n",
    "    res = pool.map(partial(get_drd2_on_fp, clf), smile_list_reshaped, chunksize=1000//bs)\n",
    "    return np.concatenate(res)\n",
    "    \n",
    "    \n",
    "    \n",
    "samples = pickle.load(open(\"results/eval_on_coma_drd2/0.pickle\", 'rb'))\n",
    "\n",
    "traj_d = samples[\"traj\"]\n",
    "all_keys = np.array(list(traj_d.keys()))\n",
    "smiles_arr = np.vectorize(traj_d.get)(all_keys)\n",
    "\n",
    "%time res = get_drd2_on_smile_arr_mp(smiles_arr[:1000])"
   ]
  },
  {
   "cell_type": "code",
   "execution_count": 8,
   "id": "1c896014",
   "metadata": {},
   "outputs": [
    {
     "name": "stdout",
     "output_type": "stream",
     "text": [
      "{'30sim_1logp06': {'sim': [], 'prop': [], 'smiles': []}, '35sim_1logp06': {'sim': [], 'prop': [], 'smiles': []}, '40sim_1logp06': {'sim': [], 'prop': [], 'smiles': []}}\n"
     ]
    },
    {
     "name": "stderr",
     "output_type": "stream",
     "text": [
      "100%|████████████████████████████████████████████████████████████| 800/800 [2:06:28<00:00,  9.49s/it]\n"
     ]
    },
    {
     "name": "stdout",
     "output_type": "stream",
     "text": [
      "Dumped results/best_logp06/30sim_1logp06.pickle.\n",
      "Dumped results/best_logp06/35sim_1logp06.pickle.\n",
      "Dumped results/best_logp06/40sim_1logp06.pickle.\n"
     ]
    }
   ],
   "source": [
    "def get_prop_multiprocess(smiles_arr):\n",
    "    if PROPERTY_NAME == \"drd2\":\n",
    "        return get_drd2_on_smile_arr_mp(smiles_arr)\n",
    "    \n",
    "    return np.array(pool.map(SCORING_FT, smiles_arr, chunksize=100))\n",
    "    \n",
    "\n",
    "def get_top_mols(file, sim_coeffs=[], prop_coeffs=[], topk=20):\n",
    "    file_data = pickle.load(open(file, 'rb'))\n",
    "\n",
    "    # Get info and sim arr\n",
    "    traj_d, sim_d = file_data[\"traj\"], file_data[\"sim\"]\n",
    "    all_keys = np.array(list(traj_d.keys()))\n",
    "    smiles_arr = np.vectorize(traj_d.get)(all_keys)\n",
    "    sim_arr = np.vectorize(sim_d.get)(all_keys)\n",
    "    \n",
    "    # Some are None - remove\n",
    "    smiles_arr = smiles_arr[sim_arr != None]\n",
    "    sim_arr = sim_arr[sim_arr != None]\n",
    "\n",
    "    # Calc property\n",
    "    prop_arr = get_prop_multiprocess(smiles_arr)\n",
    "\n",
    "    # Get topk mols (while loop) for each coeff combination (for loop)\n",
    "    for sc, pc in zip(sim_coeffs, prop_coeffs):\n",
    "\n",
    "        results = {\"sim\": [], \"prop\": [], \"smiles\": []} \n",
    "        count = 0\n",
    "        \n",
    "        # Temp sim and prop array - since we need to modify these in the while loop\n",
    "        temp_sim_arr = sim_arr.copy()\n",
    "        temp_prop_arr = prop_arr.copy()\n",
    "        \n",
    "        while count < topk:\n",
    "            idx = (sc*temp_sim_arr + pc*temp_prop_arr).argmax()\n",
    "            if smiles_arr[idx] in results[\"smiles\"]:\n",
    "                temp_sim_arr[idx] = -1\n",
    "                temp_prop_arr[idx] = -1\n",
    "                continue\n",
    "            \n",
    "            # Add results\n",
    "            results[\"sim\"].append(temp_sim_arr[idx])\n",
    "            results[\"prop\"].append(temp_prop_arr[idx])\n",
    "            results[\"smiles\"].append(smiles_arr[idx])\n",
    "            \n",
    "            # Update the values - to prevent replacement\n",
    "            temp_sim_arr[idx] = -1\n",
    "            temp_prop_arr[idx] = -1\n",
    "            count += 1\n",
    "        \n",
    "        yield results\n",
    "\n",
    "# Coefficients for sim and prop\n",
    "# sim_coeff_list = [1, 1, 0, 1]\n",
    "# prop_coeff_list = [1, 2, 1, 0]\n",
    "sim_coeff_list = [30, 35, 40]\n",
    "prop_coeff_list = [1, 1, 1]\n",
    "\n",
    "# Result dict and file names\n",
    "result_file_name = lambda x, y: f\"{x}sim_{y}{PROPERTY_NAME}\"\n",
    "result_dict = {result_file_name(x, y): \n",
    "               {\n",
    "                   \"sim\": [],\n",
    "                   \"prop\": [],\n",
    "                   \"smiles\": []\n",
    "                } \n",
    "    for x, y in zip(sim_coeff_list, prop_coeff_list)\n",
    "}\n",
    "print(result_dict)\n",
    "\n",
    "# Make dir\n",
    "folder = f\"results/best_{PROPERTY_NAME}\"\n",
    "if not os.path.exists(folder):\n",
    "    os.makedirs(folder)\n",
    "\n",
    "for file in tqdm.tqdm(files):\n",
    "    for sc, pc, d in zip(sim_coeff_list, prop_coeff_list, get_top_mols(file, sim_coeff_list, prop_coeff_list, topk=20)):\n",
    "        for key in d:\n",
    "            result_dict[result_file_name(sc, pc)][key].extend(d[key])\n",
    "        \n",
    "for filename_base in result_dict:\n",
    "    result_file_path = os.path.join(folder, f\"{filename_base}.pickle\")\n",
    "    pickle.dump(result_dict[filename_base], open(result_file_path, 'wb'))\n",
    "    print(f\"Dumped {result_file_path}.\")"
   ]
  },
  {
   "cell_type": "markdown",
   "id": "1f122d0c",
   "metadata": {},
   "source": [
    "# Results"
   ]
  },
  {
   "cell_type": "code",
   "execution_count": 10,
   "id": "ffb6af3c",
   "metadata": {},
   "outputs": [
    {
     "name": "stdout",
     "output_type": "stream",
     "text": [
      "COMA\t0.7142\t1.000\t0.799\t0.792\t0.329\t0.999\t0.366\n",
      "VJTNN\t0.6787\t0.999\t0.803\t0.797\t0.344\t0.696\t0.433\n",
      "VJTNN+GAN\t0.7137\t0.999\t0.787\t0.780\t0.324\t0.885\t0.507\n",
      "CORE\t0.6947\t0.999\t0.800\t0.793\t0.338\t0.779\t0.459\n",
      "HierG2G\t0.6922\t0.981\t0.680\t0.673\t0.258\t0.971\t0.590\n",
      "HierG2G+BT\t0.6783\t1.000\t0.808\t0.802\t0.336\t0.671\t0.453\n",
      "JTVAE\t0.4077\t0.935\t0.091\t0.084\t0.402\t0.934\t0.000\n",
      "UGMMT\t0.7088\t0.999\t0.737\t0.730\t0.261\t0.996\t0.530\n"
     ]
    }
   ],
   "source": [
    "coma_results = '''COMA 0.7142 1.000 0.799 0.792 0.329 0.999 0.366\n",
    "VJTNN 0.6787 0.999 0.803 0.797 0.344 0.696 0.433\n",
    "VJTNN+GAN 0.7137 0.999 0.787 0.780 0.324 0.885 0.507\n",
    "CORE 0.6947 0.999 0.800 0.793 0.338 0.779 0.459\n",
    "HierG2G 0.6922 0.981 0.680 0.673 0.258 0.971 0.590\n",
    "HierG2G+BT 0.6783 1.000 0.808 0.802 0.336 0.671 0.453\n",
    "JTVAE 0.4077 0.935 0.091 0.084 0.402 0.934 0.000\n",
    "UGMMT 0.7088 0.999 0.737 0.730 0.261 0.996 0.530'''\n",
    "\n",
    "for row in coma_results.split(\"n\"):\n",
    "    row = row.split(\" \")\n",
    "    print(\"\\t\".join(row))"
   ]
  },
  {
   "cell_type": "code",
   "execution_count": 9,
   "id": "7cc764de",
   "metadata": {},
   "outputs": [
    {
     "name": "stderr",
     "output_type": "stream",
     "text": [
      "100%|██████████████████████████████████████████████████████████| 16000/16000 [02:44<00:00, 97.52it/s]\n"
     ]
    },
    {
     "name": "stdout",
     "output_type": "stream",
     "text": [
      "results/best_logp06/35sim_1logp06.pickle\t1.507\t1.0\t1.522\t4.266\t0.373\t1.0\t0.879\n"
     ]
    },
    {
     "name": "stderr",
     "output_type": "stream",
     "text": [
      "100%|██████████████████████████████████████████████████████████| 16000/16000 [02:44<00:00, 97.14it/s]\n"
     ]
    },
    {
     "name": "stdout",
     "output_type": "stream",
     "text": [
      "results/best_logp06/20sim_1logp06.pickle\t2.397\t1.0\t4.253\t6.998\t0.267\t1.0\t0.867\n"
     ]
    },
    {
     "name": "stderr",
     "output_type": "stream",
     "text": [
      "100%|██████████████████████████████████████████████████████████| 16000/16000 [02:44<00:00, 97.41it/s]\n"
     ]
    },
    {
     "name": "stdout",
     "output_type": "stream",
     "text": [
      "results/best_logp06/15sim_1logp06.pickle\t2.774\t1.0\t5.42\t8.165\t0.2\t1.0\t0.858\n"
     ]
    },
    {
     "name": "stderr",
     "output_type": "stream",
     "text": [
      "100%|██████████████████████████████████████████████████████████| 16000/16000 [02:44<00:00, 97.46it/s]\n"
     ]
    },
    {
     "name": "stdout",
     "output_type": "stream",
     "text": [
      "results/best_logp06/30sim_1logp06.pickle\t1.708\t1.0\t2.135\t4.879\t0.354\t1.0\t0.877\n"
     ]
    },
    {
     "name": "stderr",
     "output_type": "stream",
     "text": [
      "100%|██████████████████████████████████████████████████████████| 16000/16000 [02:44<00:00, 97.13it/s]\n"
     ]
    },
    {
     "name": "stdout",
     "output_type": "stream",
     "text": [
      "results/best_logp06/40sim_1logp06.pickle\t1.372\t1.0\t1.112\t3.856\t0.384\t1.0\t0.881\n"
     ]
    },
    {
     "name": "stderr",
     "output_type": "stream",
     "text": [
      "100%|██████████████████████████████████████████████████████████| 16000/16000 [02:44<00:00, 96.99it/s]\n"
     ]
    },
    {
     "name": "stdout",
     "output_type": "stream",
     "text": [
      "results/best_logp06/10sim_1logp06.pickle\t3.004\t1.0\t6.144\t8.888\t0.144\t1.0\t0.851\n"
     ]
    },
    {
     "name": "stderr",
     "output_type": "stream",
     "text": [
      "100%|██████████████████████████████████████████████████████████| 16000/16000 [02:44<00:00, 97.40it/s]\n"
     ]
    },
    {
     "name": "stdout",
     "output_type": "stream",
     "text": [
      "results/best_logp06/25sim_1logp06.pickle\t2.012\t1.0\t3.068\t5.812\t0.32\t1.0\t0.873\n"
     ]
    }
   ],
   "source": [
    "import pickle\n",
    "import numpy as np\n",
    "import glob\n",
    "import tqdm\n",
    "from rdkit.Chem.AllChem import GetMorganFingerprintAsBitVect\n",
    "from rdkit import Chem\n",
    "from multiprocess import Pool\n",
    "\n",
    "pool = Pool(12)\n",
    "\n",
    "class FastTanimotoOneToBulk:\n",
    "    def __init__(self, bs):\n",
    "        self.bs = bs\n",
    "        self.b_fps = np.vstack([self._fingerprints_from_smi(smi) for smi in self.bs])\n",
    "        \n",
    "    def __call__(self, a):\n",
    "        a_fp = self._fingerprints_from_smi(a)\n",
    "        return (a_fp&self.b_fps).sum(axis=1) / (a_fp|self.b_fps).sum(axis=1)\n",
    "        \n",
    "    def _fingerprints_from_smi(self, smi):\n",
    "        mol = Chem.MolFromSmiles(smi)\n",
    "        fp = GetMorganFingerprintAsBitVect(mol, 2, nBits=2048, useChirality=False)\n",
    "        nfp = np.array([b=='1' for b in fp.ToBitString()])\n",
    "        return nfp\n",
    "\n",
    "def diversity(smiles):\n",
    "    fast_sim_bulk = FastTanimotoOneToBulk(smiles)\n",
    "    sim_list = []\n",
    "    for sim in tqdm.tqdm(pool.imap(fast_sim_bulk, smiles, chunksize=200), total=len(smiles)):\n",
    "        sim_list.append(sim.mean())\n",
    "    \n",
    "    # Total sim\n",
    "    tot = np.mean(sim_list)\n",
    "    \n",
    "    # Each sim list has an extra sim=1 from sim(mol, mol). Adjust for that\n",
    "    l = len(smiles)\n",
    "    tot = (tot * l - 1) / (l-1)\n",
    "    \n",
    "    return 1 - tot\n",
    "\n",
    "# CHANGE THESE TWO\n",
    "PROPERTY_NAME = \"logp06\"\n",
    "SCORING_FT = penalized_logp\n",
    "\n",
    "for file in glob.glob(f\"results/best_{PROPERTY_NAME}/*\"):\n",
    "    dicty = pickle.load(open(file, 'rb'))\n",
    "    results = [0, 1.0, np.mean(dicty[\"prop\"]), 0, np.mean(dicty[\"sim\"]), 1.0, np.mean(diversity(dicty[\"smiles\"]))]\n",
    "    mean_test_property = np.mean(list(map(lambda x: SCORING_FT(x.strip(\"\\n\")), open(f\"datasets/coma/{PROPERTY_NAME}/rdkit_test.txt\", 'r').readlines())))\n",
    "    results[3] = results[2] - mean_test_property\n",
    "    results[0] = np.mean(results[1:])\n",
    "    print(\"\\t\".join([file] + list(map(lambda x: str(round(x, 3)), results))))"
   ]
  }
 ],
 "metadata": {
  "kernelspec": {
   "display_name": "Python 3 (ipykernel)",
   "language": "python",
   "name": "python3"
  },
  "language_info": {
   "codemirror_mode": {
    "name": "ipython",
    "version": 3
   },
   "file_extension": ".py",
   "mimetype": "text/x-python",
   "name": "python",
   "nbconvert_exporter": "python",
   "pygments_lexer": "ipython3",
   "version": "3.7.13"
  }
 },
 "nbformat": 4,
 "nbformat_minor": 5
}
