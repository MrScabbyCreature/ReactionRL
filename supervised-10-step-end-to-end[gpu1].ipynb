{
 "cells": [
  {
   "cell_type": "code",
   "execution_count": 1,
   "id": "c1cfa57a",
   "metadata": {
    "tags": []
   },
   "outputs": [],
   "source": [
    "import os\n",
    "os.environ[\"MAIN_DIR\"] = \"\""
   ]
  },
  {
   "cell_type": "code",
   "execution_count": 2,
   "id": "f862867f",
   "metadata": {
    "tags": []
   },
   "outputs": [],
   "source": [
    "from rdkit import Chem\n",
    "import pickle\n",
    "import pandas as pd\n",
    "from IPython.display import display\n",
    "from matplotlib import pyplot as plt\n",
    "import tqdm\n",
    "import json\n",
    "import numpy as np\n",
    "import itertools\n",
    "from tabulate import tabulate\n",
    "\n",
    "from action_utils import *"
   ]
  },
  {
   "cell_type": "code",
   "execution_count": 3,
   "id": "536ae7f8",
   "metadata": {
    "tags": []
   },
   "outputs": [],
   "source": [
    "start_mols = pickle.load(open(\"datasets/my_uspto/unique_start_mols.pickle\", 'rb'))"
   ]
  },
  {
   "cell_type": "code",
   "execution_count": 46,
   "id": "322bdda4",
   "metadata": {},
   "outputs": [
    {
     "name": "stderr",
     "output_type": "stream",
     "text": [
      "101213it [01:26, 1163.44it/s]                                                                        \n"
     ]
    },
    {
     "name": "stdout",
     "output_type": "stream",
     "text": [
      "(101213, 10)\n",
      "(101213, 10)\n"
     ]
    }
   ],
   "source": [
    "from multiprocessing import Pool\n",
    "import time\n",
    "\n",
    "main_df = pd.DataFrame(columns=['reactant', 'rsub', 'rcen', 'rsig', 'rsig_cs_indices', 'psub', 'pcen', 'psig', 'psig_cs_indices', 'product'])\n",
    "N = 100000\n",
    "np.random.seed(42)\n",
    "steps = 6\n",
    "\n",
    "def generate_train_data(smile):\n",
    "    mol = Chem.MolFromSmiles(smile)\n",
    "\n",
    "    df = pd.DataFrame(columns=['reactant', 'rsub', 'rcen', 'rsig', 'rsig_cs_indices', 'psub', 'pcen', 'psig', 'psig_cs_indices', 'product'])\n",
    "    index = []\n",
    "    \n",
    "    # Get sequences\n",
    "    try:\n",
    "        for i in range(steps):\n",
    "            actions = get_applicable_actions(mol)\n",
    "            if actions.shape[0] == 0:\n",
    "                break\n",
    "\n",
    "            # Apply a random action\n",
    "            rand_idx = np.random.randint(0, actions.shape[0])\n",
    "            product = apply_action(mol, *actions.iloc[rand_idx])\n",
    "\n",
    "            # Add it to df\n",
    "            df.loc[df.shape[0], :] = [Chem.MolToSmiles(mol)] + actions.iloc[rand_idx].tolist() + [Chem.MolToSmiles(product)]\n",
    "            index.append(actions.iloc[rand_idx].name)\n",
    "\n",
    "            # Next reactant = product\n",
    "            mol = product\n",
    "    except Exception as e:\n",
    "        return pd.DataFrame(columns=['reactant', 'rsub', 'rcen', 'rsig', 'rsig_cs_indices', 'psub', 'pcen', 'psig', 'psig_cs_indices', 'product'])\n",
    "    \n",
    "    # Fix index\n",
    "    df.index = index\n",
    "    \n",
    "    # Make combinations for multi-step possibilities of source-->target\n",
    "    for i in range(df.shape[0]-1, 0, -1):\n",
    "        new_df = df.iloc[:i].copy()\n",
    "        new_df[\"product\"] = df.iloc[i][\"product\"]\n",
    "        df = pd.concat([df, new_df])\n",
    "        \n",
    "    return df\n",
    "\n",
    "df_list = []\n",
    "final_shape = 0\n",
    "# Create dataset for 5 step pred\n",
    "with Pool(30) as p, tqdm.tqdm(total=N) as pbar:\n",
    "    while final_shape < N:\n",
    "        smiles = np.random.choice(start_mols, size=(1000,))\n",
    "\n",
    "        for new_df in p.imap_unordered(generate_train_data, smiles, chunksize=10):\n",
    "            df_list.append(new_df)\n",
    "            final_shape += new_df.shape[0]\n",
    "            \n",
    "        pbar.update(final_shape - pbar.n)\n",
    "\n",
    "# randomize\n",
    "main_df = pd.concat(df_list)\n",
    "del df_list\n",
    "print(main_df.shape)\n",
    "\n",
    "main_df = pd.concat([main_df[:int(main_df.shape[0]*0.8)].sample(frac=1), main_df[int(main_df.shape[0]*0.8):].sample(frac=1)])\n",
    "print(main_df.shape)"
   ]
  },
  {
   "cell_type": "markdown",
   "id": "56d58b5a",
   "metadata": {},
   "source": [
    "# Neural Network!"
   ]
  },
  {
   "cell_type": "code",
   "execution_count": 47,
   "id": "c3e1a52c",
   "metadata": {},
   "outputs": [
    {
     "data": {
      "text/plain": [
       "<torch._C.Generator at 0x7f88d9c4b510>"
      ]
     },
     "execution_count": 47,
     "metadata": {},
     "output_type": "execute_result"
    }
   ],
   "source": [
    "import torch\n",
    "import torch.nn as nn\n",
    "import torch.optim as optim\n",
    "\n",
    "torch.manual_seed(42)"
   ]
  },
  {
   "cell_type": "code",
   "execution_count": 7,
   "id": "3432cfc9",
   "metadata": {
    "tags": []
   },
   "outputs": [],
   "source": [
    "device = torch.device(\"cuda:1\" if torch.cuda.is_available() else \"cpu\")"
   ]
  },
  {
   "cell_type": "code",
   "execution_count": 8,
   "id": "48289f6d",
   "metadata": {
    "tags": []
   },
   "outputs": [
    {
     "name": "stdout",
     "output_type": "stream",
     "text": [
      "Epoch 1, Loss: 24024.2266\n",
      "Epoch 2, Loss: 11644.5195\n",
      "Epoch 3, Loss: 3179.7080\n",
      "Epoch 4, Loss: 950.4078\n",
      "Epoch 5, Loss: 723.5219\n",
      "Epoch 6, Loss: 722.2169\n",
      "Epoch 7, Loss: 706.3540\n",
      "Epoch 8, Loss: 682.1254\n",
      "Epoch 9, Loss: 665.4435\n",
      "Epoch 10, Loss: 655.7354\n",
      "\n",
      "FINAL TEST LOSS: 86.86898803710938\n"
     ]
    },
    {
     "data": {
      "image/png": "[encoded data removed]",
      "text/plain": [
       "<Figure size 640x480 with 1 Axes>"
      ]
     },
     "metadata": {},
     "output_type": "display_data"
    },
    {
     "name": "stdout",
     "output_type": "stream",
     "text": [
      "CPU times: user 6.89 s, sys: 902 ms, total: 7.79 s\n",
      "Wall time: 4.28 s\n"
     ]
    },
    {
     "data": {
      "text/plain": [
       "NeuralNet(\n",
       "  (fc1): Linear(in_features=20, out_features=20, bias=True)\n",
       "  (bn1): BatchNorm1d(20, eps=1e-05, momentum=0.1, affine=True, track_running_stats=True)\n",
       "  (relu): ReLU()\n",
       "  (hidden_layers): ModuleList(\n",
       "    (0): Linear(in_features=20, out_features=20, bias=True)\n",
       "    (1): BatchNorm1d(20, eps=1e-05, momentum=0.1, affine=True, track_running_stats=True)\n",
       "    (2): ReLU()\n",
       "    (3): Linear(in_features=20, out_features=20, bias=True)\n",
       "    (4): BatchNorm1d(20, eps=1e-05, momentum=0.1, affine=True, track_running_stats=True)\n",
       "    (5): ReLU()\n",
       "  )\n",
       "  (last_layer): Linear(in_features=20, out_features=1, bias=True)\n",
       ")"
      ]
     },
     "execution_count": 8,
     "metadata": {},
     "output_type": "execute_result"
    }
   ],
   "source": [
    "%matplotlib inline\n",
    "class NeuralNet(nn.Module):\n",
    "    def __init__(self, input_size, output_size, num_hidden=1, hidden_size=50):\n",
    "        super(NeuralNet, self).__init__()\n",
    "        self.fc1 = nn.Linear(input_size, hidden_size)\n",
    "        self.bn1 = nn.BatchNorm1d(hidden_size)\n",
    "        self.relu = nn.ReLU()\n",
    "        self.hidden_layers = nn.ModuleList()\n",
    "        for i in range(num_hidden):\n",
    "            self.hidden_layers.append(nn.Linear(hidden_size, hidden_size))\n",
    "            self.hidden_layers.append(nn.BatchNorm1d(hidden_size))\n",
    "            self.hidden_layers.append(nn.ReLU())\n",
    "            \n",
    "        self.last_layer = nn.Linear(hidden_size, output_size)\n",
    "    \n",
    "    def forward(self, x):\n",
    "        out = self.fc1(x)\n",
    "        out = self.bn1(out)\n",
    "        out = self.relu(out)\n",
    "        for layer in self.hidden_layers:\n",
    "            out = layer(out)\n",
    "        out = self.last_layer(out)\n",
    "        return out\n",
    "    \n",
    "\n",
    "def train(X, Y, num_hidden=1, hidden_size=50, lr=1e-2, bs=64, epochs=100):\n",
    "    train_X = torch.Tensor(X[:int(X.shape[0]*0.8)]).to(device)\n",
    "    train_Y = torch.Tensor(Y[:int(Y.shape[0]*0.8)]).to(device)\n",
    "\n",
    "    test_X = torch.Tensor(X[int(X.shape[0]*0.8):]).to(device)\n",
    "    test_Y = torch.Tensor(Y[int(Y.shape[0]*0.8):]).to(device)\n",
    "    \n",
    "    model = NeuralNet(train_X.shape[1], train_Y.shape[1], num_hidden=num_hidden, hidden_size=hidden_size).to(device)\n",
    "    \n",
    "    criterion = nn.MSELoss()\n",
    "    optimizer = torch.optim.Adam(model.parameters(), lr=lr)  \n",
    "\n",
    "    loss_list = []\n",
    "    test_loss = []\n",
    "\n",
    "    # Train the model\n",
    "    for epoch in range(epochs):\n",
    "        for i in range(0, train_X.shape[0], batch_size):\n",
    "            model.train()\n",
    "            # Forward pass\n",
    "            outputs = model(train_X[i:i+batch_size])\n",
    "            loss = criterion(outputs, train_Y[i:i+batch_size])\n",
    "\n",
    "            # Backward and optimize\n",
    "            optimizer.zero_grad()\n",
    "            loss.backward()\n",
    "            optimizer.step()\n",
    "        \n",
    "        loss_list.append(loss.item())\n",
    "        print ('Epoch {}, Loss: {:.4f}'.format(epoch+1, loss.item()))\n",
    "        \n",
    "        model.eval()\n",
    "        test_loss.append(criterion(model(test_X), test_Y).item()) \n",
    "    print(\"\\nFINAL TEST LOSS:\", test_loss[-1])\n",
    "        \n",
    "    plt.plot(loss_list[5:], label=\"training loss\")\n",
    "    plt.plot(test_loss[5:], label=\"test loss\")\n",
    "    plt.legend()\n",
    "    plt.xlabel(\"epoch\")\n",
    "    plt.ylabel(\"loss\")\n",
    "    plt.show()\n",
    "        \n",
    "    return model\n",
    "        \n",
    "from sklearn.datasets import make_regression\n",
    "x, y = make_regression(n_samples=5000, n_features=20, noise=2, random_state=42)\n",
    "y = y.reshape(-1, 1)\n",
    "\n",
    "batch_size = 64\n",
    "\n",
    "%time train(x, y, num_hidden=2, hidden_size=20, lr=1e-2, epochs=10)"
   ]
  },
  {
   "cell_type": "markdown",
   "id": "e662cf55",
   "metadata": {},
   "source": [
    "# Embedding type 2 - GIN training using attribute masking on clintox"
   ]
  },
  {
   "cell_type": "code",
   "execution_count": 9,
   "id": "835d1385",
   "metadata": {
    "tags": []
   },
   "outputs": [],
   "source": [
    "from torchdrug import data"
   ]
  },
  {
   "cell_type": "code",
   "execution_count": 10,
   "id": "a32366ba",
   "metadata": {
    "tags": []
   },
   "outputs": [],
   "source": [
    "model_name = \"models/zinc2m_gin.pth\"\n",
    "gin_model = torch.load(model_name).to(device)"
   ]
  },
  {
   "cell_type": "code",
   "execution_count": 11,
   "id": "00cda6b7",
   "metadata": {},
   "outputs": [],
   "source": [
    "def molecule_from_smile(smile):\n",
    "    try:\n",
    "        mol = data.Molecule.from_smiles(smile, atom_feature=\"pretrain\", bond_feature=\"pretrain\")\n",
    "    except Exception as e:\n",
    "        mol = data.Molecule.from_smiles(smile, atom_feature=\"pretrain\", bond_feature=\"pretrain\", with_hydrogen=True)\n",
    "    return mol\n",
    "\n",
    "def get_mol_embedding(model, smiles):\n",
    "    # deepchem - attribute masking\n",
    "    if isinstance(smiles, str):\n",
    "        mol = molecule_from_smile(smiles)\n",
    "    else:\n",
    "        mol = list(map(molecule_from_smile, smiles))\n",
    "        mol = data.Molecule.pack(mol)\n",
    "    mol = mol.to(device)\n",
    "    emb = model(mol, mol.node_feature.float())[\"graph_feature\"]\n",
    "    return emb.detach().cpu().numpy()\n",
    "\n",
    "def get_atom_embedding(model, smiles, idx):\n",
    "    try:\n",
    "        mol = data.Molecule.from_smiles(smiles, atom_feature=\"pretrain\", bond_feature=\"pretrain\")\n",
    "        emb = model(mol, mol.node_feature.float())[\"node_feature\"][idx]\n",
    "    except Exception as e:\n",
    "        mol = data.Molecule.from_smiles(smiles, atom_feature=\"pretrain\", bond_feature=\"pretrain\", with_hydrogen=True)\n",
    "        emb = model(mol, mol.node_feature.float())[\"node_feature\"][idx]\n",
    "    return emb.detach().cpu()\n",
    "\n",
    "def get_action_embedding(model, action_df):\n",
    "    rsub, rcen, rsig, _, psub, pcen, psig, __ = [action_df[c] for c in action_df.columns]\n",
    "#     print(get_mol_embedding(model, rsub).shape)\n",
    "#     print(get_atom_embedding(model, rsig, rcen).shape)\n",
    "#     print(get_mol_embedding(model, rsig).shape)\n",
    "#     print(get_mol_embedding(model, psub).shape)\n",
    "#     print(get_atom_embedding(model, psig, pcen).shape)\n",
    "#     print(get_mol_embedding(model, psig).shape)\n",
    "    embedding = np.concatenate([\n",
    "#                         get_mol_embedding(model, rsub), \n",
    "#                         get_atom_embedding(model, rsig, rcen) / 5, \n",
    "                        get_mol_embedding(model, rsig), \n",
    "#                         get_mol_embedding(model, psub), \n",
    "#                         get_atom_embedding(model, psig, pcen) / 5, \n",
    "                        get_mol_embedding(model, psig)\n",
    "                    ], axis=1)\n",
    "    return embedding"
   ]
  },
  {
   "cell_type": "code",
   "execution_count": 48,
   "id": "a6003605",
   "metadata": {
    "scrolled": false
   },
   "outputs": [
    {
     "name": "stderr",
     "output_type": "stream",
     "text": [
      "100%|██████████████████████████████████████████████████████████████| 396/396 [07:17<00:00,  1.11s/it]\n"
     ]
    },
    {
     "data": {
      "text/plain": [
       "(101213, 256)"
      ]
     },
     "execution_count": 48,
     "metadata": {},
     "output_type": "execute_result"
    }
   ],
   "source": [
    "batch_size = 256\n",
    "X = []\n",
    "for i in tqdm.tqdm(range(0, main_df.shape[0], batch_size)):\n",
    "    reactants = main_df[\"reactant\"][i:i+batch_size]\n",
    "    products = main_df[\"product\"][i:i+batch_size]\n",
    "    X.append(np.concatenate([get_mol_embedding(gin_model, reactants), get_mol_embedding(gin_model, products)], axis=1))\n",
    "X = np.concatenate(X, axis=0)\n",
    "emb_len = X.shape[1]//2\n",
    "X.shape"
   ]
  },
  {
   "cell_type": "code",
   "execution_count": 49,
   "id": "14ab411d",
   "metadata": {},
   "outputs": [
    {
     "name": "stderr",
     "output_type": "stream",
     "text": [
      "100%|██████████████████████████████████████████████████████████████| 396/396 [03:59<00:00,  1.65it/s]\n"
     ]
    },
    {
     "data": {
      "text/plain": [
       "(101213, 256)"
      ]
     },
     "execution_count": 49,
     "metadata": {},
     "output_type": "execute_result"
    }
   ],
   "source": [
    "Y = []\n",
    "for i in tqdm.tqdm(range(0, main_df.shape[0], batch_size)):\n",
    "    Y.append(get_action_embedding(gin_model, main_df.iloc[i:i+batch_size][main_df.columns[1:-1]]))\n",
    "Y = np.concatenate(Y)\n",
    "Y.shape"
   ]
  },
  {
   "cell_type": "markdown",
   "id": "32d1c369",
   "metadata": {},
   "source": [
    "### MSE training"
   ]
  },
  {
   "cell_type": "code",
   "execution_count": 50,
   "id": "04ffae30",
   "metadata": {
    "scrolled": true
   },
   "outputs": [
    {
     "name": "stdout",
     "output_type": "stream",
     "text": [
      "Epoch 1, Loss: 0.0783\n",
      "Epoch 2, Loss: 0.0624\n",
      "Epoch 3, Loss: 0.0530\n",
      "Epoch 4, Loss: 0.0457\n",
      "Epoch 5, Loss: 0.0392\n",
      "Epoch 6, Loss: 0.0351\n",
      "Epoch 7, Loss: 0.0308\n",
      "Epoch 8, Loss: 0.0277\n",
      "Epoch 9, Loss: 0.0258\n",
      "Epoch 10, Loss: 0.0241\n",
      "Epoch 11, Loss: 0.0224\n",
      "Epoch 12, Loss: 0.0225\n",
      "Epoch 13, Loss: 0.0208\n",
      "Epoch 14, Loss: 0.0195\n",
      "Epoch 15, Loss: 0.0189\n",
      "Epoch 16, Loss: 0.0179\n",
      "Epoch 17, Loss: 0.0178\n",
      "Epoch 18, Loss: 0.0166\n",
      "Epoch 19, Loss: 0.0167\n",
      "Epoch 20, Loss: 0.0162\n",
      "Epoch 21, Loss: 0.0151\n",
      "Epoch 22, Loss: 0.0149\n",
      "Epoch 23, Loss: 0.0141\n",
      "Epoch 24, Loss: 0.0143\n",
      "Epoch 25, Loss: 0.0140\n",
      "Epoch 26, Loss: 0.0135\n",
      "Epoch 27, Loss: 0.0129\n",
      "Epoch 28, Loss: 0.0120\n",
      "Epoch 29, Loss: 0.0126\n",
      "Epoch 30, Loss: 0.0125\n",
      "Epoch 31, Loss: 0.0129\n",
      "Epoch 32, Loss: 0.0133\n",
      "Epoch 33, Loss: 0.0145\n",
      "Epoch 34, Loss: 0.0130\n",
      "Epoch 35, Loss: 0.0119\n",
      "Epoch 36, Loss: 0.0118\n",
      "Epoch 37, Loss: 0.0118\n",
      "Epoch 38, Loss: 0.0121\n",
      "Epoch 39, Loss: 0.0108\n",
      "Epoch 40, Loss: 0.0112\n",
      "Epoch 41, Loss: 0.0142\n",
      "Epoch 42, Loss: 0.0156\n",
      "Epoch 43, Loss: 0.0129\n",
      "Epoch 44, Loss: 0.0128\n",
      "Epoch 45, Loss: 0.0122\n",
      "Epoch 46, Loss: 0.0126\n",
      "Epoch 47, Loss: 0.0122\n",
      "Epoch 48, Loss: 0.0109\n",
      "Epoch 49, Loss: 0.0109\n",
      "Epoch 50, Loss: 0.0115\n",
      "Epoch 51, Loss: 0.0104\n",
      "Epoch 52, Loss: 0.0114\n",
      "Epoch 53, Loss: 0.0105\n",
      "Epoch 54, Loss: 0.0108\n",
      "Epoch 55, Loss: 0.0101\n",
      "Epoch 56, Loss: 0.0102\n",
      "Epoch 57, Loss: 0.0089\n",
      "Epoch 58, Loss: 0.0088\n",
      "Epoch 59, Loss: 0.0086\n",
      "Epoch 60, Loss: 0.0095\n",
      "Epoch 61, Loss: 0.0093\n",
      "Epoch 62, Loss: 0.0106\n",
      "Epoch 63, Loss: 0.0103\n",
      "Epoch 64, Loss: 0.0097\n",
      "Epoch 65, Loss: 0.0095\n",
      "Epoch 66, Loss: 0.0104\n",
      "Epoch 67, Loss: 0.0092\n",
      "Epoch 68, Loss: 0.0094\n",
      "Epoch 69, Loss: 0.0091\n",
      "Epoch 70, Loss: 0.0098\n",
      "Epoch 71, Loss: 0.0095\n",
      "Epoch 72, Loss: 0.0089\n",
      "Epoch 73, Loss: 0.0088\n",
      "Epoch 74, Loss: 0.0102\n",
      "Epoch 75, Loss: 0.0088\n",
      "Epoch 76, Loss: 0.0090\n",
      "Epoch 77, Loss: 0.0091\n",
      "Epoch 78, Loss: 0.0097\n",
      "Epoch 79, Loss: 0.0096\n",
      "Epoch 80, Loss: 0.0111\n",
      "Epoch 81, Loss: 0.0098\n",
      "Epoch 82, Loss: 0.0102\n",
      "Epoch 83, Loss: 0.0083\n",
      "Epoch 84, Loss: 0.0086\n",
      "Epoch 85, Loss: 0.0084\n",
      "Epoch 86, Loss: 0.0084\n",
      "Epoch 87, Loss: 0.0077\n",
      "Epoch 88, Loss: 0.0080\n",
      "Epoch 89, Loss: 0.0073\n",
      "Epoch 90, Loss: 0.0073\n",
      "Epoch 91, Loss: 0.0069\n",
      "Epoch 92, Loss: 0.0072\n",
      "Epoch 93, Loss: 0.0070\n",
      "Epoch 94, Loss: 0.0072\n",
      "Epoch 95, Loss: 0.0071\n",
      "Epoch 96, Loss: 0.0077\n",
      "Epoch 97, Loss: 0.0073\n",
      "Epoch 98, Loss: 0.0079\n",
      "Epoch 99, Loss: 0.0077\n",
      "Epoch 100, Loss: 0.0092\n",
      "\n",
      "FINAL TEST LOSS: 0.0840127095580101\n"
     ]
    }
   ],
   "source": [
    "model = train(X, Y, hidden_size=500, num_hidden=3, lr=1e-3, epochs=100)"
   ]
  },
  {
   "cell_type": "code",
   "execution_count": null,
   "id": "57264831",
   "metadata": {},
   "outputs": [],
   "source": [
    "mse_model_path = \"datasets/my_uspto/supervised_zinc_gin/10step-mse_model.pth\"\n",
    "torch.save(model, mse_model_path)"
   ]
  },
  {
   "cell_type": "code",
   "execution_count": 15,
   "id": "d33f6d43",
   "metadata": {},
   "outputs": [
    {
     "name": "stdout",
     "output_type": "stream",
     "text": [
      "(89384, 8)\n"
     ]
    },
    {
     "name": "stderr",
     "output_type": "stream",
     "text": [
      "  7%|████▏                                                         | 94/1397 [00:15<03:33,  6.10it/s]/home/abhor/miniconda3/envs/de_novo/lib/python3.7/site-packages/torchdrug-0.2.0-py3.7.egg/torchdrug/data/feature.py:42: UserWarning: Unknown value `K`\n",
      "  warnings.warn(\"Unknown value `%s`\" % x)\n",
      " 63%|██████████████████████████████████████▍                      | 881/1397 [02:39<01:32,  5.55it/s]/home/abhor/miniconda3/envs/de_novo/lib/python3.7/site-packages/torchdrug-0.2.0-py3.7.egg/torchdrug/data/feature.py:42: UserWarning: Unknown value `Cr`\n",
      "  warnings.warn(\"Unknown value `%s`\" % x)\n",
      " 75%|█████████████████████████████████████████████▏              | 1051/1397 [03:11<01:03,  5.49it/s]/home/abhor/miniconda3/envs/de_novo/lib/python3.7/site-packages/torchdrug-0.2.0-py3.7.egg/torchdrug/data/feature.py:42: UserWarning: Unknown value `Cd`\n",
      "  warnings.warn(\"Unknown value `%s`\" % x)\n",
      " 84%|██████████████████████████████████████████████████▌         | 1176/1397 [03:35<00:38,  5.73it/s]/home/abhor/miniconda3/envs/de_novo/lib/python3.7/site-packages/torchdrug-0.2.0-py3.7.egg/torchdrug/data/feature.py:42: UserWarning: Unknown value `Ge`\n",
      "  warnings.warn(\"Unknown value `%s`\" % x)\n",
      " 86%|███████████████████████████████████████████████████▊        | 1207/1397 [03:41<00:36,  5.21it/s]/home/abhor/miniconda3/envs/de_novo/lib/python3.7/site-packages/torchdrug-0.2.0-py3.7.egg/torchdrug/data/feature.py:42: UserWarning: Unknown value `Ti`\n",
      "  warnings.warn(\"Unknown value `%s`\" % x)\n",
      " 93%|████████████████████████████████████████████████████████    | 1304/1397 [04:01<00:17,  5.21it/s]/home/abhor/miniconda3/envs/de_novo/lib/python3.7/site-packages/torchdrug-0.2.0-py3.7.egg/torchdrug/data/feature.py:42: UserWarning: Unknown value `Pt`\n",
      "  warnings.warn(\"Unknown value `%s`\" % x)\n",
      " 99%|███████████████████████████████████████████████████████████▋| 1389/1397 [04:18<00:01,  4.89it/s]/home/abhor/miniconda3/envs/de_novo/lib/python3.7/site-packages/torchdrug-0.2.0-py3.7.egg/torchdrug/data/feature.py:42: UserWarning: Unknown value `Ru`\n",
      "  warnings.warn(\"Unknown value `%s`\" % x)\n",
      "100%|███████████████████████████████████████████████████████████▊| 1393/1397 [04:19<00:00,  4.79it/s]/home/abhor/miniconda3/envs/de_novo/lib/python3.7/site-packages/torchdrug-0.2.0-py3.7.egg/torchdrug/data/feature.py:42: UserWarning: Unknown value `Ta`\n",
      "  warnings.warn(\"Unknown value `%s`\" % x)\n",
      "100%|████████████████████████████████████████████████████████████| 1397/1397 [04:20<00:00,  5.36it/s]"
     ]
    },
    {
     "name": "stdout",
     "output_type": "stream",
     "text": [
      "(89384, 256)\n"
     ]
    },
    {
     "name": "stderr",
     "output_type": "stream",
     "text": [
      "\n"
     ]
    }
   ],
   "source": [
    "action_dataset = pd.read_csv(\"datasets/my_uspto/action_dataset-filtered.csv\", index_col=0)\n",
    "action_dataset = action_dataset.loc[action_dataset[\"action_tested\"] & action_dataset[\"action_works\"]]\n",
    "action_dataset = action_dataset[[\"rsub\", \"rcen\", \"rsig\", \"rbond\", \"psub\", \"pcen\", \"psig\", \"pbond\"]]\n",
    "print(action_dataset.shape)\n",
    "\n",
    "def get_action_dataset_embeddings(model):\n",
    "    action_embeddings = []\n",
    "    for i in tqdm.tqdm(range(0, action_dataset.shape[0], batch_size)):\n",
    "        action_embeddings.append(get_action_embedding(model, action_dataset.iloc[i:i+batch_size]))\n",
    "    action_embeddings = np.concatenate(action_embeddings)\n",
    "    return action_embeddings\n",
    "\n",
    "action_embeddings = get_action_dataset_embeddings(gin_model)\n",
    "print(action_embeddings.shape)"
   ]
  },
  {
   "cell_type": "markdown",
   "id": "bf33fb20",
   "metadata": {},
   "source": [
    "### Back to modeling"
   ]
  },
  {
   "cell_type": "code",
   "execution_count": 51,
   "id": "e39854d5",
   "metadata": {},
   "outputs": [
    {
     "name": "stderr",
     "output_type": "stream",
     "text": [
      "100%|███████████████████████████████████████████████████████| 101213/101213 [03:29<00:00, 482.58it/s]\n"
     ]
    }
   ],
   "source": [
    "# I'm storing as lists, so doing numpy operations for the elements\n",
    "correct_indices = []\n",
    "action_embedding_indices = []\n",
    "\n",
    "def get_emb_indices_and_correct_idx(row):\n",
    "    if isinstance(row, tuple): # For pandas iterrows\n",
    "        row = row[1]\n",
    "    \n",
    "    # Applicable indices\n",
    "    applicable_actions_df = get_applicable_actions(Chem.MolFromSmiles(row[\"reactant\"]))\n",
    "    if applicable_actions_df.shape[0] == 0:\n",
    "        # If there are no applicable actions detected (rdkit problems)\n",
    "        indices_used_for_data = np.where((action_dataset.index == row.name))[0]\n",
    "        correct_idx = 0\n",
    "    else:\n",
    "        indices_used_for_data = np.where(action_dataset.index.isin(applicable_actions_df.index))[0]\n",
    "        \n",
    "        # Correct index\n",
    "        applicable_actions_df = applicable_actions_df.loc[action_dataset.iloc[indices_used_for_data].index]\n",
    "        correct_idx = (applicable_actions_df.index == row.name).argmax()\n",
    "\n",
    "    \n",
    "    return indices_used_for_data, correct_idx\n",
    "\n",
    "# for indices_used_for_data, correct_idx in tqdm.tqdm(map(get_emb_indices_and_correct_idx, main_df.iterrows()), total=main_df.shape[0]):\n",
    "with Pool(20) as p:\n",
    "    for indices_used_for_data, correct_idx in tqdm.tqdm(p.imap(get_emb_indices_and_correct_idx, main_df.iterrows(), chunksize=50), total=main_df.shape[0]):\n",
    "        action_embedding_indices.append(indices_used_for_data)\n",
    "        correct_indices.append(correct_idx)\n",
    "\n",
    "        assert correct_indices[-1] < len(action_embedding_indices[-1]), f\"WHAT!? {correct_indices[-1]} vs {len(indices_used_for_data)}\""
   ]
  },
  {
   "cell_type": "code",
   "execution_count": 52,
   "id": "a56268a9",
   "metadata": {},
   "outputs": [
    {
     "name": "stderr",
     "output_type": "stream",
     "text": [
      "100%|████████████████████████████████████████████████████████| 20243/20243 [00:07<00:00, 2662.64it/s]"
     ]
    },
    {
     "name": "stdout",
     "output_type": "stream",
     "text": [
      "117.6499530701971(316.6066788519488) +- 308.4157781758335  \n"
     ]
    },
    {
     "name": "stderr",
     "output_type": "stream",
     "text": [
      "\n"
     ]
    }
   ],
   "source": [
    "def get_ranking(pred, emb_for_comparison, correct_index, distance=\"euclidean\", k=None):\n",
    "    '''\n",
    "    Get the rank of the prediction from the applicable actions.\n",
    "    Returns (rank, [list_of_indices before <rank>])\n",
    "    '''\n",
    "    if distance == \"euclidean\":\n",
    "        dist = ((emb_for_comparison-pred)**2).sum(axis=1)\n",
    "    elif distance == \"cosine\":\n",
    "        dist = 1 - (emb_for_comparison.dot(pred))/(np.linalg.norm(emb_for_comparison, axis=1)*np.linalg.norm(pred))\n",
    "\n",
    "    maxy = max(dist)\n",
    "\n",
    "    list_of_indices = []\n",
    "    for attempt in range(dist.shape[0]):\n",
    "        miny = dist.argmin()\n",
    "#         print(miny, correct_index, dist[correct_index], min(dist), maxy)\n",
    "        if dist[miny] == dist[correct_index]:\n",
    "#             print(i, attempt)\n",
    "            break\n",
    "        else:\n",
    "            list_of_indices.append(miny)\n",
    "            if k is not None and len(list_of_indices) == k:\n",
    "                return list_of_indices\n",
    "            dist[miny] = 100000\n",
    "    \n",
    "    # When the rank(correct_index) < k, then returns <rank, list>. So this extra condition - add some indices after rank(correct_index) to the list\n",
    "    if k is not None:\n",
    "        dist[miny] = 100000\n",
    "        for attempt in range(min(k, emb_for_comparison.shape[0]-1) - len(list_of_indices)):\n",
    "            miny = dist.argmin()\n",
    "            list_of_indices.append(miny)\n",
    "            dist[miny] = 100000\n",
    "        return list_of_indices\n",
    "    return attempt, list_of_indices\n",
    "\n",
    "def get_top_k_indices(pred, emb_for_comparison, correct_index, distance=\"euclidean\", k=1):\n",
    "    return get_ranking(pred, emb_for_comparison, correct_index, distance, k)\n",
    "    \n",
    "pred = model(torch.Tensor(X[int(main_df.shape[0]*0.8):]).to(device)).detach().cpu().numpy()\n",
    "l = []\n",
    "total = []\n",
    "for i in tqdm.tqdm(range(pred.shape[0])):\n",
    "    pred_for_i = pred[i]\n",
    "    act_emb_for_i, correct_index = action_embeddings[action_embedding_indices[int(main_df.shape[0]*0.8)+i]], correct_indices[int(main_df.shape[0]*0.8)+i]\n",
    "\n",
    "    rank, list_of_indices = get_ranking(pred_for_i, act_emb_for_i, correct_index, distance=\"euclidean\")\n",
    "    l.append(rank)\n",
    "    total.append(act_emb_for_i.shape[0])\n",
    "print(f\"{np.mean(l)}({np.mean(total)}) +- {np.std(l)}  \")\n"
   ]
  },
  {
   "cell_type": "code",
   "execution_count": null,
   "id": "7f47546d",
   "metadata": {},
   "outputs": [],
   "source": [
    "del model, pred, X, Y"
   ]
  },
  {
   "cell_type": "code",
   "execution_count": null,
   "id": "e7213fb2",
   "metadata": {
    "scrolled": true
   },
   "outputs": [],
   "source": [
    "# https://github.com/mangye16/ReID-Survey\n",
    "def euclidean_dist(x, y):\n",
    "    \"\"\"\n",
    "    Args:\n",
    "      x: pytorch Variable, with shape [m, d]\n",
    "      y: pytorch Variable, with shape [n, d]\n",
    "    Returns:\n",
    "      dist: pytorch Variable, with shape [m, n]\n",
    "    \"\"\"\n",
    "    m, n = x.size(0), y.size(0)\n",
    "    xx = torch.pow(x, 2).sum(1, keepdim=True).expand(m, n)\n",
    "    yy = torch.pow(y, 2).sum(1, keepdim=True).expand(n, m).t()\n",
    "    dist = xx + yy\n",
    "    dist.addmm_(1, -2, x, y.t())\n",
    "    dist = dist.clamp(min=1e-12).sqrt()  # for numerical stability\n",
    "    return dist\n",
    "\n",
    "def cosine_dist(x, y):\n",
    "    xy = x.matmul(y.t())\n",
    "\n",
    "    m, n = x.size(0), y.size(0)\n",
    "    xx = torch.linalg.norm(x, axis=1).expand(n, m).t()\n",
    "    yy = torch.linalg.norm(y, axis=1).expand(m, n)\n",
    "    \n",
    "    return 1 - xy / (xx*yy)\n",
    "\n",
    "\n",
    "def softmax_weights(dist, mask):\n",
    "    max_v = torch.max(dist * mask, dim=1, keepdim=True)[0]\n",
    "    diff = dist - max_v\n",
    "    Z = torch.sum(torch.exp(diff) * mask, dim=1, keepdim=True) + 1e-6 # avoid division by zero\n",
    "    W = torch.exp(diff) * mask / Z\n",
    "    return W\n",
    "\n",
    "class WeightedRegularizedTriplet(object):\n",
    "    def __init__(self, dist=\"euclidean\"):\n",
    "        self.ranking_loss = nn.SoftMarginLoss()\n",
    "        self.dist = dist\n",
    "\n",
    "    def __call__(self, global_feat, labels):\n",
    "        if self.dist==\"euclidean\":\n",
    "            dist_mat = euclidean_dist(global_feat, global_feat)\n",
    "        elif self.dist==\"cosine\":\n",
    "            dist_mat = cosine_dist(global_feat, global_feat) ####### NEEEDS TO BE CHANGED!!!!!!!!!!!\n",
    "\n",
    "        N = dist_mat.size(0)\n",
    "        # shape [N, N]\n",
    "        is_pos = labels.expand(N, N).eq(labels.expand(N, N).t()).float()\n",
    "        is_neg = labels.expand(N, N).ne(labels.expand(N, N).t()).float()\n",
    "\n",
    "        # `dist_ap` means distance(anchor, positive)\n",
    "        # both `dist_ap` and `relative_p_inds` with shape [N, 1]\n",
    "        dist_ap = dist_mat * is_pos\n",
    "        dist_an = dist_mat * is_neg\n",
    "\n",
    "        weights_ap = softmax_weights(dist_ap, is_pos)\n",
    "        weights_an = softmax_weights(-dist_an, is_neg)\n",
    "        furthest_positive = torch.sum(dist_ap * weights_ap, dim=1)\n",
    "        closest_negative = torch.sum(dist_an * weights_an, dim=1)\n",
    "\n",
    "        y = furthest_positive.new().resize_as_(furthest_positive).fill_(1)\n",
    "        loss = self.ranking_loss(closest_negative - furthest_positive, y)\n",
    "\n",
    "        return loss"
   ]
  },
  {
   "cell_type": "code",
   "execution_count": null,
   "id": "ae378842",
   "metadata": {},
   "outputs": [],
   "source": [
    "train_idx = np.arange(0, int(main_df.shape[0]*0.8))\n",
    "test_idx = np.arange(int(main_df.shape[0]*0.8), main_df.shape[0])"
   ]
  },
  {
   "cell_type": "code",
   "execution_count": null,
   "id": "c09cc699",
   "metadata": {},
   "outputs": [],
   "source": [
    "%%time\n",
    "%matplotlib inline\n",
    "train_reactants = data.Molecule.pack(list(map(molecule_from_smile, main_df.iloc[train_idx][\"reactant\"]))).to(device)\n",
    "train_products = data.Molecule.pack(list(map(molecule_from_smile, main_df.iloc[train_idx][\"product\"]))).to(device)\n",
    "\n",
    "test_reactants = data.Molecule.pack(list(map(molecule_from_smile, main_df.iloc[test_idx][\"reactant\"]))).to(device)\n",
    "test_products = data.Molecule.pack(list(map(molecule_from_smile, main_df.iloc[test_idx][\"product\"]))).to(device)"
   ]
  },
  {
   "cell_type": "code",
   "execution_count": null,
   "id": "e2011ce0",
   "metadata": {},
   "outputs": [],
   "source": [
    "class PolicyNetwork(nn.Module):\n",
    "    def __init__(self):\n",
    "        super(PolicyNetwork, self).__init__()\n",
    "        self.GIN = torch.load(\"models/zinc2m_gin.pth\")\n",
    "        self.DENSE = torch.load(mse_model_path)\n",
    "    \n",
    "    def forward(self, x1, x2):\n",
    "        out1 = self.GIN(x1, x1.node_feature.float())[\"graph_feature\"]\n",
    "        out2 = self.GIN(x2, x2.node_feature.float())[\"graph_feature\"]\n",
    "        \n",
    "        out = torch.concatenate([out1, out2], axis=1)\n",
    "        out = self.DENSE(out)\n",
    "        return out"
   ]
  },
  {
   "cell_type": "code",
   "execution_count": null,
   "id": "f532f0e6",
   "metadata": {
    "scrolled": false
   },
   "outputs": [],
   "source": [
    "lr = 1e-3\n",
    "epochs = 50\n",
    "batch_size = 128\n",
    "\n",
    "action_embeddings = get_action_dataset_embeddings(gin_model)\n",
    "# action_embeddings = _action_embeddings.copy()\n",
    "action_embeddings_norm = np.linalg.norm(action_embeddings)\n",
    "\n",
    "for distance_metric, negative_method, topk, emb_model_update in itertools.product([\"euclidean\"], [\"all\"], [10], [1]):\n",
    "    print(\"@\"*190)\n",
    "    print(\"@\"*190)\n",
    "    print(\"@\"*190)\n",
    "    \n",
    "    model = PolicyNetwork().to(device)\n",
    "    embedding_model = torch.load(\"models/zinc2m_gin.pth\").to(device)\n",
    "    optimizer = torch.optim.Adam(model.parameters(), lr=lr)  \n",
    "    criterion = WeightedRegularizedTriplet()\n",
    "    \n",
    "    metric_dict = {\"rank(cosine)\": [], \"rank(euclidean)\": [], \"rmse\": [], \"cos_dist\": []}\n",
    "    # Train the model\n",
    "    for epoch in range(1, epochs+1):\n",
    "        model.train()\n",
    "        for i in range(0, train_reactants.batch_size - batch_size, batch_size):\n",
    "            # Forward pass\n",
    "            outputs = model(train_reactants[i:i+batch_size], train_products[i:i+batch_size])\n",
    "\n",
    "            # Calc negatives\n",
    "            negatives = []\n",
    "            \n",
    "            for _i in range(outputs.shape[0]):\n",
    "                act_emb_for_i, correct_index = action_embeddings[action_embedding_indices[train_idx[i+_i]]], correct_indices[train_idx[i+_i]]\n",
    "                curr_out = outputs[_i].detach().cpu().numpy()\n",
    "\n",
    "                if negative_method == \"applicable\":\n",
    "                    top = get_top_k_indices(curr_out, act_emb_for_i, correct_index, distance=distance_metric, k=50)\n",
    "                    negatives.append(act_emb_for_i[top])\n",
    "                \n",
    "                elif negative_method == \"all\":\n",
    "                    if distance_metric == \"euclidean\":\n",
    "                        dist = np.linalg.norm(action_embeddings - curr_out)\n",
    "                    elif distance_metric == \"cosine\":\n",
    "                        dist = (1 - action_embeddings.dot(curr_out)) / (action_embeddings_norm *np.linalg.norm(curr_out))\n",
    "                    sorted_idx = np.argsort(dist)[:topk] # get topk\n",
    "                    sorted_idx = sorted_idx[sorted_idx != correct_index] # Remove if correct index in list\n",
    "                    negatives.append(action_embeddings[sorted_idx])\n",
    "                        \n",
    "            negatives = torch.Tensor(np.concatenate(negatives, axis=0)).to(device)\n",
    "                                \n",
    "            # get targets\n",
    "            targets = torch.Tensor(get_action_embedding(embedding_model, main_df.iloc[i:i+batch_size][main_df.columns[1:-1]])).to(device)\n",
    "                                \n",
    "            # Calc loss\n",
    "            inputs = torch.concat([outputs, targets, negatives])\n",
    "            labels = torch.concat([torch.arange(outputs.shape[0]), torch.arange(targets.shape[0]), torch.full((negatives.shape[0],), -1)]).to(device)\n",
    "            loss = criterion(inputs, labels)\n",
    "\n",
    "            # Backward and optimize\n",
    "            optimizer.zero_grad()\n",
    "            loss.backward()\n",
    "            optimizer.step()\n",
    "\n",
    "        print ('{:.6f}({})'.format(loss.item(), epoch), end='  ')\n",
    "        \n",
    "        # SWITCH INDENT HERE ----\n",
    "        model.eval()\n",
    "        with torch.no_grad():\n",
    "            print()\n",
    "\n",
    "            margin_string = f\"# emb_model_update = {emb_model_update} | -ve_method = {negative_method} | dist_metric = {distance_metric} | topk = {topk} #\"\n",
    "            print(\"#\" * len(margin_string))\n",
    "            print(margin_string)\n",
    "            print(\"#\" * len(margin_string))\n",
    "\n",
    "            # Predictions and action component-wise loss\n",
    "            pred = model(test_reactants, test_products).detach().cpu().numpy() \n",
    "            true = get_action_embedding(embedding_model, main_df.iloc[test_idx][main_df.columns[1:-1]])\n",
    "\n",
    "            metric_df = pd.DataFrame(columns=[\"rmse\", \"cos_dist\", \"rank(euclidean)\", \"rank(cosine)\"])\n",
    "\n",
    "            # Print Test metrics\n",
    "            metric_dict[\"rmse\"].append( (((pred-true)**2).sum(axis=1)**0.5).mean() )\n",
    "            metric_dict[\"cos_dist\"].append( ((pred*true).sum(axis=1) / np.linalg.norm(pred, axis=1) / np.linalg.norm(true, axis=1)).mean() )\n",
    "\n",
    "            # Print Test metric - Rank\n",
    "            for dist in [\"euclidean\", \"cosine\"]:\n",
    "                rank_list = []\n",
    "                l = []\n",
    "                total = []\n",
    "                for i in range(pred.shape[0]):\n",
    "                    pred_for_i = pred[i]\n",
    "                    act_emb_for_i, correct_index = action_embeddings[action_embedding_indices[test_idx[i]]], correct_indices[test_idx[i]]\n",
    "\n",
    "                    rank, list_of_indices = get_ranking(pred_for_i, act_emb_for_i, correct_index, distance=dist)\n",
    "                    l.append(rank)\n",
    "                    total.append(act_emb_for_i.shape[0])\n",
    "                rank_list.append(f\"{np.mean(l):.4f}({np.mean(total)}) +- {np.std(l):.4f}\")\n",
    "                metric_dict[f\"rank({dist})\"].append(np.mean(l))\n",
    "\n",
    "            for col in metric_df.columns:\n",
    "                metric_df[col] = [metric_dict[col][-1]]\n",
    "            metric_df.index = [epoch]\n",
    "            print(tabulate(metric_df, headers='keys', tablefmt='fancy_grid'))\n",
    "            print()\n",
    "            \n",
    "        # Update embedding model and action_embeddings\n",
    "        if epoch % emb_model_update == 0:\n",
    "            embedding_model.load_state_dict(model.GIN.state_dict())\n",
    "            action_embeddings = get_action_dataset_embeddings(embedding_model)\n",
    "            action_embeddings_norm = np.linalg.norm(action_embeddings)\n",
    "            \n",
    "    fig = plt.figure(figsize=(8, 8))\n",
    "    for dist in filter(lambda x: \"rank\" in x, metric_dict.keys()):\n",
    "        plt.plot(metric_dict[dist], label=dist)\n",
    "    plt.title(distance_metric)\n",
    "    plt.xlabel(\"epoch\")\n",
    "    plt.ylabel(\"ranking\")\n",
    "    plt.legend()\n",
    "    fig.show()\n",
    "    \n",
    "    # save everything\n",
    "    folder = f\"models/supervised/5step/emb_model_update={emb_model_update}||-ve_method={negative_method}||dist_metric={distance_metric}||topk={topk}\"\n",
    "    os.makedirs(folder, exist_ok = True)\n",
    "    torch.save(model, os.path.join(folder, \"model.pth\"))\n",
    "    pd.DataFrame.from_dict(metric_dict).to_csv(os.path.join(folder, \"metrics.csv\"))\n",
    "    fig.savefig(os.path.join(folder, \"plot.png\"))\n",
    "    json.dump({\n",
    "        \"lr\": lr,\n",
    "        \"epochs\": epochs, \n",
    "        \"batch_size\": batch_size,\n",
    "        \"train_samples\": train_idx.shape,\n",
    "        \"test_samples\": test_idx.shape,\n",
    "        \"distance_metric\": distance_metric,\n",
    "        \"negative_method\": negative_method,\n",
    "        \"topk\": topk,\n",
    "        \"emb_model_update\": emb_model_update,\n",
    "    }, open(os.path.join(folder, \"config.txt\"), 'w'))"
   ]
  },
  {
   "cell_type": "code",
   "execution_count": null,
   "id": "1bd5e922",
   "metadata": {},
   "outputs": [],
   "source": []
  }
 ],
 "metadata": {
  "kernelspec": {
   "display_name": "Python 3 (ipykernel)",
   "language": "python",
   "name": "python3"
  },
  "language_info": {
   "codemirror_mode": {
    "name": "ipython",
    "version": 3
   },
   "file_extension": ".py",
   "mimetype": "text/x-python",
   "name": "python",
   "nbconvert_exporter": "python",
   "pygments_lexer": "ipython3",
   "version": "3.7.16"
  }
 },
 "nbformat": 4,
 "nbformat_minor": 5
}
