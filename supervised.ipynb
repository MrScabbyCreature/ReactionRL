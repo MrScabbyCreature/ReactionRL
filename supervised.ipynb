{
 "cells": [
  {
   "cell_type": "code",
   "execution_count": 2,
   "id": "f862867f",
   "metadata": {
    "scrolled": true
   },
   "outputs": [],
   "source": [
    "from rdkit import Chem\n",
    "import pickle\n",
    "import pandas as pd\n",
    "from IPython.display import display\n",
    "from matplotlib import pyplot as plt\n",
    "import tqdm\n",
    "import numpy as np\n",
    "import itertools\n",
    "from tabulate import tabulate\n",
    "\n",
    "from action_utils import *"
   ]
  },
  {
   "cell_type": "markdown",
   "id": "86bc543b",
   "metadata": {},
   "source": [
    "# Create dataset"
   ]
  },
  {
   "cell_type": "markdown",
   "id": "8afdcb69",
   "metadata": {},
   "source": [
    "start_mols = pickle.load(open(\"datasets/my_uspto/unique_start_mols.pickle\", 'rb'))"
   ]
  },
  {
   "cell_type": "markdown",
   "id": "13e1186d",
   "metadata": {},
   "source": [
    "np.random.seed(42)\n",
    "indices = np.random.randint(0, start_mols.shape[0], size=(10000,))\n",
    "start_mols = start_mols.iloc[indices]"
   ]
  },
  {
   "cell_type": "markdown",
   "id": "55dbac54",
   "metadata": {
    "scrolled": true
   },
   "source": [
    "main_df = pd.DataFrame(columns=[\"reactant\", \"rsub\", \"rcen\", \"rsig\", \"rsig_cs_indices\", \"psub\", \"pcen\", \"psig\", \"psig_cs_indices\", \"product\"])\n",
    "index = []\n",
    "\n",
    "for smile in tqdm.tqdm(start_mols):\n",
    "    mol = Chem.MolFromSmiles(smile)\n",
    "    actions = get_applicable_actions(mol)\n",
    "    \n",
    "    for i in range(actions.shape[0]):\n",
    "        product = apply_action(mol, *actions.iloc[i])\n",
    "        main_df.loc[main_df.shape[0]] = [smile] + actions.iloc[i].tolist() + [Chem.MolToSmiles(product)]\n",
    "        index.append(actions.iloc[i].name)\n",
    "        \n",
    "print(main_df.shape)\n",
    "\n",
    "main_df.to_csv(\"datasets/my_uspto/supervised_zinc_gin/dataset.csv\")"
   ]
  },
  {
   "cell_type": "code",
   "execution_count": 3,
   "id": "536ae7f8",
   "metadata": {},
   "outputs": [],
   "source": [
    "main_df = pd.read_csv(\"datasets/my_uspto/supervised_zinc_gin/dataset.csv\", index_col=0)"
   ]
  },
  {
   "cell_type": "code",
   "execution_count": 4,
   "id": "660f7320",
   "metadata": {
    "scrolled": true
   },
   "outputs": [
    {
     "name": "stdout",
     "output_type": "stream",
     "text": [
      "(3976954, 10)\n",
      "(50000, 10)\n"
     ]
    }
   ],
   "source": [
    "N = 50000\n",
    "\n",
    "# take N samples of it\n",
    "np.random.seed(42)\n",
    "print(main_df.shape)\n",
    "elements_to_fetch = np.random.randint(0, main_df.shape[0], size=(N,))\n",
    "main_df = main_df.iloc[elements_to_fetch]\n",
    "print(main_df.shape)"
   ]
  },
  {
   "cell_type": "markdown",
   "id": "56d58b5a",
   "metadata": {},
   "source": [
    "# Neural Network!"
   ]
  },
  {
   "cell_type": "code",
   "execution_count": 5,
   "id": "c3e1a52c",
   "metadata": {},
   "outputs": [],
   "source": [
    "import torch\n",
    "import torch.nn as nn\n",
    "import torch.optim as optim"
   ]
  },
  {
   "cell_type": "code",
   "execution_count": 6,
   "id": "48289f6d",
   "metadata": {},
   "outputs": [
    {
     "name": "stderr",
     "output_type": "stream",
     "text": [
      "/home/abhor/miniconda3/envs/de_nono/lib/python3.7/site-packages/sklearn/feature_extraction/image.py:167: DeprecationWarning: `np.int` is a deprecated alias for the builtin `int`. To silence this warning, use `int` by itself. Doing this will not modify any behavior and is safe. When replacing `np.int`, you may wish to use e.g. `np.int64` or `np.int32` to specify the precision. If you wish to review your current use, check the release note link for additional information.\n",
      "Deprecated in NumPy 1.20; for more details and guidance: https://numpy.org/devdocs/release/1.20.0-notes.html#deprecations\n",
      "  dtype=np.int):\n"
     ]
    },
    {
     "name": "stdout",
     "output_type": "stream",
     "text": [
      "Epoch 1, Loss: 23390.2832\n",
      "Epoch 2, Loss: 13377.2314\n",
      "Epoch 3, Loss: 4469.2329\n",
      "Epoch 4, Loss: 992.6092\n",
      "Epoch 5, Loss: 388.2829\n",
      "Epoch 6, Loss: 317.5132\n",
      "Epoch 7, Loss: 314.5187\n",
      "Epoch 8, Loss: 298.4244\n",
      "Epoch 9, Loss: 305.1437\n",
      "Epoch 10, Loss: 306.0251\n",
      "\n",
      "FINAL TEST LOSS: 79.63263702392578\n"
     ]
    },
    {
     "data": {
      "image/png": "[encoded data removed]",
      "text/plain": [
       "<Figure size 432x288 with 1 Axes>"
      ]
     },
     "metadata": {
      "needs_background": "light"
     },
     "output_type": "display_data"
    },
    {
     "data": {
      "text/plain": [
       "NeuralNet(\n",
       "  (fc1): Linear(in_features=20, out_features=20, bias=True)\n",
       "  (bn1): BatchNorm1d(20, eps=1e-05, momentum=0.1, affine=True, track_running_stats=True)\n",
       "  (relu): ReLU()\n",
       "  (hidden_layers): ModuleList(\n",
       "    (0): Linear(in_features=20, out_features=20, bias=True)\n",
       "    (1): BatchNorm1d(20, eps=1e-05, momentum=0.1, affine=True, track_running_stats=True)\n",
       "    (2): ReLU()\n",
       "    (3): Linear(in_features=20, out_features=20, bias=True)\n",
       "    (4): BatchNorm1d(20, eps=1e-05, momentum=0.1, affine=True, track_running_stats=True)\n",
       "    (5): ReLU()\n",
       "  )\n",
       "  (last_layer): Linear(in_features=20, out_features=1, bias=True)\n",
       ")"
      ]
     },
     "execution_count": 6,
     "metadata": {},
     "output_type": "execute_result"
    }
   ],
   "source": [
    "class NeuralNet(nn.Module):\n",
    "    def __init__(self, input_size, output_size, num_hidden=1, hidden_size=50):\n",
    "        super(NeuralNet, self).__init__()\n",
    "        self.fc1 = nn.Linear(input_size, hidden_size)\n",
    "        self.bn1 = nn.BatchNorm1d(hidden_size)\n",
    "        self.relu = nn.ReLU()\n",
    "        self.hidden_layers = nn.ModuleList()\n",
    "        for i in range(num_hidden):\n",
    "            self.hidden_layers.append(nn.Linear(hidden_size, hidden_size))\n",
    "            self.hidden_layers.append(nn.BatchNorm1d(hidden_size))\n",
    "            self.hidden_layers.append(nn.ReLU())\n",
    "            \n",
    "        self.last_layer = nn.Linear(hidden_size, output_size)  \n",
    "    \n",
    "    def forward(self, x):\n",
    "        out = self.fc1(x)\n",
    "        out = self.bn1(out)\n",
    "        out = self.relu(out)\n",
    "        for layer in self.hidden_layers:\n",
    "            out = layer(out)\n",
    "        out = self.last_layer(out)\n",
    "        return out\n",
    "    \n",
    "\n",
    "def train(X, Y, num_hidden=1, hidden_size=50, lr=1e-2, bs=64, epochs=100):\n",
    "    train_X = torch.Tensor(X[:int(X.shape[0]*0.7)])\n",
    "    train_Y = torch.Tensor(Y[:int(Y.shape[0]*0.7)])\n",
    "\n",
    "    test_X = torch.Tensor(X[int(X.shape[0]*0.7):])\n",
    "    test_Y = torch.Tensor(Y[int(Y.shape[0]*0.7):])\n",
    "    \n",
    "    model = NeuralNet(train_X.shape[1], train_Y.shape[1], num_hidden=num_hidden, hidden_size=hidden_size)\n",
    "    \n",
    "    criterion = nn.MSELoss()\n",
    "    optimizer = torch.optim.Adam(model.parameters(), lr=lr)  \n",
    "\n",
    "    loss_list = []\n",
    "    test_loss = []\n",
    "\n",
    "    # Train the model\n",
    "    for epoch in range(epochs):\n",
    "        for i in range(0, train_X.shape[0], batch_size):\n",
    "            # Forward pass\n",
    "            outputs = model(train_X[i:i+batch_size])\n",
    "            loss = criterion(outputs, train_Y[i:i+batch_size])\n",
    "\n",
    "            # Backward and optimize\n",
    "            optimizer.zero_grad()\n",
    "            loss.backward()\n",
    "            optimizer.step()\n",
    "        \n",
    "        loss_list.append(loss.item())\n",
    "        print ('Epoch {}, Loss: {:.4f}'.format(epoch+1, loss.item()))\n",
    "        \n",
    "        test_loss.append(criterion(model(test_X), test_Y).item()) \n",
    "    print(\"\\nFINAL TEST LOSS:\", test_loss[-1])\n",
    "        \n",
    "    plt.plot(loss_list, label=\"training loss\")\n",
    "    plt.plot(test_loss, label=\"test loss\")\n",
    "    plt.legend()\n",
    "    plt.xlabel(\"epoch\")\n",
    "    plt.ylabel(\"loss\")\n",
    "    plt.show()\n",
    "        \n",
    "    return model\n",
    "        \n",
    "from sklearn.datasets import make_regression\n",
    "x, y = make_regression(n_samples=5000, n_features=20, noise=2, random_state=42)\n",
    "y = y.reshape(-1, 1)\n",
    "\n",
    "batch_size = 64\n",
    "\n",
    "train(x, y, num_hidden=2, hidden_size=20, lr=1e-2, epochs=10)"
   ]
  },
  {
   "cell_type": "markdown",
   "id": "e662cf55",
   "metadata": {},
   "source": [
    "# Embedding type 2 - GIN training using attribute masking on clintox"
   ]
  },
  {
   "cell_type": "code",
   "execution_count": null,
   "id": "835d1385",
   "metadata": {},
   "outputs": [],
   "source": [
    "from torchdrug import data"
   ]
  },
  {
   "cell_type": "code",
   "execution_count": null,
   "id": "261570ac",
   "metadata": {},
   "outputs": [],
   "source": [
    "model_name = \"models/zinc2m_gin.pth\"\n",
    "clintox_gin = torch.load(model_name)"
   ]
  },
  {
   "cell_type": "code",
   "execution_count": null,
   "id": "9047bf2f",
   "metadata": {},
   "outputs": [],
   "source": [
    "def clintox_gin_mol_embedding(smiles):\n",
    "    try:\n",
    "        mol = data.Molecule.from_smiles(smiles, atom_feature=\"pretrain\", bond_feature=\"pretrain\")\n",
    "        emb = clintox_gin(mol, mol.node_feature.float())[\"graph_feature\"]\n",
    "    except Exception as e:\n",
    "        mol = data.Molecule.from_smiles(smiles, atom_feature=\"pretrain\", bond_feature=\"pretrain\", with_hydrogen=True)\n",
    "        emb = clintox_gin(mol, mol.node_feature.float())[\"graph_feature\"]\n",
    "    return emb.detach().cpu()[0]\n",
    "\n",
    "def clintox_gin_atom_embedding(smiles, idx):\n",
    "    try:\n",
    "        mol = data.Molecule.from_smiles(smiles, atom_feature=\"pretrain\", bond_feature=\"pretrain\")\n",
    "        emb = clintox_gin(mol, mol.node_feature.float())[\"node_feature\"][idx]\n",
    "    except Exception as e:\n",
    "        mol = data.Molecule.from_smiles(smiles, atom_feature=\"pretrain\", bond_feature=\"pretrain\", with_hydrogen=True)\n",
    "        emb = clintox_gin(mol, mol.node_feature.float())[\"node_feature\"][idx]\n",
    "    return emb.detach().cpu()\n",
    "\n",
    "def clinton_gin_action_embedding(action):\n",
    "    rsub, rcen, rsig, _, psub, pcen, psig, __ = action\n",
    "#     print(clintox_gin_mol_embedding(rsub).shape)\n",
    "#     print(clintox_gin_atom_embedding(rsig, rcen).shape)\n",
    "#     print(clintox_gin_mol_embedding(rsig).shape)\n",
    "#     print(clintox_gin_mol_embedding(psub).shape)\n",
    "#     print(clintox_gin_atom_embedding(psig, pcen).shape)\n",
    "#     print(clintox_gin_mol_embedding(psig).shape)\n",
    "    embedding = np.concatenate([\n",
    "#                         clintox_gin_mol_embedding(rsub), \n",
    "#                         clintox_gin_atom_embedding(rsig, rcen) / 5, \n",
    "                        clintox_gin_mol_embedding(rsig), \n",
    "#                         clintox_gin_mol_embedding(psub), \n",
    "#                         clintox_gin_atom_embedding(psig, pcen) / 5, \n",
    "                        clintox_gin_mol_embedding(psig)\n",
    "                    ])\n",
    "    return embedding"
   ]
  },
  {
   "cell_type": "code",
   "execution_count": 38,
   "id": "a6003605",
   "metadata": {},
   "outputs": [
    {
     "name": "stderr",
     "output_type": "stream",
     "text": [
      " 13%|███████▎                                                  | 6307/50000 [00:44<04:54, 148.42it/s]/home/abhor/miniconda3/envs/de_nono/lib/python3.7/site-packages/torchdrug/data/feature.py:42: UserWarning: Unknown value `Pb`\n",
      "  warnings.warn(\"Unknown value `%s`\" % x)\n",
      " 14%|████████                                                  | 6998/50000 [00:49<04:55, 145.38it/s]/home/abhor/miniconda3/envs/de_nono/lib/python3.7/site-packages/torchdrug/data/feature.py:42: UserWarning: Unknown value `Li`\n",
      "  warnings.warn(\"Unknown value `%s`\" % x)\n",
      "100%|█████████████████████████████████████████████████████████| 50000/50000 [05:44<00:00, 144.96it/s]\n"
     ]
    },
    {
     "data": {
      "text/plain": [
       "(50000, 256)"
      ]
     },
     "execution_count": 38,
     "metadata": {},
     "output_type": "execute_result"
    }
   ],
   "source": [
    "X = []\n",
    "for i in tqdm.tqdm(range(main_df.shape[0])):\n",
    "    row = main_df.iloc[i]\n",
    "    X.append(np.concatenate([clintox_gin_mol_embedding(row[\"reactant\"]), clintox_gin_mol_embedding(row[\"product\"])]))\n",
    "X = np.stack(X)\n",
    "emb_len = X.shape[1]//2\n",
    "X.shape"
   ]
  },
  {
   "cell_type": "code",
   "execution_count": 39,
   "id": "39b47f4c",
   "metadata": {},
   "outputs": [
    {
     "name": "stderr",
     "output_type": "stream",
     "text": [
      "100%|██████████████████████████████████████████████████████████| 50000/50000 [09:30<00:00, 87.61it/s]\n"
     ]
    },
    {
     "data": {
      "text/plain": [
       "(50000, 512)"
      ]
     },
     "execution_count": 39,
     "metadata": {},
     "output_type": "execute_result"
    }
   ],
   "source": [
    "Y = []\n",
    "for i in tqdm.tqdm(range(main_df.shape[0])):\n",
    "    Y.append(clinton_gin_action_embedding(main_df.iloc[i][main_df.columns[1:-1]]))\n",
    "Y = np.stack(Y)\n",
    "Y.shape"
   ]
  },
  {
   "cell_type": "code",
   "execution_count": 40,
   "id": "dd815113",
   "metadata": {},
   "outputs": [
    {
     "name": "stderr",
     "output_type": "stream",
     "text": [
      "/home/abhor/miniconda3/envs/de_nono/lib/python3.7/site-packages/ipykernel_launcher.py:10: UserWarning: Matplotlib is currently using agg, which is a non-GUI backend, so cannot show the figure.\n",
      "  # Remove the CWD from sys.path while we load stuff.\n"
     ]
    },
    {
     "data": {
      "image/png": "[encoded data removed]",
      "text/plain": [
       "<Figure size 432x216 with 1 Axes>"
      ]
     },
     "metadata": {
      "needs_background": "light"
     },
     "output_type": "display_data"
    },
    {
     "data": {
      "image/png": "[encoded data removed]",
      "text/plain": [
       "<Figure size 432x216 with 1 Axes>"
      ]
     },
     "metadata": {
      "needs_background": "light"
     },
     "output_type": "display_data"
    },
    {
     "data": {
      "image/png": "[encoded data removed]",
      "text/plain": [
       "<Figure size 432x216 with 1 Axes>"
      ]
     },
     "metadata": {
      "needs_background": "light"
     },
     "output_type": "display_data"
    },
    {
     "data": {
      "image/png": "[encoded data removed]",
      "text/plain": [
       "<Figure size 432x216 with 1 Axes>"
      ]
     },
     "metadata": {
      "needs_background": "light"
     },
     "output_type": "display_data"
    },
    {
     "data": {
      "image/png": "[encoded data removed]",
      "text/plain": [
       "<Figure size 432x216 with 1 Axes>"
      ]
     },
     "metadata": {
      "needs_background": "light"
     },
     "output_type": "display_data"
    }
   ],
   "source": [
    "# for start, end in zip(np.arange(0, 511), np.arange(1, 512)):\n",
    "for idx in emb_len*np.arange(5):\n",
    "    start, end = idx * int(idx != emb_len*4), idx + emb_len * int(idx != emb_len*4)\n",
    "    sub_Y = Y[:, start:end]\n",
    "    \n",
    "    plt.figure(figsize=(6, 3))\n",
    "    flat = sub_Y.flatten()\n",
    "    plt.hist(flat, bins=50)\n",
    "    plt.title(f\"{start}:{end} = {flat.min():.4f}, {flat.max():.4f}, {flat.mean():.4f}, {flat.std():.4f}\")\n",
    "    plt.show()"
   ]
  },
  {
   "cell_type": "code",
   "execution_count": 41,
   "id": "04ffae30",
   "metadata": {},
   "outputs": [
    {
     "name": "stdout",
     "output_type": "stream",
     "text": [
      "Epoch 1, Loss: 0.0045\n",
      "Epoch 2, Loss: 0.0039\n",
      "Epoch 3, Loss: 0.0036\n",
      "Epoch 4, Loss: 0.0033\n",
      "Epoch 5, Loss: 0.0030\n",
      "Epoch 6, Loss: 0.0028\n",
      "Epoch 7, Loss: 0.0026\n",
      "Epoch 8, Loss: 0.0024\n",
      "Epoch 9, Loss: 0.0022\n",
      "Epoch 10, Loss: 0.0021\n",
      "Epoch 11, Loss: 0.0021\n",
      "Epoch 12, Loss: 0.0019\n",
      "Epoch 13, Loss: 0.0020\n",
      "Epoch 14, Loss: 0.0018\n",
      "Epoch 15, Loss: 0.0016\n",
      "Epoch 16, Loss: 0.0016\n",
      "Epoch 17, Loss: 0.0014\n",
      "Epoch 18, Loss: 0.0015\n",
      "Epoch 19, Loss: 0.0014\n",
      "Epoch 20, Loss: 0.0014\n",
      "Epoch 21, Loss: 0.0013\n",
      "Epoch 22, Loss: 0.0013\n",
      "Epoch 23, Loss: 0.0012\n",
      "Epoch 24, Loss: 0.0012\n",
      "Epoch 25, Loss: 0.0012\n",
      "Epoch 26, Loss: 0.0012\n",
      "Epoch 27, Loss: 0.0011\n",
      "Epoch 28, Loss: 0.0011\n",
      "Epoch 29, Loss: 0.0011\n",
      "Epoch 30, Loss: 0.0011\n",
      "Epoch 31, Loss: 0.0010\n",
      "Epoch 32, Loss: 0.0010\n",
      "Epoch 33, Loss: 0.0010\n",
      "Epoch 34, Loss: 0.0010\n",
      "Epoch 35, Loss: 0.0010\n",
      "Epoch 36, Loss: 0.0010\n",
      "Epoch 37, Loss: 0.0009\n",
      "Epoch 38, Loss: 0.0010\n",
      "Epoch 39, Loss: 0.0009\n",
      "Epoch 40, Loss: 0.0009\n",
      "Epoch 41, Loss: 0.0009\n",
      "Epoch 42, Loss: 0.0009\n",
      "Epoch 43, Loss: 0.0009\n",
      "Epoch 44, Loss: 0.0009\n",
      "Epoch 45, Loss: 0.0009\n",
      "Epoch 46, Loss: 0.0009\n",
      "Epoch 47, Loss: 0.0009\n",
      "Epoch 48, Loss: 0.0008\n",
      "Epoch 49, Loss: 0.0008\n",
      "Epoch 50, Loss: 0.0009\n",
      "\n",
      "FINAL TEST LOSS: 0.002816159976646304\n"
     ]
    },
    {
     "name": "stderr",
     "output_type": "stream",
     "text": [
      "/home/abhor/miniconda3/envs/de_nono/lib/python3.7/site-packages/ipykernel_launcher.py:63: UserWarning: Matplotlib is currently using agg, which is a non-GUI backend, so cannot show the figure.\n"
     ]
    },
    {
     "data": {
      "image/png": "[encoded data removed]",
      "text/plain": [
       "<Figure size 432x288 with 1 Axes>"
      ]
     },
     "metadata": {
      "needs_background": "light"
     },
     "output_type": "display_data"
    }
   ],
   "source": [
    "model = train(X, Y, hidden_size=500, num_hidden=2, lr=1e-3, epochs=50)"
   ]
  },
  {
   "cell_type": "code",
   "execution_count": 42,
   "id": "ce859f71",
   "metadata": {},
   "outputs": [
    {
     "name": "stdout",
     "output_type": "stream",
     "text": [
      "0:128 MSE 0.0022778797\n",
      "128:256 MSE 0.00063901086\n",
      "256:384 MSE 0.007514176\n",
      "384:512 MSE 0.00083669147\n",
      "0:512 MSE 0.0028169414\n"
     ]
    }
   ],
   "source": [
    "pred = model(torch.Tensor(X[40000:])).detach().numpy() \n",
    "true = Y[40000:]\n",
    "\n",
    "for idx in emb_len*np.arange(5):\n",
    "    start, end = idx * int(idx != emb_len*4), idx + emb_len * int(idx != emb_len*4)\n",
    "    a = pred[:, start:end]\n",
    "    b = true[:, start:end]\n",
    "    print(f\"{start}:{end} MSE\", ((a-b)**2).mean())\n",
    "#     print(f\"{start}:{end} Cosine sim\", ((a*b).sum(axis=1) / (a**2).sum(axis=1) / (b**2).sum(axis=1)).mean())    "
   ]
  },
  {
   "cell_type": "code",
   "execution_count": 43,
   "id": "ddae391d",
   "metadata": {},
   "outputs": [
    {
     "name": "stdout",
     "output_type": "stream",
     "text": [
      "FILE NOT FOUND! Computing...\n",
      "(88995, 8)\n"
     ]
    },
    {
     "name": "stderr",
     "output_type": "stream",
     "text": [
      "  7%|███▉                                                       | 6003/88995 [01:06<15:24, 89.73it/s]/home/abhor/miniconda3/envs/de_nono/lib/python3.7/site-packages/torchdrug/data/feature.py:42: UserWarning: Unknown value `K`\n",
      "  warnings.warn(\"Unknown value `%s`\" % x)\n",
      " 47%|███████████████████████████▎                              | 41906/88995 [07:48<08:55, 87.88it/s]/home/abhor/miniconda3/envs/de_nono/lib/python3.7/site-packages/torchdrug/data/feature.py:42: UserWarning: Unknown value `Ga`\n",
      "  warnings.warn(\"Unknown value `%s`\" % x)\n",
      " 61%|███████████████████████████████████▎                      | 54120/88995 [10:08<06:06, 95.24it/s]/home/abhor/miniconda3/envs/de_nono/lib/python3.7/site-packages/torchdrug/data/feature.py:42: UserWarning: Unknown value `As`\n",
      "  warnings.warn(\"Unknown value `%s`\" % x)\n",
      " 63%|████████████████████████████████████▌                     | 56163/88995 [10:32<06:32, 83.58it/s]/home/abhor/miniconda3/envs/de_nono/lib/python3.7/site-packages/torchdrug/data/feature.py:42: UserWarning: Unknown value `Cr`\n",
      "  warnings.warn(\"Unknown value `%s`\" % x)\n",
      " 75%|███████████████████████████████████████████▋              | 67008/88995 [12:37<04:06, 89.05it/s]/home/abhor/miniconda3/envs/de_nono/lib/python3.7/site-packages/torchdrug/data/feature.py:42: UserWarning: Unknown value `Cd`\n",
      "  warnings.warn(\"Unknown value `%s`\" % x)\n",
      " 82%|███████████████████████████████████████████████▎          | 72690/88995 [13:44<03:02, 89.17it/s]/home/abhor/miniconda3/envs/de_nono/lib/python3.7/site-packages/torchdrug/data/feature.py:42: UserWarning: Unknown value `Na`\n",
      "  warnings.warn(\"Unknown value `%s`\" % x)\n",
      " 84%|████████████████████████████████████████████████▊         | 74914/88995 [14:10<02:39, 88.06it/s]/home/abhor/miniconda3/envs/de_nono/lib/python3.7/site-packages/torchdrug/data/feature.py:42: UserWarning: Unknown value `Ge`\n",
      "  warnings.warn(\"Unknown value `%s`\" % x)\n",
      " 86%|██████████████████████████████████████████████████▏       | 76954/88995 [14:34<02:16, 87.93it/s]/home/abhor/miniconda3/envs/de_nono/lib/python3.7/site-packages/torchdrug/data/feature.py:42: UserWarning: Unknown value `Ti`\n",
      "  warnings.warn(\"Unknown value `%s`\" % x)\n",
      " 93%|██████████████████████████████████████████████████████▏   | 83135/88995 [15:48<01:07, 86.73it/s]/home/abhor/miniconda3/envs/de_nono/lib/python3.7/site-packages/torchdrug/data/feature.py:42: UserWarning: Unknown value `Pt`\n",
      "  warnings.warn(\"Unknown value `%s`\" % x)\n",
      " 99%|█████████████████████████████████████████████████████████▍| 88137/88995 [16:48<00:09, 86.44it/s]/home/abhor/miniconda3/envs/de_nono/lib/python3.7/site-packages/torchdrug/data/feature.py:42: UserWarning: Unknown value `Al`\n",
      "  warnings.warn(\"Unknown value `%s`\" % x)\n",
      "100%|█████████████████████████████████████████████████████████▋| 88561/88995 [16:53<00:05, 85.92it/s]/home/abhor/miniconda3/envs/de_nono/lib/python3.7/site-packages/torchdrug/data/feature.py:42: UserWarning: Unknown value `Ru`\n",
      "  warnings.warn(\"Unknown value `%s`\" % x)\n",
      "100%|█████████████████████████████████████████████████████████▊| 88760/88995 [16:56<00:02, 82.20it/s]/home/abhor/miniconda3/envs/de_nono/lib/python3.7/site-packages/torchdrug/data/feature.py:42: UserWarning: Unknown value `Ta`\n",
      "  warnings.warn(\"Unknown value `%s`\" % x)\n",
      "100%|██████████████████████████████████████████████████████████| 88995/88995 [16:58<00:00, 87.35it/s]\n"
     ]
    },
    {
     "name": "stdout",
     "output_type": "stream",
     "text": [
      "Saving...\n"
     ]
    }
   ],
   "source": [
    "embedding_file = f\"datasets/my_uspto/supervised_zinc_gin/{model_name.replace('models/', '').replace('.pth', '_action_embeddings.npy')}\"\n",
    "\n",
    "try:\n",
    "    action_embeddings = np.load(embedding_file)\n",
    "    print(\"FILE EXISTS. Loading...\")\n",
    "\n",
    "except Exception as e:\n",
    "    print(\"FILE NOT FOUND! Computing...\")\n",
    "    action_dataset = pd.read_csv(\"datasets/my_uspto/action_dataset-filtered.csv\", index_col=0)\n",
    "\n",
    "    action_dataset = action_dataset.loc[action_dataset[\"reactant_works\"] & action_dataset[\"reactant_tested\"] & action_dataset[\"action_tested\"] & action_dataset[\"action_works\"]]\n",
    "    action_dataset.shape\n",
    "\n",
    "    action_dataset = action_dataset[[\"rsub\", \"rcen\", \"rsig\", \"rbond\", \"psub\", \"pcen\", \"psig\", \"pbond\"]]\n",
    "\n",
    "    print(action_dataset.shape)\n",
    "\n",
    "    action_embeddings = []\n",
    "    for i in tqdm.tqdm(range(action_dataset.shape[0])):\n",
    "        action_embeddings.append(clinton_gin_action_embedding(action_dataset.iloc[i]))\n",
    "    action_embeddings = np.stack(action_embeddings)\n",
    "    action_embeddings.shape\n",
    "    \n",
    "    print(\"Saving...\")\n",
    "    np.save(embedding_file, action_embeddings)"
   ]
  },
  {
   "cell_type": "code",
   "execution_count": 44,
   "id": "92e20cac",
   "metadata": {},
   "outputs": [
    {
     "name": "stderr",
     "output_type": "stream",
     "text": [
      "100%|██████████████████████████████████████████████████████████| 50000/50000 [15:36<00:00, 53.42it/s]\n"
     ]
    }
   ],
   "source": [
    "correct_indices = []\n",
    "action_embedding_indices = []\n",
    "for i in tqdm.tqdm(range(main_df.shape[0])):\n",
    "    row = main_df.iloc[i]\n",
    "    applicable_actions_df = get_applicable_actions(Chem.MolFromSmiles(row[\"reactant\"]))\n",
    "    \n",
    "    indices_used_for_data = np.where(action_dataset.index.isin(applicable_actions_df.index))[0]\n",
    "    action_embedding_indices.append(indices_used_for_data)\n",
    "\n",
    "    applicable_actions_df = applicable_actions_df.loc[action_dataset.iloc[indices_used_for_data].index]\n",
    "    correct_indices.append((applicable_actions_df.index == row.name).argmax())\n",
    "    \n",
    "    assert correct_indices[-1] < len(action_embedding_indices[-1]), f\"WHAT!? {correct_indices[-1]} vs {len(indices_used_for_data)}\""
   ]
  },
  {
   "cell_type": "code",
   "execution_count": 45,
   "id": "a56268a9",
   "metadata": {},
   "outputs": [
    {
     "name": "stderr",
     "output_type": "stream",
     "text": [
      "100%|█████████████████████████████████████████████████████████| 10000/10000 [00:24<00:00, 400.57it/s]"
     ]
    },
    {
     "name": "stdout",
     "output_type": "stream",
     "text": [
      "0:512 = 506.7784(1702.4317) +- 632.6882460528566  \n"
     ]
    },
    {
     "name": "stderr",
     "output_type": "stream",
     "text": [
      "\n"
     ]
    }
   ],
   "source": [
    "def get_ranking(pred, emb_for_comparison, correct_index, distance=\"euclidean\", k=None):\n",
    "    '''\n",
    "    Get the rank of the prediction from the applicable actions.\n",
    "    Returns (rank, [list_of_indices before <rank>])\n",
    "    '''\n",
    "    if distance == \"euclidean\":\n",
    "        dist = ((emb_for_comparison-pred)**2).sum(axis=1)\n",
    "    elif distance == \"cosine\":\n",
    "        dist = 1 - (emb_for_comparison.dot(pred))/((emb_for_comparison**2).sum(axis=1)*(pred**2).sum())\n",
    "\n",
    "    maxy = max(dist)\n",
    "\n",
    "    list_of_indices = []\n",
    "    for attempt in range(dist.shape[0]):\n",
    "        miny = dist.argmin()\n",
    "#         print(miny, correct_index, dist[correct_index], min(dist), maxy)\n",
    "        if dist[miny] == dist[correct_index]:\n",
    "#             print(i, attempt)\n",
    "            break\n",
    "        else:\n",
    "            list_of_indices.append(miny)\n",
    "            if k is not None and len(list_of_indices) == k:\n",
    "                return list_of_indices\n",
    "            dist[miny] = 100000\n",
    "    \n",
    "    # When the rank(correct_index) < k, then returns <rank, list>. So this extra condition - add some indices after rank(correct_index) to the list\n",
    "    if k is not None:\n",
    "        dist[miny] = 100000\n",
    "        for attempt in range(min(k, emb_for_comparison.shape[0]-1) - len(list_of_indices)):\n",
    "            miny = dist.argmin()\n",
    "            list_of_indices.append(miny)\n",
    "            dist[miny] = 100000\n",
    "        return list_of_indices\n",
    "    return attempt, list_of_indices\n",
    "\n",
    "def get_top_k_indices(pred, emb_for_comparison, correct_index, distance=\"euclidean\", k=1):\n",
    "    return get_ranking(pred, emb_for_comparison, correct_index, distance, k)\n",
    "    \n",
    "    \n",
    "d = {}\n",
    "for idx in emb_len*np.arange(5)[]:\n",
    "    l = []\n",
    "    total = []\n",
    "    start, end = idx * int(idx != emb_len*4), idx + emb_len * int(idx != emb_len*4)\n",
    "    for i in tqdm.tqdm(range(pred.shape[0])):\n",
    "        pred_for_i = pred[i]\n",
    "        act_emb_for_i, correct_index = action_embeddings[action_embedding_indices[40000+i]], correct_indices[40000+i]\n",
    "\n",
    "        pred_for_i = pred_for_i[start:end]\n",
    "        act_emb_for_i = act_emb_for_i[:, start:end]\n",
    "\n",
    "        rank, list_of_indices = get_ranking(pred_for_i, act_emb_for_i, correct_index, distance=\"euclidean\")\n",
    "        l.append(rank)\n",
    "        total.append(act_emb_for_i.shape[0])\n",
    "    d[f\"{start}:{end}\"] = l\n",
    "    print(f\"{start}:{end} = {np.mean(l)}({np.mean(total)}) +- {np.std(l)}  \")\n"
   ]
  },
  {
   "cell_type": "code",
   "execution_count": 46,
   "id": "105aaa94",
   "metadata": {},
   "outputs": [],
   "source": [
    "train_idx = np.arange(0, 40000)\n",
    "test_idx = np.arange(40000, 50000)"
   ]
  },
  {
   "cell_type": "code",
   "execution_count": 48,
   "id": "e7213fb2",
   "metadata": {
    "scrolled": false
   },
   "outputs": [
    {
     "name": "stdout",
     "output_type": "stream",
     "text": [
      "0.014388(1)  \n",
      "############################################################################\n",
      "# Margin = 0.01 | triplet_distance = euclidean | topk distance = euclidean #\n",
      "############################################################################\n",
      "╒═════════╤═══════════╤══════════════╤═══════════════════════════════╤═══════════════════════════════╕\n",
      "│         │       MSE │       Cosine │ Rank(euclid)                  │ Rank(cosine)                  │\n",
      "╞═════════╪═══════════╪══════════════╪═══════════════════════════════╪═══════════════════════════════╡\n",
      "│ 0:128   │ 42.0818   │  0.000484974 │ 224.3100(1674.35) +- 539.5896 │ 246.0900(1674.35) +- 574.5390 │\n",
      "├─────────┼───────────┼──────────────┼───────────────────────────────┼───────────────────────────────┤\n",
      "│ 128:256 │ 70.8538   │ -0.0006369   │ 236.2100(1674.35) +- 573.3608 │ 186.2100(1674.35) +- 514.6124 │\n",
      "├─────────┼───────────┼──────────────┼───────────────────────────────┼───────────────────────────────┤\n",
      "│ 256:384 │  0.112924 │  0.0580859   │ 438.4900(1674.35) +- 504.1189 │ 748.0500(1674.35) +- 753.1112 │\n",
      "├─────────┼───────────┼──────────────┼───────────────────────────────┼───────────────────────────────┤\n",
      "│ 384:512 │  0.200823 │  0.0273456   │ 285.1000(1674.35) +- 492.7316 │ 454.9400(1674.35) +- 630.6930 │\n",
      "├─────────┼───────────┼──────────────┼───────────────────────────────┼───────────────────────────────┤\n",
      "│ 0:512   │ 28.3123   │ -0.000121329 │ 293.8300(1674.35) +- 502.0852 │ 604.3000(1674.35) +- 697.0359 │\n",
      "╘═════════╧═══════════╧══════════════╧═══════════════════════════════╧═══════════════════════════════╛\n",
      "\n",
      "0.012811(2)  \n",
      "############################################################################\n",
      "# Margin = 0.01 | triplet_distance = euclidean | topk distance = euclidean #\n",
      "############################################################################\n",
      "╒═════════╤════════════╤══════════════╤═══════════════════════════════╤═══════════════════════════════╕\n",
      "│         │        MSE │       Cosine │ Rank(euclid)                  │ Rank(cosine)                  │\n",
      "╞═════════╪════════════╪══════════════╪═══════════════════════════════╪═══════════════════════════════╡\n",
      "│ 0:128   │  68.1036   │  0.00040772  │ 230.0700(1674.35) +- 540.8758 │ 209.9100(1674.35) +- 548.0594 │\n",
      "├─────────┼────────────┼──────────────┼───────────────────────────────┼───────────────────────────────┤\n",
      "│ 128:256 │ 102.861    │ -0.000398356 │ 256.0200(1674.35) +- 635.5325 │ 185.7700(1674.35) +- 582.5863 │\n",
      "├─────────┼────────────┼──────────────┼───────────────────────────────┼───────────────────────────────┤\n",
      "│ 256:384 │   0.18719  │  0.036496    │ 344.5700(1674.35) +- 357.7209 │ 649.6800(1674.35) +- 670.0186 │\n",
      "├─────────┼────────────┼──────────────┼───────────────────────────────┼───────────────────────────────┤\n",
      "│ 384:512 │   0.482033 │  0.0149612   │ 206.1200(1674.35) +- 368.6589 │ 337.3900(1674.35) +- 543.6942 │\n",
      "├─────────┼────────────┼──────────────┼───────────────────────────────┼───────────────────────────────┤\n",
      "│ 0:512   │  42.9085   │ -6.24671e-05 │ 202.5800(1674.35) +- 446.3049 │ 505.7200(1674.35) +- 629.9834 │\n",
      "╘═════════╧════════════╧══════════════╧═══════════════════════════════╧═══════════════════════════════╛\n",
      "\n",
      "0.011691(3)  \n",
      "############################################################################\n",
      "# Margin = 0.01 | triplet_distance = euclidean | topk distance = euclidean #\n",
      "############################################################################\n",
      "╒═════════╤════════════╤══════════════╤═══════════════════════════════╤═══════════════════════════════╕\n",
      "│         │        MSE │       Cosine │ Rank(euclid)                  │ Rank(cosine)                  │\n",
      "╞═════════╪════════════╪══════════════╪═══════════════════════════════╪═══════════════════════════════╡\n",
      "│ 0:128   │  79.8494   │  0.000413768 │ 224.8700(1674.35) +- 472.2295 │ 212.1400(1674.35) +- 564.9656 │\n",
      "├─────────┼────────────┼──────────────┼───────────────────────────────┼───────────────────────────────┤\n",
      "│ 128:256 │ 115.278    │ -0.000362238 │ 223.0200(1674.35) +- 598.0253 │ 191.0800(1674.35) +- 586.9456 │\n",
      "├─────────┼────────────┼──────────────┼───────────────────────────────┼───────────────────────────────┤\n",
      "│ 256:384 │   0.285212 │  0.0252092   │ 320.0700(1674.35) +- 381.9502 │ 516.6700(1674.35) +- 551.1537 │\n",
      "├─────────┼────────────┼──────────────┼───────────────────────────────┼───────────────────────────────┤\n",
      "│ 384:512 │   0.873108 │  0.00953947  │ 186.1400(1674.35) +- 355.1215 │ 297.4300(1674.35) +- 496.6957 │\n",
      "├─────────┼────────────┼──────────────┼───────────────────────────────┼───────────────────────────────┤\n",
      "│ 0:512   │  49.0714   │ -4.36069e-05 │ 161.1900(1674.35) +- 309.2677 │ 381.0500(1674.35) +- 521.3870 │\n",
      "╘═════════╧════════════╧══════════════╧═══════════════════════════════╧═══════════════════════════════╛\n",
      "\n",
      "0.010199(4)  \n",
      "############################################################################\n",
      "# Margin = 0.01 | triplet_distance = euclidean | topk distance = euclidean #\n",
      "############################################################################\n",
      "╒═════════╤════════════╤══════════════╤═══════════════════════════════╤═══════════════════════════════╕\n",
      "│         │        MSE │       Cosine │ Rank(euclid)                  │ Rank(cosine)                  │\n",
      "╞═════════╪════════════╪══════════════╪═══════════════════════════════╪═══════════════════════════════╡\n",
      "│ 0:128   │  79.6035   │  0.000503789 │ 251.6900(1674.35) +- 544.9479 │ 217.4800(1674.35) +- 550.5864 │\n",
      "├─────────┼────────────┼──────────────┼───────────────────────────────┼───────────────────────────────┤\n",
      "│ 128:256 │ 111.059    │ -0.000367843 │ 235.8500(1674.35) +- 615.8864 │ 192.0400(1674.35) +- 586.7159 │\n",
      "├─────────┼────────────┼──────────────┼───────────────────────────────┼───────────────────────────────┤\n",
      "│ 256:384 │   0.387247 │  0.0196183   │ 296.7300(1674.35) +- 372.6088 │ 474.0700(1674.35) +- 549.5540 │\n",
      "├─────────┼────────────┼──────────────┼───────────────────────────────┼───────────────────────────────┤\n",
      "│ 384:512 │   1.32181  │  0.00712146  │ 175.5400(1674.35) +- 300.7069 │ 277.9700(1674.35) +- 467.4109 │\n",
      "├─────────┼────────────┼──────────────┼───────────────────────────────┼───────────────────────────────┤\n",
      "│ 0:512   │  48.0929   │ -2.28657e-05 │ 162.1500(1674.35) +- 336.9754 │ 301.5300(1674.35) +- 486.1733 │\n",
      "╘═════════╧════════════╧══════════════╧═══════════════════════════════╧═══════════════════════════════╛\n",
      "\n",
      "0.008814(5)  \n",
      "############################################################################\n",
      "# Margin = 0.01 | triplet_distance = euclidean | topk distance = euclidean #\n",
      "############################################################################\n",
      "╒═════════╤═══════════╤══════════════╤═══════════════════════════════╤═══════════════════════════════╕\n",
      "│         │       MSE │       Cosine │ Rank(euclid)                  │ Rank(cosine)                  │\n",
      "╞═════════╪═══════════╪══════════════╪═══════════════════════════════╪═══════════════════════════════╡\n",
      "│ 0:128   │  74.636   │  0.000840276 │ 234.1300(1674.35) +- 469.7386 │ 215.5700(1674.35) +- 569.0241 │\n",
      "├─────────┼───────────┼──────────────┼───────────────────────────────┼───────────────────────────────┤\n",
      "│ 128:256 │ 102.439   │ -0.00036554  │ 263.0200(1674.35) +- 643.3710 │ 185.7100(1674.35) +- 586.9834 │\n",
      "├─────────┼───────────┼──────────────┼───────────────────────────────┼───────────────────────────────┤\n",
      "│ 256:384 │   0.51255 │  0.0155592   │ 269.4200(1674.35) +- 330.3111 │ 443.6100(1674.35) +- 516.7812 │\n",
      "├─────────┼───────────┼──────────────┼───────────────────────────────┼───────────────────────────────┤\n",
      "│ 384:512 │   1.79132 │  0.00553471  │ 169.5500(1674.35) +- 330.1870 │ 273.6000(1674.35) +- 483.3587 │\n",
      "├─────────┼───────────┼──────────────┼───────────────────────────────┼───────────────────────────────┤\n",
      "│ 0:512   │  44.8448  │  1.0227e-05  │ 176.7300(1674.35) +- 357.1835 │ 224.0600(1674.35) +- 391.5389 │\n",
      "╘═════════╧═══════════╧══════════════╧═══════════════════════════════╧═══════════════════════════════╛\n",
      "\n",
      "0.006969(6)  \n",
      "############################################################################\n",
      "# Margin = 0.01 | triplet_distance = euclidean | topk distance = euclidean #\n",
      "############################################################################\n"
     ]
    },
    {
     "name": "stdout",
     "output_type": "stream",
     "text": [
      "╒═════════╤═══════════╤══════════════╤═══════════════════════════════╤═══════════════════════════════╕\n",
      "│         │       MSE │       Cosine │ Rank(euclid)                  │ Rank(cosine)                  │\n",
      "╞═════════╪═══════════╪══════════════╪═══════════════════════════════╪═══════════════════════════════╡\n",
      "│ 0:128   │ 67.1277   │  0.00115354  │ 165.0800(1674.35) +- 324.0521 │ 186.3400(1674.35) +- 434.2714 │\n",
      "├─────────┼───────────┼──────────────┼───────────────────────────────┼───────────────────────────────┤\n",
      "│ 128:256 │ 87.9087   │ -0.000392768 │ 236.0300(1674.35) +- 615.0132 │ 171.4100(1674.35) +- 569.9561 │\n",
      "├─────────┼───────────┼──────────────┼───────────────────────────────┼───────────────────────────────┤\n",
      "│ 256:384 │  0.623436 │  0.0142878   │ 279.9400(1674.35) +- 353.5683 │ 452.9100(1674.35) +- 530.9072 │\n",
      "├─────────┼───────────┼──────────────┼───────────────────────────────┼───────────────────────────────┤\n",
      "│ 384:512 │  2.15218  │  0.00482524  │ 175.1700(1674.35) +- 321.5645 │ 277.8700(1674.35) +- 470.1737 │\n",
      "├─────────┼───────────┼──────────────┼───────────────────────────────┼───────────────────────────────┤\n",
      "│ 0:512   │ 39.453    │  4.84286e-05 │ 172.4400(1674.35) +- 348.5954 │ 175.7900(1674.35) +- 298.5421 │\n",
      "╘═════════╧═══════════╧══════════════╧═══════════════════════════════╧═══════════════════════════════╛\n",
      "\n",
      "0.006213(7)  \n",
      "############################################################################\n",
      "# Margin = 0.01 | triplet_distance = euclidean | topk distance = euclidean #\n",
      "############################################################################\n",
      "╒═════════╤═══════════╤══════════════╤═══════════════════════════════╤═══════════════════════════════╕\n",
      "│         │       MSE │       Cosine │ Rank(euclid)                  │ Rank(cosine)                  │\n",
      "╞═════════╪═══════════╪══════════════╪═══════════════════════════════╪═══════════════════════════════╡\n",
      "│ 0:128   │ 57.1462   │  0.00154995  │ 220.9400(1674.35) +- 524.3731 │ 190.3200(1674.35) +- 521.6161 │\n",
      "├─────────┼───────────┼──────────────┼───────────────────────────────┼───────────────────────────────┤\n",
      "│ 128:256 │ 73.9785   │ -0.00033319  │ 258.1400(1674.35) +- 629.1127 │ 164.0700(1674.35) +- 539.0267 │\n",
      "├─────────┼───────────┼──────────────┼───────────────────────────────┼───────────────────────────────┤\n",
      "│ 256:384 │  0.728534 │  0.0116364   │ 279.2700(1674.35) +- 378.7407 │ 416.0600(1674.35) +- 513.9644 │\n",
      "├─────────┼───────────┼──────────────┼───────────────────────────────┼───────────────────────────────┤\n",
      "│ 384:512 │  2.48583  │  0.0044636   │ 132.7100(1674.35) +- 213.3586 │ 236.8600(1674.35) +- 388.1866 │\n",
      "├─────────┼───────────┼──────────────┼───────────────────────────────┼───────────────────────────────┤\n",
      "│ 0:512   │ 33.5848   │  0.000123255 │ 188.7000(1674.35) +- 407.1329 │ 161.5500(1674.35) +- 330.7186 │\n",
      "╘═════════╧═══════════╧══════════════╧═══════════════════════════════╧═══════════════════════════════╛\n",
      "\n",
      "0.005861(8)  \n",
      "############################################################################\n",
      "# Margin = 0.01 | triplet_distance = euclidean | topk distance = euclidean #\n",
      "############################################################################\n",
      "╒═════════╤═══════════╤══════════════╤═══════════════════════════════╤═══════════════════════════════╕\n",
      "│         │       MSE │       Cosine │ Rank(euclid)                  │ Rank(cosine)                  │\n",
      "╞═════════╪═══════════╪══════════════╪═══════════════════════════════╪═══════════════════════════════╡\n",
      "│ 0:128   │ 46.4154   │  0.00203424  │ 215.3500(1674.35) +- 518.5201 │ 190.8600(1674.35) +- 526.8689 │\n",
      "├─────────┼───────────┼──────────────┼───────────────────────────────┼───────────────────────────────┤\n",
      "│ 128:256 │ 59.3362   │ -0.000350456 │ 238.9800(1674.35) +- 609.5754 │ 169.0500(1674.35) +- 548.0671 │\n",
      "├─────────┼───────────┼──────────────┼───────────────────────────────┼───────────────────────────────┤\n",
      "│ 256:384 │  0.836895 │  0.00889489  │ 340.8800(1674.35) +- 449.5949 │ 438.9100(1674.35) +- 538.2992 │\n",
      "├─────────┼───────────┼──────────────┼───────────────────────────────┼───────────────────────────────┤\n",
      "│ 384:512 │  2.87112  │  0.00408219  │ 160.7100(1674.35) +- 291.5424 │ 232.7600(1674.35) +- 389.1139 │\n",
      "├─────────┼───────────┼──────────────┼───────────────────────────────┼───────────────────────────────┤\n",
      "│ 0:512   │ 27.3649   │  0.000161332 │ 208.2700(1674.35) +- 494.3859 │ 172.0200(1674.35) +- 464.3164 │\n",
      "╘═════════╧═══════════╧══════════════╧═══════════════════════════════╧═══════════════════════════════╛\n",
      "\n",
      "0.005123(9)  \n",
      "############################################################################\n",
      "# Margin = 0.01 | triplet_distance = euclidean | topk distance = euclidean #\n",
      "############################################################################\n",
      "╒═════════╤═══════════╤══════════════╤═══════════════════════════════╤═══════════════════════════════╕\n",
      "│         │       MSE │       Cosine │ Rank(euclid)                  │ Rank(cosine)                  │\n",
      "╞═════════╪═══════════╪══════════════╪═══════════════════════════════╪═══════════════════════════════╡\n",
      "│ 0:128   │ 33.9951   │  0.00346479  │ 265.6000(1674.35) +- 571.2490 │ 218.0900(1674.35) +- 561.7975 │\n",
      "├─────────┼───────────┼──────────────┼───────────────────────────────┼───────────────────────────────┤\n",
      "│ 128:256 │ 44.9653   │ -0.000251157 │ 183.0200(1674.35) +- 509.0379 │ 125.7700(1674.35) +- 449.5031 │\n",
      "├─────────┼───────────┼──────────────┼───────────────────────────────┼───────────────────────────────┤\n",
      "│ 256:384 │  0.952442 │  0.0069511   │ 401.9400(1674.35) +- 518.4688 │ 485.7100(1674.35) +- 546.4030 │\n",
      "├─────────┼───────────┼──────────────┼───────────────────────────────┼───────────────────────────────┤\n",
      "│ 384:512 │  3.10198  │  0.00374759  │ 122.0200(1674.35) +- 174.2107 │ 204.2700(1674.35) +- 320.2598 │\n",
      "├─────────┼───────────┼──────────────┼───────────────────────────────┼───────────────────────────────┤\n",
      "│ 0:512   │ 20.7537   │  0.000248779 │ 201.8200(1674.35) +- 497.7392 │ 160.9000(1674.35) +- 449.7348 │\n",
      "╘═════════╧═══════════╧══════════════╧═══════════════════════════════╧═══════════════════════════════╛\n",
      "\n",
      "0.003779(10)  \n",
      "############################################################################\n",
      "# Margin = 0.01 | triplet_distance = euclidean | topk distance = euclidean #\n",
      "############################################################################\n",
      "╒═════════╤══════════╤══════════════╤═══════════════════════════════╤═══════════════════════════════╕\n",
      "│         │      MSE │       Cosine │ Rank(euclid)                  │ Rank(cosine)                  │\n",
      "╞═════════╪══════════╪══════════════╪═══════════════════════════════╪═══════════════════════════════╡\n",
      "│ 0:128   │ 24.5609  │  0.00377348  │ 191.3600(1674.35) +- 542.4989 │ 174.1700(1674.35) +- 525.4327 │\n",
      "├─────────┼──────────┼──────────────┼───────────────────────────────┼───────────────────────────────┤\n",
      "│ 128:256 │ 33.4608  │ -0.0002499   │ 226.3500(1674.35) +- 478.7615 │ 168.7200(1674.35) +- 548.1540 │\n",
      "├─────────┼──────────┼──────────────┼───────────────────────────────┼───────────────────────────────┤\n",
      "│ 256:384 │  1.0106  │  0.00607182  │ 386.9500(1674.35) +- 429.0447 │ 489.9800(1674.35) +- 503.5341 │\n",
      "├─────────┼──────────┼──────────────┼───────────────────────────────┼───────────────────────────────┤\n",
      "│ 384:512 │  3.44944 │  0.00344994  │ 148.1000(1674.35) +- 238.9023 │ 223.4300(1674.35) +- 361.1441 │\n",
      "├─────────┼──────────┼──────────────┼───────────────────────────────┼───────────────────────────────┤\n",
      "│ 0:512   │ 15.6204  │  0.000275117 │ 188.7300(1674.35) +- 406.8814 │ 199.5100(1674.35) +- 457.1182 │\n",
      "╘═════════╧══════════╧══════════════╧═══════════════════════════════╧═══════════════════════════════╛\n",
      "\n",
      "0.002839(11)  \n",
      "############################################################################\n",
      "# Margin = 0.01 | triplet_distance = euclidean | topk distance = euclidean #\n",
      "############################################################################\n",
      "╒═════════╤══════════╤══════════════╤═══════════════════════════════╤═══════════════════════════════╕\n",
      "│         │      MSE │       Cosine │ Rank(euclid)                  │ Rank(cosine)                  │\n",
      "╞═════════╪══════════╪══════════════╪═══════════════════════════════╪═══════════════════════════════╡\n",
      "│ 0:128   │ 16.218   │  0.00460065  │ 197.8600(1674.35) +- 495.8248 │ 189.9500(1674.35) +- 575.7605 │\n",
      "├─────────┼──────────┼──────────────┼───────────────────────────────┼───────────────────────────────┤\n",
      "│ 128:256 │ 23.7416  │ -0.000259628 │ 260.7900(1674.35) +- 607.6585 │ 139.3000(1674.35) +- 540.6677 │\n",
      "├─────────┼──────────┼──────────────┼───────────────────────────────┼───────────────────────────────┤\n",
      "│ 256:384 │  1.12501 │  0.00559944  │ 342.7800(1674.35) +- 425.6870 │ 406.1200(1674.35) +- 457.2582 │\n",
      "├─────────┼──────────┼──────────────┼───────────────────────────────┼───────────────────────────────┤\n",
      "│ 384:512 │  3.81543 │  0.00332317  │ 125.7600(1674.35) +- 209.2600 │ 219.6400(1674.35) +- 357.2919 │\n",
      "├─────────┼──────────┼──────────────┼───────────────────────────────┼───────────────────────────────┤\n",
      "│ 0:512   │ 11.225   │  0.000315726 │ 162.4700(1674.35) +- 435.8573 │ 159.8500(1674.35) +- 460.9769 │\n",
      "╘═════════╧══════════╧══════════════╧═══════════════════════════════╧═══════════════════════════════╛\n",
      "\n"
     ]
    },
    {
     "name": "stdout",
     "output_type": "stream",
     "text": [
      "0.002259(12)  \n",
      "############################################################################\n",
      "# Margin = 0.01 | triplet_distance = euclidean | topk distance = euclidean #\n",
      "############################################################################\n",
      "╒═════════╤══════════╤══════════════╤═══════════════════════════════╤═══════════════════════════════╕\n",
      "│         │      MSE │       Cosine │ Rank(euclid)                  │ Rank(cosine)                  │\n",
      "╞═════════╪══════════╪══════════════╪═══════════════════════════════╪═══════════════════════════════╡\n",
      "│ 0:128   │ 11.656   │  0.0041792   │ 238.0700(1674.35) +- 568.7443 │ 229.0300(1674.35) +- 611.4758 │\n",
      "├─────────┼──────────┼──────────────┼───────────────────────────────┼───────────────────────────────┤\n",
      "│ 128:256 │ 17.2886  │ -9.02738e-06 │ 177.2400(1674.35) +- 388.9735 │ 105.7200(1674.35) +- 337.5203 │\n",
      "├─────────┼──────────┼──────────────┼───────────────────────────────┼───────────────────────────────┤\n",
      "│ 256:384 │  1.20259 │  0.00590278  │ 309.6500(1674.35) +- 357.7426 │ 397.5800(1674.35) +- 435.7854 │\n",
      "├─────────┼──────────┼──────────────┼───────────────────────────────┼───────────────────────────────┤\n",
      "│ 384:512 │  4.0245  │  0.00314282  │ 123.9900(1674.35) +- 206.9362 │ 197.4500(1674.35) +- 321.3467 │\n",
      "├─────────┼──────────┼──────────────┼───────────────────────────────┼───────────────────────────────┤\n",
      "│ 0:512   │  8.54293 │  0.000383784 │ 110.3500(1674.35) +- 173.1227 │ 135.6600(1674.35) +- 262.5580 │\n",
      "╘═════════╧══════════╧══════════════╧═══════════════════════════════╧═══════════════════════════════╛\n",
      "\n",
      "0.000991(13)  \n",
      "############################################################################\n",
      "# Margin = 0.01 | triplet_distance = euclidean | topk distance = euclidean #\n",
      "############################################################################\n",
      "╒═════════╤══════════╤═════════════╤═══════════════════════════════╤═══════════════════════════════╕\n",
      "│         │      MSE │      Cosine │ Rank(euclid)                  │ Rank(cosine)                  │\n",
      "╞═════════╪══════════╪═════════════╪═══════════════════════════════╪═══════════════════════════════╡\n",
      "│ 0:128   │  8.00341 │ 0.00495172  │ 195.1000(1674.35) +- 537.5876 │ 181.6500(1674.35) +- 550.8958 │\n",
      "├─────────┼──────────┼─────────────┼───────────────────────────────┼───────────────────────────────┤\n",
      "│ 128:256 │ 12.933   │ 0.000157692 │ 244.9800(1674.35) +- 574.8927 │ 116.8600(1674.35) +- 396.5688 │\n",
      "├─────────┼──────────┼─────────────┼───────────────────────────────┼───────────────────────────────┤\n",
      "│ 256:384 │  1.25858 │ 0.00476024  │ 334.3100(1674.35) +- 421.2777 │ 400.5700(1674.35) +- 448.5714 │\n",
      "├─────────┼──────────┼─────────────┼───────────────────────────────┼───────────────────────────────┤\n",
      "│ 384:512 │  4.30376 │ 0.00306863  │ 118.9200(1674.35) +- 247.2491 │ 197.5300(1674.35) +- 332.3605 │\n",
      "├─────────┼──────────┼─────────────┼───────────────────────────────┼───────────────────────────────┤\n",
      "│ 0:512   │  6.62468 │ 0.000439606 │ 132.0900(1674.35) +- 395.2110 │ 165.5300(1674.35) +- 450.8195 │\n",
      "╘═════════╧══════════╧═════════════╧═══════════════════════════════╧═══════════════════════════════╛\n",
      "\n",
      "0.001365(14)  \n",
      "############################################################################\n",
      "# Margin = 0.01 | triplet_distance = euclidean | topk distance = euclidean #\n",
      "############################################################################\n",
      "╒═════════╤══════════╤═════════════╤═══════════════════════════════╤═══════════════════════════════╕\n",
      "│         │      MSE │      Cosine │ Rank(euclid)                  │ Rank(cosine)                  │\n",
      "╞═════════╪══════════╪═════════════╪═══════════════════════════════╪═══════════════════════════════╡\n",
      "│ 0:128   │  6.25293 │  0.0048691  │ 289.2500(1674.35) +- 581.5785 │ 199.1400(1674.35) +- 547.2922 │\n",
      "├─────────┼──────────┼─────────────┼───────────────────────────────┼───────────────────────────────┤\n",
      "│ 128:256 │ 10.8937  │ -0.00013109 │ 248.8600(1674.35) +- 636.9632 │ 149.4700(1674.35) +- 467.9408 │\n",
      "├─────────┼──────────┼─────────────┼───────────────────────────────┼───────────────────────────────┤\n",
      "│ 256:384 │  1.28494 │  0.0045581  │ 329.7200(1674.35) +- 465.5843 │ 389.1400(1674.35) +- 498.7439 │\n",
      "├─────────┼──────────┼─────────────┼───────────────────────────────┼───────────────────────────────┤\n",
      "│ 384:512 │  4.40131 │  0.00307328 │ 145.3200(1674.35) +- 268.0079 │ 238.3900(1674.35) +- 409.8647 │\n",
      "├─────────┼──────────┼─────────────┼───────────────────────────────┼───────────────────────────────┤\n",
      "│ 0:512   │  5.70823 │  0.00042057 │ 163.9000(1674.35) +- 420.5068 │ 193.8000(1674.35) +- 474.2104 │\n",
      "╘═════════╧══════════╧═════════════╧═══════════════════════════════╧═══════════════════════════════╛\n",
      "\n",
      "0.001859(15)  \n",
      "############################################################################\n",
      "# Margin = 0.01 | triplet_distance = euclidean | topk distance = euclidean #\n",
      "############################################################################\n",
      "╒═════════╤═════════╤══════════════╤═══════════════════════════════╤═══════════════════════════════╕\n",
      "│         │     MSE │       Cosine │ Rank(euclid)                  │ Rank(cosine)                  │\n",
      "╞═════════╪═════════╪══════════════╪═══════════════════════════════╪═══════════════════════════════╡\n",
      "│ 0:128   │ 5.46899 │  0.00515316  │ 240.7200(1674.35) +- 551.9501 │ 189.5300(1674.35) +- 534.1726 │\n",
      "├─────────┼─────────┼──────────────┼───────────────────────────────┼───────────────────────────────┤\n",
      "│ 128:256 │ 9.81176 │ -0.000292266 │ 289.0400(1674.35) +- 667.9641 │ 128.0400(1674.35) +- 392.8934 │\n",
      "├─────────┼─────────┼──────────────┼───────────────────────────────┼───────────────────────────────┤\n",
      "│ 256:384 │ 1.35577 │  0.00460759  │ 361.9600(1674.35) +- 563.6470 │ 421.4200(1674.35) +- 579.2329 │\n",
      "├─────────┼─────────┼──────────────┼───────────────────────────────┼───────────────────────────────┤\n",
      "│ 384:512 │ 4.64847 │  0.0027808   │ 134.6200(1674.35) +- 276.4765 │ 228.7000(1674.35) +- 394.3272 │\n",
      "├─────────┼─────────┼──────────────┼───────────────────────────────┼───────────────────────────────┤\n",
      "│ 0:512   │ 5.32125 │  0.00037212  │ 161.2100(1674.35) +- 446.3975 │ 174.6600(1674.35) +- 481.4137 │\n",
      "╘═════════╧═════════╧══════════════╧═══════════════════════════════╧═══════════════════════════════╛\n",
      "\n",
      "0.000661(16)  \n",
      "############################################################################\n",
      "# Margin = 0.01 | triplet_distance = euclidean | topk distance = euclidean #\n",
      "############################################################################\n",
      "╒═════════╤═════════╤═════════════╤═══════════════════════════════╤═══════════════════════════════╕\n",
      "│         │     MSE │      Cosine │ Rank(euclid)                  │ Rank(cosine)                  │\n",
      "╞═════════╪═════════╪═════════════╪═══════════════════════════════╪═══════════════════════════════╡\n",
      "│ 0:128   │ 4.55668 │ 0.00571584  │ 245.0700(1674.35) +- 559.0012 │ 181.0000(1674.35) +- 520.8009 │\n",
      "├─────────┼─────────┼─────────────┼───────────────────────────────┼───────────────────────────────┤\n",
      "│ 128:256 │ 7.26414 │ 0.000206016 │ 255.0600(1674.35) +- 561.5971 │ 152.2500(1674.35) +- 483.3121 │\n",
      "├─────────┼─────────┼─────────────┼───────────────────────────────┼───────────────────────────────┤\n",
      "│ 256:384 │ 1.39235 │ 0.00441283  │ 357.7300(1674.35) +- 445.6836 │ 429.0400(1674.35) +- 498.1768 │\n",
      "├─────────┼─────────┼─────────────┼───────────────────────────────┼───────────────────────────────┤\n",
      "│ 384:512 │ 4.68883 │ 0.00276972  │ 137.6500(1674.35) +- 248.0347 │ 237.8000(1674.35) +- 397.0456 │\n",
      "├─────────┼─────────┼─────────────┼───────────────────────────────┼───────────────────────────────┤\n",
      "│ 0:512   │ 4.4755  │ 0.000488581 │ 169.6100(1674.35) +- 415.0291 │ 198.0300(1674.35) +- 442.5689 │\n",
      "╘═════════╧═════════╧═════════════╧═══════════════════════════════╧═══════════════════════════════╛\n",
      "\n",
      "0.001365(17)  \n",
      "############################################################################\n",
      "# Margin = 0.01 | triplet_distance = euclidean | topk distance = euclidean #\n",
      "############################################################################\n",
      "╒═════════╤═════════╤══════════════╤═══════════════════════════════╤═══════════════════════════════╕\n",
      "│         │     MSE │       Cosine │ Rank(euclid)                  │ Rank(cosine)                  │\n",
      "╞═════════╪═════════╪══════════════╪═══════════════════════════════╪═══════════════════════════════╡\n",
      "│ 0:128   │ 4.57696 │  0.00536802  │ 245.3100(1674.35) +- 552.4185 │ 187.4700(1674.35) +- 533.4819 │\n",
      "├─────────┼─────────┼──────────────┼───────────────────────────────┼───────────────────────────────┤\n",
      "│ 128:256 │ 7.84909 │ -6.93194e-05 │ 252.7400(1674.35) +- 556.4248 │ 151.8200(1674.35) +- 462.9116 │\n",
      "├─────────┼─────────┼──────────────┼───────────────────────────────┼───────────────────────────────┤\n",
      "│ 256:384 │ 1.43131 │  0.00368124  │ 349.2100(1674.35) +- 464.4003 │ 415.8100(1674.35) +- 524.4858 │\n",
      "├─────────┼─────────┼──────────────┼───────────────────────────────┼───────────────────────────────┤\n",
      "│ 384:512 │ 4.97347 │  0.00279122  │ 132.0100(1674.35) +- 226.9886 │ 218.7700(1674.35) +- 368.9171 │\n",
      "├─────────┼─────────┼──────────────┼───────────────────────────────┼───────────────────────────────┤\n",
      "│ 0:512   │ 4.70771 │  0.000427393 │ 149.4100(1674.35) +- 321.3692 │ 168.0100(1674.35) +- 402.7675 │\n",
      "╘═════════╧═════════╧══════════════╧═══════════════════════════════╧═══════════════════════════════╛\n",
      "\n"
     ]
    },
    {
     "name": "stdout",
     "output_type": "stream",
     "text": [
      "0.001029(18)  \n",
      "############################################################################\n",
      "# Margin = 0.01 | triplet_distance = euclidean | topk distance = euclidean #\n",
      "############################################################################\n",
      "╒═════════╤═════════╤═════════════╤═══════════════════════════════╤═══════════════════════════════╕\n",
      "│         │     MSE │      Cosine │ Rank(euclid)                  │ Rank(cosine)                  │\n",
      "╞═════════╪═════════╪═════════════╪═══════════════════════════════╪═══════════════════════════════╡\n",
      "│ 0:128   │ 4.14219 │ 0.00463659  │ 266.4700(1674.35) +- 562.3223 │ 166.2800(1674.35) +- 511.6741 │\n",
      "├─────────┼─────────┼─────────────┼───────────────────────────────┼───────────────────────────────┤\n",
      "│ 128:256 │ 7.0698  │ 0.000272117 │ 318.2400(1674.35) +- 630.1493 │ 126.9200(1674.35) +- 498.2459 │\n",
      "├─────────┼─────────┼─────────────┼───────────────────────────────┼───────────────────────────────┤\n",
      "│ 256:384 │ 1.49044 │ 0.00400144  │ 344.2200(1674.35) +- 434.3710 │ 394.4500(1674.35) +- 461.4948 │\n",
      "├─────────┼─────────┼─────────────┼───────────────────────────────┼───────────────────────────────┤\n",
      "│ 384:512 │ 5.0781  │ 0.002525    │ 144.4600(1674.35) +- 337.4484 │ 209.5100(1674.35) +- 349.5287 │\n",
      "├─────────┼─────────┼─────────────┼───────────────────────────────┼───────────────────────────────┤\n",
      "│ 0:512   │ 4.44513 │ 0.000453541 │ 155.5900(1674.35) +- 438.2968 │ 184.8800(1674.35) +- 472.1080 │\n",
      "╘═════════╧═════════╧═════════════╧═══════════════════════════════╧═══════════════════════════════╛\n",
      "\n",
      "0.001404(19)  \n",
      "############################################################################\n",
      "# Margin = 0.01 | triplet_distance = euclidean | topk distance = euclidean #\n",
      "############################################################################\n",
      "╒═════════╤═════════╤═════════════╤═══════════════════════════════╤═══════════════════════════════╕\n",
      "│         │     MSE │      Cosine │ Rank(euclid)                  │ Rank(cosine)                  │\n",
      "╞═════════╪═════════╪═════════════╪═══════════════════════════════╪═══════════════════════════════╡\n",
      "│ 0:128   │ 4.59579 │ 0.00419882  │ 224.8700(1674.35) +- 551.1240 │ 176.6200(1674.35) +- 530.5012 │\n",
      "├─────────┼─────────┼─────────────┼───────────────────────────────┼───────────────────────────────┤\n",
      "│ 128:256 │ 7.45296 │ 5.43286e-07 │ 212.8200(1674.35) +- 428.7983 │ 102.2000(1674.35) +- 346.0360 │\n",
      "├─────────┼─────────┼─────────────┼───────────────────────────────┼───────────────────────────────┤\n",
      "│ 256:384 │ 1.55157 │ 0.00307201  │ 392.2000(1674.35) +- 500.9196 │ 452.4600(1674.35) +- 542.9621 │\n",
      "├─────────┼─────────┼─────────────┼───────────────────────────────┼───────────────────────────────┤\n",
      "│ 384:512 │ 5.19358 │ 0.00254883  │ 148.3700(1674.35) +- 254.2480 │ 234.4600(1674.35) +- 361.3015 │\n",
      "├─────────┼─────────┼─────────────┼───────────────────────────────┼───────────────────────────────┤\n",
      "│ 0:512   │ 4.69847 │ 0.00039579  │ 177.6200(1674.35) +- 360.3071 │ 187.5100(1674.35) +- 424.6815 │\n",
      "╘═════════╧═════════╧═════════════╧═══════════════════════════════╧═══════════════════════════════╛\n",
      "\n",
      "0.000883(20)  \n",
      "############################################################################\n",
      "# Margin = 0.01 | triplet_distance = euclidean | topk distance = euclidean #\n",
      "############################################################################\n",
      "╒═════════╤═════════╤═════════════╤═══════════════════════════════╤═══════════════════════════════╕\n",
      "│         │     MSE │      Cosine │ Rank(euclid)                  │ Rank(cosine)                  │\n",
      "╞═════════╪═════════╪═════════════╪═══════════════════════════════╪═══════════════════════════════╡\n",
      "│ 0:128   │ 4.24543 │ 0.00579699  │ 322.0000(1674.35) +- 595.2871 │ 213.9200(1674.35) +- 554.5856 │\n",
      "├─────────┼─────────┼─────────────┼───────────────────────────────┼───────────────────────────────┤\n",
      "│ 128:256 │ 6.59852 │ 0.000799963 │ 242.6400(1674.35) +- 606.1799 │ 128.8400(1674.35) +- 499.1549 │\n",
      "├─────────┼─────────┼─────────────┼───────────────────────────────┼───────────────────────────────┤\n",
      "│ 256:384 │ 1.57098 │ 0.00422352  │ 350.5100(1674.35) +- 457.9517 │ 424.4500(1674.35) +- 514.9639 │\n",
      "├─────────┼─────────┼─────────────┼───────────────────────────────┼───────────────────────────────┤\n",
      "│ 384:512 │ 5.37748 │ 0.00243962  │ 148.5200(1674.35) +- 244.0999 │ 237.2700(1674.35) +- 379.1744 │\n",
      "├─────────┼─────────┼─────────────┼───────────────────────────────┼───────────────────────────────┤\n",
      "│ 0:512   │ 4.4481  │ 0.000540956 │ 180.6300(1674.35) +- 415.4120 │ 206.7100(1674.35) +- 471.2152 │\n",
      "╘═════════╧═════════╧═════════════╧═══════════════════════════════╧═══════════════════════════════╛\n",
      "\n",
      "CPU times: user 58min 21s, sys: 3min 42s, total: 1h 2min 4s\n",
      "Wall time: 24min 37s\n"
     ]
    }
   ],
   "source": [
    "%%time\n",
    "train_X = torch.Tensor(X[train_idx])\n",
    "train_Y = torch.Tensor(Y[train_idx])\n",
    "\n",
    "test_X = torch.Tensor(X[test_idx])\n",
    "test_Y = torch.Tensor(Y[test_idx])\n",
    "\n",
    "hidden_size, num_hidden, lr, epochs, batch_size = 500, 2, 1e-3, 20, 64\n",
    "model = NeuralNet(train_X.shape[1], train_Y.shape[1], num_hidden=num_hidden, hidden_size=hidden_size)\n",
    "\n",
    "optimizer = torch.optim.Adam(model.parameters(), lr=lr)  \n",
    "\n",
    "# for margin, distance_metric in itertools.product([0.001, 0.003, 0.007, 0.01, 0.03, 0.07, 0.1, 0.3, 0.7, 1], [\"cosine\", \"euclidean\"]):\n",
    "for margin, distance_metric in itertools.product([10009], [\"euclidean\"]):\n",
    "    if distance_metric == \"euclidean\":\n",
    "        criterion = nn.TripletMarginLoss(margin=margin)\n",
    "    elif distance_metric == \"cosine\":\n",
    "        criterion = nn.TripletMarginWithDistanceLoss(margin=margin, distance_function=lambda x, y: 1.0 - nn.functional.cosine_similarity(x, y))\n",
    "\n",
    "    loss_list = []\n",
    "    test_loss = []\n",
    "\n",
    "    # Train the model\n",
    "    for epoch in range(epochs):\n",
    "        model.train()\n",
    "        for i in range(0, train_X.shape[0], batch_size):\n",
    "            # Forward pass\n",
    "            outputs = model(train_X[i:i+batch_size])\n",
    "\n",
    "            # Calc negatives\n",
    "            positive_index = []\n",
    "            negatives = []\n",
    "            for _i in range(outputs.shape[0]):\n",
    "                act_emb_for_i, correct_index = action_embeddings[action_embedding_indices[train_idx[i+_i]]], correct_indices[train_idx[i+_i]]\n",
    "                top = get_top_k_indices(outputs[_i].detach().cpu().numpy(), act_emb_for_i, correct_index, distance=distance_metric, k=50)\n",
    "\n",
    "                positive_index.extend([_i]*len(top))\n",
    "                negatives.append(act_emb_for_i[top])\n",
    "            negatives = np.concatenate(negatives, axis=0)\n",
    "            \n",
    "            # Calc loss\n",
    "            loss = criterion(outputs[positive_index], train_Y[i:i+batch_size][positive_index], torch.Tensor(negatives))\n",
    "\n",
    "            # Backward and optimize\n",
    "            optimizer.zero_grad()\n",
    "            loss.backward()\n",
    "            optimizer.step()\n",
    "\n",
    "        loss_list.append(loss.item())\n",
    "        print ('{:.6f}({})'.format(loss.item(), epoch+1), end='  ')\n",
    "        \n",
    "        # SWITCH INDENT HERE ----\n",
    "        model.eval()\n",
    "        with torch.no_grad():\n",
    "            print()\n",
    "\n",
    "            margin_string = f\"# Margin = {margin} | distance_metric = {distance_metric} | topk distance = {distance_metric} #\"\n",
    "            print(\"#\" * len(margin_string))\n",
    "            print(margin_string)\n",
    "            print(\"#\" * len(margin_string))\n",
    "\n",
    "            # Predictions and action component-wise loss\n",
    "            pred = model(test_X).detach().numpy() \n",
    "            true = test_Y.detach().numpy()\n",
    "\n",
    "            metric_df = pd.DataFrame(columns=[\"MSE\", \"Cosine\", \"Rank(euclid)\", \"Rank(cosine)\"])\n",
    "\n",
    "            # Print Test metrics\n",
    "            mse_list = []\n",
    "            cosine_list = []\n",
    "            idx_list = []\n",
    "            for idx in emb_len*np.arange(5):\n",
    "                start, end = idx * int(idx != emb_len*4), idx + emb_len * int(idx != emb_len*4)\n",
    "                a = pred[:, start:end]\n",
    "                b = true[:, start:end]\n",
    "                mse_list.append(((a-b)**2).sum() / np.prod(a.shape))\n",
    "                cosine_list.append(((a*b).sum(axis=1) / (a**2).sum(axis=1) / (b**2).sum(axis=1)).mean())    \n",
    "                idx_list.append(f\"{start}:{end}\")\n",
    "\n",
    "            # Print Test metric - Rank\n",
    "            d = {}\n",
    "            for dist in [\"euclidean\", \"cosine\"]:\n",
    "                rank_list = []\n",
    "                for idx in emb_len*np.arange(5):\n",
    "                    l = []\n",
    "                    total = []\n",
    "                    start, end = idx * int(idx != emb_len*4), idx + emb_len * int(idx != emb_len*4)\n",
    "                    for i in range(100):#tqdm.tqdm(range(pred.shape[0])):\n",
    "                        pred_for_i = pred[i]\n",
    "                        act_emb_for_i, correct_index = action_embeddings[action_embedding_indices[test_idx[i]]], correct_indices[test_idx[i]]\n",
    "\n",
    "                        pred_for_i = pred_for_i[start:end]\n",
    "                        act_emb_for_i = act_emb_for_i[:, start:end]\n",
    "\n",
    "                        rank, list_of_indices = get_ranking(pred_for_i, act_emb_for_i, correct_index, distance=dist)\n",
    "                        l.append(rank)\n",
    "                        total.append(act_emb_for_i.shape[0])\n",
    "        #             print(f\"{start}:{end} = {np.mean(l)}({np.mean(total)}) +- {np.std(l)}  \")\n",
    "                    rank_list.append(f\"{np.mean(l):.4f}({np.mean(total)}) +- {np.std(l):.4f}\")\n",
    "                d[dist] = rank_list\n",
    "\n",
    "            metric_df[\"MSE\"] = mse_list\n",
    "            metric_df[\"Cosine\"] = cosine_list\n",
    "            metric_df[\"Rank(euclid)\"] = d[\"euclidean\"]\n",
    "            metric_df[\"Rank(cosine)\"] = d[\"cosine\"]\n",
    "            metric_df.index = idx_list\n",
    "            print(tabulate(metric_df, headers='keys', tablefmt='fancy_grid'))\n",
    "            print()"
   ]
  },
  {
   "cell_type": "markdown",
   "id": "c5612e6d",
   "metadata": {},
   "source": [
    "# Visualisations"
   ]
  },
  {
   "cell_type": "markdown",
   "id": "9de91c8b",
   "metadata": {},
   "source": [
    "# TSNE over the embeddings...\n",
    "import matplotlib.pyplot as plt\n",
    "from sklearn import manifold, datasets\n",
    "\n",
    "def add_2d_scatter(ax, points, points_color, title=None):\n",
    "    x, y = points.T\n",
    "    ax.scatter(x, y, c=points_color, s=50, alpha=0.8)\n",
    "    ax.set_title(title)\n",
    "\n",
    "def plot_2d(points, points_color, title):\n",
    "    fig, ax = plt.subplots(figsize=(7, 7), facecolor=\"white\", constrained_layout=True)\n",
    "    fig.suptitle(title, size=16)\n",
    "    add_2d_scatter(ax, points, points_color)\n",
    "    plt.show()\n",
    "\n",
    "n_samples = 1500\n",
    "n_components = 2\n",
    "S_points, S_color = datasets.make_s_curve(n_samples, random_state=0)\n",
    "\n",
    "t_sne = manifold.TSNE(\n",
    "    n_components=n_components,\n",
    "    perplexity=30,\n",
    "    init=\"random\",\n",
    "    n_iter=250,\n",
    "    random_state=0,\n",
    ")\n",
    "S_t_sne = t_sne.fit_transform(S_points)\n",
    "\n",
    "plot_2d(S_t_sne, S_color, \"T-distributed Stochastic  \\n Neighbor Embedding\")"
   ]
  },
  {
   "cell_type": "markdown",
   "id": "5ad65442",
   "metadata": {},
   "source": [
    "from rewards.properties import logP\n",
    "\n",
    "start_mols = pickle.load(open(\"datasets/my_uspto/unique_start_mols.pickle\", 'rb'))\n",
    "\n",
    "np.random.seed(42)\n",
    "indices = np.random.randint(0, start_mols.shape[0], size=(10000,))\n",
    "start_mols = start_mols.iloc[indices]\n",
    "print(start_mols.shape)\n",
    "\n",
    "mol_emb = np.stack(list(map(clintox_gin_mol_embedding, start_mols)))\n",
    "logp_list = np.array(list(map(lambda x: logP(Chem.MolFromSmiles(x)), start_mols)))\n",
    "\n",
    "print(mol_emb.shape, logp_list.shape)"
   ]
  },
  {
   "cell_type": "markdown",
   "id": "65b0bb80",
   "metadata": {
    "scrolled": true
   },
   "source": [
    "mean = logp_list.mean()\n",
    "std = logp_list.std()\n",
    "\n",
    "mol_emb = mol_emb[(logp_list < mean+1*std) & (logp_list > mean-1*std)]\n",
    "logp_list = logp_list[(logp_list < mean+1*std) & (logp_list > mean-1*std)]\n",
    "\n",
    "print(mol_emb.shape, logp_list.shape)"
   ]
  },
  {
   "cell_type": "markdown",
   "id": "9cdd51a7",
   "metadata": {
    "scrolled": true
   },
   "source": [
    "for i in range(1, 50):\n",
    "    t_sne = manifold.TSNE(\n",
    "        n_components=n_components,\n",
    "        perplexity=i,\n",
    "        init=\"random\",\n",
    "        n_iter=250,\n",
    "        random_state=0,\n",
    "    )\n",
    "    S_t_sne = t_sne.fit_transform(mol_emb)\n",
    "\n",
    "    plot_2d(S_t_sne, logp_list, f\"T-distributed Stochastic  \\n Neighbor Embedding (perplexity = {i})\")\n",
    "    plt.show()"
   ]
  }
 ],
 "metadata": {
  "kernelspec": {
   "display_name": "Python 3 (ipykernel)",
   "language": "python",
   "name": "python3"
  },
  "language_info": {
   "codemirror_mode": {
    "name": "ipython",
    "version": 3
   },
   "file_extension": ".py",
   "mimetype": "text/x-python",
   "name": "python",
   "nbconvert_exporter": "python",
   "pygments_lexer": "ipython3",
   "version": "3.7.13"
  }
 },
 "nbformat": 4,
 "nbformat_minor": 5
}
