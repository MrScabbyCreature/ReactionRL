{
 "cells": [
  {
   "cell_type": "code",
   "execution_count": 1,
   "id": "c1cfa57a",
   "metadata": {
    "tags": []
   },
   "outputs": [],
   "source": [
    "import os\n",
    "os.environ[\"MAIN_DIR\"] = \"\""
   ]
  },
  {
   "cell_type": "code",
   "execution_count": 2,
   "id": "f862867f",
   "metadata": {
    "tags": []
   },
   "outputs": [],
   "source": [
    "from rdkit import Chem\n",
    "import pickle\n",
    "import pandas as pd\n",
    "from IPython.display import display\n",
    "from matplotlib import pyplot as plt\n",
    "import tqdm\n",
    "import json\n",
    "import numpy as np\n",
    "import itertools\n",
    "from tabulate import tabulate\n",
    "from torchdrug import data\n",
    "\n",
    "from action_utils import *"
   ]
  },
  {
   "cell_type": "code",
   "execution_count": 3,
   "id": "536ae7f8",
   "metadata": {
    "tags": []
   },
   "outputs": [],
   "source": [
    "start_mols = pickle.load(open(\"datasets/my_uspto/unique_start_mols.pickle\", 'rb'))"
   ]
  },
  {
   "cell_type": "code",
   "execution_count": 19,
   "id": "322bdda4",
   "metadata": {},
   "outputs": [
    {
     "name": "stderr",
     "output_type": "stream",
     "text": [
      "107955it [02:26, 738.75it/s]                                                                         \n"
     ]
    },
    {
     "name": "stdout",
     "output_type": "stream",
     "text": [
      "(107955, 10)\n",
      "(107955, 10)\n"
     ]
    }
   ],
   "source": [
    "from multiprocessing import Pool\n",
    "import time\n",
    "\n",
    "main_df = pd.DataFrame(columns=['reactant', 'rsub', 'rcen', 'rsig', 'rsig_cs_indices', 'psub', 'pcen', 'psig', 'psig_cs_indices', 'product'])\n",
    "N = 100000\n",
    "np.random.seed(42)\n",
    "steps = 5\n",
    "\n",
    "def generate_train_data(smile):\n",
    "    mol = Chem.MolFromSmiles(smile)\n",
    "\n",
    "    df = pd.DataFrame(columns=['reactant', 'rsub', 'rcen', 'rsig', 'rsig_cs_indices', 'psub', 'pcen', 'psig', 'psig_cs_indices', 'product'])\n",
    "    index = []\n",
    "    \n",
    "    # Get sequences\n",
    "    try:\n",
    "        for i in range(steps):\n",
    "            actions = get_applicable_actions(mol)\n",
    "            if actions.shape[0] == 0:\n",
    "                break\n",
    "\n",
    "            # Apply a random action\n",
    "            rand_idx = np.random.randint(0, actions.shape[0])\n",
    "            product = apply_action(mol, *actions.iloc[rand_idx])\n",
    "\n",
    "            # Add it to df\n",
    "            df.loc[df.shape[0], :] = [Chem.MolToSmiles(mol)] + actions.iloc[rand_idx].tolist() + [Chem.MolToSmiles(product)]\n",
    "            index.append(actions.iloc[rand_idx].name)\n",
    "\n",
    "            # Next reactant = product\n",
    "            mol = product\n",
    "    except Exception as e:\n",
    "        return pd.DataFrame(columns=['reactant', 'rsub', 'rcen', 'rsig', 'rsig_cs_indices', 'psub', 'pcen', 'psig', 'psig_cs_indices', 'product'])\n",
    "    \n",
    "    # Fix index\n",
    "    df.index = index\n",
    "    \n",
    "    # Make combinations for multi-step possibilities of source-->target\n",
    "    for i in range(df.shape[0]-1, 0, -1):\n",
    "        new_df = df.iloc[:i].copy()\n",
    "        new_df[\"product\"] = df.iloc[i][\"product\"]\n",
    "        df = pd.concat([df, new_df])\n",
    "        \n",
    "    return df\n",
    "\n",
    "df_list = []\n",
    "final_shape = 0\n",
    "# Create dataset for 5 step pred\n",
    "with Pool(30) as p, tqdm.tqdm(total=N) as pbar:\n",
    "    while final_shape < N:\n",
    "        smiles = np.random.choice(start_mols, size=(1000,))\n",
    "\n",
    "        for new_df in p.imap_unordered(generate_train_data, smiles, chunksize=10):\n",
    "            df_list.append(new_df)\n",
    "            final_shape += new_df.shape[0]\n",
    "            \n",
    "        pbar.update(final_shape - pbar.n)\n",
    "\n",
    "main_df = pd.concat(df_list)\n",
    "del df_list\n",
    "print(main_df.shape)\n",
    "\n",
    "# randomize\n",
    "main_df = pd.concat([main_df[:int(main_df.shape[0]*0.8)].sample(frac=1), main_df[int(main_df.shape[0]*0.8):].sample(frac=1)])\n",
    "print(main_df.shape)"
   ]
  },
  {
   "cell_type": "markdown",
   "id": "56d58b5a",
   "metadata": {},
   "source": [
    "# Networks"
   ]
  },
  {
   "cell_type": "code",
   "execution_count": 20,
   "id": "c3e1a52c",
   "metadata": {},
   "outputs": [
    {
     "data": {
      "text/plain": [
       "<torch._C.Generator at 0x7f69b054a7d0>"
      ]
     },
     "execution_count": 20,
     "metadata": {},
     "output_type": "execute_result"
    }
   ],
   "source": [
    "import torch\n",
    "import torch.nn as nn\n",
    "import torch.optim as optim\n",
    "\n",
    "torch.manual_seed(42)"
   ]
  },
  {
   "cell_type": "code",
   "execution_count": 21,
   "id": "3432cfc9",
   "metadata": {
    "tags": []
   },
   "outputs": [],
   "source": [
    "device = torch.device(\"cuda:0\" if torch.cuda.is_available() else \"cpu\")"
   ]
  },
  {
   "cell_type": "code",
   "execution_count": 22,
   "id": "48289f6d",
   "metadata": {
    "tags": []
   },
   "outputs": [],
   "source": [
    "%matplotlib inline\n",
    "class NeuralNet(nn.Module):\n",
    "    def __init__(self, input_size, output_size, num_hidden=1, hidden_size=50):\n",
    "        super(NeuralNet, self).__init__()\n",
    "        self.fc1 = nn.Linear(input_size, hidden_size)\n",
    "        self.bn1 = nn.BatchNorm1d(hidden_size)\n",
    "        self.relu = nn.ReLU()\n",
    "        self.hidden_layers = nn.ModuleList()\n",
    "        for i in range(num_hidden):\n",
    "            self.hidden_layers.append(nn.Linear(hidden_size, hidden_size))\n",
    "            self.hidden_layers.append(nn.BatchNorm1d(hidden_size))\n",
    "            self.hidden_layers.append(nn.ReLU())\n",
    "            \n",
    "        self.last_layer = nn.Linear(hidden_size, output_size)\n",
    "    \n",
    "    def forward(self, x):\n",
    "        out = self.fc1(x)\n",
    "        out = self.bn1(out)\n",
    "        out = self.relu(out)\n",
    "        for layer in self.hidden_layers:\n",
    "            out = layer(out)\n",
    "        out = self.last_layer(out)\n",
    "        return out"
   ]
  },
  {
   "cell_type": "code",
   "execution_count": 23,
   "id": "dc30d4e0",
   "metadata": {},
   "outputs": [],
   "source": [
    "mse_model_path = \"datasets/my_uspto/supervised_zinc_gin/mse_model.pth\"\n",
    "\n",
    "class PolicyNetwork(nn.Module):\n",
    "    def __init__(self):\n",
    "        super(PolicyNetwork, self).__init__()\n",
    "        self.GIN = torch.load(\"models/zinc2m_gin.pth\")\n",
    "        self.DENSE = torch.load(\n",
    "            mse_model_path)\n",
    "    \n",
    "    def forward(self, x1, x2):\n",
    "        out1 = self.GIN(x1, x1.node_feature.float())[\"graph_feature\"]\n",
    "        out2 = self.GIN(x2, x2.node_feature.float())[\"graph_feature\"]\n",
    "        \n",
    "        out = torch.concatenate([out1, out2], axis=1)\n",
    "        out = self.DENSE(out)\n",
    "        return out"
   ]
  },
  {
   "cell_type": "markdown",
   "id": "58bb759a",
   "metadata": {},
   "source": [
    "# Helper stuff"
   ]
  },
  {
   "cell_type": "code",
   "execution_count": 24,
   "id": "119fbb0a",
   "metadata": {},
   "outputs": [],
   "source": [
    "def molecule_from_smile(smile):\n",
    "    try:\n",
    "        mol = data.Molecule.from_smiles(smile, atom_feature=\"pretrain\", bond_feature=\"pretrain\")\n",
    "    except Exception as e:\n",
    "        mol = data.Molecule.from_smiles(smile, atom_feature=\"pretrain\", bond_feature=\"pretrain\", with_hydrogen=True)\n",
    "    return mol\n",
    "\n",
    "def get_mol_embedding(model, smiles):\n",
    "    # deepchem - attribute masking\n",
    "    if isinstance(smiles, str):\n",
    "        mol = molecule_from_smile(smiles)\n",
    "    else:\n",
    "        mol = list(map(molecule_from_smile, smiles))\n",
    "        mol = data.Molecule.pack(mol)\n",
    "    mol = mol.to(device)\n",
    "    emb = model(mol, mol.node_feature.float())[\"graph_feature\"]\n",
    "    return emb.detach().cpu().numpy()\n",
    "\n",
    "def get_atom_embedding(model, smiles, idx):\n",
    "    try:\n",
    "        mol = data.Molecule.from_smiles(smiles, atom_feature=\"pretrain\", bond_feature=\"pretrain\")\n",
    "        emb = model(mol, mol.node_feature.float())[\"node_feature\"][idx]\n",
    "    except Exception as e:\n",
    "        mol = data.Molecule.from_smiles(smiles, atom_feature=\"pretrain\", bond_feature=\"pretrain\", with_hydrogen=True)\n",
    "        emb = model(mol, mol.node_feature.float())[\"node_feature\"][idx]\n",
    "    return emb.detach().cpu()\n",
    "\n",
    "def get_action_embedding(model, action_df):\n",
    "    rsub, rcen, rsig, _, psub, pcen, psig, __ = [action_df[c] for c in action_df.columns]\n",
    "#     print(get_mol_embedding(model, rsub).shape)\n",
    "#     print(get_atom_embedding(model, rsig, rcen).shape)\n",
    "#     print(get_mol_embedding(model, rsig).shape)\n",
    "#     print(get_mol_embedding(model, psub).shape)\n",
    "#     print(get_atom_embedding(model, psig, pcen).shape)\n",
    "#     print(get_mol_embedding(model, psig).shape)\n",
    "    embedding = np.concatenate([\n",
    "#                         get_mol_embedding(model, rsub), \n",
    "#                         get_atom_embedding(model, rsig, rcen) / 5, \n",
    "                        get_mol_embedding(model, rsig), \n",
    "#                         get_mol_embedding(model, psub), \n",
    "#                         get_atom_embedding(model, psig, pcen) / 5, \n",
    "                        get_mol_embedding(model, psig)\n",
    "                    ], axis=1)\n",
    "    return embedding"
   ]
  },
  {
   "cell_type": "code",
   "execution_count": 25,
   "id": "cf8b1d7c",
   "metadata": {},
   "outputs": [
    {
     "name": "stdout",
     "output_type": "stream",
     "text": [
      "(89384, 8)\n"
     ]
    }
   ],
   "source": [
    "action_dataset = pd.read_csv(\"datasets/my_uspto/action_dataset-filtered.csv\", index_col=0)\n",
    "action_dataset = action_dataset.loc[action_dataset[\"action_tested\"] & action_dataset[\"action_works\"]]\n",
    "action_dataset = action_dataset[[\"rsub\", \"rcen\", \"rsig\", \"rbond\", \"psub\", \"pcen\", \"psig\", \"pbond\"]]\n",
    "print(action_dataset.shape)\n",
    "\n",
    "def get_action_dataset_embeddings(model):\n",
    "    action_embeddings = []\n",
    "    for i in tqdm.tqdm(range(0, action_dataset.shape[0], batch_size)):\n",
    "        action_embeddings.append(get_action_embedding(model, action_dataset.iloc[i:i+batch_size]))\n",
    "    action_embeddings = np.concatenate(action_embeddings)\n",
    "    return action_embeddings"
   ]
  },
  {
   "cell_type": "code",
   "execution_count": 26,
   "id": "29af52ec",
   "metadata": {},
   "outputs": [],
   "source": [
    "def get_emb_indices_and_correct_idx(row):\n",
    "    if isinstance(row, tuple): # For pandas iterrows\n",
    "        row = row[1]\n",
    "    \n",
    "    # Applicable indices\n",
    "    applicable_actions_df = get_applicable_actions(Chem.MolFromSmiles(row[\"reactant\"]))\n",
    "    if applicable_actions_df.shape[0] == 0:\n",
    "        # If there are no applicable actions detected (rdkit problems)\n",
    "        indices_used_for_data = np.where((action_dataset.index == row.name))[0]\n",
    "        correct_idx = 0\n",
    "    else:\n",
    "        indices_used_for_data = np.where(action_dataset.index.isin(applicable_actions_df.index))[0]\n",
    "        \n",
    "        # Correct index\n",
    "        applicable_actions_df = applicable_actions_df.loc[action_dataset.iloc[indices_used_for_data].index]\n",
    "        correct_idx = (applicable_actions_df.index == row.name).argmax()\n",
    "\n",
    "    \n",
    "    return indices_used_for_data, correct_idx"
   ]
  },
  {
   "cell_type": "markdown",
   "id": "6efc17df",
   "metadata": {},
   "source": [
    "# Training"
   ]
  },
  {
   "cell_type": "code",
   "execution_count": 27,
   "id": "c50b019f",
   "metadata": {},
   "outputs": [],
   "source": [
    "actor_lr = 3e-4\n",
    "epochs = 50\n",
    "batch_size = 128\n",
    "\n",
    "#####################\n",
    "# Get actor network #\n",
    "#####################\n",
    "# actor = PolicyNetwork().to(device)#\n",
    "actor = torch.load(\"models/supervised/emb_model_update=1||-ve_method=all||dist_metric=euclidean||topk=10/model.pth\").to(device)\n",
    "actor.eval() # Non-trainable for now\n",
    "pass"
   ]
  },
  {
   "cell_type": "code",
   "execution_count": 28,
   "id": "ad309738",
   "metadata": {},
   "outputs": [
    {
     "name": "stderr",
     "output_type": "stream",
     "text": [
      "100%|██████████████████████████████████████████████████████████████| 699/699 [05:43<00:00,  2.04it/s]\n"
     ]
    },
    {
     "name": "stdout",
     "output_type": "stream",
     "text": [
      "(89384, 256)\n"
     ]
    },
    {
     "name": "stderr",
     "output_type": "stream",
     "text": [
      "100%|███████████████████████████████████████████████████████| 107955/107955 [05:50<00:00, 308.24it/s]\n"
     ]
    }
   ],
   "source": [
    "################################################################\n",
    "# Get inital embeddings and applicable_indices+correct_indices #\n",
    "################################################################\n",
    "action_embeddings = get_action_dataset_embeddings(actor.GIN)\n",
    "print(action_embeddings.shape)\n",
    "\n",
    "# I'm storing as lists, so doing numpy operations for the elements\n",
    "correct_indices = []\n",
    "action_embedding_indices = []\n",
    "\n",
    "# for indices_used_for_data, correct_idx in tqdm.tqdm(map(get_emb_indices_and_correct_idx, main_df.iterrows()), total=main_df.shape[0]):\n",
    "with Pool(20) as p:\n",
    "    for indices_used_for_data, correct_idx in tqdm.tqdm(p.imap(get_emb_indices_and_correct_idx, main_df.iterrows(), chunksize=50), total=main_df.shape[0]):\n",
    "        action_embedding_indices.append(indices_used_for_data)\n",
    "        correct_indices.append(correct_idx)\n",
    "\n",
    "        assert correct_indices[-1] < len(action_embedding_indices[-1]), f\"WHAT!? {correct_indices[-1]} vs {len(indices_used_for_data)}\""
   ]
  },
  {
   "cell_type": "code",
   "execution_count": 29,
   "id": "cdae9b50",
   "metadata": {},
   "outputs": [
    {
     "name": "stderr",
     "output_type": "stream",
     "text": [
      "100%|██████████████████████████████████████████████████████████| 86364/86364 [16:30<00:00, 87.20it/s]\n",
      "100%|██████████████████████████████████████████████████████████| 21591/21591 [03:38<00:00, 98.72it/s]\n"
     ]
    }
   ],
   "source": [
    "# Make training data\n",
    "def make_data(args):\n",
    "    i, negative_topk = args\n",
    "    data = []\n",
    "    targets = []\n",
    "    act_emb_for_i, correct_index = action_embeddings[action_embedding_indices[i]], correct_indices[i]\n",
    "\n",
    "    # Positive\n",
    "    positive = act_emb_for_i[correct_index]\n",
    "\n",
    "    # Calc negatives\n",
    "    dist = np.linalg.norm(action_embeddings - positive, axis=1)\n",
    "    sorted_idx = np.argsort(dist)[:negative_topk] \n",
    "    sorted_idx = sorted_idx[sorted_idx != correct_index] # Remove correct index in list\n",
    "    \n",
    "    data = np.array([(i, correct_index)]+list(zip([i] * len(sorted_idx), sorted_idx)))\n",
    "    targets = [[1] + [0] * len(sorted_idx)]\n",
    "    return data, targets\n",
    "\n",
    "train_X = []\n",
    "train_Y = []\n",
    "test_X = []\n",
    "test_Y = []\n",
    "with Pool(20) as p:\n",
    "    bs = 100\n",
    "    # Train\n",
    "    start, end = 0, int(main_df.shape[0]*0.8)\n",
    "    for X, Y in tqdm.tqdm(\n",
    "                          p.imap_unordered(make_data, \n",
    "                                 [(i, 10) for i in range(start, end)], \n",
    "                                 chunksize=bs), \n",
    "                          total=(end-start)):\n",
    "        train_X.append(X)\n",
    "        train_Y.append(Y)\n",
    "    \n",
    "    # Test\n",
    "    start, end = int(main_df.shape[0]*0.8), main_df.shape[0]\n",
    "    for X, Y in tqdm.tqdm(\n",
    "                          p.imap_unordered(make_data, \n",
    "                                 [(i, 1) for i in range(start, end)], \n",
    "                                 chunksize=bs), \n",
    "                          total=end-start):\n",
    "        test_X.append(X)\n",
    "        test_Y.append(Y)\n",
    "\n",
    "\n",
    "train_X = np.concatenate(train_X, axis=0)\n",
    "test_X = np.concatenate(test_X, axis=0)"
   ]
  },
  {
   "cell_type": "code",
   "execution_count": 30,
   "id": "cf3bd925",
   "metadata": {},
   "outputs": [
    {
     "name": "stdout",
     "output_type": "stream",
     "text": [
      "CPU times: user 37min, sys: 2min 57s, total: 39min 58s\n",
      "Wall time: 39min 35s\n",
      "CPU times: user 47min 2s, sys: 5min 35s, total: 52min 38s\n",
      "Wall time: 52min 4s\n",
      "CPU times: user 20min 26s, sys: 1min 58s, total: 22min 25s\n",
      "Wall time: 22min 13s\n",
      "CPU times: user 24min 33s, sys: 2min 36s, total: 27min 10s\n",
      "Wall time: 26min 52s\n",
      "949971 949971 949971 949971 torch.Size([949971, 1])\n",
      "43182 43182 43182 43182 torch.Size([43182, 1])\n"
     ]
    }
   ],
   "source": [
    "%time train_reactants = data.Molecule.pack(list(map(molecule_from_smile, main_df.iloc[train_X[:, 0]][\"reactant\"])))\n",
    "%time train_products = data.Molecule.pack(list(map(molecule_from_smile, main_df.iloc[train_X[:, 0]][\"product\"])))\n",
    "%time train_rsigs = data.Molecule.pack(list(map(molecule_from_smile, action_dataset.iloc[train_X[:, 1]][\"rsig\"])))\n",
    "%time train_psigs = data.Molecule.pack(list(map(molecule_from_smile, action_dataset.iloc[train_X[:, 1]][\"psig\"])))\n",
    "\n",
    "test_reactants = data.Molecule.pack(list(map(molecule_from_smile, main_df.iloc[test_X[:, 0]][\"reactant\"])))\n",
    "test_products = data.Molecule.pack(list(map(molecule_from_smile, main_df.iloc[test_X[:, 0]][\"product\"])))\n",
    "test_rsigs = data.Molecule.pack(list(map(molecule_from_smile, action_dataset.iloc[test_X[:, 1]][\"rsig\"])))\n",
    "test_psigs = data.Molecule.pack(list(map(molecule_from_smile, action_dataset.iloc[test_X[:, 1]][\"psig\"])))\n",
    "\n",
    "train_Y = torch.Tensor(np.concatenate(train_Y, axis=1)).view(-1, 1)\n",
    "test_Y = torch.Tensor(np.concatenate(test_Y, axis=1)).view(-1, 1)\n",
    "\n",
    "print(train_reactants.batch_size, train_products.batch_size, train_rsigs.batch_size, train_psigs.batch_size, train_Y.shape)\n",
    "\n",
    "print(test_reactants.batch_size, test_products.batch_size, test_rsigs.batch_size, test_psigs.batch_size, test_Y.shape)"
   ]
  },
  {
   "cell_type": "code",
   "execution_count": 31,
   "id": "16cbce04",
   "metadata": {},
   "outputs": [],
   "source": [
    "torch.cuda.empty_cache()    "
   ]
  },
  {
   "cell_type": "code",
   "execution_count": 32,
   "id": "6f3da10d",
   "metadata": {
    "scrolled": false
   },
   "outputs": [
    {
     "name": "stdout",
     "output_type": "stream",
     "text": [
      "NeuralNet(\n",
      "  (fc1): Linear(in_features=512, out_features=256, bias=True)\n",
      "  (bn1): BatchNorm1d(256, eps=1e-05, momentum=0.1, affine=True, track_running_stats=True)\n",
      "  (relu): ReLU()\n",
      "  (hidden_layers): ModuleList(\n",
      "    (0): Linear(in_features=256, out_features=256, bias=True)\n",
      "    (1): BatchNorm1d(256, eps=1e-05, momentum=0.1, affine=True, track_running_stats=True)\n",
      "    (2): ReLU()\n",
      "    (3): Linear(in_features=256, out_features=256, bias=True)\n",
      "    (4): BatchNorm1d(256, eps=1e-05, momentum=0.1, affine=True, track_running_stats=True)\n",
      "    (5): ReLU()\n",
      "  )\n",
      "  (last_layer): Linear(in_features=256, out_features=1, bias=True)\n",
      ")\n",
      "Epoch 1, Loss: 0.0003, Test Loss: 0.0242\n",
      "Epoch 2, Loss: 0.0001, Test Loss: 0.0291\n",
      "Epoch 3, Loss: 0.0002, Test Loss: 0.0357\n",
      "Epoch 4, Loss: 0.0001, Test Loss: 0.0340\n",
      "Epoch 5, Loss: 0.0001, Test Loss: 0.0273\n",
      "\n",
      "FINAL TEST LOSS: 0.027308976261127597\n"
     ]
    },
    {
     "data": {
      "image/png": "[encoded data removed]",
      "text/plain": [
       "<Figure size 640x480 with 1 Axes>"
      ]
     },
     "metadata": {},
     "output_type": "display_data"
    }
   ],
   "source": [
    "##########\n",
    "# Critic #\n",
    "##########\n",
    "critic_lr = 1e-3\n",
    "epochs = 5\n",
    "num_hidden = 2\n",
    "hidden_size = 256\n",
    "\n",
    "class CriticNetwork(nn.Module):\n",
    "    def __init__(self):\n",
    "        super(CriticNetwork, self).__init__()\n",
    "        self.GIN = torch.load(\"models/zinc2m_gin.pth\")\n",
    "        self.DENSE = NeuralNet(self.GIN.output_dim*4, 1, num_hidden=num_hidden, hidden_size=hidden_size).to(device)\n",
    "    \n",
    "    def forward(self, x1, x2, x3, x4):\n",
    "        out1 = self.GIN(x1, x1.node_feature.float())[\"graph_feature\"]\n",
    "        out2 = self.GIN(x2, x2.node_feature.float())[\"graph_feature\"]\n",
    "        out3 = self.GIN(x3, x3.node_feature.float())[\"graph_feature\"]\n",
    "        out4 = self.GIN(x4, x4.node_feature.float())[\"graph_feature\"]\n",
    "        \n",
    "        out = torch.concatenate([out1, out2, out3, out4], axis=1)\n",
    "        out = self.DENSE(out)\n",
    "        return out\n",
    "\n",
    "torch.cuda.empty_cache()    \n",
    "critic = CriticNetwork().to(device)\n",
    "print(critic.DENSE)\n",
    "criterion = nn.MSELoss()\n",
    "optimizer = torch.optim.Adam(critic.parameters(), lr=critic_lr)  \n",
    "\n",
    "loss_list = []\n",
    "test_loss = []\n",
    "\n",
    "# Train the critic\n",
    "for epoch in range(epochs):\n",
    "    for i in range(0, train_reactants.batch_size - batch_size, batch_size):\n",
    "        critic.train()\n",
    "        # Forward pass\n",
    "        outputs = critic(train_reactants[i:i+batch_size].to(device), \n",
    "                        train_products[i:i+batch_size].to(device), \n",
    "                        train_rsigs[i:i+batch_size].to(device), \n",
    "                        train_psigs[i:i+batch_size].to(device))\n",
    "        loss = criterion(outputs, train_Y[i:i+batch_size].to(device))\n",
    "\n",
    "        # Backward and optimize\n",
    "        optimizer.zero_grad()\n",
    "        loss.backward()\n",
    "        optimizer.step()\n",
    "        \n",
    "        # Free memory\n",
    "        torch.cuda.empty_cache()    \n",
    "    loss_list.append(loss.item())\n",
    "\n",
    "    # Get test loss\n",
    "    critic.eval()\n",
    "    temp_test_loss = []\n",
    "    for i in range(0, test_reactants.batch_size - batch_size, batch_size):\n",
    "        temp_test_loss.append(\n",
    "                        criterion(critic(test_reactants[i:i+batch_size].to(device), \n",
    "                                         test_products[i:i+batch_size].to(device), \n",
    "                                         test_rsigs[i:i+batch_size].to(device), \n",
    "                                         test_psigs[i:i+batch_size].to(device)) > 0.5, \n",
    "                                  test_Y[i:i+batch_size].to(device)).item()) \n",
    "        torch.cuda.empty_cache()    \n",
    "    test_loss.append(np.mean(temp_test_loss))\n",
    "\n",
    "    print ('Epoch {}, Loss: {:.4f}, Test Loss: {:.4f}'.format(epoch+1, loss_list[-1], test_loss[-1]))\n",
    "\n",
    "print(\"\\nFINAL TEST LOSS:\", test_loss[-1])\n",
    "\n",
    "plt.plot(loss_list[5:], label=\"training loss\")\n",
    "plt.plot(test_loss[5:], label=\"test loss\")\n",
    "plt.legend()\n",
    "plt.xlabel(\"epoch\")\n",
    "plt.ylabel(\"loss\")\n",
    "plt.show()\n",
    "\n"
   ]
  },
  {
   "cell_type": "code",
   "execution_count": 33,
   "id": "16390e31",
   "metadata": {},
   "outputs": [],
   "source": [
    "torch.save(critic, \"models/supervised/critic/5step.pth\")"
   ]
  },
  {
   "cell_type": "code",
   "execution_count": null,
   "id": "f87bc10f",
   "metadata": {},
   "outputs": [],
   "source": [
    "list(zip(critic(test_reactants, test_products, test_rsigs, test_psigs), train_Y))"
   ]
  }
 ],
 "metadata": {
  "kernelspec": {
   "display_name": "Python 3 (ipykernel)",
   "language": "python",
   "name": "python3"
  },
  "language_info": {
   "codemirror_mode": {
    "name": "ipython",
    "version": 3
   },
   "file_extension": ".py",
   "mimetype": "text/x-python",
   "name": "python",
   "nbconvert_exporter": "python",
   "pygments_lexer": "ipython3",
   "version": "3.7.16"
  }
 },
 "nbformat": 4,
 "nbformat_minor": 5
}
