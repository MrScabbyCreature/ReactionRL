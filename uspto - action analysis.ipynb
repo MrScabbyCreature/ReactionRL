{
 "cells": [
  {
   "cell_type": "code",
   "execution_count": 1,
   "metadata": {},
   "outputs": [],
   "source": [
    "from rdkit import Chem\n",
    "import numpy as np\n",
    "import pandas as pd\n",
    "from IPython.display import display"
   ]
  },
  {
   "cell_type": "markdown",
   "metadata": {},
   "source": [
    "# Load simulator data"
   ]
  },
  {
   "cell_type": "code",
   "execution_count": 2,
   "metadata": {},
   "outputs": [],
   "source": [
    "dataset = pd.read_csv(\"/home/abhor/Desktop/datasets/my_uspto/simulator_dataset.csv\", index_col=0)"
   ]
  },
  {
   "cell_type": "code",
   "execution_count": 3,
   "metadata": {
    "scrolled": false
   },
   "outputs": [
    {
     "data": {
      "text/html": [
       "<div>\n",
       "<style scoped>\n",
       "    .dataframe tbody tr th:only-of-type {\n",
       "        vertical-align: middle;\n",
       "    }\n",
       "\n",
       "    .dataframe tbody tr th {\n",
       "        vertical-align: top;\n",
       "    }\n",
       "\n",
       "    .dataframe thead th {\n",
       "        text-align: right;\n",
       "    }\n",
       "</style>\n",
       "<table border=\"1\" class=\"dataframe\">\n",
       "  <thead>\n",
       "    <tr style=\"text-align: right;\">\n",
       "      <th></th>\n",
       "      <th>reactants</th>\n",
       "      <th>products</th>\n",
       "      <th>rsig</th>\n",
       "      <th>psig</th>\n",
       "      <th>rcen</th>\n",
       "      <th>pcen</th>\n",
       "    </tr>\n",
       "  </thead>\n",
       "  <tbody>\n",
       "    <tr>\n",
       "      <th>0</th>\n",
       "      <td>CON(C)C(=O)c1ccc(O)nc1</td>\n",
       "      <td>CC(C)CC(=O)c1ccc(O)nc1</td>\n",
       "      <td>[CH3:0][O:1][NH:2][CH3:3]</td>\n",
       "      <td>[CH3:0][CH:1]([CH3:2])[CH3:3]</td>\n",
       "      <td>[2]</td>\n",
       "      <td>[3]</td>\n",
       "    </tr>\n",
       "    <tr>\n",
       "      <th>1</th>\n",
       "      <td>O=C(O)c1ccc(Cl)c([N+](=O)[O-])c1</td>\n",
       "      <td>CNc1ccc(C(=O)O)cc1[N+](=O)[O-]</td>\n",
       "      <td>[ClH:7]</td>\n",
       "      <td>[CH3:0][NH2:1]</td>\n",
       "      <td>[7]</td>\n",
       "      <td>[1]</td>\n",
       "    </tr>\n",
       "    <tr>\n",
       "      <th>2</th>\n",
       "      <td>CCn1cc(C(=O)O)c(=O)c2cc(F)c(-c3ccc(N)cc3)cc21</td>\n",
       "      <td>CCn1cc(C(=O)O)c(=O)c2cc(F)c(-c3ccc(NC=O)cc3)cc21</td>\n",
       "      <td>NaN</td>\n",
       "      <td>[CH2:20]=[O:21]</td>\n",
       "      <td>[]</td>\n",
       "      <td>[20]</td>\n",
       "    </tr>\n",
       "    <tr>\n",
       "      <th>3</th>\n",
       "      <td>COCC(C)Oc1cc(Oc2cnc(C(=O)N3CCC3)cn2)cc(C(=O)O)c1</td>\n",
       "      <td>COCC(C)Oc1cc(Oc2cnc(C(=O)N3CCC3)cn2)cc(C(=O)Nc...</td>\n",
       "      <td>[OH2:26]</td>\n",
       "      <td>[NH2:26][c:27]1[cH:28][n:29][c:30]([CH3:31])[c...</td>\n",
       "      <td>[26]</td>\n",
       "      <td>[26]</td>\n",
       "    </tr>\n",
       "    <tr>\n",
       "      <th>4</th>\n",
       "      <td>Clc1cc2c(Cl)nc(-c3ccncc3)nc2s1</td>\n",
       "      <td>Clc1cc2c(NCc3ccc(Cl)c(Cl)c3)nc(-c3ccncc3)nc2s1</td>\n",
       "      <td>[ClH:5]</td>\n",
       "      <td>[NH2:5][CH2:6][c:7]1[cH:8][cH:9][c:10]([Cl:11]...</td>\n",
       "      <td>[5]</td>\n",
       "      <td>[5]</td>\n",
       "    </tr>\n",
       "    <tr>\n",
       "      <th>...</th>\n",
       "      <td>...</td>\n",
       "      <td>...</td>\n",
       "      <td>...</td>\n",
       "      <td>...</td>\n",
       "      <td>...</td>\n",
       "      <td>...</td>\n",
       "    </tr>\n",
       "    <tr>\n",
       "      <th>448504</th>\n",
       "      <td>CCP(CC)CC</td>\n",
       "      <td>CCCCOS(=O)(=O)[O-]</td>\n",
       "      <td>[PH:2]([CH2:3][CH3:4])[CH2:5][CH3:6]</td>\n",
       "      <td>[CH3:2][CH2:3][O:4][S:5](=[O:6])(=[O:7])[O-:8]</td>\n",
       "      <td>[2]</td>\n",
       "      <td>[2]</td>\n",
       "    </tr>\n",
       "    <tr>\n",
       "      <th>448505</th>\n",
       "      <td>CCCCOS(=O)(=O)OCCCC</td>\n",
       "      <td>CCCC[P+](CC)(CC)CC</td>\n",
       "      <td>[OH:4][S:5](=[O:6])(=[O:7])[O:8][CH2:9][CH2:10...</td>\n",
       "      <td>[P+:4]([CH2:5][CH3:6])([CH2:7][CH3:8])[CH2:9][...</td>\n",
       "      <td>[4]</td>\n",
       "      <td>[4]</td>\n",
       "    </tr>\n",
       "    <tr>\n",
       "      <th>448506</th>\n",
       "      <td>Cc1cccc(C)c1N=C1NCCN1OCc1ccccn1</td>\n",
       "      <td>Cc1cccc(C)c1N=C1NCCN1O</td>\n",
       "      <td>[CH3:15][c:16]1[cH:17][cH:18][cH:19][cH:20][n:...</td>\n",
       "      <td>NaN</td>\n",
       "      <td>[15]</td>\n",
       "      <td>[]</td>\n",
       "    </tr>\n",
       "    <tr>\n",
       "      <th>448507</th>\n",
       "      <td>Clc1ccnc(Cl)c1</td>\n",
       "      <td>N[n+]1ccc(Cl)cc1Cl</td>\n",
       "      <td>NaN</td>\n",
       "      <td>[NH3:0]</td>\n",
       "      <td>[]</td>\n",
       "      <td>[0]</td>\n",
       "    </tr>\n",
       "    <tr>\n",
       "      <th>448508</th>\n",
       "      <td>O=C(c1ccc(Cl)cc1)c1cc2ccccc2cn1</td>\n",
       "      <td>N[n+]1cc2ccccc2cc1C(=O)c1ccc(Cl)cc1</td>\n",
       "      <td>NaN</td>\n",
       "      <td>[NH3:0]</td>\n",
       "      <td>[]</td>\n",
       "      <td>[0]</td>\n",
       "    </tr>\n",
       "  </tbody>\n",
       "</table>\n",
       "<p>448313 rows × 6 columns</p>\n",
       "</div>"
      ],
      "text/plain": [
       "                                               reactants  \\\n",
       "0                                 CON(C)C(=O)c1ccc(O)nc1   \n",
       "1                       O=C(O)c1ccc(Cl)c([N+](=O)[O-])c1   \n",
       "2          CCn1cc(C(=O)O)c(=O)c2cc(F)c(-c3ccc(N)cc3)cc21   \n",
       "3       COCC(C)Oc1cc(Oc2cnc(C(=O)N3CCC3)cn2)cc(C(=O)O)c1   \n",
       "4                         Clc1cc2c(Cl)nc(-c3ccncc3)nc2s1   \n",
       "...                                                  ...   \n",
       "448504                                         CCP(CC)CC   \n",
       "448505                               CCCCOS(=O)(=O)OCCCC   \n",
       "448506                   Cc1cccc(C)c1N=C1NCCN1OCc1ccccn1   \n",
       "448507                                    Clc1ccnc(Cl)c1   \n",
       "448508                   O=C(c1ccc(Cl)cc1)c1cc2ccccc2cn1   \n",
       "\n",
       "                                                 products  \\\n",
       "0                                  CC(C)CC(=O)c1ccc(O)nc1   \n",
       "1                          CNc1ccc(C(=O)O)cc1[N+](=O)[O-]   \n",
       "2        CCn1cc(C(=O)O)c(=O)c2cc(F)c(-c3ccc(NC=O)cc3)cc21   \n",
       "3       COCC(C)Oc1cc(Oc2cnc(C(=O)N3CCC3)cn2)cc(C(=O)Nc...   \n",
       "4          Clc1cc2c(NCc3ccc(Cl)c(Cl)c3)nc(-c3ccncc3)nc2s1   \n",
       "...                                                   ...   \n",
       "448504                                 CCCCOS(=O)(=O)[O-]   \n",
       "448505                                 CCCC[P+](CC)(CC)CC   \n",
       "448506                             Cc1cccc(C)c1N=C1NCCN1O   \n",
       "448507                                 N[n+]1ccc(Cl)cc1Cl   \n",
       "448508                N[n+]1cc2ccccc2cc1C(=O)c1ccc(Cl)cc1   \n",
       "\n",
       "                                                     rsig  \\\n",
       "0                               [CH3:0][O:1][NH:2][CH3:3]   \n",
       "1                                                 [ClH:7]   \n",
       "2                                                     NaN   \n",
       "3                                                [OH2:26]   \n",
       "4                                                 [ClH:5]   \n",
       "...                                                   ...   \n",
       "448504               [PH:2]([CH2:3][CH3:4])[CH2:5][CH3:6]   \n",
       "448505  [OH:4][S:5](=[O:6])(=[O:7])[O:8][CH2:9][CH2:10...   \n",
       "448506  [CH3:15][c:16]1[cH:17][cH:18][cH:19][cH:20][n:...   \n",
       "448507                                                NaN   \n",
       "448508                                                NaN   \n",
       "\n",
       "                                                     psig  rcen  pcen  \n",
       "0                           [CH3:0][CH:1]([CH3:2])[CH3:3]   [2]   [3]  \n",
       "1                                          [CH3:0][NH2:1]   [7]   [1]  \n",
       "2                                         [CH2:20]=[O:21]    []  [20]  \n",
       "3       [NH2:26][c:27]1[cH:28][n:29][c:30]([CH3:31])[c...  [26]  [26]  \n",
       "4       [NH2:5][CH2:6][c:7]1[cH:8][cH:9][c:10]([Cl:11]...   [5]   [5]  \n",
       "...                                                   ...   ...   ...  \n",
       "448504     [CH3:2][CH2:3][O:4][S:5](=[O:6])(=[O:7])[O-:8]   [2]   [2]  \n",
       "448505  [P+:4]([CH2:5][CH3:6])([CH2:7][CH3:8])[CH2:9][...   [4]   [4]  \n",
       "448506                                                NaN  [15]    []  \n",
       "448507                                            [NH3:0]    []   [0]  \n",
       "448508                                            [NH3:0]    []   [0]  \n",
       "\n",
       "[448313 rows x 6 columns]"
      ]
     },
     "execution_count": 3,
     "metadata": {},
     "output_type": "execute_result"
    }
   ],
   "source": [
    "dataset"
   ]
  },
  {
   "cell_type": "markdown",
   "metadata": {},
   "source": [
    "# Filtering dataset"
   ]
  },
  {
   "cell_type": "code",
   "execution_count": 5,
   "metadata": {},
   "outputs": [
    {
     "name": "stdout",
     "output_type": "stream",
     "text": [
      "(438686, 6)\n"
     ]
    }
   ],
   "source": [
    "# First we remove those reactions where the signature extraction didnt work properly \n",
    "# In these cases, the Chem.Mol of either of rsig or psig is None\n",
    "rsig_worked = np.array(list(map(lambda x: pd.isna(x) or Chem.MolFromSmiles(x) is not None, dataset[\"rsig\"].tolist())))\n",
    "psig_worked = np.array(list(map(lambda x: pd.isna(x) or Chem.MolFromSmiles(x) is not None, dataset[\"psig\"].tolist())))\n",
    "\n",
    "dataset = dataset[rsig_worked & psig_worked]\n",
    "print(dataset.shape)"
   ]
  },
  {
   "cell_type": "code",
   "execution_count": 6,
   "metadata": {},
   "outputs": [
    {
     "data": {
      "text/html": [
       "<div>\n",
       "<style scoped>\n",
       "    .dataframe tbody tr th:only-of-type {\n",
       "        vertical-align: middle;\n",
       "    }\n",
       "\n",
       "    .dataframe tbody tr th {\n",
       "        vertical-align: top;\n",
       "    }\n",
       "\n",
       "    .dataframe thead th {\n",
       "        text-align: right;\n",
       "    }\n",
       "</style>\n",
       "<table border=\"1\" class=\"dataframe\">\n",
       "  <thead>\n",
       "    <tr style=\"text-align: right;\">\n",
       "      <th></th>\n",
       "      <th>reactants</th>\n",
       "      <th>products</th>\n",
       "      <th>rsig</th>\n",
       "      <th>psig</th>\n",
       "      <th>rcen</th>\n",
       "      <th>pcen</th>\n",
       "    </tr>\n",
       "  </thead>\n",
       "  <tbody>\n",
       "    <tr>\n",
       "      <th>0</th>\n",
       "      <td>CON(C)C(=O)c1ccc(O)nc1</td>\n",
       "      <td>CC(C)CC(=O)c1ccc(O)nc1</td>\n",
       "      <td>[CH3:0][O:1][NH:2][CH3:3]</td>\n",
       "      <td>[CH3:0][CH:1]([CH3:2])[CH3:3]</td>\n",
       "      <td>[2]</td>\n",
       "      <td>[3]</td>\n",
       "    </tr>\n",
       "    <tr>\n",
       "      <th>1</th>\n",
       "      <td>O=C(O)c1ccc(Cl)c([N+](=O)[O-])c1</td>\n",
       "      <td>CNc1ccc(C(=O)O)cc1[N+](=O)[O-]</td>\n",
       "      <td>[ClH:7]</td>\n",
       "      <td>[CH3:0][NH2:1]</td>\n",
       "      <td>[7]</td>\n",
       "      <td>[1]</td>\n",
       "    </tr>\n",
       "    <tr>\n",
       "      <th>3</th>\n",
       "      <td>COCC(C)Oc1cc(Oc2cnc(C(=O)N3CCC3)cn2)cc(C(=O)O)c1</td>\n",
       "      <td>COCC(C)Oc1cc(Oc2cnc(C(=O)N3CCC3)cn2)cc(C(=O)Nc...</td>\n",
       "      <td>[OH2:26]</td>\n",
       "      <td>[NH2:26][c:27]1[cH:28][n:29][c:30]([CH3:31])[c...</td>\n",
       "      <td>[26]</td>\n",
       "      <td>[26]</td>\n",
       "    </tr>\n",
       "    <tr>\n",
       "      <th>4</th>\n",
       "      <td>Clc1cc2c(Cl)nc(-c3ccncc3)nc2s1</td>\n",
       "      <td>Clc1cc2c(NCc3ccc(Cl)c(Cl)c3)nc(-c3ccncc3)nc2s1</td>\n",
       "      <td>[ClH:5]</td>\n",
       "      <td>[NH2:5][CH2:6][c:7]1[cH:8][cH:9][c:10]([Cl:11]...</td>\n",
       "      <td>[5]</td>\n",
       "      <td>[5]</td>\n",
       "    </tr>\n",
       "    <tr>\n",
       "      <th>6</th>\n",
       "      <td>O=C(N1CCc2ccc(Cl)c(OS(=O)(=O)C(F)(F)F)c2CC1)C(...</td>\n",
       "      <td>CC(Nc1c(Cl)ccc2c1CCN(C(=O)C(F)(F)F)CC2)c1ccc(F...</td>\n",
       "      <td>[OH:11][S:12](=[O:13])(=[O:14])[C:15]([F:16])(...</td>\n",
       "      <td>[CH3:0][CH:1]([NH2:2])[c:21]1[cH:22][cH:23][c:...</td>\n",
       "      <td>[11]</td>\n",
       "      <td>[2]</td>\n",
       "    </tr>\n",
       "    <tr>\n",
       "      <th>...</th>\n",
       "      <td>...</td>\n",
       "      <td>...</td>\n",
       "      <td>...</td>\n",
       "      <td>...</td>\n",
       "      <td>...</td>\n",
       "      <td>...</td>\n",
       "    </tr>\n",
       "    <tr>\n",
       "      <th>448499</th>\n",
       "      <td>CC(C)(C)c1nc2cc(S(=O)(=O)Cl)ccc2n1CC1CCC(F)(F)CC1</td>\n",
       "      <td>CC(C)(C)c1nc2cc(S(=O)(=O)N3CCC(C(=O)NC4CC4)C3)...</td>\n",
       "      <td>[ClH:12]</td>\n",
       "      <td>[NH:12]1[CH2:13][CH2:14][CH:15]([C:16](=[O:17]...</td>\n",
       "      <td>[12]</td>\n",
       "      <td>[12]</td>\n",
       "    </tr>\n",
       "    <tr>\n",
       "      <th>448501</th>\n",
       "      <td>COC(=O)c1ccc(-n2cnc3cc(C#N)ccc32)cc1</td>\n",
       "      <td>N#Cc1ccc2c(c1)ncn2-c1ccc(C(=O)N2CCC(N3CCCC3)C2...</td>\n",
       "      <td>[CH3:0][OH:1]</td>\n",
       "      <td>[NH:17]1[CH2:18][CH2:19][CH:20]([N:21]2[CH2:22...</td>\n",
       "      <td>[1]</td>\n",
       "      <td>[17]</td>\n",
       "    </tr>\n",
       "    <tr>\n",
       "      <th>448502</th>\n",
       "      <td>O=C(Cl)OCC(Cl)(Cl)Cl</td>\n",
       "      <td>O=C(O)OCC(Cl)(Cl)Cl</td>\n",
       "      <td>[ClH:2]</td>\n",
       "      <td>[OH2:2]</td>\n",
       "      <td>[2]</td>\n",
       "      <td>[2]</td>\n",
       "    </tr>\n",
       "    <tr>\n",
       "      <th>448504</th>\n",
       "      <td>CCP(CC)CC</td>\n",
       "      <td>CCCCOS(=O)(=O)[O-]</td>\n",
       "      <td>[PH:2]([CH2:3][CH3:4])[CH2:5][CH3:6]</td>\n",
       "      <td>[CH3:2][CH2:3][O:4][S:5](=[O:6])(=[O:7])[O-:8]</td>\n",
       "      <td>[2]</td>\n",
       "      <td>[2]</td>\n",
       "    </tr>\n",
       "    <tr>\n",
       "      <th>448505</th>\n",
       "      <td>CCCCOS(=O)(=O)OCCCC</td>\n",
       "      <td>CCCC[P+](CC)(CC)CC</td>\n",
       "      <td>[OH:4][S:5](=[O:6])(=[O:7])[O:8][CH2:9][CH2:10...</td>\n",
       "      <td>[P+:4]([CH2:5][CH3:6])([CH2:7][CH3:8])[CH2:9][...</td>\n",
       "      <td>[4]</td>\n",
       "      <td>[4]</td>\n",
       "    </tr>\n",
       "  </tbody>\n",
       "</table>\n",
       "<p>183383 rows × 6 columns</p>\n",
       "</div>"
      ],
      "text/plain": [
       "                                                reactants  \\\n",
       "0                                  CON(C)C(=O)c1ccc(O)nc1   \n",
       "1                        O=C(O)c1ccc(Cl)c([N+](=O)[O-])c1   \n",
       "3        COCC(C)Oc1cc(Oc2cnc(C(=O)N3CCC3)cn2)cc(C(=O)O)c1   \n",
       "4                          Clc1cc2c(Cl)nc(-c3ccncc3)nc2s1   \n",
       "6       O=C(N1CCc2ccc(Cl)c(OS(=O)(=O)C(F)(F)F)c2CC1)C(...   \n",
       "...                                                   ...   \n",
       "448499  CC(C)(C)c1nc2cc(S(=O)(=O)Cl)ccc2n1CC1CCC(F)(F)CC1   \n",
       "448501               COC(=O)c1ccc(-n2cnc3cc(C#N)ccc32)cc1   \n",
       "448502                               O=C(Cl)OCC(Cl)(Cl)Cl   \n",
       "448504                                          CCP(CC)CC   \n",
       "448505                                CCCCOS(=O)(=O)OCCCC   \n",
       "\n",
       "                                                 products  \\\n",
       "0                                  CC(C)CC(=O)c1ccc(O)nc1   \n",
       "1                          CNc1ccc(C(=O)O)cc1[N+](=O)[O-]   \n",
       "3       COCC(C)Oc1cc(Oc2cnc(C(=O)N3CCC3)cn2)cc(C(=O)Nc...   \n",
       "4          Clc1cc2c(NCc3ccc(Cl)c(Cl)c3)nc(-c3ccncc3)nc2s1   \n",
       "6       CC(Nc1c(Cl)ccc2c1CCN(C(=O)C(F)(F)F)CC2)c1ccc(F...   \n",
       "...                                                   ...   \n",
       "448499  CC(C)(C)c1nc2cc(S(=O)(=O)N3CCC(C(=O)NC4CC4)C3)...   \n",
       "448501  N#Cc1ccc2c(c1)ncn2-c1ccc(C(=O)N2CCC(N3CCCC3)C2...   \n",
       "448502                                O=C(O)OCC(Cl)(Cl)Cl   \n",
       "448504                                 CCCCOS(=O)(=O)[O-]   \n",
       "448505                                 CCCC[P+](CC)(CC)CC   \n",
       "\n",
       "                                                     rsig  \\\n",
       "0                               [CH3:0][O:1][NH:2][CH3:3]   \n",
       "1                                                 [ClH:7]   \n",
       "3                                                [OH2:26]   \n",
       "4                                                 [ClH:5]   \n",
       "6       [OH:11][S:12](=[O:13])(=[O:14])[C:15]([F:16])(...   \n",
       "...                                                   ...   \n",
       "448499                                           [ClH:12]   \n",
       "448501                                      [CH3:0][OH:1]   \n",
       "448502                                            [ClH:2]   \n",
       "448504               [PH:2]([CH2:3][CH3:4])[CH2:5][CH3:6]   \n",
       "448505  [OH:4][S:5](=[O:6])(=[O:7])[O:8][CH2:9][CH2:10...   \n",
       "\n",
       "                                                     psig  rcen  pcen  \n",
       "0                           [CH3:0][CH:1]([CH3:2])[CH3:3]   [2]   [3]  \n",
       "1                                          [CH3:0][NH2:1]   [7]   [1]  \n",
       "3       [NH2:26][c:27]1[cH:28][n:29][c:30]([CH3:31])[c...  [26]  [26]  \n",
       "4       [NH2:5][CH2:6][c:7]1[cH:8][cH:9][c:10]([Cl:11]...   [5]   [5]  \n",
       "6       [CH3:0][CH:1]([NH2:2])[c:21]1[cH:22][cH:23][c:...  [11]   [2]  \n",
       "...                                                   ...   ...   ...  \n",
       "448499  [NH:12]1[CH2:13][CH2:14][CH:15]([C:16](=[O:17]...  [12]  [12]  \n",
       "448501  [NH:17]1[CH2:18][CH2:19][CH:20]([N:21]2[CH2:22...   [1]  [17]  \n",
       "448502                                            [OH2:2]   [2]   [2]  \n",
       "448504     [CH3:2][CH2:3][O:4][S:5](=[O:6])(=[O:7])[O-:8]   [2]   [2]  \n",
       "448505  [P+:4]([CH2:5][CH3:6])([CH2:7][CH3:8])[CH2:9][...   [4]   [4]  \n",
       "\n",
       "[183383 rows x 6 columns]"
      ]
     },
     "execution_count": 6,
     "metadata": {},
     "output_type": "execute_result"
    }
   ],
   "source": [
    "# we only consider actions from the following reactions: \n",
    "# 1. len(rcen) == len(pcen)\n",
    "# 2. len(rcen) != 0. len(pcen) == 0 is allowed. = 0 means Hydrogen, so we do not want Hydrogen removals because\n",
    "#    there are too many options in that case. Adding a Hydrogen is fine since that is deterministic.\n",
    "# 3. len(rcen) <= 2 and len(pcen) <= 2. The cases where this is not true is typically because the \n",
    "#    reactant-product mapping is wrong. These cases are few anyways so it's fine.\n",
    "rlen = np.array(list(map(lambda x: len(x.strip(\"[]\").split(\",\")) if len(x) > 2 else 0, dataset[\"rcen\"])))\n",
    "plen = np.array(list(map(lambda x: len(x.strip(\"[]\").split(\",\")) if len(x) > 2 else 0, dataset[\"pcen\"])))\n",
    "# dataset = dataset[(rlen==plen) & (rlen!=0) & (rlen<=2) & (pcen<=2)]\n",
    "# dataset\n",
    "\n",
    "dataset[(rlen==plen) & (rlen!=0)]"
   ]
  },
  {
   "cell_type": "code",
   "execution_count": 7,
   "metadata": {},
   "outputs": [],
   "source": [
    "rplen = list(map(lambda x: f\"{x[0]}-{x[1]}\", zip(rlen, plen)))"
   ]
  },
  {
   "cell_type": "code",
   "execution_count": 8,
   "metadata": {},
   "outputs": [
    {
     "data": {
      "text/plain": [
       "(array(['0-0', '0-1', '0-2', '0-3', '0-4', '0-5', '0-6', '0-7', '1-0',\n",
       "        '1-1', '1-2', '1-3', '1-4', '1-5', '1-6', '1-7', '2-0', '2-1',\n",
       "        '2-2', '2-3', '2-4', '2-5', '2-6', '2-7', '3-0', '3-1', '3-2',\n",
       "        '3-3', '3-4', '3-5', '3-6', '4-0', '4-1', '4-2', '4-3', '4-4',\n",
       "        '4-5', '4-6', '5-0', '5-1', '5-2', '5-3', '5-4', '5-5', '6-1',\n",
       "        '6-3', '7-1', '7-3', '9-1'], dtype='<U3'),\n",
       " array([  3620, 138434,   2686,    442,     38,      6,      1,      1,\n",
       "         73905, 181613,  11562,    640,    171,     28,      5,      2,\n",
       "         16741,   5489,   1662,    168,     69,     23,      4,      1,\n",
       "           380,    440,    199,     86,     43,      4,      1,     12,\n",
       "            54,     63,     22,     21,      5,      1,      1,      7,\n",
       "            11,     14,      3,      1,      1,      3,      1,      1,\n",
       "             1]))"
      ]
     },
     "execution_count": 8,
     "metadata": {},
     "output_type": "execute_result"
    }
   ],
   "source": [
    "np.unique(rplen, return_counts=True)"
   ]
  },
  {
   "cell_type": "code",
   "execution_count": 26,
   "metadata": {},
   "outputs": [
    {
     "data": {
      "text/plain": [
       "(438686, 6)"
      ]
     },
     "execution_count": 26,
     "metadata": {},
     "output_type": "execute_result"
    }
   ],
   "source": [
    "dataset.shape"
   ]
  },
  {
   "cell_type": "code",
   "execution_count": 46,
   "metadata": {},
   "outputs": [
    {
     "name": "stdout",
     "output_type": "stream",
     "text": [
      "(2974, 6)\n"
     ]
    }
   ],
   "source": [
    "temp = dataset[(rlen>=3) | (plen>=3)]\n",
    "print(temp.shape)"
   ]
  },
  {
   "cell_type": "code",
   "execution_count": 45,
   "metadata": {},
   "outputs": [
    {
     "name": "stdout",
     "output_type": "stream",
     "text": [
      "(1662, 6)\n"
     ]
    }
   ],
   "source": [
    "temp = dataset[(rlen==2) & (plen==2)]\n",
    "print(temp.shape)"
   ]
  },
  {
   "cell_type": "code",
   "execution_count": 47,
   "metadata": {},
   "outputs": [
    {
     "name": "stdout",
     "output_type": "stream",
     "text": [
      "(397572, 6)\n"
     ]
    }
   ],
   "source": [
    "temp = dataset[(rlen<=1) & (plen<=1)]\n",
    "print(temp.shape)"
   ]
  },
  {
   "cell_type": "code",
   "execution_count": 49,
   "metadata": {},
   "outputs": [
    {
     "name": "stdout",
     "output_type": "stream",
     "text": [
      "(37016, 6)\n"
     ]
    }
   ],
   "source": [
    "temp = dataset[(rlen==2) ^ (plen==2)]\n",
    "print(temp.shape)"
   ]
  },
  {
   "cell_type": "code",
   "execution_count": 51,
   "metadata": {},
   "outputs": [
    {
     "data": {
      "text/plain": [
       "-538"
      ]
     },
     "execution_count": 51,
     "metadata": {},
     "output_type": "execute_result"
    }
   ],
   "source": [
    "438686 - (2974 + 1662 + 397572 + 37016)"
   ]
  },
  {
   "cell_type": "code",
   "execution_count": null,
   "metadata": {},
   "outputs": [],
   "source": []
  },
  {
   "cell_type": "code",
   "execution_count": 20,
   "metadata": {},
   "outputs": [
    {
     "data": {
      "text/html": [
       "<div>\n",
       "<style scoped>\n",
       "    .dataframe tbody tr th:only-of-type {\n",
       "        vertical-align: middle;\n",
       "    }\n",
       "\n",
       "    .dataframe tbody tr th {\n",
       "        vertical-align: top;\n",
       "    }\n",
       "\n",
       "    .dataframe thead th {\n",
       "        text-align: right;\n",
       "    }\n",
       "</style>\n",
       "<table border=\"1\" class=\"dataframe\">\n",
       "  <thead>\n",
       "    <tr style=\"text-align: right;\">\n",
       "      <th></th>\n",
       "      <th>reactants</th>\n",
       "      <th>products</th>\n",
       "      <th>rsig</th>\n",
       "      <th>psig</th>\n",
       "      <th>rcen</th>\n",
       "      <th>pcen</th>\n",
       "    </tr>\n",
       "  </thead>\n",
       "  <tbody>\n",
       "    <tr>\n",
       "      <th>42</th>\n",
       "      <td>CCOC(=O)c1cc(-c2ccccc2)n(S(=O)(=O)c2ccccc2)c1Cl</td>\n",
       "      <td>O=S(=O)(c1ccccc1)n1c(-c2ccccc2)cc(CO)c1Cl</td>\n",
       "      <td>[CH3:0][CH3:1].[OH2:4]</td>\n",
       "      <td>NaN</td>\n",
       "      <td>[1, 4]</td>\n",
       "      <td>[]</td>\n",
       "    </tr>\n",
       "    <tr>\n",
       "      <th>71</th>\n",
       "      <td>O=Cc1cnc(Br)s1</td>\n",
       "      <td>CC(O)c1cnc(Br)s1</td>\n",
       "      <td>[OH2:0]</td>\n",
       "      <td>[CH4:0].[OH2:2]</td>\n",
       "      <td>[0]</td>\n",
       "      <td>[0, 2]</td>\n",
       "    </tr>\n",
       "    <tr>\n",
       "      <th>73</th>\n",
       "      <td>CCOC(=O)C(Cc1ccc(C#N)cc1)(NC(C)=O)C(=O)OCC</td>\n",
       "      <td>CCOC(=O)C(Cc1ccc(C(N)=S)cc1)(NC(C)=O)C(=O)OCC</td>\n",
       "      <td>[NH3:12]</td>\n",
       "      <td>[NH3:12].[SH2:13]</td>\n",
       "      <td>[12]</td>\n",
       "      <td>[12, 13]</td>\n",
       "    </tr>\n",
       "    <tr>\n",
       "      <th>74</th>\n",
       "      <td>C=CCCC(O)(CCC=C)c1cccc(F)c1F</td>\n",
       "      <td>OC1(c2cccc(F)c2F)CCC=CCC1</td>\n",
       "      <td>[CH4:0].[CH4:9]</td>\n",
       "      <td>NaN</td>\n",
       "      <td>[0, 9]</td>\n",
       "      <td>[]</td>\n",
       "    </tr>\n",
       "    <tr>\n",
       "      <th>78</th>\n",
       "      <td>NC(=O)C1CCCN(CC2COc3ccccc3O2)C1</td>\n",
       "      <td>N#CC1CCCN(CC2COc3ccccc3O2)C1</td>\n",
       "      <td>[NH3:0].[OH2:2]</td>\n",
       "      <td>[NH3:0]</td>\n",
       "      <td>[0, 2]</td>\n",
       "      <td>[0]</td>\n",
       "    </tr>\n",
       "    <tr>\n",
       "      <th>...</th>\n",
       "      <td>...</td>\n",
       "      <td>...</td>\n",
       "      <td>...</td>\n",
       "      <td>...</td>\n",
       "      <td>...</td>\n",
       "      <td>...</td>\n",
       "    </tr>\n",
       "    <tr>\n",
       "      <th>448430</th>\n",
       "      <td>O=C(O)C(F)(F)F</td>\n",
       "      <td>O=C1C[NH2+]CCN1Cc1ccc(F)cc1</td>\n",
       "      <td>[FH:4].[FH:5].[FH:6].[OH2:2]</td>\n",
       "      <td>[NH2+:3][CH2:4][CH2:5][NH:6][CH2:7][c:8]1[cH:9...</td>\n",
       "      <td>[2, 4, 5, 6]</td>\n",
       "      <td>[3, 6]</td>\n",
       "    </tr>\n",
       "    <tr>\n",
       "      <th>448434</th>\n",
       "      <td>Nc1ccccc1O</td>\n",
       "      <td>Cc1ccc(S(=O)(=O)O)cc1</td>\n",
       "      <td>[NH3:0].[OH2:7]</td>\n",
       "      <td>[CH4:0].[SH:5](=[O:6])(=[O:7])[OH:8]</td>\n",
       "      <td>[0, 7]</td>\n",
       "      <td>[0, 5]</td>\n",
       "    </tr>\n",
       "    <tr>\n",
       "      <th>448444</th>\n",
       "      <td>S=C(Cl)Cl</td>\n",
       "      <td>[N-]=C=S</td>\n",
       "      <td>[ClH:2].[ClH:3]</td>\n",
       "      <td>[N-:0]</td>\n",
       "      <td>[2, 3]</td>\n",
       "      <td>[0]</td>\n",
       "    </tr>\n",
       "    <tr>\n",
       "      <th>448468</th>\n",
       "      <td>C1CCOC1</td>\n",
       "      <td>CC(C)(C)[NH-]</td>\n",
       "      <td>[OH:3][CH3:4]</td>\n",
       "      <td>[CH4:3].[NH-:4]</td>\n",
       "      <td>[3, 4]</td>\n",
       "      <td>[3, 4]</td>\n",
       "    </tr>\n",
       "    <tr>\n",
       "      <th>448479</th>\n",
       "      <td>Cn1ccnc1</td>\n",
       "      <td>CCn1cc[n+](C)c1</td>\n",
       "      <td>NaN</td>\n",
       "      <td>[CH4:0].[CH4:6]</td>\n",
       "      <td>[]</td>\n",
       "      <td>[0, 6]</td>\n",
       "    </tr>\n",
       "  </tbody>\n",
       "</table>\n",
       "<p>38678 rows × 6 columns</p>\n",
       "</div>"
      ],
      "text/plain": [
       "                                              reactants  \\\n",
       "42      CCOC(=O)c1cc(-c2ccccc2)n(S(=O)(=O)c2ccccc2)c1Cl   \n",
       "71                                       O=Cc1cnc(Br)s1   \n",
       "73           CCOC(=O)C(Cc1ccc(C#N)cc1)(NC(C)=O)C(=O)OCC   \n",
       "74                         C=CCCC(O)(CCC=C)c1cccc(F)c1F   \n",
       "78                      NC(=O)C1CCCN(CC2COc3ccccc3O2)C1   \n",
       "...                                                 ...   \n",
       "448430                                   O=C(O)C(F)(F)F   \n",
       "448434                                       Nc1ccccc1O   \n",
       "448444                                        S=C(Cl)Cl   \n",
       "448468                                          C1CCOC1   \n",
       "448479                                         Cn1ccnc1   \n",
       "\n",
       "                                             products  \\\n",
       "42          O=S(=O)(c1ccccc1)n1c(-c2ccccc2)cc(CO)c1Cl   \n",
       "71                                   CC(O)c1cnc(Br)s1   \n",
       "73      CCOC(=O)C(Cc1ccc(C(N)=S)cc1)(NC(C)=O)C(=O)OCC   \n",
       "74                          OC1(c2cccc(F)c2F)CCC=CCC1   \n",
       "78                       N#CC1CCCN(CC2COc3ccccc3O2)C1   \n",
       "...                                               ...   \n",
       "448430                    O=C1C[NH2+]CCN1Cc1ccc(F)cc1   \n",
       "448434                          Cc1ccc(S(=O)(=O)O)cc1   \n",
       "448444                                       [N-]=C=S   \n",
       "448468                                  CC(C)(C)[NH-]   \n",
       "448479                                CCn1cc[n+](C)c1   \n",
       "\n",
       "                                rsig  \\\n",
       "42            [CH3:0][CH3:1].[OH2:4]   \n",
       "71                           [OH2:0]   \n",
       "73                          [NH3:12]   \n",
       "74                   [CH4:0].[CH4:9]   \n",
       "78                   [NH3:0].[OH2:2]   \n",
       "...                              ...   \n",
       "448430  [FH:4].[FH:5].[FH:6].[OH2:2]   \n",
       "448434               [NH3:0].[OH2:7]   \n",
       "448444               [ClH:2].[ClH:3]   \n",
       "448468                 [OH:3][CH3:4]   \n",
       "448479                           NaN   \n",
       "\n",
       "                                                     psig          rcen  \\\n",
       "42                                                    NaN        [1, 4]   \n",
       "71                                        [CH4:0].[OH2:2]           [0]   \n",
       "73                                      [NH3:12].[SH2:13]          [12]   \n",
       "74                                                    NaN        [0, 9]   \n",
       "78                                                [NH3:0]        [0, 2]   \n",
       "...                                                   ...           ...   \n",
       "448430  [NH2+:3][CH2:4][CH2:5][NH:6][CH2:7][c:8]1[cH:9...  [2, 4, 5, 6]   \n",
       "448434               [CH4:0].[SH:5](=[O:6])(=[O:7])[OH:8]        [0, 7]   \n",
       "448444                                             [N-:0]        [2, 3]   \n",
       "448468                                    [CH4:3].[NH-:4]        [3, 4]   \n",
       "448479                                    [CH4:0].[CH4:6]            []   \n",
       "\n",
       "            pcen  \n",
       "42            []  \n",
       "71        [0, 2]  \n",
       "73      [12, 13]  \n",
       "74            []  \n",
       "78           [0]  \n",
       "...          ...  \n",
       "448430    [3, 6]  \n",
       "448434    [0, 5]  \n",
       "448444       [0]  \n",
       "448468    [3, 4]  \n",
       "448479    [0, 6]  \n",
       "\n",
       "[38678 rows x 6 columns]"
      ]
     },
     "execution_count": 20,
     "metadata": {},
     "output_type": "execute_result"
    }
   ],
   "source": [
    "temp"
   ]
  },
  {
   "cell_type": "code",
   "execution_count": 31,
   "metadata": {},
   "outputs": [],
   "source": [
    "i = -1"
   ]
  },
  {
   "cell_type": "code",
   "execution_count": 44,
   "metadata": {},
   "outputs": [
    {
     "name": "stdout",
     "output_type": "stream",
     "text": [
      "reactants    COc1cccc(C2=NCCC2)c1\n",
      "products      COc1cccc(C2CCCN2)c1\n",
      "rsig                          NaN\n",
      "psig                          NaN\n",
      "rcen                           []\n",
      "pcen                           []\n",
      "Name: 1048, dtype: object\n",
      "Reactant\n"
     ]
    },
    {
     "data": {
      "image/png": "[encoded data removed]",
      "text/plain": [
       "<rdkit.Chem.rdchem.Mol at 0x7fb5161a8f80>"
      ]
     },
     "metadata": {},
     "output_type": "display_data"
    },
    {
     "name": "stdout",
     "output_type": "stream",
     "text": [
      "Product\n"
     ]
    },
    {
     "data": {
      "image/png": "[encoded data removed]",
      "text/plain": [
       "<rdkit.Chem.rdchem.Mol at 0x7fb5161a33f0>"
      ]
     },
     "metadata": {},
     "output_type": "display_data"
    },
    {
     "name": "stdout",
     "output_type": "stream",
     "text": [
      "Reactant subgroup\n"
     ]
    },
    {
     "ename": "TypeError",
     "evalue": "No registered converter was able to produce a C++ rvalue of type std::basic_string<wchar_t, std::char_traits<wchar_t>, std::allocator<wchar_t> > from this Python object of type float",
     "output_type": "error",
     "traceback": [
      "\u001b[0;31m---------------------------------------------------------------------------\u001b[0m",
      "\u001b[0;31mTypeError\u001b[0m                                 Traceback (most recent call last)",
      "\u001b[0;32m/tmp/ipykernel_5154/2266133773.py\u001b[0m in \u001b[0;36m<module>\u001b[0;34m\u001b[0m\n\u001b[1;32m      6\u001b[0m \u001b[0mdisplay\u001b[0m\u001b[0;34m(\u001b[0m\u001b[0mChem\u001b[0m\u001b[0;34m.\u001b[0m\u001b[0mMolFromSmiles\u001b[0m\u001b[0;34m(\u001b[0m\u001b[0mtemp\u001b[0m\u001b[0;34m.\u001b[0m\u001b[0miloc\u001b[0m\u001b[0;34m[\u001b[0m\u001b[0mi\u001b[0m\u001b[0;34m]\u001b[0m\u001b[0;34m[\u001b[0m\u001b[0;34m\"products\"\u001b[0m\u001b[0;34m]\u001b[0m\u001b[0;34m)\u001b[0m\u001b[0;34m)\u001b[0m\u001b[0;34m\u001b[0m\u001b[0;34m\u001b[0m\u001b[0m\n\u001b[1;32m      7\u001b[0m \u001b[0mprint\u001b[0m\u001b[0;34m(\u001b[0m\u001b[0;34m\"Reactant subgroup\"\u001b[0m\u001b[0;34m)\u001b[0m\u001b[0;34m\u001b[0m\u001b[0;34m\u001b[0m\u001b[0m\n\u001b[0;32m----> 8\u001b[0;31m \u001b[0mdisplay\u001b[0m\u001b[0;34m(\u001b[0m\u001b[0mChem\u001b[0m\u001b[0;34m.\u001b[0m\u001b[0mMolFromSmiles\u001b[0m\u001b[0;34m(\u001b[0m\u001b[0mtemp\u001b[0m\u001b[0;34m.\u001b[0m\u001b[0miloc\u001b[0m\u001b[0;34m[\u001b[0m\u001b[0mi\u001b[0m\u001b[0;34m]\u001b[0m\u001b[0;34m[\u001b[0m\u001b[0;34m\"rsig\"\u001b[0m\u001b[0;34m]\u001b[0m\u001b[0;34m)\u001b[0m\u001b[0;34m)\u001b[0m\u001b[0;34m\u001b[0m\u001b[0;34m\u001b[0m\u001b[0m\n\u001b[0m\u001b[1;32m      9\u001b[0m \u001b[0mprint\u001b[0m\u001b[0;34m(\u001b[0m\u001b[0;34m\"Product subgroup\"\u001b[0m\u001b[0;34m)\u001b[0m\u001b[0;34m\u001b[0m\u001b[0;34m\u001b[0m\u001b[0m\n\u001b[1;32m     10\u001b[0m \u001b[0mdisplay\u001b[0m\u001b[0;34m(\u001b[0m\u001b[0mChem\u001b[0m\u001b[0;34m.\u001b[0m\u001b[0mMolFromSmiles\u001b[0m\u001b[0;34m(\u001b[0m\u001b[0mtemp\u001b[0m\u001b[0;34m.\u001b[0m\u001b[0miloc\u001b[0m\u001b[0;34m[\u001b[0m\u001b[0mi\u001b[0m\u001b[0;34m]\u001b[0m\u001b[0;34m[\u001b[0m\u001b[0;34m\"psig\"\u001b[0m\u001b[0;34m]\u001b[0m\u001b[0;34m)\u001b[0m\u001b[0;34m)\u001b[0m\u001b[0;34m\u001b[0m\u001b[0;34m\u001b[0m\u001b[0m\n",
      "\u001b[0;31mTypeError\u001b[0m: No registered converter was able to produce a C++ rvalue of type std::basic_string<wchar_t, std::char_traits<wchar_t>, std::allocator<wchar_t> > from this Python object of type float"
     ]
    }
   ],
   "source": [
    "i+=1\n",
    "print(temp.iloc[i])\n",
    "print(\"Reactant\")\n",
    "display(Chem.MolFromSmiles(temp.iloc[i][\"reactants\"]))\n",
    "print(\"Product\")\n",
    "display(Chem.MolFromSmiles(temp.iloc[i][\"products\"]))\n",
    "print(\"Reactant subgroup\")\n",
    "display(Chem.MolFromSmiles(temp.iloc[i][\"rsig\"]))\n",
    "print(\"Product subgroup\")\n",
    "display(Chem.MolFromSmiles(temp.iloc[i][\"psig\"]))"
   ]
  },
  {
   "cell_type": "code",
   "execution_count": 368,
   "metadata": {},
   "outputs": [],
   "source": [
    "x = Chem.MolFromSmiles(temp.iloc[i][\"psig\"])"
   ]
  },
  {
   "cell_type": "code",
   "execution_count": 377,
   "metadata": {},
   "outputs": [
    {
     "name": "stdout",
     "output_type": "stream",
     "text": [
      "None\n"
     ]
    }
   ],
   "source": [
    "print(x)"
   ]
  }
 ],
 "metadata": {
  "kernelspec": {
   "display_name": "Python 3 (ipykernel)",
   "language": "python",
   "name": "python3"
  },
  "language_info": {
   "codemirror_mode": {
    "name": "ipython",
    "version": 3
   },
   "file_extension": ".py",
   "mimetype": "text/x-python",
   "name": "python",
   "nbconvert_exporter": "python",
   "pygments_lexer": "ipython3",
   "version": "3.7.13"
  }
 },
 "nbformat": 4,
 "nbformat_minor": 2
}
