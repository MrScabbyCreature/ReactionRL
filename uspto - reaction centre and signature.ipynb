{
 "cells": [
  {
   "cell_type": "code",
   "execution_count": 1,
   "metadata": {},
   "outputs": [],
   "source": [
    "from rdkit import Chem\n",
    "import pickle\n",
    "import numpy as np\n",
    "import pandas as pd\n",
    "from IPython.display import display\n",
    "from copy import deepcopy"
   ]
  },
  {
   "cell_type": "markdown",
   "metadata": {},
   "source": [
    "# Load processed data"
   ]
  },
  {
   "cell_type": "code",
   "execution_count": 2,
   "metadata": {},
   "outputs": [],
   "source": [
    "dataset = pd.read_csv(\"/home/abhor/Desktop/datasets/my_uspto/processed_data.csv\", index_col=0)"
   ]
  },
  {
   "cell_type": "code",
   "execution_count": 3,
   "metadata": {
    "scrolled": false
   },
   "outputs": [
    {
     "data": {
      "text/html": [
       "<div>\n",
       "<style scoped>\n",
       "    .dataframe tbody tr th:only-of-type {\n",
       "        vertical-align: middle;\n",
       "    }\n",
       "\n",
       "    .dataframe tbody tr th {\n",
       "        vertical-align: top;\n",
       "    }\n",
       "\n",
       "    .dataframe thead th {\n",
       "        text-align: right;\n",
       "    }\n",
       "</style>\n",
       "<table border=\"1\" class=\"dataframe\">\n",
       "  <thead>\n",
       "    <tr style=\"text-align: right;\">\n",
       "      <th></th>\n",
       "      <th>reactants</th>\n",
       "      <th>reagents</th>\n",
       "      <th>products</th>\n",
       "    </tr>\n",
       "  </thead>\n",
       "  <tbody>\n",
       "    <tr>\n",
       "      <th>0</th>\n",
       "      <td>CON(C)C(=O)c1ccc(O)nc1</td>\n",
       "      <td>C1CCOC1.[Cl-]</td>\n",
       "      <td>CC(C)CC(=O)c1ccc(O)nc1</td>\n",
       "    </tr>\n",
       "    <tr>\n",
       "      <th>1</th>\n",
       "      <td>O=C(O)c1ccc(Cl)c([N+](=O)[O-])c1</td>\n",
       "      <td>O</td>\n",
       "      <td>CNc1ccc(C(=O)O)cc1[N+](=O)[O-]</td>\n",
       "    </tr>\n",
       "    <tr>\n",
       "      <th>2</th>\n",
       "      <td>CCn1cc(C(=O)O)c(=O)c2cc(F)c(-c3ccc(N)cc3)cc21</td>\n",
       "      <td>NaN</td>\n",
       "      <td>CCn1cc(C(=O)O)c(=O)c2cc(F)c(-c3ccc(NC=O)cc3)cc21</td>\n",
       "    </tr>\n",
       "    <tr>\n",
       "      <th>3</th>\n",
       "      <td>COCC(C)Oc1cc(Oc2cnc(C(=O)N3CCC3)cn2)cc(C(=O)O)c1</td>\n",
       "      <td>CC(C)=C(Cl)N(C)C.ClCCl.c1ccncc1</td>\n",
       "      <td>COCC(C)Oc1cc(Oc2cnc(C(=O)N3CCC3)cn2)cc(C(=O)Nc...</td>\n",
       "    </tr>\n",
       "    <tr>\n",
       "      <th>4</th>\n",
       "      <td>Clc1cc2c(Cl)nc(-c3ccncc3)nc2s1</td>\n",
       "      <td>NaN</td>\n",
       "      <td>Clc1cc2c(NCc3ccc(Cl)c(Cl)c3)nc(-c3ccncc3)nc2s1</td>\n",
       "    </tr>\n",
       "    <tr>\n",
       "      <th>...</th>\n",
       "      <td>...</td>\n",
       "      <td>...</td>\n",
       "      <td>...</td>\n",
       "    </tr>\n",
       "    <tr>\n",
       "      <th>448504</th>\n",
       "      <td>CCP(CC)CC</td>\n",
       "      <td>NaN</td>\n",
       "      <td>CCCCOS(=O)(=O)[O-]</td>\n",
       "    </tr>\n",
       "    <tr>\n",
       "      <th>448505</th>\n",
       "      <td>CCCCOS(=O)(=O)OCCCC</td>\n",
       "      <td>NaN</td>\n",
       "      <td>CCCC[P+](CC)(CC)CC</td>\n",
       "    </tr>\n",
       "    <tr>\n",
       "      <th>448506</th>\n",
       "      <td>Cc1cccc(C)c1N=C1NCCN1OCc1ccccn1</td>\n",
       "      <td>CC#N.Cl</td>\n",
       "      <td>Cc1cccc(C)c1N=C1NCCN1O</td>\n",
       "    </tr>\n",
       "    <tr>\n",
       "      <th>448507</th>\n",
       "      <td>Clc1ccnc(Cl)c1</td>\n",
       "      <td>ClCCl</td>\n",
       "      <td>N[n+]1ccc(Cl)cc1Cl</td>\n",
       "    </tr>\n",
       "    <tr>\n",
       "      <th>448508</th>\n",
       "      <td>O=C(c1ccc(Cl)cc1)c1cc2ccccc2cn1</td>\n",
       "      <td>ClCCl</td>\n",
       "      <td>N[n+]1cc2ccccc2cc1C(=O)c1ccc(Cl)cc1</td>\n",
       "    </tr>\n",
       "  </tbody>\n",
       "</table>\n",
       "<p>448313 rows × 3 columns</p>\n",
       "</div>"
      ],
      "text/plain": [
       "                                               reactants  \\\n",
       "0                                 CON(C)C(=O)c1ccc(O)nc1   \n",
       "1                       O=C(O)c1ccc(Cl)c([N+](=O)[O-])c1   \n",
       "2          CCn1cc(C(=O)O)c(=O)c2cc(F)c(-c3ccc(N)cc3)cc21   \n",
       "3       COCC(C)Oc1cc(Oc2cnc(C(=O)N3CCC3)cn2)cc(C(=O)O)c1   \n",
       "4                         Clc1cc2c(Cl)nc(-c3ccncc3)nc2s1   \n",
       "...                                                  ...   \n",
       "448504                                         CCP(CC)CC   \n",
       "448505                               CCCCOS(=O)(=O)OCCCC   \n",
       "448506                   Cc1cccc(C)c1N=C1NCCN1OCc1ccccn1   \n",
       "448507                                    Clc1ccnc(Cl)c1   \n",
       "448508                   O=C(c1ccc(Cl)cc1)c1cc2ccccc2cn1   \n",
       "\n",
       "                               reagents  \\\n",
       "0                         C1CCOC1.[Cl-]   \n",
       "1                                     O   \n",
       "2                                   NaN   \n",
       "3       CC(C)=C(Cl)N(C)C.ClCCl.c1ccncc1   \n",
       "4                                   NaN   \n",
       "...                                 ...   \n",
       "448504                              NaN   \n",
       "448505                              NaN   \n",
       "448506                          CC#N.Cl   \n",
       "448507                            ClCCl   \n",
       "448508                            ClCCl   \n",
       "\n",
       "                                                 products  \n",
       "0                                  CC(C)CC(=O)c1ccc(O)nc1  \n",
       "1                          CNc1ccc(C(=O)O)cc1[N+](=O)[O-]  \n",
       "2        CCn1cc(C(=O)O)c(=O)c2cc(F)c(-c3ccc(NC=O)cc3)cc21  \n",
       "3       COCC(C)Oc1cc(Oc2cnc(C(=O)N3CCC3)cn2)cc(C(=O)Nc...  \n",
       "4          Clc1cc2c(NCc3ccc(Cl)c(Cl)c3)nc(-c3ccncc3)nc2s1  \n",
       "...                                                   ...  \n",
       "448504                                 CCCCOS(=O)(=O)[O-]  \n",
       "448505                                 CCCC[P+](CC)(CC)CC  \n",
       "448506                             Cc1cccc(C)c1N=C1NCCN1O  \n",
       "448507                                 N[n+]1ccc(Cl)cc1Cl  \n",
       "448508                N[n+]1cc2ccccc2cc1C(=O)c1ccc(Cl)cc1  \n",
       "\n",
       "[448313 rows x 3 columns]"
      ]
     },
     "execution_count": 3,
     "metadata": {},
     "output_type": "execute_result"
    }
   ],
   "source": [
    "dataset"
   ]
  },
  {
   "cell_type": "markdown",
   "metadata": {},
   "source": [
    "# Reaction signature"
   ]
  },
  {
   "cell_type": "code",
   "execution_count": 4,
   "metadata": {},
   "outputs": [],
   "source": [
    "from rdkit import Chem\n",
    "from rdkit.Chem import Draw\n",
    "from rdkit.Chem.Draw import SimilarityMaps\n",
    "from rdkit import DataStructs\n",
    "from rdkit.Chem import rdFMCS\n",
    "from rdkit.Chem import AllChem\n",
    "from rdkit.Chem import rdchem"
   ]
  },
  {
   "cell_type": "code",
   "execution_count": 14,
   "metadata": {},
   "outputs": [],
   "source": [
    "mol1 = Chem.MolFromSmiles(dataset[\"reactants\"][0])\n",
    "mol2 = Chem.MolFromSmiles(dataset[\"products\"][0])"
   ]
  },
  {
   "cell_type": "code",
   "execution_count": 6,
   "metadata": {},
   "outputs": [],
   "source": [
    "def get_connecting_atoms(mol, subgraph):\n",
    "    '''\n",
    "    Finds pair of atoms that connect 'mol' to 'subgraph'\n",
    "    mol: Complete molecule\n",
    "    subgraph: Part of mol (reaction signatire)\n",
    "    \n",
    "    Returns:\n",
    "        [(A1, A2), (A1', A2'), ...]\n",
    "        Where each tuple is a connected pair of atom such that A1 \\in subgraph, A2 \\in (mol-subgraph)\n",
    "    '''\n",
    "    # get subgraph matches\n",
    "    matches = np.array(rdchem.Mol(mol).GetSubstructMatches(subgraph))\n",
    "    connections = []\n",
    "    for match in matches:\n",
    "        # atoms in connected subgraph\n",
    "        atoms = [mol.GetAtomWithIdx(int(match[i])) for i in range(len(match))]\n",
    "        for atom in atoms:\n",
    "            # for each atom in connected subgraph, get neighbors\n",
    "            neighbors = atom.GetNeighbors()\n",
    "            neighbor_idx = set([n.GetIdx() for n in neighbors])\n",
    "            # if there is a neighbor in (mol - subgraph), add connection to \n",
    "            if (neighbor_idx - set(match)):\n",
    "                if len(neighbor_idx - set(match)) == 1:\n",
    "                    connections.append((atom.GetIdx(), (neighbor_idx - set(match)).pop()))\n",
    "\n",
    "    # remove repetitions\n",
    "    connections = list(set(connections))\n",
    "    return connections\n",
    "\n",
    "def connect_substructures_if_applicable(mol, connections, add_prev_atom=True):\n",
    "    '''\n",
    "    If multiple connections have an atom in common, combine the substructures with the connection atom.\n",
    "    Also, if requested, add the connecting atom to the substructure to maintain uniformity.\n",
    "    mol: Molecule\n",
    "    connections: (same as return of get_connecting_atoms)\n",
    "    add_prev_atom: bool\n",
    "            Add one connecting atom to the substructure.\n",
    "    \n",
    "    Returns:\n",
    "        connections with substructures combined (same format as input connections)\n",
    "    '''\n",
    "    # combine if two connections have common atom in substructure\n",
    "    d = {conn[1]: [] for conn in connections}\n",
    "    for conn in connections:\n",
    "        d[conn[1]].append(conn)\n",
    "    connections = []\n",
    "    for key in d:\n",
    "        # combine\n",
    "        atom = mol.GetAtomWithIdx(key)\n",
    "        neighbors = atom.GetNeighbors()\n",
    "        # get neighbors not in previous connections\n",
    "        neighbor_idx = set([n.GetIdx() for n in neighbors]) - set([n[0] for n in d[key]])\n",
    "        if len(neighbor_idx) == 1 and add_prev_atom:\n",
    "            for idx in neighbor_idx:\n",
    "                connections.append((key, idx))\n",
    "        else:\n",
    "            # let it be\n",
    "            connections.extend(d[key])\n",
    "    return connections"
   ]
  },
  {
   "cell_type": "code",
   "execution_count": 7,
   "metadata": {},
   "outputs": [
    {
     "data": {
      "image/png": "[encoded data removed]",
      "text/plain": [
       "<rdkit.Chem.rdchem.Mol at 0x7f1e9cc3ee40>"
      ]
     },
     "execution_count": 7,
     "metadata": {},
     "output_type": "execute_result"
    }
   ],
   "source": [
    "# draw molecule with index\n",
    "def mol_with_atom_index( mol ):\n",
    "    mol = deepcopy(mol)\n",
    "    atoms = mol.GetNumAtoms()\n",
    "    for idx in range( atoms ):\n",
    "        mol.GetAtomWithIdx( idx ).SetProp( 'molAtomMapNumber', str( mol.GetAtomWithIdx( idx ).GetIdx() ) )\n",
    "    return mol\n",
    "mol_with_atom_index(mol1)"
   ]
  },
  {
   "cell_type": "code",
   "execution_count": 8,
   "metadata": {},
   "outputs": [
    {
     "name": "stdout",
     "output_type": "stream",
     "text": [
      "Common substructure\n"
     ]
    },
    {
     "data": {
      "image/png": "[encoded data removed]",
      "text/plain": [
       "<rdkit.Chem.rdchem.Mol at 0x7f1e94f07f30>"
      ]
     },
     "metadata": {},
     "output_type": "display_data"
    },
    {
     "name": "stdout",
     "output_type": "stream",
     "text": [
      "mol1 - common\n"
     ]
    },
    {
     "data": {
      "image/png": "[encoded data removed]",
      "text/plain": [
       "<rdkit.Chem.rdchem.Mol at 0x7f1e94f08d00>"
      ]
     },
     "metadata": {},
     "output_type": "display_data"
    },
    {
     "name": "stdout",
     "output_type": "stream",
     "text": [
      "mol2 - common\n"
     ]
    },
    {
     "data": {
      "image/png": "[encoded data removed]",
      "text/plain": [
       "<rdkit.Chem.rdchem.Mol at 0x7f1e94f08c60>"
      ]
     },
     "metadata": {},
     "output_type": "display_data"
    },
    {
     "data": {
      "text/plain": [
       "(<rdkit.Chem.rdchem.Mol at 0x7f1e94f07f30>,\n",
       " <rdkit.Chem.rdchem.Mol at 0x7f1e94f08d00>,\n",
       " <rdkit.Chem.rdchem.Mol at 0x7f1e94f08c60>)"
      ]
     },
     "execution_count": 8,
     "metadata": {},
     "output_type": "execute_result"
    }
   ],
   "source": [
    "def get_substructures(mol1, mol2, disp=False):\n",
    "    '''\n",
    "    Takes 2 molecules. \n",
    "    Returns (common_substructure, reac_sig1, reac_sig2)\n",
    "    '''\n",
    "    # find common substruction (to later substract)\n",
    "    res=rdFMCS.FindMCS([mol1, mol2])\n",
    "    common_substructure = Chem.MolFromSmarts(res.smartsString)\n",
    "    if disp: \n",
    "        print(\"Common substructure\")\n",
    "        display(common_substructure)\n",
    "\n",
    "    # reaction signature in mol 1\n",
    "    mol1_diff = AllChem.DeleteSubstructs(mol1, common_substructure)\n",
    "    if disp: \n",
    "        print(\"mol1 - common\")\n",
    "        display(mol1_diff)\n",
    "\n",
    "    # reaction signature in mol 2\n",
    "    mol2_diff = AllChem.DeleteSubstructs(mol2, common_substructure)\n",
    "    if disp: \n",
    "        print(\"mol2 - common\")\n",
    "        display(mol2_diff)\n",
    "    \n",
    "    return common_substructure, mol1_diff, mol2_diff\n",
    "    \n",
    "get_substructures(mol1, mol2, disp=True)"
   ]
  },
  {
   "cell_type": "code",
   "execution_count": 9,
   "metadata": {},
   "outputs": [],
   "source": [
    "def disconnect_and_get_signature(mol, connections, subgraphs):\n",
    "    '''\n",
    "    Disconnects the bonds in \"connections\" from \"mol\" \n",
    "    and returns (a list of) the disconnected part that contains all the \"subgraphs\"\n",
    "    '''\n",
    "    # convert single mol of disconnected subgraphs to a list of connected subgraphs\n",
    "    if Chem.MolToSmiles(subgraphs) == '':\n",
    "        return []\n",
    "    subgraphs = [Chem.MolFromSmiles(s) for s in Chem.MolToSmiles(subgraphs).split(\".\")]\n",
    "    \n",
    "    mol = rdchem.EditableMol(mol)\n",
    "    # disconnect\n",
    "    for conn in connections:\n",
    "        mol.RemoveBond(conn[0], conn[1])\n",
    "    mol = mol.GetMol()\n",
    "    \n",
    "    # extract the part that has \"subgraphs\"\n",
    "    smile_list = Chem.MolToSmiles(mol).split(\".\")\n",
    "    # sorting acc to size for better chances less chances of problems\n",
    "    smile_list = [s for _, s in sorted(zip(list(map(len, smile_list)), smile_list))]\n",
    "    signature = ''\n",
    "    for smile in smile_list:\n",
    "        temp_mol = Chem.MolFromSmiles(smile)\n",
    "        # case 0: No additional subgraph\n",
    "        assert len(smile_list) > 1, \"Found no subgraphs in molecule\"\n",
    "\n",
    "        # case 1: There's only 1 additional subgraph\n",
    "        if len(smile_list) == 2:\n",
    "            if all([temp_mol.HasSubstructMatch(sub) for sub in subgraphs]):\n",
    "                return [temp_mol]\n",
    "            \n",
    "        # case 2: There is more than 1 additional subgraph\n",
    "        else:\n",
    "            # try to find the subgraph that doesn't contain any \"subgraphs\" and return the others\n",
    "            if not any(([temp_mol.HasSubstructMatch(sub) for sub in subgraphs])):\n",
    "                return [Chem.MolFromSmiles(s) for s in list(filter(lambda x: x!=smile), smile_list)]\n",
    "            \n",
    "    # return the subgraphs with the smallest number of nodes (expectation: subgraphs are smaller than core)\n",
    "    smile_list = smile_list.pop(np.argmax(list(map(len, smile_list))))\n",
    "    return [Chem.MolFromSmiles(s) for s in smile_list]"
   ]
  },
  {
   "cell_type": "code",
   "execution_count": 10,
   "metadata": {},
   "outputs": [],
   "source": [
    "def get_reaction_signatures(i, disp=False):\n",
    "    mol1 = Chem.MolFromSmiles(dataset[\"reactants\"][i])\n",
    "    mol2 = Chem.MolFromSmiles(dataset[\"products\"][i])\n",
    "\n",
    "    # display raw mols\n",
    "    if disp:\n",
    "        print(\"Mol1\")\n",
    "        display(mol1)\n",
    "\n",
    "        print(\"Mol2\")\n",
    "        display(mol2)\n",
    "\n",
    "    # get initial (unprocessed) reaction signatures\n",
    "    common_substructure, mol1_diff, mol2_diff = get_substructures(mol1, mol2, disp=disp)\n",
    "    print(Chem.MolToSmiles(mol1_diff))\n",
    "    print(Chem.MolToSmiles(mol2_diff))\n",
    "\n",
    "    if disp:\n",
    "        print(\"-\"*100)\n",
    "\n",
    "    # display with indices\n",
    "    if disp: \n",
    "        print(\"With indices - mol1, mol2 and common\")\n",
    "        display(mol_with_atom_index(mol1))\n",
    "        display(mol_with_atom_index(mol2))\n",
    "        display(mol_with_atom_index(common_substructure))\n",
    "\n",
    "    if disp:\n",
    "        print(\"-\"*100)\n",
    "\n",
    "    # mapping of molecule idx to common_substructure idx\n",
    "    mol1_to_com_map = np.array(rdchem.Mol(mol1).GetSubstructMatch(common_substructure))\n",
    "    mol2_to_com_map = np.array(rdchem.Mol(mol2).GetSubstructMatch(common_substructure))\n",
    "\n",
    "    def comm_idx1(idx):\n",
    "        '''\n",
    "        return the atom idx in comm_sub corresponding to 'idx' in mol1\n",
    "        '''\n",
    "        arr = abs(np.array(mol1_to_com_map) - idx)\n",
    "        if 0 not in arr:\n",
    "            return -1\n",
    "        return arr.argmin()\n",
    "\n",
    "    def comm_idx2(idx):\n",
    "        '''\n",
    "        return the atom idx in comm_sub corresponding to 'idx' in mol2\n",
    "        '''\n",
    "        arr = abs(np.array(mol2_to_com_map) - idx)\n",
    "        if 0 not in arr:\n",
    "            return -1\n",
    "        return arr.argmin()\n",
    "\n",
    "\n",
    "    com_to_mol1_map = list(map(comm_idx1, mol1_to_com_map))\n",
    "    com_to_mol2_map = list(map(comm_idx2, mol2_to_com_map))\n",
    "\n",
    "    if disp:\n",
    "        print(\"mol1_to_com_map\", mol1_to_com_map)\n",
    "        print(\"mol2_to_com_map\", mol2_to_com_map)\n",
    "        print(\"com_to_mol1_map\", com_to_mol1_map)\n",
    "        print(\"com_to_mol2_map\", com_to_mol2_map)\n",
    "\n",
    "    # get connection points\n",
    "    con1 = get_connecting_atoms(mol1, mol1_diff)\n",
    "    con2 = get_connecting_atoms(mol2, mol2_diff)\n",
    "\n",
    "    con1 = list(filter(lambda x: (comm_idx1(x[1]) in com_to_mol1_map) and \\\n",
    "                                   (comm_idx1(x[0]) not in com_to_mol1_map), con1))\n",
    "    con2 = list(filter(lambda x: (comm_idx2(x[1]) in com_to_mol2_map) and \\\n",
    "                                   (comm_idx2(x[0]) not in com_to_mol2_map), con2))\n",
    "    \n",
    "    con1, con2 = connect_substructures_if_applicable(mol1, con1, not (Chem.MolToSmiles(mol2_diff) == '')), \\\n",
    "                connect_substructures_if_applicable(mol2, con2, not (Chem.MolToSmiles(mol1_diff) == ''))\n",
    "    \n",
    "    if disp:\n",
    "        print(\"Con1\", con1)\n",
    "        print(\"Con2\", con2)\n",
    "        if con1 and con2:\n",
    "            print(\"Common idx for connection:\", comm_idx1(con1[0][1]), comm_idx2(con2[0][1]))\n",
    "\n",
    "    # verification\n",
    "    assert (len(con1) <= 1 and len(con2) <= 1) or (len(con1) == len(con2)), f\"{len(con1)} vs {len(con2)}\"\n",
    "    \n",
    "    # get final reaction signatures\n",
    "    sig1 = disconnect_and_get_signature(mol1, con1, mol1_diff)\n",
    "    sig2 = disconnect_and_get_signature(mol2, con2, mol2_diff)\n",
    "    \n",
    "    return mol1, mol2, sig1, sig2"
   ]
  },
  {
   "cell_type": "code",
   "execution_count": 44,
   "metadata": {},
   "outputs": [],
   "source": [
    "from rdkit.Chem.Draw import rdMolDraw2D\n",
    "\n",
    "def draw_mol_with_highlight(mol, hit_ats):\n",
    "    '''\n",
    "    Highlight the atoms in mol that have index in 'hit_ats'\n",
    "    '''\n",
    "    hit_ats = list(set(hit_ats))\n",
    "    print(hit_ats)\n",
    "#     # this is the code given in rdkit docs but doesn't actually work\n",
    "#     d = rdMolDraw2D.MolDraw2DSVG(500, 500) # or MolDraw2DCairo to get PNGs\n",
    "#     rdMolDraw2D.PrepareAndDrawMolecule(d, mol, highlightAtoms=hit_ats,)\n",
    "    mol1.__sssAtoms = hit_ats # workaround for now. Might not work in a later version of rdkit\n",
    "    display(mol_with_atom_index(mol))\n",
    "\n",
    "def highlight_signatures(mol1, mol2, sig1, sig2):\n",
    "    # get common substructure and mapping of atom indices\n",
    "    common_substructure, _, __ = get_substructures(mol1, mol2, disp=False)\n",
    "    mol1_to_com_map = np.array(rdchem.Mol(mol1).GetSubstructMatch(common_substructure))\n",
    "    mol2_to_com_map = np.array(rdchem.Mol(mol2).GetSubstructMatch(common_substructure))\n",
    "    \n",
    "    hit_ats1 = []\n",
    "    hit_ats2 = []\n",
    "\n",
    "    # get atoms to highlight for mol1\n",
    "    for sig in sig1:\n",
    "        matches = rdchem.Mol(mol1).GetSubstructMatches(sig)\n",
    "        filterer = list(map(lambda x: list(set(x) - set(mol1_to_com_map)), matches))\n",
    "        for i in range(len(matches)):\n",
    "            if filterer[i] != []:\n",
    "                hit_ats1.extend(matches[i])\n",
    "        \n",
    "    # get atoms to highlight for mol2\n",
    "    for sig in sig2:\n",
    "        matches = rdchem.Mol(mol2).GetSubstructMatches(sig)\n",
    "        filterer = list(map(lambda x: list(set(x) - set(mol2_to_com_map)), matches))\n",
    "        for i in range(len(matches)):\n",
    "            if filterer[i] != []:\n",
    "                hit_ats2.extend(matches[i])\n",
    "    draw_mol_with_highlight(mol1, hit_ats1)\n",
    "    draw_mol_with_highlight(mol2, hit_ats2)"
   ]
  },
  {
   "cell_type": "code",
   "execution_count": 43,
   "metadata": {
    "scrolled": false
   },
   "outputs": [
    {
     "name": "stdout",
     "output_type": "stream",
     "text": [
      "CNOC\n",
      "CC(C)C\n",
      "----------------------------------------------------------------------------------------------------\n",
      "----------------------------------------------------------------------------------------------------\n",
      "[0, 1, 2, 3, 4]\n"
     ]
    },
    {
     "data": {
      "image/png": "[encoded data removed]",
      "text/plain": [
       "<rdkit.Chem.rdchem.Mol at 0x7f1e92cb03a0>"
      ]
     },
     "metadata": {},
     "output_type": "display_data"
    },
    {
     "name": "stdout",
     "output_type": "stream",
     "text": [
      "NOTE: The highlight may not be accurate. As long as the subgroup is fine, just roll with it.\n",
      "[0, 1, 2, 3]\n"
     ]
    },
    {
     "data": {
      "image/png": "[encoded data removed]",
      "text/plain": [
       "<rdkit.Chem.rdchem.Mol at 0x7f1e92cb03a0>"
      ]
     },
     "metadata": {},
     "output_type": "display_data"
    },
    {
     "name": "stdout",
     "output_type": "stream",
     "text": [
      "NOTE: The highlight may not be accurate. As long as the subgroup is fine, just roll with it.\n"
     ]
    }
   ],
   "source": [
    "i = 0\n",
    "mol1, mol2, sig1, sig2 = get_reaction_signatures(i, False)\n",
    "\n",
    "print(\"-\"*100)\n",
    "print(\"-\"*100)\n",
    "highlight_signatures(mol1, mol2, sig1, sig2)"
   ]
  },
  {
   "cell_type": "markdown",
   "metadata": {
    "scrolled": true
   },
   "source": [
    "import time\n",
    "for i in range(0, 1000):\n",
    "    if i not in special_cases:\n",
    "        try:\n",
    "            t = time.time()\n",
    "            get_reaction_signatures(i)\n",
    "            print(i, time.time() - t)\n",
    "        except Exception as e:\n",
    "            try:\n",
    "                print(i)\n",
    "                get_reaction_signatures(i, disp=True)\n",
    "                print(\"\\n\\n\")\n",
    "            except Exception as e:\n",
    "                print(e)"
   ]
  },
  {
   "cell_type": "markdown",
   "metadata": {},
   "source": [
    "special_cases = [42, 64, 74, 113, 170, 193, 225, 487]\n",
    "special_cases = [487]"
   ]
  }
 ],
 "metadata": {
  "kernelspec": {
   "display_name": "Python 3 (ipykernel)",
   "language": "python",
   "name": "python3"
  },
  "language_info": {
   "codemirror_mode": {
    "name": "ipython",
    "version": 3
   },
   "file_extension": ".py",
   "mimetype": "text/x-python",
   "name": "python",
   "nbconvert_exporter": "python",
   "pygments_lexer": "ipython3",
   "version": "3.7.13"
  }
 },
 "nbformat": 4,
 "nbformat_minor": 2
}
