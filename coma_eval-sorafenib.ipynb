{
 "cells": [
  {
   "cell_type": "code",
   "execution_count": 37,
   "id": "35a24a10",
   "metadata": {},
   "outputs": [],
   "source": [
    "import pickle\n",
    "import glob, os\n",
    "import numpy as np\n",
    "from rewards.properties import qed as mol_qed, drd2 as mol_drd2, logP as mol_logP\n",
    "from coma.properties import penalized_logp\n",
    "from rdkit import Chem\n",
    "import tqdm\n",
    "import networkx as nx\n",
    "from rdkit.Chem import Descriptors\n",
    "from rdkit.Chem.AllChem import GetMorganFingerprintAsBitVect\n",
    "\n",
    "def qed(smile):\n",
    "    return mol_qed(Chem.MolFromSmiles(smile))\n",
    "\n",
    "def drd2(smile):\n",
    "    return mol_drd2(Chem.MolFromSmiles(smile))\n",
    "\n",
    "def logP(smile):\n",
    "    return mol_logP(Chem.MolFromSmiles(smile))\n",
    "\n",
    "mfs = Chem.MolFromSmiles"
   ]
  },
  {
   "cell_type": "code",
   "execution_count": 38,
   "id": "9606d79a",
   "metadata": {},
   "outputs": [],
   "source": [
    "x = pickle.load(open(\"results/eval_on_coma_sorafenib/0.pickle\", 'rb'))"
   ]
  },
  {
   "cell_type": "code",
   "execution_count": 39,
   "id": "1ff224db",
   "metadata": {},
   "outputs": [],
   "source": [
    "target = \"CNC(=O)C1=NC=CC(=C1)OC2=CC=C(C=C2)NC(=O)NC3=CC(=C(C=C3)Cl)C(F)(F)F\""
   ]
  },
  {
   "cell_type": "code",
   "execution_count": 40,
   "id": "8fac01a5",
   "metadata": {},
   "outputs": [],
   "source": [
    "all_keys = np.array(list(x[\"sim\"].keys()))\n",
    "sim = np.vectorize(x[\"sim\"].get)(all_keys)"
   ]
  },
  {
   "cell_type": "code",
   "execution_count": 60,
   "id": "44020e52",
   "metadata": {},
   "outputs": [
    {
     "data": {
      "text/plain": [
       "array(['1_4', '4_0', '4_1', ..., '49_2_3_2_1_2_2', '49_0_3_4_4_2_4',\n",
       "       '23_1_4_4_2_2_2'], dtype='<U14')"
      ]
     },
     "execution_count": 60,
     "metadata": {},
     "output_type": "execute_result"
    }
   ],
   "source": [
    "all_keys[(sim>0.4)]"
   ]
  },
  {
   "cell_type": "code",
   "execution_count": 61,
   "id": "6b881fab",
   "metadata": {},
   "outputs": [
    {
     "data": {
      "image/png": "[encoded data removed]",
      "text/plain": [
       "<rdkit.Chem.rdchem.Mol at 0x7f2b0ebe5120>"
      ]
     },
     "execution_count": 61,
     "metadata": {},
     "output_type": "execute_result"
    }
   ],
   "source": [
    "mfs(target)"
   ]
  },
  {
   "cell_type": "code",
   "execution_count": 62,
   "id": "857a7c3a",
   "metadata": {},
   "outputs": [],
   "source": [
    "from IPython.display import display"
   ]
  },
  {
   "cell_type": "code",
   "execution_count": 64,
   "id": "ae8c7482",
   "metadata": {},
   "outputs": [
    {
     "data": {
      "text/plain": [
       "24290"
      ]
     },
     "execution_count": 64,
     "metadata": {},
     "output_type": "execute_result"
    }
   ],
   "source": [
    "smiles = np.vectorize(x[\"traj\"].get)(all_keys[sim > 0.4])\n",
    "len(smiles)"
   ]
  },
  {
   "cell_type": "code",
   "execution_count": 76,
   "id": "f03c5895-a0c2-4d15-b231-46bd52e5e0c4",
   "metadata": {},
   "outputs": [
    {
     "data": {
      "text/plain": [
       "(19101,)"
      ]
     },
     "execution_count": 76,
     "metadata": {},
     "output_type": "execute_result"
    }
   ],
   "source": [
    "smiles = np.unique(smiles)\n",
    "smiles.shape"
   ]
  },
  {
   "cell_type": "markdown",
   "id": "36911fa7-e49d-45f5-a74b-2d5519960922",
   "metadata": {},
   "source": [
    "# DEEPPURPOSE"
   ]
  },
  {
   "cell_type": "code",
   "execution_count": 77,
   "id": "702598e3-8bd7-404b-ac44-921b160f78c7",
   "metadata": {
    "scrolled": true
   },
   "outputs": [],
   "source": [
    "sorafenib = \"CNC(=O)C1=NC=CC(=C1)OC2=CC=C(C=C2)NC(=O)NC3=CC(=C(C=C3)Cl)C(F)(F)F\"\n",
    "\n",
    "sorafenib_target = '''MSSSNVEVFIPVSQGNTNGFPATASNDLKAFTEGAVLSFHNICYRVKLKSGFLPCRKPVEKEILSNINGI\n",
    "MKPGLNAILGPTGGGKSSLLDVLAARKDPSGLSGDVLINGAPRPANFKCNSGYVVQDDVVMGTLTVRENL\n",
    "QFSAALRLATTMTNHEKNERINRVIQELGLDKVADSKVGTQFIRGVSGGERKRTSIGMELITDPSILFLD\n",
    "EPTTGLDSSTANAVLLLLKRMSKQGRTIIFSIHQPRYSIFKLFDSLTLLASGRLMFHGPAQEALGYFESA\n",
    "GYHCEAYNNPADFFLDIINGDSTAVALNREEDFKATEIIEPSKQDKPLIEKLAEIYVNSSFYKETKAELH\n",
    "QLSGGEKKKKITVFKEISYTTSFCHQLRWVSKRSFKNLLGNPQASIAQIIVTVVLGLVIGAIYFGLKNDS\n",
    "TGIQNRAGVLFFLTTNQCFSSVSAVELFVVEKKLFIHEYISGYYRVSSYFLGKLLSDLLPMRMLPSIIFT\n",
    "CIVYFMLGLKPKADAFFVMMFTLMMVAYSASSMALAIAAGQSVVSVATLLMTICFVFMMVCWSISQPLHL\n",
    "GCHGFSTSAFHDMDLRLCSIMNFWDKTSAQDSMQQETILVTMQHVLAKNIW'''\n",
    "\n",
    "sorafenib_target = sorafenib_target.replace('\\n', '')"
   ]
  },
  {
   "cell_type": "code",
   "execution_count": 78,
   "id": "3525d2cd-01dd-4c63-b383-5e2d4ff1f180",
   "metadata": {},
   "outputs": [],
   "source": [
    "from DeepPurpose import DTI as models \n",
    "from DeepPurpose import utils, dataset"
   ]
  },
  {
   "cell_type": "code",
   "execution_count": 79,
   "id": "dde11fdc-b54a-498a-a1cb-b1316e7952a2",
   "metadata": {},
   "outputs": [],
   "source": [
    "# path = utils.download_pretrained_model('Morgan_AAC_DAVIS')\n",
    "net = models.model_pretrained(path_dir=\"save_folder/pretrained_models/DeepPurpose_BindingDB/model_MPNN_CNN/\")"
   ]
  },
  {
   "cell_type": "code",
   "execution_count": 80,
   "id": "e40bd4bf-cd14-4bbe-8249-e6036d0e2adf",
   "metadata": {},
   "outputs": [
    {
     "name": "stdout",
     "output_type": "stream",
     "text": [
      "virtual screening...\n",
      "Drug Target Interaction Prediction Mode...\n",
      "in total: 1 drug-target pairs\n",
      "encoding drug...\n",
      "unique drugs: 1\n",
      "encoding protein...\n",
      "unique target sequence: 1\n",
      "Done.\n",
      "predicting...\n",
      "---------------\n",
      "Virtual Screening Result\n",
      "+------+-----------+-------------+---------------+\n",
      "| Rank | Drug Name | Target Name | Binding Score |\n",
      "+------+-----------+-------------+---------------+\n",
      "|  1   |   Drug 0  |   Target 0  |      4.99     |\n",
      "+------+-----------+-------------+---------------+\n"
     ]
    },
    {
     "data": {
      "text/plain": [
       "[4.9932966232299805]"
      ]
     },
     "execution_count": 80,
     "metadata": {},
     "output_type": "execute_result"
    }
   ],
   "source": [
    "# FOR SORAFENIB\n",
    "\n",
    "models.virtual_screening(    \n",
    "    np.array([sorafenib]),\n",
    "    np.array([sorafenib_target]),\n",
    "    model=net,\n",
    "    convert_y=False,\n",
    ")"
   ]
  },
  {
   "cell_type": "code",
   "execution_count": 81,
   "id": "ad9dee18-e1a3-43d1-8e49-905b29035160",
   "metadata": {},
   "outputs": [
    {
     "name": "stdout",
     "output_type": "stream",
     "text": [
      "virtual screening...\n",
      "Drug Target Interaction Prediction Mode...\n",
      "in total: 19101 drug-target pairs\n",
      "encoding drug...\n",
      "unique drugs: 19101\n",
      "encoding protein...\n",
      "unique target sequence: 1\n",
      "Done.\n",
      "predicting...\n",
      "---------------\n",
      "Virtual Screening Result\n",
      "+-------+------------+--------------+---------------+\n",
      "|  Rank | Drug Name  | Target Name  | Binding Score |\n",
      "+-------+------------+--------------+---------------+\n",
      "|   1   |  Drug 722  |  Target 722  |     21.95     |\n",
      "|   2   | Drug 6565  | Target 6565  |     21.56     |\n",
      "|   3   | Drug 2824  | Target 2824  |     21.10     |\n",
      "|   4   | Drug 2274  | Target 2274  |     20.72     |\n",
      "|   5   | Drug 13500 | Target 13500 |     20.54     |\n",
      "|   6   | Drug 1117  | Target 1117  |     20.35     |\n",
      "|   7   | Drug 1126  | Target 1126  |     19.78     |\n",
      "|   8   | Drug 16585 | Target 16585 |     18.72     |\n",
      "|   9   | Drug 2794  | Target 2794  |     18.39     |\n",
      "|   10  | Drug 16409 | Target 16409 |     18.31     |\n",
      "checkout ./result/virtual_screening.txt for the whole list\n",
      "\n"
     ]
    }
   ],
   "source": [
    "# FOR OUR DRUGS\n",
    "\n",
    "results = models.virtual_screening(    \n",
    "    smiles,\n",
    "    np.array([sorafenib_target]*smiles.shape[0]), \n",
    "    model=net,\n",
    "    convert_y=False,\n",
    ")"
   ]
  },
  {
   "cell_type": "code",
   "execution_count": 85,
   "id": "bc5e89f9-f5d9-4770-8003-d605af7eabf8",
   "metadata": {},
   "outputs": [
    {
     "name": "stdout",
     "output_type": "stream",
     "text": [
      "Success ratio =  0.014958136148525664\n",
      "Success ratio =  0.43023925448929373\n"
     ]
    }
   ],
   "source": [
    "results = np.array(results)\n",
    "print(\"Success ratio = \", (results < 4.7).sum() / all_keys.shape[0])\n",
    "print(\"Success ratio = \", (results < 4.7).sum() / results.shape[0])"
   ]
  },
  {
   "cell_type": "code",
   "execution_count": 95,
   "id": "9b337941-cea1-4364-b6bc-617838fdc05a",
   "metadata": {},
   "outputs": [
    {
     "data": {
      "text/plain": [
       "549400"
      ]
     },
     "execution_count": 95,
     "metadata": {},
     "output_type": "execute_result"
    }
   ],
   "source": [
    "all_keys.shape[0]"
   ]
  },
  {
   "cell_type": "code",
   "execution_count": 88,
   "id": "be94b43b-e67f-442c-be0e-417e848f101b",
   "metadata": {},
   "outputs": [],
   "source": [
    "import seaborn as sns"
   ]
  },
  {
   "cell_type": "code",
   "execution_count": 94,
   "id": "782b8584-1018-4752-9636-5e52b4c05c32",
   "metadata": {},
   "outputs": [
    {
     "data": {
      "text/plain": [
       "<seaborn.axisgrid.FacetGrid at 0x7f2b05cbc580>"
      ]
     },
     "execution_count": 94,
     "metadata": {},
     "output_type": "execute_result"
    },
    {
     "data": {
      "image/png": "[encoded data removed]",
      "text/plain": [
       "<Figure size 500x500 with 1 Axes>"
      ]
     },
     "metadata": {},
     "output_type": "display_data"
    }
   ],
   "source": [
    "sns.displot(sim[sim>0.4], kde=True)"
   ]
  },
  {
   "cell_type": "code",
   "execution_count": 91,
   "id": "ddc8cb61-5f5a-4f21-9fb8-ddb507301ce1",
   "metadata": {},
   "outputs": [
    {
     "data": {
      "text/plain": [
       "<seaborn.axisgrid.FacetGrid at 0x7f2b0c105550>"
      ]
     },
     "execution_count": 91,
     "metadata": {},
     "output_type": "execute_result"
    },
    {
     "data": {
      "image/png": "[encoded data removed]",
      "text/plain": [
       "<Figure size 500x500 with 1 Axes>"
      ]
     },
     "metadata": {},
     "output_type": "display_data"
    }
   ],
   "source": [
    "sns.displot(results, kde=True)"
   ]
  }
 ],
 "metadata": {
  "kernelspec": {
   "display_name": "Python 3 (ipykernel)",
   "language": "python",
   "name": "python3"
  },
  "language_info": {
   "codemirror_mode": {
    "name": "ipython",
    "version": 3
   },
   "file_extension": ".py",
   "mimetype": "text/x-python",
   "name": "python",
   "nbconvert_exporter": "python",
   "pygments_lexer": "ipython3",
   "version": "3.7.13"
  }
 },
 "nbformat": 4,
 "nbformat_minor": 5
}
