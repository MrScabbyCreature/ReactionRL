{
 "cells": [
  {
   "cell_type": "code",
   "execution_count": 1,
   "id": "c1cfa57a",
   "metadata": {
    "tags": []
   },
   "outputs": [],
   "source": [
    "%run supervised_functions.ipynb"
   ]
  },
  {
   "cell_type": "markdown",
   "id": "43c50107",
   "metadata": {},
   "source": [
    "# Generate data"
   ]
  },
  {
   "cell_type": "code",
   "execution_count": 2,
   "id": "93d77759",
   "metadata": {},
   "outputs": [],
   "source": [
    "start_mols = pickle.load(open(\"datasets/my_uspto/unique_start_mols.pickle\", 'rb'))"
   ]
  },
  {
   "cell_type": "code",
   "execution_count": 3,
   "id": "660f7320",
   "metadata": {
    "scrolled": true,
    "tags": []
   },
   "outputs": [
    {
     "name": "stderr",
     "output_type": "stream",
     "text": [
      "108127it [01:58, 911.68it/s]                                                                         \n"
     ]
    },
    {
     "name": "stdout",
     "output_type": "stream",
     "text": [
      "(108127, 10)\n",
      "(108127, 10)\n"
     ]
    }
   ],
   "source": [
    "np.random.seed(42)\n",
    "\n",
    "N = 100000\n",
    "steps = 5\n",
    "\n",
    "df_list = []\n",
    "final_shape = 0\n",
    "smiles_per_random_sample = 1000\n",
    "pool_chunk_size = 10\n",
    "\n",
    "# Create dataset for multi-step pred\n",
    "with Pool(30) as p, tqdm.tqdm(total=N) as pbar:\n",
    "    while final_shape < N:\n",
    "        smiles = np.random.choice(start_mols, size=(smiles_per_random_sample,))\n",
    "\n",
    "        for new_df in p.imap_unordered(functools.partial(generate_train_data, steps=steps), smiles, chunksize=10):\n",
    "            df_list.append(new_df)\n",
    "            final_shape += new_df.shape[0]\n",
    "            \n",
    "        pbar.update(final_shape - pbar.n)\n",
    "\n",
    "main_df = pd.concat(df_list)\n",
    "del df_list\n",
    "print(main_df.shape)\n",
    "\n",
    "# randomize\n",
    "main_df = pd.concat([main_df[:int(main_df.shape[0]*0.8)].sample(frac=1), main_df[int(main_df.shape[0]*0.8):].sample(frac=1)])\n",
    "print(main_df.shape)"
   ]
  },
  {
   "cell_type": "markdown",
   "id": "56d58b5a",
   "metadata": {},
   "source": [
    "# Load/build stuff"
   ]
  },
  {
   "cell_type": "code",
   "execution_count": 4,
   "id": "3432cfc9",
   "metadata": {
    "tags": []
   },
   "outputs": [],
   "source": [
    "device = torch.device(\"cuda:3\" if torch.cuda.is_available() else \"cpu\")"
   ]
  },
  {
   "cell_type": "markdown",
   "id": "c12bdc5b",
   "metadata": {},
   "source": [
    "#### Action embedings"
   ]
  },
  {
   "cell_type": "code",
   "execution_count": 5,
   "id": "08df6531",
   "metadata": {},
   "outputs": [
    {
     "name": "stdout",
     "output_type": "stream",
     "text": [
      "(89384, 8)\n"
     ]
    },
    {
     "name": "stderr",
     "output_type": "stream",
     "text": [
      "/home/abhor/miniconda3/envs/de_novo/lib/python3.7/site-packages/torchdrug-0.2.0-py3.7.egg/torchdrug/data/feature.py:42: UserWarning: Unknown value `Li`\n",
      "  warnings.warn(\"Unknown value `%s`\" % x)\n",
      "/home/abhor/miniconda3/envs/de_novo/lib/python3.7/site-packages/torchdrug-0.2.0-py3.7.egg/torchdrug/data/feature.py:42: UserWarning: Unknown value `Ge`\n",
      "  warnings.warn(\"Unknown value `%s`\" % x)\n",
      "/home/abhor/miniconda3/envs/de_novo/lib/python3.7/site-packages/torchdrug-0.2.0-py3.7.egg/torchdrug/data/feature.py:42: UserWarning: Unknown value `K`\n",
      "  warnings.warn(\"Unknown value `%s`\" % x)\n",
      "/home/abhor/miniconda3/envs/de_novo/lib/python3.7/site-packages/torchdrug-0.2.0-py3.7.egg/torchdrug/data/feature.py:42: UserWarning: Unknown value `Na`\n",
      "  warnings.warn(\"Unknown value `%s`\" % x)\n",
      "/home/abhor/miniconda3/envs/de_novo/lib/python3.7/site-packages/torchdrug-0.2.0-py3.7.egg/torchdrug/data/feature.py:42: UserWarning: Unknown value `Ti`\n",
      "  warnings.warn(\"Unknown value `%s`\" % x)\n",
      "/home/abhor/miniconda3/envs/de_novo/lib/python3.7/site-packages/torchdrug-0.2.0-py3.7.egg/torchdrug/data/feature.py:42: UserWarning: Unknown value `Pb`\n",
      "  warnings.warn(\"Unknown value `%s`\" % x)\n",
      "/home/abhor/miniconda3/envs/de_novo/lib/python3.7/site-packages/torchdrug-0.2.0-py3.7.egg/torchdrug/data/feature.py:42: UserWarning: Unknown value `Al`\n",
      "  warnings.warn(\"Unknown value `%s`\" % x)\n",
      "/home/abhor/miniconda3/envs/de_novo/lib/python3.7/site-packages/torchdrug-0.2.0-py3.7.egg/torchdrug/data/feature.py:42: UserWarning: Unknown value `Ga`\n",
      "  warnings.warn(\"Unknown value `%s`\" % x)\n",
      "/home/abhor/miniconda3/envs/de_novo/lib/python3.7/site-packages/torchdrug-0.2.0-py3.7.egg/torchdrug/data/feature.py:42: UserWarning: Unknown value `Ru`\n",
      "  warnings.warn(\"Unknown value `%s`\" % x)\n",
      "/home/abhor/miniconda3/envs/de_novo/lib/python3.7/site-packages/torchdrug-0.2.0-py3.7.egg/torchdrug/data/feature.py:42: UserWarning: Unknown value `Ta`\n",
      "  warnings.warn(\"Unknown value `%s`\" % x)\n",
      "/home/abhor/miniconda3/envs/de_novo/lib/python3.7/site-packages/torchdrug-0.2.0-py3.7.egg/torchdrug/data/feature.py:42: UserWarning: Unknown value `As`\n",
      "  warnings.warn(\"Unknown value `%s`\" % x)\n",
      "/home/abhor/miniconda3/envs/de_novo/lib/python3.7/site-packages/torchdrug-0.2.0-py3.7.egg/torchdrug/data/feature.py:42: UserWarning: Unknown value `Cr`\n",
      "  warnings.warn(\"Unknown value `%s`\" % x)\n",
      "/home/abhor/miniconda3/envs/de_novo/lib/python3.7/site-packages/torchdrug-0.2.0-py3.7.egg/torchdrug/data/feature.py:42: UserWarning: Unknown value `Cd`\n",
      "  warnings.warn(\"Unknown value `%s`\" % x)\n",
      "/home/abhor/miniconda3/envs/de_novo/lib/python3.7/site-packages/torchdrug-0.2.0-py3.7.egg/torchdrug/data/feature.py:42: UserWarning: Unknown value `Pt`\n",
      "  warnings.warn(\"Unknown value `%s`\" % x)\n"
     ]
    }
   ],
   "source": [
    "action_dataset = pd.read_csv(\"datasets/my_uspto/action_dataset-filtered.csv\", index_col=0)\n",
    "action_dataset = action_dataset.loc[action_dataset[\"action_tested\"] & action_dataset[\"action_works\"]]\n",
    "action_dataset = action_dataset[[\"rsub\", \"rcen\", \"rsig\", \"rbond\", \"psub\", \"pcen\", \"psig\", \"pbond\"]]\n",
    "print(action_dataset.shape)\n",
    "\n",
    "action_rsigs = data.Molecule.pack(list(map(molecule_from_smile, action_dataset[\"rsig\"])))\n",
    "action_psigs = data.Molecule.pack(list(map(molecule_from_smile, action_dataset[\"psig\"])))"
   ]
  },
  {
   "cell_type": "markdown",
   "id": "bf704834",
   "metadata": {},
   "source": [
    "#### Indices (for faster access)"
   ]
  },
  {
   "cell_type": "code",
   "execution_count": 6,
   "id": "92e20cac",
   "metadata": {
    "scrolled": true
   },
   "outputs": [
    {
     "name": "stderr",
     "output_type": "stream",
     "text": [
      "100%|███████████████████████████████████████████████████████| 108127/108127 [04:59<00:00, 360.62it/s]\n"
     ]
    }
   ],
   "source": [
    "# I'm storing as lists, so doing numpy operations for the elements\n",
    "correct_applicable_indices = []\n",
    "correct_action_dataset_indices = []\n",
    "action_embedding_indices = []\n",
    "\n",
    "# for indices_used_for_data, correct_idx in tqdm.tqdm(map(get_emb_indices_and_correct_idx, main_df.iterrows()), total=main_df.shape[0]):\n",
    "with Pool(20) as p:\n",
    "    for indices_used_for_data, correct_app_idx, correct_act_idx in tqdm.tqdm(p.imap(get_emb_indices_and_correct_idx, main_df.iterrows(), chunksize=50), total=main_df.shape[0]):\n",
    "        action_embedding_indices.append(indices_used_for_data)\n",
    "        correct_applicable_indices.append(correct_app_idx)\n",
    "        correct_action_dataset_indices.append(correct_act_idx)"
   ]
  },
  {
   "cell_type": "markdown",
   "id": "a51c9bd9",
   "metadata": {},
   "source": [
    "# Training"
   ]
  },
  {
   "cell_type": "code",
   "execution_count": 7,
   "id": "ae378842",
   "metadata": {},
   "outputs": [],
   "source": [
    "train_idx = np.arange(0, int(main_df.shape[0]*0.8))\n",
    "test_idx = np.arange(int(main_df.shape[0]*0.8), main_df.shape[0])"
   ]
  },
  {
   "cell_type": "markdown",
   "id": "d0689a41",
   "metadata": {},
   "source": [
    "train_idx = torch.arange(0, int(main_df.shape[0]*0.8))[:500]\n",
    "test_idx = torch.arange(int(main_df.shape[0]*0.8), main_df.shape[0])[-200:]"
   ]
  },
  {
   "cell_type": "code",
   "execution_count": 8,
   "id": "277bdb89",
   "metadata": {},
   "outputs": [
    {
     "name": "stdout",
     "output_type": "stream",
     "text": [
      "86501 86501 86501 86501\n",
      "21626 21626 21626 21626\n",
      "CPU times: user 13min 4s, sys: 36.4 s, total: 13min 40s\n",
      "Wall time: 12min 57s\n"
     ]
    }
   ],
   "source": [
    "%%time\n",
    "%matplotlib inline\n",
    "train_reactants = data.Molecule.pack(list(map(molecule_from_smile, main_df.iloc[train_idx][\"reactant\"]))).to(device)\n",
    "train_products = data.Molecule.pack(list(map(molecule_from_smile, main_df.iloc[train_idx][\"product\"]))).to(device)\n",
    "train_rsigs = data.Molecule.pack(list(map(molecule_from_smile, main_df.iloc[train_idx][\"rsig\"]))).to(device)\n",
    "train_psigs = data.Molecule.pack(list(map(molecule_from_smile, main_df.iloc[train_idx][\"psig\"]))).to(device)\n",
    "\n",
    "test_reactants = data.Molecule.pack(list(map(molecule_from_smile, main_df.iloc[test_idx][\"reactant\"]))).to(device)\n",
    "test_products = data.Molecule.pack(list(map(molecule_from_smile, main_df.iloc[test_idx][\"product\"]))).to(device)\n",
    "test_rsigs = data.Molecule.pack(list(map(molecule_from_smile, main_df.iloc[test_idx][\"rsig\"]))).to(device)\n",
    "test_psigs = data.Molecule.pack(list(map(molecule_from_smile, main_df.iloc[test_idx][\"psig\"]))).to(device)\n",
    "\n",
    "print(train_reactants.batch_size, train_products.batch_size, train_rsigs.batch_size, train_psigs.batch_size)\n",
    "print(test_reactants.batch_size, test_products.batch_size, test_rsigs.batch_size, test_psigs.batch_size)"
   ]
  },
  {
   "cell_type": "code",
   "execution_count": 9,
   "id": "09c1078f",
   "metadata": {},
   "outputs": [
    {
     "name": "stderr",
     "output_type": "stream",
     "text": [
      "100%|████████████████████████████████████████████████████████████████| 44/44 [00:07<00:00,  5.84it/s]\n"
     ]
    },
    {
     "name": "stdout",
     "output_type": "stream",
     "text": [
      "Epoch 1/50. Batch 86272/86373. Actor loss = 11.221589 || critic loss = 0.033163\n",
      "\n",
      "##############################################################\n",
      "# emb_model_update = 1 | dist_metric = euclidean | topk = 10 #\n",
      "##############################################################\n",
      "╒════╤═════════╤═══════════╤═════════════════╤════════════════╤════════════════╤═════════════════╤════════════════╤════════════════╤═════════════════════════╕\n",
      "│    │    rmse │   cos_sim │   euc_rank_mean │   euc_rank_std │   euc_rank_tot │   cos_rank_mean │   cos_rank_std │   cos_rank_tot │ time(epoch_start-now)   │\n",
      "╞════╪═════════╪═══════════╪═════════════════╪════════════════╪════════════════╪═════════════════╪════════════════╪════════════════╪═════════════════════════╡\n",
      "│  1 │ 4.21483 │  0.799633 │         107.384 │         285.25 │        334.876 │         104.373 │        280.609 │        334.876 │ 11.80 min               │\n",
      "╘════╧═════════╧═══════════╧═════════════════╧════════════════╧════════════════╧═════════════════╧════════════════╧════════════════╧═════════════════════════╛\n",
      "\n"
     ]
    },
    {
     "name": "stderr",
     "output_type": "stream",
     "text": [
      "100%|████████████████████████████████████████████████████████████████| 44/44 [00:04<00:00,  9.05it/s]\n"
     ]
    },
    {
     "name": "stdout",
     "output_type": "stream",
     "text": [
      "BEST MODEL UPDATED! BEST RANK = 107.38411458333333\n",
      "Epoch 2/50. Batch 86272/86373. Actor loss = 11.273687 || critic loss = 0.024551\n",
      "\n",
      "##############################################################\n",
      "# emb_model_update = 1 | dist_metric = euclidean | topk = 10 #\n",
      "##############################################################\n",
      "╒════╤═════════╤═══════════╤═════════════════╤════════════════╤════════════════╤═════════════════╤════════════════╤════════════════╤═════════════════════════╕\n",
      "│    │    rmse │   cos_sim │   euc_rank_mean │   euc_rank_std │   euc_rank_tot │   cos_rank_mean │   cos_rank_std │   cos_rank_tot │ time(epoch_start-now)   │\n",
      "╞════╪═════════╪═══════════╪═════════════════╪════════════════╪════════════════╪═════════════════╪════════════════╪════════════════╪═════════════════════════╡\n",
      "│  2 │ 4.26932 │  0.817552 │         113.831 │        295.804 │        334.876 │         108.412 │        291.758 │        334.876 │ 11.54 min               │\n",
      "╘════╧═════════╧═══════════╧═════════════════╧════════════════╧════════════════╧═════════════════╧════════════════╧════════════════╧═════════════════════════╛\n",
      "\n"
     ]
    },
    {
     "name": "stderr",
     "output_type": "stream",
     "text": [
      "100%|████████████████████████████████████████████████████████████████| 44/44 [00:05<00:00,  8.56it/s]\n"
     ]
    },
    {
     "name": "stdout",
     "output_type": "stream",
     "text": [
      "Epoch 3/50. Batch 86272/86373. Actor loss = 11.250498 || critic loss = 0.025210\n",
      "\n",
      "##############################################################\n",
      "# emb_model_update = 1 | dist_metric = euclidean | topk = 10 #\n",
      "##############################################################\n",
      "╒════╤═════════╤═══════════╤═════════════════╤════════════════╤════════════════╤═════════════════╤════════════════╤════════════════╤═════════════════════════╕\n",
      "│    │    rmse │   cos_sim │   euc_rank_mean │   euc_rank_std │   euc_rank_tot │   cos_rank_mean │   cos_rank_std │   cos_rank_tot │ time(epoch_start-now)   │\n",
      "╞════╪═════════╪═══════════╪═════════════════╪════════════════╪════════════════╪═════════════════╪════════════════╪════════════════╪═════════════════════════╡\n",
      "│  3 │ 4.23384 │  0.817759 │         113.513 │        294.563 │        334.876 │         106.491 │        288.692 │        334.876 │ 11.48 min               │\n",
      "╘════╧═════════╧═══════════╧═════════════════╧════════════════╧════════════════╧═════════════════╧════════════════╧════════════════╧═════════════════════════╛\n",
      "\n"
     ]
    },
    {
     "name": "stderr",
     "output_type": "stream",
     "text": [
      "100%|████████████████████████████████████████████████████████████████| 44/44 [00:05<00:00,  8.56it/s]\n"
     ]
    },
    {
     "name": "stdout",
     "output_type": "stream",
     "text": [
      "Epoch 4/50. Batch 86272/86373. Actor loss = 11.222691 || critic loss = 0.026479\n",
      "\n",
      "##############################################################\n",
      "# emb_model_update = 1 | dist_metric = euclidean | topk = 10 #\n",
      "##############################################################\n",
      "╒════╤═════════╤═══════════╤═════════════════╤════════════════╤════════════════╤═════════════════╤════════════════╤════════════════╤═════════════════════════╕\n",
      "│    │    rmse │   cos_sim │   euc_rank_mean │   euc_rank_std │   euc_rank_tot │   cos_rank_mean │   cos_rank_std │   cos_rank_tot │ time(epoch_start-now)   │\n",
      "╞════╪═════════╪═══════════╪═════════════════╪════════════════╪════════════════╪═════════════════╪════════════════╪════════════════╪═════════════════════════╡\n",
      "│  4 │ 4.14546 │  0.813795 │         113.553 │        297.101 │        334.876 │         104.461 │          287.6 │        334.876 │ 11.59 min               │\n",
      "╘════╧═════════╧═══════════╧═════════════════╧════════════════╧════════════════╧═════════════════╧════════════════╧════════════════╧═════════════════════════╛\n",
      "\n"
     ]
    },
    {
     "name": "stderr",
     "output_type": "stream",
     "text": [
      "100%|████████████████████████████████████████████████████████████████| 44/44 [00:04<00:00,  9.00it/s]\n"
     ]
    },
    {
     "name": "stdout",
     "output_type": "stream",
     "text": [
      "Epoch 5/50. Batch 86272/86373. Actor loss = 11.126577 || critic loss = 0.026314\n",
      "\n",
      "##############################################################\n",
      "# emb_model_update = 1 | dist_metric = euclidean | topk = 10 #\n",
      "##############################################################\n",
      "╒════╤═════════╤═══════════╤═════════════════╤════════════════╤════════════════╤═════════════════╤════════════════╤════════════════╤═════════════════════════╕\n",
      "│    │    rmse │   cos_sim │   euc_rank_mean │   euc_rank_std │   euc_rank_tot │   cos_rank_mean │   cos_rank_std │   cos_rank_tot │ time(epoch_start-now)   │\n",
      "╞════╪═════════╪═══════════╪═════════════════╪════════════════╪════════════════╪═════════════════╪════════════════╪════════════════╪═════════════════════════╡\n",
      "│  5 │ 4.09189 │  0.810704 │         110.614 │        289.678 │        334.876 │         101.122 │        278.538 │        334.876 │ 11.61 min               │\n",
      "╘════╧═════════╧═══════════╧═════════════════╧════════════════╧════════════════╧═════════════════╧════════════════╧════════════════╧═════════════════════════╛\n",
      "\n"
     ]
    },
    {
     "name": "stderr",
     "output_type": "stream",
     "text": [
      "100%|████████████████████████████████████████████████████████████████| 44/44 [00:05<00:00,  8.40it/s]\n"
     ]
    },
    {
     "name": "stdout",
     "output_type": "stream",
     "text": [
      "Epoch 6/50. Batch 86272/86373. Actor loss = 11.140732 || critic loss = 0.025827\n",
      "\n",
      "##############################################################\n",
      "# emb_model_update = 1 | dist_metric = euclidean | topk = 10 #\n",
      "##############################################################\n",
      "╒════╤════════╤═══════════╤═════════════════╤════════════════╤════════════════╤═════════════════╤════════════════╤════════════════╤═════════════════════════╕\n",
      "│    │   rmse │   cos_sim │   euc_rank_mean │   euc_rank_std │   euc_rank_tot │   cos_rank_mean │   cos_rank_std │   cos_rank_tot │ time(epoch_start-now)   │\n",
      "╞════╪════════╪═══════════╪═════════════════╪════════════════╪════════════════╪═════════════════╪════════════════╪════════════════╪═════════════════════════╡\n",
      "│  6 │ 4.0735 │  0.806472 │         105.676 │        284.501 │        334.876 │         96.7806 │        273.652 │        334.876 │ 11.61 min               │\n",
      "╘════╧════════╧═══════════╧═════════════════╧════════════════╧════════════════╧═════════════════╧════════════════╧════════════════╧═════════════════════════╛\n",
      "\n"
     ]
    },
    {
     "name": "stderr",
     "output_type": "stream",
     "text": [
      "100%|████████████████████████████████████████████████████████████████| 44/44 [00:05<00:00,  8.40it/s]\n"
     ]
    },
    {
     "name": "stdout",
     "output_type": "stream",
     "text": [
      "BEST MODEL UPDATED! BEST RANK = 105.6762927827381\n",
      "Epoch 7/50. Batch 86272/86373. Actor loss = 11.167878 || critic loss = 0.028061\n",
      "\n",
      "##############################################################\n",
      "# emb_model_update = 1 | dist_metric = euclidean | topk = 10 #\n",
      "##############################################################\n",
      "╒════╤═════════╤═══════════╤═════════════════╤════════════════╤════════════════╤═════════════════╤════════════════╤════════════════╤═════════════════════════╕\n",
      "│    │    rmse │   cos_sim │   euc_rank_mean │   euc_rank_std │   euc_rank_tot │   cos_rank_mean │   cos_rank_std │   cos_rank_tot │ time(epoch_start-now)   │\n",
      "╞════╪═════════╪═══════════╪═════════════════╪════════════════╪════════════════╪═════════════════╪════════════════╪════════════════╪═════════════════════════╡\n",
      "│  7 │ 4.01219 │   0.80382 │         104.386 │        285.313 │        334.876 │         96.6816 │          276.5 │        334.876 │ 11.48 min               │\n",
      "╘════╧═════════╧═══════════╧═════════════════╧════════════════╧════════════════╧═════════════════╧════════════════╧════════════════╧═════════════════════════╛\n",
      "\n"
     ]
    },
    {
     "name": "stderr",
     "output_type": "stream",
     "text": [
      "100%|████████████████████████████████████████████████████████████████| 44/44 [00:05<00:00,  8.75it/s]\n"
     ]
    },
    {
     "name": "stdout",
     "output_type": "stream",
     "text": [
      "BEST MODEL UPDATED! BEST RANK = 104.38588169642857\n",
      "Epoch 8/50. Batch 86272/86373. Actor loss = 11.188482 || critic loss = 0.024683\n",
      "\n",
      "##############################################################\n",
      "# emb_model_update = 1 | dist_metric = euclidean | topk = 10 #\n",
      "##############################################################\n",
      "╒════╤═════════╤═══════════╤═════════════════╤════════════════╤════════════════╤═════════════════╤════════════════╤════════════════╤═════════════════════════╕\n",
      "│    │    rmse │   cos_sim │   euc_rank_mean │   euc_rank_std │   euc_rank_tot │   cos_rank_mean │   cos_rank_std │   cos_rank_tot │ time(epoch_start-now)   │\n",
      "╞════╪═════════╪═══════════╪═════════════════╪════════════════╪════════════════╪═════════════════╪════════════════╪════════════════╪═════════════════════════╡\n",
      "│  8 │ 3.94095 │  0.800193 │         102.756 │        281.232 │        334.876 │         94.6148 │        271.922 │        334.876 │ 11.51 min               │\n",
      "╘════╧═════════╧═══════════╧═════════════════╧════════════════╧════════════════╧═════════════════╧════════════════╧════════════════╧═════════════════════════╛\n",
      "\n"
     ]
    },
    {
     "name": "stderr",
     "output_type": "stream",
     "text": [
      "100%|████████████████████████████████████████████████████████████████| 44/44 [00:05<00:00,  8.47it/s]\n"
     ]
    },
    {
     "name": "stdout",
     "output_type": "stream",
     "text": [
      "BEST MODEL UPDATED! BEST RANK = 102.75558035714286\n",
      "Epoch 9/50. Batch 86272/86373. Actor loss = 11.198535 || critic loss = 0.026826\n",
      "\n",
      "##############################################################\n",
      "# emb_model_update = 1 | dist_metric = euclidean | topk = 10 #\n",
      "##############################################################\n",
      "╒════╤═════════╤═══════════╤═════════════════╤════════════════╤════════════════╤═════════════════╤════════════════╤════════════════╤═════════════════════════╕\n",
      "│    │    rmse │   cos_sim │   euc_rank_mean │   euc_rank_std │   euc_rank_tot │   cos_rank_mean │   cos_rank_std │   cos_rank_tot │ time(epoch_start-now)   │\n",
      "╞════╪═════════╪═══════════╪═════════════════╪════════════════╪════════════════╪═════════════════╪════════════════╪════════════════╪═════════════════════════╡\n",
      "│  9 │ 3.89926 │  0.798887 │         99.8103 │         275.07 │        334.876 │         92.2965 │         265.53 │        334.876 │ 11.41 min               │\n",
      "╘════╧═════════╧═══════════╧═════════════════╧════════════════╧════════════════╧═════════════════╧════════════════╧════════════════╧═════════════════════════╛\n",
      "\n"
     ]
    },
    {
     "name": "stderr",
     "output_type": "stream",
     "text": [
      "100%|████████████████████████████████████████████████████████████████| 44/44 [00:05<00:00,  8.52it/s]\n"
     ]
    },
    {
     "name": "stdout",
     "output_type": "stream",
     "text": [
      "BEST MODEL UPDATED! BEST RANK = 99.81026785714286\n",
      "Epoch 10/50. Batch 86272/86373. Actor loss = 11.219784 || critic loss = 0.028237\n",
      "\n",
      "##############################################################\n",
      "# emb_model_update = 1 | dist_metric = euclidean | topk = 10 #\n",
      "##############################################################\n",
      "╒════╤═════════╤═══════════╤═════════════════╤════════════════╤════════════════╤═════════════════╤════════════════╤════════════════╤═════════════════════════╕\n",
      "│    │    rmse │   cos_sim │   euc_rank_mean │   euc_rank_std │   euc_rank_tot │   cos_rank_mean │   cos_rank_std │   cos_rank_tot │ time(epoch_start-now)   │\n",
      "╞════╪═════════╪═══════════╪═════════════════╪════════════════╪════════════════╪═════════════════╪════════════════╪════════════════╪═════════════════════════╡\n",
      "│ 10 │ 3.85255 │  0.796917 │         100.009 │        275.723 │        334.876 │          93.073 │        266.995 │        334.876 │ 11.44 min               │\n",
      "╘════╧═════════╧═══════════╧═════════════════╧════════════════╧════════════════╧═════════════════╧════════════════╧════════════════╧═════════════════════════╛\n",
      "\n"
     ]
    },
    {
     "name": "stderr",
     "output_type": "stream",
     "text": [
      "100%|████████████████████████████████████████████████████████████████| 44/44 [00:05<00:00,  7.88it/s]\n"
     ]
    },
    {
     "name": "stdout",
     "output_type": "stream",
     "text": [
      "Epoch 11/50. Batch 86272/86373. Actor loss = 11.255659 || critic loss = 0.025294\n",
      "\n",
      "##############################################################\n",
      "# emb_model_update = 1 | dist_metric = euclidean | topk = 10 #\n",
      "##############################################################\n",
      "╒════╤═════════╤═══════════╤═════════════════╤════════════════╤════════════════╤═════════════════╤════════════════╤════════════════╤═════════════════════════╕\n",
      "│    │    rmse │   cos_sim │   euc_rank_mean │   euc_rank_std │   euc_rank_tot │   cos_rank_mean │   cos_rank_std │   cos_rank_tot │ time(epoch_start-now)   │\n",
      "╞════╪═════════╪═══════════╪═════════════════╪════════════════╪════════════════╪═════════════════╪════════════════╪════════════════╪═════════════════════════╡\n",
      "│ 11 │ 3.82805 │  0.794051 │         97.3052 │        271.938 │        334.876 │         90.2082 │        262.376 │        334.876 │ 11.57 min               │\n",
      "╘════╧═════════╧═══════════╧═════════════════╧════════════════╧════════════════╧═════════════════╧════════════════╧════════════════╧═════════════════════════╛\n",
      "\n"
     ]
    },
    {
     "name": "stderr",
     "output_type": "stream",
     "text": [
      "100%|████████████████████████████████████████████████████████████████| 44/44 [00:05<00:00,  8.49it/s]\n"
     ]
    },
    {
     "name": "stdout",
     "output_type": "stream",
     "text": [
      "BEST MODEL UPDATED! BEST RANK = 97.3051990327381\n",
      "Epoch 12/50. Batch 86272/86373. Actor loss = 11.147487 || critic loss = 0.026619\n",
      "\n",
      "##############################################################\n",
      "# emb_model_update = 1 | dist_metric = euclidean | topk = 10 #\n",
      "##############################################################\n",
      "╒════╤═════════╤═══════════╤═════════════════╤════════════════╤════════════════╤═════════════════╤════════════════╤════════════════╤═════════════════════════╕\n",
      "│    │    rmse │   cos_sim │   euc_rank_mean │   euc_rank_std │   euc_rank_tot │   cos_rank_mean │   cos_rank_std │   cos_rank_tot │ time(epoch_start-now)   │\n",
      "╞════╪═════════╪═══════════╪═════════════════╪════════════════╪════════════════╪═════════════════╪════════════════╪════════════════╪═════════════════════════╡\n",
      "│ 12 │ 3.76021 │  0.795145 │         94.3872 │        268.842 │        334.876 │         88.0044 │        260.648 │        334.876 │ 11.60 min               │\n",
      "╘════╧═════════╧═══════════╧═════════════════╧════════════════╧════════════════╧═════════════════╧════════════════╧════════════════╧═════════════════════════╛\n",
      "\n"
     ]
    },
    {
     "name": "stderr",
     "output_type": "stream",
     "text": [
      "100%|████████████████████████████████████████████████████████████████| 44/44 [00:05<00:00,  8.64it/s]\n"
     ]
    },
    {
     "name": "stdout",
     "output_type": "stream",
     "text": [
      "BEST MODEL UPDATED! BEST RANK = 94.3871837797619\n",
      "Epoch 13/50. Batch 86272/86373. Actor loss = 11.231111 || critic loss = 0.024978\n",
      "\n",
      "##############################################################\n",
      "# emb_model_update = 1 | dist_metric = euclidean | topk = 10 #\n",
      "##############################################################\n",
      "╒════╤═════════╤═══════════╤═════════════════╤════════════════╤════════════════╤═════════════════╤════════════════╤════════════════╤═════════════════════════╕\n",
      "│    │    rmse │   cos_sim │   euc_rank_mean │   euc_rank_std │   euc_rank_tot │   cos_rank_mean │   cos_rank_std │   cos_rank_tot │ time(epoch_start-now)   │\n",
      "╞════╪═════════╪═══════════╪═════════════════╪════════════════╪════════════════╪═════════════════╪════════════════╪════════════════╪═════════════════════════╡\n",
      "│ 13 │ 3.77347 │  0.790742 │         95.7756 │         277.78 │        334.876 │         89.1518 │        267.235 │        334.876 │ 11.43 min               │\n",
      "╘════╧═════════╧═══════════╧═════════════════╧════════════════╧════════════════╧═════════════════╧════════════════╧════════════════╧═════════════════════════╛\n",
      "\n"
     ]
    },
    {
     "name": "stderr",
     "output_type": "stream",
     "text": [
      "100%|████████████████████████████████████████████████████████████████| 44/44 [00:05<00:00,  7.99it/s]\n"
     ]
    },
    {
     "name": "stdout",
     "output_type": "stream",
     "text": [
      "Epoch 14/50. Batch 86272/86373. Actor loss = 11.292830 || critic loss = 0.022630\n",
      "\n",
      "##############################################################\n",
      "# emb_model_update = 1 | dist_metric = euclidean | topk = 10 #\n",
      "##############################################################\n",
      "╒════╤═════════╤═══════════╤═════════════════╤════════════════╤════════════════╤═════════════════╤════════════════╤════════════════╤═════════════════════════╕\n",
      "│    │    rmse │   cos_sim │   euc_rank_mean │   euc_rank_std │   euc_rank_tot │   cos_rank_mean │   cos_rank_std │   cos_rank_tot │ time(epoch_start-now)   │\n",
      "╞════╪═════════╪═══════════╪═════════════════╪════════════════╪════════════════╪═════════════════╪════════════════╪════════════════╪═════════════════════════╡\n",
      "│ 14 │ 3.71346 │  0.790923 │         93.5849 │         274.08 │        334.876 │         86.9509 │        261.892 │        334.876 │ 11.37 min               │\n",
      "╘════╧═════════╧═══════════╧═════════════════╧════════════════╧════════════════╧═════════════════╧════════════════╧════════════════╧═════════════════════════╛\n",
      "\n"
     ]
    },
    {
     "name": "stderr",
     "output_type": "stream",
     "text": [
      "100%|████████████████████████████████████████████████████████████████| 44/44 [00:05<00:00,  8.15it/s]\n"
     ]
    },
    {
     "name": "stdout",
     "output_type": "stream",
     "text": [
      "BEST MODEL UPDATED! BEST RANK = 93.58491443452381\n",
      "Epoch 15/50. Batch 86272/86373. Actor loss = 11.302098 || critic loss = 0.026768\n",
      "\n",
      "##############################################################\n",
      "# emb_model_update = 1 | dist_metric = euclidean | topk = 10 #\n",
      "##############################################################\n",
      "╒════╤═════════╤═══════════╤═════════════════╤════════════════╤════════════════╤═════════════════╤════════════════╤════════════════╤═════════════════════════╕\n",
      "│    │    rmse │   cos_sim │   euc_rank_mean │   euc_rank_std │   euc_rank_tot │   cos_rank_mean │   cos_rank_std │   cos_rank_tot │ time(epoch_start-now)   │\n",
      "╞════╪═════════╪═══════════╪═════════════════╪════════════════╪════════════════╪═════════════════╪════════════════╪════════════════╪═════════════════════════╡\n",
      "│ 15 │ 3.68826 │  0.789194 │         95.9522 │        277.965 │        334.876 │         89.4935 │        265.903 │        334.876 │ 11.35 min               │\n",
      "╘════╧═════════╧═══════════╧═════════════════╧════════════════╧════════════════╧═════════════════╧════════════════╧════════════════╧═════════════════════════╛\n",
      "\n"
     ]
    },
    {
     "name": "stderr",
     "output_type": "stream",
     "text": [
      "100%|████████████████████████████████████████████████████████████████| 44/44 [00:05<00:00,  8.25it/s]\n"
     ]
    },
    {
     "name": "stdout",
     "output_type": "stream",
     "text": [
      "Epoch 16/50. Batch 86272/86373. Actor loss = 11.337897 || critic loss = 0.022533\n",
      "\n",
      "##############################################################\n",
      "# emb_model_update = 1 | dist_metric = euclidean | topk = 10 #\n",
      "##############################################################\n",
      "╒════╤═════════╤═══════════╤═════════════════╤════════════════╤════════════════╤═════════════════╤════════════════╤════════════════╤═════════════════════════╕\n",
      "│    │    rmse │   cos_sim │   euc_rank_mean │   euc_rank_std │   euc_rank_tot │   cos_rank_mean │   cos_rank_std │   cos_rank_tot │ time(epoch_start-now)   │\n",
      "╞════╪═════════╪═══════════╪═════════════════╪════════════════╪════════════════╪═════════════════╪════════════════╪════════════════╪═════════════════════════╡\n",
      "│ 16 │ 3.63192 │  0.787231 │         93.4647 │        274.198 │        334.876 │         87.0475 │        262.761 │        334.876 │ 11.38 min               │\n",
      "╘════╧═════════╧═══════════╧═════════════════╧════════════════╧════════════════╧═════════════════╧════════════════╧════════════════╧═════════════════════════╛\n",
      "\n"
     ]
    },
    {
     "name": "stderr",
     "output_type": "stream",
     "text": [
      "100%|████████████████████████████████████████████████████████████████| 44/44 [00:05<00:00,  8.20it/s]\n"
     ]
    },
    {
     "name": "stdout",
     "output_type": "stream",
     "text": [
      "BEST MODEL UPDATED! BEST RANK = 93.46470424107143\n",
      "Epoch 17/50. Batch 86272/86373. Actor loss = 11.286507 || critic loss = 0.023577\n",
      "\n",
      "##############################################################\n",
      "# emb_model_update = 1 | dist_metric = euclidean | topk = 10 #\n",
      "##############################################################\n",
      "╒════╤════════╤═══════════╤═════════════════╤════════════════╤════════════════╤═════════════════╤════════════════╤════════════════╤═════════════════════════╕\n",
      "│    │   rmse │   cos_sim │   euc_rank_mean │   euc_rank_std │   euc_rank_tot │   cos_rank_mean │   cos_rank_std │   cos_rank_tot │ time(epoch_start-now)   │\n",
      "╞════╪════════╪═══════════╪═════════════════╪════════════════╪════════════════╪═════════════════╪════════════════╪════════════════╪═════════════════════════╡\n",
      "│ 17 │ 3.6134 │  0.787992 │         92.7367 │        273.075 │        334.876 │         86.5166 │        261.661 │        334.876 │ 11.48 min               │\n",
      "╘════╧════════╧═══════════╧═════════════════╧════════════════╧════════════════╧═════════════════╧════════════════╧════════════════╧═════════════════════════╛\n",
      "\n"
     ]
    },
    {
     "name": "stderr",
     "output_type": "stream",
     "text": [
      "100%|████████████████████████████████████████████████████████████████| 44/44 [00:05<00:00,  8.32it/s]\n"
     ]
    },
    {
     "name": "stdout",
     "output_type": "stream",
     "text": [
      "BEST MODEL UPDATED! BEST RANK = 92.73665364583333\n",
      "Epoch 18/50. Batch 86272/86373. Actor loss = 11.349442 || critic loss = 0.025279\n",
      "\n",
      "##############################################################\n",
      "# emb_model_update = 1 | dist_metric = euclidean | topk = 10 #\n",
      "##############################################################\n",
      "╒════╤═════════╤═══════════╤═════════════════╤════════════════╤════════════════╤═════════════════╤════════════════╤════════════════╤═════════════════════════╕\n",
      "│    │    rmse │   cos_sim │   euc_rank_mean │   euc_rank_std │   euc_rank_tot │   cos_rank_mean │   cos_rank_std │   cos_rank_tot │ time(epoch_start-now)   │\n",
      "╞════╪═════════╪═══════════╪═════════════════╪════════════════╪════════════════╪═════════════════╪════════════════╪════════════════╪═════════════════════════╡\n",
      "│ 18 │ 3.61662 │  0.788439 │         92.2817 │        269.904 │        334.876 │         86.4781 │        259.587 │        334.876 │ 11.50 min               │\n",
      "╘════╧═════════╧═══════════╧═════════════════╧════════════════╧════════════════╧═════════════════╧════════════════╧════════════════╧═════════════════════════╛\n",
      "\n"
     ]
    },
    {
     "name": "stderr",
     "output_type": "stream",
     "text": [
      "100%|████████████████████████████████████████████████████████████████| 44/44 [00:05<00:00,  8.57it/s]\n"
     ]
    },
    {
     "name": "stdout",
     "output_type": "stream",
     "text": [
      "BEST MODEL UPDATED! BEST RANK = 92.2817150297619\n",
      "Epoch 19/50. Batch 86272/86373. Actor loss = 11.323412 || critic loss = 0.021380\n",
      "\n",
      "##############################################################\n",
      "# emb_model_update = 1 | dist_metric = euclidean | topk = 10 #\n",
      "##############################################################\n",
      "╒════╤═════════╤═══════════╤═════════════════╤════════════════╤════════════════╤═════════════════╤════════════════╤════════════════╤═════════════════════════╕\n",
      "│    │    rmse │   cos_sim │   euc_rank_mean │   euc_rank_std │   euc_rank_tot │   cos_rank_mean │   cos_rank_std │   cos_rank_tot │ time(epoch_start-now)   │\n",
      "╞════╪═════════╪═══════════╪═════════════════╪════════════════╪════════════════╪═════════════════╪════════════════╪════════════════╪═════════════════════════╡\n",
      "│ 19 │ 3.62146 │  0.786655 │         91.5994 │        271.068 │        334.876 │         86.0087 │        260.891 │        334.876 │ 11.40 min               │\n",
      "╘════╧═════════╧═══════════╧═════════════════╧════════════════╧════════════════╧═════════════════╧════════════════╧════════════════╧═════════════════════════╛\n",
      "\n"
     ]
    },
    {
     "name": "stderr",
     "output_type": "stream",
     "text": [
      "100%|████████████████████████████████████████████████████████████████| 44/44 [00:05<00:00,  8.16it/s]\n"
     ]
    },
    {
     "name": "stdout",
     "output_type": "stream",
     "text": [
      "BEST MODEL UPDATED! BEST RANK = 91.59942336309524\n",
      "Epoch 20/50. Batch 86272/86373. Actor loss = 11.283167 || critic loss = 0.021388\n",
      "\n",
      "##############################################################\n",
      "# emb_model_update = 1 | dist_metric = euclidean | topk = 10 #\n",
      "##############################################################\n",
      "╒════╤═════════╤═══════════╤═════════════════╤════════════════╤════════════════╤═════════════════╤════════════════╤════════════════╤═════════════════════════╕\n",
      "│    │    rmse │   cos_sim │   euc_rank_mean │   euc_rank_std │   euc_rank_tot │   cos_rank_mean │   cos_rank_std │   cos_rank_tot │ time(epoch_start-now)   │\n",
      "╞════╪═════════╪═══════════╪═════════════════╪════════════════╪════════════════╪═════════════════╪════════════════╪════════════════╪═════════════════════════╡\n",
      "│ 20 │ 3.59963 │  0.784924 │         92.2733 │        271.234 │        334.876 │         86.4033 │        261.332 │        334.876 │ 11.45 min               │\n",
      "╘════╧═════════╧═══════════╧═════════════════╧════════════════╧════════════════╧═════════════════╧════════════════╧════════════════╧═════════════════════════╛\n",
      "\n"
     ]
    },
    {
     "name": "stderr",
     "output_type": "stream",
     "text": [
      "100%|████████████████████████████████████████████████████████████████| 44/44 [00:05<00:00,  8.64it/s]\n"
     ]
    },
    {
     "name": "stdout",
     "output_type": "stream",
     "text": [
      "Epoch 21/50. Batch 86272/86373. Actor loss = 11.302158 || critic loss = 0.018055\n",
      "\n",
      "##############################################################\n",
      "# emb_model_update = 1 | dist_metric = euclidean | topk = 10 #\n",
      "##############################################################\n",
      "╒════╤═════════╤═══════════╤═════════════════╤════════════════╤════════════════╤═════════════════╤════════════════╤════════════════╤═════════════════════════╕\n",
      "│    │    rmse │   cos_sim │   euc_rank_mean │   euc_rank_std │   euc_rank_tot │   cos_rank_mean │   cos_rank_std │   cos_rank_tot │ time(epoch_start-now)   │\n",
      "╞════╪═════════╪═══════════╪═════════════════╪════════════════╪════════════════╪═════════════════╪════════════════╪════════════════╪═════════════════════════╡\n",
      "│ 21 │ 3.56934 │  0.784407 │         93.4573 │        272.403 │        334.876 │         87.9401 │        263.833 │        334.876 │ 11.44 min               │\n",
      "╘════╧═════════╧═══════════╧═════════════════╧════════════════╧════════════════╧═════════════════╧════════════════╧════════════════╧═════════════════════════╛\n",
      "\n"
     ]
    },
    {
     "name": "stderr",
     "output_type": "stream",
     "text": [
      "100%|████████████████████████████████████████████████████████████████| 44/44 [00:04<00:00,  8.92it/s]\n"
     ]
    },
    {
     "name": "stdout",
     "output_type": "stream",
     "text": [
      "Epoch 22/50. Batch 86272/86373. Actor loss = 11.346972 || critic loss = 0.020672\n",
      "\n",
      "##############################################################\n",
      "# emb_model_update = 1 | dist_metric = euclidean | topk = 10 #\n",
      "##############################################################\n",
      "╒════╤═════════╤═══════════╤═════════════════╤════════════════╤════════════════╤═════════════════╤════════════════╤════════════════╤═════════════════════════╕\n",
      "│    │    rmse │   cos_sim │   euc_rank_mean │   euc_rank_std │   euc_rank_tot │   cos_rank_mean │   cos_rank_std │   cos_rank_tot │ time(epoch_start-now)   │\n",
      "╞════╪═════════╪═══════════╪═════════════════╪════════════════╪════════════════╪═════════════════╪════════════════╪════════════════╪═════════════════════════╡\n",
      "│ 22 │ 3.55915 │  0.782264 │         92.0221 │        271.941 │        334.876 │         86.0294 │        261.587 │        334.876 │ 11.31 min               │\n",
      "╘════╧═════════╧═══════════╧═════════════════╧════════════════╧════════════════╧═════════════════╧════════════════╧════════════════╧═════════════════════════╛\n",
      "\n"
     ]
    },
    {
     "name": "stderr",
     "output_type": "stream",
     "text": [
      "100%|████████████████████████████████████████████████████████████████| 44/44 [00:07<00:00,  5.98it/s]\n"
     ]
    },
    {
     "name": "stdout",
     "output_type": "stream",
     "text": [
      "Epoch 23/50. Batch 86272/86373. Actor loss = 11.350452 || critic loss = 0.021367\n",
      "\n",
      "##############################################################\n",
      "# emb_model_update = 1 | dist_metric = euclidean | topk = 10 #\n",
      "##############################################################\n",
      "╒════╤═════════╤═══════════╤═════════════════╤════════════════╤════════════════╤═════════════════╤════════════════╤════════════════╤═════════════════════════╕\n",
      "│    │    rmse │   cos_sim │   euc_rank_mean │   euc_rank_std │   euc_rank_tot │   cos_rank_mean │   cos_rank_std │   cos_rank_tot │ time(epoch_start-now)   │\n",
      "╞════╪═════════╪═══════════╪═════════════════╪════════════════╪════════════════╪═════════════════╪════════════════╪════════════════╪═════════════════════════╡\n",
      "│ 23 │ 3.50245 │  0.784977 │          91.125 │        268.805 │        334.876 │         85.7453 │         259.76 │        334.876 │ 11.45 min               │\n",
      "╘════╧═════════╧═══════════╧═════════════════╧════════════════╧════════════════╧═════════════════╧════════════════╧════════════════╧═════════════════════════╛\n",
      "\n"
     ]
    },
    {
     "name": "stderr",
     "output_type": "stream",
     "text": [
      "100%|████████████████████████████████████████████████████████████████| 44/44 [00:05<00:00,  8.73it/s]\n"
     ]
    },
    {
     "name": "stdout",
     "output_type": "stream",
     "text": [
      "BEST MODEL UPDATED! BEST RANK = 91.12495349702381\n",
      "Epoch 24/50. Batch 86272/86373. Actor loss = 11.367537 || critic loss = 0.020593\n",
      "\n",
      "##############################################################\n",
      "# emb_model_update = 1 | dist_metric = euclidean | topk = 10 #\n",
      "##############################################################\n",
      "╒════╤═════════╤═══════════╤═════════════════╤════════════════╤════════════════╤═════════════════╤════════════════╤════════════════╤═════════════════════════╕\n",
      "│    │    rmse │   cos_sim │   euc_rank_mean │   euc_rank_std │   euc_rank_tot │   cos_rank_mean │   cos_rank_std │   cos_rank_tot │ time(epoch_start-now)   │\n",
      "╞════╪═════════╪═══════════╪═════════════════╪════════════════╪════════════════╪═════════════════╪════════════════╪════════════════╪═════════════════════════╡\n",
      "│ 24 │ 3.54236 │  0.782152 │         89.8276 │        265.339 │        334.876 │          84.585 │        256.986 │        334.876 │ 11.55 min               │\n",
      "╘════╧═════════╧═══════════╧═════════════════╧════════════════╧════════════════╧═════════════════╧════════════════╧════════════════╧═════════════════════════╛\n",
      "\n"
     ]
    },
    {
     "name": "stderr",
     "output_type": "stream",
     "text": [
      "100%|████████████████████████████████████████████████████████████████| 44/44 [00:05<00:00,  8.46it/s]\n"
     ]
    },
    {
     "name": "stdout",
     "output_type": "stream",
     "text": [
      "BEST MODEL UPDATED! BEST RANK = 89.8276134672619\n",
      "Epoch 25/50. Batch 86272/86373. Actor loss = 11.371993 || critic loss = 0.015923\n",
      "\n",
      "##############################################################\n",
      "# emb_model_update = 1 | dist_metric = euclidean | topk = 10 #\n",
      "##############################################################\n",
      "╒════╤═════════╤═══════════╤═════════════════╤════════════════╤════════════════╤═════════════════╤════════════════╤════════════════╤═════════════════════════╕\n",
      "│    │    rmse │   cos_sim │   euc_rank_mean │   euc_rank_std │   euc_rank_tot │   cos_rank_mean │   cos_rank_std │   cos_rank_tot │ time(epoch_start-now)   │\n",
      "╞════╪═════════╪═══════════╪═════════════════╪════════════════╪════════════════╪═════════════════╪════════════════╪════════════════╪═════════════════════════╡\n",
      "│ 25 │ 3.51811 │  0.781427 │         88.9552 │        261.645 │        334.876 │         83.6647 │        254.373 │        334.876 │ 11.51 min               │\n",
      "╘════╧═════════╧═══════════╧═════════════════╧════════════════╧════════════════╧═════════════════╧════════════════╧════════════════╧═════════════════════════╛\n",
      "\n"
     ]
    },
    {
     "name": "stderr",
     "output_type": "stream",
     "text": [
      "100%|████████████████████████████████████████████████████████████████| 44/44 [00:05<00:00,  8.70it/s]\n"
     ]
    },
    {
     "name": "stdout",
     "output_type": "stream",
     "text": [
      "BEST MODEL UPDATED! BEST RANK = 88.95521763392857\n",
      "Epoch 26/50. Batch 86272/86373. Actor loss = 11.384708 || critic loss = 0.016279\n",
      "\n",
      "##############################################################\n",
      "# emb_model_update = 1 | dist_metric = euclidean | topk = 10 #\n",
      "##############################################################\n",
      "╒════╤═════════╤═══════════╤═════════════════╤════════════════╤════════════════╤═════════════════╤════════════════╤════════════════╤═════════════════════════╕\n",
      "│    │    rmse │   cos_sim │   euc_rank_mean │   euc_rank_std │   euc_rank_tot │   cos_rank_mean │   cos_rank_std │   cos_rank_tot │ time(epoch_start-now)   │\n",
      "╞════╪═════════╪═══════════╪═════════════════╪════════════════╪════════════════╪═════════════════╪════════════════╪════════════════╪═════════════════════════╡\n",
      "│ 26 │ 3.51228 │  0.781364 │         92.0491 │        270.218 │        334.876 │         86.5613 │         262.88 │        334.876 │ 11.43 min               │\n",
      "╘════╧═════════╧═══════════╧═════════════════╧════════════════╧════════════════╧═════════════════╧════════════════╧════════════════╧═════════════════════════╛\n",
      "\n"
     ]
    },
    {
     "name": "stderr",
     "output_type": "stream",
     "text": [
      "100%|████████████████████████████████████████████████████████████████| 44/44 [00:05<00:00,  8.52it/s]\n"
     ]
    },
    {
     "name": "stdout",
     "output_type": "stream",
     "text": [
      "Epoch 27/50. Batch 86272/86373. Actor loss = 11.387444 || critic loss = 0.015769\n",
      "\n",
      "##############################################################\n",
      "# emb_model_update = 1 | dist_metric = euclidean | topk = 10 #\n",
      "##############################################################\n",
      "╒════╤═════════╤═══════════╤═════════════════╤════════════════╤════════════════╤═════════════════╤════════════════╤════════════════╤═════════════════════════╕\n",
      "│    │    rmse │   cos_sim │   euc_rank_mean │   euc_rank_std │   euc_rank_tot │   cos_rank_mean │   cos_rank_std │   cos_rank_tot │ time(epoch_start-now)   │\n",
      "╞════╪═════════╪═══════════╪═════════════════╪════════════════╪════════════════╪═════════════════╪════════════════╪════════════════╪═════════════════════════╡\n",
      "│ 27 │ 3.50142 │  0.779378 │         91.0568 │        267.035 │        334.876 │         84.9015 │        256.944 │        334.876 │ 11.35 min               │\n",
      "╘════╧═════════╧═══════════╧═════════════════╧════════════════╧════════════════╧═════════════════╧════════════════╧════════════════╧═════════════════════════╛\n",
      "\n"
     ]
    },
    {
     "name": "stderr",
     "output_type": "stream",
     "text": [
      "100%|████████████████████████████████████████████████████████████████| 44/44 [00:05<00:00,  8.60it/s]\n"
     ]
    },
    {
     "name": "stdout",
     "output_type": "stream",
     "text": [
      "Epoch 28/50. Batch 86272/86373. Actor loss = 11.560390 || critic loss = 0.017242\n",
      "\n",
      "##############################################################\n",
      "# emb_model_update = 1 | dist_metric = euclidean | topk = 10 #\n",
      "##############################################################\n",
      "╒════╤═════════╤═══════════╤═════════════════╤════════════════╤════════════════╤═════════════════╤════════════════╤════════════════╤═════════════════════════╕\n",
      "│    │    rmse │   cos_sim │   euc_rank_mean │   euc_rank_std │   euc_rank_tot │   cos_rank_mean │   cos_rank_std │   cos_rank_tot │ time(epoch_start-now)   │\n",
      "╞════╪═════════╪═══════════╪═════════════════╪════════════════╪════════════════╪═════════════════╪════════════════╪════════════════╪═════════════════════════╡\n",
      "│ 28 │ 3.46057 │  0.781277 │         90.9184 │        269.219 │        334.876 │          85.847 │        261.993 │        334.876 │ 11.37 min               │\n",
      "╘════╧═════════╧═══════════╧═════════════════╧════════════════╧════════════════╧═════════════════╧════════════════╧════════════════╧═════════════════════════╛\n",
      "\n"
     ]
    },
    {
     "name": "stderr",
     "output_type": "stream",
     "text": [
      "100%|████████████████████████████████████████████████████████████████| 44/44 [00:05<00:00,  8.34it/s]\n"
     ]
    },
    {
     "name": "stdout",
     "output_type": "stream",
     "text": [
      "Epoch 29/50. Batch 86272/86373. Actor loss = 11.428547 || critic loss = 0.018916\n",
      "\n",
      "##############################################################\n",
      "# emb_model_update = 1 | dist_metric = euclidean | topk = 10 #\n",
      "##############################################################\n",
      "╒════╤═════════╤═══════════╤═════════════════╤════════════════╤════════════════╤═════════════════╤════════════════╤════════════════╤═════════════════════════╕\n",
      "│    │    rmse │   cos_sim │   euc_rank_mean │   euc_rank_std │   euc_rank_tot │   cos_rank_mean │   cos_rank_std │   cos_rank_tot │ time(epoch_start-now)   │\n",
      "╞════╪═════════╪═══════════╪═════════════════╪════════════════╪════════════════╪═════════════════╪════════════════╪════════════════╪═════════════════════════╡\n",
      "│ 29 │ 3.45736 │  0.780267 │         92.4556 │        273.406 │        334.876 │         86.6185 │        263.267 │        334.876 │ 11.47 min               │\n",
      "╘════╧═════════╧═══════════╧═════════════════╧════════════════╧════════════════╧═════════════════╧════════════════╧════════════════╧═════════════════════════╛\n",
      "\n"
     ]
    },
    {
     "name": "stderr",
     "output_type": "stream",
     "text": [
      "100%|████████████████████████████████████████████████████████████████| 44/44 [00:05<00:00,  8.60it/s]\n"
     ]
    },
    {
     "name": "stdout",
     "output_type": "stream",
     "text": [
      "Epoch 30/50. Batch 86272/86373. Actor loss = 11.489470 || critic loss = 0.016899\n",
      "\n",
      "##############################################################\n",
      "# emb_model_update = 1 | dist_metric = euclidean | topk = 10 #\n",
      "##############################################################\n",
      "╒════╤═════════╤═══════════╤═════════════════╤════════════════╤════════════════╤═════════════════╤════════════════╤════════════════╤═════════════════════════╕\n",
      "│    │    rmse │   cos_sim │   euc_rank_mean │   euc_rank_std │   euc_rank_tot │   cos_rank_mean │   cos_rank_std │   cos_rank_tot │ time(epoch_start-now)   │\n",
      "╞════╪═════════╪═══════════╪═════════════════╪════════════════╪════════════════╪═════════════════╪════════════════╪════════════════╪═════════════════════════╡\n",
      "│ 30 │ 3.45557 │  0.781202 │         90.8373 │        269.844 │        334.876 │         85.2898 │        261.689 │        334.876 │ 11.52 min               │\n",
      "╘════╧═════════╧═══════════╧═════════════════╧════════════════╧════════════════╧═════════════════╧════════════════╧════════════════╧═════════════════════════╛\n",
      "\n"
     ]
    },
    {
     "name": "stderr",
     "output_type": "stream",
     "text": [
      "100%|████████████████████████████████████████████████████████████████| 44/44 [00:05<00:00,  7.84it/s]\n"
     ]
    },
    {
     "name": "stdout",
     "output_type": "stream",
     "text": [
      "Epoch 31/50. Batch 86272/86373. Actor loss = 11.529991 || critic loss = 0.013798\n",
      "\n",
      "##############################################################\n",
      "# emb_model_update = 1 | dist_metric = euclidean | topk = 10 #\n",
      "##############################################################\n",
      "╒════╤════════╤═══════════╤═════════════════╤════════════════╤════════════════╤═════════════════╤════════════════╤════════════════╤═════════════════════════╕\n",
      "│    │   rmse │   cos_sim │   euc_rank_mean │   euc_rank_std │   euc_rank_tot │   cos_rank_mean │   cos_rank_std │   cos_rank_tot │ time(epoch_start-now)   │\n",
      "╞════╪════════╪═══════════╪═════════════════╪════════════════╪════════════════╪═════════════════╪════════════════╪════════════════╪═════════════════════════╡\n",
      "│ 31 │ 3.4234 │  0.781374 │         91.4961 │        270.634 │        334.876 │         85.7232 │        263.107 │        334.876 │ 11.46 min               │\n",
      "╘════╧════════╧═══════════╧═════════════════╧════════════════╧════════════════╧═════════════════╧════════════════╧════════════════╧═════════════════════════╛\n",
      "\n"
     ]
    },
    {
     "name": "stderr",
     "output_type": "stream",
     "text": [
      "100%|████████████████████████████████████████████████████████████████| 44/44 [00:05<00:00,  8.40it/s]\n"
     ]
    },
    {
     "name": "stdout",
     "output_type": "stream",
     "text": [
      "Epoch 32/50. Batch 86272/86373. Actor loss = 11.498567 || critic loss = 0.015485\n",
      "\n",
      "##############################################################\n",
      "# emb_model_update = 1 | dist_metric = euclidean | topk = 10 #\n",
      "##############################################################\n",
      "╒════╤═════════╤═══════════╤═════════════════╤════════════════╤════════════════╤═════════════════╤════════════════╤════════════════╤═════════════════════════╕\n",
      "│    │    rmse │   cos_sim │   euc_rank_mean │   euc_rank_std │   euc_rank_tot │   cos_rank_mean │   cos_rank_std │   cos_rank_tot │ time(epoch_start-now)   │\n",
      "╞════╪═════════╪═══════════╪═════════════════╪════════════════╪════════════════╪═════════════════╪════════════════╪════════════════╪═════════════════════════╡\n",
      "│ 32 │ 3.42907 │  0.780918 │         91.6689 │        272.593 │        334.876 │         86.2798 │         263.64 │        334.876 │ 11.42 min               │\n",
      "╘════╧═════════╧═══════════╧═════════════════╧════════════════╧════════════════╧═════════════════╧════════════════╧════════════════╧═════════════════════════╛\n",
      "\n"
     ]
    },
    {
     "name": "stderr",
     "output_type": "stream",
     "text": [
      "100%|████████████████████████████████████████████████████████████████| 44/44 [00:05<00:00,  8.50it/s]\n"
     ]
    },
    {
     "name": "stdout",
     "output_type": "stream",
     "text": [
      "Epoch 33/50. Batch 86272/86373. Actor loss = 11.597747 || critic loss = 0.014257\n",
      "\n",
      "##############################################################\n",
      "# emb_model_update = 1 | dist_metric = euclidean | topk = 10 #\n",
      "##############################################################\n",
      "╒════╤═════════╤═══════════╤═════════════════╤════════════════╤════════════════╤═════════════════╤════════════════╤════════════════╤═════════════════════════╕\n",
      "│    │    rmse │   cos_sim │   euc_rank_mean │   euc_rank_std │   euc_rank_tot │   cos_rank_mean │   cos_rank_std │   cos_rank_tot │ time(epoch_start-now)   │\n",
      "╞════╪═════════╪═══════════╪═════════════════╪════════════════╪════════════════╪═════════════════╪════════════════╪════════════════╪═════════════════════════╡\n",
      "│ 33 │ 3.41078 │   0.78231 │         91.1764 │        270.005 │        334.876 │         85.0934 │        260.399 │        334.876 │ 11.42 min               │\n",
      "╘════╧═════════╧═══════════╧═════════════════╧════════════════╧════════════════╧═════════════════╧════════════════╧════════════════╧═════════════════════════╛\n",
      "\n"
     ]
    },
    {
     "name": "stderr",
     "output_type": "stream",
     "text": [
      "100%|████████████████████████████████████████████████████████████████| 44/44 [00:05<00:00,  8.35it/s]\n"
     ]
    },
    {
     "name": "stdout",
     "output_type": "stream",
     "text": [
      "Epoch 34/50. Batch 86272/86373. Actor loss = 11.666242 || critic loss = 0.017212\n",
      "\n",
      "##############################################################\n",
      "# emb_model_update = 1 | dist_metric = euclidean | topk = 10 #\n",
      "##############################################################\n",
      "╒════╤════════╤═══════════╤═════════════════╤════════════════╤════════════════╤═════════════════╤════════════════╤════════════════╤═════════════════════════╕\n",
      "│    │   rmse │   cos_sim │   euc_rank_mean │   euc_rank_std │   euc_rank_tot │   cos_rank_mean │   cos_rank_std │   cos_rank_tot │ time(epoch_start-now)   │\n",
      "╞════╪════════╪═══════════╪═════════════════╪════════════════╪════════════════╪═════════════════╪════════════════╪════════════════╪═════════════════════════╡\n",
      "│ 34 │ 3.4006 │  0.781673 │         89.9405 │        270.164 │        334.876 │         83.7704 │        259.992 │        334.876 │ 11.29 min               │\n",
      "╘════╧════════╧═══════════╧═════════════════╧════════════════╧════════════════╧═════════════════╧════════════════╧════════════════╧═════════════════════════╛\n",
      "\n"
     ]
    },
    {
     "name": "stderr",
     "output_type": "stream",
     "text": [
      "100%|████████████████████████████████████████████████████████████████| 44/44 [00:04<00:00,  9.15it/s]\n"
     ]
    },
    {
     "name": "stdout",
     "output_type": "stream",
     "text": [
      "Epoch 35/50. Batch 86272/86373. Actor loss = 11.521488 || critic loss = 0.016596\n",
      "\n",
      "##############################################################\n",
      "# emb_model_update = 1 | dist_metric = euclidean | topk = 10 #\n",
      "##############################################################\n",
      "╒════╤═════════╤═══════════╤═════════════════╤════════════════╤════════════════╤═════════════════╤════════════════╤════════════════╤═════════════════════════╕\n",
      "│    │    rmse │   cos_sim │   euc_rank_mean │   euc_rank_std │   euc_rank_tot │   cos_rank_mean │   cos_rank_std │   cos_rank_tot │ time(epoch_start-now)   │\n",
      "╞════╪═════════╪═══════════╪═════════════════╪════════════════╪════════════════╪═════════════════╪════════════════╪════════════════╪═════════════════════════╡\n",
      "│ 35 │ 3.39438 │  0.782718 │         89.8169 │        267.995 │        334.876 │          84.843 │        262.036 │        334.876 │ 11.42 min               │\n",
      "╘════╧═════════╧═══════════╧═════════════════╧════════════════╧════════════════╧═════════════════╧════════════════╧════════════════╧═════════════════════════╛\n",
      "\n"
     ]
    },
    {
     "name": "stderr",
     "output_type": "stream",
     "text": [
      "100%|████████████████████████████████████████████████████████████████| 44/44 [00:05<00:00,  8.63it/s]\n"
     ]
    },
    {
     "name": "stdout",
     "output_type": "stream",
     "text": [
      "Epoch 36/50. Batch 86272/86373. Actor loss = 11.644358 || critic loss = 0.015605\n",
      "\n",
      "##############################################################\n",
      "# emb_model_update = 1 | dist_metric = euclidean | topk = 10 #\n",
      "##############################################################\n",
      "╒════╤═════════╤═══════════╤═════════════════╤════════════════╤════════════════╤═════════════════╤════════════════╤════════════════╤═════════════════════════╕\n",
      "│    │    rmse │   cos_sim │   euc_rank_mean │   euc_rank_std │   euc_rank_tot │   cos_rank_mean │   cos_rank_std │   cos_rank_tot │ time(epoch_start-now)   │\n",
      "╞════╪═════════╪═══════════╪═════════════════╪════════════════╪════════════════╪═════════════════╪════════════════╪════════════════╪═════════════════════════╡\n",
      "│ 36 │ 3.41553 │  0.781416 │          89.485 │        269.147 │        334.876 │         84.1698 │        261.063 │        334.876 │ 11.46 min               │\n",
      "╘════╧═════════╧═══════════╧═════════════════╧════════════════╧════════════════╧═════════════════╧════════════════╧════════════════╧═════════════════════════╛\n",
      "\n"
     ]
    },
    {
     "name": "stderr",
     "output_type": "stream",
     "text": [
      "100%|████████████████████████████████████████████████████████████████| 44/44 [00:05<00:00,  8.64it/s]\n"
     ]
    },
    {
     "name": "stdout",
     "output_type": "stream",
     "text": [
      "Epoch 37/50. Batch 86272/86373. Actor loss = 11.604424 || critic loss = 0.015541\n",
      "\n",
      "##############################################################\n",
      "# emb_model_update = 1 | dist_metric = euclidean | topk = 10 #\n",
      "##############################################################\n",
      "╒════╤═════════╤═══════════╤═════════════════╤════════════════╤════════════════╤═════════════════╤════════════════╤════════════════╤═════════════════════════╕\n",
      "│    │    rmse │   cos_sim │   euc_rank_mean │   euc_rank_std │   euc_rank_tot │   cos_rank_mean │   cos_rank_std │   cos_rank_tot │ time(epoch_start-now)   │\n",
      "╞════╪═════════╪═══════════╪═════════════════╪════════════════╪════════════════╪═════════════════╪════════════════╪════════════════╪═════════════════════════╡\n",
      "│ 37 │ 3.40083 │  0.781356 │          90.923 │        272.595 │        334.876 │         85.6189 │        264.596 │        334.876 │ 11.42 min               │\n",
      "╘════╧═════════╧═══════════╧═════════════════╧════════════════╧════════════════╧═════════════════╧════════════════╧════════════════╧═════════════════════════╛\n",
      "\n"
     ]
    },
    {
     "name": "stderr",
     "output_type": "stream",
     "text": [
      "100%|████████████████████████████████████████████████████████████████| 44/44 [00:05<00:00,  8.11it/s]\n"
     ]
    },
    {
     "name": "stdout",
     "output_type": "stream",
     "text": [
      "Epoch 38/50. Batch 86272/86373. Actor loss = 11.711276 || critic loss = 0.016023\n",
      "\n",
      "##############################################################\n",
      "# emb_model_update = 1 | dist_metric = euclidean | topk = 10 #\n",
      "##############################################################\n",
      "╒════╤═════════╤═══════════╤═════════════════╤════════════════╤════════════════╤═════════════════╤════════════════╤════════════════╤═════════════════════════╕\n",
      "│    │    rmse │   cos_sim │   euc_rank_mean │   euc_rank_std │   euc_rank_tot │   cos_rank_mean │   cos_rank_std │   cos_rank_tot │ time(epoch_start-now)   │\n",
      "╞════╪═════════╪═══════════╪═════════════════╪════════════════╪════════════════╪═════════════════╪════════════════╪════════════════╪═════════════════════════╡\n",
      "│ 38 │ 3.38509 │  0.779692 │           91.33 │        273.004 │        334.876 │         85.6795 │        263.964 │        334.876 │ 11.05 min               │\n",
      "╘════╧═════════╧═══════════╧═════════════════╧════════════════╧════════════════╧═════════════════╧════════════════╧════════════════╧═════════════════════════╛\n",
      "\n"
     ]
    },
    {
     "name": "stderr",
     "output_type": "stream",
     "text": [
      "100%|████████████████████████████████████████████████████████████████| 44/44 [00:04<00:00,  9.41it/s]\n"
     ]
    },
    {
     "name": "stdout",
     "output_type": "stream",
     "text": [
      "Epoch 39/50. Batch 86272/86373. Actor loss = 11.653607 || critic loss = 0.013647\n",
      "\n",
      "##############################################################\n",
      "# emb_model_update = 1 | dist_metric = euclidean | topk = 10 #\n",
      "##############################################################\n",
      "╒════╤═════════╤═══════════╤═════════════════╤════════════════╤════════════════╤═════════════════╤════════════════╤════════════════╤═════════════════════════╕\n",
      "│    │    rmse │   cos_sim │   euc_rank_mean │   euc_rank_std │   euc_rank_tot │   cos_rank_mean │   cos_rank_std │   cos_rank_tot │ time(epoch_start-now)   │\n",
      "╞════╪═════════╪═══════════╪═════════════════╪════════════════╪════════════════╪═════════════════╪════════════════╪════════════════╪═════════════════════════╡\n",
      "│ 39 │ 3.38868 │  0.781595 │         90.7203 │        272.803 │        334.876 │          84.834 │        263.281 │        334.876 │ 10.88 min               │\n",
      "╘════╧═════════╧═══════════╧═════════════════╧════════════════╧════════════════╧═════════════════╧════════════════╧════════════════╧═════════════════════════╛\n",
      "\n"
     ]
    },
    {
     "name": "stderr",
     "output_type": "stream",
     "text": [
      "100%|████████████████████████████████████████████████████████████████| 44/44 [00:04<00:00,  9.30it/s]\n"
     ]
    },
    {
     "name": "stdout",
     "output_type": "stream",
     "text": [
      "Epoch 40/50. Batch 86272/86373. Actor loss = 11.669770 || critic loss = 0.016360\n",
      "\n",
      "##############################################################\n",
      "# emb_model_update = 1 | dist_metric = euclidean | topk = 10 #\n",
      "##############################################################\n",
      "╒════╤═════════╤═══════════╤═════════════════╤════════════════╤════════════════╤═════════════════╤════════════════╤════════════════╤═════════════════════════╕\n",
      "│    │    rmse │   cos_sim │   euc_rank_mean │   euc_rank_std │   euc_rank_tot │   cos_rank_mean │   cos_rank_std │   cos_rank_tot │ time(epoch_start-now)   │\n",
      "╞════╪═════════╪═══════════╪═════════════════╪════════════════╪════════════════╪═════════════════╪════════════════╪════════════════╪═════════════════════════╡\n",
      "│ 40 │ 3.38748 │  0.780969 │         90.9426 │        270.546 │        334.876 │         84.9903 │        262.164 │        334.876 │ 10.82 min               │\n",
      "╘════╧═════════╧═══════════╧═════════════════╧════════════════╧════════════════╧═════════════════╧════════════════╧════════════════╧═════════════════════════╛\n",
      "\n"
     ]
    },
    {
     "name": "stderr",
     "output_type": "stream",
     "text": [
      "100%|████████████████████████████████████████████████████████████████| 44/44 [00:04<00:00,  9.36it/s]\n"
     ]
    },
    {
     "name": "stdout",
     "output_type": "stream",
     "text": [
      "Epoch 41/50. Batch 86272/86373. Actor loss = 11.756824 || critic loss = 0.013941\n",
      "\n",
      "##############################################################\n",
      "# emb_model_update = 1 | dist_metric = euclidean | topk = 10 #\n",
      "##############################################################\n",
      "╒════╤═════════╤═══════════╤═════════════════╤════════════════╤════════════════╤═════════════════╤════════════════╤════════════════╤═════════════════════════╕\n",
      "│    │    rmse │   cos_sim │   euc_rank_mean │   euc_rank_std │   euc_rank_tot │   cos_rank_mean │   cos_rank_std │   cos_rank_tot │ time(epoch_start-now)   │\n",
      "╞════╪═════════╪═══════════╪═════════════════╪════════════════╪════════════════╪═════════════════╪════════════════╪════════════════╪═════════════════════════╡\n",
      "│ 41 │ 3.36779 │   0.78152 │         92.1409 │        276.264 │        334.876 │         87.1674 │        269.544 │        334.876 │ 10.81 min               │\n",
      "╘════╧═════════╧═══════════╧═════════════════╧════════════════╧════════════════╧═════════════════╧════════════════╧════════════════╧═════════════════════════╛\n",
      "\n"
     ]
    },
    {
     "name": "stderr",
     "output_type": "stream",
     "text": [
      "100%|████████████████████████████████████████████████████████████████| 44/44 [00:04<00:00,  9.63it/s]\n"
     ]
    },
    {
     "name": "stdout",
     "output_type": "stream",
     "text": [
      "Epoch 42/50. Batch 86272/86373. Actor loss = 11.727821 || critic loss = 0.014936\n",
      "\n",
      "##############################################################\n",
      "# emb_model_update = 1 | dist_metric = euclidean | topk = 10 #\n",
      "##############################################################\n",
      "╒════╤═════════╤═══════════╤═════════════════╤════════════════╤════════════════╤═════════════════╤════════════════╤════════════════╤═════════════════════════╕\n",
      "│    │    rmse │   cos_sim │   euc_rank_mean │   euc_rank_std │   euc_rank_tot │   cos_rank_mean │   cos_rank_std │   cos_rank_tot │ time(epoch_start-now)   │\n",
      "╞════╪═════════╪═══════════╪═════════════════╪════════════════╪════════════════╪═════════════════╪════════════════╪════════════════╪═════════════════════════╡\n",
      "│ 42 │ 3.38274 │   0.77919 │         90.5299 │        271.571 │        334.876 │         85.0675 │        263.521 │        334.876 │ 10.90 min               │\n",
      "╘════╧═════════╧═══════════╧═════════════════╧════════════════╧════════════════╧═════════════════╧════════════════╧════════════════╧═════════════════════════╛\n",
      "\n"
     ]
    },
    {
     "name": "stderr",
     "output_type": "stream",
     "text": [
      "100%|████████████████████████████████████████████████████████████████| 44/44 [00:04<00:00,  9.44it/s]\n"
     ]
    },
    {
     "name": "stdout",
     "output_type": "stream",
     "text": [
      "Epoch 43/50. Batch 86272/86373. Actor loss = 11.776740 || critic loss = 0.012801\n",
      "\n",
      "##############################################################\n",
      "# emb_model_update = 1 | dist_metric = euclidean | topk = 10 #\n",
      "##############################################################\n",
      "╒════╤═════════╤═══════════╤═════════════════╤════════════════╤════════════════╤═════════════════╤════════════════╤════════════════╤═════════════════════════╕\n",
      "│    │    rmse │   cos_sim │   euc_rank_mean │   euc_rank_std │   euc_rank_tot │   cos_rank_mean │   cos_rank_std │   cos_rank_tot │ time(epoch_start-now)   │\n",
      "╞════╪═════════╪═══════════╪═════════════════╪════════════════╪════════════════╪═════════════════╪════════════════╪════════════════╪═════════════════════════╡\n",
      "│ 43 │ 3.36365 │  0.780477 │         88.0914 │        264.436 │        334.876 │         82.8754 │        257.241 │        334.876 │ 10.90 min               │\n",
      "╘════╧═════════╧═══════════╧═════════════════╧════════════════╧════════════════╧═════════════════╧════════════════╧════════════════╧═════════════════════════╛\n",
      "\n"
     ]
    },
    {
     "name": "stderr",
     "output_type": "stream",
     "text": [
      "100%|████████████████████████████████████████████████████████████████| 44/44 [00:04<00:00,  9.87it/s]\n"
     ]
    },
    {
     "name": "stdout",
     "output_type": "stream",
     "text": [
      "BEST MODEL UPDATED! BEST RANK = 88.09142485119048\n",
      "Epoch 44/50. Batch 86272/86373. Actor loss = 11.827896 || critic loss = 0.012830\n",
      "\n",
      "##############################################################\n",
      "# emb_model_update = 1 | dist_metric = euclidean | topk = 10 #\n",
      "##############################################################\n",
      "╒════╤═════════╤═══════════╤═════════════════╤════════════════╤════════════════╤═════════════════╤════════════════╤════════════════╤═════════════════════════╕\n",
      "│    │    rmse │   cos_sim │   euc_rank_mean │   euc_rank_std │   euc_rank_tot │   cos_rank_mean │   cos_rank_std │   cos_rank_tot │ time(epoch_start-now)   │\n",
      "╞════╪═════════╪═══════════╪═════════════════╪════════════════╪════════════════╪═════════════════╪════════════════╪════════════════╪═════════════════════════╡\n",
      "│ 44 │ 3.36464 │  0.781032 │         89.6551 │        267.097 │        334.876 │         84.2972 │        259.066 │        334.876 │ 10.76 min               │\n",
      "╘════╧═════════╧═══════════╧═════════════════╧════════════════╧════════════════╧═════════════════╧════════════════╧════════════════╧═════════════════════════╛\n",
      "\n"
     ]
    },
    {
     "name": "stderr",
     "output_type": "stream",
     "text": [
      "100%|████████████████████████████████████████████████████████████████| 44/44 [00:04<00:00, 10.58it/s]\n"
     ]
    },
    {
     "name": "stdout",
     "output_type": "stream",
     "text": [
      "Epoch 45/50. Batch 86272/86373. Actor loss = 11.831467 || critic loss = 0.012400\n",
      "\n",
      "##############################################################\n",
      "# emb_model_update = 1 | dist_metric = euclidean | topk = 10 #\n",
      "##############################################################\n",
      "╒════╤═════════╤═══════════╤═════════════════╤════════════════╤════════════════╤═════════════════╤════════════════╤════════════════╤═════════════════════════╕\n",
      "│    │    rmse │   cos_sim │   euc_rank_mean │   euc_rank_std │   euc_rank_tot │   cos_rank_mean │   cos_rank_std │   cos_rank_tot │ time(epoch_start-now)   │\n",
      "╞════╪═════════╪═══════════╪═════════════════╪════════════════╪════════════════╪═════════════════╪════════════════╪════════════════╪═════════════════════════╡\n",
      "│ 45 │ 3.35452 │  0.781305 │          90.365 │        272.997 │        334.876 │         84.9962 │        264.749 │        334.876 │ 10.80 min               │\n",
      "╘════╧═════════╧═══════════╧═════════════════╧════════════════╧════════════════╧═════════════════╧════════════════╧════════════════╧═════════════════════════╛\n",
      "\n"
     ]
    },
    {
     "name": "stderr",
     "output_type": "stream",
     "text": [
      "100%|████████████████████████████████████████████████████████████████| 44/44 [00:04<00:00, 10.63it/s]\n"
     ]
    },
    {
     "name": "stdout",
     "output_type": "stream",
     "text": [
      "Epoch 46/50. Batch 86272/86373. Actor loss = 11.786266 || critic loss = 0.011962\n",
      "\n",
      "##############################################################\n",
      "# emb_model_update = 1 | dist_metric = euclidean | topk = 10 #\n",
      "##############################################################\n",
      "╒════╤═════════╤═══════════╤═════════════════╤════════════════╤════════════════╤═════════════════╤════════════════╤════════════════╤═════════════════════════╕\n",
      "│    │    rmse │   cos_sim │   euc_rank_mean │   euc_rank_std │   euc_rank_tot │   cos_rank_mean │   cos_rank_std │   cos_rank_tot │ time(epoch_start-now)   │\n",
      "╞════╪═════════╪═══════════╪═════════════════╪════════════════╪════════════════╪═════════════════╪════════════════╪════════════════╪═════════════════════════╡\n",
      "│ 46 │ 3.36617 │  0.779982 │         89.2389 │        268.757 │        334.876 │         83.6171 │        259.713 │        334.876 │ 10.68 min               │\n",
      "╘════╧═════════╧═══════════╧═════════════════╧════════════════╧════════════════╧═════════════════╧════════════════╧════════════════╧═════════════════════════╛\n",
      "\n"
     ]
    },
    {
     "name": "stderr",
     "output_type": "stream",
     "text": [
      "100%|████████████████████████████████████████████████████████████████| 44/44 [00:04<00:00, 10.40it/s]\n"
     ]
    },
    {
     "name": "stdout",
     "output_type": "stream",
     "text": [
      "Epoch 47/50. Batch 86272/86373. Actor loss = 11.907191 || critic loss = 0.011037\n",
      "\n",
      "##############################################################\n",
      "# emb_model_update = 1 | dist_metric = euclidean | topk = 10 #\n",
      "##############################################################\n",
      "╒════╤═════════╤═══════════╤═════════════════╤════════════════╤════════════════╤═════════════════╤════════════════╤════════════════╤═════════════════════════╕\n",
      "│    │    rmse │   cos_sim │   euc_rank_mean │   euc_rank_std │   euc_rank_tot │   cos_rank_mean │   cos_rank_std │   cos_rank_tot │ time(epoch_start-now)   │\n",
      "╞════╪═════════╪═══════════╪═════════════════╪════════════════╪════════════════╪═════════════════╪════════════════╪════════════════╪═════════════════════════╡\n",
      "│ 47 │ 3.33668 │  0.781435 │         89.3218 │        268.524 │        334.876 │         83.4443 │        258.563 │        334.876 │ 10.67 min               │\n",
      "╘════╧═════════╧═══════════╧═════════════════╧════════════════╧════════════════╧═════════════════╧════════════════╧════════════════╧═════════════════════════╛\n",
      "\n"
     ]
    },
    {
     "name": "stderr",
     "output_type": "stream",
     "text": [
      "100%|████████████████████████████████████████████████████████████████| 44/44 [00:04<00:00, 10.04it/s]\n"
     ]
    },
    {
     "name": "stdout",
     "output_type": "stream",
     "text": [
      "Epoch 48/50. Batch 86272/86373. Actor loss = 11.798906 || critic loss = 0.010087\n",
      "\n",
      "##############################################################\n",
      "# emb_model_update = 1 | dist_metric = euclidean | topk = 10 #\n",
      "##############################################################\n",
      "╒════╤═════════╤═══════════╤═════════════════╤════════════════╤════════════════╤═════════════════╤════════════════╤════════════════╤═════════════════════════╕\n",
      "│    │    rmse │   cos_sim │   euc_rank_mean │   euc_rank_std │   euc_rank_tot │   cos_rank_mean │   cos_rank_std │   cos_rank_tot │ time(epoch_start-now)   │\n",
      "╞════╪═════════╪═══════════╪═════════════════╪════════════════╪════════════════╪═════════════════╪════════════════╪════════════════╪═════════════════════════╡\n",
      "│ 48 │ 3.36001 │   0.77778 │         91.6609 │        276.357 │        334.876 │         85.5564 │        265.919 │        334.876 │ 10.72 min               │\n",
      "╘════╧═════════╧═══════════╧═════════════════╧════════════════╧════════════════╧═════════════════╧════════════════╧════════════════╧═════════════════════════╛\n",
      "\n"
     ]
    },
    {
     "name": "stderr",
     "output_type": "stream",
     "text": [
      "100%|████████████████████████████████████████████████████████████████| 44/44 [00:04<00:00,  9.77it/s]\n"
     ]
    },
    {
     "name": "stdout",
     "output_type": "stream",
     "text": [
      "Epoch 49/50. Batch 86272/86373. Actor loss = 11.840937 || critic loss = 0.012369\n",
      "\n",
      "##############################################################\n",
      "# emb_model_update = 1 | dist_metric = euclidean | topk = 10 #\n",
      "##############################################################\n",
      "╒════╤════════╤═══════════╤═════════════════╤════════════════╤════════════════╤═════════════════╤════════════════╤════════════════╤═════════════════════════╕\n",
      "│    │   rmse │   cos_sim │   euc_rank_mean │   euc_rank_std │   euc_rank_tot │   cos_rank_mean │   cos_rank_std │   cos_rank_tot │ time(epoch_start-now)   │\n",
      "╞════╪════════╪═══════════╪═════════════════╪════════════════╪════════════════╪═════════════════╪════════════════╪════════════════╪═════════════════════════╡\n",
      "│ 49 │ 3.3274 │  0.779723 │          89.871 │        269.782 │        334.876 │         84.4287 │        261.092 │        334.876 │ 10.65 min               │\n",
      "╘════╧════════╧═══════════╧═════════════════╧════════════════╧════════════════╧═════════════════╧════════════════╧════════════════╧═════════════════════════╛\n",
      "\n"
     ]
    },
    {
     "name": "stderr",
     "output_type": "stream",
     "text": [
      "100%|████████████████████████████████████████████████████████████████| 44/44 [00:04<00:00, 10.52it/s]\n"
     ]
    },
    {
     "name": "stdout",
     "output_type": "stream",
     "text": [
      "Epoch 50/50. Batch 86272/86373. Actor loss = 11.713703 || critic loss = 0.009756\n",
      "\n",
      "##############################################################\n",
      "# emb_model_update = 1 | dist_metric = euclidean | topk = 10 #\n",
      "##############################################################\n",
      "╒════╤═════════╤═══════════╤═════════════════╤════════════════╤════════════════╤═════════════════╤════════════════╤════════════════╤═════════════════════════╕\n",
      "│    │    rmse │   cos_sim │   euc_rank_mean │   euc_rank_std │   euc_rank_tot │   cos_rank_mean │   cos_rank_std │   cos_rank_tot │ time(epoch_start-now)   │\n",
      "╞════╪═════════╪═══════════╪═════════════════╪════════════════╪════════════════╪═════════════════╪════════════════╪════════════════╪═════════════════════════╡\n",
      "│ 50 │ 3.33666 │  0.780132 │         91.9317 │         275.54 │        334.876 │         85.5585 │        265.066 │        334.876 │ 10.65 min               │\n",
      "╘════╧═════════╧═══════════╧═════════════════╧════════════════╧════════════════╧═════════════════╧════════════════╧════════════════╧═════════════════════════╛\n",
      "\n"
     ]
    },
    {
     "name": "stderr",
     "output_type": "stream",
     "text": [
      "100%|████████████████████████████████████████████████████████████████| 44/44 [00:04<00:00,  9.74it/s]\n"
     ]
    },
    {
     "name": "stdout",
     "output_type": "stream",
     "text": [
      "Saved model at models/supervised/offlineRL/emb_model_update=1||steps=5||topk=10\n"
     ]
    },
    {
     "data": {
      "image/png": "[encoded data removed]",
      "text/plain": [
       "<Figure size 800x800 with 1 Axes>"
      ]
     },
     "metadata": {},
     "output_type": "display_data"
    }
   ],
   "source": [
    "actor_lr = 3e-4\n",
    "critic_lr = 1e-3\n",
    "epochs = 50\n",
    "batch_size = 128\n",
    "distance_metric, topk, emb_model_update = \"euclidean\", 10, 1\n",
    "\n",
    "\n",
    "# Model inits\n",
    "model = ActorCritic().to(device)\n",
    "actor_optimizer = torch.optim.Adam(model.parameters(), lr=actor_lr)  \n",
    "critic_optimizer = torch.optim.Adam(model.parameters(), lr=critic_lr)  \n",
    "critic_loss_criterion = nn.MSELoss()\n",
    "\n",
    "# For actor log prob calc\n",
    "actor_log_std = nn.Parameter(torch.zeros(model.actor.last_layer.out_features, dtype=torch.float32)).to(device)\n",
    "\n",
    "# Embeddings init\n",
    "embedding_model = torch.load(\"models/zinc2m_gin.pth\").to(device)\n",
    "embedding_model.load_state_dict(model.GIN.state_dict())\n",
    "action_embeddings = get_action_dataset_embeddings(embedding_model)\n",
    "action_embeddings_norm = torch.linalg.norm(action_embeddings, axis=1)\n",
    "\n",
    "# Some helper inits\n",
    "best_rank = 10000\n",
    "best_model = None\n",
    "metric_dict = {\"cos_rank_mean\": [], \"euc_rank_mean\": [], \"cos_rank_std\": [], \"euc_rank_std\": [], \n",
    "               \"cos_rank_tot\": [], \"euc_rank_tot\": [], \"rmse\": [], \"cos_sim\": [], \"time(epoch_start-now)\": []}\n",
    "\n",
    "# Train the model\n",
    "for epoch in range(1, epochs+1):\n",
    "    start_time = time.time()\n",
    "    model.train()\n",
    "    for i in range(0, train_reactants.batch_size - batch_size, batch_size):\n",
    "        # Forward pass\n",
    "        actor_actions, critic_qs = model(train_reactants[i:i+batch_size], train_products[i:i+batch_size], train_rsigs[i:i+batch_size], train_psigs[i:i+batch_size])\n",
    "\n",
    "        # Calc negatives\n",
    "        negative_indices = []\n",
    "\n",
    "        for _i in range(actor_actions.shape[0]):\n",
    "            correct_action_dataset_index = correct_action_dataset_indices[train_idx[i+_i]]\n",
    "            curr_out = actor_actions[_i].detach()\n",
    "            dist = torch.linalg.norm(action_embeddings - curr_out, axis=1)\n",
    "            sorted_idx = torch.argsort(dist)[:topk] # get topk\n",
    "            sorted_idx = sorted_idx[sorted_idx != correct_action_dataset_index] # Remove if correct index in list\n",
    "            negative_indices.append(sorted_idx)\n",
    "\n",
    "        # critic update\n",
    "        batch_reactants = train_reactants[sum([[i+_i]*(1+negative_indices[_i].shape[0]) for _i in range(actor_actions.shape[0])], [])]\n",
    "        batch_products = train_products[sum([[i+_i]*(1+negative_indices[_i].shape[0]) for _i in range(actor_actions.shape[0])], [])]\n",
    "        batch_rsigs = action_rsigs[sum([[correct_action_dataset_indices[train_idx[i+_i]]] + negative_indices[_i].tolist() for _i in range(actor_actions.shape[0])], [])]\n",
    "        batch_psigs = action_psigs[sum([[correct_action_dataset_indices[train_idx[i+_i]]] + negative_indices[_i].tolist() for _i in range(actor_actions.shape[0])], [])]\n",
    "        batch_q_targets = torch.Tensor(sum([[1] + [0] * negative_indices[_i].shape[0] for _i in range(actor_actions.shape[0])], [])).view(-1, 1)\n",
    "\n",
    "\n",
    "        critic_qs = model(batch_reactants.to(device), batch_products.to(device), batch_rsigs.to(device), batch_psigs.to(device), \"critic\")\n",
    "        critic_loss = critic_loss_criterion(critic_qs, batch_q_targets.to(device))\n",
    "        critic_optimizer.zero_grad()\n",
    "        critic_loss.backward()\n",
    "        critic_optimizer.step()\n",
    "\n",
    "        # actor update\n",
    "        actor_actions = model(train_reactants[i:i+batch_size], train_products[i:i+batch_size], train_rsigs[i:i+batch_size], train_psigs[i:i+batch_size], \"actor\")\n",
    "        normal_dist = torch.distributions.Normal(actor_actions, actor_log_std.exp())\n",
    "        positives = get_action_embedding_from_packed_molecule(embedding_model, train_rsigs[i:i+batch_size], train_psigs[i:i+batch_size])\n",
    "        positive_log_pi = normal_dist.log_prob(positives)\n",
    "        negative_log_pi = []\n",
    "        for _i, _indices in enumerate(negative_indices):\n",
    "            normal_dist = torch.distributions.Normal(actor_actions[_i], actor_log_std.exp())\n",
    "            negative_log_pi.append(normal_dist.log_prob(action_embeddings[_indices]))\n",
    "        negative_log_pi = torch.concatenate(negative_log_pi, axis=0)\n",
    "        \n",
    "        actor_loss = torch.concatenate([-positive_log_pi, (1/(topk*2))*negative_log_pi], axis=0).sum(-1, keepdim=True).mean() # Using R = 1 for positives, and R = -0.1 for negatives \n",
    "        \n",
    "        actor_optimizer.zero_grad()\n",
    "        actor_loss.backward()\n",
    "        actor_optimizer.step()\n",
    "\n",
    "        # Emptry any cache (free GPU memory)\n",
    "        torch.cuda.empty_cache()\n",
    "\n",
    "    print (f'Epoch {epoch}/{epochs}. Batch {i}/{train_reactants.batch_size - batch_size}. Actor loss = {actor_loss.item():.6f} || critic loss = {critic_loss.item():.6f}')#, end='\\r')\n",
    "\n",
    "    # SWITCH INDENT HERE ----\n",
    "    model.eval()\n",
    "    with torch.no_grad():\n",
    "        print()\n",
    "\n",
    "        margin_string = f\"# emb_model_update = {emb_model_update} | dist_metric = {distance_metric} | topk = {topk} #\"\n",
    "        print(\"#\" * len(margin_string))\n",
    "        print(margin_string)\n",
    "        print(\"#\" * len(margin_string))\n",
    "\n",
    "        # Predictions and action component-wise loss\n",
    "        pred = torch.concatenate([model(test_reactants[i:i+batch_size], test_products[i:i+batch_size], test_rsigs[i:i+batch_size], test_psigs[i:i+batch_size])[0].detach() for i in range(0, test_reactants.batch_size-batch_size, batch_size)], axis=0)\n",
    "        true = get_action_embedding_from_packed_molecule(embedding_model, test_rsigs[:pred.shape[0]], test_psigs[:pred.shape[0]]) #get_action_embedding(embedding_model, main_df.iloc[test_idx][main_df.columns[1:-1]])\n",
    "\n",
    "        metric_df = pd.DataFrame(columns=[\"rmse\", \"cos_sim\", \"euc_rank_mean\", \"euc_rank_std\", \"euc_rank_tot\", \"cos_rank_mean\", \"cos_rank_std\", \"cos_rank_tot\", \"time(epoch_start-now)\"])\n",
    "\n",
    "        # Print Test metrics\n",
    "        metric_dict[\"rmse\"].append( (((pred-true)**2).sum(axis=1)**0.5).mean().item() )\n",
    "        metric_dict[\"cos_sim\"].append( ((pred*true).sum(axis=1) / torch.linalg.norm(pred, axis=1) / torch.linalg.norm(true, axis=1)).mean().item() )\n",
    "\n",
    "        # Print Test metric - Rank\n",
    "        for dist in [\"euclidean\", \"cosine\"]:\n",
    "            rank_list = []\n",
    "            l = []\n",
    "            total = []\n",
    "            for i in range(pred.shape[0]):\n",
    "                pred_for_i = pred[i]\n",
    "                act_emb_for_i, correct_applicable_index = action_embeddings[action_embedding_indices[test_idx[i]]], correct_applicable_indices[test_idx[i]]\n",
    "\n",
    "                rank, list_of_indices = get_ranking(pred_for_i, act_emb_for_i, correct_applicable_index, distance=dist)\n",
    "                l.append(rank.item())\n",
    "                total.append(act_emb_for_i.shape[0])\n",
    "            rank_list.append(f\"{np.mean(l):.4f}({np.mean(total)}) +- {np.std(l):.4f}\")\n",
    "            metric_dict[f\"{dist[:3]}_rank_mean\"].append(np.mean(l))\n",
    "            metric_dict[f\"{dist[:3]}_rank_std\"].append(np.std(l))\n",
    "            metric_dict[f\"{dist[:3]}_rank_tot\"].append(np.mean(total))\n",
    "\n",
    "        metric_dict[\"time(epoch_start-now)\"].append(f\"{(time.time()-start_time)/60:.2f} min\")\n",
    "        for col in metric_df.columns:\n",
    "            metric_df[col] = [metric_dict[col][-1]]\n",
    "        metric_df.index = [epoch]\n",
    "        print(tabulate(metric_df, headers='keys', tablefmt='fancy_grid'))\n",
    "        print()\n",
    "\n",
    "    # Update embedding model and action_embeddings\n",
    "    if epoch % emb_model_update == 0:\n",
    "        embedding_model.load_state_dict(model.GIN.state_dict())\n",
    "        action_embeddings = get_action_dataset_embeddings(embedding_model)\n",
    "        action_embeddings_norm = torch.linalg.norm(action_embeddings, axis=1)\n",
    "\n",
    "    # Update best model\n",
    "    if metric_dict[\"euc_rank_mean\"][-1] < best_rank:\n",
    "        best_rank = metric_dict[\"euc_rank_mean\"][-1]\n",
    "        best_model = type(model)()\n",
    "        best_model.load_state_dict(model.state_dict())\n",
    "        best_epoch = epoch\n",
    "        print(f\"BEST MODEL UPDATED! BEST RANK = {best_rank}\")\n",
    "\n",
    "fig = plt.figure(figsize=(8, 8))\n",
    "for dist in filter(lambda x: \"mean\" in x, metric_dict.keys()):\n",
    "    plt.plot(metric_dict[dist], label=dist)\n",
    "plt.title(f\"Offline RL (steps={steps})\")\n",
    "plt.xlabel(\"epoch\")\n",
    "plt.ylabel(\"ranking\")\n",
    "plt.legend()\n",
    "fig.show()\n",
    "\n",
    "# save everything\n",
    "folder = f\"models/supervised/offlineRL/emb_model_update={emb_model_update}||steps={steps}||topk={topk}\"\n",
    "os.makedirs(folder, exist_ok = True)\n",
    "torch.save(model, os.path.join(folder, \"model.pth\"))\n",
    "pd.DataFrame.from_dict(metric_dict).to_csv(os.path.join(folder, \"metrics.csv\"))\n",
    "fig.savefig(os.path.join(folder, \"plot.png\"))\n",
    "json.dump({\n",
    "    \"steps(trajectory length)\": steps,\n",
    "    \"actor_lr\": actor_lr,\n",
    "    \"critic_lr\": critic_lr,\n",
    "    \"epochs\": epochs, \n",
    "    \"batch_size\": batch_size,\n",
    "    \"train_samples\": train_idx.shape,\n",
    "    \"test_samples\": test_idx.shape,\n",
    "    \"distance_metric\": distance_metric,\n",
    "    \"topk\": topk,\n",
    "    \"emb_model_update\": emb_model_update,\n",
    "    \"best_epoch\": best_epoch,\n",
    "    \"best_rank\": best_rank\n",
    "}, open(os.path.join(folder, \"config.txt\"), 'w'))\n",
    "print(\"Saved model at\", folder)"
   ]
  },
  {
   "cell_type": "code",
   "execution_count": null,
   "id": "25bfa499",
   "metadata": {},
   "outputs": [],
   "source": []
  }
 ],
 "metadata": {
  "kernelspec": {
   "display_name": "Python 3 (ipykernel)",
   "language": "python",
   "name": "python3"
  },
  "language_info": {
   "codemirror_mode": {
    "name": "ipython",
    "version": 3
   },
   "file_extension": ".py",
   "mimetype": "text/x-python",
   "name": "python",
   "nbconvert_exporter": "python",
   "pygments_lexer": "ipython3",
   "version": "3.7.16"
  }
 },
 "nbformat": 4,
 "nbformat_minor": 5
}
