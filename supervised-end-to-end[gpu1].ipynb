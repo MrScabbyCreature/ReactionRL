{
 "cells": [
  {
   "cell_type": "code",
   "execution_count": 1,
   "id": "c1cfa57a",
   "metadata": {
    "tags": []
   },
   "outputs": [],
   "source": [
    "%run supervised_functions.ipynb"
   ]
  },
  {
   "cell_type": "markdown",
   "id": "987f78db",
   "metadata": {
    "tags": []
   },
   "source": [
    "# Generate data"
   ]
  },
  {
   "cell_type": "code",
   "execution_count": 2,
   "id": "93d77759",
   "metadata": {},
   "outputs": [],
   "source": [
    "start_mols = pickle.load(open(\"datasets/my_uspto/unique_start_mols.pickle\", 'rb'))"
   ]
  },
  {
   "cell_type": "code",
   "execution_count": 3,
   "id": "660f7320",
   "metadata": {
    "scrolled": true,
    "tags": []
   },
   "outputs": [
    {
     "name": "stderr",
     "output_type": "stream",
     "text": [
      "108306it [02:00, 896.62it/s]                                                                         \n"
     ]
    },
    {
     "name": "stdout",
     "output_type": "stream",
     "text": [
      "(108306, 10)\n",
      "(108306, 10)\n"
     ]
    }
   ],
   "source": [
    "np.random.seed(42)\n",
    "\n",
    "N = 100000\n",
    "steps = 5\n",
    "\n",
    "df_list = []\n",
    "final_shape = 0\n",
    "smiles_per_random_sample = 1000\n",
    "pool_chunk_size = 10\n",
    "\n",
    "# Create dataset for multi-step pred\n",
    "with Pool(30) as p, tqdm.tqdm(total=N) as pbar:\n",
    "    while final_shape < N:\n",
    "        smiles = np.random.choice(start_mols, size=(smiles_per_random_sample,))\n",
    "\n",
    "        for new_df in p.imap_unordered(functools.partial(generate_train_data, steps=steps), smiles, chunksize=10):\n",
    "            df_list.append(new_df)\n",
    "            final_shape += new_df.shape[0]\n",
    "            \n",
    "        pbar.update(final_shape - pbar.n)\n",
    "\n",
    "main_df = pd.concat(df_list)\n",
    "del df_list\n",
    "print(main_df.shape)\n",
    "\n",
    "# randomize\n",
    "main_df = pd.concat([main_df[:int(main_df.shape[0]*0.8)].sample(frac=1), main_df[int(main_df.shape[0]*0.8):].sample(frac=1)])\n",
    "print(main_df.shape)"
   ]
  },
  {
   "cell_type": "markdown",
   "id": "56d58b5a",
   "metadata": {},
   "source": [
    "# Neural Network!"
   ]
  },
  {
   "cell_type": "code",
   "execution_count": 4,
   "id": "3432cfc9",
   "metadata": {
    "tags": []
   },
   "outputs": [],
   "source": [
    "device = torch.device(\"cuda:1\" if torch.cuda.is_available() else \"cpu\")"
   ]
  },
  {
   "cell_type": "code",
   "execution_count": 5,
   "id": "48289f6d",
   "metadata": {
    "tags": []
   },
   "outputs": [
    {
     "name": "stdout",
     "output_type": "stream",
     "text": [
      "Epoch 1, Loss: 23433.7715\n",
      "Epoch 2, Loss: 13453.0000\n",
      "Epoch 3, Loss: 4567.4375\n",
      "Epoch 4, Loss: 1058.8438\n",
      "Epoch 5, Loss: 364.7165\n",
      "Epoch 6, Loss: 258.4317\n",
      "Epoch 7, Loss: 251.2782\n",
      "Epoch 8, Loss: 248.9837\n",
      "Epoch 9, Loss: 244.6840\n",
      "Epoch 10, Loss: 246.2561\n",
      "\n",
      "FINAL TEST LOSS: 65.92863464355469\n",
      "CPU times: user 7.36 s, sys: 899 ms, total: 8.26 s\n",
      "Wall time: 4.21 s\n"
     ]
    },
    {
     "data": {
      "text/plain": [
       "NeuralNet(\n",
       "  (fc1): Linear(in_features=20, out_features=20, bias=True)\n",
       "  (bn1): BatchNorm1d(20, eps=1e-05, momentum=0.1, affine=True, track_running_stats=True)\n",
       "  (relu): ReLU()\n",
       "  (hidden_layers): ModuleList(\n",
       "    (0): Linear(in_features=20, out_features=20, bias=True)\n",
       "    (1): BatchNorm1d(20, eps=1e-05, momentum=0.1, affine=True, track_running_stats=True)\n",
       "    (2): ReLU()\n",
       "    (3): Linear(in_features=20, out_features=20, bias=True)\n",
       "    (4): BatchNorm1d(20, eps=1e-05, momentum=0.1, affine=True, track_running_stats=True)\n",
       "    (5): ReLU()\n",
       "  )\n",
       "  (last_layer): Linear(in_features=20, out_features=1, bias=True)\n",
       ")"
      ]
     },
     "execution_count": 5,
     "metadata": {},
     "output_type": "execute_result"
    }
   ],
   "source": [
    "from sklearn.datasets import make_regression\n",
    "x, y = make_regression(n_samples=5000, n_features=20, noise=2, random_state=42)\n",
    "y = y.reshape(-1, 1)\n",
    "\n",
    "batch_size = 64\n",
    "\n",
    "%time train(x, y, num_hidden=2, hidden_size=20, lr=1e-2, epochs=10)"
   ]
  },
  {
   "cell_type": "markdown",
   "id": "e662cf55",
   "metadata": {},
   "source": [
    "# Embedding type 2 - GIN training using attribute masking on clintox"
   ]
  },
  {
   "cell_type": "code",
   "execution_count": 6,
   "id": "a32366ba",
   "metadata": {
    "tags": []
   },
   "outputs": [],
   "source": [
    "model_name = \"models/zinc2m_gin.pth\"\n",
    "gin_model = torch.load(model_name).to(device)"
   ]
  },
  {
   "cell_type": "code",
   "execution_count": 7,
   "id": "a6003605",
   "metadata": {
    "scrolled": false
   },
   "outputs": [
    {
     "name": "stderr",
     "output_type": "stream",
     "text": [
      "  0%|                                                                         | 0/85 [00:00<?, ?it/s]/home/abhor/miniconda3/envs/de_novo/lib/python3.7/site-packages/torchdrug-0.2.0-py3.7.egg/torchdrug/data/feature.py:42: UserWarning: Unknown value `Li`\n",
      "  warnings.warn(\"Unknown value `%s`\" % x)\n",
      "  4%|██▎                                                              | 3/85 [00:11<05:15,  3.85s/it]/home/abhor/miniconda3/envs/de_novo/lib/python3.7/site-packages/torchdrug-0.2.0-py3.7.egg/torchdrug/data/feature.py:42: UserWarning: Unknown value `Ga`\n",
      "  warnings.warn(\"Unknown value `%s`\" % x)\n",
      "/home/abhor/miniconda3/envs/de_novo/lib/python3.7/site-packages/torchdrug-0.2.0-py3.7.egg/torchdrug/data/feature.py:42: UserWarning: Unknown value `Na`\n",
      "  warnings.warn(\"Unknown value `%s`\" % x)\n",
      " 11%|██████▉                                                          | 9/85 [00:36<05:11,  4.10s/it]/home/abhor/miniconda3/envs/de_novo/lib/python3.7/site-packages/torchdrug-0.2.0-py3.7.egg/torchdrug/data/feature.py:42: UserWarning: Unknown value `Pb`\n",
      "  warnings.warn(\"Unknown value `%s`\" % x)\n",
      " 14%|█████████                                                       | 12/85 [00:48<05:06,  4.20s/it]/home/abhor/miniconda3/envs/de_novo/lib/python3.7/site-packages/torchdrug-0.2.0-py3.7.egg/torchdrug/data/feature.py:42: UserWarning: Unknown value `Cd`\n",
      "  warnings.warn(\"Unknown value `%s`\" % x)\n",
      "100%|████████████████████████████████████████████████████████████████| 85/85 [05:53<00:00,  4.16s/it]\n"
     ]
    },
    {
     "data": {
      "text/plain": [
       "torch.Size([87040, 256])"
      ]
     },
     "execution_count": 7,
     "metadata": {},
     "output_type": "execute_result"
    }
   ],
   "source": [
    "batch_size = 1024\n",
    "X = []\n",
    "for i in tqdm.tqdm(range(0, int(main_df.shape[0]*0.8), batch_size)):\n",
    "    reactants = main_df[\"reactant\"][i:i+batch_size]\n",
    "    products = main_df[\"product\"][i:i+batch_size]\n",
    "    X.append(torch.concatenate([get_mol_embedding(gin_model, reactants), get_mol_embedding(gin_model, products)], axis=1))\n",
    "X = torch.concatenate(X, axis=0)\n",
    "emb_len = X.shape[1]//2\n",
    "X.shape"
   ]
  },
  {
   "cell_type": "code",
   "execution_count": 8,
   "id": "14ab411d",
   "metadata": {},
   "outputs": [
    {
     "name": "stderr",
     "output_type": "stream",
     "text": [
      "100%|████████████████████████████████████████████████████████████████| 85/85 [03:17<00:00,  2.33s/it]\n"
     ]
    },
    {
     "data": {
      "text/plain": [
       "torch.Size([87040, 256])"
      ]
     },
     "execution_count": 8,
     "metadata": {},
     "output_type": "execute_result"
    }
   ],
   "source": [
    "Y = []\n",
    "for i in tqdm.tqdm(range(0, int(main_df.shape[0]*0.8), batch_size)):\n",
    "    Y.append(get_action_embedding(gin_model, main_df.iloc[i:i+batch_size][main_df.columns[1:-1]]))\n",
    "Y = torch.concatenate(Y)\n",
    "Y.shape"
   ]
  },
  {
   "cell_type": "markdown",
   "id": "32d1c369",
   "metadata": {},
   "source": [
    "### MSE training"
   ]
  },
  {
   "cell_type": "code",
   "execution_count": 9,
   "id": "04ffae30",
   "metadata": {
    "scrolled": true
   },
   "outputs": [
    {
     "name": "stdout",
     "output_type": "stream",
     "text": [
      "Epoch 1, Loss: 0.0922\n",
      "Epoch 2, Loss: 0.0796\n",
      "Epoch 3, Loss: 0.0698\n",
      "Epoch 4, Loss: 0.0618\n",
      "Epoch 5, Loss: 0.0559\n",
      "Epoch 6, Loss: 0.0510\n",
      "Epoch 7, Loss: 0.0475\n",
      "Epoch 8, Loss: 0.0460\n",
      "Epoch 9, Loss: 0.0442\n",
      "Epoch 10, Loss: 0.0402\n",
      "Epoch 11, Loss: 0.0372\n",
      "Epoch 12, Loss: 0.0359\n",
      "Epoch 13, Loss: 0.0344\n",
      "Epoch 14, Loss: 0.0326\n",
      "Epoch 15, Loss: 0.0317\n",
      "Epoch 16, Loss: 0.0302\n",
      "Epoch 17, Loss: 0.0293\n",
      "Epoch 18, Loss: 0.0292\n",
      "Epoch 19, Loss: 0.0277\n",
      "Epoch 20, Loss: 0.0268\n",
      "Epoch 21, Loss: 0.0259\n",
      "Epoch 22, Loss: 0.0248\n",
      "Epoch 23, Loss: 0.0237\n",
      "Epoch 24, Loss: 0.0231\n",
      "Epoch 25, Loss: 0.0223\n",
      "Epoch 26, Loss: 0.0213\n",
      "Epoch 27, Loss: 0.0214\n",
      "Epoch 28, Loss: 0.0212\n",
      "Epoch 29, Loss: 0.0207\n",
      "Epoch 30, Loss: 0.0203\n",
      "Epoch 31, Loss: 0.0203\n",
      "Epoch 32, Loss: 0.0197\n",
      "Epoch 33, Loss: 0.0188\n",
      "Epoch 34, Loss: 0.0183\n",
      "Epoch 35, Loss: 0.0178\n",
      "Epoch 36, Loss: 0.0173\n",
      "Epoch 37, Loss: 0.0170\n",
      "Epoch 38, Loss: 0.0171\n",
      "Epoch 39, Loss: 0.0167\n",
      "Epoch 40, Loss: 0.0166\n",
      "Epoch 41, Loss: 0.0163\n",
      "Epoch 42, Loss: 0.0160\n",
      "Epoch 43, Loss: 0.0161\n",
      "Epoch 44, Loss: 0.0157\n",
      "Epoch 45, Loss: 0.0154\n",
      "Epoch 46, Loss: 0.0153\n",
      "Epoch 47, Loss: 0.0155\n",
      "Epoch 48, Loss: 0.0154\n",
      "Epoch 49, Loss: 0.0148\n",
      "Epoch 50, Loss: 0.0148\n",
      "Epoch 51, Loss: 0.0145\n",
      "Epoch 52, Loss: 0.0137\n",
      "Epoch 53, Loss: 0.0139\n",
      "Epoch 54, Loss: 0.0137\n",
      "Epoch 55, Loss: 0.0134\n",
      "Epoch 56, Loss: 0.0136\n",
      "Epoch 57, Loss: 0.0132\n",
      "Epoch 58, Loss: 0.0130\n",
      "Epoch 59, Loss: 0.0129\n",
      "Epoch 60, Loss: 0.0129\n",
      "Epoch 61, Loss: 0.0130\n",
      "Epoch 62, Loss: 0.0127\n",
      "Epoch 63, Loss: 0.0125\n",
      "Epoch 64, Loss: 0.0123\n",
      "Epoch 65, Loss: 0.0121\n",
      "Epoch 66, Loss: 0.0116\n",
      "Epoch 67, Loss: 0.0115\n",
      "Epoch 68, Loss: 0.0116\n",
      "Epoch 69, Loss: 0.0117\n",
      "Epoch 70, Loss: 0.0115\n",
      "Epoch 71, Loss: 0.0114\n",
      "Epoch 72, Loss: 0.0114\n",
      "Epoch 73, Loss: 0.0112\n",
      "Epoch 74, Loss: 0.0112\n",
      "Epoch 75, Loss: 0.0116\n",
      "Epoch 76, Loss: 0.0115\n",
      "Epoch 77, Loss: 0.0112\n",
      "Epoch 78, Loss: 0.0112\n",
      "Epoch 79, Loss: 0.0108\n",
      "Epoch 80, Loss: 0.0108\n",
      "Epoch 81, Loss: 0.0107\n",
      "Epoch 82, Loss: 0.0105\n",
      "Epoch 83, Loss: 0.0105\n",
      "Epoch 84, Loss: 0.0106\n",
      "Epoch 85, Loss: 0.0103\n",
      "Epoch 86, Loss: 0.0105\n",
      "Epoch 87, Loss: 0.0102\n",
      "Epoch 88, Loss: 0.0101\n",
      "Epoch 89, Loss: 0.0103\n",
      "Epoch 90, Loss: 0.0099\n",
      "Epoch 91, Loss: 0.0100\n",
      "Epoch 92, Loss: 0.0097\n",
      "Epoch 93, Loss: 0.0097\n",
      "Epoch 94, Loss: 0.0096\n",
      "Epoch 95, Loss: 0.0098\n",
      "Epoch 96, Loss: 0.0095\n",
      "Epoch 97, Loss: 0.0095\n",
      "Epoch 98, Loss: 0.0101\n",
      "Epoch 99, Loss: 0.0096\n",
      "Epoch 100, Loss: 0.0094\n",
      "\n",
      "FINAL TEST LOSS: 0.04569922015070915\n"
     ]
    }
   ],
   "source": [
    "model = train(X, Y, hidden_size=500, num_hidden=3, lr=1e-3, epochs=100)"
   ]
  },
  {
   "cell_type": "code",
   "execution_count": 10,
   "id": "57264831",
   "metadata": {},
   "outputs": [],
   "source": [
    "torch.save(model, \"datasets/my_uspto/supervised_zinc_gin/mse_model.pth\")"
   ]
  },
  {
   "cell_type": "code",
   "execution_count": 11,
   "id": "ddae391d",
   "metadata": {},
   "outputs": [
    {
     "name": "stdout",
     "output_type": "stream",
     "text": [
      "(89384, 8)\n"
     ]
    },
    {
     "name": "stderr",
     "output_type": "stream",
     "text": [
      "/home/abhor/miniconda3/envs/de_novo/lib/python3.7/site-packages/torchdrug-0.2.0-py3.7.egg/torchdrug/data/feature.py:42: UserWarning: Unknown value `Ge`\n",
      "  warnings.warn(\"Unknown value `%s`\" % x)\n",
      "/home/abhor/miniconda3/envs/de_novo/lib/python3.7/site-packages/torchdrug-0.2.0-py3.7.egg/torchdrug/data/feature.py:42: UserWarning: Unknown value `K`\n",
      "  warnings.warn(\"Unknown value `%s`\" % x)\n",
      "/home/abhor/miniconda3/envs/de_novo/lib/python3.7/site-packages/torchdrug-0.2.0-py3.7.egg/torchdrug/data/feature.py:42: UserWarning: Unknown value `Ti`\n",
      "  warnings.warn(\"Unknown value `%s`\" % x)\n",
      "/home/abhor/miniconda3/envs/de_novo/lib/python3.7/site-packages/torchdrug-0.2.0-py3.7.egg/torchdrug/data/feature.py:42: UserWarning: Unknown value `Al`\n",
      "  warnings.warn(\"Unknown value `%s`\" % x)\n",
      "/home/abhor/miniconda3/envs/de_novo/lib/python3.7/site-packages/torchdrug-0.2.0-py3.7.egg/torchdrug/data/feature.py:42: UserWarning: Unknown value `Ru`\n",
      "  warnings.warn(\"Unknown value `%s`\" % x)\n",
      "/home/abhor/miniconda3/envs/de_novo/lib/python3.7/site-packages/torchdrug-0.2.0-py3.7.egg/torchdrug/data/feature.py:42: UserWarning: Unknown value `Ta`\n",
      "  warnings.warn(\"Unknown value `%s`\" % x)\n",
      "/home/abhor/miniconda3/envs/de_novo/lib/python3.7/site-packages/torchdrug-0.2.0-py3.7.egg/torchdrug/data/feature.py:42: UserWarning: Unknown value `As`\n",
      "  warnings.warn(\"Unknown value `%s`\" % x)\n",
      "/home/abhor/miniconda3/envs/de_novo/lib/python3.7/site-packages/torchdrug-0.2.0-py3.7.egg/torchdrug/data/feature.py:42: UserWarning: Unknown value `Cr`\n",
      "  warnings.warn(\"Unknown value `%s`\" % x)\n",
      "/home/abhor/miniconda3/envs/de_novo/lib/python3.7/site-packages/torchdrug-0.2.0-py3.7.egg/torchdrug/data/feature.py:42: UserWarning: Unknown value `Pt`\n",
      "  warnings.warn(\"Unknown value `%s`\" % x)\n",
      "100%|████████████████████████████████████████████████████████████████| 44/44 [00:05<00:00,  8.43it/s]"
     ]
    },
    {
     "name": "stdout",
     "output_type": "stream",
     "text": [
      "torch.Size([89384, 256])\n"
     ]
    },
    {
     "name": "stderr",
     "output_type": "stream",
     "text": [
      "\n"
     ]
    }
   ],
   "source": [
    "action_dataset = pd.read_csv(\"datasets/my_uspto/action_dataset-filtered.csv\", index_col=0)\n",
    "action_dataset = action_dataset.loc[action_dataset[\"action_tested\"] & action_dataset[\"action_works\"]]\n",
    "action_dataset = action_dataset[[\"rsub\", \"rcen\", \"rsig\", \"rbond\", \"psub\", \"pcen\", \"psig\", \"pbond\"]]\n",
    "print(action_dataset.shape)\n",
    "\n",
    "action_rsigs = data.Molecule.pack(list(map(molecule_from_smile, action_dataset[\"rsig\"])))\n",
    "action_psigs = data.Molecule.pack(list(map(molecule_from_smile, action_dataset[\"psig\"])))\n",
    "\n",
    "action_embeddings = get_action_dataset_embeddings(gin_model)\n",
    "print(action_embeddings.shape)"
   ]
  },
  {
   "cell_type": "markdown",
   "id": "bf33fb20",
   "metadata": {},
   "source": [
    "### Back to modeling"
   ]
  },
  {
   "cell_type": "code",
   "execution_count": 12,
   "id": "92e20cac",
   "metadata": {
    "scrolled": true
   },
   "outputs": [
    {
     "name": "stderr",
     "output_type": "stream",
     "text": [
      "100%|███████████████████████████████████████████████████████| 108306/108306 [04:18<00:00, 418.95it/s]\n"
     ]
    }
   ],
   "source": [
    "# I'm storing as lists, so doing numpy operations for the elements\n",
    "correct_applicable_indices = []\n",
    "correct_action_dataset_indices = []\n",
    "action_embedding_indices = []\n",
    "\n",
    "# for indices_used_for_data, correct_idx in tqdm.tqdm(map(get_emb_indices_and_correct_idx, main_df.iterrows()), total=main_df.shape[0]):\n",
    "with Pool(20) as p:\n",
    "    for indices_used_for_data, correct_app_idx, correct_act_idx in tqdm.tqdm(p.imap(get_emb_indices_and_correct_idx, main_df.iterrows(), chunksize=50), total=main_df.shape[0]):\n",
    "        action_embedding_indices.append(indices_used_for_data)\n",
    "        correct_applicable_indices.append(correct_app_idx)\n",
    "        correct_action_dataset_indices.append(correct_act_idx)"
   ]
  },
  {
   "cell_type": "code",
   "execution_count": 13,
   "id": "a56268a9",
   "metadata": {},
   "outputs": [
    {
     "name": "stderr",
     "output_type": "stream",
     "text": [
      "100%|████████████████████████████████████████████████████████████| 396/396 [00:00<00:00, 2666.88it/s]"
     ]
    },
    {
     "name": "stdout",
     "output_type": "stream",
     "text": [
      "99.63888888888889(295.29545454545456) +- 277.12641319746973  \n"
     ]
    },
    {
     "name": "stderr",
     "output_type": "stream",
     "text": [
      "\n"
     ]
    }
   ],
   "source": [
    "pred = model(torch.Tensor(X[int(main_df.shape[0]*0.8):]).to(device)).detach()\n",
    "l = []\n",
    "total = []\n",
    "for i in tqdm.tqdm(range(pred.shape[0])):\n",
    "    pred_for_i = pred[i]\n",
    "    act_emb_for_i, correct_applicable_index = action_embeddings[action_embedding_indices[int(main_df.shape[0]*0.8)+i]], correct_applicable_indices[int(main_df.shape[0]*0.8)+i]\n",
    "\n",
    "    rank, list_of_indices = get_ranking(pred_for_i, act_emb_for_i, correct_applicable_index, distance=\"euclidean\")\n",
    "    l.append(rank.item())\n",
    "    total.append(act_emb_for_i.shape[0])\n",
    "print(f\"{np.mean(l)}({np.mean(total)}) +- {np.std(l)}  \")\n"
   ]
  },
  {
   "cell_type": "code",
   "execution_count": 14,
   "id": "ae378842",
   "metadata": {},
   "outputs": [],
   "source": [
    "train_idx = np.arange(0, int(X.shape[0]*0.8))\n",
    "test_idx = np.arange(int(X.shape[0]*0.8), X.shape[0])"
   ]
  },
  {
   "cell_type": "code",
   "execution_count": 15,
   "id": "c09cc699",
   "metadata": {},
   "outputs": [
    {
     "name": "stdout",
     "output_type": "stream",
     "text": [
      "CPU times: user 6min 25s, sys: 20.5 s, total: 6min 46s\n",
      "Wall time: 6min 25s\n"
     ]
    }
   ],
   "source": [
    "%%time\n",
    "%matplotlib inline\n",
    "train_reactants = data.Molecule.pack(list(map(molecule_from_smile, main_df.iloc[train_idx][\"reactant\"]))).to(device)\n",
    "train_products = data.Molecule.pack(list(map(molecule_from_smile, main_df.iloc[train_idx][\"product\"]))).to(device)\n",
    "\n",
    "test_reactants = data.Molecule.pack(list(map(molecule_from_smile, main_df.iloc[test_idx][\"reactant\"]))).to(device)\n",
    "test_products = data.Molecule.pack(list(map(molecule_from_smile, main_df.iloc[test_idx][\"product\"]))).to(device)"
   ]
  },
  {
   "cell_type": "code",
   "execution_count": 16,
   "id": "9464d105",
   "metadata": {
    "scrolled": true
   },
   "outputs": [
    {
     "name": "stdout",
     "output_type": "stream",
     "text": [
      "@@@@@@@@@@@@@@@@@@@@@@@@@@@@@@@@@@@@@@@@@@@@@@@@@@@@@@@@@@@@@@@@@@@@@@@@@@@@@@@@@@@@@@@@@@@@@@@@@@@@@@@@@@@@@@@@@@@@@@@@@@@@@@@@@@@@@@@@@@@@@@@@@@@@@@@@@@@@@@@@@@@@@@@@@@@@@@@@@@@@@@@@@@@@@@\n",
      "@@@@@@@@@@@@@@@@@@@@@@@@@@@@@@@@@@@@@@@@@@@@@@@@@@@@@@@@@@@@@@@@@@@@@@@@@@@@@@@@@@@@@@@@@@@@@@@@@@@@@@@@@@@@@@@@@@@@@@@@@@@@@@@@@@@@@@@@@@@@@@@@@@@@@@@@@@@@@@@@@@@@@@@@@@@@@@@@@@@@@@@@@@@@@@\n",
      "@@@@@@@@@@@@@@@@@@@@@@@@@@@@@@@@@@@@@@@@@@@@@@@@@@@@@@@@@@@@@@@@@@@@@@@@@@@@@@@@@@@@@@@@@@@@@@@@@@@@@@@@@@@@@@@@@@@@@@@@@@@@@@@@@@@@@@@@@@@@@@@@@@@@@@@@@@@@@@@@@@@@@@@@@@@@@@@@@@@@@@@@@@@@@@\n"
     ]
    },
    {
     "name": "stderr",
     "output_type": "stream",
     "text": [
      "100%|████████████████████████████████████████████████████████████████| 44/44 [00:04<00:00,  9.25it/s]\n",
      "/home/abhor/miniconda3/envs/de_novo/lib/python3.7/site-packages/ipykernel_launcher.py:14: UserWarning: This overload of addmm_ is deprecated:\n",
      "\taddmm_(Number beta, Number alpha, Tensor mat1, Tensor mat2)\n",
      "Consider using one of the following signatures instead:\n",
      "\taddmm_(Tensor mat1, Tensor mat2, *, Number beta, Number alpha) (Triggered internally at /opt/conda/conda-bld/pytorch_1670525541035/work/torch/csrc/utils/python_arg_parser.cpp:1420.)\n",
      "  \n"
     ]
    },
    {
     "name": "stdout",
     "output_type": "stream",
     "text": [
      "3.895602(1)  \n",
      "#################################################################################\n",
      "# emb_model_update = 1 | -ve_method = all | dist_metric = euclidean | topk = 10 #\n",
      "#################################################################################\n",
      "╒════╤═════════╤═══════════╤═════════════════╤════════════════╤════════════════╤═════════════════╤════════════════╤════════════════╤═════════════════════════╕\n",
      "│    │    rmse │   cos_sim │   euc_rank_mean │   euc_rank_std │   euc_rank_tot │   cos_rank_mean │   cos_rank_std │   cos_rank_tot │ time(epoch_start-now)   │\n",
      "╞════╪═════════╪═══════════╪═════════════════╪════════════════╪════════════════╪═════════════════╪════════════════╪════════════════╪═════════════════════════╡\n",
      "│  1 │ 4.82443 │  0.772386 │         56.8926 │         192.59 │        332.528 │         50.3783 │        177.042 │        332.528 │ 6.98 min                │\n",
      "╘════╧═════════╧═══════════╧═════════════════╧════════════════╧════════════════╧═════════════════╧════════════════╧════════════════╧═════════════════════════╛\n",
      "\n"
     ]
    },
    {
     "name": "stderr",
     "output_type": "stream",
     "text": [
      "100%|████████████████████████████████████████████████████████████████| 44/44 [00:05<00:00,  8.65it/s]\n"
     ]
    },
    {
     "name": "stdout",
     "output_type": "stream",
     "text": [
      "BEST MODEL UPDATED! BEST RANK = 56.89263556985294\n",
      "3.530276(2)  \n",
      "#################################################################################\n",
      "# emb_model_update = 1 | -ve_method = all | dist_metric = euclidean | topk = 10 #\n",
      "#################################################################################\n",
      "╒════╤═════════╤═══════════╤═════════════════╤════════════════╤════════════════╤═════════════════╤════════════════╤════════════════╤═════════════════════════╕\n",
      "│    │    rmse │   cos_sim │   euc_rank_mean │   euc_rank_std │   euc_rank_tot │   cos_rank_mean │   cos_rank_std │   cos_rank_tot │ time(epoch_start-now)   │\n",
      "╞════╪═════════╪═══════════╪═════════════════╪════════════════╪════════════════╪═════════════════╪════════════════╪════════════════╪═════════════════════════╡\n",
      "│  2 │ 4.86547 │  0.779425 │         57.0268 │        196.739 │        332.528 │         50.3857 │        180.222 │        332.528 │ 6.57 min                │\n",
      "╘════╧═════════╧═══════════╧═════════════════╧════════════════╧════════════════╧═════════════════╧════════════════╧════════════════╧═════════════════════════╛\n",
      "\n"
     ]
    },
    {
     "name": "stderr",
     "output_type": "stream",
     "text": [
      "100%|████████████████████████████████████████████████████████████████| 44/44 [00:05<00:00,  8.57it/s]\n"
     ]
    },
    {
     "name": "stdout",
     "output_type": "stream",
     "text": [
      "2.815106(3)  \n",
      "#################################################################################\n",
      "# emb_model_update = 1 | -ve_method = all | dist_metric = euclidean | topk = 10 #\n",
      "#################################################################################\n",
      "╒════╤═════════╤═══════════╤═════════════════╤════════════════╤════════════════╤═════════════════╤════════════════╤════════════════╤═════════════════════════╕\n",
      "│    │    rmse │   cos_sim │   euc_rank_mean │   euc_rank_std │   euc_rank_tot │   cos_rank_mean │   cos_rank_std │   cos_rank_tot │ time(epoch_start-now)   │\n",
      "╞════╪═════════╪═══════════╪═════════════════╪════════════════╪════════════════╪═════════════════╪════════════════╪════════════════╪═════════════════════════╡\n",
      "│  3 │ 4.84113 │  0.782479 │         55.5047 │        191.361 │        332.528 │         49.1412 │        177.997 │        332.528 │ 6.12 min                │\n",
      "╘════╧═════════╧═══════════╧═════════════════╧════════════════╧════════════════╧═════════════════╧════════════════╧════════════════╧═════════════════════════╛\n",
      "\n"
     ]
    },
    {
     "name": "stderr",
     "output_type": "stream",
     "text": [
      "100%|████████████████████████████████████████████████████████████████| 44/44 [00:04<00:00,  9.13it/s]\n"
     ]
    },
    {
     "name": "stdout",
     "output_type": "stream",
     "text": [
      "BEST MODEL UPDATED! BEST RANK = 55.504710477941174\n",
      "2.206934(4)  \n",
      "#################################################################################\n",
      "# emb_model_update = 1 | -ve_method = all | dist_metric = euclidean | topk = 10 #\n",
      "#################################################################################\n",
      "╒════╤═════════╤═══════════╤═════════════════╤════════════════╤════════════════╤═════════════════╤════════════════╤════════════════╤═════════════════════════╕\n",
      "│    │    rmse │   cos_sim │   euc_rank_mean │   euc_rank_std │   euc_rank_tot │   cos_rank_mean │   cos_rank_std │   cos_rank_tot │ time(epoch_start-now)   │\n",
      "╞════╪═════════╪═══════════╪═════════════════╪════════════════╪════════════════╪═════════════════╪════════════════╪════════════════╪═════════════════════════╡\n",
      "│  4 │ 4.75191 │   0.78577 │         53.1799 │        184.932 │        332.528 │         46.9295 │        171.961 │        332.528 │ 6.17 min                │\n",
      "╘════╧═════════╧═══════════╧═════════════════╧════════════════╧════════════════╧═════════════════╧════════════════╧════════════════╧═════════════════════════╛\n",
      "\n"
     ]
    },
    {
     "name": "stderr",
     "output_type": "stream",
     "text": [
      "100%|████████████████████████████████████████████████████████████████| 44/44 [00:05<00:00,  7.85it/s]\n"
     ]
    },
    {
     "name": "stdout",
     "output_type": "stream",
     "text": [
      "BEST MODEL UPDATED! BEST RANK = 53.179859834558826\n",
      "2.552700(5)  \n",
      "#################################################################################\n",
      "# emb_model_update = 1 | -ve_method = all | dist_metric = euclidean | topk = 10 #\n",
      "#################################################################################\n",
      "╒════╤═════════╤═══════════╤═════════════════╤════════════════╤════════════════╤═════════════════╤════════════════╤════════════════╤═════════════════════════╕\n",
      "│    │    rmse │   cos_sim │   euc_rank_mean │   euc_rank_std │   euc_rank_tot │   cos_rank_mean │   cos_rank_std │   cos_rank_tot │ time(epoch_start-now)   │\n",
      "╞════╪═════════╪═══════════╪═════════════════╪════════════════╪════════════════╪═════════════════╪════════════════╪════════════════╪═════════════════════════╡\n",
      "│  5 │ 4.87516 │  0.783121 │         53.9339 │        187.608 │        332.528 │         48.5634 │        175.179 │        332.528 │ 6.34 min                │\n",
      "╘════╧═════════╧═══════════╧═════════════════╧════════════════╧════════════════╧═════════════════╧════════════════╧════════════════╧═════════════════════════╛\n",
      "\n"
     ]
    },
    {
     "name": "stderr",
     "output_type": "stream",
     "text": [
      "100%|████████████████████████████████████████████████████████████████| 44/44 [00:05<00:00,  8.46it/s]\n"
     ]
    },
    {
     "name": "stdout",
     "output_type": "stream",
     "text": [
      "2.512956(6)  \n",
      "#################################################################################\n",
      "# emb_model_update = 1 | -ve_method = all | dist_metric = euclidean | topk = 10 #\n",
      "#################################################################################\n",
      "╒════╤═════════╤═══════════╤═════════════════╤════════════════╤════════════════╤═════════════════╤════════════════╤════════════════╤═════════════════════════╕\n",
      "│    │    rmse │   cos_sim │   euc_rank_mean │   euc_rank_std │   euc_rank_tot │   cos_rank_mean │   cos_rank_std │   cos_rank_tot │ time(epoch_start-now)   │\n",
      "╞════╪═════════╪═══════════╪═════════════════╪════════════════╪════════════════╪═════════════════╪════════════════╪════════════════╪═════════════════════════╡\n",
      "│  6 │ 4.95056 │  0.781671 │         55.2809 │        190.985 │        332.528 │         50.1293 │        181.256 │        332.528 │ 6.54 min                │\n",
      "╘════╧═════════╧═══════════╧═════════════════╧════════════════╧════════════════╧═════════════════╧════════════════╧════════════════╧═════════════════════════╛\n",
      "\n"
     ]
    },
    {
     "name": "stderr",
     "output_type": "stream",
     "text": [
      "100%|████████████████████████████████████████████████████████████████| 44/44 [00:05<00:00,  8.03it/s]\n"
     ]
    },
    {
     "name": "stdout",
     "output_type": "stream",
     "text": [
      "2.610003(7)  \n",
      "#################################################################################\n",
      "# emb_model_update = 1 | -ve_method = all | dist_metric = euclidean | topk = 10 #\n",
      "#################################################################################\n",
      "╒════╤═════════╤═══════════╤═════════════════╤════════════════╤════════════════╤═════════════════╤════════════════╤════════════════╤═════════════════════════╕\n",
      "│    │    rmse │   cos_sim │   euc_rank_mean │   euc_rank_std │   euc_rank_tot │   cos_rank_mean │   cos_rank_std │   cos_rank_tot │ time(epoch_start-now)   │\n",
      "╞════╪═════════╪═══════════╪═════════════════╪════════════════╪════════════════╪═════════════════╪════════════════╪════════════════╪═════════════════════════╡\n",
      "│  7 │ 4.86456 │  0.783239 │         54.7112 │        193.292 │        332.528 │         48.0629 │        176.986 │        332.528 │ 6.50 min                │\n",
      "╘════╧═════════╧═══════════╧═════════════════╧════════════════╧════════════════╧═════════════════╧════════════════╧════════════════╧═════════════════════════╛\n",
      "\n"
     ]
    },
    {
     "name": "stderr",
     "output_type": "stream",
     "text": [
      "100%|████████████████████████████████████████████████████████████████| 44/44 [00:05<00:00,  8.34it/s]\n"
     ]
    },
    {
     "name": "stdout",
     "output_type": "stream",
     "text": [
      "2.073593(8)  \n",
      "#################################################################################\n",
      "# emb_model_update = 1 | -ve_method = all | dist_metric = euclidean | topk = 10 #\n",
      "#################################################################################\n",
      "╒════╤═════════╤═══════════╤═════════════════╤════════════════╤════════════════╤═════════════════╤════════════════╤════════════════╤═════════════════════════╕\n",
      "│    │    rmse │   cos_sim │   euc_rank_mean │   euc_rank_std │   euc_rank_tot │   cos_rank_mean │   cos_rank_std │   cos_rank_tot │ time(epoch_start-now)   │\n",
      "╞════╪═════════╪═══════════╪═════════════════╪════════════════╪════════════════╪═════════════════╪════════════════╪════════════════╪═════════════════════════╡\n",
      "│  8 │ 4.61762 │  0.793222 │         52.2396 │        187.566 │        332.528 │         46.1583 │        176.877 │        332.528 │ 6.47 min                │\n",
      "╘════╧═════════╧═══════════╧═════════════════╧════════════════╧════════════════╧═════════════════╧════════════════╧════════════════╧═════════════════════════╛\n",
      "\n"
     ]
    },
    {
     "name": "stderr",
     "output_type": "stream",
     "text": [
      "100%|████████████████████████████████████████████████████████████████| 44/44 [00:05<00:00,  8.12it/s]\n"
     ]
    },
    {
     "name": "stdout",
     "output_type": "stream",
     "text": [
      "BEST MODEL UPDATED! BEST RANK = 52.239602481617645\n",
      "3.432475(9)  \n",
      "#################################################################################\n",
      "# emb_model_update = 1 | -ve_method = all | dist_metric = euclidean | topk = 10 #\n",
      "#################################################################################\n",
      "╒════╤═════════╤═══════════╤═════════════════╤════════════════╤════════════════╤═════════════════╤════════════════╤════════════════╤═════════════════════════╕\n",
      "│    │    rmse │   cos_sim │   euc_rank_mean │   euc_rank_std │   euc_rank_tot │   cos_rank_mean │   cos_rank_std │   cos_rank_tot │ time(epoch_start-now)   │\n",
      "╞════╪═════════╪═══════════╪═════════════════╪════════════════╪════════════════╪═════════════════╪════════════════╪════════════════╪═════════════════════════╡\n",
      "│  9 │ 4.60934 │  0.797136 │         51.0662 │        187.676 │        332.528 │         45.4163 │         176.61 │        332.528 │ 6.63 min                │\n",
      "╘════╧═════════╧═══════════╧═════════════════╧════════════════╧════════════════╧═════════════════╧════════════════╧════════════════╧═════════════════════════╛\n",
      "\n"
     ]
    },
    {
     "name": "stderr",
     "output_type": "stream",
     "text": [
      "100%|████████████████████████████████████████████████████████████████| 44/44 [00:05<00:00,  8.50it/s]\n"
     ]
    },
    {
     "name": "stdout",
     "output_type": "stream",
     "text": [
      "BEST MODEL UPDATED! BEST RANK = 51.066233915441174\n",
      "5.807069(10)  \n",
      "#################################################################################\n",
      "# emb_model_update = 1 | -ve_method = all | dist_metric = euclidean | topk = 10 #\n",
      "#################################################################################\n",
      "╒════╤════════╤═══════════╤═════════════════╤════════════════╤════════════════╤═════════════════╤════════════════╤════════════════╤═════════════════════════╕\n",
      "│    │   rmse │   cos_sim │   euc_rank_mean │   euc_rank_std │   euc_rank_tot │   cos_rank_mean │   cos_rank_std │   cos_rank_tot │ time(epoch_start-now)   │\n",
      "╞════╪════════╪═══════════╪═════════════════╪════════════════╪════════════════╪═════════════════╪════════════════╪════════════════╪═════════════════════════╡\n",
      "│ 10 │ 4.6082 │  0.795015 │         54.3618 │        191.921 │        332.528 │         48.1123 │        181.204 │        332.528 │ 6.54 min                │\n",
      "╘════╧════════╧═══════════╧═════════════════╧════════════════╧════════════════╧═════════════════╧════════════════╧════════════════╧═════════════════════════╛\n",
      "\n"
     ]
    },
    {
     "name": "stderr",
     "output_type": "stream",
     "text": [
      "100%|████████████████████████████████████████████████████████████████| 44/44 [00:05<00:00,  8.34it/s]\n"
     ]
    },
    {
     "name": "stdout",
     "output_type": "stream",
     "text": [
      "4.009817(11)  \n",
      "#################################################################################\n",
      "# emb_model_update = 1 | -ve_method = all | dist_metric = euclidean | topk = 10 #\n",
      "#################################################################################\n",
      "╒════╤═════════╤═══════════╤═════════════════╤════════════════╤════════════════╤═════════════════╤════════════════╤════════════════╤═════════════════════════╕\n",
      "│    │    rmse │   cos_sim │   euc_rank_mean │   euc_rank_std │   euc_rank_tot │   cos_rank_mean │   cos_rank_std │   cos_rank_tot │ time(epoch_start-now)   │\n",
      "╞════╪═════════╪═══════════╪═════════════════╪════════════════╪════════════════╪═════════════════╪════════════════╪════════════════╪═════════════════════════╡\n",
      "│ 11 │ 4.57113 │   0.79698 │         53.8554 │        191.063 │        332.528 │         46.9677 │        177.879 │        332.528 │ 6.50 min                │\n",
      "╘════╧═════════╧═══════════╧═════════════════╧════════════════╧════════════════╧═════════════════╧════════════════╧════════════════╧═════════════════════════╛\n",
      "\n"
     ]
    },
    {
     "name": "stderr",
     "output_type": "stream",
     "text": [
      "100%|████████████████████████████████████████████████████████████████| 44/44 [00:05<00:00,  7.65it/s]\n"
     ]
    },
    {
     "name": "stdout",
     "output_type": "stream",
     "text": [
      "2.732817(12)  \n",
      "#################################################################################\n",
      "# emb_model_update = 1 | -ve_method = all | dist_metric = euclidean | topk = 10 #\n",
      "#################################################################################\n",
      "╒════╤═════════╤═══════════╤═════════════════╤════════════════╤════════════════╤═════════════════╤════════════════╤════════════════╤═════════════════════════╕\n",
      "│    │    rmse │   cos_sim │   euc_rank_mean │   euc_rank_std │   euc_rank_tot │   cos_rank_mean │   cos_rank_std │   cos_rank_tot │ time(epoch_start-now)   │\n",
      "╞════╪═════════╪═══════════╪═════════════════╪════════════════╪════════════════╪═════════════════╪════════════════╪════════════════╪═════════════════════════╡\n",
      "│ 12 │ 4.49258 │  0.799747 │         52.2628 │         188.59 │        332.528 │         45.3824 │        175.239 │        332.528 │ 6.49 min                │\n",
      "╘════╧═════════╧═══════════╧═════════════════╧════════════════╧════════════════╧═════════════════╧════════════════╧════════════════╧═════════════════════════╛\n",
      "\n"
     ]
    },
    {
     "name": "stderr",
     "output_type": "stream",
     "text": [
      "100%|████████████████████████████████████████████████████████████████| 44/44 [00:05<00:00,  8.65it/s]\n"
     ]
    },
    {
     "name": "stdout",
     "output_type": "stream",
     "text": [
      "2.231352(13)  \n",
      "#################################################################################\n",
      "# emb_model_update = 1 | -ve_method = all | dist_metric = euclidean | topk = 10 #\n",
      "#################################################################################\n",
      "╒════╤════════╤═══════════╤═════════════════╤════════════════╤════════════════╤═════════════════╤════════════════╤════════════════╤═════════════════════════╕\n",
      "│    │   rmse │   cos_sim │   euc_rank_mean │   euc_rank_std │   euc_rank_tot │   cos_rank_mean │   cos_rank_std │   cos_rank_tot │ time(epoch_start-now)   │\n",
      "╞════╪════════╪═══════════╪═════════════════╪════════════════╪════════════════╪═════════════════╪════════════════╪════════════════╪═════════════════════════╡\n",
      "│ 13 │ 4.5785 │   0.79494 │         53.9155 │        193.767 │        332.528 │         47.3788 │        180.877 │        332.528 │ 6.46 min                │\n",
      "╘════╧════════╧═══════════╧═════════════════╧════════════════╧════════════════╧═════════════════╧════════════════╧════════════════╧═════════════════════════╛\n",
      "\n"
     ]
    },
    {
     "name": "stderr",
     "output_type": "stream",
     "text": [
      "100%|████████████████████████████████████████████████████████████████| 44/44 [00:05<00:00,  8.08it/s]\n"
     ]
    },
    {
     "name": "stdout",
     "output_type": "stream",
     "text": [
      "2.116151(14)  \n",
      "#################################################################################\n",
      "# emb_model_update = 1 | -ve_method = all | dist_metric = euclidean | topk = 10 #\n",
      "#################################################################################\n",
      "╒════╤═════════╤═══════════╤═════════════════╤════════════════╤════════════════╤═════════════════╤════════════════╤════════════════╤═════════════════════════╕\n",
      "│    │    rmse │   cos_sim │   euc_rank_mean │   euc_rank_std │   euc_rank_tot │   cos_rank_mean │   cos_rank_std │   cos_rank_tot │ time(epoch_start-now)   │\n",
      "╞════╪═════════╪═══════════╪═════════════════╪════════════════╪════════════════╪═════════════════╪════════════════╪════════════════╪═════════════════════════╡\n",
      "│ 14 │ 4.57813 │    0.7982 │         55.4111 │        194.439 │        332.528 │         48.8683 │        185.263 │        332.528 │ 6.36 min                │\n",
      "╘════╧═════════╧═══════════╧═════════════════╧════════════════╧════════════════╧═════════════════╧════════════════╧════════════════╧═════════════════════════╛\n",
      "\n"
     ]
    },
    {
     "name": "stderr",
     "output_type": "stream",
     "text": [
      "100%|████████████████████████████████████████████████████████████████| 44/44 [00:05<00:00,  7.73it/s]\n"
     ]
    },
    {
     "name": "stdout",
     "output_type": "stream",
     "text": [
      "3.231325(15)  \n",
      "#################################################################################\n",
      "# emb_model_update = 1 | -ve_method = all | dist_metric = euclidean | topk = 10 #\n",
      "#################################################################################\n",
      "╒════╤═════════╤═══════════╤═════════════════╤════════════════╤════════════════╤═════════════════╤════════════════╤════════════════╤═════════════════════════╕\n",
      "│    │    rmse │   cos_sim │   euc_rank_mean │   euc_rank_std │   euc_rank_tot │   cos_rank_mean │   cos_rank_std │   cos_rank_tot │ time(epoch_start-now)   │\n",
      "╞════╪═════════╪═══════════╪═════════════════╪════════════════╪════════════════╪═════════════════╪════════════════╪════════════════╪═════════════════════════╡\n",
      "│ 15 │ 4.49837 │  0.799985 │          54.043 │        191.335 │        332.528 │         47.4945 │        181.499 │        332.528 │ 6.37 min                │\n",
      "╘════╧═════════╧═══════════╧═════════════════╧════════════════╧════════════════╧═════════════════╧════════════════╧════════════════╧═════════════════════════╛\n",
      "\n"
     ]
    },
    {
     "name": "stderr",
     "output_type": "stream",
     "text": [
      "100%|████████████████████████████████████████████████████████████████| 44/44 [00:05<00:00,  7.35it/s]\n"
     ]
    },
    {
     "name": "stdout",
     "output_type": "stream",
     "text": [
      "2.113378(16)  \n",
      "#################################################################################\n",
      "# emb_model_update = 1 | -ve_method = all | dist_metric = euclidean | topk = 10 #\n",
      "#################################################################################\n",
      "╒════╤═════════╤═══════════╤═════════════════╤════════════════╤════════════════╤═════════════════╤════════════════╤════════════════╤═════════════════════════╕\n",
      "│    │    rmse │   cos_sim │   euc_rank_mean │   euc_rank_std │   euc_rank_tot │   cos_rank_mean │   cos_rank_std │   cos_rank_tot │ time(epoch_start-now)   │\n",
      "╞════╪═════════╪═══════════╪═════════════════╪════════════════╪════════════════╪═════════════════╪════════════════╪════════════════╪═════════════════════════╡\n",
      "│ 16 │ 4.45225 │  0.802848 │         55.2397 │        195.069 │        332.528 │         48.0039 │        180.314 │        332.528 │ 6.51 min                │\n",
      "╘════╧═════════╧═══════════╧═════════════════╧════════════════╧════════════════╧═════════════════╧════════════════╧════════════════╧═════════════════════════╛\n",
      "\n"
     ]
    },
    {
     "name": "stderr",
     "output_type": "stream",
     "text": [
      "100%|████████████████████████████████████████████████████████████████| 44/44 [00:04<00:00,  9.33it/s]\n"
     ]
    },
    {
     "name": "stdout",
     "output_type": "stream",
     "text": [
      "1.974088(17)  \n",
      "#################################################################################\n",
      "# emb_model_update = 1 | -ve_method = all | dist_metric = euclidean | topk = 10 #\n",
      "#################################################################################\n",
      "╒════╤═════════╤═══════════╤═════════════════╤════════════════╤════════════════╤═════════════════╤════════════════╤════════════════╤═════════════════════════╕\n",
      "│    │    rmse │   cos_sim │   euc_rank_mean │   euc_rank_std │   euc_rank_tot │   cos_rank_mean │   cos_rank_std │   cos_rank_tot │ time(epoch_start-now)   │\n",
      "╞════╪═════════╪═══════════╪═════════════════╪════════════════╪════════════════╪═════════════════╪════════════════╪════════════════╪═════════════════════════╡\n",
      "│ 17 │ 4.42807 │  0.803541 │         53.6399 │        188.153 │        332.528 │         45.4488 │        173.106 │        332.528 │ 6.56 min                │\n",
      "╘════╧═════════╧═══════════╧═════════════════╧════════════════╧════════════════╧═════════════════╧════════════════╧════════════════╧═════════════════════════╛\n",
      "\n"
     ]
    },
    {
     "name": "stderr",
     "output_type": "stream",
     "text": [
      "100%|████████████████████████████████████████████████████████████████| 44/44 [00:05<00:00,  8.56it/s]\n"
     ]
    },
    {
     "name": "stdout",
     "output_type": "stream",
     "text": [
      "4.134337(18)  \n",
      "#################################################################################\n",
      "# emb_model_update = 1 | -ve_method = all | dist_metric = euclidean | topk = 10 #\n",
      "#################################################################################\n",
      "╒════╤═════════╤═══════════╤═════════════════╤════════════════╤════════════════╤═════════════════╤════════════════╤════════════════╤═════════════════════════╕\n",
      "│    │    rmse │   cos_sim │   euc_rank_mean │   euc_rank_std │   euc_rank_tot │   cos_rank_mean │   cos_rank_std │   cos_rank_tot │ time(epoch_start-now)   │\n",
      "╞════╪═════════╪═══════════╪═════════════════╪════════════════╪════════════════╪═════════════════╪════════════════╪════════════════╪═════════════════════════╡\n",
      "│ 18 │ 4.48961 │  0.800992 │         55.7075 │        198.722 │        332.528 │         48.5404 │        184.786 │        332.528 │ 6.52 min                │\n",
      "╘════╧═════════╧═══════════╧═════════════════╧════════════════╧════════════════╧═════════════════╧════════════════╧════════════════╧═════════════════════════╛\n",
      "\n"
     ]
    },
    {
     "name": "stderr",
     "output_type": "stream",
     "text": [
      "100%|████████████████████████████████████████████████████████████████| 44/44 [00:05<00:00,  8.12it/s]\n"
     ]
    },
    {
     "name": "stdout",
     "output_type": "stream",
     "text": [
      "4.828994(19)  \n",
      "#################################################################################\n",
      "# emb_model_update = 1 | -ve_method = all | dist_metric = euclidean | topk = 10 #\n",
      "#################################################################################\n",
      "╒════╤═════════╤═══════════╤═════════════════╤════════════════╤════════════════╤═════════════════╤════════════════╤════════════════╤═════════════════════════╕\n",
      "│    │    rmse │   cos_sim │   euc_rank_mean │   euc_rank_std │   euc_rank_tot │   cos_rank_mean │   cos_rank_std │   cos_rank_tot │ time(epoch_start-now)   │\n",
      "╞════╪═════════╪═══════════╪═════════════════╪════════════════╪════════════════╪═════════════════╪════════════════╪════════════════╪═════════════════════════╡\n",
      "│ 19 │ 4.40181 │   0.80123 │         53.0466 │        191.664 │        332.528 │          44.905 │        176.449 │        332.528 │ 6.44 min                │\n",
      "╘════╧═════════╧═══════════╧═════════════════╧════════════════╧════════════════╧═════════════════╧════════════════╧════════════════╧═════════════════════════╛\n",
      "\n"
     ]
    },
    {
     "name": "stderr",
     "output_type": "stream",
     "text": [
      "100%|████████████████████████████████████████████████████████████████| 44/44 [00:05<00:00,  8.76it/s]\n"
     ]
    },
    {
     "name": "stdout",
     "output_type": "stream",
     "text": [
      "2.088607(20)  \n",
      "#################################################################################\n",
      "# emb_model_update = 1 | -ve_method = all | dist_metric = euclidean | topk = 10 #\n",
      "#################################################################################\n",
      "╒════╤═════════╤═══════════╤═════════════════╤════════════════╤════════════════╤═════════════════╤════════════════╤════════════════╤═════════════════════════╕\n",
      "│    │    rmse │   cos_sim │   euc_rank_mean │   euc_rank_std │   euc_rank_tot │   cos_rank_mean │   cos_rank_std │   cos_rank_tot │ time(epoch_start-now)   │\n",
      "╞════╪═════════╪═══════════╪═════════════════╪════════════════╪════════════════╪═════════════════╪════════════════╪════════════════╪═════════════════════════╡\n",
      "│ 20 │ 4.35423 │  0.805107 │         54.0427 │        193.592 │        332.528 │          45.388 │        177.053 │        332.528 │ 6.50 min                │\n",
      "╘════╧═════════╧═══════════╧═════════════════╧════════════════╧════════════════╧═════════════════╧════════════════╧════════════════╧═════════════════════════╛\n",
      "\n"
     ]
    },
    {
     "name": "stderr",
     "output_type": "stream",
     "text": [
      "100%|████████████████████████████████████████████████████████████████| 44/44 [00:05<00:00,  8.37it/s]\n"
     ]
    },
    {
     "name": "stdout",
     "output_type": "stream",
     "text": [
      "3.683765(21)  \n",
      "#################################################################################\n",
      "# emb_model_update = 1 | -ve_method = all | dist_metric = euclidean | topk = 10 #\n",
      "#################################################################################\n",
      "╒════╤═════════╤═══════════╤═════════════════╤════════════════╤════════════════╤═════════════════╤════════════════╤════════════════╤═════════════════════════╕\n",
      "│    │    rmse │   cos_sim │   euc_rank_mean │   euc_rank_std │   euc_rank_tot │   cos_rank_mean │   cos_rank_std │   cos_rank_tot │ time(epoch_start-now)   │\n",
      "╞════╪═════════╪═══════════╪═════════════════╪════════════════╪════════════════╪═════════════════╪════════════════╪════════════════╪═════════════════════════╡\n",
      "│ 21 │ 4.36489 │  0.806331 │         55.2399 │         198.21 │        332.528 │          46.924 │        183.486 │        332.528 │ 6.58 min                │\n",
      "╘════╧═════════╧═══════════╧═════════════════╧════════════════╧════════════════╧═════════════════╧════════════════╧════════════════╧═════════════════════════╛\n",
      "\n"
     ]
    },
    {
     "name": "stderr",
     "output_type": "stream",
     "text": [
      "100%|████████████████████████████████████████████████████████████████| 44/44 [00:06<00:00,  7.12it/s]\n"
     ]
    },
    {
     "name": "stdout",
     "output_type": "stream",
     "text": [
      "4.886047(22)  \n",
      "#################################################################################\n",
      "# emb_model_update = 1 | -ve_method = all | dist_metric = euclidean | topk = 10 #\n",
      "#################################################################################\n",
      "╒════╤═════════╤═══════════╤═════════════════╤════════════════╤════════════════╤═════════════════╤════════════════╤════════════════╤═════════════════════════╕\n",
      "│    │    rmse │   cos_sim │   euc_rank_mean │   euc_rank_std │   euc_rank_tot │   cos_rank_mean │   cos_rank_std │   cos_rank_tot │ time(epoch_start-now)   │\n",
      "╞════╪═════════╪═══════════╪═════════════════╪════════════════╪════════════════╪═════════════════╪════════════════╪════════════════╪═════════════════════════╡\n",
      "│ 22 │ 4.43949 │   0.79906 │         54.3236 │        196.079 │        332.528 │         45.4204 │        179.665 │        332.528 │ 6.43 min                │\n",
      "╘════╧═════════╧═══════════╧═════════════════╧════════════════╧════════════════╧═════════════════╧════════════════╧════════════════╧═════════════════════════╛\n",
      "\n"
     ]
    },
    {
     "name": "stderr",
     "output_type": "stream",
     "text": [
      "100%|████████████████████████████████████████████████████████████████| 44/44 [00:05<00:00,  8.70it/s]\n"
     ]
    },
    {
     "name": "stdout",
     "output_type": "stream",
     "text": [
      "4.602677(23)  \n",
      "#################################################################################\n",
      "# emb_model_update = 1 | -ve_method = all | dist_metric = euclidean | topk = 10 #\n",
      "#################################################################################\n",
      "╒════╤═════════╤═══════════╤═════════════════╤════════════════╤════════════════╤═════════════════╤════════════════╤════════════════╤═════════════════════════╕\n",
      "│    │    rmse │   cos_sim │   euc_rank_mean │   euc_rank_std │   euc_rank_tot │   cos_rank_mean │   cos_rank_std │   cos_rank_tot │ time(epoch_start-now)   │\n",
      "╞════╪═════════╪═══════════╪═════════════════╪════════════════╪════════════════╪═════════════════╪════════════════╪════════════════╪═════════════════════════╡\n",
      "│ 23 │ 4.38459 │  0.804395 │         54.2998 │        197.208 │        332.528 │         44.8273 │        179.186 │        332.528 │ 6.57 min                │\n",
      "╘════╧═════════╧═══════════╧═════════════════╧════════════════╧════════════════╧═════════════════╧════════════════╧════════════════╧═════════════════════════╛\n",
      "\n"
     ]
    },
    {
     "name": "stderr",
     "output_type": "stream",
     "text": [
      "100%|████████████████████████████████████████████████████████████████| 44/44 [00:05<00:00,  7.98it/s]\n"
     ]
    },
    {
     "name": "stdout",
     "output_type": "stream",
     "text": [
      "5.602087(24)  \n",
      "#################################################################################\n",
      "# emb_model_update = 1 | -ve_method = all | dist_metric = euclidean | topk = 10 #\n",
      "#################################################################################\n",
      "╒════╤═════════╤═══════════╤═════════════════╤════════════════╤════════════════╤═════════════════╤════════════════╤════════════════╤═════════════════════════╕\n",
      "│    │    rmse │   cos_sim │   euc_rank_mean │   euc_rank_std │   euc_rank_tot │   cos_rank_mean │   cos_rank_std │   cos_rank_tot │ time(epoch_start-now)   │\n",
      "╞════╪═════════╪═══════════╪═════════════════╪════════════════╪════════════════╪═════════════════╪════════════════╪════════════════╪═════════════════════════╡\n",
      "│ 24 │ 4.42462 │  0.802459 │         56.2281 │        201.254 │        332.528 │         46.4503 │        182.864 │        332.528 │ 6.36 min                │\n",
      "╘════╧═════════╧═══════════╧═════════════════╧════════════════╧════════════════╧═════════════════╧════════════════╧════════════════╧═════════════════════════╛\n",
      "\n"
     ]
    },
    {
     "name": "stderr",
     "output_type": "stream",
     "text": [
      "100%|████████████████████████████████████████████████████████████████| 44/44 [00:05<00:00,  7.81it/s]\n"
     ]
    },
    {
     "name": "stdout",
     "output_type": "stream",
     "text": [
      "4.759827(25)  \n",
      "#################################################################################\n",
      "# emb_model_update = 1 | -ve_method = all | dist_metric = euclidean | topk = 10 #\n",
      "#################################################################################\n",
      "╒════╤═════════╤═══════════╤═════════════════╤════════════════╤════════════════╤═════════════════╤════════════════╤════════════════╤═════════════════════════╕\n",
      "│    │    rmse │   cos_sim │   euc_rank_mean │   euc_rank_std │   euc_rank_tot │   cos_rank_mean │   cos_rank_std │   cos_rank_tot │ time(epoch_start-now)   │\n",
      "╞════╪═════════╪═══════════╪═════════════════╪════════════════╪════════════════╪═════════════════╪════════════════╪════════════════╪═════════════════════════╡\n",
      "│ 25 │ 4.41922 │   0.80328 │         53.9557 │        194.878 │        332.528 │         45.1106 │        179.481 │        332.528 │ 6.49 min                │\n",
      "╘════╧═════════╧═══════════╧═════════════════╧════════════════╧════════════════╧═════════════════╧════════════════╧════════════════╧═════════════════════════╛\n",
      "\n"
     ]
    },
    {
     "name": "stderr",
     "output_type": "stream",
     "text": [
      "100%|████████████████████████████████████████████████████████████████| 44/44 [00:05<00:00,  8.45it/s]\n"
     ]
    },
    {
     "name": "stdout",
     "output_type": "stream",
     "text": [
      "5.048408(26)  \n",
      "#################################################################################\n",
      "# emb_model_update = 1 | -ve_method = all | dist_metric = euclidean | topk = 10 #\n",
      "#################################################################################\n",
      "╒════╤═════════╤═══════════╤═════════════════╤════════════════╤════════════════╤═════════════════╤════════════════╤════════════════╤═════════════════════════╕\n",
      "│    │    rmse │   cos_sim │   euc_rank_mean │   euc_rank_std │   euc_rank_tot │   cos_rank_mean │   cos_rank_std │   cos_rank_tot │ time(epoch_start-now)   │\n",
      "╞════╪═════════╪═══════════╪═════════════════╪════════════════╪════════════════╪═════════════════╪════════════════╪════════════════╪═════════════════════════╡\n",
      "│ 26 │ 4.45735 │  0.804355 │         55.6897 │        200.568 │        332.528 │         47.3361 │        183.468 │        332.528 │ 6.53 min                │\n",
      "╘════╧═════════╧═══════════╧═════════════════╧════════════════╧════════════════╧═════════════════╧════════════════╧════════════════╧═════════════════════════╛\n",
      "\n"
     ]
    },
    {
     "name": "stderr",
     "output_type": "stream",
     "text": [
      "100%|████████████████████████████████████████████████████████████████| 44/44 [00:04<00:00,  9.35it/s]\n"
     ]
    },
    {
     "name": "stdout",
     "output_type": "stream",
     "text": [
      "2.531490(27)  \n",
      "#################################################################################\n",
      "# emb_model_update = 1 | -ve_method = all | dist_metric = euclidean | topk = 10 #\n",
      "#################################################################################\n",
      "╒════╤═════════╤═══════════╤═════════════════╤════════════════╤════════════════╤═════════════════╤════════════════╤════════════════╤═════════════════════════╕\n",
      "│    │    rmse │   cos_sim │   euc_rank_mean │   euc_rank_std │   euc_rank_tot │   cos_rank_mean │   cos_rank_std │   cos_rank_tot │ time(epoch_start-now)   │\n",
      "╞════╪═════════╪═══════════╪═════════════════╪════════════════╪════════════════╪═════════════════╪════════════════╪════════════════╪═════════════════════════╡\n",
      "│ 27 │ 4.42873 │  0.802414 │         53.0789 │        194.881 │        332.528 │         44.0474 │        176.826 │        332.528 │ 6.54 min                │\n",
      "╘════╧═════════╧═══════════╧═════════════════╧════════════════╧════════════════╧═════════════════╧════════════════╧════════════════╧═════════════════════════╛\n",
      "\n"
     ]
    },
    {
     "name": "stderr",
     "output_type": "stream",
     "text": [
      "100%|████████████████████████████████████████████████████████████████| 44/44 [00:05<00:00,  8.22it/s]\n"
     ]
    },
    {
     "name": "stdout",
     "output_type": "stream",
     "text": [
      "6.259762(28)  \n",
      "#################################################################################\n",
      "# emb_model_update = 1 | -ve_method = all | dist_metric = euclidean | topk = 10 #\n",
      "#################################################################################\n",
      "╒════╤═════════╤═══════════╤═════════════════╤════════════════╤════════════════╤═════════════════╤════════════════╤════════════════╤═════════════════════════╕\n",
      "│    │    rmse │   cos_sim │   euc_rank_mean │   euc_rank_std │   euc_rank_tot │   cos_rank_mean │   cos_rank_std │   cos_rank_tot │ time(epoch_start-now)   │\n",
      "╞════╪═════════╪═══════════╪═════════════════╪════════════════╪════════════════╪═════════════════╪════════════════╪════════════════╪═════════════════════════╡\n",
      "│ 28 │ 4.28003 │  0.808038 │         53.4945 │        191.845 │        332.528 │         44.1445 │        173.241 │        332.528 │ 6.41 min                │\n",
      "╘════╧═════════╧═══════════╧═════════════════╧════════════════╧════════════════╧═════════════════╧════════════════╧════════════════╧═════════════════════════╛\n",
      "\n"
     ]
    },
    {
     "name": "stderr",
     "output_type": "stream",
     "text": [
      "100%|████████████████████████████████████████████████████████████████| 44/44 [00:05<00:00,  8.11it/s]\n"
     ]
    },
    {
     "name": "stdout",
     "output_type": "stream",
     "text": [
      "1.989843(29)  \n",
      "#################################################################################\n",
      "# emb_model_update = 1 | -ve_method = all | dist_metric = euclidean | topk = 10 #\n",
      "#################################################################################\n",
      "╒════╤════════╤═══════════╤═════════════════╤════════════════╤════════════════╤═════════════════╤════════════════╤════════════════╤═════════════════════════╕\n",
      "│    │   rmse │   cos_sim │   euc_rank_mean │   euc_rank_std │   euc_rank_tot │   cos_rank_mean │   cos_rank_std │   cos_rank_tot │ time(epoch_start-now)   │\n",
      "╞════╪════════╪═══════════╪═════════════════╪════════════════╪════════════════╪═════════════════╪════════════════╪════════════════╪═════════════════════════╡\n",
      "│ 29 │ 4.3055 │  0.809254 │         54.1224 │        193.281 │        332.528 │         45.2887 │        174.444 │        332.528 │ 6.39 min                │\n",
      "╘════╧════════╧═══════════╧═════════════════╧════════════════╧════════════════╧═════════════════╧════════════════╧════════════════╧═════════════════════════╛\n",
      "\n"
     ]
    },
    {
     "name": "stderr",
     "output_type": "stream",
     "text": [
      "100%|████████████████████████████████████████████████████████████████| 44/44 [00:05<00:00,  8.07it/s]\n"
     ]
    },
    {
     "name": "stdout",
     "output_type": "stream",
     "text": [
      "4.067031(30)  \n",
      "#################################################################################\n",
      "# emb_model_update = 1 | -ve_method = all | dist_metric = euclidean | topk = 10 #\n",
      "#################################################################################\n",
      "╒════╤═════════╤═══════════╤═════════════════╤════════════════╤════════════════╤═════════════════╤════════════════╤════════════════╤═════════════════════════╕\n",
      "│    │    rmse │   cos_sim │   euc_rank_mean │   euc_rank_std │   euc_rank_tot │   cos_rank_mean │   cos_rank_std │   cos_rank_tot │ time(epoch_start-now)   │\n",
      "╞════╪═════════╪═══════════╪═════════════════╪════════════════╪════════════════╪═════════════════╪════════════════╪════════════════╪═════════════════════════╡\n",
      "│ 30 │ 4.38746 │   0.80688 │         52.2066 │        186.422 │        332.528 │         43.8352 │        169.628 │        332.528 │ 6.48 min                │\n",
      "╘════╧═════════╧═══════════╧═════════════════╧════════════════╧════════════════╧═════════════════╧════════════════╧════════════════╧═════════════════════════╛\n",
      "\n"
     ]
    },
    {
     "name": "stderr",
     "output_type": "stream",
     "text": [
      "100%|████████████████████████████████████████████████████████████████| 44/44 [00:05<00:00,  8.57it/s]\n"
     ]
    },
    {
     "name": "stdout",
     "output_type": "stream",
     "text": [
      "5.873691(31)  \n",
      "#################################################################################\n",
      "# emb_model_update = 1 | -ve_method = all | dist_metric = euclidean | topk = 10 #\n",
      "#################################################################################\n",
      "╒════╤═════════╤═══════════╤═════════════════╤════════════════╤════════════════╤═════════════════╤════════════════╤════════════════╤═════════════════════════╕\n",
      "│    │    rmse │   cos_sim │   euc_rank_mean │   euc_rank_std │   euc_rank_tot │   cos_rank_mean │   cos_rank_std │   cos_rank_tot │ time(epoch_start-now)   │\n",
      "╞════╪═════════╪═══════════╪═════════════════╪════════════════╪════════════════╪═════════════════╪════════════════╪════════════════╪═════════════════════════╡\n",
      "│ 31 │ 4.33352 │   0.80932 │            55.4 │        196.771 │        332.528 │         46.0318 │        179.211 │        332.528 │ 6.36 min                │\n",
      "╘════╧═════════╧═══════════╧═════════════════╧════════════════╧════════════════╧═════════════════╧════════════════╧════════════════╧═════════════════════════╛\n",
      "\n"
     ]
    },
    {
     "name": "stderr",
     "output_type": "stream",
     "text": [
      "100%|████████████████████████████████████████████████████████████████| 44/44 [00:05<00:00,  7.88it/s]\n"
     ]
    },
    {
     "name": "stdout",
     "output_type": "stream",
     "text": [
      "3.916517(32)  \n",
      "#################################################################################\n",
      "# emb_model_update = 1 | -ve_method = all | dist_metric = euclidean | topk = 10 #\n",
      "#################################################################################\n",
      "╒════╤═════════╤═══════════╤═════════════════╤════════════════╤════════════════╤═════════════════╤════════════════╤════════════════╤═════════════════════════╕\n",
      "│    │    rmse │   cos_sim │   euc_rank_mean │   euc_rank_std │   euc_rank_tot │   cos_rank_mean │   cos_rank_std │   cos_rank_tot │ time(epoch_start-now)   │\n",
      "╞════╪═════════╪═══════════╪═════════════════╪════════════════╪════════════════╪═════════════════╪════════════════╪════════════════╪═════════════════════════╡\n",
      "│ 32 │ 4.27326 │  0.811732 │         53.4426 │        196.528 │        332.528 │         44.6171 │        180.559 │        332.528 │ 6.41 min                │\n",
      "╘════╧═════════╧═══════════╧═════════════════╧════════════════╧════════════════╧═════════════════╧════════════════╧════════════════╧═════════════════════════╛\n",
      "\n"
     ]
    },
    {
     "name": "stderr",
     "output_type": "stream",
     "text": [
      "100%|████████████████████████████████████████████████████████████████| 44/44 [00:05<00:00,  8.08it/s]\n"
     ]
    },
    {
     "name": "stdout",
     "output_type": "stream",
     "text": [
      "5.474151(33)  \n",
      "#################################################################################\n",
      "# emb_model_update = 1 | -ve_method = all | dist_metric = euclidean | topk = 10 #\n",
      "#################################################################################\n",
      "╒════╤═════════╤═══════════╤═════════════════╤════════════════╤════════════════╤═════════════════╤════════════════╤════════════════╤═════════════════════════╕\n",
      "│    │    rmse │   cos_sim │   euc_rank_mean │   euc_rank_std │   euc_rank_tot │   cos_rank_mean │   cos_rank_std │   cos_rank_tot │ time(epoch_start-now)   │\n",
      "╞════╪═════════╪═══════════╪═════════════════╪════════════════╪════════════════╪═════════════════╪════════════════╪════════════════╪═════════════════════════╡\n",
      "│ 33 │ 4.34279 │    0.8071 │         54.7131 │        198.838 │        332.528 │         44.9956 │        179.953 │        332.528 │ 6.49 min                │\n",
      "╘════╧═════════╧═══════════╧═════════════════╧════════════════╧════════════════╧═════════════════╧════════════════╧════════════════╧═════════════════════════╛\n",
      "\n"
     ]
    },
    {
     "name": "stderr",
     "output_type": "stream",
     "text": [
      "100%|████████████████████████████████████████████████████████████████| 44/44 [00:05<00:00,  8.19it/s]\n"
     ]
    },
    {
     "name": "stdout",
     "output_type": "stream",
     "text": [
      "4.550170(34)  \n",
      "#################################################################################\n",
      "# emb_model_update = 1 | -ve_method = all | dist_metric = euclidean | topk = 10 #\n",
      "#################################################################################\n",
      "╒════╤═════════╤═══════════╤═════════════════╤════════════════╤════════════════╤═════════════════╤════════════════╤════════════════╤═════════════════════════╕\n",
      "│    │    rmse │   cos_sim │   euc_rank_mean │   euc_rank_std │   euc_rank_tot │   cos_rank_mean │   cos_rank_std │   cos_rank_tot │ time(epoch_start-now)   │\n",
      "╞════╪═════════╪═══════════╪═════════════════╪════════════════╪════════════════╪═════════════════╪════════════════╪════════════════╪═════════════════════════╡\n",
      "│ 34 │ 4.36034 │  0.809809 │         52.9046 │        191.204 │        332.528 │         43.8396 │        174.093 │        332.528 │ 6.35 min                │\n",
      "╘════╧═════════╧═══════════╧═════════════════╧════════════════╧════════════════╧═════════════════╧════════════════╧════════════════╧═════════════════════════╛\n",
      "\n"
     ]
    },
    {
     "name": "stderr",
     "output_type": "stream",
     "text": [
      "100%|████████████████████████████████████████████████████████████████| 44/44 [00:05<00:00,  7.74it/s]\n"
     ]
    },
    {
     "name": "stdout",
     "output_type": "stream",
     "text": [
      "5.468933(35)  \n",
      "#################################################################################\n",
      "# emb_model_update = 1 | -ve_method = all | dist_metric = euclidean | topk = 10 #\n",
      "#################################################################################\n",
      "╒════╤═════════╤═══════════╤═════════════════╤════════════════╤════════════════╤═════════════════╤════════════════╤════════════════╤═════════════════════════╕\n",
      "│    │    rmse │   cos_sim │   euc_rank_mean │   euc_rank_std │   euc_rank_tot │   cos_rank_mean │   cos_rank_std │   cos_rank_tot │ time(epoch_start-now)   │\n",
      "╞════╪═════════╪═══════════╪═════════════════╪════════════════╪════════════════╪═════════════════╪════════════════╪════════════════╪═════════════════════════╡\n",
      "│ 35 │ 4.26017 │  0.812103 │         54.1637 │        193.163 │        332.528 │         44.6072 │        175.974 │        332.528 │ 6.36 min                │\n",
      "╘════╧═════════╧═══════════╧═════════════════╧════════════════╧════════════════╧═════════════════╧════════════════╧════════════════╧═════════════════════════╛\n",
      "\n"
     ]
    },
    {
     "name": "stderr",
     "output_type": "stream",
     "text": [
      "100%|████████████████████████████████████████████████████████████████| 44/44 [00:05<00:00,  8.48it/s]\n"
     ]
    },
    {
     "name": "stdout",
     "output_type": "stream",
     "text": [
      "3.585291(36)  \n",
      "#################################################################################\n",
      "# emb_model_update = 1 | -ve_method = all | dist_metric = euclidean | topk = 10 #\n",
      "#################################################################################\n",
      "╒════╤═════════╤═══════════╤═════════════════╤════════════════╤════════════════╤═════════════════╤════════════════╤════════════════╤═════════════════════════╕\n",
      "│    │    rmse │   cos_sim │   euc_rank_mean │   euc_rank_std │   euc_rank_tot │   cos_rank_mean │   cos_rank_std │   cos_rank_tot │ time(epoch_start-now)   │\n",
      "╞════╪═════════╪═══════════╪═════════════════╪════════════════╪════════════════╪═════════════════╪════════════════╪════════════════╪═════════════════════════╡\n",
      "│ 36 │ 4.22325 │  0.816352 │         50.3404 │        182.137 │        332.528 │         41.7257 │        164.742 │        332.528 │ 6.52 min                │\n",
      "╘════╧═════════╧═══════════╧═════════════════╧════════════════╧════════════════╧═════════════════╧════════════════╧════════════════╧═════════════════════════╛\n",
      "\n"
     ]
    },
    {
     "name": "stderr",
     "output_type": "stream",
     "text": [
      "100%|████████████████████████████████████████████████████████████████| 44/44 [00:05<00:00,  8.03it/s]\n"
     ]
    },
    {
     "name": "stdout",
     "output_type": "stream",
     "text": [
      "BEST MODEL UPDATED! BEST RANK = 50.34036075367647\n",
      "4.911014(37)  \n",
      "#################################################################################\n",
      "# emb_model_update = 1 | -ve_method = all | dist_metric = euclidean | topk = 10 #\n",
      "#################################################################################\n",
      "╒════╤═════════╤═══════════╤═════════════════╤════════════════╤════════════════╤═════════════════╤════════════════╤════════════════╤═════════════════════════╕\n",
      "│    │    rmse │   cos_sim │   euc_rank_mean │   euc_rank_std │   euc_rank_tot │   cos_rank_mean │   cos_rank_std │   cos_rank_tot │ time(epoch_start-now)   │\n",
      "╞════╪═════════╪═══════════╪═════════════════╪════════════════╪════════════════╪═════════════════╪════════════════╪════════════════╪═════════════════════════╡\n",
      "│ 37 │ 4.26616 │  0.813759 │         52.2921 │        190.281 │        332.528 │         43.3384 │        170.121 │        332.528 │ 6.51 min                │\n",
      "╘════╧═════════╧═══════════╧═════════════════╧════════════════╧════════════════╧═════════════════╧════════════════╧════════════════╧═════════════════════════╛\n",
      "\n"
     ]
    },
    {
     "name": "stderr",
     "output_type": "stream",
     "text": [
      "100%|████████████████████████████████████████████████████████████████| 44/44 [00:04<00:00,  9.07it/s]\n"
     ]
    },
    {
     "name": "stdout",
     "output_type": "stream",
     "text": [
      "5.832989(38)  \n",
      "#################################################################################\n",
      "# emb_model_update = 1 | -ve_method = all | dist_metric = euclidean | topk = 10 #\n",
      "#################################################################################\n",
      "╒════╤═════════╤═══════════╤═════════════════╤════════════════╤════════════════╤═════════════════╤════════════════╤════════════════╤═════════════════════════╕\n",
      "│    │    rmse │   cos_sim │   euc_rank_mean │   euc_rank_std │   euc_rank_tot │   cos_rank_mean │   cos_rank_std │   cos_rank_tot │ time(epoch_start-now)   │\n",
      "╞════╪═════════╪═══════════╪═════════════════╪════════════════╪════════════════╪═════════════════╪════════════════╪════════════════╪═════════════════════════╡\n",
      "│ 38 │ 4.39423 │  0.805293 │         54.9994 │        196.865 │        332.528 │         45.5998 │        176.484 │        332.528 │ 6.52 min                │\n",
      "╘════╧═════════╧═══════════╧═════════════════╧════════════════╧════════════════╧═════════════════╧════════════════╧════════════════╧═════════════════════════╛\n",
      "\n"
     ]
    },
    {
     "name": "stderr",
     "output_type": "stream",
     "text": [
      "100%|████████████████████████████████████████████████████████████████| 44/44 [00:05<00:00,  8.53it/s]\n"
     ]
    },
    {
     "name": "stdout",
     "output_type": "stream",
     "text": [
      "5.991335(39)  \n",
      "#################################################################################\n",
      "# emb_model_update = 1 | -ve_method = all | dist_metric = euclidean | topk = 10 #\n",
      "#################################################################################\n",
      "╒════╤═════════╤═══════════╤═════════════════╤════════════════╤════════════════╤═════════════════╤════════════════╤════════════════╤═════════════════════════╕\n",
      "│    │    rmse │   cos_sim │   euc_rank_mean │   euc_rank_std │   euc_rank_tot │   cos_rank_mean │   cos_rank_std │   cos_rank_tot │ time(epoch_start-now)   │\n",
      "╞════╪═════════╪═══════════╪═════════════════╪════════════════╪════════════════╪═════════════════╪════════════════╪════════════════╪═════════════════════════╡\n",
      "│ 39 │ 4.23943 │  0.814406 │         53.4168 │        191.506 │        332.528 │         42.4586 │        168.063 │        332.528 │ 6.53 min                │\n",
      "╘════╧═════════╧═══════════╧═════════════════╧════════════════╧════════════════╧═════════════════╧════════════════╧════════════════╧═════════════════════════╛\n",
      "\n"
     ]
    },
    {
     "name": "stderr",
     "output_type": "stream",
     "text": [
      "100%|████████████████████████████████████████████████████████████████| 44/44 [00:05<00:00,  8.73it/s]\n"
     ]
    },
    {
     "name": "stdout",
     "output_type": "stream",
     "text": [
      "4.502915(40)  \n",
      "#################################################################################\n",
      "# emb_model_update = 1 | -ve_method = all | dist_metric = euclidean | topk = 10 #\n",
      "#################################################################################\n",
      "╒════╤═════════╤═══════════╤═════════════════╤════════════════╤════════════════╤═════════════════╤════════════════╤════════════════╤═════════════════════════╕\n",
      "│    │    rmse │   cos_sim │   euc_rank_mean │   euc_rank_std │   euc_rank_tot │   cos_rank_mean │   cos_rank_std │   cos_rank_tot │ time(epoch_start-now)   │\n",
      "╞════╪═════════╪═══════════╪═════════════════╪════════════════╪════════════════╪═════════════════╪════════════════╪════════════════╪═════════════════════════╡\n",
      "│ 40 │ 4.26186 │  0.813121 │         51.5985 │        188.513 │        332.528 │         41.4719 │         165.66 │        332.528 │ 6.52 min                │\n",
      "╘════╧═════════╧═══════════╧═════════════════╧════════════════╧════════════════╧═════════════════╧════════════════╧════════════════╧═════════════════════════╛\n",
      "\n"
     ]
    },
    {
     "name": "stderr",
     "output_type": "stream",
     "text": [
      "100%|████████████████████████████████████████████████████████████████| 44/44 [00:05<00:00,  7.70it/s]\n"
     ]
    },
    {
     "name": "stdout",
     "output_type": "stream",
     "text": [
      "1.444632(41)  \n",
      "#################################################################################\n",
      "# emb_model_update = 1 | -ve_method = all | dist_metric = euclidean | topk = 10 #\n",
      "#################################################################################\n",
      "╒════╤═════════╤═══════════╤═════════════════╤════════════════╤════════════════╤═════════════════╤════════════════╤════════════════╤═════════════════════════╕\n",
      "│    │    rmse │   cos_sim │   euc_rank_mean │   euc_rank_std │   euc_rank_tot │   cos_rank_mean │   cos_rank_std │   cos_rank_tot │ time(epoch_start-now)   │\n",
      "╞════╪═════════╪═══════════╪═════════════════╪════════════════╪════════════════╪═════════════════╪════════════════╪════════════════╪═════════════════════════╡\n",
      "│ 41 │ 4.30121 │  0.812389 │         49.4663 │        181.263 │        332.528 │         40.8755 │        161.247 │        332.528 │ 6.38 min                │\n",
      "╘════╧═════════╧═══════════╧═════════════════╧════════════════╧════════════════╧═════════════════╧════════════════╧════════════════╧═════════════════════════╛\n",
      "\n"
     ]
    },
    {
     "name": "stderr",
     "output_type": "stream",
     "text": [
      "100%|████████████████████████████████████████████████████████████████| 44/44 [00:05<00:00,  7.50it/s]\n"
     ]
    },
    {
     "name": "stdout",
     "output_type": "stream",
     "text": [
      "BEST MODEL UPDATED! BEST RANK = 49.46633731617647\n",
      "5.988136(42)  \n",
      "#################################################################################\n",
      "# emb_model_update = 1 | -ve_method = all | dist_metric = euclidean | topk = 10 #\n",
      "#################################################################################\n",
      "╒════╤═════════╤═══════════╤═════════════════╤════════════════╤════════════════╤═════════════════╤════════════════╤════════════════╤═════════════════════════╕\n",
      "│    │    rmse │   cos_sim │   euc_rank_mean │   euc_rank_std │   euc_rank_tot │   cos_rank_mean │   cos_rank_std │   cos_rank_tot │ time(epoch_start-now)   │\n",
      "╞════╪═════════╪═══════════╪═════════════════╪════════════════╪════════════════╪═════════════════╪════════════════╪════════════════╪═════════════════════════╡\n",
      "│ 42 │ 4.31327 │  0.811117 │          51.528 │        188.572 │        332.528 │         41.6747 │        167.047 │        332.528 │ 6.56 min                │\n",
      "╘════╧═════════╧═══════════╧═════════════════╧════════════════╧════════════════╧═════════════════╧════════════════╧════════════════╧═════════════════════════╛\n",
      "\n"
     ]
    },
    {
     "name": "stderr",
     "output_type": "stream",
     "text": [
      "100%|████████████████████████████████████████████████████████████████| 44/44 [00:05<00:00,  8.40it/s]\n"
     ]
    },
    {
     "name": "stdout",
     "output_type": "stream",
     "text": [
      "3.934031(43)  \n",
      "#################################################################################\n",
      "# emb_model_update = 1 | -ve_method = all | dist_metric = euclidean | topk = 10 #\n",
      "#################################################################################\n",
      "╒════╤═════════╤═══════════╤═════════════════╤════════════════╤════════════════╤═════════════════╤════════════════╤════════════════╤═════════════════════════╕\n",
      "│    │    rmse │   cos_sim │   euc_rank_mean │   euc_rank_std │   euc_rank_tot │   cos_rank_mean │   cos_rank_std │   cos_rank_tot │ time(epoch_start-now)   │\n",
      "╞════╪═════════╪═══════════╪═════════════════╪════════════════╪════════════════╪═════════════════╪════════════════╪════════════════╪═════════════════════════╡\n",
      "│ 43 │ 4.25161 │  0.814375 │         53.8207 │        196.521 │        332.528 │         43.2871 │        174.112 │        332.528 │ 6.52 min                │\n",
      "╘════╧═════════╧═══════════╧═════════════════╧════════════════╧════════════════╧═════════════════╧════════════════╧════════════════╧═════════════════════════╛\n",
      "\n"
     ]
    },
    {
     "name": "stderr",
     "output_type": "stream",
     "text": [
      "100%|████████████████████████████████████████████████████████████████| 44/44 [00:05<00:00,  7.95it/s]\n"
     ]
    },
    {
     "name": "stdout",
     "output_type": "stream",
     "text": [
      "4.332134(44)  \n",
      "#################################################################################\n",
      "# emb_model_update = 1 | -ve_method = all | dist_metric = euclidean | topk = 10 #\n",
      "#################################################################################\n",
      "╒════╤═════════╤═══════════╤═════════════════╤════════════════╤════════════════╤═════════════════╤════════════════╤════════════════╤═════════════════════════╕\n",
      "│    │    rmse │   cos_sim │   euc_rank_mean │   euc_rank_std │   euc_rank_tot │   cos_rank_mean │   cos_rank_std │   cos_rank_tot │ time(epoch_start-now)   │\n",
      "╞════╪═════════╪═══════════╪═════════════════╪════════════════╪════════════════╪═════════════════╪════════════════╪════════════════╪═════════════════════════╡\n",
      "│ 44 │ 4.28401 │  0.811778 │         50.5977 │        185.873 │        332.528 │         40.4361 │        161.741 │        332.528 │ 6.39 min                │\n",
      "╘════╧═════════╧═══════════╧═════════════════╧════════════════╧════════════════╧═════════════════╧════════════════╧════════════════╧═════════════════════════╛\n",
      "\n"
     ]
    },
    {
     "name": "stderr",
     "output_type": "stream",
     "text": [
      "100%|████████████████████████████████████████████████████████████████| 44/44 [00:05<00:00,  7.70it/s]\n"
     ]
    },
    {
     "name": "stdout",
     "output_type": "stream",
     "text": [
      "4.972746(45)  \n",
      "#################################################################################\n",
      "# emb_model_update = 1 | -ve_method = all | dist_metric = euclidean | topk = 10 #\n",
      "#################################################################################\n",
      "╒════╤═════════╤═══════════╤═════════════════╤════════════════╤════════════════╤═════════════════╤════════════════╤════════════════╤═════════════════════════╕\n",
      "│    │    rmse │   cos_sim │   euc_rank_mean │   euc_rank_std │   euc_rank_tot │   cos_rank_mean │   cos_rank_std │   cos_rank_tot │ time(epoch_start-now)   │\n",
      "╞════╪═════════╪═══════════╪═════════════════╪════════════════╪════════════════╪═════════════════╪════════════════╪════════════════╪═════════════════════════╡\n",
      "│ 45 │ 4.26709 │  0.812595 │         52.8089 │        188.869 │        332.528 │         42.7942 │        165.513 │        332.528 │ 6.41 min                │\n",
      "╘════╧═════════╧═══════════╧═════════════════╧════════════════╧════════════════╧═════════════════╧════════════════╧════════════════╧═════════════════════════╛\n",
      "\n"
     ]
    },
    {
     "name": "stderr",
     "output_type": "stream",
     "text": [
      "100%|████████████████████████████████████████████████████████████████| 44/44 [00:05<00:00,  8.43it/s]\n"
     ]
    },
    {
     "name": "stdout",
     "output_type": "stream",
     "text": [
      "4.492398(46)  \n",
      "#################################################################################\n",
      "# emb_model_update = 1 | -ve_method = all | dist_metric = euclidean | topk = 10 #\n",
      "#################################################################################\n",
      "╒════╤═════════╤═══════════╤═════════════════╤════════════════╤════════════════╤═════════════════╤════════════════╤════════════════╤═════════════════════════╕\n",
      "│    │    rmse │   cos_sim │   euc_rank_mean │   euc_rank_std │   euc_rank_tot │   cos_rank_mean │   cos_rank_std │   cos_rank_tot │ time(epoch_start-now)   │\n",
      "╞════╪═════════╪═══════════╪═════════════════╪════════════════╪════════════════╪═════════════════╪════════════════╪════════════════╪═════════════════════════╡\n",
      "│ 46 │ 4.20625 │  0.815987 │         49.2834 │        181.276 │        332.528 │         38.6583 │        157.116 │        332.528 │ 6.45 min                │\n",
      "╘════╧═════════╧═══════════╧═════════════════╧════════════════╧════════════════╧═════════════════╧════════════════╧════════════════╧═════════════════════════╛\n",
      "\n"
     ]
    },
    {
     "name": "stderr",
     "output_type": "stream",
     "text": [
      "100%|████████████████████████████████████████████████████████████████| 44/44 [00:05<00:00,  8.05it/s]\n"
     ]
    },
    {
     "name": "stdout",
     "output_type": "stream",
     "text": [
      "BEST MODEL UPDATED! BEST RANK = 49.28343290441177\n",
      "4.872534(47)  \n",
      "#################################################################################\n",
      "# emb_model_update = 1 | -ve_method = all | dist_metric = euclidean | topk = 10 #\n",
      "#################################################################################\n",
      "╒════╤═════════╤═══════════╤═════════════════╤════════════════╤════════════════╤═════════════════╤════════════════╤════════════════╤═════════════════════════╕\n",
      "│    │    rmse │   cos_sim │   euc_rank_mean │   euc_rank_std │   euc_rank_tot │   cos_rank_mean │   cos_rank_std │   cos_rank_tot │ time(epoch_start-now)   │\n",
      "╞════╪═════════╪═══════════╪═════════════════╪════════════════╪════════════════╪═════════════════╪════════════════╪════════════════╪═════════════════════════╡\n",
      "│ 47 │ 4.27465 │  0.809286 │         50.9212 │        187.055 │        332.528 │         39.7312 │        160.924 │        332.528 │ 6.61 min                │\n",
      "╘════╧═════════╧═══════════╧═════════════════╧════════════════╧════════════════╧═════════════════╧════════════════╧════════════════╧═════════════════════════╛\n",
      "\n"
     ]
    },
    {
     "name": "stderr",
     "output_type": "stream",
     "text": [
      "100%|████████████████████████████████████████████████████████████████| 44/44 [00:06<00:00,  7.28it/s]\n"
     ]
    },
    {
     "name": "stdout",
     "output_type": "stream",
     "text": [
      "3.664834(48)  \n",
      "#################################################################################\n",
      "# emb_model_update = 1 | -ve_method = all | dist_metric = euclidean | topk = 10 #\n",
      "#################################################################################\n",
      "╒════╤═════════╤═══════════╤═════════════════╤════════════════╤════════════════╤═════════════════╤════════════════╤════════════════╤═════════════════════════╕\n",
      "│    │    rmse │   cos_sim │   euc_rank_mean │   euc_rank_std │   euc_rank_tot │   cos_rank_mean │   cos_rank_std │   cos_rank_tot │ time(epoch_start-now)   │\n",
      "╞════╪═════════╪═══════════╪═════════════════╪════════════════╪════════════════╪═════════════════╪════════════════╪════════════════╪═════════════════════════╡\n",
      "│ 48 │ 4.29034 │   0.81079 │         49.8404 │        181.408 │        332.528 │         40.4644 │         161.02 │        332.528 │ 6.50 min                │\n",
      "╘════╧═════════╧═══════════╧═════════════════╧════════════════╧════════════════╧═════════════════╧════════════════╧════════════════╧═════════════════════════╛\n",
      "\n"
     ]
    },
    {
     "name": "stderr",
     "output_type": "stream",
     "text": [
      "100%|████████████████████████████████████████████████████████████████| 44/44 [00:05<00:00,  8.04it/s]\n"
     ]
    },
    {
     "name": "stdout",
     "output_type": "stream",
     "text": [
      "3.332379(49)  \n",
      "#################################################################################\n",
      "# emb_model_update = 1 | -ve_method = all | dist_metric = euclidean | topk = 10 #\n",
      "#################################################################################\n",
      "╒════╤═════════╤═══════════╤═════════════════╤════════════════╤════════════════╤═════════════════╤════════════════╤════════════════╤═════════════════════════╕\n",
      "│    │    rmse │   cos_sim │   euc_rank_mean │   euc_rank_std │   euc_rank_tot │   cos_rank_mean │   cos_rank_std │   cos_rank_tot │ time(epoch_start-now)   │\n",
      "╞════╪═════════╪═══════════╪═════════════════╪════════════════╪════════════════╪═════════════════╪════════════════╪════════════════╪═════════════════════════╡\n",
      "│ 49 │ 4.23406 │  0.814565 │         48.9663 │        180.352 │        332.528 │         39.4416 │        159.361 │        332.528 │ 6.64 min                │\n",
      "╘════╧═════════╧═══════════╧═════════════════╧════════════════╧════════════════╧═════════════════╧════════════════╧════════════════╧═════════════════════════╛\n",
      "\n"
     ]
    },
    {
     "name": "stderr",
     "output_type": "stream",
     "text": [
      "100%|████████████████████████████████████████████████████████████████| 44/44 [00:05<00:00,  8.18it/s]\n"
     ]
    },
    {
     "name": "stdout",
     "output_type": "stream",
     "text": [
      "BEST MODEL UPDATED! BEST RANK = 48.96627987132353\n",
      "4.708753(50)  \n",
      "#################################################################################\n",
      "# emb_model_update = 1 | -ve_method = all | dist_metric = euclidean | topk = 10 #\n",
      "#################################################################################\n",
      "╒════╤═════════╤═══════════╤═════════════════╤════════════════╤════════════════╤═════════════════╤════════════════╤════════════════╤═════════════════════════╕\n",
      "│    │    rmse │   cos_sim │   euc_rank_mean │   euc_rank_std │   euc_rank_tot │   cos_rank_mean │   cos_rank_std │   cos_rank_tot │ time(epoch_start-now)   │\n",
      "╞════╪═════════╪═══════════╪═════════════════╪════════════════╪════════════════╪═════════════════╪════════════════╪════════════════╪═════════════════════════╡\n",
      "│ 50 │ 4.15833 │  0.820054 │         48.5949 │        180.259 │        332.528 │          38.978 │        157.865 │        332.528 │ 6.53 min                │\n",
      "╘════╧═════════╧═══════════╧═════════════════╧════════════════╧════════════════╧═════════════════╧════════════════╧════════════════╧═════════════════════════╛\n",
      "\n"
     ]
    },
    {
     "name": "stderr",
     "output_type": "stream",
     "text": [
      "100%|████████████████████████████████████████████████████████████████| 44/44 [00:05<00:00,  8.10it/s]\n"
     ]
    },
    {
     "name": "stdout",
     "output_type": "stream",
     "text": [
      "BEST MODEL UPDATED! BEST RANK = 48.594898897058826\n"
     ]
    },
    {
     "data": {
      "image/png": "[encoded data removed]",
      "text/plain": [
       "<Figure size 800x800 with 1 Axes>"
      ]
     },
     "metadata": {},
     "output_type": "display_data"
    }
   ],
   "source": [
    "lr = 1e-3\n",
    "epochs = 50\n",
    "batch_size = 128\n",
    "\n",
    "\n",
    "for distance_metric, negative_method, topk, emb_model_update in itertools.product([\"euclidean\"], [\"all\"], [10], [1]):\n",
    "    print(\"@\"*190)\n",
    "    print(\"@\"*190)\n",
    "    print(\"@\"*190)\n",
    "    \n",
    "    best_rank = 10000\n",
    "    best_model = None\n",
    "    \n",
    "    model = PolicyNetwork().to(device)\n",
    "    embedding_model = torch.load(\"models/zinc2m_gin.pth\").to(device)\n",
    "    optimizer = torch.optim.Adam(model.parameters(), lr=lr)  \n",
    "    criterion = WeightedRegularizedTriplet()\n",
    "    \n",
    "    action_embeddings = get_action_dataset_embeddings(embedding_model)\n",
    "    action_embeddings_norm = torch.linalg.norm(action_embeddings, axis=1)\n",
    "    \n",
    "    metric_dict = {\"cos_rank_mean\": [], \"euc_rank_mean\": [], \"cos_rank_std\": [], \"euc_rank_std\": [], \n",
    "                   \"cos_rank_tot\": [], \"euc_rank_tot\": [], \"rmse\": [], \"cos_sim\": [], \"time(epoch_start-now)\": []}\n",
    "    # Train the model\n",
    "    for epoch in range(1, epochs+1):\n",
    "        start_time = time.time()\n",
    "        model.train()\n",
    "        for i in range(0, train_reactants.batch_size - batch_size, batch_size):\n",
    "            # Forward pass\n",
    "            outputs = model(train_reactants[i:i+batch_size], train_products[i:i+batch_size])\n",
    "\n",
    "            # Calc negatives\n",
    "            negatives = []\n",
    "            \n",
    "            for _i in range(outputs.shape[0]):\n",
    "                curr_out = outputs[_i].detach()\n",
    "\n",
    "                if negative_method == \"applicable\":\n",
    "                    act_emb_for_i, correct_applicable_index = action_embeddings[action_embedding_indices[train_idx[i+_i]]], correct_applicable_indices[train_idx[i+_i]]\n",
    "                    top = get_top_k_indices(curr_out, act_emb_for_i, correct_applicable_index, distance=distance_metric, k=50)\n",
    "                    negatives.append(act_emb_for_i[top])\n",
    "                \n",
    "                elif negative_method == \"all\":\n",
    "                    correct_action_dataset_index = correct_action_dataset_indices[train_idx[i+_i]]\n",
    "                    if distance_metric == \"euclidean\":\n",
    "                        dist = torch.linalg.norm(action_embeddings - curr_out, axis=1)\n",
    "                    elif distance_metric == \"cosine\":\n",
    "                        dist = (1 - action_embeddings.dot(curr_out)) / (action_embeddings_norm *torch.linalg.norm(curr_out))\n",
    "                    sorted_idx = torch.argsort(dist)[:topk] # get topk\n",
    "                    sorted_idx = sorted_idx[sorted_idx != correct_action_dataset_index] # Remove if correct index in list\n",
    "                    negatives.append(action_embeddings[sorted_idx])\n",
    "                        \n",
    "            negatives = torch.Tensor(torch.concatenate(negatives, axis=0)).to(device)\n",
    "                                \n",
    "            # get targets\n",
    "            targets = torch.Tensor(get_action_embedding(embedding_model, main_df.iloc[i:i+batch_size][main_df.columns[1:-1]])).to(device)\n",
    "                                \n",
    "            # Calc loss\n",
    "            inputs = torch.concat([outputs, targets, negatives])\n",
    "            labels = torch.concat([torch.arange(outputs.shape[0]), torch.arange(targets.shape[0]), torch.full((negatives.shape[0],), -1)]).to(device)\n",
    "            loss = criterion(inputs, labels)\n",
    "\n",
    "            # Backward and optimize\n",
    "            optimizer.zero_grad()\n",
    "            loss.backward()\n",
    "            optimizer.step()\n",
    "\n",
    "        print ('{:.6f}({})'.format(loss.item(), epoch), end='  ')\n",
    "        \n",
    "        # SWITCH INDENT HERE ----\n",
    "        model.eval()\n",
    "        with torch.no_grad():\n",
    "            print()\n",
    "\n",
    "            margin_string = f\"# emb_model_update = {emb_model_update} | -ve_method = {negative_method} | dist_metric = {distance_metric} | topk = {topk} #\"\n",
    "            print(\"#\" * len(margin_string))\n",
    "            print(margin_string)\n",
    "            print(\"#\" * len(margin_string))\n",
    "\n",
    "            # Predictions and action component-wise loss\n",
    "            pred = model(test_reactants, test_products).detach()\n",
    "            true = get_action_embedding(embedding_model, main_df.iloc[test_idx][main_df.columns[1:-1]])\n",
    "\n",
    "            metric_df = pd.DataFrame(columns=[\"rmse\", \"cos_sim\", \"euc_rank_mean\", \"euc_rank_std\", \"euc_rank_tot\", \"cos_rank_mean\", \"cos_rank_std\", \"cos_rank_tot\", \"time(epoch_start-now)\"])\n",
    "\n",
    "            # Print Test metrics\n",
    "            metric_dict[\"rmse\"].append( (((pred-true)**2).sum(axis=1)**0.5).mean().item() )\n",
    "            metric_dict[\"cos_sim\"].append( ((pred*true).sum(axis=1) / torch.linalg.norm(pred, axis=1) / torch.linalg.norm(true, axis=1)).mean().item() )\n",
    "\n",
    "            # Print Test metric - Rank\n",
    "            for dist in [\"euclidean\", \"cosine\"]:\n",
    "                rank_list = []\n",
    "                l = []\n",
    "                total = []\n",
    "                for i in range(pred.shape[0]):\n",
    "                    pred_for_i = pred[i]\n",
    "                    act_emb_for_i, correct_applicable_index = action_embeddings[action_embedding_indices[test_idx[i]]], correct_applicable_indices[test_idx[i]]\n",
    "\n",
    "                    rank, list_of_indices = get_ranking(pred_for_i, act_emb_for_i, correct_applicable_index, distance=dist)\n",
    "                    l.append(rank.item())\n",
    "                    total.append(act_emb_for_i.shape[0])\n",
    "                rank_list.append(f\"{np.mean(l):.4f}({np.mean(total)}) +- {np.std(l):.4f}\")\n",
    "                metric_dict[f\"{dist[:3]}_rank_mean\"].append(np.mean(l))\n",
    "                metric_dict[f\"{dist[:3]}_rank_std\"].append(np.std(l))\n",
    "                metric_dict[f\"{dist[:3]}_rank_tot\"].append(np.mean(total))\n",
    "\n",
    "            metric_dict[\"time(epoch_start-now)\"].append(f\"{(time.time()-start_time)/60:.2f} min\")\n",
    "            for col in metric_df.columns:\n",
    "                metric_df[col] = [metric_dict[col][-1]]\n",
    "            metric_df.index = [epoch]\n",
    "            print(tabulate(metric_df, headers='keys', tablefmt='fancy_grid'))\n",
    "            print()\n",
    "            \n",
    "        # Update embedding model and action_embeddings\n",
    "        if epoch % emb_model_update == 0:\n",
    "            embedding_model.load_state_dict(model.GIN.state_dict())\n",
    "            action_embeddings = get_action_dataset_embeddings(embedding_model)\n",
    "            action_embeddings_norm = torch.linalg.norm(action_embeddings, axis=1)\n",
    "\n",
    "        # Update best model\n",
    "        if metric_dict[\"euc_rank_mean\"][-1] < best_rank:\n",
    "            best_rank = metric_dict[\"euc_rank_mean\"][-1]\n",
    "            best_model = type(model)()\n",
    "            best_model.load_state_dict(model.state_dict())\n",
    "            best_epoch = epoch\n",
    "            print(f\"BEST MODEL UPDATED! BEST RANK = {best_rank}\")\n",
    "            \n",
    "    fig = plt.figure(figsize=(8, 8))\n",
    "    for dist in filter(lambda x: \"mean\" in x, metric_dict.keys()):\n",
    "        plt.plot(metric_dict[dist], label=dist)\n",
    "    plt.title(\"Ranks\")\n",
    "    plt.xlabel(\"epoch\")\n",
    "    plt.ylabel(\"ranking\")\n",
    "    plt.legend()\n",
    "    fig.show()\n",
    "    \n",
    "    # save everything\n",
    "    folder = f\"models/supervised/{steps}step/emb_model_update={emb_model_update}||-ve_method={negative_method}||dist_metric={distance_metric}||topk={topk}\"\n",
    "    os.makedirs(folder, exist_ok = True)\n",
    "    torch.save(model, os.path.join(folder, \"model.pth\"))\n",
    "    pd.DataFrame.from_dict(metric_dict).to_csv(os.path.join(folder, \"metrics.csv\"))\n",
    "    fig.savefig(os.path.join(folder, \"plot.png\"))\n",
    "    json.dump({\n",
    "        \"lr\": lr,\n",
    "        \"epochs\": epochs, \n",
    "        \"batch_size\": batch_size,\n",
    "        \"train_samples\": train_idx.shape,\n",
    "        \"test_samples\": test_idx.shape,\n",
    "        \"distance_metric\": distance_metric,\n",
    "        \"negative_method\": negative_method,\n",
    "        \"topk\": topk,\n",
    "        \"emb_model_update\": emb_model_update,\n",
    "        \"best_epoch\": best_epoch,\n",
    "        \"best_rank\": best_rank\n",
    "    }, open(os.path.join(folder, \"config.txt\"), 'w'))"
   ]
  },
  {
   "cell_type": "code",
   "execution_count": null,
   "id": "6b39caeb",
   "metadata": {},
   "outputs": [],
   "source": []
  }
 ],
 "metadata": {
  "kernelspec": {
   "display_name": "Python 3 (ipykernel)",
   "language": "python",
   "name": "python3"
  },
  "language_info": {
   "codemirror_mode": {
    "name": "ipython",
    "version": 3
   },
   "file_extension": ".py",
   "mimetype": "text/x-python",
   "name": "python",
   "nbconvert_exporter": "python",
   "pygments_lexer": "ipython3",
   "version": "3.7.16"
  }
 },
 "nbformat": 4,
 "nbformat_minor": 5
}
