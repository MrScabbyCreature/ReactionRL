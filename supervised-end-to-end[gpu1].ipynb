{
 "cells": [
  {
   "cell_type": "code",
   "execution_count": 29,
   "id": "c1cfa57a",
   "metadata": {
    "tags": []
   },
   "outputs": [],
   "source": [
    "%run supervised_functions.ipynb"
   ]
  },
  {
   "cell_type": "markdown",
   "id": "17a37d93",
   "metadata": {
    "tags": []
   },
   "source": [
    "# Generate data"
   ]
  },
  {
   "cell_type": "code",
   "execution_count": null,
   "id": "93d77759",
   "metadata": {},
   "outputs": [],
   "source": [
    "start_mols = pickle.load(open(\"datasets/my_uspto/unique_start_mols.pickle\", 'rb'))"
   ]
  },
  {
   "cell_type": "code",
   "execution_count": 9,
   "id": "660f7320",
   "metadata": {
    "scrolled": true,
    "tags": []
   },
   "outputs": [
    {
     "name": "stderr",
     "output_type": "stream",
     "text": [
      "100272it [03:55, 425.71it/s]                                                                         \n"
     ]
    },
    {
     "name": "stdout",
     "output_type": "stream",
     "text": [
      "(100272, 10)\n",
      "(100272, 10)\n"
     ]
    }
   ],
   "source": [
    "np.random.seed(42)\n",
    "\n",
    "N = 100000\n",
    "steps = 1\n",
    "\n",
    "df_list = []\n",
    "final_shape = 0\n",
    "smiles_per_random_sample = 1000\n",
    "pool_chunk_size = 10\n",
    "\n",
    "# Create dataset for multi-step pred\n",
    "with Pool(30) as p, tqdm.tqdm(total=N) as pbar:\n",
    "    while final_shape < N:\n",
    "        smiles = np.random.choice(start_mols, size=(smiles_per_random_sample,))\n",
    "\n",
    "        for new_df in p.imap_unordered(functools.partial(generate_train_data, steps=steps), smiles, chunksize=10):\n",
    "            df_list.append(new_df)\n",
    "            final_shape += new_df.shape[0]\n",
    "            \n",
    "        pbar.update(final_shape - pbar.n)\n",
    "\n",
    "main_df = pd.concat(df_list)\n",
    "del df_list\n",
    "print(main_df.shape)\n",
    "\n",
    "# randomize\n",
    "main_df = pd.concat([main_df[:int(main_df.shape[0]*0.8)].sample(frac=1), main_df[int(main_df.shape[0]*0.8):].sample(frac=1)])\n",
    "print(main_df.shape)"
   ]
  },
  {
   "cell_type": "markdown",
   "id": "56d58b5a",
   "metadata": {},
   "source": [
    "# Neural Network!"
   ]
  },
  {
   "cell_type": "code",
   "execution_count": 10,
   "id": "3432cfc9",
   "metadata": {
    "tags": []
   },
   "outputs": [],
   "source": [
    "device = torch.device(\"cuda:1\" if torch.cuda.is_available() else \"cpu\")"
   ]
  },
  {
   "cell_type": "code",
   "execution_count": 12,
   "id": "48289f6d",
   "metadata": {
    "tags": []
   },
   "outputs": [
    {
     "name": "stdout",
     "output_type": "stream",
     "text": [
      "Epoch 1, Loss: 23151.4941\n",
      "Epoch 2, Loss: 13421.6543\n",
      "Epoch 3, Loss: 5006.6743\n",
      "Epoch 4, Loss: 1424.6224\n",
      "Epoch 5, Loss: 517.5692\n",
      "Epoch 6, Loss: 364.8164\n",
      "Epoch 7, Loss: 346.8831\n",
      "Epoch 8, Loss: 332.0376\n",
      "Epoch 9, Loss: 334.5102\n",
      "Epoch 10, Loss: 327.3152\n",
      "\n",
      "FINAL TEST LOSS: 59.57931137084961\n"
     ]
    },
    {
     "data": {
      "image/png": "[encoded data removed]",
      "text/plain": [
       "<Figure size 640x480 with 1 Axes>"
      ]
     },
     "metadata": {},
     "output_type": "display_data"
    },
    {
     "name": "stdout",
     "output_type": "stream",
     "text": [
      "CPU times: user 7.42 s, sys: 897 ms, total: 8.32 s\n",
      "Wall time: 4.18 s\n"
     ]
    },
    {
     "data": {
      "text/plain": [
       "NeuralNet(\n",
       "  (fc1): Linear(in_features=20, out_features=20, bias=True)\n",
       "  (bn1): BatchNorm1d(20, eps=1e-05, momentum=0.1, affine=True, track_running_stats=True)\n",
       "  (relu): ReLU()\n",
       "  (hidden_layers): ModuleList(\n",
       "    (0): Linear(in_features=20, out_features=20, bias=True)\n",
       "    (1): BatchNorm1d(20, eps=1e-05, momentum=0.1, affine=True, track_running_stats=True)\n",
       "    (2): ReLU()\n",
       "    (3): Linear(in_features=20, out_features=20, bias=True)\n",
       "    (4): BatchNorm1d(20, eps=1e-05, momentum=0.1, affine=True, track_running_stats=True)\n",
       "    (5): ReLU()\n",
       "  )\n",
       "  (last_layer): Linear(in_features=20, out_features=1, bias=True)\n",
       ")"
      ]
     },
     "execution_count": 12,
     "metadata": {},
     "output_type": "execute_result"
    }
   ],
   "source": [
    "from sklearn.datasets import make_regression\n",
    "x, y = make_regression(n_samples=5000, n_features=20, noise=2, random_state=42)\n",
    "y = y.reshape(-1, 1)\n",
    "\n",
    "batch_size = 64\n",
    "\n",
    "%time train(x, y, num_hidden=2, hidden_size=20, lr=1e-2, epochs=10)"
   ]
  },
  {
   "cell_type": "markdown",
   "id": "e662cf55",
   "metadata": {},
   "source": [
    "# Embedding type 2 - GIN training using attribute masking on clintox"
   ]
  },
  {
   "cell_type": "code",
   "execution_count": 13,
   "id": "a32366ba",
   "metadata": {
    "tags": []
   },
   "outputs": [],
   "source": [
    "model_name = \"models/zinc2m_gin.pth\"\n",
    "gin_model = torch.load(model_name).to(device)"
   ]
  },
  {
   "cell_type": "code",
   "execution_count": 17,
   "id": "a6003605",
   "metadata": {
    "scrolled": false
   },
   "outputs": [
    {
     "name": "stderr",
     "output_type": "stream",
     "text": [
      "  2%|█▎                                                               | 2/98 [00:06<05:32,  3.46s/it]/home/abhor/miniconda3/envs/de_novo/lib/python3.7/site-packages/torchdrug-0.2.0-py3.7.egg/torchdrug/data/feature.py:42: UserWarning: Unknown value `Al`\n",
      "  warnings.warn(\"Unknown value `%s`\" % x)\n",
      "  3%|█▉                                                               | 3/98 [00:10<05:17,  3.34s/it]/home/abhor/miniconda3/envs/de_novo/lib/python3.7/site-packages/torchdrug-0.2.0-py3.7.egg/torchdrug/data/feature.py:42: UserWarning: Unknown value `Pb`\n",
      "  warnings.warn(\"Unknown value `%s`\" % x)\n",
      " 13%|████████▍                                                       | 13/98 [00:43<04:42,  3.32s/it]/home/abhor/miniconda3/envs/de_novo/lib/python3.7/site-packages/torchdrug-0.2.0-py3.7.egg/torchdrug/data/feature.py:42: UserWarning: Unknown value `Ta`\n",
      "  warnings.warn(\"Unknown value `%s`\" % x)\n",
      " 16%|██████████▍                                                     | 16/98 [00:54<04:56,  3.62s/it]/home/abhor/miniconda3/envs/de_novo/lib/python3.7/site-packages/torchdrug-0.2.0-py3.7.egg/torchdrug/data/feature.py:42: UserWarning: Unknown value `Cd`\n",
      "  warnings.warn(\"Unknown value `%s`\" % x)\n",
      " 24%|███████████████▋                                                | 24/98 [01:21<04:08,  3.36s/it]/home/abhor/miniconda3/envs/de_novo/lib/python3.7/site-packages/torchdrug-0.2.0-py3.7.egg/torchdrug/data/feature.py:42: UserWarning: Unknown value `Ru`\n",
      "  warnings.warn(\"Unknown value `%s`\" % x)\n",
      " 34%|█████████████████████▌                                          | 33/98 [01:52<03:39,  3.37s/it]/home/abhor/miniconda3/envs/de_novo/lib/python3.7/site-packages/torchdrug-0.2.0-py3.7.egg/torchdrug/data/feature.py:42: UserWarning: Unknown value `Ga`\n",
      "  warnings.warn(\"Unknown value `%s`\" % x)\n",
      " 47%|██████████████████████████████                                  | 46/98 [02:35<02:54,  3.36s/it]/home/abhor/miniconda3/envs/de_novo/lib/python3.7/site-packages/torchdrug-0.2.0-py3.7.egg/torchdrug/data/feature.py:42: UserWarning: Unknown value `Na`\n",
      "  warnings.warn(\"Unknown value `%s`\" % x)\n",
      " 56%|███████████████████████████████████▉                            | 55/98 [03:05<02:20,  3.28s/it]/home/abhor/miniconda3/envs/de_novo/lib/python3.7/site-packages/torchdrug-0.2.0-py3.7.egg/torchdrug/data/feature.py:42: UserWarning: Unknown value `Cr`\n",
      "  warnings.warn(\"Unknown value `%s`\" % x)\n",
      " 72%|██████████████████████████████████████████████▎                 | 71/98 [04:00<01:34,  3.51s/it]/home/abhor/miniconda3/envs/de_novo/lib/python3.7/site-packages/torchdrug-0.2.0-py3.7.egg/torchdrug/data/feature.py:42: UserWarning: Unknown value `As`\n",
      "  warnings.warn(\"Unknown value `%s`\" % x)\n",
      "100%|████████████████████████████████████████████████████████████████| 98/98 [05:34<00:00,  3.41s/it]\n"
     ]
    },
    {
     "data": {
      "text/plain": [
       "torch.Size([100272, 256])"
      ]
     },
     "execution_count": 17,
     "metadata": {},
     "output_type": "execute_result"
    }
   ],
   "source": [
    "batch_size = 1024\n",
    "X = []\n",
    "for i in tqdm.tqdm(range(0, main_df.shape[0], batch_size)):\n",
    "    reactants = main_df[\"reactant\"][i:i+batch_size]\n",
    "    products = main_df[\"product\"][i:i+batch_size]\n",
    "    X.append(torch.concatenate([get_mol_embedding(gin_model, reactants), get_mol_embedding(gin_model, products)], axis=1))\n",
    "X = torch.concatenate(X, axis=0)\n",
    "emb_len = X.shape[1]//2\n",
    "X.shape"
   ]
  },
  {
   "cell_type": "code",
   "execution_count": 18,
   "id": "14ab411d",
   "metadata": {},
   "outputs": [
    {
     "name": "stderr",
     "output_type": "stream",
     "text": [
      "100%|████████████████████████████████████████████████████████████████| 98/98 [04:21<00:00,  2.67s/it]\n"
     ]
    },
    {
     "data": {
      "text/plain": [
       "torch.Size([100272, 256])"
      ]
     },
     "execution_count": 18,
     "metadata": {},
     "output_type": "execute_result"
    }
   ],
   "source": [
    "Y = []\n",
    "for i in tqdm.tqdm(range(0, main_df.shape[0], batch_size)):\n",
    "    Y.append(get_action_embedding(gin_model, main_df.iloc[i:i+batch_size][main_df.columns[1:-1]]))\n",
    "Y = torch.concatenate(Y)\n",
    "Y.shape"
   ]
  },
  {
   "cell_type": "markdown",
   "id": "32d1c369",
   "metadata": {},
   "source": [
    "### MSE training"
   ]
  },
  {
   "cell_type": "code",
   "execution_count": 19,
   "id": "04ffae30",
   "metadata": {
    "scrolled": true
   },
   "outputs": [
    {
     "name": "stdout",
     "output_type": "stream",
     "text": [
      "Epoch 1, Loss: 0.0618\n",
      "Epoch 2, Loss: 0.0478\n",
      "Epoch 3, Loss: 0.0399\n",
      "Epoch 4, Loss: 0.0343\n",
      "Epoch 5, Loss: 0.0303\n",
      "Epoch 6, Loss: 0.0276\n",
      "Epoch 7, Loss: 0.0257\n",
      "Epoch 8, Loss: 0.0241\n",
      "Epoch 9, Loss: 0.0228\n",
      "Epoch 10, Loss: 0.0214\n",
      "Epoch 11, Loss: 0.0202\n",
      "Epoch 12, Loss: 0.0196\n",
      "Epoch 13, Loss: 0.0189\n",
      "Epoch 14, Loss: 0.0174\n",
      "Epoch 15, Loss: 0.0168\n",
      "Epoch 16, Loss: 0.0160\n",
      "Epoch 17, Loss: 0.0154\n",
      "Epoch 18, Loss: 0.0148\n",
      "Epoch 19, Loss: 0.0144\n",
      "Epoch 20, Loss: 0.0142\n",
      "Epoch 21, Loss: 0.0141\n",
      "Epoch 22, Loss: 0.0139\n",
      "Epoch 23, Loss: 0.0134\n",
      "Epoch 24, Loss: 0.0128\n",
      "Epoch 25, Loss: 0.0125\n",
      "Epoch 26, Loss: 0.0125\n",
      "Epoch 27, Loss: 0.0121\n",
      "Epoch 28, Loss: 0.0115\n",
      "Epoch 29, Loss: 0.0111\n",
      "Epoch 30, Loss: 0.0108\n",
      "Epoch 31, Loss: 0.0106\n",
      "Epoch 32, Loss: 0.0105\n",
      "Epoch 33, Loss: 0.0104\n",
      "Epoch 34, Loss: 0.0103\n",
      "Epoch 35, Loss: 0.0100\n",
      "Epoch 36, Loss: 0.0099\n",
      "Epoch 37, Loss: 0.0098\n",
      "Epoch 38, Loss: 0.0098\n",
      "Epoch 39, Loss: 0.0097\n",
      "Epoch 40, Loss: 0.0097\n",
      "Epoch 41, Loss: 0.0096\n",
      "Epoch 42, Loss: 0.0095\n",
      "Epoch 43, Loss: 0.0091\n",
      "Epoch 44, Loss: 0.0090\n",
      "Epoch 45, Loss: 0.0089\n",
      "Epoch 46, Loss: 0.0088\n",
      "Epoch 47, Loss: 0.0087\n",
      "Epoch 48, Loss: 0.0086\n",
      "Epoch 49, Loss: 0.0086\n",
      "Epoch 50, Loss: 0.0090\n",
      "Epoch 51, Loss: 0.0088\n",
      "Epoch 52, Loss: 0.0088\n",
      "Epoch 53, Loss: 0.0087\n",
      "Epoch 54, Loss: 0.0086\n",
      "Epoch 55, Loss: 0.0083\n",
      "Epoch 56, Loss: 0.0083\n",
      "Epoch 57, Loss: 0.0081\n",
      "Epoch 58, Loss: 0.0080\n",
      "Epoch 59, Loss: 0.0079\n",
      "Epoch 60, Loss: 0.0078\n",
      "Epoch 61, Loss: 0.0077\n",
      "Epoch 62, Loss: 0.0077\n",
      "Epoch 63, Loss: 0.0076\n",
      "Epoch 64, Loss: 0.0075\n",
      "Epoch 65, Loss: 0.0075\n",
      "Epoch 66, Loss: 0.0073\n",
      "Epoch 67, Loss: 0.0074\n",
      "Epoch 68, Loss: 0.0073\n",
      "Epoch 69, Loss: 0.0074\n",
      "Epoch 70, Loss: 0.0072\n",
      "Epoch 71, Loss: 0.0071\n",
      "Epoch 72, Loss: 0.0070\n",
      "Epoch 73, Loss: 0.0071\n",
      "Epoch 74, Loss: 0.0069\n",
      "Epoch 75, Loss: 0.0069\n",
      "Epoch 76, Loss: 0.0068\n",
      "Epoch 77, Loss: 0.0070\n",
      "Epoch 78, Loss: 0.0069\n",
      "Epoch 79, Loss: 0.0068\n",
      "Epoch 80, Loss: 0.0068\n",
      "Epoch 81, Loss: 0.0068\n",
      "Epoch 82, Loss: 0.0066\n",
      "Epoch 83, Loss: 0.0066\n",
      "Epoch 84, Loss: 0.0066\n",
      "Epoch 85, Loss: 0.0067\n",
      "Epoch 86, Loss: 0.0066\n",
      "Epoch 87, Loss: 0.0064\n",
      "Epoch 88, Loss: 0.0062\n",
      "Epoch 89, Loss: 0.0062\n",
      "Epoch 90, Loss: 0.0063\n",
      "Epoch 91, Loss: 0.0064\n",
      "Epoch 92, Loss: 0.0065\n",
      "Epoch 93, Loss: 0.0065\n",
      "Epoch 94, Loss: 0.0065\n",
      "Epoch 95, Loss: 0.0065\n",
      "Epoch 96, Loss: 0.0063\n",
      "Epoch 97, Loss: 0.0062\n",
      "Epoch 98, Loss: 0.0064\n",
      "Epoch 99, Loss: 0.0062\n",
      "Epoch 100, Loss: 0.0060\n",
      "\n",
      "FINAL TEST LOSS: 0.02135680802166462\n"
     ]
    },
    {
     "data": {
      "image/png": "[encoded data removed]",
      "text/plain": [
       "<Figure size 640x480 with 1 Axes>"
      ]
     },
     "metadata": {},
     "output_type": "display_data"
    }
   ],
   "source": [
    "model = train(X, Y, hidden_size=500, num_hidden=3, lr=1e-3, epochs=100)"
   ]
  },
  {
   "cell_type": "code",
   "execution_count": 20,
   "id": "57264831",
   "metadata": {},
   "outputs": [],
   "source": [
    "torch.save(model, \"datasets/my_uspto/supervised_zinc_gin/mse_model.pth\")"
   ]
  },
  {
   "cell_type": "code",
   "execution_count": 21,
   "id": "ddae391d",
   "metadata": {},
   "outputs": [
    {
     "name": "stdout",
     "output_type": "stream",
     "text": [
      "(89384, 8)\n"
     ]
    },
    {
     "name": "stderr",
     "output_type": "stream",
     "text": [
      "/home/abhor/miniconda3/envs/de_novo/lib/python3.7/site-packages/torchdrug-0.2.0-py3.7.egg/torchdrug/data/feature.py:42: UserWarning: Unknown value `Ge`\n",
      "  warnings.warn(\"Unknown value `%s`\" % x)\n",
      "/home/abhor/miniconda3/envs/de_novo/lib/python3.7/site-packages/torchdrug-0.2.0-py3.7.egg/torchdrug/data/feature.py:42: UserWarning: Unknown value `K`\n",
      "  warnings.warn(\"Unknown value `%s`\" % x)\n",
      "/home/abhor/miniconda3/envs/de_novo/lib/python3.7/site-packages/torchdrug-0.2.0-py3.7.egg/torchdrug/data/feature.py:42: UserWarning: Unknown value `Ti`\n",
      "  warnings.warn(\"Unknown value `%s`\" % x)\n",
      "/home/abhor/miniconda3/envs/de_novo/lib/python3.7/site-packages/torchdrug-0.2.0-py3.7.egg/torchdrug/data/feature.py:42: UserWarning: Unknown value `Pt`\n",
      "  warnings.warn(\"Unknown value `%s`\" % x)\n",
      "100%|████████████████████████████████████████████████████████████████| 44/44 [00:05<00:00,  7.42it/s]"
     ]
    },
    {
     "name": "stdout",
     "output_type": "stream",
     "text": [
      "torch.Size([89384, 256])\n"
     ]
    },
    {
     "name": "stderr",
     "output_type": "stream",
     "text": [
      "\n"
     ]
    }
   ],
   "source": [
    "action_dataset = pd.read_csv(\"datasets/my_uspto/action_dataset-filtered.csv\", index_col=0)\n",
    "action_dataset = action_dataset.loc[action_dataset[\"action_tested\"] & action_dataset[\"action_works\"]]\n",
    "action_dataset = action_dataset[[\"rsub\", \"rcen\", \"rsig\", \"rbond\", \"psub\", \"pcen\", \"psig\", \"pbond\"]]\n",
    "print(action_dataset.shape)\n",
    "\n",
    "action_rsigs = data.Molecule.pack(list(map(molecule_from_smile, action_dataset[\"rsig\"])))\n",
    "action_psigs = data.Molecule.pack(list(map(molecule_from_smile, action_dataset[\"psig\"])))\n",
    "\n",
    "action_embeddings = get_action_dataset_embeddings(gin_model)\n",
    "print(action_embeddings.shape)"
   ]
  },
  {
   "cell_type": "markdown",
   "id": "bf33fb20",
   "metadata": {},
   "source": [
    "### Back to modeling"
   ]
  },
  {
   "cell_type": "code",
   "execution_count": 22,
   "id": "92e20cac",
   "metadata": {
    "scrolled": true
   },
   "outputs": [
    {
     "name": "stderr",
     "output_type": "stream",
     "text": [
      "100%|███████████████████████████████████████████████████████| 100272/100272 [03:32<00:00, 472.62it/s]\n"
     ]
    }
   ],
   "source": [
    "# I'm storing as lists, so doing numpy operations for the elements\n",
    "correct_applicable_indices = []\n",
    "correct_action_dataset_indices = []\n",
    "action_embedding_indices = []\n",
    "\n",
    "# for indices_used_for_data, correct_idx in tqdm.tqdm(map(get_emb_indices_and_correct_idx, main_df.iterrows()), total=main_df.shape[0]):\n",
    "with Pool(20) as p:\n",
    "    for indices_used_for_data, correct_app_idx, correct_act_idx in tqdm.tqdm(p.imap(get_emb_indices_and_correct_idx, main_df.iterrows(), chunksize=50), total=main_df.shape[0]):\n",
    "        action_embedding_indices.append(indices_used_for_data)\n",
    "        correct_applicable_indices.append(correct_app_idx)\n",
    "        correct_action_dataset_indices.append(correct_act_idx)"
   ]
  },
  {
   "cell_type": "code",
   "execution_count": 25,
   "id": "a56268a9",
   "metadata": {},
   "outputs": [
    {
     "name": "stderr",
     "output_type": "stream",
     "text": [
      "100%|████████████████████████████████████████████████████████| 20055/20055 [00:08<00:00, 2383.05it/s]"
     ]
    },
    {
     "name": "stdout",
     "output_type": "stream",
     "text": [
      "12.260633258539018(413.8693093991523) +- 86.75253613900787  \n"
     ]
    },
    {
     "name": "stderr",
     "output_type": "stream",
     "text": [
      "\n"
     ]
    }
   ],
   "source": [
    "pred = model(torch.Tensor(X[int(main_df.shape[0]*0.8):]).to(device)).detach()\n",
    "l = []\n",
    "total = []\n",
    "for i in tqdm.tqdm(range(pred.shape[0])):\n",
    "    pred_for_i = pred[i]\n",
    "    act_emb_for_i, correct_applicable_index = action_embeddings[action_embedding_indices[int(main_df.shape[0]*0.8)+i]], correct_applicable_indices[int(main_df.shape[0]*0.8)+i]\n",
    "\n",
    "    rank, list_of_indices = get_ranking(pred_for_i, act_emb_for_i, correct_applicable_index, distance=\"euclidean\")\n",
    "    l.append(rank.item())\n",
    "    total.append(act_emb_for_i.shape[0])\n",
    "print(f\"{np.mean(l)}({np.mean(total)}) +- {np.std(l)}  \")\n"
   ]
  },
  {
   "cell_type": "code",
   "execution_count": 45,
   "id": "ae378842",
   "metadata": {},
   "outputs": [],
   "source": [
    "train_idx = np.arange(0, int(X.shape[0]*0.8))\n",
    "test_idx = np.arange(int(X.shape[0]*0.8), X.shape[0])"
   ]
  },
  {
   "cell_type": "code",
   "execution_count": 46,
   "id": "c09cc699",
   "metadata": {},
   "outputs": [
    {
     "name": "stderr",
     "output_type": "stream",
     "text": [
      "/home/abhor/miniconda3/envs/de_novo/lib/python3.7/site-packages/torchdrug-0.2.0-py3.7.egg/torchdrug/data/feature.py:42: UserWarning: Unknown value `Al`\n",
      "  warnings.warn(\"Unknown value `%s`\" % x)\n",
      "/home/abhor/miniconda3/envs/de_novo/lib/python3.7/site-packages/torchdrug-0.2.0-py3.7.egg/torchdrug/data/feature.py:42: UserWarning: Unknown value `Pb`\n",
      "  warnings.warn(\"Unknown value `%s`\" % x)\n",
      "/home/abhor/miniconda3/envs/de_novo/lib/python3.7/site-packages/torchdrug-0.2.0-py3.7.egg/torchdrug/data/feature.py:42: UserWarning: Unknown value `Ta`\n",
      "  warnings.warn(\"Unknown value `%s`\" % x)\n",
      "/home/abhor/miniconda3/envs/de_novo/lib/python3.7/site-packages/torchdrug-0.2.0-py3.7.egg/torchdrug/data/feature.py:42: UserWarning: Unknown value `Ru`\n",
      "  warnings.warn(\"Unknown value `%s`\" % x)\n",
      "/home/abhor/miniconda3/envs/de_novo/lib/python3.7/site-packages/torchdrug-0.2.0-py3.7.egg/torchdrug/data/feature.py:42: UserWarning: Unknown value `Na`\n",
      "  warnings.warn(\"Unknown value `%s`\" % x)\n",
      "/home/abhor/miniconda3/envs/de_novo/lib/python3.7/site-packages/torchdrug-0.2.0-py3.7.egg/torchdrug/data/feature.py:42: UserWarning: Unknown value `Cd`\n",
      "  warnings.warn(\"Unknown value `%s`\" % x)\n",
      "/home/abhor/miniconda3/envs/de_novo/lib/python3.7/site-packages/torchdrug-0.2.0-py3.7.egg/torchdrug/data/feature.py:42: UserWarning: Unknown value `Ga`\n",
      "  warnings.warn(\"Unknown value `%s`\" % x)\n",
      "/home/abhor/miniconda3/envs/de_novo/lib/python3.7/site-packages/torchdrug-0.2.0-py3.7.egg/torchdrug/data/feature.py:42: UserWarning: Unknown value `Cr`\n",
      "  warnings.warn(\"Unknown value `%s`\" % x)\n",
      "/home/abhor/miniconda3/envs/de_novo/lib/python3.7/site-packages/torchdrug-0.2.0-py3.7.egg/torchdrug/data/feature.py:42: UserWarning: Unknown value `As`\n",
      "  warnings.warn(\"Unknown value `%s`\" % x)\n"
     ]
    },
    {
     "name": "stdout",
     "output_type": "stream",
     "text": [
      "CPU times: user 8min, sys: 18.4 s, total: 8min 18s\n",
      "Wall time: 8min 2s\n"
     ]
    }
   ],
   "source": [
    "%%time\n",
    "%matplotlib inline\n",
    "train_reactants = data.Molecule.pack(list(map(molecule_from_smile, main_df.iloc[train_idx][\"reactant\"]))).to(device)\n",
    "train_products = data.Molecule.pack(list(map(molecule_from_smile, main_df.iloc[train_idx][\"product\"]))).to(device)\n",
    "\n",
    "test_reactants = data.Molecule.pack(list(map(molecule_from_smile, main_df.iloc[test_idx][\"reactant\"]))).to(device)\n",
    "test_products = data.Molecule.pack(list(map(molecule_from_smile, main_df.iloc[test_idx][\"product\"]))).to(device)"
   ]
  },
  {
   "cell_type": "code",
   "execution_count": null,
   "id": "9464d105",
   "metadata": {
    "scrolled": true
   },
   "outputs": [
    {
     "name": "stdout",
     "output_type": "stream",
     "text": [
      "@@@@@@@@@@@@@@@@@@@@@@@@@@@@@@@@@@@@@@@@@@@@@@@@@@@@@@@@@@@@@@@@@@@@@@@@@@@@@@@@@@@@@@@@@@@@@@@@@@@@@@@@@@@@@@@@@@@@@@@@@@@@@@@@@@@@@@@@@@@@@@@@@@@@@@@@@@@@@@@@@@@@@@@@@@@@@@@@@@@@@@@@@@@@@@\n",
      "@@@@@@@@@@@@@@@@@@@@@@@@@@@@@@@@@@@@@@@@@@@@@@@@@@@@@@@@@@@@@@@@@@@@@@@@@@@@@@@@@@@@@@@@@@@@@@@@@@@@@@@@@@@@@@@@@@@@@@@@@@@@@@@@@@@@@@@@@@@@@@@@@@@@@@@@@@@@@@@@@@@@@@@@@@@@@@@@@@@@@@@@@@@@@@\n",
      "@@@@@@@@@@@@@@@@@@@@@@@@@@@@@@@@@@@@@@@@@@@@@@@@@@@@@@@@@@@@@@@@@@@@@@@@@@@@@@@@@@@@@@@@@@@@@@@@@@@@@@@@@@@@@@@@@@@@@@@@@@@@@@@@@@@@@@@@@@@@@@@@@@@@@@@@@@@@@@@@@@@@@@@@@@@@@@@@@@@@@@@@@@@@@@\n"
     ]
    },
    {
     "name": "stderr",
     "output_type": "stream",
     "text": [
      "100%|████████████████████████████████████████████████████████████████| 44/44 [00:05<00:00,  7.63it/s]\n"
     ]
    }
   ],
   "source": [
    "lr = 1e-3\n",
    "epochs = 50\n",
    "batch_size = 128\n",
    "\n",
    "\n",
    "for distance_metric, negative_method, topk, emb_model_update in itertools.product([\"euclidean\"], [\"all\"], [10], [1]):\n",
    "    print(\"@\"*190)\n",
    "    print(\"@\"*190)\n",
    "    print(\"@\"*190)\n",
    "    \n",
    "    best_rank = 10000\n",
    "    best_model = None\n",
    "    \n",
    "    model = PolicyNetwork().to(device)\n",
    "    embedding_model = torch.load(\"models/zinc2m_gin.pth\").to(device)\n",
    "    optimizer = torch.optim.Adam(model.parameters(), lr=lr)  \n",
    "    criterion = WeightedRegularizedTriplet()\n",
    "    \n",
    "    action_embeddings = get_action_dataset_embeddings(embedding_model)\n",
    "    action_embeddings_norm = torch.linalg.norm(action_embeddings, axis=1)\n",
    "    \n",
    "    metric_dict = {\"cos_rank_mean\": [], \"euc_rank_mean\": [], \"cos_rank_std\": [], \"euc_rank_std\": [], \n",
    "                   \"cos_rank_tot\": [], \"euc_rank_tot\": [], \"rmse\": [], \"cos_sim\": [], \"time(epoch_start-now)\": []}\n",
    "    # Train the model\n",
    "    for epoch in range(1, epochs+1):\n",
    "        start_time = time.time()\n",
    "        model.train()\n",
    "        for i in range(0, train_reactants.batch_size - batch_size, batch_size):\n",
    "            # Forward pass\n",
    "            outputs = model(train_reactants[i:i+batch_size], train_products[i:i+batch_size])\n",
    "\n",
    "            # Calc negatives\n",
    "            negatives = []\n",
    "            \n",
    "            for _i in range(outputs.shape[0]):\n",
    "                curr_out = outputs[_i].detach()\n",
    "\n",
    "                if negative_method == \"applicable\":\n",
    "                    act_emb_for_i, correct_applicable_index = action_embeddings[action_embedding_indices[train_idx[i+_i]]], correct_applicable_indices[train_idx[i+_i]]\n",
    "                    top = get_top_k_indices(curr_out, act_emb_for_i, correct_applicable_index, distance=distance_metric, k=50)\n",
    "                    negatives.append(act_emb_for_i[top])\n",
    "                \n",
    "                elif negative_method == \"all\":\n",
    "                    correct_action_dataset_index = correct_action_dataset_indices[train_idx[i+_i]]\n",
    "                    if distance_metric == \"euclidean\":\n",
    "                        dist = torch.linalg.norm(action_embeddings - curr_out, axis=1)\n",
    "                    elif distance_metric == \"cosine\":\n",
    "                        dist = (1 - action_embeddings.dot(curr_out)) / (action_embeddings_norm *torch.linalg.norm(curr_out))\n",
    "                    sorted_idx = torch.argsort(dist)[:topk] # get topk\n",
    "                    sorted_idx = sorted_idx[sorted_idx != correct_action_dataset_index] # Remove if correct index in list\n",
    "                    negatives.append(action_embeddings[sorted_idx])\n",
    "                        \n",
    "            negatives = torch.Tensor(torch.concatenate(negatives, axis=0)).to(device)\n",
    "                                \n",
    "            # get targets\n",
    "            targets = torch.Tensor(get_action_embedding(embedding_model, main_df.iloc[i:i+batch_size][main_df.columns[1:-1]])).to(device)\n",
    "                                \n",
    "            # Calc loss\n",
    "            inputs = torch.concat([outputs, targets, negatives])\n",
    "            labels = torch.concat([torch.arange(outputs.shape[0]), torch.arange(targets.shape[0]), torch.full((negatives.shape[0],), -1)]).to(device)\n",
    "            loss = criterion(inputs, labels)\n",
    "\n",
    "            # Backward and optimize\n",
    "            optimizer.zero_grad()\n",
    "            loss.backward()\n",
    "            optimizer.step()\n",
    "\n",
    "        print ('{:.6f}({})'.format(loss.item(), epoch), end='  ')\n",
    "        \n",
    "        # SWITCH INDENT HERE ----\n",
    "        model.eval()\n",
    "        with torch.no_grad():\n",
    "            print()\n",
    "\n",
    "            margin_string = f\"# emb_model_update = {emb_model_update} | -ve_method = {negative_method} | dist_metric = {distance_metric} | topk = {topk} #\"\n",
    "            print(\"#\" * len(margin_string))\n",
    "            print(margin_string)\n",
    "            print(\"#\" * len(margin_string))\n",
    "\n",
    "            # Predictions and action component-wise loss\n",
    "            pred = model(test_reactants, test_products).detach()\n",
    "            true = get_action_embedding(embedding_model, main_df.iloc[test_idx][main_df.columns[1:-1]])\n",
    "\n",
    "            metric_df = pd.DataFrame(columns=[\"rmse\", \"cos_sim\", \"euc_rank_mean\", \"euc_rank_std\", \"euc_rank_tot\", \"cos_rank_mean\", \"cos_rank_std\", \"cos_rank_tot\", \"time(epoch_start-now)\"])\n",
    "\n",
    "            # Print Test metrics\n",
    "            metric_dict[\"rmse\"].append( (((pred-true)**2).sum(axis=1)**0.5).mean().item() )\n",
    "            metric_dict[\"cos_sim\"].append( ((pred*true).sum(axis=1) / torch.linalg.norm(pred, axis=1) / torch.linalg.norm(true, axis=1)).mean().item() )\n",
    "\n",
    "            # Print Test metric - Rank\n",
    "            for dist in [\"euclidean\", \"cosine\"]:\n",
    "                rank_list = []\n",
    "                l = []\n",
    "                total = []\n",
    "                for i in range(pred.shape[0]):\n",
    "                    pred_for_i = pred[i]\n",
    "                    act_emb_for_i, correct_applicable_index = action_embeddings[action_embedding_indices[test_idx[i]]], correct_applicable_indices[test_idx[i]]\n",
    "\n",
    "                    rank, list_of_indices = get_ranking(pred_for_i, act_emb_for_i, correct_applicable_index, distance=dist)\n",
    "                    l.append(rank.item())\n",
    "                    total.append(act_emb_for_i.shape[0])\n",
    "                rank_list.append(f\"{np.mean(l):.4f}({np.mean(total)}) +- {np.std(l):.4f}\")\n",
    "                metric_dict[f\"{dist[:3]}_rank_mean\"].append(np.mean(l))\n",
    "                metric_dict[f\"{dist[:3]}_rank_std\"].append(np.std(l))\n",
    "                metric_dict[f\"{dist[:3]}_rank_tot\"].append(np.mean(total))\n",
    "\n",
    "            metric_dict[\"time(epoch_start-now)\"].append(f\"{(time.time()-start_time)/60:.2f} min\")\n",
    "            for col in metric_df.columns:\n",
    "                metric_df[col] = [metric_dict[col][-1]]\n",
    "            metric_df.index = [epoch]\n",
    "            print(tabulate(metric_df, headers='keys', tablefmt='fancy_grid'))\n",
    "            print()\n",
    "            \n",
    "        # Update embedding model and action_embeddings\n",
    "        if epoch % emb_model_update == 0:\n",
    "            embedding_model.load_state_dict(model.GIN.state_dict())\n",
    "            action_embeddings = get_action_dataset_embeddings(embedding_model)\n",
    "            action_embeddings_norm = torch.linalg.norm(action_embeddings, axis=1)\n",
    "\n",
    "        # Update best model\n",
    "        if metric_dict[\"euc_rank_mean\"][-1] < best_rank:\n",
    "            best_rank = metric_dict[\"euc_rank_mean\"][-1]\n",
    "            best_model = type(model)()\n",
    "            best_model.load_state_dict(model.state_dict())\n",
    "            best_epoch = epoch\n",
    "            print(f\"BEST MODEL UPDATED! BEST RANK = {best_rank}\")\n",
    "            \n",
    "    fig = plt.figure(figsize=(8, 8))\n",
    "    for dist in filter(lambda x: \"mean\" in x, metric_dict.keys()):\n",
    "        plt.plot(metric_dict[dist], label=dist)\n",
    "    plt.title(\"Ranks\")\n",
    "    plt.xlabel(\"epoch\")\n",
    "    plt.ylabel(\"ranking\")\n",
    "    plt.legend()\n",
    "    fig.show()\n",
    "    \n",
    "    # save everything\n",
    "    folder = f\"models/supervised/{steps}step/emb_model_update={emb_model_update}||-ve_method={negative_method}||dist_metric={distance_metric}||topk={topk}\"\n",
    "    os.makedirs(folder, exist_ok = True)\n",
    "    torch.save(model, os.path.join(folder, \"model.pth\"))\n",
    "    pd.DataFrame.from_dict(metric_dict).to_csv(os.path.join(folder, \"metrics.csv\"))\n",
    "    fig.savefig(os.path.join(folder, \"plot.png\"))\n",
    "    json.dump({\n",
    "        \"lr\": lr,\n",
    "        \"epochs\": epochs, \n",
    "        \"batch_size\": batch_size,\n",
    "        \"train_samples\": train_idx.shape,\n",
    "        \"test_samples\": test_idx.shape,\n",
    "        \"distance_metric\": distance_metric,\n",
    "        \"negative_method\": negative_method,\n",
    "        \"topk\": topk,\n",
    "        \"emb_model_update\": emb_model_update,\n",
    "        \"best_epoch\": best_epoch,\n",
    "        \"best_rank\": best_rank\n",
    "    }, open(os.path.join(folder, \"config.txt\"), 'w'))"
   ]
  },
  {
   "cell_type": "code",
   "execution_count": null,
   "id": "042b0902",
   "metadata": {},
   "outputs": [],
   "source": []
  }
 ],
 "metadata": {
  "kernelspec": {
   "display_name": "Python 3 (ipykernel)",
   "language": "python",
   "name": "python3"
  },
  "language_info": {
   "codemirror_mode": {
    "name": "ipython",
    "version": 3
   },
   "file_extension": ".py",
   "mimetype": "text/x-python",
   "name": "python",
   "nbconvert_exporter": "python",
   "pygments_lexer": "ipython3",
   "version": "3.7.16"
  }
 },
 "nbformat": 4,
 "nbformat_minor": 5
}
