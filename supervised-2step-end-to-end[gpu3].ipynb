{
 "cells": [
  {
   "cell_type": "code",
   "execution_count": 1,
   "id": "c1cfa57a",
   "metadata": {
    "tags": []
   },
   "outputs": [],
   "source": [
    "import os\n",
    "os.environ[\"MAIN_DIR\"] = \"\""
   ]
  },
  {
   "cell_type": "code",
   "execution_count": 2,
   "id": "f862867f",
   "metadata": {
    "tags": []
   },
   "outputs": [],
   "source": [
    "from rdkit import Chem\n",
    "import pickle\n",
    "import pandas as pd\n",
    "from IPython.display import display\n",
    "from matplotlib import pyplot as plt\n",
    "import tqdm\n",
    "import json\n",
    "import numpy as np\n",
    "import itertools\n",
    "from tabulate import tabulate\n",
    "\n",
    "from action_utils import *"
   ]
  },
  {
   "cell_type": "code",
   "execution_count": 3,
   "id": "536ae7f8",
   "metadata": {
    "tags": []
   },
   "outputs": [],
   "source": [
    "main_df = pd.read_csv(\"datasets/my_uspto/supervised_zinc_gin/dataset.csv\", index_col=0)"
   ]
  },
  {
   "cell_type": "code",
   "execution_count": 4,
   "id": "660f7320",
   "metadata": {
    "scrolled": true,
    "tags": []
   },
   "outputs": [
    {
     "name": "stdout",
     "output_type": "stream",
     "text": [
      "(3976954, 10)\n",
      "(40000, 10)\n"
     ]
    }
   ],
   "source": [
    "N = 40000\n",
    "\n",
    "# take N samples of it\n",
    "np.random.seed(42)\n",
    "print(main_df.shape)\n",
    "elements_to_fetch = np.random.randint(0, main_df.shape[0], size=(N,))\n",
    "main_df = main_df.iloc[elements_to_fetch]\n",
    "print(main_df.shape)"
   ]
  },
  {
   "cell_type": "code",
   "execution_count": 5,
   "id": "6441a120",
   "metadata": {},
   "outputs": [
    {
     "name": "stderr",
     "output_type": "stream",
     "text": [
      "  0%|                                                                      | 0/40000 [00:00<?, ?it/s]/home/abhor/miniconda3/envs/de_novo/lib/python3.7/site-packages/pandas/core/series.py:1056: SettingWithCopyWarning: \n",
      "A value is trying to be set on a copy of a slice from a DataFrame\n",
      "\n",
      "See the caveats in the documentation: https://pandas.pydata.org/pandas-docs/stable/user_guide/indexing.html#returning-a-view-versus-a-copy\n",
      "  cacher_needs_updating = self._check_is_chained_assignment_possible()\n",
      "100%|██████████████████████████████████████████████████████████| 40000/40000 [26:42<00:00, 24.95it/s]\n"
     ]
    },
    {
     "name": "stdout",
     "output_type": "stream",
     "text": [
      "(118744, 10)\n"
     ]
    }
   ],
   "source": [
    "# Add samples for 2 step prediction\n",
    "main_df_copy = main_df.copy()\n",
    "main_df2 = pd.DataFrame(columns=main_df.columns)\n",
    "index = []\n",
    "\n",
    "for i in tqdm.tqdm(range(main_df.shape[0])):\n",
    "    smile = main_df.iloc[i][\"product\"]\n",
    "    mol = Chem.MolFromSmiles(smile)\n",
    "    actions = get_applicable_actions(mol)\n",
    "    if actions.shape[0] == 0:\n",
    "        continue\n",
    "    \n",
    "    # Apply a random action\n",
    "    rand_idx = np.random.randint(0, actions.shape[0])\n",
    "    product = apply_action(mol, *actions.iloc[rand_idx])\n",
    "    \n",
    "    # Add it to main_df2\n",
    "    main_df2.loc[main_df2.shape[0], :] = [smile] + actions.iloc[rand_idx].tolist() + [Chem.MolToSmiles(product)]\n",
    "    \n",
    "    # Update index\n",
    "    index.append(actions.iloc[rand_idx].name)\n",
    "    \n",
    "    # Update original entry to make it 2-step\n",
    "    main_df.iloc[i][\"product\"] = Chem.MolToSmiles(product)\n",
    "\n",
    "main_df2.index = index\n",
    "main_df = pd.concat([main_df_copy, main_df, main_df2])\n",
    "del main_df2\n",
    "\n",
    "# randomize\n",
    "main_df = main_df.sample(frac=1)\n",
    "print(main_df.shape)"
   ]
  },
  {
   "cell_type": "markdown",
   "id": "56d58b5a",
   "metadata": {},
   "source": [
    "# Neural Network!"
   ]
  },
  {
   "cell_type": "code",
   "execution_count": 6,
   "id": "c3e1a52c",
   "metadata": {},
   "outputs": [
    {
     "data": {
      "text/plain": [
       "<torch._C.Generator at 0x7f346a0bd2b0>"
      ]
     },
     "execution_count": 6,
     "metadata": {},
     "output_type": "execute_result"
    }
   ],
   "source": [
    "import torch\n",
    "import torch.nn as nn\n",
    "import torch.optim as optim\n",
    "\n",
    "torch.manual_seed(42)"
   ]
  },
  {
   "cell_type": "code",
   "execution_count": 7,
   "id": "3432cfc9",
   "metadata": {
    "tags": []
   },
   "outputs": [],
   "source": [
    "device = torch.device(\"cuda:3\" if torch.cuda.is_available() else \"cpu\")"
   ]
  },
  {
   "cell_type": "code",
   "execution_count": 8,
   "id": "48289f6d",
   "metadata": {
    "tags": []
   },
   "outputs": [
    {
     "name": "stdout",
     "output_type": "stream",
     "text": [
      "Epoch 1, Loss: 23151.4941\n",
      "Epoch 2, Loss: 13421.6543\n",
      "Epoch 3, Loss: 5006.6743\n",
      "Epoch 4, Loss: 1424.6224\n",
      "Epoch 5, Loss: 517.5692\n",
      "Epoch 6, Loss: 364.8164\n",
      "Epoch 7, Loss: 346.8831\n",
      "Epoch 8, Loss: 332.0376\n",
      "Epoch 9, Loss: 334.5102\n",
      "Epoch 10, Loss: 327.3152\n",
      "\n",
      "FINAL TEST LOSS: 59.57931137084961\n"
     ]
    },
    {
     "data": {
      "image/png": "[encoded data removed]",
      "text/plain": [
       "<Figure size 640x480 with 1 Axes>"
      ]
     },
     "metadata": {},
     "output_type": "display_data"
    },
    {
     "name": "stdout",
     "output_type": "stream",
     "text": [
      "CPU times: user 6.52 s, sys: 865 ms, total: 7.38 s\n",
      "Wall time: 3.86 s\n"
     ]
    },
    {
     "data": {
      "text/plain": [
       "NeuralNet(\n",
       "  (fc1): Linear(in_features=20, out_features=20, bias=True)\n",
       "  (bn1): BatchNorm1d(20, eps=1e-05, momentum=0.1, affine=True, track_running_stats=True)\n",
       "  (relu): ReLU()\n",
       "  (hidden_layers): ModuleList(\n",
       "    (0): Linear(in_features=20, out_features=20, bias=True)\n",
       "    (1): BatchNorm1d(20, eps=1e-05, momentum=0.1, affine=True, track_running_stats=True)\n",
       "    (2): ReLU()\n",
       "    (3): Linear(in_features=20, out_features=20, bias=True)\n",
       "    (4): BatchNorm1d(20, eps=1e-05, momentum=0.1, affine=True, track_running_stats=True)\n",
       "    (5): ReLU()\n",
       "  )\n",
       "  (last_layer): Linear(in_features=20, out_features=1, bias=True)\n",
       ")"
      ]
     },
     "execution_count": 8,
     "metadata": {},
     "output_type": "execute_result"
    }
   ],
   "source": [
    "%matplotlib inline\n",
    "class NeuralNet(nn.Module):\n",
    "    def __init__(self, input_size, output_size, num_hidden=1, hidden_size=50):\n",
    "        super(NeuralNet, self).__init__()\n",
    "        self.fc1 = nn.Linear(input_size, hidden_size)\n",
    "        self.bn1 = nn.BatchNorm1d(hidden_size)\n",
    "        self.relu = nn.ReLU()\n",
    "        self.hidden_layers = nn.ModuleList()\n",
    "        for i in range(num_hidden):\n",
    "            self.hidden_layers.append(nn.Linear(hidden_size, hidden_size))\n",
    "            self.hidden_layers.append(nn.BatchNorm1d(hidden_size))\n",
    "            self.hidden_layers.append(nn.ReLU())\n",
    "            \n",
    "        self.last_layer = nn.Linear(hidden_size, output_size)\n",
    "    \n",
    "    def forward(self, x):\n",
    "        out = self.fc1(x)\n",
    "        out = self.bn1(out)\n",
    "        out = self.relu(out)\n",
    "        for layer in self.hidden_layers:\n",
    "            out = layer(out)\n",
    "        out = self.last_layer(out)\n",
    "        return out\n",
    "    \n",
    "\n",
    "def train(X, Y, num_hidden=1, hidden_size=50, lr=1e-2, bs=64, epochs=100):\n",
    "    train_X = torch.Tensor(X[:int(X.shape[0]*0.7)]).to(device)\n",
    "    train_Y = torch.Tensor(Y[:int(Y.shape[0]*0.7)]).to(device)\n",
    "\n",
    "    test_X = torch.Tensor(X[int(X.shape[0]*0.7):]).to(device)\n",
    "    test_Y = torch.Tensor(Y[int(Y.shape[0]*0.7):]).to(device)\n",
    "    \n",
    "    model = NeuralNet(train_X.shape[1], train_Y.shape[1], num_hidden=num_hidden, hidden_size=hidden_size).to(device)\n",
    "    \n",
    "    criterion = nn.MSELoss()\n",
    "    optimizer = torch.optim.Adam(model.parameters(), lr=lr)  \n",
    "\n",
    "    loss_list = []\n",
    "    test_loss = []\n",
    "\n",
    "    # Train the model\n",
    "    for epoch in range(epochs):\n",
    "        for i in range(0, train_X.shape[0], batch_size):\n",
    "            model.train()\n",
    "            # Forward pass\n",
    "            outputs = model(train_X[i:i+batch_size])\n",
    "            loss = criterion(outputs, train_Y[i:i+batch_size])\n",
    "\n",
    "            # Backward and optimize\n",
    "            optimizer.zero_grad()\n",
    "            loss.backward()\n",
    "            optimizer.step()\n",
    "        \n",
    "        loss_list.append(loss.item())\n",
    "        print ('Epoch {}, Loss: {:.4f}'.format(epoch+1, loss.item()))\n",
    "        \n",
    "        model.eval()\n",
    "        test_loss.append(criterion(model(test_X), test_Y).item()) \n",
    "    print(\"\\nFINAL TEST LOSS:\", test_loss[-1])\n",
    "        \n",
    "    plt.plot(loss_list[5:], label=\"training loss\")\n",
    "    plt.plot(test_loss[5:], label=\"test loss\")\n",
    "    plt.legend()\n",
    "    plt.xlabel(\"epoch\")\n",
    "    plt.ylabel(\"loss\")\n",
    "    plt.show()\n",
    "        \n",
    "    return model\n",
    "        \n",
    "from sklearn.datasets import make_regression\n",
    "x, y = make_regression(n_samples=5000, n_features=20, noise=2, random_state=42)\n",
    "y = y.reshape(-1, 1)\n",
    "\n",
    "batch_size = 64\n",
    "\n",
    "%time train(x, y, num_hidden=2, hidden_size=20, lr=1e-2, epochs=10)"
   ]
  },
  {
   "cell_type": "markdown",
   "id": "e662cf55",
   "metadata": {},
   "source": [
    "# Embedding type 2 - GIN training using attribute masking on clintox"
   ]
  },
  {
   "cell_type": "code",
   "execution_count": 1,
   "id": "835d1385",
   "metadata": {
    "tags": []
   },
   "outputs": [],
   "source": [
    "from torchdrug import data"
   ]
  },
  {
   "cell_type": "code",
   "execution_count": 7,
   "id": "7e96c42e",
   "metadata": {},
   "outputs": [],
   "source": [
    "from rdkit import Chem"
   ]
  },
  {
   "cell_type": "code",
   "execution_count": 5,
   "id": "6bb73d4b",
   "metadata": {},
   "outputs": [],
   "source": [
    "from matplotlib import pyplot as plt"
   ]
  },
  {
   "cell_type": "code",
   "execution_count": 8,
   "id": "0759e4dd",
   "metadata": {},
   "outputs": [
    {
     "data": {
      "image/png": "[encoded data removed]",
      "text/plain": [
       "<rdkit.Chem.rdchem.Mol at 0x7f5aaa36f270>"
      ]
     },
     "execution_count": 8,
     "metadata": {},
     "output_type": "execute_result"
    }
   ],
   "source": [
    "%matplotlib inline\n",
    "# molecule_from_smile(\"CON(C)C(=O)c1ccc(O)cc1\").visualize()\n",
    "\n",
    "# plt.show()\n",
    "Chem.MolFromSmiles(\"CON(C)C(=O)c1ccc(O)cc1\")"
   ]
  },
  {
   "cell_type": "code",
   "execution_count": 10,
   "id": "dcf318b7",
   "metadata": {},
   "outputs": [],
   "source": [
    "from rdkit.Chem import AllChem"
   ]
  },
  {
   "cell_type": "code",
   "execution_count": 17,
   "id": "731bcf48",
   "metadata": {},
   "outputs": [
    {
     "data": {
      "image/png": "[encoded data removed]",
      "text/plain": [
       "<rdkit.Chem.rdChemReactions.ChemicalReaction at 0x7f5aaa3a2450>"
      ]
     },
     "execution_count": 17,
     "metadata": {},
     "output_type": "execute_result"
    }
   ],
   "source": [
    "AllChem.ReactionFromSmarts(\"CON(C)C(=O)c1ccc(O)cc1>>CC(C)CC(=O)c1ccc(O)cc1\", useSmiles=True)"
   ]
  },
  {
   "cell_type": "code",
   "execution_count": 10,
   "id": "a32366ba",
   "metadata": {
    "tags": []
   },
   "outputs": [],
   "source": [
    "model_name = \"models/zinc2m_gin.pth\"\n",
    "gin_model = torch.load(model_name).to(device)"
   ]
  },
  {
   "cell_type": "code",
   "execution_count": 2,
   "id": "00cda6b7",
   "metadata": {},
   "outputs": [],
   "source": [
    "def molecule_from_smile(smile):\n",
    "    try:\n",
    "        mol = data.Molecule.from_smiles(smile, atom_feature=\"pretrain\", bond_feature=\"pretrain\")\n",
    "    except Exception as e:\n",
    "        mol = data.Molecule.from_smiles(smile, atom_feature=\"pretrain\", bond_feature=\"pretrain\", with_hydrogen=True)\n",
    "    return mol\n",
    "\n",
    "def get_mol_embedding(model, smiles):\n",
    "    # deepchem - attribute masking\n",
    "    if isinstance(smiles, str):\n",
    "        mol = molecule_from_smile(smiles)\n",
    "    else:\n",
    "        mol = list(map(molecule_from_smile, smiles))\n",
    "        mol = data.Molecule.pack(mol)\n",
    "    mol = mol.to(device)\n",
    "    emb = model(mol, mol.node_feature.float())[\"graph_feature\"]\n",
    "    return emb.detach().cpu().numpy()\n",
    "\n",
    "def get_atom_embedding(model, smiles, idx):\n",
    "    try:\n",
    "        mol = data.Molecule.from_smiles(smiles, atom_feature=\"pretrain\", bond_feature=\"pretrain\")\n",
    "        emb = model(mol, mol.node_feature.float())[\"node_feature\"][idx]\n",
    "    except Exception as e:\n",
    "        mol = data.Molecule.from_smiles(smiles, atom_feature=\"pretrain\", bond_feature=\"pretrain\", with_hydrogen=True)\n",
    "        emb = model(mol, mol.node_feature.float())[\"node_feature\"][idx]\n",
    "    return emb.detach().cpu()\n",
    "\n",
    "def get_action_embedding(model, action_df):\n",
    "    rsub, rcen, rsig, _, psub, pcen, psig, __ = [action_df[c] for c in action_df.columns]\n",
    "#     print(get_mol_embedding(model, rsub).shape)\n",
    "#     print(get_atom_embedding(model, rsig, rcen).shape)\n",
    "#     print(get_mol_embedding(model, rsig).shape)\n",
    "#     print(get_mol_embedding(model, psub).shape)\n",
    "#     print(get_atom_embedding(model, psig, pcen).shape)\n",
    "#     print(get_mol_embedding(model, psig).shape)\n",
    "    embedding = np.concatenate([\n",
    "#                         get_mol_embedding(model, rsub), \n",
    "#                         get_atom_embedding(model, rsig, rcen) / 5, \n",
    "                        get_mol_embedding(model, rsig), \n",
    "#                         get_mol_embedding(model, psub), \n",
    "#                         get_atom_embedding(model, psig, pcen) / 5, \n",
    "                        get_mol_embedding(model, psig)\n",
    "                    ], axis=1)\n",
    "    return embedding"
   ]
  },
  {
   "cell_type": "code",
   "execution_count": 12,
   "id": "a6003605",
   "metadata": {
    "scrolled": false
   },
   "outputs": [
    {
     "name": "stderr",
     "output_type": "stream",
     "text": [
      "  2%|█▍                                                            | 43/1856 [00:10<06:48,  4.44it/s]/home/abhor/miniconda3/envs/de_novo/lib/python3.7/site-packages/torchdrug-0.2.0-py3.7.egg/torchdrug/data/feature.py:42: UserWarning: Unknown value `Li`\n",
      "  warnings.warn(\"Unknown value `%s`\" % x)\n",
      " 10%|██████▎                                                      | 192/1856 [00:50<06:57,  3.99it/s]/home/abhor/miniconda3/envs/de_novo/lib/python3.7/site-packages/torchdrug-0.2.0-py3.7.egg/torchdrug/data/feature.py:42: UserWarning: Unknown value `Al`\n",
      "  warnings.warn(\"Unknown value `%s`\" % x)\n",
      " 15%|█████████▎                                                   | 285/1856 [01:16<06:05,  4.30it/s]/home/abhor/miniconda3/envs/de_novo/lib/python3.7/site-packages/torchdrug-0.2.0-py3.7.egg/torchdrug/data/feature.py:42: UserWarning: Unknown value `Ga`\n",
      "  warnings.warn(\"Unknown value `%s`\" % x)\n",
      " 24%|██████████████▋                                              | 445/1856 [02:01<07:55,  2.97it/s]/home/abhor/miniconda3/envs/de_novo/lib/python3.7/site-packages/torchdrug-0.2.0-py3.7.egg/torchdrug/data/feature.py:42: UserWarning: Unknown value `Na`\n",
      "  warnings.warn(\"Unknown value `%s`\" % x)\n",
      " 25%|███████████████                                              | 458/1856 [02:05<06:33,  3.55it/s]/home/abhor/miniconda3/envs/de_novo/lib/python3.7/site-packages/torchdrug-0.2.0-py3.7.egg/torchdrug/data/feature.py:42: UserWarning: Unknown value `Pb`\n",
      "  warnings.warn(\"Unknown value `%s`\" % x)\n",
      " 56%|█████████████████████████████████▊                          | 1045/1856 [04:48<03:40,  3.67it/s]/home/abhor/miniconda3/envs/de_novo/lib/python3.7/site-packages/torchdrug-0.2.0-py3.7.egg/torchdrug/data/feature.py:42: UserWarning: Unknown value `Ti`\n",
      "  warnings.warn(\"Unknown value `%s`\" % x)\n",
      "100%|████████████████████████████████████████████████████████████| 1856/1856 [08:37<00:00,  3.59it/s]\n"
     ]
    },
    {
     "data": {
      "text/plain": [
       "(118744, 256)"
      ]
     },
     "execution_count": 12,
     "metadata": {},
     "output_type": "execute_result"
    }
   ],
   "source": [
    "batch_size = 64\n",
    "X = []\n",
    "for i in tqdm.tqdm(range(0, main_df.shape[0], batch_size)):\n",
    "    reactants = main_df[\"reactant\"][i:i+batch_size]\n",
    "    products = main_df[\"product\"][i:i+batch_size]\n",
    "    X.append(np.concatenate([get_mol_embedding(gin_model, reactants), get_mol_embedding(gin_model, products)], axis=1))\n",
    "X = np.concatenate(X, axis=0)\n",
    "emb_len = X.shape[1]//2\n",
    "X.shape"
   ]
  },
  {
   "cell_type": "code",
   "execution_count": 13,
   "id": "14ab411d",
   "metadata": {},
   "outputs": [
    {
     "name": "stderr",
     "output_type": "stream",
     "text": [
      "100%|████████████████████████████████████████████████████████████| 1856/1856 [05:50<00:00,  5.30it/s]\n"
     ]
    },
    {
     "data": {
      "text/plain": [
       "(118744, 256)"
      ]
     },
     "execution_count": 13,
     "metadata": {},
     "output_type": "execute_result"
    }
   ],
   "source": [
    "batch_size = 64\n",
    "Y = []\n",
    "for i in tqdm.tqdm(range(0, main_df.shape[0], batch_size)):\n",
    "    Y.append(get_action_embedding(gin_model, main_df.iloc[i:i+batch_size][main_df.columns[1:-1]]))\n",
    "Y = np.concatenate(Y)\n",
    "Y.shape"
   ]
  },
  {
   "cell_type": "markdown",
   "id": "32d1c369",
   "metadata": {},
   "source": [
    "### MSE training"
   ]
  },
  {
   "cell_type": "code",
   "execution_count": 14,
   "id": "04ffae30",
   "metadata": {
    "scrolled": true
   },
   "outputs": [
    {
     "name": "stdout",
     "output_type": "stream",
     "text": [
      "Epoch 1, Loss: 0.0486\n",
      "Epoch 2, Loss: 0.0478\n",
      "Epoch 3, Loss: 0.0386\n",
      "Epoch 4, Loss: 0.0305\n",
      "Epoch 5, Loss: 0.0290\n",
      "Epoch 6, Loss: 0.0272\n",
      "Epoch 7, Loss: 0.0259\n",
      "Epoch 8, Loss: 0.0219\n",
      "Epoch 9, Loss: 0.0194\n",
      "Epoch 10, Loss: 0.0183\n",
      "Epoch 11, Loss: 0.0178\n",
      "Epoch 12, Loss: 0.0158\n",
      "Epoch 13, Loss: 0.0169\n",
      "Epoch 14, Loss: 0.0151\n",
      "Epoch 15, Loss: 0.0156\n",
      "Epoch 16, Loss: 0.0144\n",
      "Epoch 17, Loss: 0.0141\n",
      "Epoch 18, Loss: 0.0136\n",
      "Epoch 19, Loss: 0.0130\n",
      "Epoch 20, Loss: 0.0135\n",
      "Epoch 21, Loss: 0.0125\n",
      "Epoch 22, Loss: 0.0128\n",
      "Epoch 23, Loss: 0.0123\n",
      "Epoch 24, Loss: 0.0114\n",
      "Epoch 25, Loss: 0.0124\n",
      "Epoch 26, Loss: 0.0118\n",
      "Epoch 27, Loss: 0.0116\n",
      "Epoch 28, Loss: 0.0114\n",
      "Epoch 29, Loss: 0.0107\n",
      "Epoch 30, Loss: 0.0112\n",
      "Epoch 31, Loss: 0.0103\n",
      "Epoch 32, Loss: 0.0104\n",
      "Epoch 33, Loss: 0.0106\n",
      "Epoch 34, Loss: 0.0098\n",
      "Epoch 35, Loss: 0.0101\n",
      "Epoch 36, Loss: 0.0102\n",
      "Epoch 37, Loss: 0.0097\n",
      "Epoch 38, Loss: 0.0100\n",
      "Epoch 39, Loss: 0.0095\n",
      "Epoch 40, Loss: 0.0097\n",
      "Epoch 41, Loss: 0.0103\n",
      "Epoch 42, Loss: 0.0091\n",
      "Epoch 43, Loss: 0.0089\n",
      "Epoch 44, Loss: 0.0091\n",
      "Epoch 45, Loss: 0.0094\n",
      "Epoch 46, Loss: 0.0089\n",
      "Epoch 47, Loss: 0.0104\n",
      "Epoch 48, Loss: 0.0088\n",
      "Epoch 49, Loss: 0.0086\n",
      "Epoch 50, Loss: 0.0084\n",
      "Epoch 51, Loss: 0.0088\n",
      "Epoch 52, Loss: 0.0121\n",
      "Epoch 53, Loss: 0.0085\n",
      "Epoch 54, Loss: 0.0081\n",
      "Epoch 55, Loss: 0.0085\n",
      "Epoch 56, Loss: 0.0084\n",
      "Epoch 57, Loss: 0.0083\n",
      "Epoch 58, Loss: 0.0081\n",
      "Epoch 59, Loss: 0.0084\n",
      "Epoch 60, Loss: 0.0082\n",
      "Epoch 61, Loss: 0.0080\n",
      "Epoch 62, Loss: 0.0082\n",
      "Epoch 63, Loss: 0.0082\n",
      "Epoch 64, Loss: 0.0080\n",
      "Epoch 65, Loss: 0.0079\n",
      "Epoch 66, Loss: 0.0078\n",
      "Epoch 67, Loss: 0.0078\n",
      "Epoch 68, Loss: 0.0079\n",
      "Epoch 69, Loss: 0.0081\n",
      "Epoch 70, Loss: 0.0079\n",
      "Epoch 71, Loss: 0.0076\n",
      "Epoch 72, Loss: 0.0079\n",
      "Epoch 73, Loss: 0.0078\n",
      "Epoch 74, Loss: 0.0076\n",
      "Epoch 75, Loss: 0.0077\n",
      "Epoch 76, Loss: 0.0076\n",
      "Epoch 77, Loss: 0.0073\n",
      "Epoch 78, Loss: 0.0076\n",
      "Epoch 79, Loss: 0.0074\n",
      "Epoch 80, Loss: 0.0075\n",
      "Epoch 81, Loss: 0.0079\n",
      "Epoch 82, Loss: 0.0076\n",
      "Epoch 83, Loss: 0.0076\n",
      "Epoch 84, Loss: 0.0073\n",
      "Epoch 85, Loss: 0.0075\n",
      "Epoch 86, Loss: 0.0073\n",
      "Epoch 87, Loss: 0.0073\n",
      "Epoch 88, Loss: 0.0072\n",
      "Epoch 89, Loss: 0.0072\n",
      "Epoch 90, Loss: 0.0072\n",
      "Epoch 91, Loss: 0.0070\n",
      "Epoch 92, Loss: 0.0072\n",
      "Epoch 93, Loss: 0.0075\n",
      "Epoch 94, Loss: 0.0071\n",
      "Epoch 95, Loss: 0.0071\n",
      "Epoch 96, Loss: 0.0070\n",
      "Epoch 97, Loss: 0.0070\n",
      "Epoch 98, Loss: 0.0074\n",
      "Epoch 99, Loss: 0.0071\n",
      "Epoch 100, Loss: 0.0071\n",
      "\n",
      "FINAL TEST LOSS: 0.023466765880584717\n"
     ]
    }
   ],
   "source": [
    "model = train(X, Y, hidden_size=500, num_hidden=3, lr=1e-3, epochs=100)"
   ]
  },
  {
   "cell_type": "code",
   "execution_count": 15,
   "id": "57264831",
   "metadata": {},
   "outputs": [],
   "source": [
    "torch.save(model, \"datasets/my_uspto/supervised_zinc_gin/mse_model.pth\")"
   ]
  },
  {
   "cell_type": "code",
   "execution_count": 16,
   "id": "ddae391d",
   "metadata": {},
   "outputs": [
    {
     "name": "stdout",
     "output_type": "stream",
     "text": [
      "(89384, 8)\n"
     ]
    },
    {
     "name": "stderr",
     "output_type": "stream",
     "text": [
      "  7%|████▏                                                         | 94/1397 [00:17<04:02,  5.38it/s]/home/abhor/miniconda3/envs/de_novo/lib/python3.7/site-packages/torchdrug-0.2.0-py3.7.egg/torchdrug/data/feature.py:42: UserWarning: Unknown value `K`\n",
      "  warnings.warn(\"Unknown value `%s`\" % x)\n",
      " 61%|█████████████████████████████████████                        | 849/1397 [02:58<01:57,  4.68it/s]/home/abhor/miniconda3/envs/de_novo/lib/python3.7/site-packages/torchdrug-0.2.0-py3.7.egg/torchdrug/data/feature.py:42: UserWarning: Unknown value `As`\n",
      "  warnings.warn(\"Unknown value `%s`\" % x)\n",
      " 63%|██████████████████████████████████████▍                      | 881/1397 [03:03<01:27,  5.88it/s]/home/abhor/miniconda3/envs/de_novo/lib/python3.7/site-packages/torchdrug-0.2.0-py3.7.egg/torchdrug/data/feature.py:42: UserWarning: Unknown value `Cr`\n",
      "  warnings.warn(\"Unknown value `%s`\" % x)\n",
      " 75%|█████████████████████████████████████████████▏              | 1051/1397 [03:38<01:16,  4.52it/s]/home/abhor/miniconda3/envs/de_novo/lib/python3.7/site-packages/torchdrug-0.2.0-py3.7.egg/torchdrug/data/feature.py:42: UserWarning: Unknown value `Cd`\n",
      "  warnings.warn(\"Unknown value `%s`\" % x)\n",
      " 84%|██████████████████████████████████████████████████▌         | 1176/1397 [04:02<00:39,  5.61it/s]/home/abhor/miniconda3/envs/de_novo/lib/python3.7/site-packages/torchdrug-0.2.0-py3.7.egg/torchdrug/data/feature.py:42: UserWarning: Unknown value `Ge`\n",
      "  warnings.warn(\"Unknown value `%s`\" % x)\n",
      " 93%|████████████████████████████████████████████████████████    | 1304/1397 [04:26<00:16,  5.59it/s]/home/abhor/miniconda3/envs/de_novo/lib/python3.7/site-packages/torchdrug-0.2.0-py3.7.egg/torchdrug/data/feature.py:42: UserWarning: Unknown value `Pt`\n",
      "  warnings.warn(\"Unknown value `%s`\" % x)\n",
      " 99%|███████████████████████████████████████████████████████████▋| 1389/1397 [04:50<00:02,  3.37it/s]/home/abhor/miniconda3/envs/de_novo/lib/python3.7/site-packages/torchdrug-0.2.0-py3.7.egg/torchdrug/data/feature.py:42: UserWarning: Unknown value `Ru`\n",
      "  warnings.warn(\"Unknown value `%s`\" % x)\n",
      "100%|███████████████████████████████████████████████████████████▊| 1393/1397 [04:51<00:01,  3.30it/s]/home/abhor/miniconda3/envs/de_novo/lib/python3.7/site-packages/torchdrug-0.2.0-py3.7.egg/torchdrug/data/feature.py:42: UserWarning: Unknown value `Ta`\n",
      "  warnings.warn(\"Unknown value `%s`\" % x)\n",
      "100%|████████████████████████████████████████████████████████████| 1397/1397 [04:52<00:00,  4.78it/s]\n"
     ]
    },
    {
     "name": "stdout",
     "output_type": "stream",
     "text": [
      "(89384, 256)\n"
     ]
    }
   ],
   "source": [
    "action_dataset = pd.read_csv(\"datasets/my_uspto/action_dataset-filtered.csv\", index_col=0)\n",
    "action_dataset = action_dataset.loc[action_dataset[\"action_tested\"] & action_dataset[\"action_works\"]]\n",
    "action_dataset = action_dataset[[\"rsub\", \"rcen\", \"rsig\", \"rbond\", \"psub\", \"pcen\", \"psig\", \"pbond\"]]\n",
    "print(action_dataset.shape)\n",
    "\n",
    "def get_action_dataset_embeddings(model):\n",
    "    action_embeddings = []\n",
    "    for i in tqdm.tqdm(range(0, action_dataset.shape[0], batch_size)):\n",
    "        action_embeddings.append(get_action_embedding(model, action_dataset.iloc[i:i+batch_size]))\n",
    "    action_embeddings = np.concatenate(action_embeddings)\n",
    "    return action_embeddings\n",
    "\n",
    "action_embeddings = get_action_dataset_embeddings(gin_model)\n",
    "print(action_embeddings.shape)"
   ]
  },
  {
   "cell_type": "markdown",
   "id": "bf33fb20",
   "metadata": {},
   "source": [
    "### Back to modeling"
   ]
  },
  {
   "cell_type": "code",
   "execution_count": 17,
   "id": "92e20cac",
   "metadata": {},
   "outputs": [
    {
     "name": "stderr",
     "output_type": "stream",
     "text": [
      "100%|████████████████████████████████████████████████████████| 118744/118744 [57:16<00:00, 34.55it/s]\n"
     ]
    }
   ],
   "source": [
    "# I'm storing as lists, so doing numpy operations for the elements\n",
    "correct_indices = []\n",
    "action_embedding_indices = []\n",
    "for i in tqdm.tqdm(range(main_df.shape[0])):\n",
    "    row = main_df.iloc[i]\n",
    "    applicable_actions_df = get_applicable_actions(Chem.MolFromSmiles(row[\"reactant\"]))\n",
    "    \n",
    "    indices_used_for_data = np.where(action_dataset.index.isin(applicable_actions_df.index))[0]\n",
    "    action_embedding_indices.append(indices_used_for_data)\n",
    "\n",
    "    applicable_actions_df = applicable_actions_df.loc[action_dataset.iloc[indices_used_for_data].index]\n",
    "    correct_indices.append((applicable_actions_df.index == row.name).argmax())\n",
    "    \n",
    "    assert correct_indices[-1] < len(action_embedding_indices[-1]), f\"WHAT!? {correct_indices[-1]} vs {len(indices_used_for_data)}\""
   ]
  },
  {
   "cell_type": "code",
   "execution_count": 18,
   "id": "a56268a9",
   "metadata": {},
   "outputs": [
    {
     "name": "stderr",
     "output_type": "stream",
     "text": [
      "100%|████████████████████████████████████████████████████████| 23749/23749 [00:15<00:00, 1527.85it/s]"
     ]
    },
    {
     "name": "stdout",
     "output_type": "stream",
     "text": [
      "44.44010274116805(1341.8814265863825) +- 162.3600825770415  \n"
     ]
    },
    {
     "name": "stderr",
     "output_type": "stream",
     "text": [
      "\n"
     ]
    }
   ],
   "source": [
    "def get_ranking(pred, emb_for_comparison, correct_index, distance=\"euclidean\", k=None):\n",
    "    '''\n",
    "    Get the rank of the prediction from the applicable actions.\n",
    "    Returns (rank, [list_of_indices before <rank>])\n",
    "    '''\n",
    "    if distance == \"euclidean\":\n",
    "        dist = ((emb_for_comparison-pred)**2).sum(axis=1)\n",
    "    elif distance == \"cosine\":\n",
    "        dist = 1 - (emb_for_comparison.dot(pred))/(np.linalg.norm(emb_for_comparison, axis=1)*np.linalg.norm(pred))\n",
    "\n",
    "    maxy = max(dist)\n",
    "\n",
    "    list_of_indices = []\n",
    "    for attempt in range(dist.shape[0]):\n",
    "        miny = dist.argmin()\n",
    "#         print(miny, correct_index, dist[correct_index], min(dist), maxy)\n",
    "        if dist[miny] == dist[correct_index]:\n",
    "#             print(i, attempt)\n",
    "            break\n",
    "        else:\n",
    "            list_of_indices.append(miny)\n",
    "            if k is not None and len(list_of_indices) == k:\n",
    "                return list_of_indices\n",
    "            dist[miny] = 100000\n",
    "    \n",
    "    # When the rank(correct_index) < k, then returns <rank, list>. So this extra condition - add some indices after rank(correct_index) to the list\n",
    "    if k is not None:\n",
    "        dist[miny] = 100000\n",
    "        for attempt in range(min(k, emb_for_comparison.shape[0]-1) - len(list_of_indices)):\n",
    "            miny = dist.argmin()\n",
    "            list_of_indices.append(miny)\n",
    "            dist[miny] = 100000\n",
    "        return list_of_indices\n",
    "    return attempt, list_of_indices\n",
    "\n",
    "def get_top_k_indices(pred, emb_for_comparison, correct_index, distance=\"euclidean\", k=1):\n",
    "    return get_ranking(pred, emb_for_comparison, correct_index, distance, k)\n",
    "    \n",
    "pred = model(torch.Tensor(X[int(main_df.shape[0]*0.8):]).to(device)).detach().cpu().numpy()\n",
    "l = []\n",
    "total = []\n",
    "for i in tqdm.tqdm(range(pred.shape[0])):\n",
    "    pred_for_i = pred[i]\n",
    "    act_emb_for_i, correct_index = action_embeddings[action_embedding_indices[int(main_df.shape[0]*0.8)+i]], correct_indices[int(main_df.shape[0]*0.8)+i]\n",
    "\n",
    "    rank, list_of_indices = get_ranking(pred_for_i, act_emb_for_i, correct_index, distance=\"euclidean\")\n",
    "    l.append(rank)\n",
    "    total.append(act_emb_for_i.shape[0])\n",
    "print(f\"{np.mean(l)}({np.mean(total)}) +- {np.std(l)}  \")\n"
   ]
  },
  {
   "cell_type": "code",
   "execution_count": 19,
   "id": "e7213fb2",
   "metadata": {
    "scrolled": true
   },
   "outputs": [],
   "source": [
    "# https://github.com/mangye16/ReID-Survey\n",
    "def euclidean_dist(x, y):\n",
    "    \"\"\"\n",
    "    Args:\n",
    "      x: pytorch Variable, with shape [m, d]\n",
    "      y: pytorch Variable, with shape [n, d]\n",
    "    Returns:\n",
    "      dist: pytorch Variable, with shape [m, n]\n",
    "    \"\"\"\n",
    "    m, n = x.size(0), y.size(0)\n",
    "    xx = torch.pow(x, 2).sum(1, keepdim=True).expand(m, n)\n",
    "    yy = torch.pow(y, 2).sum(1, keepdim=True).expand(n, m).t()\n",
    "    dist = xx + yy\n",
    "    dist.addmm_(1, -2, x, y.t())\n",
    "    dist = dist.clamp(min=1e-12).sqrt()  # for numerical stability\n",
    "    return dist\n",
    "\n",
    "def cosine_dist(x, y):\n",
    "    xy = x.matmul(y.t())\n",
    "\n",
    "    m, n = x.size(0), y.size(0)\n",
    "    xx = torch.linalg.norm(x, axis=1).expand(n, m).t()\n",
    "    yy = torch.linalg.norm(y, axis=1).expand(m, n)\n",
    "    \n",
    "    return 1 - xy / (xx*yy)\n",
    "\n",
    "\n",
    "def softmax_weights(dist, mask):\n",
    "    max_v = torch.max(dist * mask, dim=1, keepdim=True)[0]\n",
    "    diff = dist - max_v\n",
    "    Z = torch.sum(torch.exp(diff) * mask, dim=1, keepdim=True) + 1e-6 # avoid division by zero\n",
    "    W = torch.exp(diff) * mask / Z\n",
    "    return W\n",
    "\n",
    "class WeightedRegularizedTriplet(object):\n",
    "    def __init__(self, dist=\"euclidean\"):\n",
    "        self.ranking_loss = nn.SoftMarginLoss()\n",
    "        self.dist = dist\n",
    "\n",
    "    def __call__(self, global_feat, labels):\n",
    "        if self.dist==\"euclidean\":\n",
    "            dist_mat = euclidean_dist(global_feat, global_feat)\n",
    "        elif self.dist==\"cosine\":\n",
    "            dist_mat = cosine_dist(global_feat, global_feat) ####### NEEEDS TO BE CHANGED!!!!!!!!!!!\n",
    "\n",
    "        N = dist_mat.size(0)\n",
    "        # shape [N, N]\n",
    "        is_pos = labels.expand(N, N).eq(labels.expand(N, N).t()).float()\n",
    "        is_neg = labels.expand(N, N).ne(labels.expand(N, N).t()).float()\n",
    "\n",
    "        # `dist_ap` means distance(anchor, positive)\n",
    "        # both `dist_ap` and `relative_p_inds` with shape [N, 1]\n",
    "        dist_ap = dist_mat * is_pos\n",
    "        dist_an = dist_mat * is_neg\n",
    "\n",
    "        weights_ap = softmax_weights(dist_ap, is_pos)\n",
    "        weights_an = softmax_weights(-dist_an, is_neg)\n",
    "        furthest_positive = torch.sum(dist_ap * weights_ap, dim=1)\n",
    "        closest_negative = torch.sum(dist_an * weights_an, dim=1)\n",
    "\n",
    "        y = furthest_positive.new().resize_as_(furthest_positive).fill_(1)\n",
    "        loss = self.ranking_loss(closest_negative - furthest_positive, y)\n",
    "\n",
    "        return loss"
   ]
  },
  {
   "cell_type": "code",
   "execution_count": 20,
   "id": "ae378842",
   "metadata": {},
   "outputs": [],
   "source": [
    "train_idx = np.arange(0, int(main_df.shape[0]*0.8))\n",
    "test_idx = np.arange(int(main_df.shape[0]*0.8), main_df.shape[0])"
   ]
  },
  {
   "cell_type": "code",
   "execution_count": 21,
   "id": "c09cc699",
   "metadata": {},
   "outputs": [
    {
     "name": "stdout",
     "output_type": "stream",
     "text": [
      "CPU times: user 6min 6s, sys: 9.67 s, total: 6min 15s\n",
      "Wall time: 5min 52s\n"
     ]
    }
   ],
   "source": [
    "%%time\n",
    "%matplotlib inline\n",
    "train_reactants = data.Molecule.pack(list(map(molecule_from_smile, main_df.iloc[train_idx][\"reactant\"]))).to(device)\n",
    "train_products = data.Molecule.pack(list(map(molecule_from_smile, main_df.iloc[train_idx][\"product\"]))).to(device)\n",
    "\n",
    "test_reactants = data.Molecule.pack(list(map(molecule_from_smile, main_df.iloc[test_idx][\"reactant\"]))).to(device)\n",
    "test_products = data.Molecule.pack(list(map(molecule_from_smile, main_df.iloc[test_idx][\"product\"]))).to(device)"
   ]
  },
  {
   "cell_type": "code",
   "execution_count": 22,
   "id": "e2011ce0",
   "metadata": {},
   "outputs": [],
   "source": [
    "class PolicyNetwork(nn.Module):\n",
    "    def __init__(self):\n",
    "        super(PolicyNetwork, self).__init__()\n",
    "        self.GIN = torch.load(\"models/zinc2m_gin.pth\")\n",
    "        self.DENSE = torch.load(\"datasets/my_uspto/supervised_zinc_gin/mse_model.pth\")\n",
    "    \n",
    "    def forward(self, x1, x2):\n",
    "        out1 = self.GIN(x1, x1.node_feature.float())[\"graph_feature\"]\n",
    "        out2 = self.GIN(x2, x2.node_feature.float())[\"graph_feature\"]\n",
    "        \n",
    "        out = torch.concatenate([out1, out2], axis=1)\n",
    "        out = self.DENSE(out)\n",
    "        return out"
   ]
  },
  {
   "cell_type": "code",
   "execution_count": 23,
   "id": "f532f0e6",
   "metadata": {
    "scrolled": false
   },
   "outputs": [
    {
     "name": "stderr",
     "output_type": "stream",
     "text": [
      "100%|██████████████████████████████████████████████████████████████| 699/699 [03:59<00:00,  2.92it/s]\n"
     ]
    },
    {
     "name": "stdout",
     "output_type": "stream",
     "text": [
      "@@@@@@@@@@@@@@@@@@@@@@@@@@@@@@@@@@@@@@@@@@@@@@@@@@@@@@@@@@@@@@@@@@@@@@@@@@@@@@@@@@@@@@@@@@@@@@@@@@@@@@@@@@@@@@@@@@@@@@@@@@@@@@@@@@@@@@@@@@@@@@@@@@@@@@@@@@@@@@@@@@@@@@@@@@@@@@@@@@@@@@@@@@@@@@\n",
      "@@@@@@@@@@@@@@@@@@@@@@@@@@@@@@@@@@@@@@@@@@@@@@@@@@@@@@@@@@@@@@@@@@@@@@@@@@@@@@@@@@@@@@@@@@@@@@@@@@@@@@@@@@@@@@@@@@@@@@@@@@@@@@@@@@@@@@@@@@@@@@@@@@@@@@@@@@@@@@@@@@@@@@@@@@@@@@@@@@@@@@@@@@@@@@\n",
      "@@@@@@@@@@@@@@@@@@@@@@@@@@@@@@@@@@@@@@@@@@@@@@@@@@@@@@@@@@@@@@@@@@@@@@@@@@@@@@@@@@@@@@@@@@@@@@@@@@@@@@@@@@@@@@@@@@@@@@@@@@@@@@@@@@@@@@@@@@@@@@@@@@@@@@@@@@@@@@@@@@@@@@@@@@@@@@@@@@@@@@@@@@@@@@\n"
     ]
    },
    {
     "name": "stderr",
     "output_type": "stream",
     "text": [
      "/home/abhor/miniconda3/envs/de_novo/lib/python3.7/site-packages/ipykernel_launcher.py:14: UserWarning: This overload of addmm_ is deprecated:\n",
      "\taddmm_(Number beta, Number alpha, Tensor mat1, Tensor mat2)\n",
      "Consider using one of the following signatures instead:\n",
      "\taddmm_(Tensor mat1, Tensor mat2, *, Number beta, Number alpha) (Triggered internally at /opt/conda/conda-bld/pytorch_1670525541035/work/torch/csrc/utils/python_arg_parser.cpp:1420.)\n",
      "  \n"
     ]
    },
    {
     "name": "stdout",
     "output_type": "stream",
     "text": [
      "0.065111(1)  \n",
      "#################################################################################\n",
      "# emb_model_update = 1 | -ve_method = all | dist_metric = euclidean | topk = 10 #\n",
      "#################################################################################\n",
      "╒════╤═════════╤════════════╤═══════════════════╤════════════════╕\n",
      "│    │    rmse │   cos_dist │   rank(euclidean) │   rank(cosine) │\n",
      "╞════╪═════════╪════════════╪═══════════════════╪════════════════╡\n",
      "│  1 │ 2.21291 │   0.937667 │           40.1599 │        32.7022 │\n",
      "╘════╧═════════╧════════════╧═══════════════════╧════════════════╛\n",
      "\n"
     ]
    },
    {
     "name": "stderr",
     "output_type": "stream",
     "text": [
      "100%|██████████████████████████████████████████████████████████████| 699/699 [03:55<00:00,  2.97it/s]\n"
     ]
    },
    {
     "name": "stdout",
     "output_type": "stream",
     "text": [
      "0.050618(2)  \n",
      "#################################################################################\n",
      "# emb_model_update = 1 | -ve_method = all | dist_metric = euclidean | topk = 10 #\n",
      "#################################################################################\n",
      "╒════╤═════════╤════════════╤═══════════════════╤════════════════╕\n",
      "│    │    rmse │   cos_dist │   rank(euclidean) │   rank(cosine) │\n",
      "╞════╪═════════╪════════════╪═══════════════════╪════════════════╡\n",
      "│  2 │ 2.16196 │   0.943942 │           28.5987 │        23.3654 │\n",
      "╘════╧═════════╧════════════╧═══════════════════╧════════════════╛\n",
      "\n"
     ]
    },
    {
     "name": "stderr",
     "output_type": "stream",
     "text": [
      "100%|██████████████████████████████████████████████████████████████| 699/699 [03:55<00:00,  2.97it/s]\n"
     ]
    },
    {
     "name": "stdout",
     "output_type": "stream",
     "text": [
      "0.033292(3)  \n",
      "#################################################################################\n",
      "# emb_model_update = 1 | -ve_method = all | dist_metric = euclidean | topk = 10 #\n",
      "#################################################################################\n",
      "╒════╤════════╤════════════╤═══════════════════╤════════════════╕\n",
      "│    │   rmse │   cos_dist │   rank(euclidean) │   rank(cosine) │\n",
      "╞════╪════════╪════════════╪═══════════════════╪════════════════╡\n",
      "│  3 │ 1.9741 │   0.952626 │           22.2586 │        16.8621 │\n",
      "╘════╧════════╧════════════╧═══════════════════╧════════════════╛\n",
      "\n"
     ]
    },
    {
     "name": "stderr",
     "output_type": "stream",
     "text": [
      "100%|██████████████████████████████████████████████████████████████| 699/699 [04:02<00:00,  2.88it/s]\n"
     ]
    },
    {
     "name": "stdout",
     "output_type": "stream",
     "text": [
      "0.029329(4)  \n",
      "#################################################################################\n",
      "# emb_model_update = 1 | -ve_method = all | dist_metric = euclidean | topk = 10 #\n",
      "#################################################################################\n",
      "╒════╤═════════╤════════════╤═══════════════════╤════════════════╕\n",
      "│    │    rmse │   cos_dist │   rank(euclidean) │   rank(cosine) │\n",
      "╞════╪═════════╪════════════╪═══════════════════╪════════════════╡\n",
      "│  4 │ 1.90997 │   0.955929 │           21.8402 │        16.8918 │\n",
      "╘════╧═════════╧════════════╧═══════════════════╧════════════════╛\n",
      "\n"
     ]
    },
    {
     "name": "stderr",
     "output_type": "stream",
     "text": [
      "100%|██████████████████████████████████████████████████████████████| 699/699 [03:54<00:00,  2.99it/s]\n"
     ]
    },
    {
     "name": "stdout",
     "output_type": "stream",
     "text": [
      "0.030627(5)  \n",
      "#################################################################################\n",
      "# emb_model_update = 1 | -ve_method = all | dist_metric = euclidean | topk = 10 #\n",
      "#################################################################################\n",
      "╒════╤════════╤════════════╤═══════════════════╤════════════════╕\n",
      "│    │   rmse │   cos_dist │   rank(euclidean) │   rank(cosine) │\n",
      "╞════╪════════╪════════════╪═══════════════════╪════════════════╡\n",
      "│  5 │ 1.8698 │   0.958127 │           21.0913 │        15.8425 │\n",
      "╘════╧════════╧════════════╧═══════════════════╧════════════════╛\n",
      "\n"
     ]
    },
    {
     "name": "stderr",
     "output_type": "stream",
     "text": [
      "100%|██████████████████████████████████████████████████████████████| 699/699 [03:51<00:00,  3.02it/s]\n"
     ]
    },
    {
     "name": "stdout",
     "output_type": "stream",
     "text": [
      "0.030970(6)  \n",
      "#################################################################################\n",
      "# emb_model_update = 1 | -ve_method = all | dist_metric = euclidean | topk = 10 #\n",
      "#################################################################################\n",
      "╒════╤═════════╤════════════╤═══════════════════╤════════════════╕\n",
      "│    │    rmse │   cos_dist │   rank(euclidean) │   rank(cosine) │\n",
      "╞════╪═════════╪════════════╪═══════════════════╪════════════════╡\n",
      "│  6 │ 1.83188 │   0.959969 │           18.8967 │         14.315 │\n",
      "╘════╧═════════╧════════════╧═══════════════════╧════════════════╛\n",
      "\n"
     ]
    },
    {
     "name": "stderr",
     "output_type": "stream",
     "text": [
      "100%|██████████████████████████████████████████████████████████████| 699/699 [05:08<00:00,  2.27it/s]\n"
     ]
    },
    {
     "name": "stdout",
     "output_type": "stream",
     "text": [
      "0.043086(7)  \n",
      "#################################################################################\n",
      "# emb_model_update = 1 | -ve_method = all | dist_metric = euclidean | topk = 10 #\n",
      "#################################################################################\n",
      "╒════╤═════════╤════════════╤═══════════════════╤════════════════╕\n",
      "│    │    rmse │   cos_dist │   rank(euclidean) │   rank(cosine) │\n",
      "╞════╪═════════╪════════════╪═══════════════════╪════════════════╡\n",
      "│  7 │ 2.21358 │   0.943071 │           28.1425 │        21.3724 │\n",
      "╘════╧═════════╧════════════╧═══════════════════╧════════════════╛\n",
      "\n"
     ]
    },
    {
     "name": "stderr",
     "output_type": "stream",
     "text": [
      "100%|██████████████████████████████████████████████████████████████| 699/699 [03:51<00:00,  3.02it/s]\n"
     ]
    },
    {
     "name": "stdout",
     "output_type": "stream",
     "text": [
      "0.038998(8)  \n",
      "#################################################################################\n",
      "# emb_model_update = 1 | -ve_method = all | dist_metric = euclidean | topk = 10 #\n",
      "#################################################################################\n",
      "╒════╤═════════╤════════════╤═══════════════════╤════════════════╕\n",
      "│    │    rmse │   cos_dist │   rank(euclidean) │   rank(cosine) │\n",
      "╞════╪═════════╪════════════╪═══════════════════╪════════════════╡\n",
      "│  8 │ 1.86557 │   0.959561 │           21.7157 │        15.8386 │\n",
      "╘════╧═════════╧════════════╧═══════════════════╧════════════════╛\n",
      "\n"
     ]
    },
    {
     "name": "stderr",
     "output_type": "stream",
     "text": [
      "100%|██████████████████████████████████████████████████████████████| 699/699 [04:03<00:00,  2.87it/s]\n"
     ]
    },
    {
     "name": "stdout",
     "output_type": "stream",
     "text": [
      "0.025866(9)  \n",
      "#################################################################################\n",
      "# emb_model_update = 1 | -ve_method = all | dist_metric = euclidean | topk = 10 #\n",
      "#################################################################################\n",
      "╒════╤═════════╤════════════╤═══════════════════╤════════════════╕\n",
      "│    │    rmse │   cos_dist │   rank(euclidean) │   rank(cosine) │\n",
      "╞════╪═════════╪════════════╪═══════════════════╪════════════════╡\n",
      "│  9 │ 1.77566 │   0.963747 │            18.768 │        13.0727 │\n",
      "╘════╧═════════╧════════════╧═══════════════════╧════════════════╛\n",
      "\n"
     ]
    },
    {
     "name": "stderr",
     "output_type": "stream",
     "text": [
      "100%|██████████████████████████████████████████████████████████████| 699/699 [03:49<00:00,  3.05it/s]\n"
     ]
    },
    {
     "name": "stdout",
     "output_type": "stream",
     "text": [
      "0.024856(10)  \n",
      "#################################################################################\n",
      "# emb_model_update = 1 | -ve_method = all | dist_metric = euclidean | topk = 10 #\n",
      "#################################################################################\n",
      "╒════╤═════════╤════════════╤═══════════════════╤════════════════╕\n",
      "│    │    rmse │   cos_dist │   rank(euclidean) │   rank(cosine) │\n",
      "╞════╪═════════╪════════════╪═══════════════════╪════════════════╡\n",
      "│ 10 │ 1.75477 │   0.964888 │           17.4388 │        12.2671 │\n",
      "╘════╧═════════╧════════════╧═══════════════════╧════════════════╛\n",
      "\n"
     ]
    },
    {
     "name": "stderr",
     "output_type": "stream",
     "text": [
      "100%|██████████████████████████████████████████████████████████████| 699/699 [03:49<00:00,  3.05it/s]\n"
     ]
    },
    {
     "name": "stdout",
     "output_type": "stream",
     "text": [
      "0.028710(11)  \n",
      "#################################################################################\n",
      "# emb_model_update = 1 | -ve_method = all | dist_metric = euclidean | topk = 10 #\n",
      "#################################################################################\n",
      "╒════╤═════════╤════════════╤═══════════════════╤════════════════╕\n",
      "│    │    rmse │   cos_dist │   rank(euclidean) │   rank(cosine) │\n",
      "╞════╪═════════╪════════════╪═══════════════════╪════════════════╡\n",
      "│ 11 │ 1.80687 │   0.963753 │           18.3718 │        12.7041 │\n",
      "╘════╧═════════╧════════════╧═══════════════════╧════════════════╛\n",
      "\n"
     ]
    },
    {
     "name": "stderr",
     "output_type": "stream",
     "text": [
      "100%|██████████████████████████████████████████████████████████████| 699/699 [04:21<00:00,  2.67it/s]\n"
     ]
    },
    {
     "name": "stdout",
     "output_type": "stream",
     "text": [
      "0.025753(12)  \n",
      "#################################################################################\n",
      "# emb_model_update = 1 | -ve_method = all | dist_metric = euclidean | topk = 10 #\n",
      "#################################################################################\n",
      "╒════╤═════════╤════════════╤═══════════════════╤════════════════╕\n",
      "│    │    rmse │   cos_dist │   rank(euclidean) │   rank(cosine) │\n",
      "╞════╪═════════╪════════════╪═══════════════════╪════════════════╡\n",
      "│ 12 │ 1.80734 │   0.963071 │           18.5538 │        12.7438 │\n",
      "╘════╧═════════╧════════════╧═══════════════════╧════════════════╛\n",
      "\n"
     ]
    },
    {
     "name": "stderr",
     "output_type": "stream",
     "text": [
      "100%|██████████████████████████████████████████████████████████████| 699/699 [04:44<00:00,  2.46it/s]\n"
     ]
    },
    {
     "name": "stdout",
     "output_type": "stream",
     "text": [
      "0.027397(13)  \n",
      "#################################################################################\n",
      "# emb_model_update = 1 | -ve_method = all | dist_metric = euclidean | topk = 10 #\n",
      "#################################################################################\n",
      "╒════╤═════════╤════════════╤═══════════════════╤════════════════╕\n",
      "│    │    rmse │   cos_dist │   rank(euclidean) │   rank(cosine) │\n",
      "╞════╪═════════╪════════════╪═══════════════════╪════════════════╡\n",
      "│ 13 │ 1.78745 │   0.965118 │           17.4631 │        12.2756 │\n",
      "╘════╧═════════╧════════════╧═══════════════════╧════════════════╛\n",
      "\n"
     ]
    },
    {
     "name": "stderr",
     "output_type": "stream",
     "text": [
      "100%|██████████████████████████████████████████████████████████████| 699/699 [03:54<00:00,  2.98it/s]\n"
     ]
    },
    {
     "name": "stdout",
     "output_type": "stream",
     "text": [
      "0.022636(14)  \n",
      "#################################################################################\n",
      "# emb_model_update = 1 | -ve_method = all | dist_metric = euclidean | topk = 10 #\n",
      "#################################################################################\n",
      "╒════╤═════════╤════════════╤═══════════════════╤════════════════╕\n",
      "│    │    rmse │   cos_dist │   rank(euclidean) │   rank(cosine) │\n",
      "╞════╪═════════╪════════════╪═══════════════════╪════════════════╡\n",
      "│ 14 │ 1.71882 │   0.967495 │           15.8187 │         10.801 │\n",
      "╘════╧═════════╧════════════╧═══════════════════╧════════════════╛\n",
      "\n"
     ]
    },
    {
     "name": "stderr",
     "output_type": "stream",
     "text": [
      "100%|██████████████████████████████████████████████████████████████| 699/699 [03:48<00:00,  3.05it/s]\n"
     ]
    },
    {
     "name": "stdout",
     "output_type": "stream",
     "text": [
      "0.023390(15)  \n",
      "#################################################################################\n",
      "# emb_model_update = 1 | -ve_method = all | dist_metric = euclidean | topk = 10 #\n",
      "#################################################################################\n",
      "╒════╤═════════╤════════════╤═══════════════════╤════════════════╕\n",
      "│    │    rmse │   cos_dist │   rank(euclidean) │   rank(cosine) │\n",
      "╞════╪═════════╪════════════╪═══════════════════╪════════════════╡\n",
      "│ 15 │ 1.73088 │   0.967366 │           15.4832 │        10.3821 │\n",
      "╘════╧═════════╧════════════╧═══════════════════╧════════════════╛\n",
      "\n"
     ]
    },
    {
     "name": "stderr",
     "output_type": "stream",
     "text": [
      "100%|██████████████████████████████████████████████████████████████| 699/699 [03:49<00:00,  3.05it/s]\n"
     ]
    },
    {
     "name": "stdout",
     "output_type": "stream",
     "text": [
      "0.024162(16)  \n",
      "#################################################################################\n",
      "# emb_model_update = 1 | -ve_method = all | dist_metric = euclidean | topk = 10 #\n",
      "#################################################################################\n",
      "╒════╤════════╤════════════╤═══════════════════╤════════════════╕\n",
      "│    │   rmse │   cos_dist │   rank(euclidean) │   rank(cosine) │\n",
      "╞════╪════════╪════════════╪═══════════════════╪════════════════╡\n",
      "│ 16 │ 1.7602 │   0.965897 │           16.3387 │        11.0701 │\n",
      "╘════╧════════╧════════════╧═══════════════════╧════════════════╛\n",
      "\n"
     ]
    },
    {
     "name": "stderr",
     "output_type": "stream",
     "text": [
      "100%|██████████████████████████████████████████████████████████████| 699/699 [03:51<00:00,  3.02it/s]\n"
     ]
    },
    {
     "name": "stdout",
     "output_type": "stream",
     "text": [
      "0.023763(17)  \n",
      "#################################################################################\n",
      "# emb_model_update = 1 | -ve_method = all | dist_metric = euclidean | topk = 10 #\n",
      "#################################################################################\n",
      "╒════╤═════════╤════════════╤═══════════════════╤════════════════╕\n",
      "│    │    rmse │   cos_dist │   rank(euclidean) │   rank(cosine) │\n",
      "╞════╪═════════╪════════════╪═══════════════════╪════════════════╡\n",
      "│ 17 │ 1.73368 │   0.967469 │            15.143 │         9.2246 │\n",
      "╘════╧═════════╧════════════╧═══════════════════╧════════════════╛\n",
      "\n"
     ]
    },
    {
     "name": "stderr",
     "output_type": "stream",
     "text": [
      "100%|██████████████████████████████████████████████████████████████| 699/699 [03:54<00:00,  2.97it/s]\n"
     ]
    },
    {
     "name": "stdout",
     "output_type": "stream",
     "text": [
      "0.023066(18)  \n",
      "#################################################################################\n",
      "# emb_model_update = 1 | -ve_method = all | dist_metric = euclidean | topk = 10 #\n",
      "#################################################################################\n",
      "╒════╤═════════╤════════════╤═══════════════════╤════════════════╕\n",
      "│    │    rmse │   cos_dist │   rank(euclidean) │   rank(cosine) │\n",
      "╞════╪═════════╪════════════╪═══════════════════╪════════════════╡\n",
      "│ 18 │ 1.72015 │   0.968467 │           15.4468 │        10.3111 │\n",
      "╘════╧═════════╧════════════╧═══════════════════╧════════════════╛\n",
      "\n"
     ]
    },
    {
     "name": "stderr",
     "output_type": "stream",
     "text": [
      "100%|██████████████████████████████████████████████████████████████| 699/699 [03:57<00:00,  2.94it/s]\n"
     ]
    },
    {
     "name": "stdout",
     "output_type": "stream",
     "text": [
      "0.022067(19)  \n",
      "#################################################################################\n",
      "# emb_model_update = 1 | -ve_method = all | dist_metric = euclidean | topk = 10 #\n",
      "#################################################################################\n",
      "╒════╤═════════╤════════════╤═══════════════════╤════════════════╕\n",
      "│    │    rmse │   cos_dist │   rank(euclidean) │   rank(cosine) │\n",
      "╞════╪═════════╪════════════╪═══════════════════╪════════════════╡\n",
      "│ 19 │ 1.69611 │   0.969463 │           14.6916 │        9.40431 │\n",
      "╘════╧═════════╧════════════╧═══════════════════╧════════════════╛\n",
      "\n"
     ]
    },
    {
     "name": "stderr",
     "output_type": "stream",
     "text": [
      "100%|██████████████████████████████████████████████████████████████| 699/699 [03:48<00:00,  3.06it/s]\n"
     ]
    },
    {
     "name": "stdout",
     "output_type": "stream",
     "text": [
      "0.020971(20)  \n",
      "#################################################################################\n",
      "# emb_model_update = 1 | -ve_method = all | dist_metric = euclidean | topk = 10 #\n",
      "#################################################################################\n",
      "╒════╤═════════╤════════════╤═══════════════════╤════════════════╕\n",
      "│    │    rmse │   cos_dist │   rank(euclidean) │   rank(cosine) │\n",
      "╞════╪═════════╪════════════╪═══════════════════╪════════════════╡\n",
      "│ 20 │ 1.68373 │   0.969808 │           14.4089 │        8.92737 │\n",
      "╘════╧═════════╧════════════╧═══════════════════╧════════════════╛\n",
      "\n"
     ]
    },
    {
     "name": "stderr",
     "output_type": "stream",
     "text": [
      "100%|██████████████████████████████████████████████████████████████| 699/699 [03:56<00:00,  2.95it/s]\n"
     ]
    },
    {
     "name": "stdout",
     "output_type": "stream",
     "text": [
      "0.030163(21)  \n",
      "#################################################################################\n",
      "# emb_model_update = 1 | -ve_method = all | dist_metric = euclidean | topk = 10 #\n",
      "#################################################################################\n",
      "╒════╤═════════╤════════════╤═══════════════════╤════════════════╕\n",
      "│    │    rmse │   cos_dist │   rank(euclidean) │   rank(cosine) │\n",
      "╞════╪═════════╪════════════╪═══════════════════╪════════════════╡\n",
      "│ 21 │ 1.83006 │   0.965206 │           16.1422 │          10.18 │\n",
      "╘════╧═════════╧════════════╧═══════════════════╧════════════════╛\n",
      "\n"
     ]
    },
    {
     "name": "stderr",
     "output_type": "stream",
     "text": [
      "100%|██████████████████████████████████████████████████████████████| 699/699 [03:52<00:00,  3.01it/s]\n"
     ]
    },
    {
     "name": "stdout",
     "output_type": "stream",
     "text": [
      "0.022872(22)  \n",
      "#################################################################################\n",
      "# emb_model_update = 1 | -ve_method = all | dist_metric = euclidean | topk = 10 #\n",
      "#################################################################################\n",
      "╒════╤═════════╤════════════╤═══════════════════╤════════════════╕\n",
      "│    │    rmse │   cos_dist │   rank(euclidean) │   rank(cosine) │\n",
      "╞════╪═════════╪════════════╪═══════════════════╪════════════════╡\n",
      "│ 22 │ 1.77517 │   0.967905 │           13.6412 │         7.5932 │\n",
      "╘════╧═════════╧════════════╧═══════════════════╧════════════════╛\n",
      "\n"
     ]
    },
    {
     "name": "stderr",
     "output_type": "stream",
     "text": [
      "100%|██████████████████████████████████████████████████████████████| 699/699 [03:50<00:00,  3.04it/s]\n"
     ]
    },
    {
     "name": "stdout",
     "output_type": "stream",
     "text": [
      "0.020692(23)  \n",
      "#################################################################################\n",
      "# emb_model_update = 1 | -ve_method = all | dist_metric = euclidean | topk = 10 #\n",
      "#################################################################################\n",
      "╒════╤═════════╤════════════╤═══════════════════╤════════════════╕\n",
      "│    │    rmse │   cos_dist │   rank(euclidean) │   rank(cosine) │\n",
      "╞════╪═════════╪════════════╪═══════════════════╪════════════════╡\n",
      "│ 23 │ 1.71408 │   0.969752 │           13.3606 │        7.92362 │\n",
      "╘════╧═════════╧════════════╧═══════════════════╧════════════════╛\n",
      "\n"
     ]
    },
    {
     "name": "stderr",
     "output_type": "stream",
     "text": [
      "100%|██████████████████████████████████████████████████████████████| 699/699 [04:05<00:00,  2.84it/s]\n"
     ]
    },
    {
     "name": "stdout",
     "output_type": "stream",
     "text": [
      "0.021594(24)  \n",
      "#################################################################################\n",
      "# emb_model_update = 1 | -ve_method = all | dist_metric = euclidean | topk = 10 #\n",
      "#################################################################################\n",
      "╒════╤════════╤════════════╤═══════════════════╤════════════════╕\n",
      "│    │   rmse │   cos_dist │   rank(euclidean) │   rank(cosine) │\n",
      "╞════╪════════╪════════════╪═══════════════════╪════════════════╡\n",
      "│ 24 │ 1.7157 │   0.969698 │           13.4592 │        7.61236 │\n",
      "╘════╧════════╧════════════╧═══════════════════╧════════════════╛\n",
      "\n"
     ]
    },
    {
     "name": "stderr",
     "output_type": "stream",
     "text": [
      "100%|██████████████████████████████████████████████████████████████| 699/699 [03:53<00:00,  2.99it/s]\n"
     ]
    },
    {
     "name": "stdout",
     "output_type": "stream",
     "text": [
      "0.021061(25)  \n",
      "#################################################################################\n",
      "# emb_model_update = 1 | -ve_method = all | dist_metric = euclidean | topk = 10 #\n",
      "#################################################################################\n",
      "╒════╤═════════╤════════════╤═══════════════════╤════════════════╕\n",
      "│    │    rmse │   cos_dist │   rank(euclidean) │   rank(cosine) │\n",
      "╞════╪═════════╪════════════╪═══════════════════╪════════════════╡\n",
      "│ 25 │ 1.72816 │   0.969253 │           13.2689 │        7.76311 │\n",
      "╘════╧═════════╧════════════╧═══════════════════╧════════════════╛\n",
      "\n"
     ]
    },
    {
     "name": "stderr",
     "output_type": "stream",
     "text": [
      "100%|██████████████████████████████████████████████████████████████| 699/699 [03:48<00:00,  3.06it/s]\n"
     ]
    },
    {
     "name": "stdout",
     "output_type": "stream",
     "text": [
      "0.033229(26)  \n",
      "#################################################################################\n",
      "# emb_model_update = 1 | -ve_method = all | dist_metric = euclidean | topk = 10 #\n",
      "#################################################################################\n",
      "╒════╤════════╤════════════╤═══════════════════╤════════════════╕\n",
      "│    │   rmse │   cos_dist │   rank(euclidean) │   rank(cosine) │\n",
      "╞════╪════════╪════════════╪═══════════════════╪════════════════╡\n",
      "│ 26 │ 2.0028 │   0.959948 │           15.9269 │        8.96025 │\n",
      "╘════╧════════╧════════════╧═══════════════════╧════════════════╛\n",
      "\n"
     ]
    },
    {
     "name": "stderr",
     "output_type": "stream",
     "text": [
      "100%|██████████████████████████████████████████████████████████████| 699/699 [04:17<00:00,  2.71it/s]\n"
     ]
    },
    {
     "name": "stdout",
     "output_type": "stream",
     "text": [
      "0.027766(27)  \n",
      "#################################################################################\n",
      "# emb_model_update = 1 | -ve_method = all | dist_metric = euclidean | topk = 10 #\n",
      "#################################################################################\n",
      "╒════╤═════════╤════════════╤═══════════════════╤════════════════╕\n",
      "│    │    rmse │   cos_dist │   rank(euclidean) │   rank(cosine) │\n",
      "╞════╪═════════╪════════════╪═══════════════════╪════════════════╡\n",
      "│ 27 │ 1.89792 │   0.964767 │           15.3318 │        9.63059 │\n",
      "╘════╧═════════╧════════════╧═══════════════════╧════════════════╛\n",
      "\n"
     ]
    },
    {
     "name": "stderr",
     "output_type": "stream",
     "text": [
      "100%|██████████████████████████████████████████████████████████████| 699/699 [03:50<00:00,  3.04it/s]\n"
     ]
    },
    {
     "name": "stdout",
     "output_type": "stream",
     "text": [
      "0.022937(28)  \n",
      "#################################################################################\n",
      "# emb_model_update = 1 | -ve_method = all | dist_metric = euclidean | topk = 10 #\n",
      "#################################################################################\n",
      "╒════╤═════════╤════════════╤═══════════════════╤════════════════╕\n",
      "│    │    rmse │   cos_dist │   rank(euclidean) │   rank(cosine) │\n",
      "╞════╪═════════╪════════════╪═══════════════════╪════════════════╡\n",
      "│ 28 │ 1.73273 │   0.970006 │           13.9522 │        9.21264 │\n",
      "╘════╧═════════╧════════════╧═══════════════════╧════════════════╛\n",
      "\n"
     ]
    },
    {
     "name": "stderr",
     "output_type": "stream",
     "text": [
      "100%|██████████████████████████████████████████████████████████████| 699/699 [04:01<00:00,  2.89it/s]\n"
     ]
    },
    {
     "name": "stdout",
     "output_type": "stream",
     "text": [
      "0.021013(29)  \n",
      "#################################################################################\n",
      "# emb_model_update = 1 | -ve_method = all | dist_metric = euclidean | topk = 10 #\n",
      "#################################################################################\n",
      "╒════╤═════════╤════════════╤═══════════════════╤════════════════╕\n",
      "│    │    rmse │   cos_dist │   rank(euclidean) │   rank(cosine) │\n",
      "╞════╪═════════╪════════════╪═══════════════════╪════════════════╡\n",
      "│ 29 │ 1.67829 │   0.971377 │           13.0842 │        8.20814 │\n",
      "╘════╧═════════╧════════════╧═══════════════════╧════════════════╛\n",
      "\n"
     ]
    },
    {
     "name": "stderr",
     "output_type": "stream",
     "text": [
      "100%|██████████████████████████████████████████████████████████████| 699/699 [04:21<00:00,  2.67it/s]\n"
     ]
    },
    {
     "name": "stdout",
     "output_type": "stream",
     "text": [
      "0.020861(30)  \n",
      "#################################################################################\n",
      "# emb_model_update = 1 | -ve_method = all | dist_metric = euclidean | topk = 10 #\n",
      "#################################################################################\n",
      "╒════╤═════════╤════════════╤═══════════════════╤════════════════╕\n",
      "│    │    rmse │   cos_dist │   rank(euclidean) │   rank(cosine) │\n",
      "╞════╪═════════╪════════════╪═══════════════════╪════════════════╡\n",
      "│ 30 │ 1.66483 │   0.971654 │            12.422 │        7.43779 │\n",
      "╘════╧═════════╧════════════╧═══════════════════╧════════════════╛\n",
      "\n"
     ]
    },
    {
     "name": "stderr",
     "output_type": "stream",
     "text": [
      "100%|██████████████████████████████████████████████████████████████| 699/699 [03:53<00:00,  3.00it/s]\n"
     ]
    },
    {
     "name": "stdout",
     "output_type": "stream",
     "text": [
      "0.021181(31)  \n",
      "#################################################################################\n",
      "# emb_model_update = 1 | -ve_method = all | dist_metric = euclidean | topk = 10 #\n",
      "#################################################################################\n",
      "╒════╤═════════╤════════════╤═══════════════════╤════════════════╕\n",
      "│    │    rmse │   cos_dist │   rank(euclidean) │   rank(cosine) │\n",
      "╞════╪═════════╪════════════╪═══════════════════╪════════════════╡\n",
      "│ 31 │ 1.66816 │   0.971723 │           12.7596 │        7.43939 │\n",
      "╘════╧═════════╧════════════╧═══════════════════╧════════════════╛\n",
      "\n"
     ]
    },
    {
     "name": "stderr",
     "output_type": "stream",
     "text": [
      "100%|██████████████████████████████████████████████████████████████| 699/699 [03:48<00:00,  3.06it/s]\n"
     ]
    },
    {
     "name": "stdout",
     "output_type": "stream",
     "text": [
      "0.038708(32)  \n",
      "#################################################################################\n",
      "# emb_model_update = 1 | -ve_method = all | dist_metric = euclidean | topk = 10 #\n",
      "#################################################################################\n",
      "╒════╤═════════╤════════════╤═══════════════════╤════════════════╕\n",
      "│    │    rmse │   cos_dist │   rank(euclidean) │   rank(cosine) │\n",
      "╞════╪═════════╪════════════╪═══════════════════╪════════════════╡\n",
      "│ 32 │ 2.07459 │   0.957135 │           15.9384 │        9.77346 │\n",
      "╘════╧═════════╧════════════╧═══════════════════╧════════════════╛\n",
      "\n"
     ]
    },
    {
     "name": "stderr",
     "output_type": "stream",
     "text": [
      "100%|██████████████████████████████████████████████████████████████| 699/699 [05:03<00:00,  2.30it/s]\n"
     ]
    },
    {
     "name": "stdout",
     "output_type": "stream",
     "text": [
      "0.032196(33)  \n",
      "#################################################################################\n",
      "# emb_model_update = 1 | -ve_method = all | dist_metric = euclidean | topk = 10 #\n",
      "#################################################################################\n",
      "╒════╤═════════╤════════════╤═══════════════════╤════════════════╕\n",
      "│    │    rmse │   cos_dist │   rank(euclidean) │   rank(cosine) │\n",
      "╞════╪═════════╪════════════╪═══════════════════╪════════════════╡\n",
      "│ 33 │ 1.85349 │   0.965412 │           18.2649 │        11.9128 │\n",
      "╘════╧═════════╧════════════╧═══════════════════╧════════════════╛\n",
      "\n"
     ]
    },
    {
     "name": "stderr",
     "output_type": "stream",
     "text": [
      "100%|██████████████████████████████████████████████████████████████| 699/699 [03:53<00:00,  2.99it/s]\n"
     ]
    },
    {
     "name": "stdout",
     "output_type": "stream",
     "text": [
      "0.025889(34)  \n",
      "#################################################################################\n",
      "# emb_model_update = 1 | -ve_method = all | dist_metric = euclidean | topk = 10 #\n",
      "#################################################################################\n",
      "╒════╤═════════╤════════════╤═══════════════════╤════════════════╕\n",
      "│    │    rmse │   cos_dist │   rank(euclidean) │   rank(cosine) │\n",
      "╞════╪═════════╪════════════╪═══════════════════╪════════════════╡\n",
      "│ 34 │ 1.73266 │   0.969705 │           13.7246 │        9.60988 │\n",
      "╘════╧═════════╧════════════╧═══════════════════╧════════════════╛\n",
      "\n"
     ]
    },
    {
     "name": "stderr",
     "output_type": "stream",
     "text": [
      "100%|██████████████████████████████████████████████████████████████| 699/699 [03:46<00:00,  3.08it/s]\n"
     ]
    },
    {
     "name": "stdout",
     "output_type": "stream",
     "text": [
      "0.024155(35)  \n",
      "#################################################################################\n",
      "# emb_model_update = 1 | -ve_method = all | dist_metric = euclidean | topk = 10 #\n",
      "#################################################################################\n",
      "╒════╤═════════╤════════════╤═══════════════════╤════════════════╕\n",
      "│    │    rmse │   cos_dist │   rank(euclidean) │   rank(cosine) │\n",
      "╞════╪═════════╪════════════╪═══════════════════╪════════════════╡\n",
      "│ 35 │ 1.68109 │   0.971479 │           13.7912 │        9.54188 │\n",
      "╘════╧═════════╧════════════╧═══════════════════╧════════════════╛\n",
      "\n"
     ]
    },
    {
     "name": "stderr",
     "output_type": "stream",
     "text": [
      "100%|██████████████████████████████████████████████████████████████| 699/699 [05:12<00:00,  2.24it/s]\n"
     ]
    },
    {
     "name": "stdout",
     "output_type": "stream",
     "text": [
      "0.023296(36)  \n",
      "#################################################################################\n",
      "# emb_model_update = 1 | -ve_method = all | dist_metric = euclidean | topk = 10 #\n",
      "#################################################################################\n",
      "╒════╤════════╤════════════╤═══════════════════╤════════════════╕\n",
      "│    │   rmse │   cos_dist │   rank(euclidean) │   rank(cosine) │\n",
      "╞════╪════════╪════════════╪═══════════════════╪════════════════╡\n",
      "│ 36 │ 1.6721 │   0.971772 │           13.3243 │        8.97225 │\n",
      "╘════╧════════╧════════════╧═══════════════════╧════════════════╛\n",
      "\n"
     ]
    },
    {
     "name": "stderr",
     "output_type": "stream",
     "text": [
      "100%|██████████████████████████████████████████████████████████████| 699/699 [04:39<00:00,  2.50it/s]\n"
     ]
    },
    {
     "name": "stdout",
     "output_type": "stream",
     "text": [
      "0.023389(37)  \n",
      "#################################################################################\n",
      "# emb_model_update = 1 | -ve_method = all | dist_metric = euclidean | topk = 10 #\n",
      "#################################################################################\n",
      "╒════╤═════════╤════════════╤═══════════════════╤════════════════╕\n",
      "│    │    rmse │   cos_dist │   rank(euclidean) │   rank(cosine) │\n",
      "╞════╪═════════╪════════════╪═══════════════════╪════════════════╡\n",
      "│ 37 │ 1.68172 │   0.971564 │           13.1344 │        8.62588 │\n",
      "╘════╧═════════╧════════════╧═══════════════════╧════════════════╛\n",
      "\n"
     ]
    },
    {
     "name": "stderr",
     "output_type": "stream",
     "text": [
      "100%|██████████████████████████████████████████████████████████████| 699/699 [03:48<00:00,  3.06it/s]\n"
     ]
    },
    {
     "name": "stdout",
     "output_type": "stream",
     "text": [
      "0.022593(38)  \n",
      "#################################################################################\n",
      "# emb_model_update = 1 | -ve_method = all | dist_metric = euclidean | topk = 10 #\n",
      "#################################################################################\n",
      "╒════╤═════════╤════════════╤═══════════════════╤════════════════╕\n",
      "│    │    rmse │   cos_dist │   rank(euclidean) │   rank(cosine) │\n",
      "╞════╪═════════╪════════════╪═══════════════════╪════════════════╡\n",
      "│ 38 │ 1.69548 │   0.971474 │           12.4198 │        7.61965 │\n",
      "╘════╧═════════╧════════════╧═══════════════════╧════════════════╛\n",
      "\n"
     ]
    },
    {
     "name": "stderr",
     "output_type": "stream",
     "text": [
      "100%|██████████████████████████████████████████████████████████████| 699/699 [03:54<00:00,  2.99it/s]\n"
     ]
    },
    {
     "name": "stdout",
     "output_type": "stream",
     "text": [
      "0.022254(39)  \n",
      "#################################################################################\n",
      "# emb_model_update = 1 | -ve_method = all | dist_metric = euclidean | topk = 10 #\n",
      "#################################################################################\n",
      "╒════╤═════════╤════════════╤═══════════════════╤════════════════╕\n",
      "│    │    rmse │   cos_dist │   rank(euclidean) │   rank(cosine) │\n",
      "╞════╪═════════╪════════════╪═══════════════════╪════════════════╡\n",
      "│ 39 │ 1.71137 │   0.970928 │           14.1534 │        9.40385 │\n",
      "╘════╧═════════╧════════════╧═══════════════════╧════════════════╛\n",
      "\n"
     ]
    },
    {
     "name": "stderr",
     "output_type": "stream",
     "text": [
      "100%|██████████████████████████████████████████████████████████████| 699/699 [05:08<00:00,  2.26it/s]\n"
     ]
    },
    {
     "name": "stdout",
     "output_type": "stream",
     "text": [
      "0.022476(40)  \n",
      "#################################################################################\n",
      "# emb_model_update = 1 | -ve_method = all | dist_metric = euclidean | topk = 10 #\n",
      "#################################################################################\n",
      "╒════╤═════════╤════════════╤═══════════════════╤════════════════╕\n",
      "│    │    rmse │   cos_dist │   rank(euclidean) │   rank(cosine) │\n",
      "╞════╪═════════╪════════════╪═══════════════════╪════════════════╡\n",
      "│ 40 │ 1.70571 │   0.970876 │            13.325 │        8.90214 │\n",
      "╘════╧═════════╧════════════╧═══════════════════╧════════════════╛\n",
      "\n"
     ]
    },
    {
     "name": "stderr",
     "output_type": "stream",
     "text": [
      "100%|██████████████████████████████████████████████████████████████| 699/699 [03:53<00:00,  3.00it/s]\n"
     ]
    },
    {
     "ename": "KeyboardInterrupt",
     "evalue": "",
     "output_type": "error",
     "traceback": [
      "\u001b[0;31m---------------------------------------------------------------------------\u001b[0m",
      "\u001b[0;31mKeyboardInterrupt\u001b[0m                         Traceback (most recent call last)",
      "\u001b[0;32m/tmp/ipykernel_19977/1873433892.py\u001b[0m in \u001b[0;36m<module>\u001b[0;34m\u001b[0m\n\u001b[1;32m     38\u001b[0m                 \u001b[0;32melif\u001b[0m \u001b[0mnegative_method\u001b[0m \u001b[0;34m==\u001b[0m \u001b[0;34m\"all\"\u001b[0m\u001b[0;34m:\u001b[0m\u001b[0;34m\u001b[0m\u001b[0;34m\u001b[0m\u001b[0m\n\u001b[1;32m     39\u001b[0m                     \u001b[0;32mif\u001b[0m \u001b[0mdistance_metric\u001b[0m \u001b[0;34m==\u001b[0m \u001b[0;34m\"euclidean\"\u001b[0m\u001b[0;34m:\u001b[0m\u001b[0;34m\u001b[0m\u001b[0;34m\u001b[0m\u001b[0m\n\u001b[0;32m---> 40\u001b[0;31m                         \u001b[0mdist\u001b[0m \u001b[0;34m=\u001b[0m \u001b[0mnp\u001b[0m\u001b[0;34m.\u001b[0m\u001b[0mlinalg\u001b[0m\u001b[0;34m.\u001b[0m\u001b[0mnorm\u001b[0m\u001b[0;34m(\u001b[0m\u001b[0maction_embeddings\u001b[0m \u001b[0;34m-\u001b[0m \u001b[0mcurr_out\u001b[0m\u001b[0;34m)\u001b[0m\u001b[0;34m\u001b[0m\u001b[0;34m\u001b[0m\u001b[0m\n\u001b[0m\u001b[1;32m     41\u001b[0m                     \u001b[0;32melif\u001b[0m \u001b[0mdistance_metric\u001b[0m \u001b[0;34m==\u001b[0m \u001b[0;34m\"cosine\"\u001b[0m\u001b[0;34m:\u001b[0m\u001b[0;34m\u001b[0m\u001b[0;34m\u001b[0m\u001b[0m\n\u001b[1;32m     42\u001b[0m                         \u001b[0mdist\u001b[0m \u001b[0;34m=\u001b[0m \u001b[0;34m(\u001b[0m\u001b[0;36m1\u001b[0m \u001b[0;34m-\u001b[0m \u001b[0maction_embeddings\u001b[0m\u001b[0;34m.\u001b[0m\u001b[0mdot\u001b[0m\u001b[0;34m(\u001b[0m\u001b[0mcurr_out\u001b[0m\u001b[0;34m)\u001b[0m\u001b[0;34m)\u001b[0m \u001b[0;34m/\u001b[0m \u001b[0;34m(\u001b[0m\u001b[0maction_embeddings_norm\u001b[0m \u001b[0;34m*\u001b[0m\u001b[0mnp\u001b[0m\u001b[0;34m.\u001b[0m\u001b[0mlinalg\u001b[0m\u001b[0;34m.\u001b[0m\u001b[0mnorm\u001b[0m\u001b[0;34m(\u001b[0m\u001b[0mcurr_out\u001b[0m\u001b[0;34m)\u001b[0m\u001b[0;34m)\u001b[0m\u001b[0;34m\u001b[0m\u001b[0;34m\u001b[0m\u001b[0m\n",
      "\u001b[0;31mKeyboardInterrupt\u001b[0m: "
     ]
    }
   ],
   "source": [
    "lr = 1e-3\n",
    "epochs = 50\n",
    "batch_size = 128\n",
    "\n",
    "action_embeddings = get_action_dataset_embeddings(gin_model)\n",
    "# action_embeddings = _action_embeddings.copy()\n",
    "action_embeddings_norm = np.linalg.norm(action_embeddings)\n",
    "\n",
    "for distance_metric, negative_method, topk, emb_model_update in itertools.product([\"euclidean\"], [\"all\"], [10], [1]):\n",
    "    print(\"@\"*190)\n",
    "    print(\"@\"*190)\n",
    "    print(\"@\"*190)\n",
    "    \n",
    "    model = PolicyNetwork().to(device)\n",
    "    embedding_model = torch.load(\"models/zinc2m_gin.pth\").to(device)\n",
    "    optimizer = torch.optim.Adam(model.parameters(), lr=lr)  \n",
    "    criterion = WeightedRegularizedTriplet()\n",
    "    \n",
    "    metric_dict = {\"rank(cosine)\": [], \"rank(euclidean)\": [], \"rmse\": [], \"cos_dist\": []}\n",
    "    # Train the model\n",
    "    for epoch in range(1, epochs+1):\n",
    "        model.train()\n",
    "        for i in range(0, train_reactants.batch_size - batch_size, batch_size):\n",
    "            # Forward pass\n",
    "            outputs = model(train_reactants[i:i+batch_size], train_products[i:i+batch_size])\n",
    "\n",
    "            # Calc negatives\n",
    "            negatives = []\n",
    "            \n",
    "            for _i in range(outputs.shape[0]):\n",
    "                act_emb_for_i, correct_index = action_embeddings[action_embedding_indices[train_idx[i+_i]]], correct_indices[train_idx[i+_i]]\n",
    "                curr_out = outputs[_i].detach().cpu().numpy()\n",
    "\n",
    "                if negative_method == \"applicable\":\n",
    "                    top = get_top_k_indices(curr_out, act_emb_for_i, correct_index, distance=distance_metric, k=50)\n",
    "                    negatives.append(act_emb_for_i[top])\n",
    "                \n",
    "                elif negative_method == \"all\":\n",
    "                    if distance_metric == \"euclidean\":\n",
    "                        dist = np.linalg.norm(action_embeddings - curr_out)\n",
    "                    elif distance_metric == \"cosine\":\n",
    "                        dist = (1 - action_embeddings.dot(curr_out)) / (action_embeddings_norm *np.linalg.norm(curr_out))\n",
    "                    sorted_idx = np.argsort(dist)[:topk] # get topk\n",
    "                    sorted_idx = sorted_idx[sorted_idx != correct_index] # Remove if correct index in list\n",
    "                    negatives.append(action_embeddings[sorted_idx])\n",
    "                        \n",
    "            negatives = torch.Tensor(np.concatenate(negatives, axis=0)).to(device)\n",
    "                                \n",
    "            # get targets\n",
    "            targets = torch.Tensor(get_action_embedding(embedding_model, main_df.iloc[i:i+batch_size][main_df.columns[1:-1]])).to(device)\n",
    "                                \n",
    "            # Calc loss\n",
    "            inputs = torch.concat([outputs, targets, negatives])\n",
    "            labels = torch.concat([torch.arange(outputs.shape[0]), torch.arange(targets.shape[0]), torch.full((negatives.shape[0],), -1)]).to(device)\n",
    "            loss = criterion(inputs, labels)\n",
    "\n",
    "            # Backward and optimize\n",
    "            optimizer.zero_grad()\n",
    "            loss.backward()\n",
    "            optimizer.step()\n",
    "\n",
    "        print ('{:.6f}({})'.format(loss.item(), epoch), end='  ')\n",
    "        \n",
    "        # SWITCH INDENT HERE ----\n",
    "        model.eval()\n",
    "        with torch.no_grad():\n",
    "            print()\n",
    "\n",
    "            margin_string = f\"# emb_model_update = {emb_model_update} | -ve_method = {negative_method} | dist_metric = {distance_metric} | topk = {topk} #\"\n",
    "            print(\"#\" * len(margin_string))\n",
    "            print(margin_string)\n",
    "            print(\"#\" * len(margin_string))\n",
    "\n",
    "            # Predictions and action component-wise loss\n",
    "            pred = model(test_reactants, test_products).detach().cpu().numpy() \n",
    "            true = get_action_embedding(embedding_model, main_df.iloc[test_idx][main_df.columns[1:-1]])\n",
    "\n",
    "            metric_df = pd.DataFrame(columns=[\"rmse\", \"cos_dist\", \"rank(euclidean)\", \"rank(cosine)\"])\n",
    "\n",
    "            # Print Test metrics\n",
    "            metric_dict[\"rmse\"].append( (((pred-true)**2).sum(axis=1)**0.5).mean() )\n",
    "            metric_dict[\"cos_dist\"].append( ((pred*true).sum(axis=1) / np.linalg.norm(pred, axis=1) / np.linalg.norm(true, axis=1)).mean() )\n",
    "\n",
    "            # Print Test metric - Rank\n",
    "            for dist in [\"euclidean\", \"cosine\"]:\n",
    "                rank_list = []\n",
    "                l = []\n",
    "                total = []\n",
    "                for i in range(pred.shape[0]):\n",
    "                    pred_for_i = pred[i]\n",
    "                    act_emb_for_i, correct_index = action_embeddings[action_embedding_indices[test_idx[i]]], correct_indices[test_idx[i]]\n",
    "\n",
    "                    rank, list_of_indices = get_ranking(pred_for_i, act_emb_for_i, correct_index, distance=dist)\n",
    "                    l.append(rank)\n",
    "                    total.append(act_emb_for_i.shape[0])\n",
    "                rank_list.append(f\"{np.mean(l):.4f}({np.mean(total)}) +- {np.std(l):.4f}\")\n",
    "                metric_dict[f\"rank({dist})\"].append(np.mean(l))\n",
    "\n",
    "            for col in metric_df.columns:\n",
    "                metric_df[col] = [metric_dict[col][-1]]\n",
    "            metric_df.index = [epoch]\n",
    "            print(tabulate(metric_df, headers='keys', tablefmt='fancy_grid'))\n",
    "            print()\n",
    "            \n",
    "        # Update embedding model and action_embeddings\n",
    "        if epoch % emb_model_update == 0:\n",
    "            embedding_model.load_state_dict(model.GIN.state_dict())\n",
    "            action_embeddings = get_action_dataset_embeddings(embedding_model)\n",
    "            action_embeddings_norm = np.linalg.norm(action_embeddings)\n",
    "            \n",
    "    fig = plt.figure(figsize=(8, 8))\n",
    "    for dist in filter(lambda x: \"rank\" in x, metric_dict.keys()):\n",
    "        plt.plot(metric_dict[dist], label=dist)\n",
    "    plt.title(distance_metric)\n",
    "    plt.xlabel(\"epoch\")\n",
    "    plt.ylabel(\"ranking\")\n",
    "    plt.legend()\n",
    "    fig.show()\n",
    "    \n",
    "    # save everything\n",
    "    folder = f\"models/supervised/2step/emb_model_update={emb_model_update}||-ve_method={negative_method}||dist_metric={distance_metric}||topk={topk}\"\n",
    "    os.makedirs(folder, exist_ok = True)\n",
    "    torch.save(model, os.path.join(folder, \"model.pth\"))\n",
    "    pd.DataFrame.from_dict(metric_dict).to_csv(os.path.join(folder, \"metrics.csv\"))\n",
    "    fig.savefig(os.path.join(folder, \"plot.png\"))\n",
    "    json.dump({\n",
    "        \"lr\": lr,\n",
    "        \"epochs\": epochs, \n",
    "        \"batch_size\": batch_size,\n",
    "        \"train_samples\": train_idx.shape,\n",
    "        \"test_samples\": test_idx.shape,\n",
    "        \"distance_metric\": distance_metric,\n",
    "        \"negative_method\": negative_method,\n",
    "        \"topk\": topk,\n",
    "        \"emb_model_update\": emb_model_update,\n",
    "    }, open(os.path.join(folder, \"config.txt\"), 'w'))"
   ]
  },
  {
   "cell_type": "code",
   "execution_count": null,
   "id": "1bd5e922",
   "metadata": {},
   "outputs": [],
   "source": []
  }
 ],
 "metadata": {
  "kernelspec": {
   "display_name": "Python 3 (ipykernel)",
   "language": "python",
   "name": "python3"
  },
  "language_info": {
   "codemirror_mode": {
    "name": "ipython",
    "version": 3
   },
   "file_extension": ".py",
   "mimetype": "text/x-python",
   "name": "python",
   "nbconvert_exporter": "python",
   "pygments_lexer": "ipython3",
   "version": "3.7.16"
  }
 },
 "nbformat": 4,
 "nbformat_minor": 5
}
