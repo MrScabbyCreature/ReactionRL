{
 "cells": [
  {
   "cell_type": "code",
   "execution_count": 92,
   "id": "efa654e6",
   "metadata": {},
   "outputs": [],
   "source": [
    "import pickle\n",
    "import numpy as np\n",
    "import pandas as pd\n",
    "import seaborn as sns\n",
    "from matplotlib import pyplot as plt\n",
    "from rdkit import Chem\n",
    "from rewards.properties import qed, SA\n",
    "import tqdm\n",
    "\n",
    "mfs = Chem.MolFromSmiles\n",
    "mts = Chem.MolToSmiles"
   ]
  },
  {
   "cell_type": "code",
   "execution_count": 2,
   "id": "9b2cda95",
   "metadata": {},
   "outputs": [],
   "source": [
    "logRL_trajectory_dict = pickle.load(open(\"models/onlineRL_sim/data/LOGRL_traj_dict.pickle\", 'rb'))\n",
    "logRL_sim_dict = pickle.load(open(\"models/onlineRL_sim/data/LOGRL_sim_dict.pickle\", 'rb'))"
   ]
  },
  {
   "cell_type": "code",
   "execution_count": 3,
   "id": "8990c369",
   "metadata": {},
   "outputs": [],
   "source": [
    "s_model_trajectory_dict = pickle.load(open(\"models/onlineRL_sim/data/s_model_traj_dict.pickle\", 'rb'))\n",
    "s_model_sim_dict = pickle.load(open(\"models/onlineRL_sim/data/s_model_sim_dict.pickle\", 'rb'))"
   ]
  },
  {
   "cell_type": "code",
   "execution_count": 12,
   "id": "f3a36812",
   "metadata": {},
   "outputs": [],
   "source": [
    "qs_model_trajectory_dict = pickle.load(open(\"models/onlineRL_sim/data/q+s_model_traj_dict.pickle\", 'rb'))\n",
    "qs_model_sim_dict = pickle.load(open(\"models/onlineRL_sim/data/q+s_model_sim_dict.pickle\", 'rb'))"
   ]
  },
  {
   "cell_type": "code",
   "execution_count": 94,
   "id": "2190d3b8",
   "metadata": {},
   "outputs": [
    {
     "name": "stderr",
     "output_type": "stream",
     "text": [
      "100%|██████████████████████████████████████████████████████████████████| 1/1 [00:00<00:00, 52.94it/s]\n",
      "100%|██████████████████████████████████████████████████████████████████| 1/1 [00:00<00:00, 61.53it/s]\n",
      " 30%|███████████████████▌                                             | 3/10 [00:00<00:00, 49.32it/s]\n",
      " 14%|████████▊                                                      | 14/100 [00:00<00:01, 47.31it/s]\n",
      " 42%|█████████████████████████▊                                   | 423/1000 [00:23<00:31, 18.06it/s]\n",
      "100%|██████████████████████████████████████████████████████████████████| 1/1 [00:00<00:00, 54.77it/s]\n",
      "100%|██████████████████████████████████████████████████████████████████| 1/1 [00:00<00:00, 49.32it/s]\n",
      " 90%|██████████████████████████████████████████████████████████▌      | 9/10 [00:00<00:00, 47.19it/s]\n",
      " 84%|████████████████████████████████████████████████████▉          | 84/100 [00:01<00:00, 43.53it/s]\n",
      " 86%|████████████████████████████████████████████████████▋        | 864/1000 [00:46<00:07, 18.50it/s]\n",
      "100%|█████████████████████████████████████████████████████████████████| 1/1 [00:00<00:00, 101.12it/s]\n",
      "100%|█████████████████████████████████████████████████████████████████| 1/1 [00:00<00:00, 104.60it/s]\n",
      "100%|███████████████████████████████████████████████████████████████| 10/10 [00:00<00:00, 106.12it/s]\n",
      " 87%|██████████████████████████████████████████████████████▊        | 87/100 [00:01<00:00, 79.58it/s]\n",
      " 87%|████████████████████████████████████████████████████▉        | 868/1000 [00:37<00:05, 23.39it/s]\n"
     ]
    }
   ],
   "source": [
    "class Eval:\n",
    "    def __init__(self, traj_dict, sim_dict):\n",
    "        self.trajectory_dict = traj_dict\n",
    "        self.all_keys = np.array(list(self.trajectory_dict.keys()))\n",
    "        self.sim_dict = sim_dict\n",
    "        \n",
    "        self.sim_arr = np.vectorize(self.sim_dict.get)(self.all_keys)\n",
    "        self.sorted_sim_arr = np.sort(self.sim_arr)[::-1]\n",
    "        self.relevant_keys = {i:self.get_top_keys(i) for i in [1, 10, 100, 1000, 10000]}\n",
    "\n",
    "    def get_qed_arr(self, relevant_keys):\n",
    "        return np.array(list(map(lambda x: qed(mfs(x)), np.vectorize(self.trajectory_dict.get)(relevant_keys))))\n",
    "    \n",
    "    def get_SA_arr(self, relevant_keys):\n",
    "        return np.array(list(map(lambda x: SA(mfs(x)), np.vectorize(self.trajectory_dict.get)(relevant_keys))))\n",
    "        \n",
    "    def get_metrics(self):\n",
    "        for i in [1, 10, 100, 1000, 10000]:\n",
    "            relevant_keys = self.relevant_keys[i]\n",
    "            qed_arr = self.get_qed_arr(relevant_keys)\n",
    "            mean_sim = np.mean(np.vectorize(self.sim_dict.get)(relevant_keys))\n",
    "            q_min = qed_arr.min()\n",
    "            q_mean = qed_arr.mean()\n",
    "            q_median = np.median(qed_arr)\n",
    "            q_max = qed_arr.max()\n",
    "            sascore = self.get_SA_arr(relevant_keys)\n",
    "\n",
    "            print(f\"{i}\\t\" + \"\\t\".join(list(map(lambda x: str(round(x, 3)), [mean_sim, q_min, q_mean, q_max, sascore.mean()]))))\n",
    "            \n",
    "    def get_top_keys(self, n):\n",
    "        i = n\n",
    "        for i in tqdm.tqdm(range(int(2*n), n, -10)):\n",
    "            relevant_keys= self.all_keys[self.sim_arr >= self.sorted_sim_arr[i]]\n",
    "            relevant_keys = np.array(list(filter(lambda x: len(x.split(\"_\")) <= 5, relevant_keys)))\n",
    "            relevant_smiles = np.unique(np.vectorize(self.trajectory_dict.get)(relevant_keys))\n",
    "            if relevant_smiles.shape[0] < n:\n",
    "                break\n",
    "        relevant_keys = self.all_keys[self.sim_arr >= self.sorted_sim_arr[i+10]]\n",
    "        relevant_keys = np.array(list(filter(lambda x: len(x.split(\"_\")) <= 5, relevant_keys)))\n",
    "        relevant_smiles = np.unique(np.vectorize(self.trajectory_dict.get)(relevant_keys))\n",
    "\n",
    "        temp_set = set()\n",
    "        temp_keys = []\n",
    "        for key in relevant_keys:\n",
    "            if self.trajectory_dict[key] in temp_set:\n",
    "                continue\n",
    "            temp_keys.append(key)\n",
    "            temp_set.add(self.trajectory_dict[key])\n",
    "\n",
    "        temp_sim = [self.sim_dict[key] for key in temp_keys]\n",
    "        for i in range(len(temp_keys) - n):\n",
    "            miny = np.argmin(temp_sim)\n",
    "            temp_sim.pop(miny)\n",
    "            temp_keys.pop(miny)\n",
    "        \n",
    "        temp_keys = np.array(temp_keys)\n",
    "        assert temp_keys.shape[0] == n, \"NOOOOOOO!!!!\"\n",
    "\n",
    "        return temp_keys\n",
    "    \n",
    "logrl_eval = Eval(logRL_trajectory_dict, logRL_sim_dict)\n",
    "s_model_eval = Eval(s_model_trajectory_dict, s_model_sim_dict)\n",
    "qs_model_eval = Eval(qs_model_trajectory_dict, qs_model_sim_dict)"
   ]
  },
  {
   "cell_type": "code",
   "execution_count": 95,
   "id": "214931ed",
   "metadata": {},
   "outputs": [
    {
     "name": "stdout",
     "output_type": "stream",
     "text": [
      "1\t0.791\t0.262\t0.262\t0.262\t2.251\n",
      "10\t0.761\t0.127\t0.244\t0.321\t2.389\n",
      "100\t0.704\t0.088\t0.294\t0.624\t2.334\n",
      "1000\t0.634\t0.032\t0.3\t0.791\t2.702\n",
      "10000\t0.56\t0.018\t0.291\t0.889\t3.0\n",
      "1\t0.694\t0.289\t0.289\t0.289\t1.967\n",
      "10\t0.618\t0.12\t0.201\t0.289\t2.623\n",
      "100\t0.554\t0.049\t0.206\t0.712\t2.858\n",
      "1000\t0.499\t0.024\t0.262\t0.923\t2.905\n",
      "10000\t0.439\t0.013\t0.302\t0.946\t2.841\n",
      "1\t0.703\t0.294\t0.294\t0.294\t2.171\n",
      "10\t0.654\t0.266\t0.401\t0.681\t2.019\n",
      "100\t0.59\t0.102\t0.299\t0.681\t2.412\n",
      "1000\t0.523\t0.029\t0.226\t0.845\t2.826\n",
      "10000\t0.45\t0.013\t0.261\t0.942\t2.862\n"
     ]
    }
   ],
   "source": [
    "logrl_eval.get_metrics()\n",
    "s_model_eval.get_metrics()\n",
    "qs_model_eval.get_metrics()"
   ]
  },
  {
   "cell_type": "code",
   "execution_count": 64,
   "id": "34af3f96",
   "metadata": {},
   "outputs": [],
   "source": [
    "l = {\"LOGRL\": logrl_eval, \n",
    "     \"S model\": s_model_eval,\n",
    "     \"Q+S model\": qs_model_eval\n",
    "    }\n",
    "n = 10000\n",
    "df = pd.concat([\n",
    "    pd.DataFrame({\n",
    "        \"Model\": [key]*n, \n",
    "        \"QED\": l[key].get_qed_arr(l[key].relevant_keys[n]),\n",
    "        \"SIM\": np.vectorize(l[key].sim_dict.get)(l[key].relevant_keys[n]),\n",
    "    }) for key in l\n",
    "], axis=0)\n",
    "\n"
   ]
  },
  {
   "cell_type": "code",
   "execution_count": 65,
   "id": "136f1a40",
   "metadata": {},
   "outputs": [
    {
     "data": {
      "text/html": [
       "<div>\n",
       "<style scoped>\n",
       "    .dataframe tbody tr th:only-of-type {\n",
       "        vertical-align: middle;\n",
       "    }\n",
       "\n",
       "    .dataframe tbody tr th {\n",
       "        vertical-align: top;\n",
       "    }\n",
       "\n",
       "    .dataframe thead th {\n",
       "        text-align: right;\n",
       "    }\n",
       "</style>\n",
       "<table border=\"1\" class=\"dataframe\">\n",
       "  <thead>\n",
       "    <tr style=\"text-align: right;\">\n",
       "      <th></th>\n",
       "      <th>Model</th>\n",
       "      <th>QED</th>\n",
       "      <th>SIM</th>\n",
       "    </tr>\n",
       "  </thead>\n",
       "  <tbody>\n",
       "    <tr>\n",
       "      <th>0</th>\n",
       "      <td>LOGRL</td>\n",
       "      <td>0.288705</td>\n",
       "      <td>0.694118</td>\n",
       "    </tr>\n",
       "    <tr>\n",
       "      <th>1</th>\n",
       "      <td>LOGRL</td>\n",
       "      <td>0.712130</td>\n",
       "      <td>0.532110</td>\n",
       "    </tr>\n",
       "    <tr>\n",
       "      <th>2</th>\n",
       "      <td>LOGRL</td>\n",
       "      <td>0.712130</td>\n",
       "      <td>0.532110</td>\n",
       "    </tr>\n",
       "    <tr>\n",
       "      <th>3</th>\n",
       "      <td>LOGRL</td>\n",
       "      <td>0.644113</td>\n",
       "      <td>0.602273</td>\n",
       "    </tr>\n",
       "    <tr>\n",
       "      <th>4</th>\n",
       "      <td>LOGRL</td>\n",
       "      <td>0.694301</td>\n",
       "      <td>0.602273</td>\n",
       "    </tr>\n",
       "    <tr>\n",
       "      <th>...</th>\n",
       "      <td>...</td>\n",
       "      <td>...</td>\n",
       "      <td>...</td>\n",
       "    </tr>\n",
       "    <tr>\n",
       "      <th>9995</th>\n",
       "      <td>Q+S model</td>\n",
       "      <td>0.325728</td>\n",
       "      <td>0.444444</td>\n",
       "    </tr>\n",
       "    <tr>\n",
       "      <th>9996</th>\n",
       "      <td>Q+S model</td>\n",
       "      <td>0.227699</td>\n",
       "      <td>0.434783</td>\n",
       "    </tr>\n",
       "    <tr>\n",
       "      <th>9997</th>\n",
       "      <td>Q+S model</td>\n",
       "      <td>0.282761</td>\n",
       "      <td>0.433962</td>\n",
       "    </tr>\n",
       "    <tr>\n",
       "      <th>9998</th>\n",
       "      <td>Q+S model</td>\n",
       "      <td>0.501887</td>\n",
       "      <td>0.454545</td>\n",
       "    </tr>\n",
       "    <tr>\n",
       "      <th>9999</th>\n",
       "      <td>Q+S model</td>\n",
       "      <td>0.120101</td>\n",
       "      <td>0.442623</td>\n",
       "    </tr>\n",
       "  </tbody>\n",
       "</table>\n",
       "<p>30000 rows × 3 columns</p>\n",
       "</div>"
      ],
      "text/plain": [
       "          Model       QED       SIM\n",
       "0         LOGRL  0.288705  0.694118\n",
       "1         LOGRL  0.712130  0.532110\n",
       "2         LOGRL  0.712130  0.532110\n",
       "3         LOGRL  0.644113  0.602273\n",
       "4         LOGRL  0.694301  0.602273\n",
       "...         ...       ...       ...\n",
       "9995  Q+S model  0.325728  0.444444\n",
       "9996  Q+S model  0.227699  0.434783\n",
       "9997  Q+S model  0.282761  0.433962\n",
       "9998  Q+S model  0.501887  0.454545\n",
       "9999  Q+S model  0.120101  0.442623\n",
       "\n",
       "[30000 rows x 3 columns]"
      ]
     },
     "execution_count": 65,
     "metadata": {},
     "output_type": "execute_result"
    }
   ],
   "source": [
    "df"
   ]
  },
  {
   "cell_type": "code",
   "execution_count": 91,
   "id": "fc67ae9e",
   "metadata": {
    "scrolled": false
   },
   "outputs": [
    {
     "data": {
      "image/png": "[encoded data removed]",
      "text/plain": [
       "<Figure size 1200x400 with 2 Axes>"
      ]
     },
     "metadata": {},
     "output_type": "display_data"
    }
   ],
   "source": [
    "%matplotlib inline\n",
    "fig, ax = plt.subplots(1, 2, \n",
    "#                        sharey=True, \n",
    "                       figsize=(12, 4))\n",
    "\n",
    "sns.kdeplot(data=df, x=\"SIM\", hue=\"Model\", fill=True, ax=ax[0])#, figsize=(12,6))\n",
    "sns.kdeplot(data=df, x=\"QED\", hue=\"Model\", fill=True, ax=ax[1])\n",
    "\n",
    "ax[0].set_title(\"Similarity\")\n",
    "ax[1].set_title(\"QED\")\n",
    "plt.show()"
   ]
  },
  {
   "cell_type": "code",
   "execution_count": 48,
   "id": "2f7830fd",
   "metadata": {},
   "outputs": [
    {
     "name": "stderr",
     "output_type": "stream",
     "text": [
      "100%|████████████████████████████████████████████████████| 7061442/7061442 [14:01<00:00, 8391.29it/s]\n"
     ]
    }
   ],
   "source": [
    "from multiprocessing import Pool\n",
    "\n",
    "def smile_qed(s):\n",
    "    return qed(mfs(s))\n",
    "\n",
    "def all_qed(eval_model):\n",
    "    arr = []\n",
    "    with Pool(35) as P:\n",
    "        for q in tqdm.tqdm(P.imap_unordered(smile_qed, eval_model.trajectory_dict.values(), chunksize=1000), total=eval_model.all_keys.shape[0]):\n",
    "            arr.append(q)\n",
    "    return np.array(arr)\n",
    "\n",
    "qs_qed_arr = all_qed(qs_model_eval)"
   ]
  },
  {
   "cell_type": "code",
   "execution_count": 49,
   "id": "13fb1e6b",
   "metadata": {},
   "outputs": [
    {
     "name": "stderr",
     "output_type": "stream",
     "text": [
      "100%|██████████████████████████████████████████████████| 15770821/15770821 [34:18<00:00, 7662.34it/s]\n"
     ]
    }
   ],
   "source": [
    "s_qed_arr = all_qed(s_model_eval)"
   ]
  },
  {
   "cell_type": "code",
   "execution_count": 50,
   "id": "6c097672",
   "metadata": {},
   "outputs": [
    {
     "name": "stderr",
     "output_type": "stream",
     "text": [
      "100%|██████████████████████████████████████████████████| 17026114/17026114 [36:18<00:00, 7814.58it/s]\n"
     ]
    }
   ],
   "source": [
    "logrl_qed_arr = all_qed(logrl_eval)"
   ]
  },
  {
   "cell_type": "code",
   "execution_count": 70,
   "id": "90c4ceb6",
   "metadata": {},
   "outputs": [
    {
     "data": {
      "text/plain": [
       "(0.8650155909875451, 0.8885239068355304, 0.9173860023559189)"
      ]
     },
     "execution_count": 70,
     "metadata": {},
     "output_type": "execute_result"
    }
   ],
   "source": [
    "np.sort(qs_qed_arr)[-10000:].mean(), np.sort(s_qed_arr)[-10000:].mean(), np.sort(logrl_qed_arr)[-10000:].mean()"
   ]
  },
  {
   "cell_type": "code",
   "execution_count": 86,
   "id": "f149ac92",
   "metadata": {},
   "outputs": [
    {
     "name": "stdout",
     "output_type": "stream",
     "text": [
      "\n",
      "0.5\n",
      "(576,) 0.5254237288135594 0.7340425531914894 0.569495983681821 0.039653691518978754\n",
      "(1503,) 0.4144144144144144 0.5663716814159292 0.44059236134515445 0.024651730104610328\n",
      "(974,) 0.41964285714285715 0.6666666666666666 0.44888339963345025 0.03168510341249009\n",
      "\n",
      "0.6\n",
      "(179,) 0.5254237288135594 0.7272727272727273 0.5595009612895062 0.039877702529037655\n",
      "(744,) 0.4144144144144144 0.5321100917431193 0.44101287694361657 0.024345267864762637\n",
      "(471,) 0.41964285714285715 0.6551724137931034 0.4464715035608934 0.030071338568585893\n",
      "\n",
      "0.7\n",
      "(73,) 0.5254237288135594 0.6521739130434783 0.5477041154081478 0.028050138775198734\n",
      "(336,) 0.4144144144144144 0.5321100917431193 0.4427966389315011 0.026066662353109095\n",
      "(204,) 0.41964285714285715 0.5346534653465347 0.44324092769299445 0.024671890166210943\n",
      "\n",
      "0.8\n",
      "(13,) 0.5263157894736842 0.5789473684210527 0.5480001077748023 0.015332640987854139\n",
      "(115,) 0.41509433962264153 0.53125 0.4446950364758292 0.028093381856203668\n",
      "(61,) 0.42 0.53125 0.4455768061714321 0.02695141190056297\n",
      "\n",
      "0.9\n"
     ]
    },
    {
     "ename": "ValueError",
     "evalue": "cannot call `vectorize` on size 0 inputs unless `otypes` is set",
     "output_type": "error",
     "traceback": [
      "\u001b[0;31m---------------------------------------------------------------------------\u001b[0m",
      "\u001b[0;31mValueError\u001b[0m                                Traceback (most recent call last)",
      "\u001b[0;32m/tmp/ipykernel_3052/1403010780.py\u001b[0m in \u001b[0;36m<module>\u001b[0;34m\u001b[0m\n\u001b[1;32m      5\u001b[0m         \u001b[0mx\u001b[0m \u001b[0;34m=\u001b[0m \u001b[0meval_model\u001b[0m\u001b[0;34m.\u001b[0m\u001b[0mget_qed_arr\u001b[0m\u001b[0;34m(\u001b[0m\u001b[0meval_model\u001b[0m\u001b[0;34m.\u001b[0m\u001b[0mrelevant_keys\u001b[0m\u001b[0;34m[\u001b[0m\u001b[0;36m10000\u001b[0m\u001b[0;34m]\u001b[0m\u001b[0;34m)\u001b[0m\u001b[0;34m\u001b[0m\u001b[0;34m\u001b[0m\u001b[0m\n\u001b[1;32m      6\u001b[0m         \u001b[0my\u001b[0m \u001b[0;34m=\u001b[0m \u001b[0meval_model\u001b[0m\u001b[0;34m.\u001b[0m\u001b[0mrelevant_keys\u001b[0m\u001b[0;34m[\u001b[0m\u001b[0;36m10000\u001b[0m\u001b[0;34m]\u001b[0m\u001b[0;34m[\u001b[0m\u001b[0mx\u001b[0m\u001b[0;34m>=\u001b[0m\u001b[0mc\u001b[0m\u001b[0;34m]\u001b[0m\u001b[0;34m\u001b[0m\u001b[0;34m\u001b[0m\u001b[0m\n\u001b[0;32m----> 7\u001b[0;31m         \u001b[0mz\u001b[0m \u001b[0;34m=\u001b[0m \u001b[0mnp\u001b[0m\u001b[0;34m.\u001b[0m\u001b[0mvectorize\u001b[0m\u001b[0;34m(\u001b[0m\u001b[0meval_model\u001b[0m\u001b[0;34m.\u001b[0m\u001b[0msim_dict\u001b[0m\u001b[0;34m.\u001b[0m\u001b[0mget\u001b[0m\u001b[0;34m)\u001b[0m\u001b[0;34m(\u001b[0m\u001b[0my\u001b[0m\u001b[0;34m)\u001b[0m\u001b[0;34m\u001b[0m\u001b[0;34m\u001b[0m\u001b[0m\n\u001b[0m\u001b[1;32m      8\u001b[0m         \u001b[0mprint\u001b[0m\u001b[0;34m(\u001b[0m\u001b[0mz\u001b[0m\u001b[0;34m.\u001b[0m\u001b[0mshape\u001b[0m\u001b[0;34m,\u001b[0m \u001b[0mz\u001b[0m\u001b[0;34m.\u001b[0m\u001b[0mmin\u001b[0m\u001b[0;34m(\u001b[0m\u001b[0;34m)\u001b[0m\u001b[0;34m,\u001b[0m \u001b[0mz\u001b[0m\u001b[0;34m.\u001b[0m\u001b[0mmax\u001b[0m\u001b[0;34m(\u001b[0m\u001b[0;34m)\u001b[0m\u001b[0;34m,\u001b[0m \u001b[0mz\u001b[0m\u001b[0;34m.\u001b[0m\u001b[0mmean\u001b[0m\u001b[0;34m(\u001b[0m\u001b[0;34m)\u001b[0m\u001b[0;34m,\u001b[0m \u001b[0mz\u001b[0m\u001b[0;34m.\u001b[0m\u001b[0mstd\u001b[0m\u001b[0;34m(\u001b[0m\u001b[0;34m)\u001b[0m\u001b[0;34m)\u001b[0m\u001b[0;34m\u001b[0m\u001b[0;34m\u001b[0m\u001b[0m\n",
      "\u001b[0;32m~/miniconda3/envs/de_novo/lib/python3.7/site-packages/numpy/lib/function_base.py\u001b[0m in \u001b[0;36m__call__\u001b[0;34m(self, *args, **kwargs)\u001b[0m\n\u001b[1;32m   2161\u001b[0m             \u001b[0mvargs\u001b[0m\u001b[0;34m.\u001b[0m\u001b[0mextend\u001b[0m\u001b[0;34m(\u001b[0m\u001b[0;34m[\u001b[0m\u001b[0mkwargs\u001b[0m\u001b[0;34m[\u001b[0m\u001b[0m_n\u001b[0m\u001b[0;34m]\u001b[0m \u001b[0;32mfor\u001b[0m \u001b[0m_n\u001b[0m \u001b[0;32min\u001b[0m \u001b[0mnames\u001b[0m\u001b[0;34m]\u001b[0m\u001b[0;34m)\u001b[0m\u001b[0;34m\u001b[0m\u001b[0;34m\u001b[0m\u001b[0m\n\u001b[1;32m   2162\u001b[0m \u001b[0;34m\u001b[0m\u001b[0m\n\u001b[0;32m-> 2163\u001b[0;31m         \u001b[0;32mreturn\u001b[0m \u001b[0mself\u001b[0m\u001b[0;34m.\u001b[0m\u001b[0m_vectorize_call\u001b[0m\u001b[0;34m(\u001b[0m\u001b[0mfunc\u001b[0m\u001b[0;34m=\u001b[0m\u001b[0mfunc\u001b[0m\u001b[0;34m,\u001b[0m \u001b[0margs\u001b[0m\u001b[0;34m=\u001b[0m\u001b[0mvargs\u001b[0m\u001b[0;34m)\u001b[0m\u001b[0;34m\u001b[0m\u001b[0;34m\u001b[0m\u001b[0m\n\u001b[0m\u001b[1;32m   2164\u001b[0m \u001b[0;34m\u001b[0m\u001b[0m\n\u001b[1;32m   2165\u001b[0m     \u001b[0;32mdef\u001b[0m \u001b[0m_get_ufunc_and_otypes\u001b[0m\u001b[0;34m(\u001b[0m\u001b[0mself\u001b[0m\u001b[0;34m,\u001b[0m \u001b[0mfunc\u001b[0m\u001b[0;34m,\u001b[0m \u001b[0margs\u001b[0m\u001b[0;34m)\u001b[0m\u001b[0;34m:\u001b[0m\u001b[0;34m\u001b[0m\u001b[0;34m\u001b[0m\u001b[0m\n",
      "\u001b[0;32m~/miniconda3/envs/de_novo/lib/python3.7/site-packages/numpy/lib/function_base.py\u001b[0m in \u001b[0;36m_vectorize_call\u001b[0;34m(self, func, args)\u001b[0m\n\u001b[1;32m   2239\u001b[0m             \u001b[0mres\u001b[0m \u001b[0;34m=\u001b[0m \u001b[0mfunc\u001b[0m\u001b[0;34m(\u001b[0m\u001b[0;34m)\u001b[0m\u001b[0;34m\u001b[0m\u001b[0;34m\u001b[0m\u001b[0m\n\u001b[1;32m   2240\u001b[0m         \u001b[0;32melse\u001b[0m\u001b[0;34m:\u001b[0m\u001b[0;34m\u001b[0m\u001b[0;34m\u001b[0m\u001b[0m\n\u001b[0;32m-> 2241\u001b[0;31m             \u001b[0mufunc\u001b[0m\u001b[0;34m,\u001b[0m \u001b[0motypes\u001b[0m \u001b[0;34m=\u001b[0m \u001b[0mself\u001b[0m\u001b[0;34m.\u001b[0m\u001b[0m_get_ufunc_and_otypes\u001b[0m\u001b[0;34m(\u001b[0m\u001b[0mfunc\u001b[0m\u001b[0;34m=\u001b[0m\u001b[0mfunc\u001b[0m\u001b[0;34m,\u001b[0m \u001b[0margs\u001b[0m\u001b[0;34m=\u001b[0m\u001b[0margs\u001b[0m\u001b[0;34m)\u001b[0m\u001b[0;34m\u001b[0m\u001b[0;34m\u001b[0m\u001b[0m\n\u001b[0m\u001b[1;32m   2242\u001b[0m \u001b[0;34m\u001b[0m\u001b[0m\n\u001b[1;32m   2243\u001b[0m             \u001b[0;31m# Convert args to object arrays first\u001b[0m\u001b[0;34m\u001b[0m\u001b[0;34m\u001b[0m\u001b[0;34m\u001b[0m\u001b[0m\n",
      "\u001b[0;32m~/miniconda3/envs/de_novo/lib/python3.7/site-packages/numpy/lib/function_base.py\u001b[0m in \u001b[0;36m_get_ufunc_and_otypes\u001b[0;34m(self, func, args)\u001b[0m\n\u001b[1;32m   2195\u001b[0m             \u001b[0margs\u001b[0m \u001b[0;34m=\u001b[0m \u001b[0;34m[\u001b[0m\u001b[0masarray\u001b[0m\u001b[0;34m(\u001b[0m\u001b[0marg\u001b[0m\u001b[0;34m)\u001b[0m \u001b[0;32mfor\u001b[0m \u001b[0marg\u001b[0m \u001b[0;32min\u001b[0m \u001b[0margs\u001b[0m\u001b[0;34m]\u001b[0m\u001b[0;34m\u001b[0m\u001b[0;34m\u001b[0m\u001b[0m\n\u001b[1;32m   2196\u001b[0m             \u001b[0;32mif\u001b[0m \u001b[0mbuiltins\u001b[0m\u001b[0;34m.\u001b[0m\u001b[0many\u001b[0m\u001b[0;34m(\u001b[0m\u001b[0marg\u001b[0m\u001b[0;34m.\u001b[0m\u001b[0msize\u001b[0m \u001b[0;34m==\u001b[0m \u001b[0;36m0\u001b[0m \u001b[0;32mfor\u001b[0m \u001b[0marg\u001b[0m \u001b[0;32min\u001b[0m \u001b[0margs\u001b[0m\u001b[0;34m)\u001b[0m\u001b[0;34m:\u001b[0m\u001b[0;34m\u001b[0m\u001b[0;34m\u001b[0m\u001b[0m\n\u001b[0;32m-> 2197\u001b[0;31m                 raise ValueError('cannot call `vectorize` on size 0 inputs '\n\u001b[0m\u001b[1;32m   2198\u001b[0m                                  'unless `otypes` is set')\n\u001b[1;32m   2199\u001b[0m \u001b[0;34m\u001b[0m\u001b[0m\n",
      "\u001b[0;31mValueError\u001b[0m: cannot call `vectorize` on size 0 inputs unless `otypes` is set"
     ]
    }
   ],
   "source": [
    "for c in [0.5, 0.6, 0.7, 0.8, 0.9]:\n",
    "    print()\n",
    "    print(c)\n",
    "    for eval_model in [logrl_eval, s_model_eval, qs_model_eval]:\n",
    "        x = eval_model.get_qed_arr(eval_model.relevant_keys[10000])\n",
    "        y = eval_model.relevant_keys[10000][x>=c]\n",
    "        z = np.vectorize(eval_model.sim_dict.get)(y)\n",
    "        print(z.shape, z.min(), z.max(), z.mean(), z.std())"
   ]
  }
 ],
 "metadata": {
  "kernelspec": {
   "display_name": "Python 3 (ipykernel)",
   "language": "python",
   "name": "python3"
  },
  "language_info": {
   "codemirror_mode": {
    "name": "ipython",
    "version": 3
   },
   "file_extension": ".py",
   "mimetype": "text/x-python",
   "name": "python",
   "nbconvert_exporter": "python",
   "pygments_lexer": "ipython3",
   "version": "3.7.16"
  }
 },
 "nbformat": 4,
 "nbformat_minor": 5
}
