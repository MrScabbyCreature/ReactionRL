{
 "cells": [
  {
   "cell_type": "code",
   "execution_count": 1,
   "id": "71214824",
   "metadata": {},
   "outputs": [
    {
     "name": "stderr",
     "output_type": "stream",
     "text": [
      "2022-10-27 17:16:19.817866: I tensorflow/core/platform/cpu_feature_guard.cc:193] This TensorFlow binary is optimized with oneAPI Deep Neural Network Library (oneDNN) to use the following CPU instructions in performance-critical operations:  AVX2 FMA\n",
      "To enable them in other operations, rebuild TensorFlow with the appropriate compiler flags.\n",
      "2022-10-27 17:16:19.928999: W tensorflow/stream_executor/platform/default/dso_loader.cc:64] Could not load dynamic library 'libcudart.so.11.0'; dlerror: libcudart.so.11.0: cannot open shared object file: No such file or directory\n",
      "2022-10-27 17:16:19.929016: I tensorflow/stream_executor/cuda/cudart_stub.cc:29] Ignore above cudart dlerror if you do not have a GPU set up on your machine.\n",
      "2022-10-27 17:16:19.950651: E tensorflow/stream_executor/cuda/cuda_blas.cc:2981] Unable to register cuBLAS factory: Attempting to register factory for plugin cuBLAS when one has already been registered\n",
      "2022-10-27 17:16:20.497934: W tensorflow/stream_executor/platform/default/dso_loader.cc:64] Could not load dynamic library 'libnvinfer.so.7'; dlerror: libnvinfer.so.7: cannot open shared object file: No such file or directory\n",
      "2022-10-27 17:16:20.498003: W tensorflow/stream_executor/platform/default/dso_loader.cc:64] Could not load dynamic library 'libnvinfer_plugin.so.7'; dlerror: libnvinfer_plugin.so.7: cannot open shared object file: No such file or directory\n",
      "2022-10-27 17:16:20.498010: W tensorflow/compiler/tf2tensorrt/utils/py_utils.cc:38] TF-TRT Warning: Cannot dlopen some TensorRT libraries. If you would like to use Nvidia GPU with TensorRT, please make sure the missing libraries mentioned above are installed properly.\n"
     ]
    }
   ],
   "source": [
    "from rdkit import Chem\n",
    "import numpy as np\n",
    "import pandas as pd\n",
    "from IPython.display import display\n",
    "import tqdm\n",
    "import torch\n",
    "import deepchem as dc"
   ]
  },
  {
   "cell_type": "code",
   "execution_count": 2,
   "id": "743877bb",
   "metadata": {},
   "outputs": [],
   "source": [
    "from mol_embedding.chembl_mpnn import *"
   ]
  },
  {
   "cell_type": "code",
   "execution_count": 3,
   "id": "3a1110a7",
   "metadata": {
    "scrolled": false
   },
   "outputs": [
    {
     "data": {
      "text/plain": [
       "((128,), (64,))"
      ]
     },
     "execution_count": 3,
     "metadata": {},
     "output_type": "execute_result"
    }
   ],
   "source": [
    "mol_to_embedding(Chem.MolFromSmiles(\"CCCCCC\")).shape, atom_to_embedding(Chem.MolFromSmiles(\"CCCCCC\"), 5).shape"
   ]
  },
  {
   "cell_type": "code",
   "execution_count": 4,
   "id": "e457e517",
   "metadata": {
    "scrolled": false
   },
   "outputs": [
    {
     "data": {
      "text/plain": [
       "((128,), (64,))"
      ]
     },
     "execution_count": 4,
     "metadata": {},
     "output_type": "execute_result"
    }
   ],
   "source": [
    "mol_to_embedding(Chem.MolFromSmiles(\"C\")).shape, atom_to_embedding(Chem.MolFromSmiles(\"C\"), 0).shape"
   ]
  },
  {
   "cell_type": "markdown",
   "id": "ea163e1b",
   "metadata": {},
   "source": [
    "# Dump action embeddings for \"action_dataset-filtered.csv\""
   ]
  },
  {
   "cell_type": "code",
   "execution_count": 5,
   "id": "d9014cb3",
   "metadata": {},
   "outputs": [
    {
     "name": "stdout",
     "output_type": "stream",
     "text": [
      "(122448, 17)\n"
     ]
    }
   ],
   "source": [
    "import pandas as pd\n",
    "\n",
    "csv_path = \"datasets/my_uspto/action_dataset-filtered.csv\"\n",
    "dataset = pd.read_csv(csv_path, index_col=0)\n",
    "print(dataset.shape)"
   ]
  },
  {
   "cell_type": "code",
   "execution_count": 6,
   "id": "a1c6f74d",
   "metadata": {},
   "outputs": [
    {
     "name": "stderr",
     "output_type": "stream",
     "text": [
      "100%|██████████████████████████████████████████████████████| 122448/122448 [2:19:42<00:00, 14.61it/s]"
     ]
    },
    {
     "name": "stdout",
     "output_type": "stream",
     "text": [
      "CPU times: user 13h 34min 26s, sys: 1min 39s, total: 13h 36min 5s\n",
      "Wall time: 2h 19min 43s\n"
     ]
    },
    {
     "name": "stderr",
     "output_type": "stream",
     "text": [
      "\n"
     ]
    }
   ],
   "source": [
    "%%time\n",
    "\n",
    "import tqdm\n",
    "from ChemRL import ChemRlEnv\n",
    "\n",
    "env = ChemRlEnv()\n",
    "\n",
    "action_embeddings = []\n",
    "failures = []\n",
    "\n",
    "for i in tqdm.tqdm(range(dataset.shape[0])):\n",
    "    row = dataset.iloc[i][[\"rsub\", \"rcen\", \"rsig\", \"rsig_cs_indices\", \"psub\", \"pcen\", \"psig\", \"psig_cs_indices\"]]\n",
    "    try:\n",
    "        action_embeddings.append(env._action_embedding(row))\n",
    "    except Exception as e:\n",
    "        for sub in [\"rsub\", \"psub\"]:\n",
    "            if Chem.MolToSmiles(Chem.AddHs(Chem.MolFromSmiles(row[sub]))) == row[sub]:\n",
    "                row[sub] = row[sub] + \"[H]\"\n",
    "        action_embeddings.append(env._action_embedding(row))\n",
    "        failures.append(i)"
   ]
  },
  {
   "cell_type": "code",
   "execution_count": 8,
   "id": "05afe3e8",
   "metadata": {},
   "outputs": [],
   "source": [
    "assert len(action_embeddings) == dataset.shape[0], \"There are some missing embeddings..... :')\""
   ]
  },
  {
   "cell_type": "markdown",
   "id": "38dc294e",
   "metadata": {},
   "source": [
    "# Hash indexes"
   ]
  },
  {
   "cell_type": "code",
   "execution_count": 9,
   "id": "a90f2a98",
   "metadata": {},
   "outputs": [],
   "source": [
    "action_embedding_hash = list(map(lambda x: hash(\" \".join(map(str, x))), action_embeddings))"
   ]
  },
  {
   "cell_type": "code",
   "execution_count": 42,
   "id": "bac87c23",
   "metadata": {},
   "outputs": [],
   "source": [
    "action_embeddings = np.array(action_embeddings)\n",
    "action_embedding_hash = np.array(action_embedding_hash)\n",
    "\n",
    "# Remove hash collisions (some actions that weren't detected as different before)\n",
    "x, y = np.unique(action_embedding_hash, return_counts=True)\n",
    "\n",
    "collision_hashes = x[y!=1]\n",
    "\n",
    "idx_arr = np.isin(action_embedding_hash, collision_hashes, invert=True)\n",
    "\n",
    "for coll in collision_hashes:\n",
    "    idx_arr[np.where(action_embedding_hash==coll)[0][0]] = True\n",
    "\n",
    "assert idx_arr.sum() == action_embedding_hash.shape[0] - y[y!=1].sum() + y[y!=1].shape[0]"
   ]
  },
  {
   "cell_type": "code",
   "execution_count": 57,
   "id": "42dc04de",
   "metadata": {
    "scrolled": false
   },
   "outputs": [],
   "source": [
    "# Set embedding hash as index\n",
    "dataset.index = action_embedding_hash\n",
    "dataset = dataset.loc[idx_arr]\n",
    "\n",
    "dataset.to_csv(csv_path)"
   ]
  },
  {
   "cell_type": "code",
   "execution_count": 58,
   "id": "ad30efc1",
   "metadata": {},
   "outputs": [],
   "source": [
    "# Dump the hash->embedding dict\n",
    "import pickle\n",
    "\n",
    "hash_to_embedding_map = {action_embedding_hash[i]: action_embeddings[i] for i in range(len(action_embeddings))}\n",
    "\n",
    "pickle.dump(hash_to_embedding_map, open(\"datasets/my_uspto/action_embeddings.pickle\", 'wb'))"
   ]
  }
 ],
 "metadata": {
  "kernelspec": {
   "display_name": "Python 3 (ipykernel)",
   "language": "python",
   "name": "python3"
  },
  "language_info": {
   "codemirror_mode": {
    "name": "ipython",
    "version": 3
   },
   "file_extension": ".py",
   "mimetype": "text/x-python",
   "name": "python",
   "nbconvert_exporter": "python",
   "pygments_lexer": "ipython3",
   "version": "3.7.13"
  }
 },
 "nbformat": 4,
 "nbformat_minor": 5
}
