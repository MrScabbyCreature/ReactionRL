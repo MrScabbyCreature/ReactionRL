{
 "cells": [
  {
   "cell_type": "code",
   "execution_count": 1,
   "id": "c1cfa57a",
   "metadata": {
    "tags": []
   },
   "outputs": [
    {
     "name": "stdout",
     "output_type": "stream",
     "text": [
      "Calculating probability for start mol sampling\n"
     ]
    },
    {
     "name": "stderr",
     "output_type": "stream",
     "text": [
      "100%|█████████████████████████████████████████████████████████| 69304/69304 [01:51<00:00, 621.25it/s]\n"
     ]
    }
   ],
   "source": [
    "%run supervised_functions.ipynb"
   ]
  },
  {
   "cell_type": "markdown",
   "id": "987f78db",
   "metadata": {
    "tags": []
   },
   "source": [
    "# Generate data"
   ]
  },
  {
   "cell_type": "code",
   "execution_count": 2,
   "id": "206729d5",
   "metadata": {
    "tags": []
   },
   "outputs": [],
   "source": [
    "np.random.seed(42)\n",
    "\n",
    "N = 100000\n",
    "steps = 5"
   ]
  },
  {
   "cell_type": "code",
   "execution_count": 3,
   "id": "5e6de104",
   "metadata": {
    "tags": []
   },
   "outputs": [
    {
     "name": "stdout",
     "output_type": "stream",
     "text": [
      "Creating dataset...\n"
     ]
    },
    {
     "name": "stderr",
     "output_type": "stream",
     "text": [
      "84062it [12:34, 111.41it/s]                                                                          \n"
     ]
    },
    {
     "name": "stdout",
     "output_type": "stream",
     "text": [
      "Creating dataset...\n"
     ]
    },
    {
     "name": "stderr",
     "output_type": "stream",
     "text": [
      "23255it [03:26, 112.54it/s]                                                                          \n"
     ]
    },
    {
     "name": "stdout",
     "output_type": "stream",
     "text": [
      "(84062, 11) (23255, 11)\n",
      "(107317, 11)\n"
     ]
    }
   ],
   "source": [
    "def _generate_train_data(smile, steps):\n",
    "    mol = Chem.MolFromSmiles(smile)\n",
    "\n",
    "    df = pd.DataFrame(columns=['reactant', 'rsub', 'rcen', 'rsig', 'rsig_cs_indices', 'psub', 'pcen', 'psig', 'psig_cs_indices', 'product', 'step'])\n",
    "    index = []\n",
    "    \n",
    "    # Get sequences\n",
    "    try:\n",
    "        for i in range(np.random.randint(steps+1, 15)):\n",
    "            actions = get_applicable_actions(mol)\n",
    "            if actions.shape[0] == 0:\n",
    "                break\n",
    "\n",
    "            # Apply a random action\n",
    "            rand_idx = np.random.randint(0, actions.shape[0])\n",
    "            product = apply_action(mol, *actions.iloc[rand_idx])\n",
    "\n",
    "            # Add it to df\n",
    "            df.loc[df.shape[0], :] = [Chem.MolToSmiles(mol)] + actions.iloc[rand_idx].tolist() + [Chem.MolToSmiles(product), i]\n",
    "            index.append(actions.iloc[rand_idx].name)\n",
    "\n",
    "            # Next reactant = product\n",
    "            mol = product\n",
    "    except Exception as e:\n",
    "        return pd.DataFrame(columns=['reactant', 'rsub', 'rcen', 'rsig', 'rsig_cs_indices', 'psub', 'pcen', 'psig', 'psig_cs_indices', 'product', 'step'])\n",
    "    \n",
    "    # Fix index\n",
    "    df.index = index\n",
    "    \n",
    "    # Fix target\n",
    "    df[\"product\"] = Chem.MolToSmiles(product)\n",
    "    \n",
    "    # Fix steps\n",
    "    df[\"step\"] = df.shape[0] - df[\"step\"]\n",
    "    \n",
    "    return df[df['step'] <= steps]\n",
    "\n",
    "def generate_train_data(N, steps, multiprocess=True):\n",
    "    # Generate dataset\n",
    "    df_list = []\n",
    "    final_shape = 0\n",
    "    smiles_per_random_sample = 1000\n",
    "    pool_chunk_size = 10\n",
    "\n",
    "    # Create dataset for multi-step pred\n",
    "    print(\"Creating dataset...\")\n",
    "    if multiprocess:\n",
    "        with Pool(30) as p, tqdm.tqdm(total=N) as pbar:\n",
    "            while final_shape < N:\n",
    "                smiles = np.random.choice(start_mols, size=(smiles_per_random_sample,), p=categorical_probs_for_sampling_start_mols)\n",
    "\n",
    "                for new_df in p.imap_unordered(functools.partial(_generate_train_data, steps=steps), smiles, chunksize=10):\n",
    "                    df_list.append(new_df)\n",
    "                    final_shape += new_df.shape[0]\n",
    "\n",
    "                pbar.update(final_shape - pbar.n)\n",
    "    else:\n",
    "        raise Exception(\"Single process not implemented... :'(\")\n",
    "\n",
    "    main_df = pd.concat(df_list)\n",
    "    return main_df\n",
    "\n",
    "# generate data\n",
    "train_df = generate_train_data(int(N*0.8), steps)\n",
    "test_df = generate_train_data(int(N*0.2), steps)\n",
    "print(train_df.shape, test_df.shape)\n",
    "\n",
    "# Randomize and concat \n",
    "main_df = pd.concat([train_df.sample(frac=1), test_df.sample(frac=1)])\n",
    "print(main_df.shape)"
   ]
  },
  {
   "cell_type": "code",
   "execution_count": 4,
   "id": "46ef93db",
   "metadata": {
    "tags": []
   },
   "outputs": [],
   "source": [
    "# remove 'step' (for backward compatibility)\n",
    "main_df = main_df.drop(columns=\"step\")"
   ]
  },
  {
   "cell_type": "markdown",
   "id": "56d58b5a",
   "metadata": {},
   "source": [
    "# Neural Network!"
   ]
  },
  {
   "cell_type": "code",
   "execution_count": 5,
   "id": "3432cfc9",
   "metadata": {
    "tags": []
   },
   "outputs": [],
   "source": [
    "device = torch.device(\"cuda:3\" if torch.cuda.is_available() else \"cpu\")"
   ]
  },
  {
   "cell_type": "code",
   "execution_count": 6,
   "id": "48289f6d",
   "metadata": {
    "tags": []
   },
   "outputs": [
    {
     "name": "stdout",
     "output_type": "stream",
     "text": [
      "Epoch 1, Loss: 23357.0547\n",
      "Epoch 2, Loss: 13427.2109\n",
      "Epoch 3, Loss: 4485.0420\n",
      "Epoch 4, Loss: 1014.3859\n",
      "Epoch 5, Loss: 385.7759\n",
      "Epoch 6, Loss: 319.2338\n",
      "Epoch 7, Loss: 310.9454\n",
      "Epoch 8, Loss: 292.9850\n",
      "Epoch 9, Loss: 292.2019\n",
      "Epoch 10, Loss: 295.3425\n",
      "\n",
      "FINAL TEST LOSS: 51.00959777832031\n",
      "CPU times: user 6.99 s, sys: 910 ms, total: 7.9 s\n",
      "Wall time: 3.95 s\n"
     ]
    },
    {
     "data": {
      "text/plain": [
       "NeuralNet(\n",
       "  (fc1): Linear(in_features=20, out_features=20, bias=True)\n",
       "  (bn1): BatchNorm1d(20, eps=1e-05, momentum=0.1, affine=True, track_running_stats=True)\n",
       "  (relu): ReLU()\n",
       "  (hidden_layers): ModuleList(\n",
       "    (0): Linear(in_features=20, out_features=20, bias=True)\n",
       "    (1): BatchNorm1d(20, eps=1e-05, momentum=0.1, affine=True, track_running_stats=True)\n",
       "    (2): ReLU()\n",
       "    (3): Linear(in_features=20, out_features=20, bias=True)\n",
       "    (4): BatchNorm1d(20, eps=1e-05, momentum=0.1, affine=True, track_running_stats=True)\n",
       "    (5): ReLU()\n",
       "  )\n",
       "  (last_layer): Linear(in_features=20, out_features=1, bias=True)\n",
       ")"
      ]
     },
     "execution_count": 6,
     "metadata": {},
     "output_type": "execute_result"
    }
   ],
   "source": [
    "from sklearn.datasets import make_regression\n",
    "x, y = make_regression(n_samples=5000, n_features=20, noise=2, random_state=42)\n",
    "y = y.reshape(-1, 1)\n",
    "\n",
    "batch_size = 64\n",
    "\n",
    "%time train(x, y, num_hidden=2, hidden_size=20, lr=1e-2, epochs=10)"
   ]
  },
  {
   "cell_type": "markdown",
   "id": "e662cf55",
   "metadata": {},
   "source": [
    "# Embedding type 2 - GIN training using attribute masking on clintox"
   ]
  },
  {
   "cell_type": "code",
   "execution_count": 4,
   "id": "a32366ba",
   "metadata": {
    "tags": []
   },
   "outputs": [],
   "source": [
    "model_name = \"models/zinc2m_gin.pth\"\n",
    "gin_model = torch.load(model_name).to(device)"
   ]
  },
  {
   "cell_type": "code",
   "execution_count": 8,
   "id": "a6003605",
   "metadata": {
    "scrolled": false
   },
   "outputs": [
    {
     "name": "stderr",
     "output_type": "stream",
     "text": [
      "  0%|                                                                         | 0/84 [00:00<?, ?it/s]/home/abhor/miniconda3/envs/de_novo/lib/python3.7/site-packages/torchdrug-0.2.0-py3.7.egg/torchdrug/data/feature.py:42: UserWarning: Unknown value `Li`\n",
      "  warnings.warn(\"Unknown value `%s`\" % x)\n",
      "/home/abhor/miniconda3/envs/de_novo/lib/python3.7/site-packages/torchdrug-0.2.0-py3.7.egg/torchdrug/data/feature.py:42: UserWarning: Unknown value `Li`\n",
      "  warnings.warn(\"Unknown value `%s`\" % x)\n",
      "  1%|▊                                                                | 1/84 [00:07<10:21,  7.49s/it]/home/abhor/miniconda3/envs/de_novo/lib/python3.7/site-packages/torchdrug-0.2.0-py3.7.egg/torchdrug/data/feature.py:42: UserWarning: Unknown value `Al`\n",
      "  warnings.warn(\"Unknown value `%s`\" % x)\n",
      " 18%|███████████▍                                                    | 15/84 [01:31<06:49,  5.94s/it]/home/abhor/miniconda3/envs/de_novo/lib/python3.7/site-packages/torchdrug-0.2.0-py3.7.egg/torchdrug/data/feature.py:42: UserWarning: Unknown value `As`\n",
      "  warnings.warn(\"Unknown value `%s`\" % x)\n",
      " 25%|████████████████                                                | 21/84 [02:02<05:35,  5.32s/it]/home/abhor/miniconda3/envs/de_novo/lib/python3.7/site-packages/torchdrug-0.2.0-py3.7.egg/torchdrug/data/feature.py:42: UserWarning: Unknown value `Pb`\n",
      "  warnings.warn(\"Unknown value `%s`\" % x)\n",
      "100%|████████████████████████████████████████████████████████████████| 84/84 [08:58<00:00,  6.41s/it]\n"
     ]
    },
    {
     "data": {
      "text/plain": [
       "torch.Size([86016, 256])"
      ]
     },
     "execution_count": 8,
     "metadata": {},
     "output_type": "execute_result"
    }
   ],
   "source": [
    "batch_size = 1024\n",
    "X = []\n",
    "for i in tqdm.tqdm(range(0, int(main_df.shape[0]*0.8), batch_size)):\n",
    "    reactants = main_df[\"reactant\"][i:i+batch_size]\n",
    "    products = main_df[\"product\"][i:i+batch_size]\n",
    "    X.append(torch.concatenate([get_mol_embedding(gin_model, reactants), get_mol_embedding(gin_model, products)], axis=1))\n",
    "X = torch.concatenate(X, axis=0)\n",
    "emb_len = X.shape[1]//2\n",
    "X.shape"
   ]
  },
  {
   "cell_type": "code",
   "execution_count": 9,
   "id": "14ab411d",
   "metadata": {},
   "outputs": [
    {
     "name": "stderr",
     "output_type": "stream",
     "text": [
      "100%|████████████████████████████████████████████████████████████████| 84/84 [03:02<00:00,  2.18s/it]\n"
     ]
    },
    {
     "data": {
      "text/plain": [
       "torch.Size([86016, 256])"
      ]
     },
     "execution_count": 9,
     "metadata": {},
     "output_type": "execute_result"
    }
   ],
   "source": [
    "Y = []\n",
    "for i in tqdm.tqdm(range(0, int(main_df.shape[0]*0.8), batch_size)):\n",
    "    Y.append(get_action_embedding(gin_model, main_df.iloc[i:i+batch_size][main_df.columns[1:-1]]))\n",
    "Y = torch.concatenate(Y)\n",
    "Y.shape"
   ]
  },
  {
   "cell_type": "markdown",
   "id": "32d1c369",
   "metadata": {},
   "source": [
    "### MSE training"
   ]
  },
  {
   "cell_type": "code",
   "execution_count": 10,
   "id": "04ffae30",
   "metadata": {
    "scrolled": true
   },
   "outputs": [
    {
     "name": "stdout",
     "output_type": "stream",
     "text": [
      "Epoch 1, Loss: 0.1080\n",
      "Epoch 2, Loss: 0.1004\n",
      "Epoch 3, Loss: 0.0939\n",
      "Epoch 4, Loss: 0.0887\n",
      "Epoch 5, Loss: 0.0842\n",
      "Epoch 6, Loss: 0.0806\n",
      "Epoch 7, Loss: 0.0771\n",
      "Epoch 8, Loss: 0.0735\n",
      "Epoch 9, Loss: 0.0714\n",
      "Epoch 10, Loss: 0.0696\n",
      "Epoch 11, Loss: 0.0673\n",
      "Epoch 12, Loss: 0.0656\n",
      "Epoch 13, Loss: 0.0638\n",
      "Epoch 14, Loss: 0.0625\n",
      "Epoch 15, Loss: 0.0615\n",
      "Epoch 16, Loss: 0.0604\n",
      "Epoch 17, Loss: 0.0594\n",
      "Epoch 18, Loss: 0.0572\n",
      "Epoch 19, Loss: 0.0571\n",
      "Epoch 20, Loss: 0.0557\n",
      "Epoch 21, Loss: 0.0541\n",
      "Epoch 22, Loss: 0.0534\n",
      "Epoch 23, Loss: 0.0510\n",
      "Epoch 24, Loss: 0.0499\n",
      "Epoch 25, Loss: 0.0480\n",
      "Epoch 26, Loss: 0.0471\n",
      "Epoch 27, Loss: 0.0483\n",
      "Epoch 28, Loss: 0.0477\n",
      "Epoch 29, Loss: 0.0459\n",
      "Epoch 30, Loss: 0.0455\n",
      "Epoch 31, Loss: 0.0441\n",
      "Epoch 32, Loss: 0.0430\n",
      "Epoch 33, Loss: 0.0424\n",
      "Epoch 34, Loss: 0.0419\n",
      "Epoch 35, Loss: 0.0412\n",
      "Epoch 36, Loss: 0.0406\n",
      "Epoch 37, Loss: 0.0393\n",
      "Epoch 38, Loss: 0.0385\n",
      "Epoch 39, Loss: 0.0376\n",
      "Epoch 40, Loss: 0.0370\n",
      "Epoch 41, Loss: 0.0363\n",
      "Epoch 42, Loss: 0.0371\n",
      "Epoch 43, Loss: 0.0360\n",
      "Epoch 44, Loss: 0.0356\n",
      "Epoch 45, Loss: 0.0355\n",
      "Epoch 46, Loss: 0.0348\n",
      "Epoch 47, Loss: 0.0349\n",
      "Epoch 48, Loss: 0.0338\n",
      "Epoch 49, Loss: 0.0334\n",
      "Epoch 50, Loss: 0.0322\n",
      "\n",
      "FINAL TEST LOSS: 0.09758608788251877\n"
     ]
    }
   ],
   "source": [
    "model = train(X, Y, hidden_size=500, num_hidden=3, lr=1e-3, epochs=50)"
   ]
  },
  {
   "cell_type": "code",
   "execution_count": 11,
   "id": "57264831",
   "metadata": {},
   "outputs": [],
   "source": [
    "torch.save(model, f\"models/supervised/mse_model/{steps}step.pth\")"
   ]
  },
  {
   "cell_type": "code",
   "execution_count": 12,
   "id": "ddae391d",
   "metadata": {},
   "outputs": [
    {
     "name": "stdout",
     "output_type": "stream",
     "text": [
      "(89384, 8)\n"
     ]
    },
    {
     "name": "stderr",
     "output_type": "stream",
     "text": [
      "/home/abhor/miniconda3/envs/de_novo/lib/python3.7/site-packages/torchdrug-0.2.0-py3.7.egg/torchdrug/data/feature.py:42: UserWarning: Unknown value `Ge`\n",
      "  warnings.warn(\"Unknown value `%s`\" % x)\n",
      "/home/abhor/miniconda3/envs/de_novo/lib/python3.7/site-packages/torchdrug-0.2.0-py3.7.egg/torchdrug/data/feature.py:42: UserWarning: Unknown value `K`\n",
      "  warnings.warn(\"Unknown value `%s`\" % x)\n",
      "/home/abhor/miniconda3/envs/de_novo/lib/python3.7/site-packages/torchdrug-0.2.0-py3.7.egg/torchdrug/data/feature.py:42: UserWarning: Unknown value `Na`\n",
      "  warnings.warn(\"Unknown value `%s`\" % x)\n",
      "/home/abhor/miniconda3/envs/de_novo/lib/python3.7/site-packages/torchdrug-0.2.0-py3.7.egg/torchdrug/data/feature.py:42: UserWarning: Unknown value `Ti`\n",
      "  warnings.warn(\"Unknown value `%s`\" % x)\n",
      "/home/abhor/miniconda3/envs/de_novo/lib/python3.7/site-packages/torchdrug-0.2.0-py3.7.egg/torchdrug/data/feature.py:42: UserWarning: Unknown value `Ga`\n",
      "  warnings.warn(\"Unknown value `%s`\" % x)\n",
      "/home/abhor/miniconda3/envs/de_novo/lib/python3.7/site-packages/torchdrug-0.2.0-py3.7.egg/torchdrug/data/feature.py:42: UserWarning: Unknown value `Ru`\n",
      "  warnings.warn(\"Unknown value `%s`\" % x)\n",
      "/home/abhor/miniconda3/envs/de_novo/lib/python3.7/site-packages/torchdrug-0.2.0-py3.7.egg/torchdrug/data/feature.py:42: UserWarning: Unknown value `Ta`\n",
      "  warnings.warn(\"Unknown value `%s`\" % x)\n",
      "/home/abhor/miniconda3/envs/de_novo/lib/python3.7/site-packages/torchdrug-0.2.0-py3.7.egg/torchdrug/data/feature.py:42: UserWarning: Unknown value `Cr`\n",
      "  warnings.warn(\"Unknown value `%s`\" % x)\n",
      "/home/abhor/miniconda3/envs/de_novo/lib/python3.7/site-packages/torchdrug-0.2.0-py3.7.egg/torchdrug/data/feature.py:42: UserWarning: Unknown value `Cd`\n",
      "  warnings.warn(\"Unknown value `%s`\" % x)\n",
      "/home/abhor/miniconda3/envs/de_novo/lib/python3.7/site-packages/torchdrug-0.2.0-py3.7.egg/torchdrug/data/feature.py:42: UserWarning: Unknown value `Pt`\n",
      "  warnings.warn(\"Unknown value `%s`\" % x)\n",
      "100%|████████████████████████████████████████████████████████████████| 44/44 [00:05<00:00,  8.16it/s]"
     ]
    },
    {
     "name": "stdout",
     "output_type": "stream",
     "text": [
      "torch.Size([89384, 256])\n"
     ]
    },
    {
     "name": "stderr",
     "output_type": "stream",
     "text": [
      "\n"
     ]
    }
   ],
   "source": [
    "action_dataset = pd.read_csv(\"datasets/my_uspto/action_dataset-filtered.csv\", index_col=0)\n",
    "action_dataset = action_dataset.loc[action_dataset[\"action_tested\"] & action_dataset[\"action_works\"]]\n",
    "action_dataset = action_dataset[[\"rsub\", \"rcen\", \"rsig\", \"rbond\", \"psub\", \"pcen\", \"psig\", \"pbond\"]]\n",
    "print(action_dataset.shape)\n",
    "\n",
    "action_rsigs = data.Molecule.pack(list(map(molecule_from_smile, action_dataset[\"rsig\"])))\n",
    "action_psigs = data.Molecule.pack(list(map(molecule_from_smile, action_dataset[\"psig\"])))\n",
    "\n",
    "action_embeddings = get_action_dataset_embeddings(gin_model)\n",
    "print(action_embeddings.shape)"
   ]
  },
  {
   "cell_type": "markdown",
   "id": "bf33fb20",
   "metadata": {},
   "source": [
    "### Back to modeling"
   ]
  },
  {
   "cell_type": "code",
   "execution_count": 13,
   "id": "92e20cac",
   "metadata": {
    "scrolled": true
   },
   "outputs": [
    {
     "name": "stderr",
     "output_type": "stream",
     "text": [
      "100%|███████████████████████████████████████████████████████| 107317/107317 [10:20<00:00, 172.92it/s]\n"
     ]
    }
   ],
   "source": [
    "# I'm storing as lists, so doing numpy operations for the elements\n",
    "correct_applicable_indices = []\n",
    "correct_action_dataset_indices = []\n",
    "action_embedding_indices = []\n",
    "\n",
    "# for indices_used_for_data, correct_idx in tqdm.tqdm(map(get_emb_indices_and_correct_idx, main_df.iterrows()), total=main_df.shape[0]):\n",
    "with Pool(20) as p:\n",
    "    for indices_used_for_data, correct_app_idx, correct_act_idx in tqdm.tqdm(p.imap(get_emb_indices_and_correct_idx, main_df.iterrows(), chunksize=50), total=main_df.shape[0]):\n",
    "        action_embedding_indices.append(indices_used_for_data)\n",
    "        correct_applicable_indices.append(correct_app_idx)\n",
    "        correct_action_dataset_indices.append(correct_act_idx)"
   ]
  },
  {
   "cell_type": "code",
   "execution_count": 14,
   "id": "a56268a9",
   "metadata": {},
   "outputs": [
    {
     "name": "stderr",
     "output_type": "stream",
     "text": [
      "100%|████████████████████████████████████████████████████████████| 163/163 [00:00<00:00, 3071.52it/s]"
     ]
    },
    {
     "name": "stdout",
     "output_type": "stream",
     "text": [
      "106.1042944785276(236.09815950920245) +- 283.1148093223508  \n"
     ]
    },
    {
     "name": "stderr",
     "output_type": "stream",
     "text": [
      "\n"
     ]
    }
   ],
   "source": [
    "pred = model(torch.Tensor(X[int(main_df.shape[0]*0.8):]).to(device)).detach()\n",
    "l = []\n",
    "total = []\n",
    "for i in tqdm.tqdm(range(pred.shape[0])):\n",
    "    pred_for_i = pred[i]\n",
    "    act_emb_for_i, correct_applicable_index = action_embeddings[action_embedding_indices[int(main_df.shape[0]*0.8)+i]], correct_applicable_indices[int(main_df.shape[0]*0.8)+i]\n",
    "\n",
    "    rank, list_of_indices = get_ranking(pred_for_i, act_emb_for_i, correct_applicable_index, distance=\"euclidean\")\n",
    "    l.append(rank.item())\n",
    "    total.append(act_emb_for_i.shape[0])\n",
    "print(f\"{np.mean(l)}({np.mean(total)}) +- {np.std(l)}  \")\n"
   ]
  },
  {
   "cell_type": "code",
   "execution_count": 15,
   "id": "ae378842",
   "metadata": {},
   "outputs": [],
   "source": [
    "train_idx = np.arange(0, int(X.shape[0]*0.8))\n",
    "test_idx = np.arange(int(X.shape[0]*0.8), X.shape[0])"
   ]
  },
  {
   "cell_type": "code",
   "execution_count": 16,
   "id": "c09cc699",
   "metadata": {},
   "outputs": [
    {
     "name": "stdout",
     "output_type": "stream",
     "text": [
      "CPU times: user 9min 30s, sys: 13 s, total: 9min 43s\n",
      "Wall time: 9min 20s\n"
     ]
    }
   ],
   "source": [
    "%%time\n",
    "%matplotlib inline\n",
    "train_reactants = data.Molecule.pack(list(map(molecule_from_smile, main_df.iloc[train_idx][\"reactant\"]))).to(device)\n",
    "train_products = data.Molecule.pack(list(map(molecule_from_smile, main_df.iloc[train_idx][\"product\"]))).to(device)\n",
    "\n",
    "test_reactants = data.Molecule.pack(list(map(molecule_from_smile, main_df.iloc[test_idx][\"reactant\"]))).to(device)\n",
    "test_products = data.Molecule.pack(list(map(molecule_from_smile, main_df.iloc[test_idx][\"product\"]))).to(device)"
   ]
  },
  {
   "cell_type": "code",
   "execution_count": 17,
   "id": "9464d105",
   "metadata": {
    "scrolled": true
   },
   "outputs": [
    {
     "name": "stdout",
     "output_type": "stream",
     "text": [
      "@@@@@@@@@@@@@@@@@@@@@@@@@@@@@@@@@@@@@@@@@@@@@@@@@@@@@@@@@@@@@@@@@@@@@@@@@@@@@@@@@@@@@@@@@@@@@@@@@@@@@@@@@@@@@@@@@@@@@@@@@@@@@@@@@@@@@@@@@@@@@@@@@@@@@@@@@@@@@@@@@@@@@@@@@@@@@@@@@@@@@@@@@@@@@@\n",
      "@@@@@@@@@@@@@@@@@@@@@@@@@@@@@@@@@@@@@@@@@@@@@@@@@@@@@@@@@@@@@@@@@@@@@@@@@@@@@@@@@@@@@@@@@@@@@@@@@@@@@@@@@@@@@@@@@@@@@@@@@@@@@@@@@@@@@@@@@@@@@@@@@@@@@@@@@@@@@@@@@@@@@@@@@@@@@@@@@@@@@@@@@@@@@@\n",
      "@@@@@@@@@@@@@@@@@@@@@@@@@@@@@@@@@@@@@@@@@@@@@@@@@@@@@@@@@@@@@@@@@@@@@@@@@@@@@@@@@@@@@@@@@@@@@@@@@@@@@@@@@@@@@@@@@@@@@@@@@@@@@@@@@@@@@@@@@@@@@@@@@@@@@@@@@@@@@@@@@@@@@@@@@@@@@@@@@@@@@@@@@@@@@@\n"
     ]
    },
    {
     "name": "stderr",
     "output_type": "stream",
     "text": [
      "100%|████████████████████████████████████████████████████████████████| 44/44 [00:05<00:00,  8.22it/s]\n",
      "/home/abhor/miniconda3/envs/de_novo/lib/python3.7/site-packages/ipykernel_launcher.py:14: UserWarning: This overload of addmm_ is deprecated:\n",
      "\taddmm_(Number beta, Number alpha, Tensor mat1, Tensor mat2)\n",
      "Consider using one of the following signatures instead:\n",
      "\taddmm_(Tensor mat1, Tensor mat2, *, Number beta, Number alpha) (Triggered internally at /opt/conda/conda-bld/pytorch_1670525541035/work/torch/csrc/utils/python_arg_parser.cpp:1420.)\n",
      "  \n"
     ]
    },
    {
     "name": "stdout",
     "output_type": "stream",
     "text": [
      "1.315710(1)  \n",
      "#################################################################################\n",
      "# emb_model_update = 1 | -ve_method = all | dist_metric = euclidean | topk = 10 #\n",
      "#################################################################################\n",
      "╒════╤═════════╤═══════════╤═════════════════╤════════════════╤════════════════╤═════════════════╤════════════════╤════════════════╤═════════════════════════╕\n",
      "│    │    rmse │   cos_sim │   euc_rank_mean │   euc_rank_std │   euc_rank_tot │   cos_rank_mean │   cos_rank_std │   cos_rank_tot │ time(epoch_start-now)   │\n",
      "╞════╪═════════╪═══════════╪═════════════════╪════════════════╪════════════════╪═════════════════╪════════════════╪════════════════╪═════════════════════════╡\n",
      "│  1 │ 5.56936 │  0.710023 │         82.6085 │        250.332 │        278.368 │         76.0402 │        237.592 │        278.368 │ 6.08 min                │\n",
      "╘════╧═════════╧═══════════╧═════════════════╧════════════════╧════════════════╧═════════════════╧════════════════╧════════════════╧═════════════════════════╛\n",
      "\n"
     ]
    },
    {
     "name": "stderr",
     "output_type": "stream",
     "text": [
      "100%|████████████████████████████████████████████████████████████████| 44/44 [00:05<00:00,  8.66it/s]\n"
     ]
    },
    {
     "name": "stdout",
     "output_type": "stream",
     "text": [
      "BEST MODEL UPDATED! BEST RANK = 82.60850046641791\n",
      "4.698608(2)  \n",
      "#################################################################################\n",
      "# emb_model_update = 1 | -ve_method = all | dist_metric = euclidean | topk = 10 #\n",
      "#################################################################################\n",
      "╒════╤═════════╤═══════════╤═════════════════╤════════════════╤════════════════╤═════════════════╤════════════════╤════════════════╤═════════════════════════╕\n",
      "│    │    rmse │   cos_sim │   euc_rank_mean │   euc_rank_std │   euc_rank_tot │   cos_rank_mean │   cos_rank_std │   cos_rank_tot │ time(epoch_start-now)   │\n",
      "╞════╪═════════╪═══════════╪═════════════════╪════════════════╪════════════════╪═════════════════╪════════════════╪════════════════╪═════════════════════════╡\n",
      "│  2 │ 5.87075 │  0.724231 │         94.3714 │        267.076 │        278.368 │         87.4995 │        260.081 │        278.368 │ 6.20 min                │\n",
      "╘════╧═════════╧═══════════╧═════════════════╧════════════════╧════════════════╧═════════════════╧════════════════╧════════════════╧═════════════════════════╛\n",
      "\n"
     ]
    },
    {
     "name": "stderr",
     "output_type": "stream",
     "text": [
      "100%|████████████████████████████████████████████████████████████████| 44/44 [00:05<00:00,  8.55it/s]\n"
     ]
    },
    {
     "name": "stdout",
     "output_type": "stream",
     "text": [
      "5.027762(3)  \n",
      "#################################################################################\n",
      "# emb_model_update = 1 | -ve_method = all | dist_metric = euclidean | topk = 10 #\n",
      "#################################################################################\n",
      "╒════╤═════════╤═══════════╤═════════════════╤════════════════╤════════════════╤═════════════════╤════════════════╤════════════════╤═════════════════════════╕\n",
      "│    │    rmse │   cos_sim │   euc_rank_mean │   euc_rank_std │   euc_rank_tot │   cos_rank_mean │   cos_rank_std │   cos_rank_tot │ time(epoch_start-now)   │\n",
      "╞════╪═════════╪═══════════╪═════════════════╪════════════════╪════════════════╪═════════════════╪════════════════╪════════════════╪═════════════════════════╡\n",
      "│  3 │ 5.63709 │  0.739785 │         97.9155 │        271.791 │        278.368 │          89.649 │        262.948 │        278.368 │ 6.13 min                │\n",
      "╘════╧═════════╧═══════════╧═════════════════╧════════════════╧════════════════╧═════════════════╧════════════════╧════════════════╧═════════════════════════╛\n",
      "\n"
     ]
    },
    {
     "name": "stderr",
     "output_type": "stream",
     "text": [
      "100%|████████████████████████████████████████████████████████████████| 44/44 [00:04<00:00,  9.67it/s]\n"
     ]
    },
    {
     "name": "stdout",
     "output_type": "stream",
     "text": [
      "9.212481(4)  \n",
      "#################################################################################\n",
      "# emb_model_update = 1 | -ve_method = all | dist_metric = euclidean | topk = 10 #\n",
      "#################################################################################\n",
      "╒════╤═════════╤═══════════╤═════════════════╤════════════════╤════════════════╤═════════════════╤════════════════╤════════════════╤═════════════════════════╕\n",
      "│    │    rmse │   cos_sim │   euc_rank_mean │   euc_rank_std │   euc_rank_tot │   cos_rank_mean │   cos_rank_std │   cos_rank_tot │ time(epoch_start-now)   │\n",
      "╞════╪═════════╪═══════════╪═════════════════╪════════════════╪════════════════╪═════════════════╪════════════════╪════════════════╪═════════════════════════╡\n",
      "│  4 │ 5.49825 │  0.744706 │         101.988 │        277.077 │        278.368 │         93.6221 │        268.266 │        278.368 │ 6.05 min                │\n",
      "╘════╧═════════╧═══════════╧═════════════════╧════════════════╧════════════════╧═════════════════╧════════════════╧════════════════╧═════════════════════════╛\n",
      "\n"
     ]
    },
    {
     "name": "stderr",
     "output_type": "stream",
     "text": [
      "100%|████████████████████████████████████████████████████████████████| 44/44 [00:04<00:00,  9.29it/s]\n"
     ]
    },
    {
     "name": "stdout",
     "output_type": "stream",
     "text": [
      "9.532845(5)  \n",
      "#################################################################################\n",
      "# emb_model_update = 1 | -ve_method = all | dist_metric = euclidean | topk = 10 #\n",
      "#################################################################################\n",
      "╒════╤═════════╤═══════════╤═════════════════╤════════════════╤════════════════╤═════════════════╤════════════════╤════════════════╤═════════════════════════╕\n",
      "│    │    rmse │   cos_sim │   euc_rank_mean │   euc_rank_std │   euc_rank_tot │   cos_rank_mean │   cos_rank_std │   cos_rank_tot │ time(epoch_start-now)   │\n",
      "╞════╪═════════╪═══════════╪═════════════════╪════════════════╪════════════════╪═════════════════╪════════════════╪════════════════╪═════════════════════════╡\n",
      "│  5 │ 5.50385 │  0.732984 │         101.485 │        274.405 │        278.368 │         90.8353 │        261.159 │        278.368 │ 6.01 min                │\n",
      "╘════╧═════════╧═══════════╧═════════════════╧════════════════╧════════════════╧═════════════════╧════════════════╧════════════════╧═════════════════════════╛\n",
      "\n"
     ]
    },
    {
     "name": "stderr",
     "output_type": "stream",
     "text": [
      "100%|████████████████████████████████████████████████████████████████| 44/44 [00:04<00:00,  9.43it/s]\n"
     ]
    },
    {
     "name": "stdout",
     "output_type": "stream",
     "text": [
      "10.023885(6)  \n",
      "#################################################################################\n",
      "# emb_model_update = 1 | -ve_method = all | dist_metric = euclidean | topk = 10 #\n",
      "#################################################################################\n",
      "╒════╤═════════╤═══════════╤═════════════════╤════════════════╤════════════════╤═════════════════╤════════════════╤════════════════╤═════════════════════════╕\n",
      "│    │    rmse │   cos_sim │   euc_rank_mean │   euc_rank_std │   euc_rank_tot │   cos_rank_mean │   cos_rank_std │   cos_rank_tot │ time(epoch_start-now)   │\n",
      "╞════╪═════════╪═══════════╪═════════════════╪════════════════╪════════════════╪═════════════════╪════════════════╪════════════════╪═════════════════════════╡\n",
      "│  6 │ 5.42419 │  0.730066 │         101.872 │        273.904 │        278.368 │         90.2743 │        258.644 │        278.368 │ 5.99 min                │\n",
      "╘════╧═════════╧═══════════╧═════════════════╧════════════════╧════════════════╧═════════════════╧════════════════╧════════════════╧═════════════════════════╛\n",
      "\n"
     ]
    },
    {
     "name": "stderr",
     "output_type": "stream",
     "text": [
      "100%|████████████████████████████████████████████████████████████████| 44/44 [00:04<00:00,  9.14it/s]\n"
     ]
    },
    {
     "name": "stdout",
     "output_type": "stream",
     "text": [
      "10.174150(7)  \n",
      "#################################################################################\n",
      "# emb_model_update = 1 | -ve_method = all | dist_metric = euclidean | topk = 10 #\n",
      "#################################################################################\n",
      "╒════╤═════════╤═══════════╤═════════════════╤════════════════╤════════════════╤═════════════════╤════════════════╤════════════════╤═════════════════════════╕\n",
      "│    │    rmse │   cos_sim │   euc_rank_mean │   euc_rank_std │   euc_rank_tot │   cos_rank_mean │   cos_rank_std │   cos_rank_tot │ time(epoch_start-now)   │\n",
      "╞════╪═════════╪═══════════╪═════════════════╪════════════════╪════════════════╪═════════════════╪════════════════╪════════════════╪═════════════════════════╡\n",
      "│  7 │ 5.21338 │  0.745753 │          102.74 │        277.157 │        278.368 │         92.3687 │        264.848 │        278.368 │ 6.03 min                │\n",
      "╘════╧═════════╧═══════════╧═════════════════╧════════════════╧════════════════╧═════════════════╧════════════════╧════════════════╧═════════════════════════╛\n",
      "\n"
     ]
    },
    {
     "name": "stderr",
     "output_type": "stream",
     "text": [
      "100%|████████████████████████████████████████████████████████████████| 44/44 [00:04<00:00,  9.61it/s]\n"
     ]
    },
    {
     "name": "stdout",
     "output_type": "stream",
     "text": [
      "8.958577(8)  \n",
      "#################################################################################\n",
      "# emb_model_update = 1 | -ve_method = all | dist_metric = euclidean | topk = 10 #\n",
      "#################################################################################\n",
      "╒════╤═════════╤═══════════╤═════════════════╤════════════════╤════════════════╤═════════════════╤════════════════╤════════════════╤═════════════════════════╕\n",
      "│    │    rmse │   cos_sim │   euc_rank_mean │   euc_rank_std │   euc_rank_tot │   cos_rank_mean │   cos_rank_std │   cos_rank_tot │ time(epoch_start-now)   │\n",
      "╞════╪═════════╪═══════════╪═════════════════╪════════════════╪════════════════╪═════════════════╪════════════════╪════════════════╪═════════════════════════╡\n",
      "│  8 │ 5.16103 │  0.745586 │         102.738 │        277.086 │        278.368 │         92.2254 │        263.329 │        278.368 │ 5.92 min                │\n",
      "╘════╧═════════╧═══════════╧═════════════════╧════════════════╧════════════════╧═════════════════╧════════════════╧════════════════╧═════════════════════════╛\n",
      "\n"
     ]
    },
    {
     "name": "stderr",
     "output_type": "stream",
     "text": [
      "100%|████████████████████████████████████████████████████████████████| 44/44 [00:05<00:00,  7.83it/s]\n"
     ]
    },
    {
     "name": "stdout",
     "output_type": "stream",
     "text": [
      "8.728389(9)  \n",
      "#################################################################################\n",
      "# emb_model_update = 1 | -ve_method = all | dist_metric = euclidean | topk = 10 #\n",
      "#################################################################################\n",
      "╒════╤═════════╤═══════════╤═════════════════╤════════════════╤════════════════╤═════════════════╤════════════════╤════════════════╤═════════════════════════╕\n",
      "│    │    rmse │   cos_sim │   euc_rank_mean │   euc_rank_std │   euc_rank_tot │   cos_rank_mean │   cos_rank_std │   cos_rank_tot │ time(epoch_start-now)   │\n",
      "╞════╪═════════╪═══════════╪═════════════════╪════════════════╪════════════════╪═════════════════╪════════════════╪════════════════╪═════════════════════════╡\n",
      "│  9 │ 5.16254 │   0.74079 │         103.025 │        278.624 │        278.368 │         92.5847 │        264.279 │        278.368 │ 6.00 min                │\n",
      "╘════╧═════════╧═══════════╧═════════════════╧════════════════╧════════════════╧═════════════════╧════════════════╧════════════════╧═════════════════════════╛\n",
      "\n"
     ]
    },
    {
     "name": "stderr",
     "output_type": "stream",
     "text": [
      "100%|████████████████████████████████████████████████████████████████| 44/44 [00:05<00:00,  7.49it/s]\n"
     ]
    },
    {
     "name": "stdout",
     "output_type": "stream",
     "text": [
      "7.868445(10)  \n",
      "#################################################################################\n",
      "# emb_model_update = 1 | -ve_method = all | dist_metric = euclidean | topk = 10 #\n",
      "#################################################################################\n",
      "╒════╤═════════╤═══════════╤═════════════════╤════════════════╤════════════════╤═════════════════╤════════════════╤════════════════╤═════════════════════════╕\n",
      "│    │    rmse │   cos_sim │   euc_rank_mean │   euc_rank_std │   euc_rank_tot │   cos_rank_mean │   cos_rank_std │   cos_rank_tot │ time(epoch_start-now)   │\n",
      "╞════╪═════════╪═══════════╪═════════════════╪════════════════╪════════════════╪═════════════════╪════════════════╪════════════════╪═════════════════════════╡\n",
      "│ 10 │ 5.14347 │  0.736501 │          103.09 │        277.631 │        278.368 │         92.4152 │        263.074 │        278.368 │ 6.03 min                │\n",
      "╘════╧═════════╧═══════════╧═════════════════╧════════════════╧════════════════╧═════════════════╧════════════════╧════════════════╧═════════════════════════╛\n",
      "\n"
     ]
    },
    {
     "name": "stderr",
     "output_type": "stream",
     "text": [
      "100%|████████████████████████████████████████████████████████████████| 44/44 [00:05<00:00,  8.67it/s]\n"
     ]
    },
    {
     "name": "stdout",
     "output_type": "stream",
     "text": [
      "7.051257(11)  \n",
      "#################################################################################\n",
      "# emb_model_update = 1 | -ve_method = all | dist_metric = euclidean | topk = 10 #\n",
      "#################################################################################\n",
      "╒════╤═════════╤═══════════╤═════════════════╤════════════════╤════════════════╤═════════════════╤════════════════╤════════════════╤═════════════════════════╕\n",
      "│    │    rmse │   cos_sim │   euc_rank_mean │   euc_rank_std │   euc_rank_tot │   cos_rank_mean │   cos_rank_std │   cos_rank_tot │ time(epoch_start-now)   │\n",
      "╞════╪═════════╪═══════════╪═════════════════╪════════════════╪════════════════╪═════════════════╪════════════════╪════════════════╪═════════════════════════╡\n",
      "│ 11 │ 5.02442 │  0.745266 │         103.674 │        278.431 │        278.368 │         93.6163 │        264.687 │        278.368 │ 6.01 min                │\n",
      "╘════╧═════════╧═══════════╧═════════════════╧════════════════╧════════════════╧═════════════════╧════════════════╧════════════════╧═════════════════════════╛\n",
      "\n"
     ]
    },
    {
     "name": "stderr",
     "output_type": "stream",
     "text": [
      "100%|████████████████████████████████████████████████████████████████| 44/44 [00:05<00:00,  8.09it/s]\n"
     ]
    },
    {
     "name": "stdout",
     "output_type": "stream",
     "text": [
      "8.892648(12)  \n",
      "#################################################################################\n",
      "# emb_model_update = 1 | -ve_method = all | dist_metric = euclidean | topk = 10 #\n",
      "#################################################################################\n",
      "╒════╤═════════╤═══════════╤═════════════════╤════════════════╤════════════════╤═════════════════╤════════════════╤════════════════╤═════════════════════════╕\n",
      "│    │    rmse │   cos_sim │   euc_rank_mean │   euc_rank_std │   euc_rank_tot │   cos_rank_mean │   cos_rank_std │   cos_rank_tot │ time(epoch_start-now)   │\n",
      "╞════╪═════════╪═══════════╪═════════════════╪════════════════╪════════════════╪═════════════════╪════════════════╪════════════════╪═════════════════════════╡\n",
      "│ 12 │ 5.08782 │  0.739862 │         105.548 │        279.785 │        278.368 │         94.3068 │        263.896 │        278.368 │ 6.13 min                │\n",
      "╘════╧═════════╧═══════════╧═════════════════╧════════════════╧════════════════╧═════════════════╧════════════════╧════════════════╧═════════════════════════╛\n",
      "\n"
     ]
    },
    {
     "name": "stderr",
     "output_type": "stream",
     "text": [
      "100%|████████████████████████████████████████████████████████████████| 44/44 [00:05<00:00,  8.53it/s]\n"
     ]
    },
    {
     "name": "stdout",
     "output_type": "stream",
     "text": [
      "6.929508(13)  \n",
      "#################################################################################\n",
      "# emb_model_update = 1 | -ve_method = all | dist_metric = euclidean | topk = 10 #\n",
      "#################################################################################\n",
      "╒════╤═════════╤═══════════╤═════════════════╤════════════════╤════════════════╤═════════════════╤════════════════╤════════════════╤═════════════════════════╕\n",
      "│    │    rmse │   cos_sim │   euc_rank_mean │   euc_rank_std │   euc_rank_tot │   cos_rank_mean │   cos_rank_std │   cos_rank_tot │ time(epoch_start-now)   │\n",
      "╞════╪═════════╪═══════════╪═════════════════╪════════════════╪════════════════╪═════════════════╪════════════════╪════════════════╪═════════════════════════╡\n",
      "│ 13 │ 5.10786 │  0.736689 │         104.217 │         279.42 │        278.368 │          93.354 │         266.82 │        278.368 │ 6.18 min                │\n",
      "╘════╧═════════╧═══════════╧═════════════════╧════════════════╧════════════════╧═════════════════╧════════════════╧════════════════╧═════════════════════════╛\n",
      "\n"
     ]
    },
    {
     "name": "stderr",
     "output_type": "stream",
     "text": [
      "100%|████████████████████████████████████████████████████████████████| 44/44 [00:05<00:00,  8.39it/s]\n"
     ]
    },
    {
     "name": "stdout",
     "output_type": "stream",
     "text": [
      "8.647192(14)  \n",
      "#################################################################################\n",
      "# emb_model_update = 1 | -ve_method = all | dist_metric = euclidean | topk = 10 #\n",
      "#################################################################################\n",
      "╒════╤═════════╤═══════════╤═════════════════╤════════════════╤════════════════╤═════════════════╤════════════════╤════════════════╤═════════════════════════╕\n",
      "│    │    rmse │   cos_sim │   euc_rank_mean │   euc_rank_std │   euc_rank_tot │   cos_rank_mean │   cos_rank_std │   cos_rank_tot │ time(epoch_start-now)   │\n",
      "╞════╪═════════╪═══════════╪═════════════════╪════════════════╪════════════════╪═════════════════╪════════════════╪════════════════╪═════════════════════════╡\n",
      "│ 14 │ 5.09908 │  0.733198 │         105.234 │        281.782 │        278.368 │         93.9337 │        266.041 │        278.368 │ 6.11 min                │\n",
      "╘════╧═════════╧═══════════╧═════════════════╧════════════════╧════════════════╧═════════════════╧════════════════╧════════════════╧═════════════════════════╛\n",
      "\n"
     ]
    },
    {
     "name": "stderr",
     "output_type": "stream",
     "text": [
      "100%|████████████████████████████████████████████████████████████████| 44/44 [00:05<00:00,  8.67it/s]\n"
     ]
    },
    {
     "name": "stdout",
     "output_type": "stream",
     "text": [
      "7.197935(15)  \n",
      "#################################################################################\n",
      "# emb_model_update = 1 | -ve_method = all | dist_metric = euclidean | topk = 10 #\n",
      "#################################################################################\n",
      "╒════╤═════════╤═══════════╤═════════════════╤════════════════╤════════════════╤═════════════════╤════════════════╤════════════════╤═════════════════════════╕\n",
      "│    │    rmse │   cos_sim │   euc_rank_mean │   euc_rank_std │   euc_rank_tot │   cos_rank_mean │   cos_rank_std │   cos_rank_tot │ time(epoch_start-now)   │\n",
      "╞════╪═════════╪═══════════╪═════════════════╪════════════════╪════════════════╪═════════════════╪════════════════╪════════════════╪═════════════════════════╡\n",
      "│ 15 │ 4.98765 │  0.738588 │         104.893 │        281.489 │        278.368 │         93.2394 │        265.818 │        278.368 │ 6.16 min                │\n",
      "╘════╧═════════╧═══════════╧═════════════════╧════════════════╧════════════════╧═════════════════╧════════════════╧════════════════╧═════════════════════════╛\n",
      "\n"
     ]
    },
    {
     "name": "stderr",
     "output_type": "stream",
     "text": [
      "100%|████████████████████████████████████████████████████████████████| 44/44 [00:05<00:00,  8.44it/s]\n"
     ]
    },
    {
     "name": "stdout",
     "output_type": "stream",
     "text": [
      "7.737230(16)  \n",
      "#################################################################################\n",
      "# emb_model_update = 1 | -ve_method = all | dist_metric = euclidean | topk = 10 #\n",
      "#################################################################################\n",
      "╒════╤═════════╤═══════════╤═════════════════╤════════════════╤════════════════╤═════════════════╤════════════════╤════════════════╤═════════════════════════╕\n",
      "│    │    rmse │   cos_sim │   euc_rank_mean │   euc_rank_std │   euc_rank_tot │   cos_rank_mean │   cos_rank_std │   cos_rank_tot │ time(epoch_start-now)   │\n",
      "╞════╪═════════╪═══════════╪═════════════════╪════════════════╪════════════════╪═════════════════╪════════════════╪════════════════╪═════════════════════════╡\n",
      "│ 16 │ 4.92886 │  0.742812 │         104.748 │        281.814 │        278.368 │         93.5612 │        266.353 │        278.368 │ 6.11 min                │\n",
      "╘════╧═════════╧═══════════╧═════════════════╧════════════════╧════════════════╧═════════════════╧════════════════╧════════════════╧═════════════════════════╛\n",
      "\n"
     ]
    },
    {
     "name": "stderr",
     "output_type": "stream",
     "text": [
      "100%|████████████████████████████████████████████████████████████████| 44/44 [00:05<00:00,  8.60it/s]\n"
     ]
    },
    {
     "name": "stdout",
     "output_type": "stream",
     "text": [
      "7.118981(17)  \n",
      "#################################################################################\n",
      "# emb_model_update = 1 | -ve_method = all | dist_metric = euclidean | topk = 10 #\n",
      "#################################################################################\n",
      "╒════╤═════════╤═══════════╤═════════════════╤════════════════╤════════════════╤═════════════════╤════════════════╤════════════════╤═════════════════════════╕\n",
      "│    │    rmse │   cos_sim │   euc_rank_mean │   euc_rank_std │   euc_rank_tot │   cos_rank_mean │   cos_rank_std │   cos_rank_tot │ time(epoch_start-now)   │\n",
      "╞════╪═════════╪═══════════╪═════════════════╪════════════════╪════════════════╪═════════════════╪════════════════╪════════════════╪═════════════════════════╡\n",
      "│ 17 │ 4.98916 │  0.734727 │         106.899 │        284.965 │        278.368 │         95.9341 │        271.995 │        278.368 │ 6.07 min                │\n",
      "╘════╧═════════╧═══════════╧═════════════════╧════════════════╧════════════════╧═════════════════╧════════════════╧════════════════╧═════════════════════════╛\n",
      "\n"
     ]
    },
    {
     "name": "stderr",
     "output_type": "stream",
     "text": [
      "100%|████████████████████████████████████████████████████████████████| 44/44 [00:05<00:00,  8.63it/s]\n"
     ]
    },
    {
     "name": "stdout",
     "output_type": "stream",
     "text": [
      "8.330336(18)  \n",
      "#################################################################################\n",
      "# emb_model_update = 1 | -ve_method = all | dist_metric = euclidean | topk = 10 #\n",
      "#################################################################################\n",
      "╒════╤═════════╤═══════════╤═════════════════╤════════════════╤════════════════╤═════════════════╤════════════════╤════════════════╤═════════════════════════╕\n",
      "│    │    rmse │   cos_sim │   euc_rank_mean │   euc_rank_std │   euc_rank_tot │   cos_rank_mean │   cos_rank_std │   cos_rank_tot │ time(epoch_start-now)   │\n",
      "╞════╪═════════╪═══════════╪═════════════════╪════════════════╪════════════════╪═════════════════╪════════════════╪════════════════╪═════════════════════════╡\n",
      "│ 18 │ 4.89703 │  0.737198 │         105.517 │        283.984 │        278.368 │         94.6668 │        269.385 │        278.368 │ 6.14 min                │\n",
      "╘════╧═════════╧═══════════╧═════════════════╧════════════════╧════════════════╧═════════════════╧════════════════╧════════════════╧═════════════════════════╛\n",
      "\n"
     ]
    },
    {
     "name": "stderr",
     "output_type": "stream",
     "text": [
      "100%|████████████████████████████████████████████████████████████████| 44/44 [00:05<00:00,  8.66it/s]\n"
     ]
    },
    {
     "name": "stdout",
     "output_type": "stream",
     "text": [
      "7.451024(19)  \n",
      "#################################################################################\n",
      "# emb_model_update = 1 | -ve_method = all | dist_metric = euclidean | topk = 10 #\n",
      "#################################################################################\n",
      "╒════╤═════════╤═══════════╤═════════════════╤════════════════╤════════════════╤═════════════════╤════════════════╤════════════════╤═════════════════════════╕\n",
      "│    │    rmse │   cos_sim │   euc_rank_mean │   euc_rank_std │   euc_rank_tot │   cos_rank_mean │   cos_rank_std │   cos_rank_tot │ time(epoch_start-now)   │\n",
      "╞════╪═════════╪═══════════╪═════════════════╪════════════════╪════════════════╪═════════════════╪════════════════╪════════════════╪═════════════════════════╡\n",
      "│ 19 │ 4.90162 │  0.735022 │         104.822 │         282.27 │        278.368 │         92.8316 │        264.943 │        278.368 │ 6.10 min                │\n",
      "╘════╧═════════╧═══════════╧═════════════════╧════════════════╧════════════════╧═════════════════╧════════════════╧════════════════╧═════════════════════════╛\n",
      "\n"
     ]
    },
    {
     "name": "stderr",
     "output_type": "stream",
     "text": [
      "100%|████████████████████████████████████████████████████████████████| 44/44 [00:05<00:00,  8.64it/s]\n"
     ]
    },
    {
     "name": "stdout",
     "output_type": "stream",
     "text": [
      "6.025070(20)  \n",
      "#################################################################################\n",
      "# emb_model_update = 1 | -ve_method = all | dist_metric = euclidean | topk = 10 #\n",
      "#################################################################################\n",
      "╒════╤═════════╤═══════════╤═════════════════╤════════════════╤════════════════╤═════════════════╤════════════════╤════════════════╤═════════════════════════╕\n",
      "│    │    rmse │   cos_sim │   euc_rank_mean │   euc_rank_std │   euc_rank_tot │   cos_rank_mean │   cos_rank_std │   cos_rank_tot │ time(epoch_start-now)   │\n",
      "╞════╪═════════╪═══════════╪═════════════════╪════════════════╪════════════════╪═════════════════╪════════════════╪════════════════╪═════════════════════════╡\n",
      "│ 20 │ 4.87613 │  0.735531 │         104.793 │        283.534 │        278.368 │         93.0609 │        267.176 │        278.368 │ 6.19 min                │\n",
      "╘════╧═════════╧═══════════╧═════════════════╧════════════════╧════════════════╧═════════════════╧════════════════╧════════════════╧═════════════════════════╛\n",
      "\n"
     ]
    },
    {
     "name": "stderr",
     "output_type": "stream",
     "text": [
      "100%|████████████████████████████████████████████████████████████████| 44/44 [00:05<00:00,  8.47it/s]\n"
     ]
    },
    {
     "name": "stdout",
     "output_type": "stream",
     "text": [
      "6.331342(21)  \n",
      "#################################################################################\n",
      "# emb_model_update = 1 | -ve_method = all | dist_metric = euclidean | topk = 10 #\n",
      "#################################################################################\n",
      "╒════╤═════════╤═══════════╤═════════════════╤════════════════╤════════════════╤═════════════════╤════════════════╤════════════════╤═════════════════════════╕\n",
      "│    │    rmse │   cos_sim │   euc_rank_mean │   euc_rank_std │   euc_rank_tot │   cos_rank_mean │   cos_rank_std │   cos_rank_tot │ time(epoch_start-now)   │\n",
      "╞════╪═════════╪═══════════╪═════════════════╪════════════════╪════════════════╪═════════════════╪════════════════╪════════════════╪═════════════════════════╡\n",
      "│ 21 │ 4.84486 │   0.73587 │         104.609 │        281.532 │        278.368 │         93.4008 │        267.653 │        278.368 │ 6.06 min                │\n",
      "╘════╧═════════╧═══════════╧═════════════════╧════════════════╧════════════════╧═════════════════╧════════════════╧════════════════╧═════════════════════════╛\n",
      "\n"
     ]
    },
    {
     "name": "stderr",
     "output_type": "stream",
     "text": [
      "100%|████████████████████████████████████████████████████████████████| 44/44 [00:05<00:00,  8.41it/s]\n"
     ]
    },
    {
     "name": "stdout",
     "output_type": "stream",
     "text": [
      "7.317247(22)  \n",
      "#################################################################################\n",
      "# emb_model_update = 1 | -ve_method = all | dist_metric = euclidean | topk = 10 #\n",
      "#################################################################################\n",
      "╒════╤═════════╤═══════════╤═════════════════╤════════════════╤════════════════╤═════════════════╤════════════════╤════════════════╤═════════════════════════╕\n",
      "│    │    rmse │   cos_sim │   euc_rank_mean │   euc_rank_std │   euc_rank_tot │   cos_rank_mean │   cos_rank_std │   cos_rank_tot │ time(epoch_start-now)   │\n",
      "╞════╪═════════╪═══════════╪═════════════════╪════════════════╪════════════════╪═════════════════╪════════════════╪════════════════╪═════════════════════════╡\n",
      "│ 22 │ 4.83774 │  0.736013 │         105.414 │        282.657 │        278.368 │         94.3693 │        268.666 │        278.368 │ 6.14 min                │\n",
      "╘════╧═════════╧═══════════╧═════════════════╧════════════════╧════════════════╧═════════════════╧════════════════╧════════════════╧═════════════════════════╛\n",
      "\n"
     ]
    },
    {
     "name": "stderr",
     "output_type": "stream",
     "text": [
      "100%|████████████████████████████████████████████████████████████████| 44/44 [00:05<00:00,  8.74it/s]\n"
     ]
    },
    {
     "name": "stdout",
     "output_type": "stream",
     "text": [
      "7.606679(23)  \n",
      "#################################################################################\n",
      "# emb_model_update = 1 | -ve_method = all | dist_metric = euclidean | topk = 10 #\n",
      "#################################################################################\n",
      "╒════╤═════════╤═══════════╤═════════════════╤════════════════╤════════════════╤═════════════════╤════════════════╤════════════════╤═════════════════════════╕\n",
      "│    │    rmse │   cos_sim │   euc_rank_mean │   euc_rank_std │   euc_rank_tot │   cos_rank_mean │   cos_rank_std │   cos_rank_tot │ time(epoch_start-now)   │\n",
      "╞════╪═════════╪═══════════╪═════════════════╪════════════════╪════════════════╪═════════════════╪════════════════╪════════════════╪═════════════════════════╡\n",
      "│ 23 │ 4.76815 │  0.740322 │         104.145 │        281.254 │        278.368 │          93.315 │        266.328 │        278.368 │ 6.16 min                │\n",
      "╘════╧═════════╧═══════════╧═════════════════╧════════════════╧════════════════╧═════════════════╧════════════════╧════════════════╧═════════════════════════╛\n",
      "\n"
     ]
    },
    {
     "name": "stderr",
     "output_type": "stream",
     "text": [
      "100%|████████████████████████████████████████████████████████████████| 44/44 [00:05<00:00,  8.80it/s]\n"
     ]
    },
    {
     "name": "stdout",
     "output_type": "stream",
     "text": [
      "7.078730(24)  \n",
      "#################################################################################\n",
      "# emb_model_update = 1 | -ve_method = all | dist_metric = euclidean | topk = 10 #\n",
      "#################################################################################\n",
      "╒════╤═════════╤═══════════╤═════════════════╤════════════════╤════════════════╤═════════════════╤════════════════╤════════════════╤═════════════════════════╕\n",
      "│    │    rmse │   cos_sim │   euc_rank_mean │   euc_rank_std │   euc_rank_tot │   cos_rank_mean │   cos_rank_std │   cos_rank_tot │ time(epoch_start-now)   │\n",
      "╞════╪═════════╪═══════════╪═════════════════╪════════════════╪════════════════╪═════════════════╪════════════════╪════════════════╪═════════════════════════╡\n",
      "│ 24 │ 4.81187 │  0.737903 │         104.504 │        281.225 │        278.368 │         92.7782 │        266.537 │        278.368 │ 6.16 min                │\n",
      "╘════╧═════════╧═══════════╧═════════════════╧════════════════╧════════════════╧═════════════════╧════════════════╧════════════════╧═════════════════════════╛\n",
      "\n"
     ]
    },
    {
     "name": "stderr",
     "output_type": "stream",
     "text": [
      "100%|████████████████████████████████████████████████████████████████| 44/44 [00:04<00:00,  9.04it/s]\n"
     ]
    },
    {
     "name": "stdout",
     "output_type": "stream",
     "text": [
      "6.635009(25)  \n",
      "#################################################################################\n",
      "# emb_model_update = 1 | -ve_method = all | dist_metric = euclidean | topk = 10 #\n",
      "#################################################################################\n",
      "╒════╤═════════╤═══════════╤═════════════════╤════════════════╤════════════════╤═════════════════╤════════════════╤════════════════╤═════════════════════════╕\n",
      "│    │    rmse │   cos_sim │   euc_rank_mean │   euc_rank_std │   euc_rank_tot │   cos_rank_mean │   cos_rank_std │   cos_rank_tot │ time(epoch_start-now)   │\n",
      "╞════╪═════════╪═══════════╪═════════════════╪════════════════╪════════════════╪═════════════════╪════════════════╪════════════════╪═════════════════════════╡\n",
      "│ 25 │ 4.81905 │  0.736083 │         104.321 │        280.808 │        278.368 │         93.1532 │        266.283 │        278.368 │ 6.08 min                │\n",
      "╘════╧═════════╧═══════════╧═════════════════╧════════════════╧════════════════╧═════════════════╧════════════════╧════════════════╧═════════════════════════╛\n",
      "\n"
     ]
    },
    {
     "name": "stderr",
     "output_type": "stream",
     "text": [
      "100%|████████████████████████████████████████████████████████████████| 44/44 [00:05<00:00,  8.78it/s]\n"
     ]
    },
    {
     "name": "stdout",
     "output_type": "stream",
     "text": [
      "7.691721(26)  \n",
      "#################################################################################\n",
      "# emb_model_update = 1 | -ve_method = all | dist_metric = euclidean | topk = 10 #\n",
      "#################################################################################\n",
      "╒════╤═════════╤═══════════╤═════════════════╤════════════════╤════════════════╤═════════════════╤════════════════╤════════════════╤═════════════════════════╕\n",
      "│    │    rmse │   cos_sim │   euc_rank_mean │   euc_rank_std │   euc_rank_tot │   cos_rank_mean │   cos_rank_std │   cos_rank_tot │ time(epoch_start-now)   │\n",
      "╞════╪═════════╪═══════════╪═════════════════╪════════════════╪════════════════╪═════════════════╪════════════════╪════════════════╪═════════════════════════╡\n",
      "│ 26 │ 4.85213 │  0.733068 │         105.138 │        283.436 │        278.368 │         93.3232 │        266.285 │        278.368 │ 6.18 min                │\n",
      "╘════╧═════════╧═══════════╧═════════════════╧════════════════╧════════════════╧═════════════════╧════════════════╧════════════════╧═════════════════════════╛\n",
      "\n"
     ]
    },
    {
     "name": "stderr",
     "output_type": "stream",
     "text": [
      "100%|████████████████████████████████████████████████████████████████| 44/44 [00:05<00:00,  8.44it/s]\n"
     ]
    },
    {
     "name": "stdout",
     "output_type": "stream",
     "text": [
      "7.809540(27)  \n",
      "#################################################################################\n",
      "# emb_model_update = 1 | -ve_method = all | dist_metric = euclidean | topk = 10 #\n",
      "#################################################################################\n",
      "╒════╤═════════╤═══════════╤═════════════════╤════════════════╤════════════════╤═════════════════╤════════════════╤════════════════╤═════════════════════════╕\n",
      "│    │    rmse │   cos_sim │   euc_rank_mean │   euc_rank_std │   euc_rank_tot │   cos_rank_mean │   cos_rank_std │   cos_rank_tot │ time(epoch_start-now)   │\n",
      "╞════╪═════════╪═══════════╪═════════════════╪════════════════╪════════════════╪═════════════════╪════════════════╪════════════════╪═════════════════════════╡\n",
      "│ 27 │ 4.89154 │   0.72913 │         104.741 │        281.621 │        278.368 │         93.2696 │        266.256 │        278.368 │ 6.10 min                │\n",
      "╘════╧═════════╧═══════════╧═════════════════╧════════════════╧════════════════╧═════════════════╧════════════════╧════════════════╧═════════════════════════╛\n",
      "\n"
     ]
    },
    {
     "name": "stderr",
     "output_type": "stream",
     "text": [
      "100%|████████████████████████████████████████████████████████████████| 44/44 [00:05<00:00,  8.63it/s]\n"
     ]
    },
    {
     "name": "stdout",
     "output_type": "stream",
     "text": [
      "6.648152(28)  \n",
      "#################################################################################\n",
      "# emb_model_update = 1 | -ve_method = all | dist_metric = euclidean | topk = 10 #\n",
      "#################################################################################\n",
      "╒════╤═════════╤═══════════╤═════════════════╤════════════════╤════════════════╤═════════════════╤════════════════╤════════════════╤═════════════════════════╕\n",
      "│    │    rmse │   cos_sim │   euc_rank_mean │   euc_rank_std │   euc_rank_tot │   cos_rank_mean │   cos_rank_std │   cos_rank_tot │ time(epoch_start-now)   │\n",
      "╞════╪═════════╪═══════════╪═════════════════╪════════════════╪════════════════╪═════════════════╪════════════════╪════════════════╪═════════════════════════╡\n",
      "│ 28 │ 4.91638 │   0.72751 │         104.825 │        282.136 │        278.368 │         93.4487 │        266.126 │        278.368 │ 6.13 min                │\n",
      "╘════╧═════════╧═══════════╧═════════════════╧════════════════╧════════════════╧═════════════════╧════════════════╧════════════════╧═════════════════════════╛\n",
      "\n"
     ]
    },
    {
     "name": "stderr",
     "output_type": "stream",
     "text": [
      "100%|████████████████████████████████████████████████████████████████| 44/44 [00:04<00:00,  9.30it/s]\n"
     ]
    },
    {
     "name": "stdout",
     "output_type": "stream",
     "text": [
      "6.980782(29)  \n",
      "#################################################################################\n",
      "# emb_model_update = 1 | -ve_method = all | dist_metric = euclidean | topk = 10 #\n",
      "#################################################################################\n",
      "╒════╤═════════╤═══════════╤═════════════════╤════════════════╤════════════════╤═════════════════╤════════════════╤════════════════╤═════════════════════════╕\n",
      "│    │    rmse │   cos_sim │   euc_rank_mean │   euc_rank_std │   euc_rank_tot │   cos_rank_mean │   cos_rank_std │   cos_rank_tot │ time(epoch_start-now)   │\n",
      "╞════╪═════════╪═══════════╪═════════════════╪════════════════╪════════════════╪═════════════════╪════════════════╪════════════════╪═════════════════════════╡\n",
      "│ 29 │ 4.86386 │  0.727709 │         103.743 │        279.792 │        278.368 │         92.7417 │        265.105 │        278.368 │ 6.15 min                │\n",
      "╘════╧═════════╧═══════════╧═════════════════╧════════════════╧════════════════╧═════════════════╧════════════════╧════════════════╧═════════════════════════╛\n",
      "\n"
     ]
    },
    {
     "name": "stderr",
     "output_type": "stream",
     "text": [
      "100%|████████████████████████████████████████████████████████████████| 44/44 [00:04<00:00,  9.66it/s]\n"
     ]
    },
    {
     "name": "stdout",
     "output_type": "stream",
     "text": [
      "7.914976(30)  \n",
      "#################################################################################\n",
      "# emb_model_update = 1 | -ve_method = all | dist_metric = euclidean | topk = 10 #\n",
      "#################################################################################\n",
      "╒════╤═════════╤═══════════╤═════════════════╤════════════════╤════════════════╤═════════════════╤════════════════╤════════════════╤═════════════════════════╕\n",
      "│    │    rmse │   cos_sim │   euc_rank_mean │   euc_rank_std │   euc_rank_tot │   cos_rank_mean │   cos_rank_std │   cos_rank_tot │ time(epoch_start-now)   │\n",
      "╞════╪═════════╪═══════════╪═════════════════╪════════════════╪════════════════╪═════════════════╪════════════════╪════════════════╪═════════════════════════╡\n",
      "│ 30 │ 4.71492 │  0.736562 │         104.093 │        281.345 │        278.368 │         93.1939 │        266.007 │        278.368 │ 6.00 min                │\n",
      "╘════╧═════════╧═══════════╧═════════════════╧════════════════╧════════════════╧═════════════════╧════════════════╧════════════════╧═════════════════════════╛\n",
      "\n"
     ]
    },
    {
     "name": "stderr",
     "output_type": "stream",
     "text": [
      "100%|████████████████████████████████████████████████████████████████| 44/44 [00:04<00:00,  9.32it/s]\n"
     ]
    },
    {
     "name": "stdout",
     "output_type": "stream",
     "text": [
      "6.424246(31)  \n",
      "#################################################################################\n",
      "# emb_model_update = 1 | -ve_method = all | dist_metric = euclidean | topk = 10 #\n",
      "#################################################################################\n",
      "╒════╤═════════╤═══════════╤═════════════════╤════════════════╤════════════════╤═════════════════╤════════════════╤════════════════╤═════════════════════════╕\n",
      "│    │    rmse │   cos_sim │   euc_rank_mean │   euc_rank_std │   euc_rank_tot │   cos_rank_mean │   cos_rank_std │   cos_rank_tot │ time(epoch_start-now)   │\n",
      "╞════╪═════════╪═══════════╪═════════════════╪════════════════╪════════════════╪═════════════════╪════════════════╪════════════════╪═════════════════════════╡\n",
      "│ 31 │ 4.84282 │  0.730876 │         104.114 │        280.818 │        278.368 │         92.9562 │         265.62 │        278.368 │ 6.18 min                │\n",
      "╘════╧═════════╧═══════════╧═════════════════╧════════════════╧════════════════╧═════════════════╧════════════════╧════════════════╧═════════════════════════╛\n",
      "\n"
     ]
    },
    {
     "name": "stderr",
     "output_type": "stream",
     "text": [
      "100%|████████████████████████████████████████████████████████████████| 44/44 [00:04<00:00,  9.43it/s]\n"
     ]
    },
    {
     "name": "stdout",
     "output_type": "stream",
     "text": [
      "6.870118(32)  \n",
      "#################################################################################\n",
      "# emb_model_update = 1 | -ve_method = all | dist_metric = euclidean | topk = 10 #\n",
      "#################################################################################\n",
      "╒════╤═════════╤═══════════╤═════════════════╤════════════════╤════════════════╤═════════════════╤════════════════╤════════════════╤═════════════════════════╕\n",
      "│    │    rmse │   cos_sim │   euc_rank_mean │   euc_rank_std │   euc_rank_tot │   cos_rank_mean │   cos_rank_std │   cos_rank_tot │ time(epoch_start-now)   │\n",
      "╞════╪═════════╪═══════════╪═════════════════╪════════════════╪════════════════╪═════════════════╪════════════════╪════════════════╪═════════════════════════╡\n",
      "│ 32 │ 4.83417 │  0.730278 │         104.699 │        282.131 │        278.368 │         93.0789 │         265.16 │        278.368 │ 6.06 min                │\n",
      "╘════╧═════════╧═══════════╧═════════════════╧════════════════╧════════════════╧═════════════════╧════════════════╧════════════════╧═════════════════════════╛\n",
      "\n"
     ]
    },
    {
     "name": "stderr",
     "output_type": "stream",
     "text": [
      "100%|████████████████████████████████████████████████████████████████| 44/44 [00:05<00:00,  7.82it/s]\n"
     ]
    },
    {
     "name": "stdout",
     "output_type": "stream",
     "text": [
      "6.186815(33)  \n",
      "#################################################################################\n",
      "# emb_model_update = 1 | -ve_method = all | dist_metric = euclidean | topk = 10 #\n",
      "#################################################################################\n",
      "╒════╤═════════╤═══════════╤═════════════════╤════════════════╤════════════════╤═════════════════╤════════════════╤════════════════╤═════════════════════════╕\n",
      "│    │    rmse │   cos_sim │   euc_rank_mean │   euc_rank_std │   euc_rank_tot │   cos_rank_mean │   cos_rank_std │   cos_rank_tot │ time(epoch_start-now)   │\n",
      "╞════╪═════════╪═══════════╪═════════════════╪════════════════╪════════════════╪═════════════════╪════════════════╪════════════════╪═════════════════════════╡\n",
      "│ 33 │ 4.75894 │  0.736486 │         104.248 │        282.093 │        278.368 │         92.3344 │        265.039 │        278.368 │ 6.12 min                │\n",
      "╘════╧═════════╧═══════════╧═════════════════╧════════════════╧════════════════╧═════════════════╧════════════════╧════════════════╧═════════════════════════╛\n",
      "\n"
     ]
    },
    {
     "name": "stderr",
     "output_type": "stream",
     "text": [
      "100%|████████████████████████████████████████████████████████████████| 44/44 [00:05<00:00,  8.72it/s]\n"
     ]
    },
    {
     "name": "stdout",
     "output_type": "stream",
     "text": [
      "9.125848(34)  \n",
      "#################################################################################\n",
      "# emb_model_update = 1 | -ve_method = all | dist_metric = euclidean | topk = 10 #\n",
      "#################################################################################\n",
      "╒════╤═════════╤═══════════╤═════════════════╤════════════════╤════════════════╤═════════════════╤════════════════╤════════════════╤═════════════════════════╕\n",
      "│    │    rmse │   cos_sim │   euc_rank_mean │   euc_rank_std │   euc_rank_tot │   cos_rank_mean │   cos_rank_std │   cos_rank_tot │ time(epoch_start-now)   │\n",
      "╞════╪═════════╪═══════════╪═════════════════╪════════════════╪════════════════╪═════════════════╪════════════════╪════════════════╪═════════════════════════╡\n",
      "│ 34 │ 4.81021 │  0.727512 │         103.835 │        281.607 │        278.368 │         91.7583 │         263.15 │        278.368 │ 6.08 min                │\n",
      "╘════╧═════════╧═══════════╧═════════════════╧════════════════╧════════════════╧═════════════════╧════════════════╧════════════════╧═════════════════════════╛\n",
      "\n"
     ]
    },
    {
     "name": "stderr",
     "output_type": "stream",
     "text": [
      "100%|████████████████████████████████████████████████████████████████| 44/44 [00:04<00:00,  8.82it/s]\n"
     ]
    },
    {
     "name": "stdout",
     "output_type": "stream",
     "text": [
      "7.121449(35)  \n",
      "#################################################################################\n",
      "# emb_model_update = 1 | -ve_method = all | dist_metric = euclidean | topk = 10 #\n",
      "#################################################################################\n",
      "╒════╤═════════╤═══════════╤═════════════════╤════════════════╤════════════════╤═════════════════╤════════════════╤════════════════╤═════════════════════════╕\n",
      "│    │    rmse │   cos_sim │   euc_rank_mean │   euc_rank_std │   euc_rank_tot │   cos_rank_mean │   cos_rank_std │   cos_rank_tot │ time(epoch_start-now)   │\n",
      "╞════╪═════════╪═══════════╪═════════════════╪════════════════╪════════════════╪═════════════════╪════════════════╪════════════════╪═════════════════════════╡\n",
      "│ 35 │ 4.87957 │   0.72498 │          104.39 │        281.023 │        278.368 │         92.7906 │        264.621 │        278.368 │ 6.17 min                │\n",
      "╘════╧═════════╧═══════════╧═════════════════╧════════════════╧════════════════╧═════════════════╧════════════════╧════════════════╧═════════════════════════╛\n",
      "\n"
     ]
    },
    {
     "name": "stderr",
     "output_type": "stream",
     "text": [
      "100%|████████████████████████████████████████████████████████████████| 44/44 [00:04<00:00,  8.84it/s]\n"
     ]
    },
    {
     "name": "stdout",
     "output_type": "stream",
     "text": [
      "7.417646(36)  \n",
      "#################################################################################\n",
      "# emb_model_update = 1 | -ve_method = all | dist_metric = euclidean | topk = 10 #\n",
      "#################################################################################\n",
      "╒════╤═════════╤═══════════╤═════════════════╤════════════════╤════════════════╤═════════════════╤════════════════╤════════════════╤═════════════════════════╕\n",
      "│    │    rmse │   cos_sim │   euc_rank_mean │   euc_rank_std │   euc_rank_tot │   cos_rank_mean │   cos_rank_std │   cos_rank_tot │ time(epoch_start-now)   │\n",
      "╞════╪═════════╪═══════════╪═════════════════╪════════════════╪════════════════╪═════════════════╪════════════════╪════════════════╪═════════════════════════╡\n",
      "│ 36 │ 4.82489 │  0.726391 │         104.047 │        282.201 │        278.368 │         92.7064 │        265.372 │        278.368 │ 6.13 min                │\n",
      "╘════╧═════════╧═══════════╧═════════════════╧════════════════╧════════════════╧═════════════════╧════════════════╧════════════════╧═════════════════════════╛\n",
      "\n"
     ]
    },
    {
     "name": "stderr",
     "output_type": "stream",
     "text": [
      "100%|████████████████████████████████████████████████████████████████| 44/44 [00:05<00:00,  8.57it/s]\n"
     ]
    },
    {
     "name": "stdout",
     "output_type": "stream",
     "text": [
      "6.662408(37)  \n",
      "#################################################################################\n",
      "# emb_model_update = 1 | -ve_method = all | dist_metric = euclidean | topk = 10 #\n",
      "#################################################################################\n",
      "╒════╤═════════╤═══════════╤═════════════════╤════════════════╤════════════════╤═════════════════╤════════════════╤════════════════╤═════════════════════════╕\n",
      "│    │    rmse │   cos_sim │   euc_rank_mean │   euc_rank_std │   euc_rank_tot │   cos_rank_mean │   cos_rank_std │   cos_rank_tot │ time(epoch_start-now)   │\n",
      "╞════╪═════════╪═══════════╪═════════════════╪════════════════╪════════════════╪═════════════════╪════════════════╪════════════════╪═════════════════════════╡\n",
      "│ 37 │ 4.85797 │   0.72322 │         104.236 │        281.713 │        278.368 │         92.9016 │         267.02 │        278.368 │ 6.05 min                │\n",
      "╘════╧═════════╧═══════════╧═════════════════╧════════════════╧════════════════╧═════════════════╧════════════════╧════════════════╧═════════════════════════╛\n",
      "\n"
     ]
    },
    {
     "name": "stderr",
     "output_type": "stream",
     "text": [
      "100%|████████████████████████████████████████████████████████████████| 44/44 [00:04<00:00,  9.42it/s]\n"
     ]
    },
    {
     "name": "stdout",
     "output_type": "stream",
     "text": [
      "6.841461(38)  \n",
      "#################################################################################\n",
      "# emb_model_update = 1 | -ve_method = all | dist_metric = euclidean | topk = 10 #\n",
      "#################################################################################\n",
      "╒════╤═════════╤═══════════╤═════════════════╤════════════════╤════════════════╤═════════════════╤════════════════╤════════════════╤═════════════════════════╕\n",
      "│    │    rmse │   cos_sim │   euc_rank_mean │   euc_rank_std │   euc_rank_tot │   cos_rank_mean │   cos_rank_std │   cos_rank_tot │ time(epoch_start-now)   │\n",
      "╞════╪═════════╪═══════════╪═════════════════╪════════════════╪════════════════╪═════════════════╪════════════════╪════════════════╪═════════════════════════╡\n",
      "│ 38 │ 4.74355 │  0.731707 │         103.431 │        280.372 │        278.368 │         90.9821 │        261.474 │        278.368 │ 6.18 min                │\n",
      "╘════╧═════════╧═══════════╧═════════════════╧════════════════╧════════════════╧═════════════════╧════════════════╧════════════════╧═════════════════════════╛\n",
      "\n"
     ]
    },
    {
     "name": "stderr",
     "output_type": "stream",
     "text": [
      "100%|████████████████████████████████████████████████████████████████| 44/44 [00:04<00:00,  9.27it/s]\n"
     ]
    },
    {
     "name": "stdout",
     "output_type": "stream",
     "text": [
      "6.464555(39)  \n",
      "#################################################################################\n",
      "# emb_model_update = 1 | -ve_method = all | dist_metric = euclidean | topk = 10 #\n",
      "#################################################################################\n",
      "╒════╤═════════╤═══════════╤═════════════════╤════════════════╤════════════════╤═════════════════╤════════════════╤════════════════╤═════════════════════════╕\n",
      "│    │    rmse │   cos_sim │   euc_rank_mean │   euc_rank_std │   euc_rank_tot │   cos_rank_mean │   cos_rank_std │   cos_rank_tot │ time(epoch_start-now)   │\n",
      "╞════╪═════════╪═══════════╪═════════════════╪════════════════╪════════════════╪═════════════════╪════════════════╪════════════════╪═════════════════════════╡\n",
      "│ 39 │ 4.76841 │  0.731786 │         102.174 │        278.369 │        278.368 │         89.1909 │        258.444 │        278.368 │ 6.15 min                │\n",
      "╘════╧═════════╧═══════════╧═════════════════╧════════════════╧════════════════╧═════════════════╧════════════════╧════════════════╧═════════════════════════╛\n",
      "\n"
     ]
    },
    {
     "name": "stderr",
     "output_type": "stream",
     "text": [
      "100%|████████████████████████████████████████████████████████████████| 44/44 [00:04<00:00,  9.67it/s]\n"
     ]
    },
    {
     "name": "stdout",
     "output_type": "stream",
     "text": [
      "6.893060(40)  \n",
      "#################################################################################\n",
      "# emb_model_update = 1 | -ve_method = all | dist_metric = euclidean | topk = 10 #\n",
      "#################################################################################\n",
      "╒════╤═════════╤═══════════╤═════════════════╤════════════════╤════════════════╤═════════════════╤════════════════╤════════════════╤═════════════════════════╕\n",
      "│    │    rmse │   cos_sim │   euc_rank_mean │   euc_rank_std │   euc_rank_tot │   cos_rank_mean │   cos_rank_std │   cos_rank_tot │ time(epoch_start-now)   │\n",
      "╞════╪═════════╪═══════════╪═════════════════╪════════════════╪════════════════╪═════════════════╪════════════════╪════════════════╪═════════════════════════╡\n",
      "│ 40 │ 4.78615 │  0.728716 │          102.48 │        278.789 │        278.368 │         90.0536 │        259.001 │        278.368 │ 6.20 min                │\n",
      "╘════╧═════════╧═══════════╧═════════════════╧════════════════╧════════════════╧═════════════════╧════════════════╧════════════════╧═════════════════════════╛\n",
      "\n"
     ]
    },
    {
     "name": "stderr",
     "output_type": "stream",
     "text": [
      "100%|████████████████████████████████████████████████████████████████| 44/44 [00:04<00:00,  9.61it/s]\n"
     ]
    },
    {
     "name": "stdout",
     "output_type": "stream",
     "text": [
      "10.043070(41)  \n",
      "#################################################################################\n",
      "# emb_model_update = 1 | -ve_method = all | dist_metric = euclidean | topk = 10 #\n",
      "#################################################################################\n",
      "╒════╤═════════╤═══════════╤═════════════════╤════════════════╤════════════════╤═════════════════╤════════════════╤════════════════╤═════════════════════════╕\n",
      "│    │    rmse │   cos_sim │   euc_rank_mean │   euc_rank_std │   euc_rank_tot │   cos_rank_mean │   cos_rank_std │   cos_rank_tot │ time(epoch_start-now)   │\n",
      "╞════╪═════════╪═══════════╪═════════════════╪════════════════╪════════════════╪═════════════════╪════════════════╪════════════════╪═════════════════════════╡\n",
      "│ 41 │ 4.83687 │  0.724083 │         103.957 │        281.386 │        278.368 │          90.864 │        260.329 │        278.368 │ 6.97 min                │\n",
      "╘════╧═════════╧═══════════╧═════════════════╧════════════════╧════════════════╧═════════════════╧════════════════╧════════════════╧═════════════════════════╛\n",
      "\n"
     ]
    },
    {
     "name": "stderr",
     "output_type": "stream",
     "text": [
      "100%|████████████████████████████████████████████████████████████████| 44/44 [00:13<00:00,  3.36it/s]\n"
     ]
    },
    {
     "name": "stdout",
     "output_type": "stream",
     "text": [
      "7.559011(42)  \n",
      "#################################################################################\n",
      "# emb_model_update = 1 | -ve_method = all | dist_metric = euclidean | topk = 10 #\n",
      "#################################################################################\n",
      "╒════╤═════════╤═══════════╤═════════════════╤════════════════╤════════════════╤═════════════════╤════════════════╤════════════════╤═════════════════════════╕\n",
      "│    │    rmse │   cos_sim │   euc_rank_mean │   euc_rank_std │   euc_rank_tot │   cos_rank_mean │   cos_rank_std │   cos_rank_tot │ time(epoch_start-now)   │\n",
      "╞════╪═════════╪═══════════╪═════════════════╪════════════════╪════════════════╪═════════════════╪════════════════╪════════════════╪═════════════════════════╡\n",
      "│ 42 │ 4.83652 │  0.722366 │           103.1 │        282.068 │        278.368 │         91.6088 │        264.033 │        278.368 │ 7.28 min                │\n",
      "╘════╧═════════╧═══════════╧═════════════════╧════════════════╧════════════════╧═════════════════╧════════════════╧════════════════╧═════════════════════════╛\n",
      "\n"
     ]
    },
    {
     "name": "stderr",
     "output_type": "stream",
     "text": [
      "100%|████████████████████████████████████████████████████████████████| 44/44 [00:13<00:00,  3.17it/s]\n"
     ]
    },
    {
     "name": "stdout",
     "output_type": "stream",
     "text": [
      "6.836725(43)  \n",
      "#################################################################################\n",
      "# emb_model_update = 1 | -ve_method = all | dist_metric = euclidean | topk = 10 #\n",
      "#################################################################################\n",
      "╒════╤═════════╤═══════════╤═════════════════╤════════════════╤════════════════╤═════════════════╤════════════════╤════════════════╤═════════════════════════╕\n",
      "│    │    rmse │   cos_sim │   euc_rank_mean │   euc_rank_std │   euc_rank_tot │   cos_rank_mean │   cos_rank_std │   cos_rank_tot │ time(epoch_start-now)   │\n",
      "╞════╪═════════╪═══════════╪═════════════════╪════════════════╪════════════════╪═════════════════╪════════════════╪════════════════╪═════════════════════════╡\n",
      "│ 43 │ 4.80734 │  0.724541 │         104.037 │        282.733 │        278.368 │         92.3011 │        265.865 │        278.368 │ 7.20 min                │\n",
      "╘════╧═════════╧═══════════╧═════════════════╧════════════════╧════════════════╧═════════════════╧════════════════╧════════════════╧═════════════════════════╛\n",
      "\n"
     ]
    },
    {
     "name": "stderr",
     "output_type": "stream",
     "text": [
      "100%|████████████████████████████████████████████████████████████████| 44/44 [00:13<00:00,  3.17it/s]\n"
     ]
    },
    {
     "name": "stdout",
     "output_type": "stream",
     "text": [
      "6.637659(44)  \n",
      "#################################################################################\n",
      "# emb_model_update = 1 | -ve_method = all | dist_metric = euclidean | topk = 10 #\n",
      "#################################################################################\n",
      "╒════╤═════════╤═══════════╤═════════════════╤════════════════╤════════════════╤═════════════════╤════════════════╤════════════════╤═════════════════════════╕\n",
      "│    │    rmse │   cos_sim │   euc_rank_mean │   euc_rank_std │   euc_rank_tot │   cos_rank_mean │   cos_rank_std │   cos_rank_tot │ time(epoch_start-now)   │\n",
      "╞════╪═════════╪═══════════╪═════════════════╪════════════════╪════════════════╪═════════════════╪════════════════╪════════════════╪═════════════════════════╡\n",
      "│ 44 │ 4.91492 │  0.716057 │         105.643 │        284.839 │        278.368 │         93.2239 │        266.371 │        278.368 │ 7.32 min                │\n",
      "╘════╧═════════╧═══════════╧═════════════════╧════════════════╧════════════════╧═════════════════╧════════════════╧════════════════╧═════════════════════════╛\n",
      "\n"
     ]
    },
    {
     "name": "stderr",
     "output_type": "stream",
     "text": [
      "100%|████████████████████████████████████████████████████████████████| 44/44 [00:12<00:00,  3.46it/s]\n"
     ]
    },
    {
     "name": "stdout",
     "output_type": "stream",
     "text": [
      "9.825461(45)  \n",
      "#################################################################################\n",
      "# emb_model_update = 1 | -ve_method = all | dist_metric = euclidean | topk = 10 #\n",
      "#################################################################################\n",
      "╒════╤═════════╤═══════════╤═════════════════╤════════════════╤════════════════╤═════════════════╤════════════════╤════════════════╤═════════════════════════╕\n",
      "│    │    rmse │   cos_sim │   euc_rank_mean │   euc_rank_std │   euc_rank_tot │   cos_rank_mean │   cos_rank_std │   cos_rank_tot │ time(epoch_start-now)   │\n",
      "╞════╪═════════╪═══════════╪═════════════════╪════════════════╪════════════════╪═════════════════╪════════════════╪════════════════╪═════════════════════════╡\n",
      "│ 45 │ 4.81927 │  0.727275 │         103.059 │        280.246 │        278.368 │         91.2578 │        262.324 │        278.368 │ 7.15 min                │\n",
      "╘════╧═════════╧═══════════╧═════════════════╧════════════════╧════════════════╧═════════════════╧════════════════╧════════════════╧═════════════════════════╛\n",
      "\n"
     ]
    },
    {
     "name": "stderr",
     "output_type": "stream",
     "text": [
      "100%|████████████████████████████████████████████████████████████████| 44/44 [00:11<00:00,  4.00it/s]\n"
     ]
    },
    {
     "name": "stdout",
     "output_type": "stream",
     "text": [
      "6.273266(46)  \n",
      "#################################################################################\n",
      "# emb_model_update = 1 | -ve_method = all | dist_metric = euclidean | topk = 10 #\n",
      "#################################################################################\n",
      "╒════╤═════════╤═══════════╤═════════════════╤════════════════╤════════════════╤═════════════════╤════════════════╤════════════════╤═════════════════════════╕\n",
      "│    │    rmse │   cos_sim │   euc_rank_mean │   euc_rank_std │   euc_rank_tot │   cos_rank_mean │   cos_rank_std │   cos_rank_tot │ time(epoch_start-now)   │\n",
      "╞════╪═════════╪═══════════╪═════════════════╪════════════════╪════════════════╪═════════════════╪════════════════╪════════════════╪═════════════════════════╡\n",
      "│ 46 │ 4.81649 │  0.723496 │         103.546 │        281.301 │        278.368 │         92.0724 │         265.45 │        278.368 │ 6.16 min                │\n",
      "╘════╧═════════╧═══════════╧═════════════════╧════════════════╧════════════════╧═════════════════╧════════════════╧════════════════╧═════════════════════════╛\n",
      "\n"
     ]
    },
    {
     "name": "stderr",
     "output_type": "stream",
     "text": [
      "100%|████████████████████████████████████████████████████████████████| 44/44 [00:04<00:00,  9.58it/s]\n"
     ]
    },
    {
     "name": "stdout",
     "output_type": "stream",
     "text": [
      "7.395914(47)  \n",
      "#################################################################################\n",
      "# emb_model_update = 1 | -ve_method = all | dist_metric = euclidean | topk = 10 #\n",
      "#################################################################################\n",
      "╒════╤═════════╤═══════════╤═════════════════╤════════════════╤════════════════╤═════════════════╤════════════════╤════════════════╤═════════════════════════╕\n",
      "│    │    rmse │   cos_sim │   euc_rank_mean │   euc_rank_std │   euc_rank_tot │   cos_rank_mean │   cos_rank_std │   cos_rank_tot │ time(epoch_start-now)   │\n",
      "╞════╪═════════╪═══════════╪═════════════════╪════════════════╪════════════════╪═════════════════╪════════════════╪════════════════╪═════════════════════════╡\n",
      "│ 47 │ 4.81129 │  0.724942 │         103.183 │        279.501 │        278.368 │         90.9646 │        260.438 │        278.368 │ 6.25 min                │\n",
      "╘════╧═════════╧═══════════╧═════════════════╧════════════════╧════════════════╧═════════════════╧════════════════╧════════════════╧═════════════════════════╛\n",
      "\n"
     ]
    },
    {
     "name": "stderr",
     "output_type": "stream",
     "text": [
      "100%|████████████████████████████████████████████████████████████████| 44/44 [00:04<00:00,  9.31it/s]\n"
     ]
    },
    {
     "name": "stdout",
     "output_type": "stream",
     "text": [
      "7.520034(48)  \n",
      "#################################################################################\n",
      "# emb_model_update = 1 | -ve_method = all | dist_metric = euclidean | topk = 10 #\n",
      "#################################################################################\n",
      "╒════╤═════════╤═══════════╤═════════════════╤════════════════╤════════════════╤═════════════════╤════════════════╤════════════════╤═════════════════════════╕\n",
      "│    │    rmse │   cos_sim │   euc_rank_mean │   euc_rank_std │   euc_rank_tot │   cos_rank_mean │   cos_rank_std │   cos_rank_tot │ time(epoch_start-now)   │\n",
      "╞════╪═════════╪═══════════╪═════════════════╪════════════════╪════════════════╪═════════════════╪════════════════╪════════════════╪═════════════════════════╡\n",
      "│ 48 │ 4.73953 │    0.7271 │           103.6 │        280.426 │        278.368 │         91.0462 │        261.723 │        278.368 │ 6.31 min                │\n",
      "╘════╧═════════╧═══════════╧═════════════════╧════════════════╧════════════════╧═════════════════╧════════════════╧════════════════╧═════════════════════════╛\n",
      "\n"
     ]
    },
    {
     "name": "stderr",
     "output_type": "stream",
     "text": [
      "100%|████████████████████████████████████████████████████████████████| 44/44 [00:09<00:00,  4.46it/s]\n"
     ]
    },
    {
     "name": "stdout",
     "output_type": "stream",
     "text": [
      "6.811521(49)  \n",
      "#################################################################################\n",
      "# emb_model_update = 1 | -ve_method = all | dist_metric = euclidean | topk = 10 #\n",
      "#################################################################################\n",
      "╒════╤═════════╤═══════════╤═════════════════╤════════════════╤════════════════╤═════════════════╤════════════════╤════════════════╤═════════════════════════╕\n",
      "│    │    rmse │   cos_sim │   euc_rank_mean │   euc_rank_std │   euc_rank_tot │   cos_rank_mean │   cos_rank_std │   cos_rank_tot │ time(epoch_start-now)   │\n",
      "╞════╪═════════╪═══════════╪═════════════════╪════════════════╪════════════════╪═════════════════╪════════════════╪════════════════╪═════════════════════════╡\n",
      "│ 49 │ 4.76427 │  0.730611 │         102.987 │        280.791 │        278.368 │         91.3098 │        262.799 │        278.368 │ 6.91 min                │\n",
      "╘════╧═════════╧═══════════╧═════════════════╧════════════════╧════════════════╧═════════════════╧════════════════╧════════════════╧═════════════════════════╛\n",
      "\n"
     ]
    },
    {
     "name": "stderr",
     "output_type": "stream",
     "text": [
      "100%|████████████████████████████████████████████████████████████████| 44/44 [00:08<00:00,  5.13it/s]\n"
     ]
    },
    {
     "name": "stdout",
     "output_type": "stream",
     "text": [
      "7.451732(50)  \n",
      "#################################################################################\n",
      "# emb_model_update = 1 | -ve_method = all | dist_metric = euclidean | topk = 10 #\n",
      "#################################################################################\n",
      "╒════╤═════════╤═══════════╤═════════════════╤════════════════╤════════════════╤═════════════════╤════════════════╤════════════════╤═════════════════════════╕\n",
      "│    │    rmse │   cos_sim │   euc_rank_mean │   euc_rank_std │   euc_rank_tot │   cos_rank_mean │   cos_rank_std │   cos_rank_tot │ time(epoch_start-now)   │\n",
      "╞════╪═════════╪═══════════╪═════════════════╪════════════════╪════════════════╪═════════════════╪════════════════╪════════════════╪═════════════════════════╡\n",
      "│ 50 │ 4.85009 │  0.724993 │         102.869 │        279.539 │        278.368 │         90.8565 │        260.951 │        278.368 │ 6.30 min                │\n",
      "╘════╧═════════╧═══════════╧═════════════════╧════════════════╧════════════════╧═════════════════╧════════════════╧════════════════╧═════════════════════════╛\n",
      "\n"
     ]
    },
    {
     "name": "stderr",
     "output_type": "stream",
     "text": [
      "100%|████████████████████████████████████████████████████████████████| 44/44 [00:04<00:00,  9.10it/s]\n"
     ]
    },
    {
     "data": {
      "image/png": "[encoded data removed]",
      "text/plain": [
       "<Figure size 800x800 with 1 Axes>"
      ]
     },
     "metadata": {},
     "output_type": "display_data"
    }
   ],
   "source": [
    "lr = 1e-3\n",
    "epochs = 50\n",
    "batch_size = 128\n",
    "\n",
    "\n",
    "for distance_metric, negative_method, topk, emb_model_update in itertools.product([\"euclidean\"], [\"all\"], [10], [1]):\n",
    "    print(\"@\"*190)\n",
    "    print(\"@\"*190)\n",
    "    print(\"@\"*190)\n",
    "    \n",
    "    best_rank = 10000\n",
    "    best_model = None\n",
    "    \n",
    "    model = PolicyNetwork().to(device)\n",
    "    embedding_model = torch.load(\"models/zinc2m_gin.pth\").to(device)\n",
    "    optimizer = torch.optim.Adam(model.parameters(), lr=lr)  \n",
    "    criterion = WeightedRegularizedTriplet()\n",
    "    \n",
    "    action_embeddings = get_action_dataset_embeddings(embedding_model)\n",
    "    action_embeddings_norm = torch.linalg.norm(action_embeddings, axis=1)\n",
    "    \n",
    "    metric_dict = {\"cos_rank_mean\": [], \"euc_rank_mean\": [], \"cos_rank_std\": [], \"euc_rank_std\": [], \n",
    "                   \"cos_rank_tot\": [], \"euc_rank_tot\": [], \"rmse\": [], \"cos_sim\": [], \"time(epoch_start-now)\": []}\n",
    "    # Train the model\n",
    "    for epoch in range(1, epochs+1):\n",
    "        start_time = time.time()\n",
    "        model.train()\n",
    "        for i in range(0, train_reactants.batch_size - batch_size, batch_size):\n",
    "            # Forward pass\n",
    "            outputs = model(train_reactants[i:i+batch_size], train_products[i:i+batch_size])\n",
    "\n",
    "            # Calc negatives\n",
    "            negatives = []\n",
    "            \n",
    "            for _i in range(outputs.shape[0]):\n",
    "                curr_out = outputs[_i].detach()\n",
    "\n",
    "                if negative_method == \"applicable\":\n",
    "                    act_emb_for_i, correct_applicable_index = action_embeddings[action_embedding_indices[train_idx[i+_i]]], correct_applicable_indices[train_idx[i+_i]]\n",
    "                    top = get_top_k_indices(curr_out, act_emb_for_i, correct_applicable_index, distance=distance_metric, k=50)\n",
    "                    negatives.append(act_emb_for_i[top])\n",
    "                \n",
    "                elif negative_method == \"all\":\n",
    "                    correct_action_dataset_index = correct_action_dataset_indices[train_idx[i+_i]]\n",
    "                    if distance_metric == \"euclidean\":\n",
    "                        dist = torch.linalg.norm(action_embeddings - curr_out, axis=1)\n",
    "                    elif distance_metric == \"cosine\":\n",
    "                        dist = (1 - action_embeddings.dot(curr_out)) / (action_embeddings_norm *torch.linalg.norm(curr_out))\n",
    "                    sorted_idx = torch.argsort(dist)[:topk] # get topk\n",
    "                    sorted_idx = sorted_idx[sorted_idx != correct_action_dataset_index] # Remove if correct index in list\n",
    "                    negatives.append(action_embeddings[sorted_idx])\n",
    "                        \n",
    "            negatives = torch.Tensor(torch.concatenate(negatives, axis=0)).to(device)\n",
    "                                \n",
    "            # get targets\n",
    "            targets = torch.Tensor(get_action_embedding(embedding_model, main_df.iloc[i:i+batch_size][main_df.columns[1:-1]])).to(device)\n",
    "                                \n",
    "            # Calc loss\n",
    "            inputs = torch.concat([outputs, targets, negatives])\n",
    "            labels = torch.concat([torch.arange(outputs.shape[0]), torch.arange(targets.shape[0]), torch.full((negatives.shape[0],), -1)]).to(device)\n",
    "            loss = criterion(inputs, labels)\n",
    "\n",
    "            # Backward and optimize\n",
    "            optimizer.zero_grad()\n",
    "            loss.backward()\n",
    "            optimizer.step()\n",
    "\n",
    "        print ('{:.6f}({})'.format(loss.item(), epoch), end='  ')\n",
    "        \n",
    "        # SWITCH INDENT HERE ----\n",
    "        model.eval()\n",
    "        with torch.no_grad():\n",
    "            print()\n",
    "\n",
    "            margin_string = f\"# emb_model_update = {emb_model_update} | -ve_method = {negative_method} | dist_metric = {distance_metric} | topk = {topk} #\"\n",
    "            print(\"#\" * len(margin_string))\n",
    "            print(margin_string)\n",
    "            print(\"#\" * len(margin_string))\n",
    "\n",
    "            # Predictions and action component-wise loss\n",
    "            pred = torch.concatenate([model(test_reactants[i:i+batch_size], test_products[i:i+batch_size]).detach() for i in range(0, test_reactants.batch_size-batch_size, batch_size)], axis=0)\n",
    "            true = get_action_embedding(embedding_model, main_df.iloc[test_idx][main_df.columns[1:-1]])[:pred.shape[0]]\n",
    "\n",
    "            metric_df = pd.DataFrame(columns=[\"rmse\", \"cos_sim\", \"euc_rank_mean\", \"euc_rank_std\", \"euc_rank_tot\", \"cos_rank_mean\", \"cos_rank_std\", \"cos_rank_tot\", \"time(epoch_start-now)\"])\n",
    "\n",
    "            # Print Test metrics\n",
    "            metric_dict[\"rmse\"].append( (((pred-true)**2).sum(axis=1)**0.5).mean().item() )\n",
    "            metric_dict[\"cos_sim\"].append( ((pred*true).sum(axis=1) / torch.linalg.norm(pred, axis=1) / torch.linalg.norm(true, axis=1)).mean().item() )\n",
    "\n",
    "            # Print Test metric - Rank\n",
    "            for dist in [\"euclidean\", \"cosine\"]:\n",
    "                rank_list = []\n",
    "                l = []\n",
    "                total = []\n",
    "                for i in range(pred.shape[0]):\n",
    "                    pred_for_i = pred[i]\n",
    "                    act_emb_for_i, correct_applicable_index = action_embeddings[action_embedding_indices[test_idx[i]]], correct_applicable_indices[test_idx[i]]\n",
    "\n",
    "                    rank, list_of_indices = get_ranking(pred_for_i, act_emb_for_i, correct_applicable_index, distance=dist)\n",
    "                    l.append(rank.item())\n",
    "                    total.append(act_emb_for_i.shape[0])\n",
    "                rank_list.append(f\"{np.mean(l):.4f}({np.mean(total)}) +- {np.std(l):.4f}\")\n",
    "                metric_dict[f\"{dist[:3]}_rank_mean\"].append(np.mean(l))\n",
    "                metric_dict[f\"{dist[:3]}_rank_std\"].append(np.std(l))\n",
    "                metric_dict[f\"{dist[:3]}_rank_tot\"].append(np.mean(total))\n",
    "\n",
    "            metric_dict[\"time(epoch_start-now)\"].append(f\"{(time.time()-start_time)/60:.2f} min\")\n",
    "            for col in metric_df.columns:\n",
    "                metric_df[col] = [metric_dict[col][-1]]\n",
    "            metric_df.index = [epoch]\n",
    "            print(tabulate(metric_df, headers='keys', tablefmt='fancy_grid'))\n",
    "            print()\n",
    "            \n",
    "        # Update embedding model and action_embeddings\n",
    "        if epoch % emb_model_update == 0:\n",
    "            embedding_model.load_state_dict(model.GIN.state_dict())\n",
    "            action_embeddings = get_action_dataset_embeddings(embedding_model)\n",
    "            action_embeddings_norm = torch.linalg.norm(action_embeddings, axis=1)\n",
    "\n",
    "        # Update best model\n",
    "        if metric_dict[\"euc_rank_mean\"][-1] < best_rank:\n",
    "            best_rank = metric_dict[\"euc_rank_mean\"][-1]\n",
    "            best_model = type(model)()\n",
    "            best_model.load_state_dict(model.state_dict())\n",
    "            best_epoch = epoch\n",
    "            print(f\"BEST MODEL UPDATED! BEST RANK = {best_rank}\")\n",
    "            \n",
    "    fig = plt.figure(figsize=(8, 8))\n",
    "    for dist in filter(lambda x: \"mean\" in x, metric_dict.keys()):\n",
    "        plt.plot(metric_dict[dist], label=dist)\n",
    "    plt.title(\"Ranks\")\n",
    "    plt.xlabel(\"epoch\")\n",
    "    plt.ylabel(\"ranking\")\n",
    "    plt.legend()\n",
    "    fig.show()\n",
    "    \n",
    "    # save everything\n",
    "    folder = f\"models/supervised/actor/{steps}step/emb_model_update={emb_model_update}||-ve_method={negative_method}||dist_metric={distance_metric}||topk={topk}\"\n",
    "    os.makedirs(folder, exist_ok = True)\n",
    "    torch.save(model, os.path.join(folder, \"model.pth\"))\n",
    "    pd.DataFrame.from_dict(metric_dict).to_csv(os.path.join(folder, \"metrics.csv\"))\n",
    "    fig.savefig(os.path.join(folder, \"plot.png\"))\n",
    "    json.dump({\n",
    "        \"lr\": lr,\n",
    "        \"epochs\": epochs, \n",
    "        \"batch_size\": batch_size,\n",
    "        \"train_samples\": train_idx.shape,\n",
    "        \"test_samples\": test_idx.shape,\n",
    "        \"distance_metric\": distance_metric,\n",
    "        \"negative_method\": negative_method,\n",
    "        \"topk\": topk,\n",
    "        \"emb_model_update\": emb_model_update,\n",
    "        \"best_epoch\": best_epoch,\n",
    "        \"best_rank\": best_rank\n",
    "    }, open(os.path.join(folder, \"config.txt\"), 'w'))"
   ]
  },
  {
   "cell_type": "code",
   "execution_count": null,
   "id": "6b39caeb",
   "metadata": {},
   "outputs": [],
   "source": []
  }
 ],
 "metadata": {
  "kernelspec": {
   "display_name": "Python 3 (ipykernel)",
   "language": "python",
   "name": "python3"
  },
  "language_info": {
   "codemirror_mode": {
    "name": "ipython",
    "version": 3
   },
   "file_extension": ".py",
   "mimetype": "text/x-python",
   "name": "python",
   "nbconvert_exporter": "python",
   "pygments_lexer": "ipython3",
   "version": "3.7.16"
  }
 },
 "nbformat": 4,
 "nbformat_minor": 5
}
