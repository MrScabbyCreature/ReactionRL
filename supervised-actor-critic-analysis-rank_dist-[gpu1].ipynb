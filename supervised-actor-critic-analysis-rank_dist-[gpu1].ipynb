{
 "cells": [
  {
   "cell_type": "code",
   "execution_count": 1,
   "id": "c1cfa57a",
   "metadata": {
    "tags": []
   },
   "outputs": [],
   "source": [
    "import os\n",
    "os.environ[\"MAIN_DIR\"] = \"\""
   ]
  },
  {
   "cell_type": "code",
   "execution_count": 2,
   "id": "f862867f",
   "metadata": {
    "tags": []
   },
   "outputs": [],
   "source": [
    "from rdkit import Chem\n",
    "import pickle\n",
    "import pandas as pd\n",
    "from IPython.display import display\n",
    "from matplotlib import pyplot as plt\n",
    "import tqdm\n",
    "import itertools\n",
    "from tabulate import tabulate\n",
    "import io, base64\n",
    "from PIL import Image\n",
    "\n",
    "from action_utils import *"
   ]
  },
  {
   "cell_type": "code",
   "execution_count": 3,
   "id": "d6b2e6e7",
   "metadata": {},
   "outputs": [],
   "source": [
    "from torchdrug import data"
   ]
  },
  {
   "cell_type": "markdown",
   "id": "815d48f9",
   "metadata": {},
   "source": [
    "# Data"
   ]
  },
  {
   "cell_type": "code",
   "execution_count": 6,
   "id": "536ae7f8",
   "metadata": {
    "tags": []
   },
   "outputs": [],
   "source": [
    "start_mols = pickle.load(open(\"datasets/my_uspto/unique_start_mols.pickle\", 'rb'))"
   ]
  },
  {
   "cell_type": "code",
   "execution_count": 38,
   "id": "660f7320",
   "metadata": {
    "scrolled": true,
    "tags": []
   },
   "outputs": [
    {
     "name": "stderr",
     "output_type": "stream",
     "text": [
      "10302it [00:27, 373.17it/s]                                                                          \n"
     ]
    },
    {
     "name": "stdout",
     "output_type": "stream",
     "text": [
      "(10302, 10)\n"
     ]
    }
   ],
   "source": [
    "from multiprocessing import Pool\n",
    "import time\n",
    "\n",
    "main_df = pd.DataFrame(columns=['reactant', 'rsub', 'rcen', 'rsig', 'rsig_cs_indices', 'psub', 'pcen', 'psig', 'psig_cs_indices', 'product'])\n",
    "N = 10000\n",
    "np.random.seed(42)\n",
    "steps = 1\n",
    "\n",
    "def generate_train_data(smile):\n",
    "    mol = Chem.MolFromSmiles(smile)\n",
    "\n",
    "    df = pd.DataFrame(columns=['reactant', 'rsub', 'rcen', 'rsig', 'rsig_cs_indices', 'psub', 'pcen', 'psig', 'psig_cs_indices', 'product'])\n",
    "    index = []\n",
    "    \n",
    "    # Get sequences\n",
    "    try:\n",
    "        for i in range(steps):\n",
    "            actions = get_applicable_actions(mol)\n",
    "            if actions.shape[0] == 0:\n",
    "                break\n",
    "\n",
    "            # Apply a random action\n",
    "            rand_idx = np.random.randint(0, actions.shape[0])\n",
    "            product = apply_action(mol, *actions.iloc[rand_idx])\n",
    "\n",
    "            # Add it to df\n",
    "            df.loc[df.shape[0], :] = [Chem.MolToSmiles(mol)] + actions.iloc[rand_idx].tolist() + [Chem.MolToSmiles(product)]\n",
    "            index.append(actions.iloc[rand_idx].name)\n",
    "\n",
    "            # Next reactant = product\n",
    "            mol = product\n",
    "    except Exception as e:\n",
    "        return pd.DataFrame(columns=['reactant', 'rsub', 'rcen', 'rsig', 'rsig_cs_indices', 'psub', 'pcen', 'psig', 'psig_cs_indices', 'product'])\n",
    "    \n",
    "    # Fix index\n",
    "    df.index = index\n",
    "    \n",
    "    # Make combinations for multi-step possibilities of source-->target\n",
    "    for i in range(df.shape[0]-1, 0, -1):\n",
    "        new_df = df.iloc[:i].copy()\n",
    "        new_df[\"product\"] = df.iloc[i][\"product\"]\n",
    "        df = pd.concat([df, new_df])\n",
    "        \n",
    "    return df\n",
    "\n",
    "df_list = []\n",
    "final_shape = 0\n",
    "# Create dataset for 1 step pred\n",
    "with Pool(30) as p, tqdm.tqdm(total=N) as pbar:\n",
    "    while final_shape < N:\n",
    "        smiles = np.random.choice(start_mols, size=(1000,))\n",
    "\n",
    "        for new_df in p.imap_unordered(generate_train_data, smiles, chunksize=10):\n",
    "            df_list.append(new_df)\n",
    "            final_shape += new_df.shape[0]\n",
    "\n",
    "        pbar.update(final_shape - pbar.n)\n",
    "\n",
    "main_df = pd.concat(df_list)\n",
    "del df_list\n",
    "print(main_df.shape)\n"
   ]
  },
  {
   "cell_type": "markdown",
   "id": "0bae1c12",
   "metadata": {},
   "source": [
    "# Helper functions"
   ]
  },
  {
   "cell_type": "code",
   "execution_count": 40,
   "id": "ef4980e4",
   "metadata": {},
   "outputs": [],
   "source": [
    "def molecule_from_smile(smile):\n",
    "    try:\n",
    "        mol = data.Molecule.from_smiles(smile, atom_feature=\"pretrain\", bond_feature=\"pretrain\")\n",
    "    except Exception as e:\n",
    "        mol = data.Molecule.from_smiles(smile, atom_feature=\"pretrain\", bond_feature=\"pretrain\", with_hydrogen=True)\n",
    "    return mol\n",
    "\n",
    "def get_mol_embedding(model, smiles):\n",
    "    # deepchem - attribute masking\n",
    "    if isinstance(smiles, str):\n",
    "        mol = molecule_from_smile(smiles)\n",
    "    elif isinstance(smiles, list) or isinstance(smiles, pd.Series):\n",
    "        mol = list(map(molecule_from_smile, smiles))\n",
    "        mol = data.Molecule.pack(mol)\n",
    "    else:\n",
    "        mol = smiles\n",
    "    mol = mol.to(device)\n",
    "    emb = model(mol, mol.node_feature.float())[\"graph_feature\"]\n",
    "    return emb.detach()\n",
    "\n",
    "def get_atom_embedding(model, smiles, idx):\n",
    "    try:\n",
    "        mol = data.Molecule.from_smiles(smiles, atom_feature=\"pretrain\", bond_feature=\"pretrain\")\n",
    "        emb = model(mol, mol.node_feature.float())[\"node_feature\"][idx]\n",
    "    except Exception as e:\n",
    "        mol = data.Molecule.from_smiles(smiles, atom_feature=\"pretrain\", bond_feature=\"pretrain\", with_hydrogen=True)\n",
    "        emb = model(mol, mol.node_feature.float())[\"node_feature\"][idx]\n",
    "    return emb.detach()\n",
    "\n",
    "def get_action_embedding(model, action_df):\n",
    "    rsub, rcen, rsig, _, psub, pcen, psig, __ = [action_df[c] for c in action_df.columns]\n",
    "    embedding = torch.concatenate([\n",
    "                        get_mol_embedding(model, rsig), \n",
    "                        get_mol_embedding(model, psig)\n",
    "                    ], axis=1)\n",
    "    return embedding\n",
    "\n",
    "def get_action_embedding_from_packed_molecule(model, rsig, psig):\n",
    "    embedding = torch.concatenate([\n",
    "                            get_mol_embedding(model, rsig), \n",
    "                           get_mol_embedding(model, psig)\n",
    "                    ], axis=1)\n",
    "    return embedding"
   ]
  },
  {
   "cell_type": "markdown",
   "id": "6d10180f",
   "metadata": {},
   "source": [
    "# Load models"
   ]
  },
  {
   "cell_type": "code",
   "execution_count": 41,
   "id": "c3e1a52c",
   "metadata": {},
   "outputs": [],
   "source": [
    "import torch\n",
    "import torch.nn as nn\n",
    "import torch.optim as optim"
   ]
  },
  {
   "cell_type": "code",
   "execution_count": 42,
   "id": "3432cfc9",
   "metadata": {
    "tags": []
   },
   "outputs": [],
   "source": [
    "device = torch.device(\"cuda:1\" if torch.cuda.is_available() else \"cpu\")"
   ]
  },
  {
   "cell_type": "code",
   "execution_count": 43,
   "id": "131d5621",
   "metadata": {},
   "outputs": [],
   "source": [
    "%matplotlib inline\n",
    "class NeuralNet(nn.Module):\n",
    "    def __init__(self, input_size, output_size, num_hidden=1, hidden_size=50):\n",
    "        super(NeuralNet, self).__init__()\n",
    "        self.fc1 = nn.Linear(input_size, hidden_size)\n",
    "        self.bn1 = nn.BatchNorm1d(hidden_size)\n",
    "        self.relu = nn.ReLU()\n",
    "        self.hidden_layers = nn.ModuleList()\n",
    "        for i in range(num_hidden):\n",
    "            self.hidden_layers.append(nn.Linear(hidden_size, hidden_size))\n",
    "            self.hidden_layers.append(nn.BatchNorm1d(hidden_size))\n",
    "            self.hidden_layers.append(nn.ReLU())\n",
    "            \n",
    "        self.last_layer = nn.Linear(hidden_size, output_size)\n",
    "    \n",
    "    def forward(self, x):\n",
    "        out = self.fc1(x)\n",
    "        out = self.bn1(out)\n",
    "        out = self.relu(out)\n",
    "        for layer in self.hidden_layers:\n",
    "            out = layer(out)\n",
    "        out = self.last_layer(out)\n",
    "        return out\n",
    "\n",
    "class PolicyNetwork(nn.Module):\n",
    "    def __init__(self):\n",
    "        super(PolicyNetwork, self).__init__()\n",
    "        self.GIN = torch.load(\"models/zinc2m_gin.pth\")\n",
    "        self.DENSE = torch.load(\"datasets/my_uspto/supervised_zinc_gin/mse_model.pth\")\n",
    "    \n",
    "    def forward(self, x1, x2):\n",
    "        out1 = self.GIN(x1, x1.node_feature.float())[\"graph_feature\"]\n",
    "        out2 = self.GIN(x2, x2.node_feature.float())[\"graph_feature\"]\n",
    "        \n",
    "        out = torch.concatenate([out1, out2], axis=1)\n",
    "        out = self.DENSE(out)\n",
    "        return out\n",
    "\n",
    "class CriticNetwork(nn.Module):\n",
    "    def __init__(self):\n",
    "        super(CriticNetwork, self).__init__()\n",
    "        self.GIN = torch.load(\"models/zinc2m_gin.pth\")\n",
    "        self.DENSE = NeuralNet(self.GIN.output_dim*4, 1, num_hidden=2, hidden_size=256).to(device)\n",
    "    \n",
    "    def forward(self, x1, x2, x3, x4):\n",
    "        out1 = self.GIN(x1, x1.node_feature.float())[\"graph_feature\"]\n",
    "        out2 = self.GIN(x2, x2.node_feature.float())[\"graph_feature\"]\n",
    "        out3 = self.GIN(x3, x3.node_feature.float())[\"graph_feature\"]\n",
    "        out4 = self.GIN(x4, x4.node_feature.float())[\"graph_feature\"]\n",
    "        \n",
    "        out = torch.concatenate([out1, out2, out3, out4], axis=1)\n",
    "        out = self.DENSE(out)\n",
    "        return out\n",
    "    \n",
    "class ActorCritic(nn.Module):\n",
    "    def __init__(self):\n",
    "        super(ActorCritic, self).__init__()\n",
    "        self.GIN = torch.load(\"models/zinc2m_gin.pth\")\n",
    "        self.actor = NeuralNet(self.GIN.output_dim*2, self.GIN.output_dim*2, num_hidden=3, hidden_size=500)\n",
    "        self.critic = NeuralNet(self.GIN.output_dim*4, 1, num_hidden=2, hidden_size=256)\n",
    "    \n",
    "    def forward(self, reac, prod, rsig, psig, out_type=\"both\"):\n",
    "        '''\n",
    "        If out_type=\"actor\", returns actions\n",
    "        If out_type=\"critic\", returns q_value\n",
    "        If out_type=\"both\", returns [actions, q_value]\n",
    "        '''\n",
    "        reac_out = self.GIN(reac, reac.node_feature.float())[\"graph_feature\"]\n",
    "        prod_out = self.GIN(prod, prod.node_feature.float())[\"graph_feature\"]\n",
    "    \n",
    "        output = []\n",
    "        if out_type in [\"both\", \"actor\"]:\n",
    "            output.append(self.actor(torch.concatenate([reac_out, prod_out], axis=1)))\n",
    "\n",
    "        if out_type in [\"both\", \"critic\"]:\n",
    "            psig_out = self.GIN(psig, psig.node_feature.float())[\"graph_feature\"]\n",
    "            rsig_out = self.GIN(rsig, rsig.node_feature.float())[\"graph_feature\"]\n",
    "            output.append(self.critic(torch.concatenate([reac_out, prod_out, rsig_out, psig_out], axis=1)))\n",
    "        \n",
    "        if len(output) == 1:\n",
    "            return output[0]\n",
    "        return output"
   ]
  },
  {
   "cell_type": "markdown",
   "id": "1476620e",
   "metadata": {},
   "source": [
    "# Action dataset"
   ]
  },
  {
   "cell_type": "code",
   "execution_count": 44,
   "id": "920f6e40",
   "metadata": {},
   "outputs": [
    {
     "name": "stdout",
     "output_type": "stream",
     "text": [
      "(89384, 8)\n"
     ]
    }
   ],
   "source": [
    "action_dataset = pd.read_csv(\"datasets/my_uspto/action_dataset-filtered.csv\", index_col=0)\n",
    "action_dataset = action_dataset.loc[action_dataset[\"action_tested\"] & action_dataset[\"action_works\"]]\n",
    "action_dataset = action_dataset[[\"rsub\", \"rcen\", \"rsig\", \"rbond\", \"psub\", \"pcen\", \"psig\", \"pbond\"]]\n",
    "print(action_dataset.shape)\n",
    "\n",
    "action_emb_batch_size = 2**10\n",
    "def get_action_dataset_embeddings(model):\n",
    "    action_embeddings = []\n",
    "    for i in tqdm.tqdm(range(0, action_dataset.shape[0], action_emb_batch_size)):\n",
    "        action_embeddings.append(get_action_embedding(model, action_dataset.iloc[i:i+action_emb_batch_size]))\n",
    "    action_embeddings = torch.concatenate(action_embeddings)\n",
    "    return action_embeddings"
   ]
  },
  {
   "cell_type": "markdown",
   "id": "e29d8269",
   "metadata": {},
   "source": [
    "# Testing critic only"
   ]
  },
  {
   "cell_type": "markdown",
   "id": "dfe8e3b4",
   "metadata": {},
   "source": [
    "### 1 step"
   ]
  },
  {
   "cell_type": "code",
   "execution_count": null,
   "id": "80758a06",
   "metadata": {},
   "outputs": [],
   "source": [
    "%%time \n",
    "test_reactants = data.Molecule.pack(list(map(molecule_from_smile, main_df_dict[1][\"reactant\"]))).to(device)\n",
    "test_products = data.Molecule.pack(list(map(molecule_from_smile, main_df_dict[1][\"product\"]))).to(device)\n",
    "test_rsigs = data.Molecule.pack(list(map(molecule_from_smile, main_df_dict[1][\"rsig\"]))).to(device)\n",
    "test_psigs = data.Molecule.pack(list(map(molecule_from_smile, main_df_dict[1][\"psig\"]))).to(device)"
   ]
  },
  {
   "cell_type": "code",
   "execution_count": 107,
   "id": "347f372e",
   "metadata": {},
   "outputs": [
    {
     "name": "stdout",
     "output_type": "stream",
     "text": [
      "10302 10302 10302 10302\n"
     ]
    }
   ],
   "source": [
    "print(test_reactants.batch_size, test_products.batch_size, test_rsigs.batch_size, test_psigs.batch_size,)"
   ]
  },
  {
   "cell_type": "code",
   "execution_count": 46,
   "id": "49b9ea17",
   "metadata": {},
   "outputs": [],
   "source": [
    "critic_1step = torch.load(\"models/supervised/critic/1step.pth\").to(device)\n",
    "critic_1step.eval()\n",
    "pass"
   ]
  },
  {
   "cell_type": "code",
   "execution_count": 47,
   "id": "6fa5e1c8",
   "metadata": {},
   "outputs": [
    {
     "name": "stderr",
     "output_type": "stream",
     "text": [
      "  6%|███▋                                                             | 5/88 [00:13<03:25,  2.47s/it]/home/abhor/miniconda3/envs/de_novo/lib/python3.7/site-packages/torchdrug-0.2.0-py3.7.egg/torchdrug/data/feature.py:42: UserWarning: Unknown value `Li`\n",
      "  warnings.warn(\"Unknown value `%s`\" % x)\n",
      "/home/abhor/miniconda3/envs/de_novo/lib/python3.7/site-packages/torchdrug-0.2.0-py3.7.egg/torchdrug/data/feature.py:42: UserWarning: Unknown value `K`\n",
      "  warnings.warn(\"Unknown value `%s`\" % x)\n",
      " 47%|█████████████████████████████▊                                  | 41/88 [01:46<02:02,  2.61s/it]/home/abhor/miniconda3/envs/de_novo/lib/python3.7/site-packages/torchdrug-0.2.0-py3.7.egg/torchdrug/data/feature.py:42: UserWarning: Unknown value `Ga`\n",
      "  warnings.warn(\"Unknown value `%s`\" % x)\n",
      " 60%|██████████████████████████████████████▌                         | 53/88 [02:19<01:37,  2.79s/it]/home/abhor/miniconda3/envs/de_novo/lib/python3.7/site-packages/torchdrug-0.2.0-py3.7.egg/torchdrug/data/feature.py:42: UserWarning: Unknown value `As`\n",
      "  warnings.warn(\"Unknown value `%s`\" % x)\n",
      " 62%|████████████████████████████████████████                        | 55/88 [02:25<01:33,  2.85s/it]/home/abhor/miniconda3/envs/de_novo/lib/python3.7/site-packages/torchdrug-0.2.0-py3.7.egg/torchdrug/data/feature.py:42: UserWarning: Unknown value `Cr`\n",
      "  warnings.warn(\"Unknown value `%s`\" % x)\n",
      " 74%|███████████████████████████████████████████████▎                | 65/88 [02:56<01:10,  3.06s/it]/home/abhor/miniconda3/envs/de_novo/lib/python3.7/site-packages/torchdrug-0.2.0-py3.7.egg/torchdrug/data/feature.py:42: UserWarning: Unknown value `Cd`\n",
      "  warnings.warn(\"Unknown value `%s`\" % x)\n",
      " 81%|███████████████████████████████████████████████████▋            | 71/88 [03:14<00:49,  2.94s/it]/home/abhor/miniconda3/envs/de_novo/lib/python3.7/site-packages/torchdrug-0.2.0-py3.7.egg/torchdrug/data/feature.py:42: UserWarning: Unknown value `Na`\n",
      "  warnings.warn(\"Unknown value `%s`\" % x)\n",
      " 83%|█████████████████████████████████████████████████████           | 73/88 [03:20<00:46,  3.08s/it]/home/abhor/miniconda3/envs/de_novo/lib/python3.7/site-packages/torchdrug-0.2.0-py3.7.egg/torchdrug/data/feature.py:42: UserWarning: Unknown value `Ge`\n",
      "  warnings.warn(\"Unknown value `%s`\" % x)\n",
      " 85%|██████████████████████████████████████████████████████▌         | 75/88 [03:26<00:39,  3.04s/it]/home/abhor/miniconda3/envs/de_novo/lib/python3.7/site-packages/torchdrug-0.2.0-py3.7.egg/torchdrug/data/feature.py:42: UserWarning: Unknown value `Ti`\n",
      "  warnings.warn(\"Unknown value `%s`\" % x)\n",
      " 92%|██████████████████████████████████████████████████████████▉     | 81/88 [03:44<00:20,  2.94s/it]/home/abhor/miniconda3/envs/de_novo/lib/python3.7/site-packages/torchdrug-0.2.0-py3.7.egg/torchdrug/data/feature.py:42: UserWarning: Unknown value `Pt`\n",
      "  warnings.warn(\"Unknown value `%s`\" % x)\n",
      " 98%|██████████████████████████████████████████████████████████████▌ | 86/88 [04:00<00:06,  3.18s/it]/home/abhor/miniconda3/envs/de_novo/lib/python3.7/site-packages/torchdrug-0.2.0-py3.7.egg/torchdrug/data/feature.py:42: UserWarning: Unknown value `Pb`\n",
      "  warnings.warn(\"Unknown value `%s`\" % x)\n",
      "/home/abhor/miniconda3/envs/de_novo/lib/python3.7/site-packages/torchdrug-0.2.0-py3.7.egg/torchdrug/data/feature.py:42: UserWarning: Unknown value `Al`\n",
      "  warnings.warn(\"Unknown value `%s`\" % x)\n",
      "/home/abhor/miniconda3/envs/de_novo/lib/python3.7/site-packages/torchdrug-0.2.0-py3.7.egg/torchdrug/data/feature.py:42: UserWarning: Unknown value `Ru`\n",
      "  warnings.warn(\"Unknown value `%s`\" % x)\n",
      " 99%|███████████████████████████████████████████████████████████████▎| 87/88 [04:03<00:03,  3.16s/it]/home/abhor/miniconda3/envs/de_novo/lib/python3.7/site-packages/torchdrug-0.2.0-py3.7.egg/torchdrug/data/feature.py:42: UserWarning: Unknown value `Ta`\n",
      "  warnings.warn(\"Unknown value `%s`\" % x)\n",
      "100%|████████████████████████████████████████████████████████████████| 88/88 [04:04<00:00,  2.77s/it]\n"
     ]
    }
   ],
   "source": [
    "action_embeddings = get_action_dataset_embeddings(critic_1step.GIN)"
   ]
  },
  {
   "cell_type": "code",
   "execution_count": 53,
   "id": "fd10e1e6",
   "metadata": {},
   "outputs": [
    {
     "name": "stderr",
     "output_type": "stream",
     "text": [
      "  0%|                                                                      | 0/10302 [00:00<?, ?it/s]"
     ]
    },
    {
     "name": "stdout",
     "output_type": "stream",
     "text": [
      "1 Matches found!!!\n",
      "[CH2:0]=[CH:1][c:2]1[cH:3][n:4]2[n:5][cH:6][n:7][cH:8][c:9]2[c:10]1-[c:11]1[cH:12][cH:13][cH:14][cH:15][cH:16]1\n",
      "[CH2:0]=[CH:1][c:2]1[cH:3][n:4]2[n:5][cH:6][n:7][cH:8][c:9]2[c:10]1-[c:11]1[cH:12][cH:13][cH:14][cH:15][cH:16]1\n",
      "[CH2:0]=[CH:1][c:2]1[cH:3][n:4]2[n:5][cH:6][n:7][cH:8][c:9]2[c:10]1-[c:11]1[cH:12][cH:13][cH:14][cH:15][cH:16]1\n",
      "\n"
     ]
    },
    {
     "name": "stderr",
     "output_type": "stream",
     "text": [
      "\n"
     ]
    },
    {
     "ename": "AssertionError",
     "evalue": "WHAT!? 51138 vs 2",
     "output_type": "error",
     "traceback": [
      "\u001b[0;31m---------------------------------------------------------------------------\u001b[0m",
      "\u001b[0;31mAssertionError\u001b[0m                            Traceback (most recent call last)",
      "\u001b[0;32m/tmp/ipykernel_20278/1195801267.py\u001b[0m in \u001b[0;36m<module>\u001b[0;34m\u001b[0m\n\u001b[1;32m     35\u001b[0m     \u001b[0mcorrect_indices\u001b[0m\u001b[0;34m.\u001b[0m\u001b[0mappend\u001b[0m\u001b[0;34m(\u001b[0m\u001b[0mcorrect_idx\u001b[0m\u001b[0;34m)\u001b[0m\u001b[0;34m\u001b[0m\u001b[0;34m\u001b[0m\u001b[0m\n\u001b[1;32m     36\u001b[0m \u001b[0;34m\u001b[0m\u001b[0m\n\u001b[0;32m---> 37\u001b[0;31m     \u001b[0;32massert\u001b[0m \u001b[0mcorrect_indices\u001b[0m\u001b[0;34m[\u001b[0m\u001b[0;34m-\u001b[0m\u001b[0;36m1\u001b[0m\u001b[0;34m]\u001b[0m \u001b[0;34m<\u001b[0m \u001b[0mlen\u001b[0m\u001b[0;34m(\u001b[0m\u001b[0maction_embedding_indices\u001b[0m\u001b[0;34m[\u001b[0m\u001b[0;34m-\u001b[0m\u001b[0;36m1\u001b[0m\u001b[0;34m]\u001b[0m\u001b[0;34m)\u001b[0m\u001b[0;34m,\u001b[0m \u001b[0;34mf\"WHAT!? {correct_indices[-1]} vs {len(indices_used_for_data)}\"\u001b[0m\u001b[0;34m\u001b[0m\u001b[0;34m\u001b[0m\u001b[0m\n\u001b[0m",
      "\u001b[0;31mAssertionError\u001b[0m: WHAT!? 51138 vs 2"
     ]
    }
   ],
   "source": [
    "def get_emb_indices_and_correct_idx(row):\n",
    "    if isinstance(row, tuple): # For pandas iterrows\n",
    "        row = row[1]\n",
    "    \n",
    "    # Applicable indices\n",
    "    applicable_actions_df = get_applicable_actions(Chem.MolFromSmiles(row[\"reactant\"]))\n",
    "    if applicable_actions_df.shape[0] == 0:\n",
    "        # If there are no applicable actions detected (rdkit problems)\n",
    "        indices_used_for_data = np.where((action_dataset.index == row.name))[0]\n",
    "        correct_idx = 0\n",
    "    else:\n",
    "        indices_used_for_data = np.where(action_dataset.index.isin(applicable_actions_df.index))[0]\n",
    "        \n",
    "        # Correct index\n",
    "        applicable_actions_df = applicable_actions_df.loc[action_dataset.iloc[indices_used_for_data].index]\n",
    "        correct_idx = indices_used_for_data[(applicable_actions_df.index == row.name).argmax()]\n",
    "    \n",
    "    return indices_used_for_data, correct_idx\n",
    "\n",
    "# I'm storing as lists, so doing numpy operations for the elements\n",
    "correct_indices = []\n",
    "action_embedding_indices = []\n",
    "\n",
    "# for indices_used_for_data, correct_idx in tqdm.tqdm(map(get_emb_indices_and_correct_idx, main_df.iterrows()), total=main_df.shape[0]):\n",
    "# with Pool(20) as p:\n",
    "    # for indices_used_for_data, correct_idx in tqdm.tqdm(p.imap(get_emb_indices_and_correct_idx, main_df.iterrows(), chunksize=50), total=main_df.shape[0]):\n",
    "for row in tqdm.tqdm(main_df.iterrows(), total=main_df.shape[0]):\n",
    "    indices_used_for_data, correct_idx = get_emb_indices_and_correct_idx(row)\n",
    "    action_embedding_indices.append(indices_used_for_data)\n",
    "    correct_indices.append(correct_idx)"
   ]
  },
  {
   "cell_type": "code",
   "execution_count": 53,
   "id": "5591b325",
   "metadata": {},
   "outputs": [
    {
     "name": "stderr",
     "output_type": "stream",
     "text": [
      "100%|█████████████████████████████████████████████████████████| 10891/10891 [00:14<00:00, 757.52it/s]\n"
     ]
    }
   ],
   "source": [
    "# Make training data\n",
    "def make_data(args):\n",
    "    i, negative_topk = args\n",
    "    data = []\n",
    "    targets = []\n",
    "    act_emb_for_i, correct_index = action_embeddings[action_embedding_indices[i]], correct_indices[i]\n",
    "\n",
    "    # Positive\n",
    "    positive = act_emb_for_i[correct_index]\n",
    "\n",
    "    # Calc negatives\n",
    "    dist = torch.linalg.norm(action_embeddings - positive, axis=1)\n",
    "    sorted_idx = torch.argsort(dist)[:negative_topk] \n",
    "    sorted_idx = sorted_idx[sorted_idx != correct_index] # Remove correct index in list\n",
    "    \n",
    "    data = torch.Tensor([(i, correct_index)]+list(zip([i] * len(sorted_idx), sorted_idx)))\n",
    "    targets = [1] + [0] * len(sorted_idx)\n",
    "    return data, targets\n",
    "\n",
    "test_X = []\n",
    "test_Y = []\n",
    "start, end = 0, main_df.shape[0]\n",
    "for i in tqdm.tqdm(range(end)):\n",
    "    X, Y = make_data((i, 1)) \n",
    "    test_X.append(X)\n",
    "    test_Y.append(Y)"
   ]
  },
  {
   "cell_type": "code",
   "execution_count": 89,
   "id": "82bcc959",
   "metadata": {},
   "outputs": [
    {
     "data": {
      "text/plain": [
       "tensor([[0.0000e+00, 0.0000e+00],\n",
       "        [0.0000e+00, 8.7323e+04],\n",
       "        [1.0000e+00, 5.0000e+00],\n",
       "        [1.0000e+00, 8.9376e+04],\n",
       "        [2.0000e+00, 4.0000e+00],\n",
       "        [2.0000e+00, 3.7763e+04],\n",
       "        [3.0000e+00, 2.6200e+02],\n",
       "        [3.0000e+00, 5.4700e+02],\n",
       "        [4.0000e+00, 4.0000e+00],\n",
       "        [4.0000e+00, 3.7763e+04]])"
      ]
     },
     "execution_count": 89,
     "metadata": {},
     "output_type": "execute_result"
    }
   ],
   "source": [
    "test_X[0:10]"
   ]
  },
  {
   "cell_type": "code",
   "execution_count": 76,
   "id": "3b9e7f15",
   "metadata": {},
   "outputs": [
    {
     "data": {
      "text/plain": [
       "tensor([[0.0000e+00, 0.0000e+00],\n",
       "        [0.0000e+00, 8.7323e+04],\n",
       "        [1.0000e+00, 5.0000e+00],\n",
       "        ...,\n",
       "        [1.0889e+04, 4.2500e+02],\n",
       "        [1.0890e+04, 2.0000e+00],\n",
       "        [1.0890e+04, 8.3049e+04]])"
      ]
     },
     "execution_count": 76,
     "metadata": {},
     "output_type": "execute_result"
    }
   ],
   "source": [
    "test_X"
   ]
  },
  {
   "cell_type": "code",
   "execution_count": 93,
   "id": "4ed7818f",
   "metadata": {},
   "outputs": [
    {
     "name": "stdout",
     "output_type": "stream",
     "text": [
      "0 0\n",
      "[cH:0]1[cH:1][c:2](-[n:3]2[cH:4][c:5](-[c:6]3[cH:7][cH:8][cH:9][c:10]([NH2:11])[cH:12]3)[c:13]3[cH:14][cH:15][c:16](-[c:17]4[cH:18][cH:19][cH:20][cH:21][cH:22]4)[cH:23][c:24]23)[n:25][cH:26][n:27]1\n",
      "[CH3:0][O:1][N:2]([CH3:3])[C:4](=[O:5])[c:6]1[cH:7][cH:8][cH:9][n:10][cH:11]1\n",
      "\n",
      "1 5\n",
      "[CH3:0][CH2:1][S:2][C:3]([CH2:4][CH3:5])([CH:6]([F:7])[F:8])[S:9](=[O:10])[CH2:11][CH3:12]\n",
      "[CH3:0][O:1][N:2]([CH3:3])[C:4](=[O:5])[c:6]1[cH:7][cH:8][cH:9][n:10][cH:11]1\n",
      "\n",
      "2 4\n",
      "[CH3:0][c:1]1[cH:2][cH:3][cH:4][cH:5][cH:6]1\n",
      "[CH3:0][O:1][N:2]([CH3:3])[C:4](=[O:5])[c:6]1[cH:7][cH:8][cH:9][n:10][cH:11]1\n",
      "\n",
      "3 262\n",
      "[cH:0]1[cH:1][cH:2][cH:3][cH:4][c:5]1[Cl:6]\n",
      "[O:0]=[C:1]([OH:2])[c:3]1[cH:4][cH:5][cH:6][c:7]2[n:8][cH:9][cH:10][n:11]12\n",
      "\n",
      "4 4\n",
      "[CH3:0][c:1]1[cH:2][cH:3][cH:4][cH:5][cH:6]1\n",
      "[CH3:0][O:1][N:2]([CH3:3])[C:4](=[O:5])[c:6]1[cH:7][cH:8][cH:9][n:10][cH:11]1\n",
      "\n"
     ]
    }
   ],
   "source": [
    "for i, j in enumerate(test_X[0:10:2, 1]):\n",
    "    i, j = int(i), int(j)\n",
    "    print(i, j)\n",
    "    print(main_df.iloc[i][\"rsig\"])\n",
    "    print(action_dataset.iloc[j][\"rsig\"])\n",
    "    print()\n"
   ]
  },
  {
   "cell_type": "code",
   "execution_count": null,
   "id": "d852580c",
   "metadata": {},
   "outputs": [],
   "source": [
    "%%time\n",
    "test_X = torch.concatenate(test_X, axis=0)\n",
    "test_reactants = data.Molecule.pack(list(map(molecule_from_smile, main_df.iloc[test_X[:, 0]][\"reactant\"])))\n",
    "test_products = data.Molecule.pack(list(map(molecule_from_smile, main_df.iloc[test_X[:, 0]][\"product\"])))\n",
    "test_rsigs = data.Molecule.pack(list(map(molecule_from_smile, action_dataset.iloc[test_X[:, 1]][\"rsig\"])))\n",
    "test_psigs = data.Molecule.pack(list(map(molecule_from_smile, action_dataset.iloc[test_X[:, 1]][\"psig\"])))"
   ]
  },
  {
   "cell_type": "code",
   "execution_count": 57,
   "id": "f409432f",
   "metadata": {},
   "outputs": [
    {
     "name": "stdout",
     "output_type": "stream",
     "text": [
      "21782 21782 21782 21782 torch.Size([21782, 1])\n"
     ]
    }
   ],
   "source": [
    "test_Y = torch.Tensor(test_Y).view(-1, 1)\n",
    "print(test_reactants.batch_size, test_products.batch_size, test_rsigs.batch_size, test_psigs.batch_size, test_Y.shape)"
   ]
  },
  {
   "cell_type": "code",
   "execution_count": 104,
   "id": "c1be0978",
   "metadata": {},
   "outputs": [
    {
     "name": "stderr",
     "output_type": "stream",
     "text": [
      "100%|████████████████████████████████████████████████████████████████| 10/10 [00:00<00:00, 15.26it/s]"
     ]
    },
    {
     "name": "stdout",
     "output_type": "stream",
     "text": [
      "torch.Size([10, 1])\n"
     ]
    },
    {
     "name": "stderr",
     "output_type": "stream",
     "text": [
      "\n"
     ]
    }
   ],
   "source": [
    "test_bs = 1024\n",
    "pred = []\n",
    "for pred_i in tqdm.tqdm(range(0, test_reactants.batch_size-test_bs, test_bs)):\n",
    "    temp_pred = critic_1step(test_reactants[pred_i: pred_i+test_bs][:1].to(device), \n",
    "                             test_products[pred_i: pred_i+test_bs][:1].to(device), \n",
    "                             test_rsigs[pred_i: pred_i+test_bs][:1].to(device), \n",
    "                             test_psigs[pred_i: pred_i+test_bs][:1].to(device))\n",
    "    pred.append(temp_pred.detach())\n",
    "\n",
    "pred = torch.concat(pred, axis=0)\n",
    "print(pred.shape)"
   ]
  },
  {
   "cell_type": "code",
   "execution_count": 109,
   "id": "9e553a08",
   "metadata": {},
   "outputs": [
    {
     "data": {
      "text/plain": [
       "tensor([[-0.0165],\n",
       "        [-0.0020],\n",
       "        [ 0.0044],\n",
       "        [ 0.0084],\n",
       "        [ 0.0118],\n",
       "        [ 0.0052],\n",
       "        [-0.0006],\n",
       "        [ 0.0004],\n",
       "        [ 0.0062],\n",
       "        [-0.0061]], device='cuda:1')"
      ]
     },
     "execution_count": 109,
     "metadata": {},
     "output_type": "execute_result"
    }
   ],
   "source": [
    "pred"
   ]
  },
  {
   "cell_type": "code",
   "execution_count": 105,
   "id": "cd1dc52b",
   "metadata": {},
   "outputs": [
    {
     "data": {
      "text/plain": [
       "(torch.Size([0]), torch.Size([10, 1]))"
      ]
     },
     "execution_count": 105,
     "metadata": {},
     "output_type": "execute_result"
    }
   ],
   "source": [
    "pred[pred>0.5].shape, pred.shape"
   ]
  },
  {
   "cell_type": "code",
   "execution_count": 106,
   "id": "3a4eccd5",
   "metadata": {},
   "outputs": [
    {
     "data": {
      "text/plain": [
       "tensor(0., device='cuda:1')"
      ]
     },
     "execution_count": 106,
     "metadata": {},
     "output_type": "execute_result"
    }
   ],
   "source": [
    "(pred[::2]>0.5).sum() / pred.shape[0]*2"
   ]
  },
  {
   "cell_type": "code",
   "execution_count": null,
   "id": "06db15c0",
   "metadata": {},
   "outputs": [],
   "source": []
  },
  {
   "cell_type": "code",
   "execution_count": null,
   "id": "680d0daf",
   "metadata": {},
   "outputs": [],
   "source": []
  },
  {
   "cell_type": "code",
   "execution_count": null,
   "id": "d4c9a988",
   "metadata": {},
   "outputs": [],
   "source": []
  },
  {
   "cell_type": "markdown",
   "id": "fa4c5b0d",
   "metadata": {},
   "source": [
    "# Analysis"
   ]
  },
  {
   "cell_type": "markdown",
   "id": "734f2e48",
   "metadata": {},
   "source": [
    "#### Rank distribution for end-to-end model "
   ]
  },
  {
   "cell_type": "code",
   "execution_count": 54,
   "id": "9c840a97",
   "metadata": {},
   "outputs": [
    {
     "name": "stdout",
     "output_type": "stream",
     "text": [
      "torch.Size([10000, 256])\n"
     ]
    }
   ],
   "source": [
    "# Model inputs\n",
    "reactant_mols = data.Molecule.pack(list(map(molecule_from_smile, main_df[\"reactant\"]))).to(device)\n",
    "\n",
    "product_mols = data.Molecule.pack(list(map(molecule_from_smile, main_df[\"product\"]))).to(device)\n",
    "\n",
    "# Prediction\n",
    "# bs = 5000\n",
    "pred = model_final(reactant_mols, product_mols).detach()\n",
    "# pred = model(reactant_mols[:bs], product_mols[:bs]).detach()\n",
    "# for i in range(bs, reactant_mols.batch_size, bs):\n",
    "#         pred = torch.concatenate([pred, model(reactant_mols[i:i+bs], product_mols[i:i+bs]).detach()], axis=0)\n",
    "#         torch.cuda.empty_cache() # Get rid of the pytorch graph (takes goes OOM otherwise)\n",
    "print(pred.shape)"
   ]
  },
  {
   "cell_type": "code",
   "execution_count": 55,
   "id": "1167263f",
   "metadata": {},
   "outputs": [
    {
     "name": "stderr",
     "output_type": "stream",
     "text": [
      "100%|██████████████████████████████████████████████████████████| 10000/10000 [14:58<00:00, 11.13it/s]\n"
     ]
    }
   ],
   "source": [
    "rank_list = []\n",
    "for i in tqdm.tqdm(range(main_df.shape[0])):\n",
    "    pred_for_i = pred[i]\n",
    "    act_emb_for_i, correct_index = action_embeddings_final[action_embedding_indices[i]], correct_indices[i]\n",
    "\n",
    "    rank, list_of_indices = get_ranking(pred_for_i, act_emb_for_i, correct_index, distance=\"euclidean\")\n",
    "    rank_list.append(rank)"
   ]
  },
  {
   "cell_type": "code",
   "execution_count": 56,
   "id": "39d1c72f",
   "metadata": {},
   "outputs": [
    {
     "data": {
      "image/png": "[encoded data removed]",
      "text/plain": [
       "<Figure size 640x480 with 1 Axes>"
      ]
     },
     "metadata": {},
     "output_type": "display_data"
    }
   ],
   "source": [
    "%matplotlib inline\n",
    "arr = np.sort(rank_list)\n",
    "\n",
    "plt.hist(arr[:int(arr.shape[0]*0.96)]+1, bins=100)\n",
    "plt.xlabel(\"Rank\")\n",
    "plt.ylabel(\"Counts\")\n",
    "plt.show()"
   ]
  },
  {
   "cell_type": "code",
   "execution_count": 57,
   "id": "6a707d8a",
   "metadata": {},
   "outputs": [
    {
     "data": {
      "text/plain": [
       "90.35"
      ]
     },
     "execution_count": 57,
     "metadata": {},
     "output_type": "execute_result"
    }
   ],
   "source": [
    "(arr <= 9).sum() / arr.shape[0] * 100"
   ]
  },
  {
   "cell_type": "code",
   "execution_count": 58,
   "id": "181909f6",
   "metadata": {},
   "outputs": [
    {
     "data": {
      "text/plain": [
       "83.32000000000001"
      ]
     },
     "execution_count": 58,
     "metadata": {},
     "output_type": "execute_result"
    }
   ],
   "source": [
    "(arr <= 4).sum() / arr.shape[0] * 100"
   ]
  },
  {
   "cell_type": "code",
   "execution_count": 59,
   "id": "8326af24",
   "metadata": {},
   "outputs": [
    {
     "data": {
      "text/plain": [
       "53.059999999999995"
      ]
     },
     "execution_count": 59,
     "metadata": {},
     "output_type": "execute_result"
    }
   ],
   "source": [
    "(arr <= 0).sum() / arr.shape[0] * 100"
   ]
  }
 ],
 "metadata": {
  "kernelspec": {
   "display_name": "Python 3 (ipykernel)",
   "language": "python",
   "name": "python3"
  },
  "language_info": {
   "codemirror_mode": {
    "name": "ipython",
    "version": 3
   },
   "file_extension": ".py",
   "mimetype": "text/x-python",
   "name": "python",
   "nbconvert_exporter": "python",
   "pygments_lexer": "ipython3",
   "version": "3.7.16"
  }
 },
 "nbformat": 4,
 "nbformat_minor": 5
}
