{
 "cells": [
  {
   "cell_type": "code",
   "execution_count": 1,
   "id": "c1cfa57a",
   "metadata": {
    "tags": []
   },
   "outputs": [],
   "source": [
    "%run supervised_functions.ipynb"
   ]
  },
  {
   "cell_type": "markdown",
   "id": "815d48f9",
   "metadata": {},
   "source": [
    "# Data"
   ]
  },
  {
   "cell_type": "markdown",
   "id": "771df01c",
   "metadata": {
    "tags": []
   },
   "source": [
    "start_mols = pickle.load(open(\"datasets/my_uspto/unique_start_mols.pickle\", 'rb'))\n",
    "\n",
    "np.random.seed(42)\n",
    "\n",
    "main_df_dict = {}\n",
    "for steps in [1, 2, 5]:\n",
    "    N = 20000\n",
    "\n",
    "    df_list = []\n",
    "    final_shape = 0\n",
    "    smiles_per_random_sample = 1000\n",
    "    pool_chunk_size = 10\n",
    "\n",
    "    # Create dataset for multi-step pred\n",
    "    with Pool(30) as p, tqdm.tqdm(total=N) as pbar:\n",
    "        while final_shape < N:\n",
    "            smiles = np.random.choice(start_mols, size=(smiles_per_random_sample,))\n",
    "\n",
    "            for new_df in p.imap_unordered(functools.partial(generate_train_data, steps=steps), smiles, chunksize=10):\n",
    "                df_list.append(new_df)\n",
    "                final_shape += new_df.shape[0]\n",
    "\n",
    "            pbar.update(final_shape - pbar.n)\n",
    "\n",
    "    main_df_dict[steps] = pd.concat(df_list)\n",
    "    print(main_df_dict[steps].shape)\n",
    "\n",
    "import pickle\n",
    "pickle.dump(main_df_dict, open(\"models/supervised/evaluation_dict.pickle\", 'wb'))"
   ]
  },
  {
   "cell_type": "code",
   "execution_count": 2,
   "id": "3b02390d",
   "metadata": {},
   "outputs": [],
   "source": [
    "import pickle\n",
    "main_df_dict = pickle.load(open(\"models/supervised/evaluation_dict.pickle\", 'rb'))"
   ]
  },
  {
   "cell_type": "code",
   "execution_count": 3,
   "id": "4933e706",
   "metadata": {},
   "outputs": [],
   "source": [
    "device = torch.device(\"cuda:0\" if torch.cuda.is_available() else \"cpu\")"
   ]
  },
  {
   "cell_type": "markdown",
   "id": "1476620e",
   "metadata": {},
   "source": [
    "### Action dataset"
   ]
  },
  {
   "cell_type": "code",
   "execution_count": 4,
   "id": "920f6e40",
   "metadata": {
    "scrolled": true
   },
   "outputs": [
    {
     "name": "stdout",
     "output_type": "stream",
     "text": [
      "(89384, 8)\n"
     ]
    },
    {
     "name": "stderr",
     "output_type": "stream",
     "text": [
      "/home/abhor/miniconda3/envs/de_novo/lib/python3.7/site-packages/torchdrug-0.2.0-py3.7.egg/torchdrug/data/feature.py:42: UserWarning: Unknown value `Li`\n",
      "  warnings.warn(\"Unknown value `%s`\" % x)\n",
      "/home/abhor/miniconda3/envs/de_novo/lib/python3.7/site-packages/torchdrug-0.2.0-py3.7.egg/torchdrug/data/feature.py:42: UserWarning: Unknown value `Ge`\n",
      "  warnings.warn(\"Unknown value `%s`\" % x)\n",
      "/home/abhor/miniconda3/envs/de_novo/lib/python3.7/site-packages/torchdrug-0.2.0-py3.7.egg/torchdrug/data/feature.py:42: UserWarning: Unknown value `K`\n",
      "  warnings.warn(\"Unknown value `%s`\" % x)\n",
      "/home/abhor/miniconda3/envs/de_novo/lib/python3.7/site-packages/torchdrug-0.2.0-py3.7.egg/torchdrug/data/feature.py:42: UserWarning: Unknown value `Na`\n",
      "  warnings.warn(\"Unknown value `%s`\" % x)\n",
      "/home/abhor/miniconda3/envs/de_novo/lib/python3.7/site-packages/torchdrug-0.2.0-py3.7.egg/torchdrug/data/feature.py:42: UserWarning: Unknown value `Ti`\n",
      "  warnings.warn(\"Unknown value `%s`\" % x)\n",
      "/home/abhor/miniconda3/envs/de_novo/lib/python3.7/site-packages/torchdrug-0.2.0-py3.7.egg/torchdrug/data/feature.py:42: UserWarning: Unknown value `Pb`\n",
      "  warnings.warn(\"Unknown value `%s`\" % x)\n",
      "/home/abhor/miniconda3/envs/de_novo/lib/python3.7/site-packages/torchdrug-0.2.0-py3.7.egg/torchdrug/data/feature.py:42: UserWarning: Unknown value `Al`\n",
      "  warnings.warn(\"Unknown value `%s`\" % x)\n",
      "/home/abhor/miniconda3/envs/de_novo/lib/python3.7/site-packages/torchdrug-0.2.0-py3.7.egg/torchdrug/data/feature.py:42: UserWarning: Unknown value `Ga`\n",
      "  warnings.warn(\"Unknown value `%s`\" % x)\n",
      "/home/abhor/miniconda3/envs/de_novo/lib/python3.7/site-packages/torchdrug-0.2.0-py3.7.egg/torchdrug/data/feature.py:42: UserWarning: Unknown value `Ru`\n",
      "  warnings.warn(\"Unknown value `%s`\" % x)\n",
      "/home/abhor/miniconda3/envs/de_novo/lib/python3.7/site-packages/torchdrug-0.2.0-py3.7.egg/torchdrug/data/feature.py:42: UserWarning: Unknown value `Ta`\n",
      "  warnings.warn(\"Unknown value `%s`\" % x)\n",
      "/home/abhor/miniconda3/envs/de_novo/lib/python3.7/site-packages/torchdrug-0.2.0-py3.7.egg/torchdrug/data/feature.py:42: UserWarning: Unknown value `As`\n",
      "  warnings.warn(\"Unknown value `%s`\" % x)\n",
      "/home/abhor/miniconda3/envs/de_novo/lib/python3.7/site-packages/torchdrug-0.2.0-py3.7.egg/torchdrug/data/feature.py:42: UserWarning: Unknown value `Cr`\n",
      "  warnings.warn(\"Unknown value `%s`\" % x)\n",
      "/home/abhor/miniconda3/envs/de_novo/lib/python3.7/site-packages/torchdrug-0.2.0-py3.7.egg/torchdrug/data/feature.py:42: UserWarning: Unknown value `Cd`\n",
      "  warnings.warn(\"Unknown value `%s`\" % x)\n",
      "/home/abhor/miniconda3/envs/de_novo/lib/python3.7/site-packages/torchdrug-0.2.0-py3.7.egg/torchdrug/data/feature.py:42: UserWarning: Unknown value `Pt`\n",
      "  warnings.warn(\"Unknown value `%s`\" % x)\n"
     ]
    }
   ],
   "source": [
    "action_dataset = pd.read_csv(\"datasets/my_uspto/action_dataset-filtered.csv\", index_col=0)\n",
    "action_dataset = action_dataset.loc[action_dataset[\"action_tested\"] & action_dataset[\"action_works\"]]\n",
    "action_dataset = action_dataset[[\"rsub\", \"rcen\", \"rsig\", \"rbond\", \"psub\", \"pcen\", \"psig\", \"pbond\"]]\n",
    "print(action_dataset.shape)\n",
    "\n",
    "action_rsigs = data.Molecule.pack(list(map(molecule_from_smile, action_dataset[\"rsig\"])))\n",
    "action_psigs = data.Molecule.pack(list(map(molecule_from_smile, action_dataset[\"psig\"])))"
   ]
  },
  {
   "cell_type": "markdown",
   "id": "0ca55a79",
   "metadata": {},
   "source": [
    "### Correct indices and applicable indices"
   ]
  },
  {
   "cell_type": "code",
   "execution_count": 5,
   "id": "8ecb1b63",
   "metadata": {},
   "outputs": [
    {
     "name": "stderr",
     "output_type": "stream",
     "text": [
      "100%|█████████████████████████████████████████████████████████| 20582/20582 [00:33<00:00, 614.06it/s]\n",
      "100%|█████████████████████████████████████████████████████████| 20690/20690 [00:37<00:00, 557.73it/s]\n",
      "100%|█████████████████████████████████████████████████████████| 21658/21658 [00:47<00:00, 458.98it/s]\n"
     ]
    }
   ],
   "source": [
    "# I'm storing as lists, so doing numpy operations for the elements\n",
    "correct_applicable_indices = {steps: [] for steps in [1, 2, 5]}\n",
    "correct_action_dataset_indices = {steps: [] for steps in [1, 2, 5]}\n",
    "action_embedding_indices = {steps: [] for steps in [1, 2, 5]}\n",
    "\n",
    "# for indices_used_for_data, correct_idx in tqdm.tqdm(map(get_emb_indices_and_correct_idx, main_df_dict[steps].iterrows()), total=main_df_dict[steps].shape[0]):\n",
    "for steps in [1, 2, 5]:\n",
    "    with Pool(20) as p:\n",
    "        for indices_used_for_data, correct_app_idx, correct_act_idx in tqdm.tqdm(p.imap(get_emb_indices_and_correct_idx, main_df_dict[steps].iterrows(), chunksize=50), total=main_df_dict[steps].shape[0]):\n",
    "            action_embedding_indices[steps].append(indices_used_for_data)\n",
    "            correct_applicable_indices[steps].append(correct_app_idx)\n",
    "            correct_action_dataset_indices[steps].append(correct_act_idx)"
   ]
  },
  {
   "cell_type": "markdown",
   "id": "538ea460",
   "metadata": {},
   "source": [
    "### Test data"
   ]
  },
  {
   "cell_type": "code",
   "execution_count": 6,
   "id": "ce8b3013",
   "metadata": {},
   "outputs": [
    {
     "name": "stdout",
     "output_type": "stream",
     "text": [
      "1 -- 20582 20582 20582 20582\n",
      "2 -- 20690 20690 20690 20690\n",
      "5 -- 21658 21658 21658 21658\n",
      "CPU times: user 6min 29s, sys: 8.26 s, total: 6min 37s\n",
      "Wall time: 5min 53s\n"
     ]
    }
   ],
   "source": [
    "%%time\n",
    "test_reactants = {steps: data.Molecule.pack(list(map(molecule_from_smile, main_df_dict[steps][\"reactant\"]))).to(device) for steps in [1, 2, 5]}\n",
    "test_products = {steps: data.Molecule.pack(list(map(molecule_from_smile, main_df_dict[steps][\"product\"]))).to(device) for steps in [1, 2, 5]}\n",
    "test_rsigs = {steps: data.Molecule.pack(list(map(molecule_from_smile, main_df_dict[steps][\"rsig\"]))).to(device) for steps in [1, 2, 5]}\n",
    "test_psigs = {steps: data.Molecule.pack(list(map(molecule_from_smile, main_df_dict[steps][\"psig\"]))).to(device) for steps in [1, 2, 5]}\n",
    "\n",
    "for steps in [1, 2, 5]:\n",
    "    print(steps, \"--\", test_reactants[steps].batch_size, test_products[steps].batch_size, test_rsigs[steps].batch_size, test_psigs[steps].batch_size)"
   ]
  },
  {
   "cell_type": "markdown",
   "id": "c1791c0f",
   "metadata": {},
   "source": [
    "### mse model"
   ]
  },
  {
   "cell_type": "code",
   "execution_count": 49,
   "id": "d54f71c3",
   "metadata": {},
   "outputs": [],
   "source": [
    "import glob\n",
    "\n",
    "model_name = \"models/zinc2m_gin.pth\"\n",
    "gin_model = torch.load(model_name).to(device)\n",
    "\n",
    "batch_size = 128\n",
    "def mse_model_stats(actor, steps):\n",
    "    pred = torch.concatenate([actor(torch.concatenate([get_mol_embedding(gin_model, test_reactants[steps][i:i+batch_size]), \n",
    "                                     get_mol_embedding(gin_model, test_products[steps][i:i+batch_size])], axis=1).detach()) for i in range(0, test_reactants[steps].batch_size-batch_size, batch_size)], axis=0)\n",
    "    \n",
    "    action_embeddings = get_action_dataset_embeddings(gin_model)\n",
    "\n",
    "    # Rank list\n",
    "    for dist in [\"euclidean\", \"cosine\"]:\n",
    "        rank_list = []\n",
    "        total = []\n",
    "        for i in range(pred.shape[0]):\n",
    "            pred_for_i = pred[i]\n",
    "            act_emb_for_i, correct_index = action_embeddings[action_embedding_indices[steps][i]], correct_applicable_indices[steps][i]\n",
    "\n",
    "            rank, list_of_indices = get_ranking(pred_for_i, act_emb_for_i, correct_index, distance=dist)\n",
    "            rank_list.append(rank.item())\n",
    "            total.append(act_emb_for_i.shape[0])\n",
    "        rl = np.sort(rank_list)\n",
    "\n",
    "        # print stats\n",
    "        df = pd.DataFrame({\n",
    "                                \"mean\": round(rl.mean(), 2),\n",
    "                                \"std\": round(rl.std(), 2),\n",
    "                                \"total\": round(np.mean(total), 2),\n",
    "                                \"<10 %\": round((rl <= 9).sum() / rl.shape[0] * 100, 2),\n",
    "                                \"<5 %\": round((rl <= 4).sum() / rl.shape[0] * 100, 2),\n",
    "                                \"<1 %\": round((rl <= 0).sum() / rl.shape[0] * 100, 2),\n",
    "                            }, index=[dist])\n",
    "        display(df)\n",
    "#         print(\"\\t\".join(list(map(str, df.values[0]))))"
   ]
  },
  {
   "cell_type": "code",
   "execution_count": 50,
   "id": "672c7c26",
   "metadata": {},
   "outputs": [
    {
     "name": "stdout",
     "output_type": "stream",
     "text": [
      "STEPS = 1\n"
     ]
    },
    {
     "name": "stderr",
     "output_type": "stream",
     "text": [
      "100%|████████████████████████████████████████████████████████████████| 44/44 [00:05<00:00,  8.79it/s]\n"
     ]
    },
    {
     "data": {
      "text/html": [
       "<div>\n",
       "<style scoped>\n",
       "    .dataframe tbody tr th:only-of-type {\n",
       "        vertical-align: middle;\n",
       "    }\n",
       "\n",
       "    .dataframe tbody tr th {\n",
       "        vertical-align: top;\n",
       "    }\n",
       "\n",
       "    .dataframe thead th {\n",
       "        text-align: right;\n",
       "    }\n",
       "</style>\n",
       "<table border=\"1\" class=\"dataframe\">\n",
       "  <thead>\n",
       "    <tr style=\"text-align: right;\">\n",
       "      <th></th>\n",
       "      <th>mean</th>\n",
       "      <th>std</th>\n",
       "      <th>total</th>\n",
       "      <th>&lt;10 %</th>\n",
       "      <th>&lt;5 %</th>\n",
       "      <th>&lt;1 %</th>\n",
       "    </tr>\n",
       "  </thead>\n",
       "  <tbody>\n",
       "    <tr>\n",
       "      <th>euclidean</th>\n",
       "      <td>16.01</td>\n",
       "      <td>115.48</td>\n",
       "      <td>431.14</td>\n",
       "      <td>88.73</td>\n",
       "      <td>83.25</td>\n",
       "      <td>60.35</td>\n",
       "    </tr>\n",
       "  </tbody>\n",
       "</table>\n",
       "</div>"
      ],
      "text/plain": [
       "            mean     std   total  <10 %   <5 %   <1 %\n",
       "euclidean  16.01  115.48  431.14  88.73  83.25  60.35"
      ]
     },
     "metadata": {},
     "output_type": "display_data"
    },
    {
     "data": {
      "text/html": [
       "<div>\n",
       "<style scoped>\n",
       "    .dataframe tbody tr th:only-of-type {\n",
       "        vertical-align: middle;\n",
       "    }\n",
       "\n",
       "    .dataframe tbody tr th {\n",
       "        vertical-align: top;\n",
       "    }\n",
       "\n",
       "    .dataframe thead th {\n",
       "        text-align: right;\n",
       "    }\n",
       "</style>\n",
       "<table border=\"1\" class=\"dataframe\">\n",
       "  <thead>\n",
       "    <tr style=\"text-align: right;\">\n",
       "      <th></th>\n",
       "      <th>mean</th>\n",
       "      <th>std</th>\n",
       "      <th>total</th>\n",
       "      <th>&lt;10 %</th>\n",
       "      <th>&lt;5 %</th>\n",
       "      <th>&lt;1 %</th>\n",
       "    </tr>\n",
       "  </thead>\n",
       "  <tbody>\n",
       "    <tr>\n",
       "      <th>cosine</th>\n",
       "      <td>13.3</td>\n",
       "      <td>94.85</td>\n",
       "      <td>431.14</td>\n",
       "      <td>90.04</td>\n",
       "      <td>85.08</td>\n",
       "      <td>62.58</td>\n",
       "    </tr>\n",
       "  </tbody>\n",
       "</table>\n",
       "</div>"
      ],
      "text/plain": [
       "        mean    std   total  <10 %   <5 %   <1 %\n",
       "cosine  13.3  94.85  431.14  90.04  85.08  62.58"
      ]
     },
     "metadata": {},
     "output_type": "display_data"
    },
    {
     "name": "stdout",
     "output_type": "stream",
     "text": [
      "\n",
      "\n",
      "STEPS = 2\n"
     ]
    },
    {
     "name": "stderr",
     "output_type": "stream",
     "text": [
      "100%|████████████████████████████████████████████████████████████████| 44/44 [00:05<00:00,  8.79it/s]\n"
     ]
    },
    {
     "data": {
      "text/html": [
       "<div>\n",
       "<style scoped>\n",
       "    .dataframe tbody tr th:only-of-type {\n",
       "        vertical-align: middle;\n",
       "    }\n",
       "\n",
       "    .dataframe tbody tr th {\n",
       "        vertical-align: top;\n",
       "    }\n",
       "\n",
       "    .dataframe thead th {\n",
       "        text-align: right;\n",
       "    }\n",
       "</style>\n",
       "<table border=\"1\" class=\"dataframe\">\n",
       "  <thead>\n",
       "    <tr style=\"text-align: right;\">\n",
       "      <th></th>\n",
       "      <th>mean</th>\n",
       "      <th>std</th>\n",
       "      <th>total</th>\n",
       "      <th>&lt;10 %</th>\n",
       "      <th>&lt;5 %</th>\n",
       "      <th>&lt;1 %</th>\n",
       "    </tr>\n",
       "  </thead>\n",
       "  <tbody>\n",
       "    <tr>\n",
       "      <th>euclidean</th>\n",
       "      <td>56.38</td>\n",
       "      <td>214.89</td>\n",
       "      <td>385.75</td>\n",
       "      <td>68.87</td>\n",
       "      <td>59.71</td>\n",
       "      <td>35.56</td>\n",
       "    </tr>\n",
       "  </tbody>\n",
       "</table>\n",
       "</div>"
      ],
      "text/plain": [
       "            mean     std   total  <10 %   <5 %   <1 %\n",
       "euclidean  56.38  214.89  385.75  68.87  59.71  35.56"
      ]
     },
     "metadata": {},
     "output_type": "display_data"
    },
    {
     "data": {
      "text/html": [
       "<div>\n",
       "<style scoped>\n",
       "    .dataframe tbody tr th:only-of-type {\n",
       "        vertical-align: middle;\n",
       "    }\n",
       "\n",
       "    .dataframe tbody tr th {\n",
       "        vertical-align: top;\n",
       "    }\n",
       "\n",
       "    .dataframe thead th {\n",
       "        text-align: right;\n",
       "    }\n",
       "</style>\n",
       "<table border=\"1\" class=\"dataframe\">\n",
       "  <thead>\n",
       "    <tr style=\"text-align: right;\">\n",
       "      <th></th>\n",
       "      <th>mean</th>\n",
       "      <th>std</th>\n",
       "      <th>total</th>\n",
       "      <th>&lt;10 %</th>\n",
       "      <th>&lt;5 %</th>\n",
       "      <th>&lt;1 %</th>\n",
       "    </tr>\n",
       "  </thead>\n",
       "  <tbody>\n",
       "    <tr>\n",
       "      <th>cosine</th>\n",
       "      <td>49.43</td>\n",
       "      <td>196.02</td>\n",
       "      <td>385.75</td>\n",
       "      <td>72.59</td>\n",
       "      <td>64.08</td>\n",
       "      <td>38.73</td>\n",
       "    </tr>\n",
       "  </tbody>\n",
       "</table>\n",
       "</div>"
      ],
      "text/plain": [
       "         mean     std   total  <10 %   <5 %   <1 %\n",
       "cosine  49.43  196.02  385.75  72.59  64.08  38.73"
      ]
     },
     "metadata": {},
     "output_type": "display_data"
    },
    {
     "name": "stdout",
     "output_type": "stream",
     "text": [
      "\n",
      "\n",
      "STEPS = 5\n"
     ]
    },
    {
     "name": "stderr",
     "output_type": "stream",
     "text": [
      "100%|████████████████████████████████████████████████████████████████| 44/44 [00:04<00:00,  9.80it/s]\n"
     ]
    },
    {
     "data": {
      "text/html": [
       "<div>\n",
       "<style scoped>\n",
       "    .dataframe tbody tr th:only-of-type {\n",
       "        vertical-align: middle;\n",
       "    }\n",
       "\n",
       "    .dataframe tbody tr th {\n",
       "        vertical-align: top;\n",
       "    }\n",
       "\n",
       "    .dataframe thead th {\n",
       "        text-align: right;\n",
       "    }\n",
       "</style>\n",
       "<table border=\"1\" class=\"dataframe\">\n",
       "  <thead>\n",
       "    <tr style=\"text-align: right;\">\n",
       "      <th></th>\n",
       "      <th>mean</th>\n",
       "      <th>std</th>\n",
       "      <th>total</th>\n",
       "      <th>&lt;10 %</th>\n",
       "      <th>&lt;5 %</th>\n",
       "      <th>&lt;1 %</th>\n",
       "    </tr>\n",
       "  </thead>\n",
       "  <tbody>\n",
       "    <tr>\n",
       "      <th>euclidean</th>\n",
       "      <td>102.22</td>\n",
       "      <td>281.51</td>\n",
       "      <td>321.17</td>\n",
       "      <td>49.56</td>\n",
       "      <td>39.01</td>\n",
       "      <td>16.93</td>\n",
       "    </tr>\n",
       "  </tbody>\n",
       "</table>\n",
       "</div>"
      ],
      "text/plain": [
       "             mean     std   total  <10 %   <5 %   <1 %\n",
       "euclidean  102.22  281.51  321.17  49.56  39.01  16.93"
      ]
     },
     "metadata": {},
     "output_type": "display_data"
    },
    {
     "data": {
      "text/html": [
       "<div>\n",
       "<style scoped>\n",
       "    .dataframe tbody tr th:only-of-type {\n",
       "        vertical-align: middle;\n",
       "    }\n",
       "\n",
       "    .dataframe tbody tr th {\n",
       "        vertical-align: top;\n",
       "    }\n",
       "\n",
       "    .dataframe thead th {\n",
       "        text-align: right;\n",
       "    }\n",
       "</style>\n",
       "<table border=\"1\" class=\"dataframe\">\n",
       "  <thead>\n",
       "    <tr style=\"text-align: right;\">\n",
       "      <th></th>\n",
       "      <th>mean</th>\n",
       "      <th>std</th>\n",
       "      <th>total</th>\n",
       "      <th>&lt;10 %</th>\n",
       "      <th>&lt;5 %</th>\n",
       "      <th>&lt;1 %</th>\n",
       "    </tr>\n",
       "  </thead>\n",
       "  <tbody>\n",
       "    <tr>\n",
       "      <th>cosine</th>\n",
       "      <td>94.44</td>\n",
       "      <td>268.68</td>\n",
       "      <td>321.17</td>\n",
       "      <td>52.12</td>\n",
       "      <td>41.19</td>\n",
       "      <td>18.6</td>\n",
       "    </tr>\n",
       "  </tbody>\n",
       "</table>\n",
       "</div>"
      ],
      "text/plain": [
       "         mean     std   total  <10 %   <5 %  <1 %\n",
       "cosine  94.44  268.68  321.17  52.12  41.19  18.6"
      ]
     },
     "metadata": {},
     "output_type": "display_data"
    },
    {
     "name": "stdout",
     "output_type": "stream",
     "text": [
      "\n",
      "\n"
     ]
    }
   ],
   "source": [
    "for steps in [1, 2, 5]:\n",
    "    path_string = f\"models/supervised/mse_model/{steps}step.pth\"\n",
    "    assert len(glob.glob(path_string)) == 1\n",
    "    actor = torch.load(glob.glob(f\"models/supervised/mse_model/{steps}step.pth\")[0]).to(device)\n",
    "    print(\"STEPS =\", steps)\n",
    "    mse_model_stats(actor, steps)\n",
    "    print()\n",
    "    print()"
   ]
  },
  {
   "cell_type": "markdown",
   "id": "e29d8269",
   "metadata": {},
   "source": [
    "### Actor only"
   ]
  },
  {
   "cell_type": "code",
   "execution_count": 51,
   "id": "93772c51",
   "metadata": {},
   "outputs": [],
   "source": [
    "import glob\n",
    "\n",
    "batch_size = 128\n",
    "def actor_only_stats(actor, steps):\n",
    "    pred = torch.concatenate([actor(test_reactants[steps][i:i+batch_size], \n",
    "                                     test_products[steps][i:i+batch_size]).detach() for i in range(0, test_reactants[steps].batch_size-batch_size, batch_size)], axis=0)\n",
    "\n",
    "    action_embeddings = get_action_dataset_embeddings(actor.GIN)\n",
    "\n",
    "    # Rank list\n",
    "    for dist in [\"euclidean\", \"cosine\"]:\n",
    "        rank_list = []\n",
    "        total = []\n",
    "        for i in range(pred.shape[0]):\n",
    "            pred_for_i = pred[i]\n",
    "            act_emb_for_i, correct_index = action_embeddings[action_embedding_indices[steps][i]], correct_applicable_indices[steps][i]\n",
    "\n",
    "            rank, list_of_indices = get_ranking(pred_for_i, act_emb_for_i, correct_index, distance=dist)\n",
    "            rank_list.append(rank.item())\n",
    "            total.append(act_emb_for_i.shape[0])\n",
    "        rl = np.sort(rank_list)\n",
    "\n",
    "        # print stats\n",
    "        df = pd.DataFrame({\n",
    "                                \"mean\": round(rl.mean(), 2),\n",
    "                                \"std\": round(rl.std(), 2),\n",
    "                                \"total\": round(np.mean(total), 2),\n",
    "                                \"<10 %\": round((rl <= 9).sum() / rl.shape[0] * 100, 2),\n",
    "                                \"<5 %\": round((rl <= 4).sum() / rl.shape[0] * 100, 2),\n",
    "                                \"<1 %\": round((rl <= 0).sum() / rl.shape[0] * 100, 2),\n",
    "                            }, index=[dist])\n",
    "        display(df)\n",
    "#         print(\"\\t\".join(list(map(str, df.values[0]))))"
   ]
  },
  {
   "cell_type": "code",
   "execution_count": 52,
   "id": "b2938cc1",
   "metadata": {},
   "outputs": [
    {
     "name": "stdout",
     "output_type": "stream",
     "text": [
      "STEPS = 1\n"
     ]
    },
    {
     "name": "stderr",
     "output_type": "stream",
     "text": [
      "100%|████████████████████████████████████████████████████████████████| 44/44 [00:04<00:00,  9.39it/s]\n"
     ]
    },
    {
     "data": {
      "text/html": [
       "<div>\n",
       "<style scoped>\n",
       "    .dataframe tbody tr th:only-of-type {\n",
       "        vertical-align: middle;\n",
       "    }\n",
       "\n",
       "    .dataframe tbody tr th {\n",
       "        vertical-align: top;\n",
       "    }\n",
       "\n",
       "    .dataframe thead th {\n",
       "        text-align: right;\n",
       "    }\n",
       "</style>\n",
       "<table border=\"1\" class=\"dataframe\">\n",
       "  <thead>\n",
       "    <tr style=\"text-align: right;\">\n",
       "      <th></th>\n",
       "      <th>mean</th>\n",
       "      <th>std</th>\n",
       "      <th>total</th>\n",
       "      <th>&lt;10 %</th>\n",
       "      <th>&lt;5 %</th>\n",
       "      <th>&lt;1 %</th>\n",
       "    </tr>\n",
       "  </thead>\n",
       "  <tbody>\n",
       "    <tr>\n",
       "      <th>euclidean</th>\n",
       "      <td>5.24</td>\n",
       "      <td>61.61</td>\n",
       "      <td>431.14</td>\n",
       "      <td>95.9</td>\n",
       "      <td>93.46</td>\n",
       "      <td>79.02</td>\n",
       "    </tr>\n",
       "  </tbody>\n",
       "</table>\n",
       "</div>"
      ],
      "text/plain": [
       "           mean    std   total  <10 %   <5 %   <1 %\n",
       "euclidean  5.24  61.61  431.14   95.9  93.46  79.02"
      ]
     },
     "metadata": {},
     "output_type": "display_data"
    },
    {
     "data": {
      "text/html": [
       "<div>\n",
       "<style scoped>\n",
       "    .dataframe tbody tr th:only-of-type {\n",
       "        vertical-align: middle;\n",
       "    }\n",
       "\n",
       "    .dataframe tbody tr th {\n",
       "        vertical-align: top;\n",
       "    }\n",
       "\n",
       "    .dataframe thead th {\n",
       "        text-align: right;\n",
       "    }\n",
       "</style>\n",
       "<table border=\"1\" class=\"dataframe\">\n",
       "  <thead>\n",
       "    <tr style=\"text-align: right;\">\n",
       "      <th></th>\n",
       "      <th>mean</th>\n",
       "      <th>std</th>\n",
       "      <th>total</th>\n",
       "      <th>&lt;10 %</th>\n",
       "      <th>&lt;5 %</th>\n",
       "      <th>&lt;1 %</th>\n",
       "    </tr>\n",
       "  </thead>\n",
       "  <tbody>\n",
       "    <tr>\n",
       "      <th>cosine</th>\n",
       "      <td>0.89</td>\n",
       "      <td>18.47</td>\n",
       "      <td>431.14</td>\n",
       "      <td>99.11</td>\n",
       "      <td>98.12</td>\n",
       "      <td>85.71</td>\n",
       "    </tr>\n",
       "  </tbody>\n",
       "</table>\n",
       "</div>"
      ],
      "text/plain": [
       "        mean    std   total  <10 %   <5 %   <1 %\n",
       "cosine  0.89  18.47  431.14  99.11  98.12  85.71"
      ]
     },
     "metadata": {},
     "output_type": "display_data"
    },
    {
     "name": "stdout",
     "output_type": "stream",
     "text": [
      "\n",
      "\n",
      "STEPS = 2\n"
     ]
    },
    {
     "name": "stderr",
     "output_type": "stream",
     "text": [
      "100%|████████████████████████████████████████████████████████████████| 44/44 [00:04<00:00,  9.62it/s]\n"
     ]
    },
    {
     "data": {
      "text/html": [
       "<div>\n",
       "<style scoped>\n",
       "    .dataframe tbody tr th:only-of-type {\n",
       "        vertical-align: middle;\n",
       "    }\n",
       "\n",
       "    .dataframe tbody tr th {\n",
       "        vertical-align: top;\n",
       "    }\n",
       "\n",
       "    .dataframe thead th {\n",
       "        text-align: right;\n",
       "    }\n",
       "</style>\n",
       "<table border=\"1\" class=\"dataframe\">\n",
       "  <thead>\n",
       "    <tr style=\"text-align: right;\">\n",
       "      <th></th>\n",
       "      <th>mean</th>\n",
       "      <th>std</th>\n",
       "      <th>total</th>\n",
       "      <th>&lt;10 %</th>\n",
       "      <th>&lt;5 %</th>\n",
       "      <th>&lt;1 %</th>\n",
       "    </tr>\n",
       "  </thead>\n",
       "  <tbody>\n",
       "    <tr>\n",
       "      <th>euclidean</th>\n",
       "      <td>33.47</td>\n",
       "      <td>177.44</td>\n",
       "      <td>385.75</td>\n",
       "      <td>81.95</td>\n",
       "      <td>75.73</td>\n",
       "      <td>55.09</td>\n",
       "    </tr>\n",
       "  </tbody>\n",
       "</table>\n",
       "</div>"
      ],
      "text/plain": [
       "            mean     std   total  <10 %   <5 %   <1 %\n",
       "euclidean  33.47  177.44  385.75  81.95  75.73  55.09"
      ]
     },
     "metadata": {},
     "output_type": "display_data"
    },
    {
     "data": {
      "text/html": [
       "<div>\n",
       "<style scoped>\n",
       "    .dataframe tbody tr th:only-of-type {\n",
       "        vertical-align: middle;\n",
       "    }\n",
       "\n",
       "    .dataframe tbody tr th {\n",
       "        vertical-align: top;\n",
       "    }\n",
       "\n",
       "    .dataframe thead th {\n",
       "        text-align: right;\n",
       "    }\n",
       "</style>\n",
       "<table border=\"1\" class=\"dataframe\">\n",
       "  <thead>\n",
       "    <tr style=\"text-align: right;\">\n",
       "      <th></th>\n",
       "      <th>mean</th>\n",
       "      <th>std</th>\n",
       "      <th>total</th>\n",
       "      <th>&lt;10 %</th>\n",
       "      <th>&lt;5 %</th>\n",
       "      <th>&lt;1 %</th>\n",
       "    </tr>\n",
       "  </thead>\n",
       "  <tbody>\n",
       "    <tr>\n",
       "      <th>cosine</th>\n",
       "      <td>24.58</td>\n",
       "      <td>151.89</td>\n",
       "      <td>385.75</td>\n",
       "      <td>86.35</td>\n",
       "      <td>81.3</td>\n",
       "      <td>60.41</td>\n",
       "    </tr>\n",
       "  </tbody>\n",
       "</table>\n",
       "</div>"
      ],
      "text/plain": [
       "         mean     std   total  <10 %  <5 %   <1 %\n",
       "cosine  24.58  151.89  385.75  86.35  81.3  60.41"
      ]
     },
     "metadata": {},
     "output_type": "display_data"
    },
    {
     "name": "stdout",
     "output_type": "stream",
     "text": [
      "\n",
      "\n",
      "STEPS = 5\n"
     ]
    },
    {
     "name": "stderr",
     "output_type": "stream",
     "text": [
      "100%|████████████████████████████████████████████████████████████████| 44/44 [00:04<00:00,  9.00it/s]\n"
     ]
    },
    {
     "data": {
      "text/html": [
       "<div>\n",
       "<style scoped>\n",
       "    .dataframe tbody tr th:only-of-type {\n",
       "        vertical-align: middle;\n",
       "    }\n",
       "\n",
       "    .dataframe tbody tr th {\n",
       "        vertical-align: top;\n",
       "    }\n",
       "\n",
       "    .dataframe thead th {\n",
       "        text-align: right;\n",
       "    }\n",
       "</style>\n",
       "<table border=\"1\" class=\"dataframe\">\n",
       "  <thead>\n",
       "    <tr style=\"text-align: right;\">\n",
       "      <th></th>\n",
       "      <th>mean</th>\n",
       "      <th>std</th>\n",
       "      <th>total</th>\n",
       "      <th>&lt;10 %</th>\n",
       "      <th>&lt;5 %</th>\n",
       "      <th>&lt;1 %</th>\n",
       "    </tr>\n",
       "  </thead>\n",
       "  <tbody>\n",
       "    <tr>\n",
       "      <th>euclidean</th>\n",
       "      <td>94.62</td>\n",
       "      <td>276.55</td>\n",
       "      <td>321.17</td>\n",
       "      <td>56.49</td>\n",
       "      <td>46.72</td>\n",
       "      <td>24.08</td>\n",
       "    </tr>\n",
       "  </tbody>\n",
       "</table>\n",
       "</div>"
      ],
      "text/plain": [
       "            mean     std   total  <10 %   <5 %   <1 %\n",
       "euclidean  94.62  276.55  321.17  56.49  46.72  24.08"
      ]
     },
     "metadata": {},
     "output_type": "display_data"
    },
    {
     "data": {
      "text/html": [
       "<div>\n",
       "<style scoped>\n",
       "    .dataframe tbody tr th:only-of-type {\n",
       "        vertical-align: middle;\n",
       "    }\n",
       "\n",
       "    .dataframe tbody tr th {\n",
       "        vertical-align: top;\n",
       "    }\n",
       "\n",
       "    .dataframe thead th {\n",
       "        text-align: right;\n",
       "    }\n",
       "</style>\n",
       "<table border=\"1\" class=\"dataframe\">\n",
       "  <thead>\n",
       "    <tr style=\"text-align: right;\">\n",
       "      <th></th>\n",
       "      <th>mean</th>\n",
       "      <th>std</th>\n",
       "      <th>total</th>\n",
       "      <th>&lt;10 %</th>\n",
       "      <th>&lt;5 %</th>\n",
       "      <th>&lt;1 %</th>\n",
       "    </tr>\n",
       "  </thead>\n",
       "  <tbody>\n",
       "    <tr>\n",
       "      <th>cosine</th>\n",
       "      <td>80.18</td>\n",
       "      <td>252.31</td>\n",
       "      <td>321.17</td>\n",
       "      <td>61.66</td>\n",
       "      <td>52.28</td>\n",
       "      <td>29.23</td>\n",
       "    </tr>\n",
       "  </tbody>\n",
       "</table>\n",
       "</div>"
      ],
      "text/plain": [
       "         mean     std   total  <10 %   <5 %   <1 %\n",
       "cosine  80.18  252.31  321.17  61.66  52.28  29.23"
      ]
     },
     "metadata": {},
     "output_type": "display_data"
    },
    {
     "name": "stdout",
     "output_type": "stream",
     "text": [
      "\n",
      "\n"
     ]
    }
   ],
   "source": [
    "for steps in [1, 2, 5]:\n",
    "    assert len(glob.glob(f\"models/supervised/actor/*steps={steps}*/model.pth\")) == 1\n",
    "    actor = torch.load(glob.glob(f\"models/supervised/actor/*steps={steps}*/model.pth\")[0]).to(device)\n",
    "    print(\"STEPS =\", steps)\n",
    "    actor_only_stats(actor, steps)\n",
    "    print()\n",
    "    print()"
   ]
  },
  {
   "cell_type": "markdown",
   "id": "d0f4d198",
   "metadata": {},
   "source": [
    "### Actor + critic"
   ]
  },
  {
   "cell_type": "code",
   "execution_count": 8,
   "id": "4378fa5a",
   "metadata": {},
   "outputs": [],
   "source": [
    "import glob\n",
    "\n",
    "batch_size = 128\n",
    "def actor_critic_separate_stats(actor, critic, k, steps):\n",
    "    pred = torch.concatenate([actor(test_reactants[steps][i:i+batch_size], \n",
    "                                     test_products[steps][i:i+batch_size]).detach() for i in range(0, test_reactants[steps].batch_size-batch_size, batch_size)], axis=0)\n",
    "\n",
    "    action_embeddings = get_action_dataset_embeddings(actor.GIN)\n",
    "\n",
    "    # Rank list\n",
    "    for dist in [\"euclidean\", \"cosine\"]:\n",
    "        rank_list = []\n",
    "        total = []\n",
    "        dict_of_list_of_indices = {}\n",
    "\n",
    "        for i in tqdm.tqdm(range(pred.shape[0])):\n",
    "            pred_for_i = pred[i]\n",
    "            act_emb_for_i, correct_index = action_embeddings[action_embedding_indices[steps][i]], correct_applicable_indices[steps][i]\n",
    "\n",
    "            # Get default rank\n",
    "            rank, list_of_indices = get_ranking(pred_for_i, act_emb_for_i, correct_index, distance=dist)\n",
    "            rank = rank.item()\n",
    "            rank_list.append(rank)\n",
    "            total.append(act_emb_for_i.shape[0])\n",
    "\n",
    "            # Save list of indices for critic\n",
    "            list_of_indices = get_top_k_indices(pred_for_i, act_emb_for_i, correct_index, distance=dist, k=k).detach().cpu().numpy()\n",
    "            if correct_index in list_of_indices:\n",
    "                dict_of_list_of_indices[i] = list_of_indices\n",
    "\n",
    "        # Post process with critic\n",
    "        i_sorted = sorted(list(dict_of_list_of_indices.keys()))\n",
    "        action_indices = np.concatenate([action_embedding_indices[steps][i][dict_of_list_of_indices[i]] for i in i_sorted])\n",
    "        state_indices = np.concatenate([np.full_like(dict_of_list_of_indices[i], i) for i in i_sorted])\n",
    "        critic_batch = 1024\n",
    "        critic_qs = []\n",
    "        for i in tqdm.tqdm(range(0, action_indices.shape[0], critic_batch)):\n",
    "            batch_reactants = test_reactants[steps][state_indices[i:i+critic_batch]]\n",
    "            batch_products = test_products[steps][state_indices[i:i+critic_batch]]\n",
    "            batch_rsigs = action_rsigs[action_indices[i:i+critic_batch]]\n",
    "            batch_psigs = action_psigs[action_indices[i:i+critic_batch]]\n",
    "            critic_qs.append(critic(batch_reactants.to(device), batch_products.to(device), batch_rsigs.to(device), batch_psigs.to(device)).detach().cpu().numpy())\n",
    "\n",
    "        critic_qs = np.concatenate(critic_qs)\n",
    "\n",
    "        start = 0\n",
    "        for i in i_sorted:\n",
    "            end = start + dict_of_list_of_indices[i].shape[0]\n",
    "            i_critic_qs = critic_qs[start:end]\n",
    "            rank = (dict_of_list_of_indices[i][i_critic_qs.reshape(-1).argsort()[::-1]] == correct_index).argmax()\n",
    "            rank_list[i] = rank\n",
    "            start = end\n",
    "\n",
    "        rl = np.sort(rank_list)\n",
    "\n",
    "        # print stats\n",
    "        df = pd.DataFrame({\n",
    "                                \"mean\": round(rl.mean(), 2),\n",
    "                                \"std\": round(rl.std(), 2),\n",
    "                                \"total\": round(np.mean(total), 2),\n",
    "                                \"<10 %\": round((rl <= 9).sum() / rl.shape[0] * 100, 2),\n",
    "                                \"<5 %\": round((rl <= 4).sum() / rl.shape[0] * 100, 2),\n",
    "                                \"<1 %\": round((rl <= 0).sum() / rl.shape[0] * 100, 2),\n",
    "                            }, index=[dist])\n",
    "        display(df)\n",
    "    #         print(\"\\t\".join(list(map(str, df.values[0]))))"
   ]
  },
  {
   "cell_type": "code",
   "execution_count": 48,
   "id": "4269046e",
   "metadata": {
    "scrolled": true
   },
   "outputs": [
    {
     "name": "stdout",
     "output_type": "stream",
     "text": [
      "STEPS = 1  || K =  10\n"
     ]
    },
    {
     "name": "stderr",
     "output_type": "stream",
     "text": [
      "100%|████████████████████████████████████████████████████████████████| 44/44 [00:04<00:00,  9.09it/s]\n",
      "100%|████████████████████████████████████████████████████████| 20480/20480 [00:11<00:00, 1736.19it/s]\n",
      "100%|██████████████████████████████████████████████████████████████| 159/159 [00:19<00:00,  8.19it/s]\n"
     ]
    },
    {
     "data": {
      "text/html": [
       "<div>\n",
       "<style scoped>\n",
       "    .dataframe tbody tr th:only-of-type {\n",
       "        vertical-align: middle;\n",
       "    }\n",
       "\n",
       "    .dataframe tbody tr th {\n",
       "        vertical-align: top;\n",
       "    }\n",
       "\n",
       "    .dataframe thead th {\n",
       "        text-align: right;\n",
       "    }\n",
       "</style>\n",
       "<table border=\"1\" class=\"dataframe\">\n",
       "  <thead>\n",
       "    <tr style=\"text-align: right;\">\n",
       "      <th></th>\n",
       "      <th>mean</th>\n",
       "      <th>std</th>\n",
       "      <th>total</th>\n",
       "      <th>&lt;10 %</th>\n",
       "      <th>&lt;5 %</th>\n",
       "      <th>&lt;1 %</th>\n",
       "    </tr>\n",
       "  </thead>\n",
       "  <tbody>\n",
       "    <tr>\n",
       "      <th>euclidean</th>\n",
       "      <td>4.84</td>\n",
       "      <td>61.63</td>\n",
       "      <td>431.14</td>\n",
       "      <td>95.89</td>\n",
       "      <td>95.87</td>\n",
       "      <td>95.86</td>\n",
       "    </tr>\n",
       "  </tbody>\n",
       "</table>\n",
       "</div>"
      ],
      "text/plain": [
       "           mean    std   total  <10 %   <5 %   <1 %\n",
       "euclidean  4.84  61.63  431.14  95.89  95.87  95.86"
      ]
     },
     "metadata": {},
     "output_type": "display_data"
    },
    {
     "name": "stderr",
     "output_type": "stream",
     "text": [
      "100%|████████████████████████████████████████████████████████| 20480/20480 [00:14<00:00, 1397.08it/s]\n",
      "100%|██████████████████████████████████████████████████████████████| 165/165 [00:20<00:00,  8.16it/s]\n"
     ]
    },
    {
     "data": {
      "text/html": [
       "<div>\n",
       "<style scoped>\n",
       "    .dataframe tbody tr th:only-of-type {\n",
       "        vertical-align: middle;\n",
       "    }\n",
       "\n",
       "    .dataframe tbody tr th {\n",
       "        vertical-align: top;\n",
       "    }\n",
       "\n",
       "    .dataframe thead th {\n",
       "        text-align: right;\n",
       "    }\n",
       "</style>\n",
       "<table border=\"1\" class=\"dataframe\">\n",
       "  <thead>\n",
       "    <tr style=\"text-align: right;\">\n",
       "      <th></th>\n",
       "      <th>mean</th>\n",
       "      <th>std</th>\n",
       "      <th>total</th>\n",
       "      <th>&lt;10 %</th>\n",
       "      <th>&lt;5 %</th>\n",
       "      <th>&lt;1 %</th>\n",
       "    </tr>\n",
       "  </thead>\n",
       "  <tbody>\n",
       "    <tr>\n",
       "      <th>cosine</th>\n",
       "      <td>0.64</td>\n",
       "      <td>18.46</td>\n",
       "      <td>431.14</td>\n",
       "      <td>99.1</td>\n",
       "      <td>99.08</td>\n",
       "      <td>99.07</td>\n",
       "    </tr>\n",
       "  </tbody>\n",
       "</table>\n",
       "</div>"
      ],
      "text/plain": [
       "        mean    std   total  <10 %   <5 %   <1 %\n",
       "cosine  0.64  18.46  431.14   99.1  99.08  99.07"
      ]
     },
     "metadata": {},
     "output_type": "display_data"
    },
    {
     "name": "stdout",
     "output_type": "stream",
     "text": [
      "\n",
      "\n",
      "STEPS = 2  || K =  10\n"
     ]
    },
    {
     "name": "stderr",
     "output_type": "stream",
     "text": [
      "100%|████████████████████████████████████████████████████████████████| 44/44 [00:04<00:00,  9.63it/s]\n",
      "100%|████████████████████████████████████████████████████████| 20608/20608 [00:12<00:00, 1705.46it/s]\n",
      "100%|██████████████████████████████████████████████████████████████| 134/134 [00:15<00:00,  8.73it/s]\n"
     ]
    },
    {
     "data": {
      "text/html": [
       "<div>\n",
       "<style scoped>\n",
       "    .dataframe tbody tr th:only-of-type {\n",
       "        vertical-align: middle;\n",
       "    }\n",
       "\n",
       "    .dataframe tbody tr th {\n",
       "        vertical-align: top;\n",
       "    }\n",
       "\n",
       "    .dataframe thead th {\n",
       "        text-align: right;\n",
       "    }\n",
       "</style>\n",
       "<table border=\"1\" class=\"dataframe\">\n",
       "  <thead>\n",
       "    <tr style=\"text-align: right;\">\n",
       "      <th></th>\n",
       "      <th>mean</th>\n",
       "      <th>std</th>\n",
       "      <th>total</th>\n",
       "      <th>&lt;10 %</th>\n",
       "      <th>&lt;5 %</th>\n",
       "      <th>&lt;1 %</th>\n",
       "    </tr>\n",
       "  </thead>\n",
       "  <tbody>\n",
       "    <tr>\n",
       "      <th>euclidean</th>\n",
       "      <td>32.69</td>\n",
       "      <td>177.58</td>\n",
       "      <td>385.75</td>\n",
       "      <td>81.95</td>\n",
       "      <td>81.83</td>\n",
       "      <td>81.74</td>\n",
       "    </tr>\n",
       "  </tbody>\n",
       "</table>\n",
       "</div>"
      ],
      "text/plain": [
       "            mean     std   total  <10 %   <5 %   <1 %\n",
       "euclidean  32.69  177.58  385.75  81.95  81.83  81.74"
      ]
     },
     "metadata": {},
     "output_type": "display_data"
    },
    {
     "name": "stderr",
     "output_type": "stream",
     "text": [
      "100%|████████████████████████████████████████████████████████| 20608/20608 [00:14<00:00, 1393.02it/s]\n",
      "100%|██████████████████████████████████████████████████████████████| 143/143 [00:17<00:00,  8.32it/s]\n"
     ]
    },
    {
     "data": {
      "text/html": [
       "<div>\n",
       "<style scoped>\n",
       "    .dataframe tbody tr th:only-of-type {\n",
       "        vertical-align: middle;\n",
       "    }\n",
       "\n",
       "    .dataframe tbody tr th {\n",
       "        vertical-align: top;\n",
       "    }\n",
       "\n",
       "    .dataframe thead th {\n",
       "        text-align: right;\n",
       "    }\n",
       "</style>\n",
       "<table border=\"1\" class=\"dataframe\">\n",
       "  <thead>\n",
       "    <tr style=\"text-align: right;\">\n",
       "      <th></th>\n",
       "      <th>mean</th>\n",
       "      <th>std</th>\n",
       "      <th>total</th>\n",
       "      <th>&lt;10 %</th>\n",
       "      <th>&lt;5 %</th>\n",
       "      <th>&lt;1 %</th>\n",
       "    </tr>\n",
       "  </thead>\n",
       "  <tbody>\n",
       "    <tr>\n",
       "      <th>cosine</th>\n",
       "      <td>23.88</td>\n",
       "      <td>151.99</td>\n",
       "      <td>385.75</td>\n",
       "      <td>86.35</td>\n",
       "      <td>86.22</td>\n",
       "      <td>86.14</td>\n",
       "    </tr>\n",
       "  </tbody>\n",
       "</table>\n",
       "</div>"
      ],
      "text/plain": [
       "         mean     std   total  <10 %   <5 %   <1 %\n",
       "cosine  23.88  151.99  385.75  86.35  86.22  86.14"
      ]
     },
     "metadata": {},
     "output_type": "display_data"
    },
    {
     "name": "stdout",
     "output_type": "stream",
     "text": [
      "\n",
      "\n",
      "STEPS = 5  || K =  10\n"
     ]
    },
    {
     "name": "stderr",
     "output_type": "stream",
     "text": [
      "100%|████████████████████████████████████████████████████████████████| 44/44 [00:04<00:00,  8.90it/s]\n",
      "100%|████████████████████████████████████████████████████████| 21632/21632 [00:12<00:00, 1697.41it/s]\n",
      "100%|████████████████████████████████████████████████████████████████| 92/92 [00:12<00:00,  7.63it/s]\n"
     ]
    },
    {
     "data": {
      "text/html": [
       "<div>\n",
       "<style scoped>\n",
       "    .dataframe tbody tr th:only-of-type {\n",
       "        vertical-align: middle;\n",
       "    }\n",
       "\n",
       "    .dataframe tbody tr th {\n",
       "        vertical-align: top;\n",
       "    }\n",
       "\n",
       "    .dataframe thead th {\n",
       "        text-align: right;\n",
       "    }\n",
       "</style>\n",
       "<table border=\"1\" class=\"dataframe\">\n",
       "  <thead>\n",
       "    <tr style=\"text-align: right;\">\n",
       "      <th></th>\n",
       "      <th>mean</th>\n",
       "      <th>std</th>\n",
       "      <th>total</th>\n",
       "      <th>&lt;10 %</th>\n",
       "      <th>&lt;5 %</th>\n",
       "      <th>&lt;1 %</th>\n",
       "    </tr>\n",
       "  </thead>\n",
       "  <tbody>\n",
       "    <tr>\n",
       "      <th>euclidean</th>\n",
       "      <td>94.24</td>\n",
       "      <td>276.68</td>\n",
       "      <td>321.17</td>\n",
       "      <td>56.48</td>\n",
       "      <td>50.0</td>\n",
       "      <td>34.34</td>\n",
       "    </tr>\n",
       "  </tbody>\n",
       "</table>\n",
       "</div>"
      ],
      "text/plain": [
       "            mean     std   total  <10 %  <5 %   <1 %\n",
       "euclidean  94.24  276.68  321.17  56.48  50.0  34.34"
      ]
     },
     "metadata": {},
     "output_type": "display_data"
    },
    {
     "name": "stderr",
     "output_type": "stream",
     "text": [
      "100%|████████████████████████████████████████████████████████| 21632/21632 [00:15<00:00, 1382.43it/s]\n",
      "100%|██████████████████████████████████████████████████████████████| 103/103 [00:13<00:00,  7.67it/s]\n"
     ]
    },
    {
     "data": {
      "text/html": [
       "<div>\n",
       "<style scoped>\n",
       "    .dataframe tbody tr th:only-of-type {\n",
       "        vertical-align: middle;\n",
       "    }\n",
       "\n",
       "    .dataframe tbody tr th {\n",
       "        vertical-align: top;\n",
       "    }\n",
       "\n",
       "    .dataframe thead th {\n",
       "        text-align: right;\n",
       "    }\n",
       "</style>\n",
       "<table border=\"1\" class=\"dataframe\">\n",
       "  <thead>\n",
       "    <tr style=\"text-align: right;\">\n",
       "      <th></th>\n",
       "      <th>mean</th>\n",
       "      <th>std</th>\n",
       "      <th>total</th>\n",
       "      <th>&lt;10 %</th>\n",
       "      <th>&lt;5 %</th>\n",
       "      <th>&lt;1 %</th>\n",
       "    </tr>\n",
       "  </thead>\n",
       "  <tbody>\n",
       "    <tr>\n",
       "      <th>cosine</th>\n",
       "      <td>79.83</td>\n",
       "      <td>252.42</td>\n",
       "      <td>321.17</td>\n",
       "      <td>61.66</td>\n",
       "      <td>55.49</td>\n",
       "      <td>39.61</td>\n",
       "    </tr>\n",
       "  </tbody>\n",
       "</table>\n",
       "</div>"
      ],
      "text/plain": [
       "         mean     std   total  <10 %   <5 %   <1 %\n",
       "cosine  79.83  252.42  321.17  61.66  55.49  39.61"
      ]
     },
     "metadata": {},
     "output_type": "display_data"
    },
    {
     "name": "stdout",
     "output_type": "stream",
     "text": [
      "\n",
      "\n",
      "STEPS = 1  || K =  20\n"
     ]
    },
    {
     "name": "stderr",
     "output_type": "stream",
     "text": [
      "100%|████████████████████████████████████████████████████████████████| 44/44 [00:04<00:00,  9.51it/s]\n",
      "100%|████████████████████████████████████████████████████████| 20480/20480 [00:11<00:00, 1720.92it/s]\n",
      "100%|██████████████████████████████████████████████████████████████| 295/295 [00:35<00:00,  8.41it/s]\n"
     ]
    },
    {
     "data": {
      "text/html": [
       "<div>\n",
       "<style scoped>\n",
       "    .dataframe tbody tr th:only-of-type {\n",
       "        vertical-align: middle;\n",
       "    }\n",
       "\n",
       "    .dataframe tbody tr th {\n",
       "        vertical-align: top;\n",
       "    }\n",
       "\n",
       "    .dataframe thead th {\n",
       "        text-align: right;\n",
       "    }\n",
       "</style>\n",
       "<table border=\"1\" class=\"dataframe\">\n",
       "  <thead>\n",
       "    <tr style=\"text-align: right;\">\n",
       "      <th></th>\n",
       "      <th>mean</th>\n",
       "      <th>std</th>\n",
       "      <th>total</th>\n",
       "      <th>&lt;10 %</th>\n",
       "      <th>&lt;5 %</th>\n",
       "      <th>&lt;1 %</th>\n",
       "    </tr>\n",
       "  </thead>\n",
       "  <tbody>\n",
       "    <tr>\n",
       "      <th>euclidean</th>\n",
       "      <td>4.65</td>\n",
       "      <td>61.62</td>\n",
       "      <td>431.14</td>\n",
       "      <td>97.35</td>\n",
       "      <td>97.34</td>\n",
       "      <td>97.32</td>\n",
       "    </tr>\n",
       "  </tbody>\n",
       "</table>\n",
       "</div>"
      ],
      "text/plain": [
       "           mean    std   total  <10 %   <5 %   <1 %\n",
       "euclidean  4.65  61.62  431.14  97.35  97.34  97.32"
      ]
     },
     "metadata": {},
     "output_type": "display_data"
    },
    {
     "name": "stderr",
     "output_type": "stream",
     "text": [
      "100%|████████████████████████████████████████████████████████| 20480/20480 [00:14<00:00, 1387.31it/s]\n",
      "100%|██████████████████████████████████████████████████████████████| 304/304 [00:37<00:00,  8.08it/s]\n"
     ]
    },
    {
     "data": {
      "text/html": [
       "<div>\n",
       "<style scoped>\n",
       "    .dataframe tbody tr th:only-of-type {\n",
       "        vertical-align: middle;\n",
       "    }\n",
       "\n",
       "    .dataframe tbody tr th {\n",
       "        vertical-align: top;\n",
       "    }\n",
       "\n",
       "    .dataframe thead th {\n",
       "        text-align: right;\n",
       "    }\n",
       "</style>\n",
       "<table border=\"1\" class=\"dataframe\">\n",
       "  <thead>\n",
       "    <tr style=\"text-align: right;\">\n",
       "      <th></th>\n",
       "      <th>mean</th>\n",
       "      <th>std</th>\n",
       "      <th>total</th>\n",
       "      <th>&lt;10 %</th>\n",
       "      <th>&lt;5 %</th>\n",
       "      <th>&lt;1 %</th>\n",
       "    </tr>\n",
       "  </thead>\n",
       "  <tbody>\n",
       "    <tr>\n",
       "      <th>cosine</th>\n",
       "      <td>0.6</td>\n",
       "      <td>18.44</td>\n",
       "      <td>431.14</td>\n",
       "      <td>99.48</td>\n",
       "      <td>99.46</td>\n",
       "      <td>99.45</td>\n",
       "    </tr>\n",
       "  </tbody>\n",
       "</table>\n",
       "</div>"
      ],
      "text/plain": [
       "        mean    std   total  <10 %   <5 %   <1 %\n",
       "cosine   0.6  18.44  431.14  99.48  99.46  99.45"
      ]
     },
     "metadata": {},
     "output_type": "display_data"
    },
    {
     "name": "stdout",
     "output_type": "stream",
     "text": [
      "\n",
      "\n",
      "STEPS = 2  || K =  20\n"
     ]
    },
    {
     "name": "stderr",
     "output_type": "stream",
     "text": [
      "100%|████████████████████████████████████████████████████████████████| 44/44 [00:04<00:00,  9.80it/s]\n",
      "100%|████████████████████████████████████████████████████████| 20608/20608 [00:12<00:00, 1705.60it/s]\n",
      "100%|██████████████████████████████████████████████████████████████| 256/256 [00:31<00:00,  8.05it/s]\n"
     ]
    },
    {
     "data": {
      "text/html": [
       "<div>\n",
       "<style scoped>\n",
       "    .dataframe tbody tr th:only-of-type {\n",
       "        vertical-align: middle;\n",
       "    }\n",
       "\n",
       "    .dataframe tbody tr th {\n",
       "        vertical-align: top;\n",
       "    }\n",
       "\n",
       "    .dataframe thead th {\n",
       "        text-align: right;\n",
       "    }\n",
       "</style>\n",
       "<table border=\"1\" class=\"dataframe\">\n",
       "  <thead>\n",
       "    <tr style=\"text-align: right;\">\n",
       "      <th></th>\n",
       "      <th>mean</th>\n",
       "      <th>std</th>\n",
       "      <th>total</th>\n",
       "      <th>&lt;10 %</th>\n",
       "      <th>&lt;5 %</th>\n",
       "      <th>&lt;1 %</th>\n",
       "    </tr>\n",
       "  </thead>\n",
       "  <tbody>\n",
       "    <tr>\n",
       "      <th>euclidean</th>\n",
       "      <td>32.08</td>\n",
       "      <td>177.66</td>\n",
       "      <td>385.75</td>\n",
       "      <td>86.39</td>\n",
       "      <td>86.32</td>\n",
       "      <td>86.23</td>\n",
       "    </tr>\n",
       "  </tbody>\n",
       "</table>\n",
       "</div>"
      ],
      "text/plain": [
       "            mean     std   total  <10 %   <5 %   <1 %\n",
       "euclidean  32.08  177.66  385.75  86.39  86.32  86.23"
      ]
     },
     "metadata": {},
     "output_type": "display_data"
    },
    {
     "name": "stderr",
     "output_type": "stream",
     "text": [
      "100%|████████████████████████████████████████████████████████| 20608/20608 [00:14<00:00, 1394.52it/s]\n",
      "100%|██████████████████████████████████████████████████████████████| 270/270 [00:33<00:00,  8.16it/s]\n"
     ]
    },
    {
     "data": {
      "text/html": [
       "<div>\n",
       "<style scoped>\n",
       "    .dataframe tbody tr th:only-of-type {\n",
       "        vertical-align: middle;\n",
       "    }\n",
       "\n",
       "    .dataframe tbody tr th {\n",
       "        vertical-align: top;\n",
       "    }\n",
       "\n",
       "    .dataframe thead th {\n",
       "        text-align: right;\n",
       "    }\n",
       "</style>\n",
       "<table border=\"1\" class=\"dataframe\">\n",
       "  <thead>\n",
       "    <tr style=\"text-align: right;\">\n",
       "      <th></th>\n",
       "      <th>mean</th>\n",
       "      <th>std</th>\n",
       "      <th>total</th>\n",
       "      <th>&lt;10 %</th>\n",
       "      <th>&lt;5 %</th>\n",
       "      <th>&lt;1 %</th>\n",
       "    </tr>\n",
       "  </thead>\n",
       "  <tbody>\n",
       "    <tr>\n",
       "      <th>cosine</th>\n",
       "      <td>23.39</td>\n",
       "      <td>152.04</td>\n",
       "      <td>385.75</td>\n",
       "      <td>89.91</td>\n",
       "      <td>89.8</td>\n",
       "      <td>89.73</td>\n",
       "    </tr>\n",
       "  </tbody>\n",
       "</table>\n",
       "</div>"
      ],
      "text/plain": [
       "         mean     std   total  <10 %  <5 %   <1 %\n",
       "cosine  23.39  152.04  385.75  89.91  89.8  89.73"
      ]
     },
     "metadata": {},
     "output_type": "display_data"
    },
    {
     "name": "stdout",
     "output_type": "stream",
     "text": [
      "\n",
      "\n",
      "STEPS = 5  || K =  20\n"
     ]
    },
    {
     "name": "stderr",
     "output_type": "stream",
     "text": [
      "100%|████████████████████████████████████████████████████████████████| 44/44 [00:04<00:00,  8.90it/s]\n",
      "100%|████████████████████████████████████████████████████████| 21632/21632 [00:12<00:00, 1706.78it/s]\n",
      "100%|██████████████████████████████████████████████████████████████| 187/187 [00:23<00:00,  7.84it/s]\n"
     ]
    },
    {
     "data": {
      "text/html": [
       "<div>\n",
       "<style scoped>\n",
       "    .dataframe tbody tr th:only-of-type {\n",
       "        vertical-align: middle;\n",
       "    }\n",
       "\n",
       "    .dataframe tbody tr th {\n",
       "        vertical-align: top;\n",
       "    }\n",
       "\n",
       "    .dataframe thead th {\n",
       "        text-align: right;\n",
       "    }\n",
       "</style>\n",
       "<table border=\"1\" class=\"dataframe\">\n",
       "  <thead>\n",
       "    <tr style=\"text-align: right;\">\n",
       "      <th></th>\n",
       "      <th>mean</th>\n",
       "      <th>std</th>\n",
       "      <th>total</th>\n",
       "      <th>&lt;10 %</th>\n",
       "      <th>&lt;5 %</th>\n",
       "      <th>&lt;1 %</th>\n",
       "    </tr>\n",
       "  </thead>\n",
       "  <tbody>\n",
       "    <tr>\n",
       "      <th>euclidean</th>\n",
       "      <td>94.09</td>\n",
       "      <td>276.72</td>\n",
       "      <td>321.17</td>\n",
       "      <td>58.33</td>\n",
       "      <td>50.74</td>\n",
       "      <td>33.36</td>\n",
       "    </tr>\n",
       "  </tbody>\n",
       "</table>\n",
       "</div>"
      ],
      "text/plain": [
       "            mean     std   total  <10 %   <5 %   <1 %\n",
       "euclidean  94.09  276.72  321.17  58.33  50.74  33.36"
      ]
     },
     "metadata": {},
     "output_type": "display_data"
    },
    {
     "name": "stderr",
     "output_type": "stream",
     "text": [
      "100%|████████████████████████████████████████████████████████| 21632/21632 [00:15<00:00, 1406.96it/s]\n",
      "100%|██████████████████████████████████████████████████████████████| 206/206 [00:26<00:00,  7.66it/s]\n"
     ]
    },
    {
     "data": {
      "text/html": [
       "<div>\n",
       "<style scoped>\n",
       "    .dataframe tbody tr th:only-of-type {\n",
       "        vertical-align: middle;\n",
       "    }\n",
       "\n",
       "    .dataframe tbody tr th {\n",
       "        vertical-align: top;\n",
       "    }\n",
       "\n",
       "    .dataframe thead th {\n",
       "        text-align: right;\n",
       "    }\n",
       "</style>\n",
       "<table border=\"1\" class=\"dataframe\">\n",
       "  <thead>\n",
       "    <tr style=\"text-align: right;\">\n",
       "      <th></th>\n",
       "      <th>mean</th>\n",
       "      <th>std</th>\n",
       "      <th>total</th>\n",
       "      <th>&lt;10 %</th>\n",
       "      <th>&lt;5 %</th>\n",
       "      <th>&lt;1 %</th>\n",
       "    </tr>\n",
       "  </thead>\n",
       "  <tbody>\n",
       "    <tr>\n",
       "      <th>cosine</th>\n",
       "      <td>79.9</td>\n",
       "      <td>252.4</td>\n",
       "      <td>321.17</td>\n",
       "      <td>62.32</td>\n",
       "      <td>54.6</td>\n",
       "      <td>36.94</td>\n",
       "    </tr>\n",
       "  </tbody>\n",
       "</table>\n",
       "</div>"
      ],
      "text/plain": [
       "        mean    std   total  <10 %  <5 %   <1 %\n",
       "cosine  79.9  252.4  321.17  62.32  54.6  36.94"
      ]
     },
     "metadata": {},
     "output_type": "display_data"
    },
    {
     "name": "stdout",
     "output_type": "stream",
     "text": [
      "\n",
      "\n",
      "STEPS = 1  || K =  50\n"
     ]
    },
    {
     "name": "stderr",
     "output_type": "stream",
     "text": [
      "100%|████████████████████████████████████████████████████████████████| 44/44 [00:04<00:00,  9.40it/s]\n",
      "100%|████████████████████████████████████████████████████████| 20480/20480 [00:11<00:00, 1739.92it/s]\n",
      "100%|██████████████████████████████████████████████████████████████| 642/642 [01:19<00:00,  8.05it/s]\n"
     ]
    },
    {
     "data": {
      "text/html": [
       "<div>\n",
       "<style scoped>\n",
       "    .dataframe tbody tr th:only-of-type {\n",
       "        vertical-align: middle;\n",
       "    }\n",
       "\n",
       "    .dataframe tbody tr th {\n",
       "        vertical-align: top;\n",
       "    }\n",
       "\n",
       "    .dataframe thead th {\n",
       "        text-align: right;\n",
       "    }\n",
       "</style>\n",
       "<table border=\"1\" class=\"dataframe\">\n",
       "  <thead>\n",
       "    <tr style=\"text-align: right;\">\n",
       "      <th></th>\n",
       "      <th>mean</th>\n",
       "      <th>std</th>\n",
       "      <th>total</th>\n",
       "      <th>&lt;10 %</th>\n",
       "      <th>&lt;5 %</th>\n",
       "      <th>&lt;1 %</th>\n",
       "    </tr>\n",
       "  </thead>\n",
       "  <tbody>\n",
       "    <tr>\n",
       "      <th>euclidean</th>\n",
       "      <td>4.32</td>\n",
       "      <td>61.56</td>\n",
       "      <td>431.14</td>\n",
       "      <td>98.38</td>\n",
       "      <td>98.36</td>\n",
       "      <td>98.36</td>\n",
       "    </tr>\n",
       "  </tbody>\n",
       "</table>\n",
       "</div>"
      ],
      "text/plain": [
       "           mean    std   total  <10 %   <5 %   <1 %\n",
       "euclidean  4.32  61.56  431.14  98.38  98.36  98.36"
      ]
     },
     "metadata": {},
     "output_type": "display_data"
    },
    {
     "name": "stderr",
     "output_type": "stream",
     "text": [
      "100%|████████████████████████████████████████████████████████| 20480/20480 [00:14<00:00, 1380.12it/s]\n",
      "100%|██████████████████████████████████████████████████████████████| 655/655 [01:19<00:00,  8.24it/s]\n"
     ]
    },
    {
     "data": {
      "text/html": [
       "<div>\n",
       "<style scoped>\n",
       "    .dataframe tbody tr th:only-of-type {\n",
       "        vertical-align: middle;\n",
       "    }\n",
       "\n",
       "    .dataframe tbody tr th {\n",
       "        vertical-align: top;\n",
       "    }\n",
       "\n",
       "    .dataframe thead th {\n",
       "        text-align: right;\n",
       "    }\n",
       "</style>\n",
       "<table border=\"1\" class=\"dataframe\">\n",
       "  <thead>\n",
       "    <tr style=\"text-align: right;\">\n",
       "      <th></th>\n",
       "      <th>mean</th>\n",
       "      <th>std</th>\n",
       "      <th>total</th>\n",
       "      <th>&lt;10 %</th>\n",
       "      <th>&lt;5 %</th>\n",
       "      <th>&lt;1 %</th>\n",
       "    </tr>\n",
       "  </thead>\n",
       "  <tbody>\n",
       "    <tr>\n",
       "      <th>cosine</th>\n",
       "      <td>0.58</td>\n",
       "      <td>18.43</td>\n",
       "      <td>431.14</td>\n",
       "      <td>99.57</td>\n",
       "      <td>99.55</td>\n",
       "      <td>99.52</td>\n",
       "    </tr>\n",
       "  </tbody>\n",
       "</table>\n",
       "</div>"
      ],
      "text/plain": [
       "        mean    std   total  <10 %   <5 %   <1 %\n",
       "cosine  0.58  18.43  431.14  99.57  99.55  99.52"
      ]
     },
     "metadata": {},
     "output_type": "display_data"
    },
    {
     "name": "stdout",
     "output_type": "stream",
     "text": [
      "\n",
      "\n",
      "STEPS = 2  || K =  50\n"
     ]
    },
    {
     "name": "stderr",
     "output_type": "stream",
     "text": [
      "100%|████████████████████████████████████████████████████████████████| 44/44 [00:04<00:00,  8.98it/s]\n",
      "100%|████████████████████████████████████████████████████████| 20608/20608 [00:12<00:00, 1712.84it/s]\n",
      "100%|██████████████████████████████████████████████████████████████| 569/569 [01:12<00:00,  7.80it/s]\n"
     ]
    },
    {
     "data": {
      "text/html": [
       "<div>\n",
       "<style scoped>\n",
       "    .dataframe tbody tr th:only-of-type {\n",
       "        vertical-align: middle;\n",
       "    }\n",
       "\n",
       "    .dataframe tbody tr th {\n",
       "        vertical-align: top;\n",
       "    }\n",
       "\n",
       "    .dataframe thead th {\n",
       "        text-align: right;\n",
       "    }\n",
       "</style>\n",
       "<table border=\"1\" class=\"dataframe\">\n",
       "  <thead>\n",
       "    <tr style=\"text-align: right;\">\n",
       "      <th></th>\n",
       "      <th>mean</th>\n",
       "      <th>std</th>\n",
       "      <th>total</th>\n",
       "      <th>&lt;10 %</th>\n",
       "      <th>&lt;5 %</th>\n",
       "      <th>&lt;1 %</th>\n",
       "    </tr>\n",
       "  </thead>\n",
       "  <tbody>\n",
       "    <tr>\n",
       "      <th>euclidean</th>\n",
       "      <td>30.77</td>\n",
       "      <td>177.77</td>\n",
       "      <td>385.75</td>\n",
       "      <td>90.58</td>\n",
       "      <td>90.49</td>\n",
       "      <td>90.39</td>\n",
       "    </tr>\n",
       "  </tbody>\n",
       "</table>\n",
       "</div>"
      ],
      "text/plain": [
       "            mean     std   total  <10 %   <5 %   <1 %\n",
       "euclidean  30.77  177.77  385.75  90.58  90.49  90.39"
      ]
     },
     "metadata": {},
     "output_type": "display_data"
    },
    {
     "name": "stderr",
     "output_type": "stream",
     "text": [
      "100%|████████████████████████████████████████████████████████| 20608/20608 [00:14<00:00, 1374.67it/s]\n",
      "100%|██████████████████████████████████████████████████████████████| 595/595 [01:14<00:00,  7.99it/s]\n"
     ]
    },
    {
     "data": {
      "text/html": [
       "<div>\n",
       "<style scoped>\n",
       "    .dataframe tbody tr th:only-of-type {\n",
       "        vertical-align: middle;\n",
       "    }\n",
       "\n",
       "    .dataframe tbody tr th {\n",
       "        vertical-align: top;\n",
       "    }\n",
       "\n",
       "    .dataframe thead th {\n",
       "        text-align: right;\n",
       "    }\n",
       "</style>\n",
       "<table border=\"1\" class=\"dataframe\">\n",
       "  <thead>\n",
       "    <tr style=\"text-align: right;\">\n",
       "      <th></th>\n",
       "      <th>mean</th>\n",
       "      <th>std</th>\n",
       "      <th>total</th>\n",
       "      <th>&lt;10 %</th>\n",
       "      <th>&lt;5 %</th>\n",
       "      <th>&lt;1 %</th>\n",
       "    </tr>\n",
       "  </thead>\n",
       "  <tbody>\n",
       "    <tr>\n",
       "      <th>cosine</th>\n",
       "      <td>22.44</td>\n",
       "      <td>152.08</td>\n",
       "      <td>385.75</td>\n",
       "      <td>93.02</td>\n",
       "      <td>92.93</td>\n",
       "      <td>92.83</td>\n",
       "    </tr>\n",
       "  </tbody>\n",
       "</table>\n",
       "</div>"
      ],
      "text/plain": [
       "         mean     std   total  <10 %   <5 %   <1 %\n",
       "cosine  22.44  152.08  385.75  93.02  92.93  92.83"
      ]
     },
     "metadata": {},
     "output_type": "display_data"
    },
    {
     "name": "stdout",
     "output_type": "stream",
     "text": [
      "\n",
      "\n",
      "STEPS = 5  || K =  50\n"
     ]
    },
    {
     "name": "stderr",
     "output_type": "stream",
     "text": [
      "100%|████████████████████████████████████████████████████████████████| 44/44 [00:05<00:00,  8.65it/s]\n",
      "100%|████████████████████████████████████████████████████████| 21632/21632 [00:12<00:00, 1716.94it/s]\n",
      "100%|██████████████████████████████████████████████████████████████| 442/442 [00:59<00:00,  7.48it/s]\n"
     ]
    },
    {
     "data": {
      "text/html": [
       "<div>\n",
       "<style scoped>\n",
       "    .dataframe tbody tr th:only-of-type {\n",
       "        vertical-align: middle;\n",
       "    }\n",
       "\n",
       "    .dataframe tbody tr th {\n",
       "        vertical-align: top;\n",
       "    }\n",
       "\n",
       "    .dataframe thead th {\n",
       "        text-align: right;\n",
       "    }\n",
       "</style>\n",
       "<table border=\"1\" class=\"dataframe\">\n",
       "  <thead>\n",
       "    <tr style=\"text-align: right;\">\n",
       "      <th></th>\n",
       "      <th>mean</th>\n",
       "      <th>std</th>\n",
       "      <th>total</th>\n",
       "      <th>&lt;10 %</th>\n",
       "      <th>&lt;5 %</th>\n",
       "      <th>&lt;1 %</th>\n",
       "    </tr>\n",
       "  </thead>\n",
       "  <tbody>\n",
       "    <tr>\n",
       "      <th>euclidean</th>\n",
       "      <td>93.66</td>\n",
       "      <td>276.82</td>\n",
       "      <td>321.17</td>\n",
       "      <td>59.04</td>\n",
       "      <td>50.6</td>\n",
       "      <td>31.86</td>\n",
       "    </tr>\n",
       "  </tbody>\n",
       "</table>\n",
       "</div>"
      ],
      "text/plain": [
       "            mean     std   total  <10 %  <5 %   <1 %\n",
       "euclidean  93.66  276.82  321.17  59.04  50.6  31.86"
      ]
     },
     "metadata": {},
     "output_type": "display_data"
    },
    {
     "name": "stderr",
     "output_type": "stream",
     "text": [
      "100%|████████████████████████████████████████████████████████| 21632/21632 [00:15<00:00, 1381.88it/s]\n",
      "100%|██████████████████████████████████████████████████████████████| 476/476 [01:04<00:00,  7.41it/s]\n"
     ]
    },
    {
     "data": {
      "text/html": [
       "<div>\n",
       "<style scoped>\n",
       "    .dataframe tbody tr th:only-of-type {\n",
       "        vertical-align: middle;\n",
       "    }\n",
       "\n",
       "    .dataframe tbody tr th {\n",
       "        vertical-align: top;\n",
       "    }\n",
       "\n",
       "    .dataframe thead th {\n",
       "        text-align: right;\n",
       "    }\n",
       "</style>\n",
       "<table border=\"1\" class=\"dataframe\">\n",
       "  <thead>\n",
       "    <tr style=\"text-align: right;\">\n",
       "      <th></th>\n",
       "      <th>mean</th>\n",
       "      <th>std</th>\n",
       "      <th>total</th>\n",
       "      <th>&lt;10 %</th>\n",
       "      <th>&lt;5 %</th>\n",
       "      <th>&lt;1 %</th>\n",
       "    </tr>\n",
       "  </thead>\n",
       "  <tbody>\n",
       "    <tr>\n",
       "      <th>cosine</th>\n",
       "      <td>79.83</td>\n",
       "      <td>252.4</td>\n",
       "      <td>321.17</td>\n",
       "      <td>62.17</td>\n",
       "      <td>53.76</td>\n",
       "      <td>35.01</td>\n",
       "    </tr>\n",
       "  </tbody>\n",
       "</table>\n",
       "</div>"
      ],
      "text/plain": [
       "         mean    std   total  <10 %   <5 %   <1 %\n",
       "cosine  79.83  252.4  321.17  62.17  53.76  35.01"
      ]
     },
     "metadata": {},
     "output_type": "display_data"
    },
    {
     "name": "stdout",
     "output_type": "stream",
     "text": [
      "\n",
      "\n"
     ]
    }
   ],
   "source": [
    "for k in [10, 20, 50]:\n",
    "    for steps in [1, 2, 5]:\n",
    "        file_string = f\"models/supervised/actor/*steps={steps}*/model.pth\"\n",
    "        assert len(glob.glob(file_string)) == 1\n",
    "        actor = torch.load(glob.glob(file_string)[0]).to(device)\n",
    "\n",
    "        file_string = f\"models/supervised/critic/*steps={steps}*/model.pth\"\n",
    "        assert len(glob.glob(file_string)) == 1\n",
    "        critic = torch.load(glob.glob(file_string)[0]).to(device)\n",
    "\n",
    "        print(\"STEPS =\", steps, \" || K = \", k)\n",
    "        actor_critic_separate_stats(actor, critic, k, steps)\n",
    "        print()\n",
    "        print()"
   ]
  },
  {
   "cell_type": "markdown",
   "id": "467e96d0",
   "metadata": {},
   "source": [
    "### Actor(mse)-critic"
   ]
  },
  {
   "cell_type": "code",
   "execution_count": 9,
   "id": "69702e44",
   "metadata": {},
   "outputs": [],
   "source": [
    "import glob\n",
    "\n",
    "batch_size = 128\n",
    "def actor_critic_stats(ac, k, steps):\n",
    "    pred = torch.concatenate([ac(test_reactants[steps][i:i+batch_size], \n",
    "                                     test_products[steps][i:i+batch_size], None, None, \"actor\").detach() for i in range(0, test_reactants[steps].batch_size-batch_size, batch_size)], axis=0)\n",
    "\n",
    "    action_embeddings = get_action_dataset_embeddings(ac.GIN)\n",
    "\n",
    "    # Rank list\n",
    "    for dist in [\"euclidean\", \"cosine\"]:\n",
    "        rank_list = []\n",
    "        total = []\n",
    "        dict_of_list_of_indices = {}\n",
    "\n",
    "        for i in tqdm.tqdm(range(pred.shape[0])):\n",
    "            pred_for_i = pred[i]\n",
    "            act_emb_for_i, correct_index = action_embeddings[action_embedding_indices[steps][i]], correct_applicable_indices[steps][i]\n",
    "\n",
    "            # Get default rank\n",
    "            rank, list_of_indices = get_ranking(pred_for_i, act_emb_for_i, correct_index, distance=dist)\n",
    "            rank = rank.item()\n",
    "            rank_list.append(rank)\n",
    "            total.append(act_emb_for_i.shape[0])\n",
    "\n",
    "            # Save list of indices for critic\n",
    "            list_of_indices = get_top_k_indices(pred_for_i, act_emb_for_i, correct_index, distance=dist, k=k).detach().cpu().numpy()\n",
    "            if correct_index in list_of_indices:\n",
    "                dict_of_list_of_indices[i] = list_of_indices\n",
    "\n",
    "        # Post process with critic\n",
    "        i_sorted = sorted(list(dict_of_list_of_indices.keys()))\n",
    "        action_indices = np.concatenate([action_embedding_indices[steps][i][dict_of_list_of_indices[i]] for i in i_sorted])\n",
    "        state_indices = np.concatenate([np.full_like(dict_of_list_of_indices[i], i) for i in i_sorted])\n",
    "        critic_batch = 1024\n",
    "        critic_qs = []\n",
    "        for i in tqdm.tqdm(range(0, action_indices.shape[0], critic_batch)):\n",
    "            batch_reactants = test_reactants[steps][state_indices[i:i+critic_batch]]\n",
    "            batch_products = test_products[steps][state_indices[i:i+critic_batch]]\n",
    "            batch_rsigs = action_rsigs[action_indices[i:i+critic_batch]]\n",
    "            batch_psigs = action_psigs[action_indices[i:i+critic_batch]]\n",
    "            critic_qs.append(ac(batch_reactants.to(device), batch_products.to(device), batch_rsigs.to(device), batch_psigs.to(device), \"critic\").detach().cpu().numpy())\n",
    "\n",
    "        critic_qs = np.concatenate(critic_qs)\n",
    "\n",
    "        start = 0\n",
    "        for i in i_sorted:\n",
    "            end = start + dict_of_list_of_indices[i].shape[0]\n",
    "            i_critic_qs = critic_qs[start:end]\n",
    "            rank = (dict_of_list_of_indices[i][i_critic_qs.reshape(-1).argsort()[::-1]] == correct_index).argmax()\n",
    "            rank_list[i] = rank\n",
    "            start = end\n",
    "\n",
    "        rl = np.sort(rank_list)\n",
    "\n",
    "        # print stats\n",
    "        df = pd.DataFrame({\n",
    "                                \"mean\": round(rl.mean(), 2),\n",
    "                                \"std\": round(rl.std(), 2),\n",
    "                                \"total\": round(np.mean(total), 2),\n",
    "                                \"<10 %\": round((rl <= 9).sum() / rl.shape[0] * 100, 2),\n",
    "                                \"<5 %\": round((rl <= 4).sum() / rl.shape[0] * 100, 2),\n",
    "                                \"<1 %\": round((rl <= 0).sum() / rl.shape[0] * 100, 2),\n",
    "                            }, index=[dist])\n",
    "        display(df)\n",
    "    #         print(\"\\t\".join(list(map(str, df.values[0]))))"
   ]
  },
  {
   "cell_type": "code",
   "execution_count": 60,
   "id": "d3ae0c5d",
   "metadata": {
    "scrolled": true
   },
   "outputs": [
    {
     "name": "stdout",
     "output_type": "stream",
     "text": [
      "ACTOR LOSS = mse || K = 10 || STEPS = 1\n"
     ]
    },
    {
     "name": "stderr",
     "output_type": "stream",
     "text": [
      "100%|████████████████████████████████████████████████████████████████| 44/44 [00:04<00:00,  9.32it/s]\n",
      "100%|████████████████████████████████████████████████████████| 20480/20480 [00:11<00:00, 1758.60it/s]\n",
      "100%|██████████████████████████████████████████████████████████████| 165/165 [00:19<00:00,  8.32it/s]\n"
     ]
    },
    {
     "data": {
      "text/html": [
       "<div>\n",
       "<style scoped>\n",
       "    .dataframe tbody tr th:only-of-type {\n",
       "        vertical-align: middle;\n",
       "    }\n",
       "\n",
       "    .dataframe tbody tr th {\n",
       "        vertical-align: top;\n",
       "    }\n",
       "\n",
       "    .dataframe thead th {\n",
       "        text-align: right;\n",
       "    }\n",
       "</style>\n",
       "<table border=\"1\" class=\"dataframe\">\n",
       "  <thead>\n",
       "    <tr style=\"text-align: right;\">\n",
       "      <th></th>\n",
       "      <th>mean</th>\n",
       "      <th>std</th>\n",
       "      <th>total</th>\n",
       "      <th>&lt;10 %</th>\n",
       "      <th>&lt;5 %</th>\n",
       "      <th>&lt;1 %</th>\n",
       "    </tr>\n",
       "  </thead>\n",
       "  <tbody>\n",
       "    <tr>\n",
       "      <th>euclidean</th>\n",
       "      <td>1.69</td>\n",
       "      <td>38.2</td>\n",
       "      <td>431.14</td>\n",
       "      <td>98.77</td>\n",
       "      <td>98.75</td>\n",
       "      <td>98.71</td>\n",
       "    </tr>\n",
       "  </tbody>\n",
       "</table>\n",
       "</div>"
      ],
      "text/plain": [
       "           mean   std   total  <10 %   <5 %   <1 %\n",
       "euclidean  1.69  38.2  431.14  98.77  98.75  98.71"
      ]
     },
     "metadata": {},
     "output_type": "display_data"
    },
    {
     "name": "stderr",
     "output_type": "stream",
     "text": [
      "100%|████████████████████████████████████████████████████████| 20480/20480 [00:14<00:00, 1400.91it/s]\n",
      "100%|██████████████████████████████████████████████████████████████| 165/165 [00:20<00:00,  7.95it/s]\n"
     ]
    },
    {
     "data": {
      "text/html": [
       "<div>\n",
       "<style scoped>\n",
       "    .dataframe tbody tr th:only-of-type {\n",
       "        vertical-align: middle;\n",
       "    }\n",
       "\n",
       "    .dataframe tbody tr th {\n",
       "        vertical-align: top;\n",
       "    }\n",
       "\n",
       "    .dataframe thead th {\n",
       "        text-align: right;\n",
       "    }\n",
       "</style>\n",
       "<table border=\"1\" class=\"dataframe\">\n",
       "  <thead>\n",
       "    <tr style=\"text-align: right;\">\n",
       "      <th></th>\n",
       "      <th>mean</th>\n",
       "      <th>std</th>\n",
       "      <th>total</th>\n",
       "      <th>&lt;10 %</th>\n",
       "      <th>&lt;5 %</th>\n",
       "      <th>&lt;1 %</th>\n",
       "    </tr>\n",
       "  </thead>\n",
       "  <tbody>\n",
       "    <tr>\n",
       "      <th>cosine</th>\n",
       "      <td>1.44</td>\n",
       "      <td>33.92</td>\n",
       "      <td>431.14</td>\n",
       "      <td>99.02</td>\n",
       "      <td>98.97</td>\n",
       "      <td>98.94</td>\n",
       "    </tr>\n",
       "  </tbody>\n",
       "</table>\n",
       "</div>"
      ],
      "text/plain": [
       "        mean    std   total  <10 %   <5 %   <1 %\n",
       "cosine  1.44  33.92  431.14  99.02  98.97  98.94"
      ]
     },
     "metadata": {},
     "output_type": "display_data"
    },
    {
     "name": "stdout",
     "output_type": "stream",
     "text": [
      "\n",
      "\n",
      "ACTOR LOSS = mse || K = 10 || STEPS = 2\n"
     ]
    },
    {
     "name": "stderr",
     "output_type": "stream",
     "text": [
      "100%|████████████████████████████████████████████████████████████████| 44/44 [00:04<00:00,  9.40it/s]\n",
      "100%|████████████████████████████████████████████████████████| 20608/20608 [00:11<00:00, 1735.19it/s]\n",
      "100%|██████████████████████████████████████████████████████████████| 142/142 [00:16<00:00,  8.85it/s]\n"
     ]
    },
    {
     "data": {
      "text/html": [
       "<div>\n",
       "<style scoped>\n",
       "    .dataframe tbody tr th:only-of-type {\n",
       "        vertical-align: middle;\n",
       "    }\n",
       "\n",
       "    .dataframe tbody tr th {\n",
       "        vertical-align: top;\n",
       "    }\n",
       "\n",
       "    .dataframe thead th {\n",
       "        text-align: right;\n",
       "    }\n",
       "</style>\n",
       "<table border=\"1\" class=\"dataframe\">\n",
       "  <thead>\n",
       "    <tr style=\"text-align: right;\">\n",
       "      <th></th>\n",
       "      <th>mean</th>\n",
       "      <th>std</th>\n",
       "      <th>total</th>\n",
       "      <th>&lt;10 %</th>\n",
       "      <th>&lt;5 %</th>\n",
       "      <th>&lt;1 %</th>\n",
       "    </tr>\n",
       "  </thead>\n",
       "  <tbody>\n",
       "    <tr>\n",
       "      <th>euclidean</th>\n",
       "      <td>27.4</td>\n",
       "      <td>167.86</td>\n",
       "      <td>385.75</td>\n",
       "      <td>85.99</td>\n",
       "      <td>85.92</td>\n",
       "      <td>85.87</td>\n",
       "    </tr>\n",
       "  </tbody>\n",
       "</table>\n",
       "</div>"
      ],
      "text/plain": [
       "           mean     std   total  <10 %   <5 %   <1 %\n",
       "euclidean  27.4  167.86  385.75  85.99  85.92  85.87"
      ]
     },
     "metadata": {},
     "output_type": "display_data"
    },
    {
     "name": "stderr",
     "output_type": "stream",
     "text": [
      "100%|████████████████████████████████████████████████████████| 20608/20608 [00:14<00:00, 1394.21it/s]\n",
      "100%|██████████████████████████████████████████████████████████████| 145/145 [00:17<00:00,  8.37it/s]\n"
     ]
    },
    {
     "data": {
      "text/html": [
       "<div>\n",
       "<style scoped>\n",
       "    .dataframe tbody tr th:only-of-type {\n",
       "        vertical-align: middle;\n",
       "    }\n",
       "\n",
       "    .dataframe tbody tr th {\n",
       "        vertical-align: top;\n",
       "    }\n",
       "\n",
       "    .dataframe thead th {\n",
       "        text-align: right;\n",
       "    }\n",
       "</style>\n",
       "<table border=\"1\" class=\"dataframe\">\n",
       "  <thead>\n",
       "    <tr style=\"text-align: right;\">\n",
       "      <th></th>\n",
       "      <th>mean</th>\n",
       "      <th>std</th>\n",
       "      <th>total</th>\n",
       "      <th>&lt;10 %</th>\n",
       "      <th>&lt;5 %</th>\n",
       "      <th>&lt;1 %</th>\n",
       "    </tr>\n",
       "  </thead>\n",
       "  <tbody>\n",
       "    <tr>\n",
       "      <th>cosine</th>\n",
       "      <td>24.47</td>\n",
       "      <td>160.35</td>\n",
       "      <td>385.75</td>\n",
       "      <td>87.58</td>\n",
       "      <td>87.5</td>\n",
       "      <td>87.45</td>\n",
       "    </tr>\n",
       "  </tbody>\n",
       "</table>\n",
       "</div>"
      ],
      "text/plain": [
       "         mean     std   total  <10 %  <5 %   <1 %\n",
       "cosine  24.47  160.35  385.75  87.58  87.5  87.45"
      ]
     },
     "metadata": {},
     "output_type": "display_data"
    },
    {
     "name": "stdout",
     "output_type": "stream",
     "text": [
      "\n",
      "\n",
      "ACTOR LOSS = mse || K = 10 || STEPS = 5\n"
     ]
    },
    {
     "name": "stderr",
     "output_type": "stream",
     "text": [
      "100%|████████████████████████████████████████████████████████████████| 44/44 [00:04<00:00,  9.21it/s]\n",
      "100%|████████████████████████████████████████████████████████| 21632/21632 [00:12<00:00, 1711.63it/s]\n",
      "100%|████████████████████████████████████████████████████████████████| 95/95 [00:12<00:00,  7.77it/s]\n"
     ]
    },
    {
     "data": {
      "text/html": [
       "<div>\n",
       "<style scoped>\n",
       "    .dataframe tbody tr th:only-of-type {\n",
       "        vertical-align: middle;\n",
       "    }\n",
       "\n",
       "    .dataframe tbody tr th {\n",
       "        vertical-align: top;\n",
       "    }\n",
       "\n",
       "    .dataframe thead th {\n",
       "        text-align: right;\n",
       "    }\n",
       "</style>\n",
       "<table border=\"1\" class=\"dataframe\">\n",
       "  <thead>\n",
       "    <tr style=\"text-align: right;\">\n",
       "      <th></th>\n",
       "      <th>mean</th>\n",
       "      <th>std</th>\n",
       "      <th>total</th>\n",
       "      <th>&lt;10 %</th>\n",
       "      <th>&lt;5 %</th>\n",
       "      <th>&lt;1 %</th>\n",
       "    </tr>\n",
       "  </thead>\n",
       "  <tbody>\n",
       "    <tr>\n",
       "      <th>euclidean</th>\n",
       "      <td>88.27</td>\n",
       "      <td>270.71</td>\n",
       "      <td>321.17</td>\n",
       "      <td>57.72</td>\n",
       "      <td>51.28</td>\n",
       "      <td>36.27</td>\n",
       "    </tr>\n",
       "  </tbody>\n",
       "</table>\n",
       "</div>"
      ],
      "text/plain": [
       "            mean     std   total  <10 %   <5 %   <1 %\n",
       "euclidean  88.27  270.71  321.17  57.72  51.28  36.27"
      ]
     },
     "metadata": {},
     "output_type": "display_data"
    },
    {
     "name": "stderr",
     "output_type": "stream",
     "text": [
      "100%|████████████████████████████████████████████████████████| 21632/21632 [00:15<00:00, 1361.58it/s]\n",
      "100%|██████████████████████████████████████████████████████████████| 105/105 [00:13<00:00,  7.78it/s]\n"
     ]
    },
    {
     "data": {
      "text/html": [
       "<div>\n",
       "<style scoped>\n",
       "    .dataframe tbody tr th:only-of-type {\n",
       "        vertical-align: middle;\n",
       "    }\n",
       "\n",
       "    .dataframe tbody tr th {\n",
       "        vertical-align: top;\n",
       "    }\n",
       "\n",
       "    .dataframe thead th {\n",
       "        text-align: right;\n",
       "    }\n",
       "</style>\n",
       "<table border=\"1\" class=\"dataframe\">\n",
       "  <thead>\n",
       "    <tr style=\"text-align: right;\">\n",
       "      <th></th>\n",
       "      <th>mean</th>\n",
       "      <th>std</th>\n",
       "      <th>total</th>\n",
       "      <th>&lt;10 %</th>\n",
       "      <th>&lt;5 %</th>\n",
       "      <th>&lt;1 %</th>\n",
       "    </tr>\n",
       "  </thead>\n",
       "  <tbody>\n",
       "    <tr>\n",
       "      <th>cosine</th>\n",
       "      <td>77.93</td>\n",
       "      <td>259.51</td>\n",
       "      <td>321.17</td>\n",
       "      <td>62.24</td>\n",
       "      <td>55.62</td>\n",
       "      <td>40.18</td>\n",
       "    </tr>\n",
       "  </tbody>\n",
       "</table>\n",
       "</div>"
      ],
      "text/plain": [
       "         mean     std   total  <10 %   <5 %   <1 %\n",
       "cosine  77.93  259.51  321.17  62.24  55.62  40.18"
      ]
     },
     "metadata": {},
     "output_type": "display_data"
    },
    {
     "name": "stdout",
     "output_type": "stream",
     "text": [
      "\n",
      "\n",
      "ACTOR LOSS = mse || K = 20 || STEPS = 1\n"
     ]
    },
    {
     "name": "stderr",
     "output_type": "stream",
     "text": [
      "100%|████████████████████████████████████████████████████████████████| 44/44 [00:04<00:00,  9.93it/s]\n",
      "100%|████████████████████████████████████████████████████████| 20480/20480 [00:11<00:00, 1740.85it/s]\n",
      "100%|██████████████████████████████████████████████████████████████| 302/302 [00:37<00:00,  8.07it/s]\n"
     ]
    },
    {
     "data": {
      "text/html": [
       "<div>\n",
       "<style scoped>\n",
       "    .dataframe tbody tr th:only-of-type {\n",
       "        vertical-align: middle;\n",
       "    }\n",
       "\n",
       "    .dataframe tbody tr th {\n",
       "        vertical-align: top;\n",
       "    }\n",
       "\n",
       "    .dataframe thead th {\n",
       "        text-align: right;\n",
       "    }\n",
       "</style>\n",
       "<table border=\"1\" class=\"dataframe\">\n",
       "  <thead>\n",
       "    <tr style=\"text-align: right;\">\n",
       "      <th></th>\n",
       "      <th>mean</th>\n",
       "      <th>std</th>\n",
       "      <th>total</th>\n",
       "      <th>&lt;10 %</th>\n",
       "      <th>&lt;5 %</th>\n",
       "      <th>&lt;1 %</th>\n",
       "    </tr>\n",
       "  </thead>\n",
       "  <tbody>\n",
       "    <tr>\n",
       "      <th>euclidean</th>\n",
       "      <td>1.65</td>\n",
       "      <td>38.2</td>\n",
       "      <td>431.14</td>\n",
       "      <td>99.1</td>\n",
       "      <td>99.06</td>\n",
       "      <td>99.04</td>\n",
       "    </tr>\n",
       "  </tbody>\n",
       "</table>\n",
       "</div>"
      ],
      "text/plain": [
       "           mean   std   total  <10 %   <5 %   <1 %\n",
       "euclidean  1.65  38.2  431.14   99.1  99.06  99.04"
      ]
     },
     "metadata": {},
     "output_type": "display_data"
    },
    {
     "name": "stderr",
     "output_type": "stream",
     "text": [
      "100%|████████████████████████████████████████████████████████| 20480/20480 [00:14<00:00, 1399.11it/s]\n",
      "100%|██████████████████████████████████████████████████████████████| 303/303 [00:35<00:00,  8.65it/s]\n"
     ]
    },
    {
     "data": {
      "text/html": [
       "<div>\n",
       "<style scoped>\n",
       "    .dataframe tbody tr th:only-of-type {\n",
       "        vertical-align: middle;\n",
       "    }\n",
       "\n",
       "    .dataframe tbody tr th {\n",
       "        vertical-align: top;\n",
       "    }\n",
       "\n",
       "    .dataframe thead th {\n",
       "        text-align: right;\n",
       "    }\n",
       "</style>\n",
       "<table border=\"1\" class=\"dataframe\">\n",
       "  <thead>\n",
       "    <tr style=\"text-align: right;\">\n",
       "      <th></th>\n",
       "      <th>mean</th>\n",
       "      <th>std</th>\n",
       "      <th>total</th>\n",
       "      <th>&lt;10 %</th>\n",
       "      <th>&lt;5 %</th>\n",
       "      <th>&lt;1 %</th>\n",
       "    </tr>\n",
       "  </thead>\n",
       "  <tbody>\n",
       "    <tr>\n",
       "      <th>cosine</th>\n",
       "      <td>1.41</td>\n",
       "      <td>33.91</td>\n",
       "      <td>431.14</td>\n",
       "      <td>99.27</td>\n",
       "      <td>99.23</td>\n",
       "      <td>99.2</td>\n",
       "    </tr>\n",
       "  </tbody>\n",
       "</table>\n",
       "</div>"
      ],
      "text/plain": [
       "        mean    std   total  <10 %   <5 %  <1 %\n",
       "cosine  1.41  33.91  431.14  99.27  99.23  99.2"
      ]
     },
     "metadata": {},
     "output_type": "display_data"
    },
    {
     "name": "stdout",
     "output_type": "stream",
     "text": [
      "\n",
      "\n",
      "ACTOR LOSS = mse || K = 20 || STEPS = 2\n"
     ]
    },
    {
     "name": "stderr",
     "output_type": "stream",
     "text": [
      "100%|████████████████████████████████████████████████████████████████| 44/44 [00:04<00:00, 10.18it/s]\n",
      "100%|████████████████████████████████████████████████████████| 20608/20608 [00:11<00:00, 1719.36it/s]\n",
      "100%|██████████████████████████████████████████████████████████████| 268/268 [00:30<00:00,  8.66it/s]\n"
     ]
    },
    {
     "data": {
      "text/html": [
       "<div>\n",
       "<style scoped>\n",
       "    .dataframe tbody tr th:only-of-type {\n",
       "        vertical-align: middle;\n",
       "    }\n",
       "\n",
       "    .dataframe tbody tr th {\n",
       "        vertical-align: top;\n",
       "    }\n",
       "\n",
       "    .dataframe thead th {\n",
       "        text-align: right;\n",
       "    }\n",
       "</style>\n",
       "<table border=\"1\" class=\"dataframe\">\n",
       "  <thead>\n",
       "    <tr style=\"text-align: right;\">\n",
       "      <th></th>\n",
       "      <th>mean</th>\n",
       "      <th>std</th>\n",
       "      <th>total</th>\n",
       "      <th>&lt;10 %</th>\n",
       "      <th>&lt;5 %</th>\n",
       "      <th>&lt;1 %</th>\n",
       "    </tr>\n",
       "  </thead>\n",
       "  <tbody>\n",
       "    <tr>\n",
       "      <th>euclidean</th>\n",
       "      <td>26.91</td>\n",
       "      <td>167.92</td>\n",
       "      <td>385.75</td>\n",
       "      <td>89.49</td>\n",
       "      <td>89.44</td>\n",
       "      <td>89.41</td>\n",
       "    </tr>\n",
       "  </tbody>\n",
       "</table>\n",
       "</div>"
      ],
      "text/plain": [
       "            mean     std   total  <10 %   <5 %   <1 %\n",
       "euclidean  26.91  167.92  385.75  89.49  89.44  89.41"
      ]
     },
     "metadata": {},
     "output_type": "display_data"
    },
    {
     "name": "stderr",
     "output_type": "stream",
     "text": [
      "100%|████████████████████████████████████████████████████████| 20608/20608 [00:14<00:00, 1410.65it/s]\n",
      "100%|██████████████████████████████████████████████████████████████| 273/273 [00:34<00:00,  7.86it/s]\n"
     ]
    },
    {
     "data": {
      "text/html": [
       "<div>\n",
       "<style scoped>\n",
       "    .dataframe tbody tr th:only-of-type {\n",
       "        vertical-align: middle;\n",
       "    }\n",
       "\n",
       "    .dataframe tbody tr th {\n",
       "        vertical-align: top;\n",
       "    }\n",
       "\n",
       "    .dataframe thead th {\n",
       "        text-align: right;\n",
       "    }\n",
       "</style>\n",
       "<table border=\"1\" class=\"dataframe\">\n",
       "  <thead>\n",
       "    <tr style=\"text-align: right;\">\n",
       "      <th></th>\n",
       "      <th>mean</th>\n",
       "      <th>std</th>\n",
       "      <th>total</th>\n",
       "      <th>&lt;10 %</th>\n",
       "      <th>&lt;5 %</th>\n",
       "      <th>&lt;1 %</th>\n",
       "    </tr>\n",
       "  </thead>\n",
       "  <tbody>\n",
       "    <tr>\n",
       "      <th>cosine</th>\n",
       "      <td>24.04</td>\n",
       "      <td>160.4</td>\n",
       "      <td>385.75</td>\n",
       "      <td>90.75</td>\n",
       "      <td>90.71</td>\n",
       "      <td>90.67</td>\n",
       "    </tr>\n",
       "  </tbody>\n",
       "</table>\n",
       "</div>"
      ],
      "text/plain": [
       "         mean    std   total  <10 %   <5 %   <1 %\n",
       "cosine  24.04  160.4  385.75  90.75  90.71  90.67"
      ]
     },
     "metadata": {},
     "output_type": "display_data"
    },
    {
     "name": "stdout",
     "output_type": "stream",
     "text": [
      "\n",
      "\n",
      "ACTOR LOSS = mse || K = 20 || STEPS = 5\n"
     ]
    },
    {
     "name": "stderr",
     "output_type": "stream",
     "text": [
      "100%|████████████████████████████████████████████████████████████████| 44/44 [00:04<00:00,  9.64it/s]\n",
      "100%|████████████████████████████████████████████████████████| 21632/21632 [00:12<00:00, 1730.83it/s]\n",
      "100%|██████████████████████████████████████████████████████████████| 193/193 [00:24<00:00,  7.80it/s]\n"
     ]
    },
    {
     "data": {
      "text/html": [
       "<div>\n",
       "<style scoped>\n",
       "    .dataframe tbody tr th:only-of-type {\n",
       "        vertical-align: middle;\n",
       "    }\n",
       "\n",
       "    .dataframe tbody tr th {\n",
       "        vertical-align: top;\n",
       "    }\n",
       "\n",
       "    .dataframe thead th {\n",
       "        text-align: right;\n",
       "    }\n",
       "</style>\n",
       "<table border=\"1\" class=\"dataframe\">\n",
       "  <thead>\n",
       "    <tr style=\"text-align: right;\">\n",
       "      <th></th>\n",
       "      <th>mean</th>\n",
       "      <th>std</th>\n",
       "      <th>total</th>\n",
       "      <th>&lt;10 %</th>\n",
       "      <th>&lt;5 %</th>\n",
       "      <th>&lt;1 %</th>\n",
       "    </tr>\n",
       "  </thead>\n",
       "  <tbody>\n",
       "    <tr>\n",
       "      <th>euclidean</th>\n",
       "      <td>88.24</td>\n",
       "      <td>270.72</td>\n",
       "      <td>321.17</td>\n",
       "      <td>59.45</td>\n",
       "      <td>51.15</td>\n",
       "      <td>33.71</td>\n",
       "    </tr>\n",
       "  </tbody>\n",
       "</table>\n",
       "</div>"
      ],
      "text/plain": [
       "            mean     std   total  <10 %   <5 %   <1 %\n",
       "euclidean  88.24  270.72  321.17  59.45  51.15  33.71"
      ]
     },
     "metadata": {},
     "output_type": "display_data"
    },
    {
     "name": "stderr",
     "output_type": "stream",
     "text": [
      "100%|████████████████████████████████████████████████████████| 21632/21632 [00:15<00:00, 1386.98it/s]\n",
      "100%|██████████████████████████████████████████████████████████████| 208/208 [00:28<00:00,  7.34it/s]\n"
     ]
    },
    {
     "data": {
      "text/html": [
       "<div>\n",
       "<style scoped>\n",
       "    .dataframe tbody tr th:only-of-type {\n",
       "        vertical-align: middle;\n",
       "    }\n",
       "\n",
       "    .dataframe tbody tr th {\n",
       "        vertical-align: top;\n",
       "    }\n",
       "\n",
       "    .dataframe thead th {\n",
       "        text-align: right;\n",
       "    }\n",
       "</style>\n",
       "<table border=\"1\" class=\"dataframe\">\n",
       "  <thead>\n",
       "    <tr style=\"text-align: right;\">\n",
       "      <th></th>\n",
       "      <th>mean</th>\n",
       "      <th>std</th>\n",
       "      <th>total</th>\n",
       "      <th>&lt;10 %</th>\n",
       "      <th>&lt;5 %</th>\n",
       "      <th>&lt;1 %</th>\n",
       "    </tr>\n",
       "  </thead>\n",
       "  <tbody>\n",
       "    <tr>\n",
       "      <th>cosine</th>\n",
       "      <td>78.02</td>\n",
       "      <td>259.48</td>\n",
       "      <td>321.17</td>\n",
       "      <td>63.05</td>\n",
       "      <td>54.67</td>\n",
       "      <td>37.16</td>\n",
       "    </tr>\n",
       "  </tbody>\n",
       "</table>\n",
       "</div>"
      ],
      "text/plain": [
       "         mean     std   total  <10 %   <5 %   <1 %\n",
       "cosine  78.02  259.48  321.17  63.05  54.67  37.16"
      ]
     },
     "metadata": {},
     "output_type": "display_data"
    },
    {
     "name": "stdout",
     "output_type": "stream",
     "text": [
      "\n",
      "\n",
      "ACTOR LOSS = mse || K = 50 || STEPS = 1\n"
     ]
    },
    {
     "name": "stderr",
     "output_type": "stream",
     "text": [
      "100%|████████████████████████████████████████████████████████████████| 44/44 [00:04<00:00,  9.32it/s]\n",
      "100%|████████████████████████████████████████████████████████| 20480/20480 [00:11<00:00, 1727.49it/s]\n",
      "100%|██████████████████████████████████████████████████████████████| 652/652 [01:17<00:00,  8.46it/s]\n"
     ]
    },
    {
     "data": {
      "text/html": [
       "<div>\n",
       "<style scoped>\n",
       "    .dataframe tbody tr th:only-of-type {\n",
       "        vertical-align: middle;\n",
       "    }\n",
       "\n",
       "    .dataframe tbody tr th {\n",
       "        vertical-align: top;\n",
       "    }\n",
       "\n",
       "    .dataframe thead th {\n",
       "        text-align: right;\n",
       "    }\n",
       "</style>\n",
       "<table border=\"1\" class=\"dataframe\">\n",
       "  <thead>\n",
       "    <tr style=\"text-align: right;\">\n",
       "      <th></th>\n",
       "      <th>mean</th>\n",
       "      <th>std</th>\n",
       "      <th>total</th>\n",
       "      <th>&lt;10 %</th>\n",
       "      <th>&lt;5 %</th>\n",
       "      <th>&lt;1 %</th>\n",
       "    </tr>\n",
       "  </thead>\n",
       "  <tbody>\n",
       "    <tr>\n",
       "      <th>euclidean</th>\n",
       "      <td>1.64</td>\n",
       "      <td>38.2</td>\n",
       "      <td>431.14</td>\n",
       "      <td>99.17</td>\n",
       "      <td>99.11</td>\n",
       "      <td>99.07</td>\n",
       "    </tr>\n",
       "  </tbody>\n",
       "</table>\n",
       "</div>"
      ],
      "text/plain": [
       "           mean   std   total  <10 %   <5 %   <1 %\n",
       "euclidean  1.64  38.2  431.14  99.17  99.11  99.07"
      ]
     },
     "metadata": {},
     "output_type": "display_data"
    },
    {
     "name": "stderr",
     "output_type": "stream",
     "text": [
      "100%|████████████████████████████████████████████████████████| 20480/20480 [00:14<00:00, 1384.89it/s]\n",
      "100%|██████████████████████████████████████████████████████████████| 653/653 [01:18<00:00,  8.34it/s]\n"
     ]
    },
    {
     "data": {
      "text/html": [
       "<div>\n",
       "<style scoped>\n",
       "    .dataframe tbody tr th:only-of-type {\n",
       "        vertical-align: middle;\n",
       "    }\n",
       "\n",
       "    .dataframe tbody tr th {\n",
       "        vertical-align: top;\n",
       "    }\n",
       "\n",
       "    .dataframe thead th {\n",
       "        text-align: right;\n",
       "    }\n",
       "</style>\n",
       "<table border=\"1\" class=\"dataframe\">\n",
       "  <thead>\n",
       "    <tr style=\"text-align: right;\">\n",
       "      <th></th>\n",
       "      <th>mean</th>\n",
       "      <th>std</th>\n",
       "      <th>total</th>\n",
       "      <th>&lt;10 %</th>\n",
       "      <th>&lt;5 %</th>\n",
       "      <th>&lt;1 %</th>\n",
       "    </tr>\n",
       "  </thead>\n",
       "  <tbody>\n",
       "    <tr>\n",
       "      <th>cosine</th>\n",
       "      <td>1.45</td>\n",
       "      <td>33.94</td>\n",
       "      <td>431.14</td>\n",
       "      <td>99.2</td>\n",
       "      <td>99.16</td>\n",
       "      <td>99.12</td>\n",
       "    </tr>\n",
       "  </tbody>\n",
       "</table>\n",
       "</div>"
      ],
      "text/plain": [
       "        mean    std   total  <10 %   <5 %   <1 %\n",
       "cosine  1.45  33.94  431.14   99.2  99.16  99.12"
      ]
     },
     "metadata": {},
     "output_type": "display_data"
    },
    {
     "name": "stdout",
     "output_type": "stream",
     "text": [
      "\n",
      "\n",
      "ACTOR LOSS = mse || K = 50 || STEPS = 2\n"
     ]
    },
    {
     "name": "stderr",
     "output_type": "stream",
     "text": [
      "100%|████████████████████████████████████████████████████████████████| 44/44 [00:04<00:00,  9.97it/s]\n",
      "100%|████████████████████████████████████████████████████████| 20608/20608 [00:12<00:00, 1693.98it/s]\n",
      "100%|██████████████████████████████████████████████████████████████| 587/587 [01:13<00:00,  7.97it/s]\n"
     ]
    },
    {
     "data": {
      "text/html": [
       "<div>\n",
       "<style scoped>\n",
       "    .dataframe tbody tr th:only-of-type {\n",
       "        vertical-align: middle;\n",
       "    }\n",
       "\n",
       "    .dataframe tbody tr th {\n",
       "        vertical-align: top;\n",
       "    }\n",
       "\n",
       "    .dataframe thead th {\n",
       "        text-align: right;\n",
       "    }\n",
       "</style>\n",
       "<table border=\"1\" class=\"dataframe\">\n",
       "  <thead>\n",
       "    <tr style=\"text-align: right;\">\n",
       "      <th></th>\n",
       "      <th>mean</th>\n",
       "      <th>std</th>\n",
       "      <th>total</th>\n",
       "      <th>&lt;10 %</th>\n",
       "      <th>&lt;5 %</th>\n",
       "      <th>&lt;1 %</th>\n",
       "    </tr>\n",
       "  </thead>\n",
       "  <tbody>\n",
       "    <tr>\n",
       "      <th>euclidean</th>\n",
       "      <td>25.98</td>\n",
       "      <td>167.98</td>\n",
       "      <td>385.75</td>\n",
       "      <td>92.57</td>\n",
       "      <td>92.49</td>\n",
       "      <td>92.45</td>\n",
       "    </tr>\n",
       "  </tbody>\n",
       "</table>\n",
       "</div>"
      ],
      "text/plain": [
       "            mean     std   total  <10 %   <5 %   <1 %\n",
       "euclidean  25.98  167.98  385.75  92.57  92.49  92.45"
      ]
     },
     "metadata": {},
     "output_type": "display_data"
    },
    {
     "name": "stderr",
     "output_type": "stream",
     "text": [
      "100%|████████████████████████████████████████████████████████| 20608/20608 [00:14<00:00, 1397.61it/s]\n",
      "100%|██████████████████████████████████████████████████████████████| 596/596 [01:12<00:00,  8.24it/s]\n"
     ]
    },
    {
     "data": {
      "text/html": [
       "<div>\n",
       "<style scoped>\n",
       "    .dataframe tbody tr th:only-of-type {\n",
       "        vertical-align: middle;\n",
       "    }\n",
       "\n",
       "    .dataframe tbody tr th {\n",
       "        vertical-align: top;\n",
       "    }\n",
       "\n",
       "    .dataframe thead th {\n",
       "        text-align: right;\n",
       "    }\n",
       "</style>\n",
       "<table border=\"1\" class=\"dataframe\">\n",
       "  <thead>\n",
       "    <tr style=\"text-align: right;\">\n",
       "      <th></th>\n",
       "      <th>mean</th>\n",
       "      <th>std</th>\n",
       "      <th>total</th>\n",
       "      <th>&lt;10 %</th>\n",
       "      <th>&lt;5 %</th>\n",
       "      <th>&lt;1 %</th>\n",
       "    </tr>\n",
       "  </thead>\n",
       "  <tbody>\n",
       "    <tr>\n",
       "      <th>cosine</th>\n",
       "      <td>23.18</td>\n",
       "      <td>160.43</td>\n",
       "      <td>385.75</td>\n",
       "      <td>93.54</td>\n",
       "      <td>93.48</td>\n",
       "      <td>93.43</td>\n",
       "    </tr>\n",
       "  </tbody>\n",
       "</table>\n",
       "</div>"
      ],
      "text/plain": [
       "         mean     std   total  <10 %   <5 %   <1 %\n",
       "cosine  23.18  160.43  385.75  93.54  93.48  93.43"
      ]
     },
     "metadata": {},
     "output_type": "display_data"
    },
    {
     "name": "stdout",
     "output_type": "stream",
     "text": [
      "\n",
      "\n",
      "ACTOR LOSS = mse || K = 50 || STEPS = 5\n"
     ]
    },
    {
     "name": "stderr",
     "output_type": "stream",
     "text": [
      "100%|████████████████████████████████████████████████████████████████| 44/44 [00:04<00:00,  9.30it/s]\n",
      "100%|████████████████████████████████████████████████████████| 21632/21632 [00:12<00:00, 1710.09it/s]\n",
      "100%|██████████████████████████████████████████████████████████████| 453/453 [01:00<00:00,  7.52it/s]\n"
     ]
    },
    {
     "data": {
      "text/html": [
       "<div>\n",
       "<style scoped>\n",
       "    .dataframe tbody tr th:only-of-type {\n",
       "        vertical-align: middle;\n",
       "    }\n",
       "\n",
       "    .dataframe tbody tr th {\n",
       "        vertical-align: top;\n",
       "    }\n",
       "\n",
       "    .dataframe thead th {\n",
       "        text-align: right;\n",
       "    }\n",
       "</style>\n",
       "<table border=\"1\" class=\"dataframe\">\n",
       "  <thead>\n",
       "    <tr style=\"text-align: right;\">\n",
       "      <th></th>\n",
       "      <th>mean</th>\n",
       "      <th>std</th>\n",
       "      <th>total</th>\n",
       "      <th>&lt;10 %</th>\n",
       "      <th>&lt;5 %</th>\n",
       "      <th>&lt;1 %</th>\n",
       "    </tr>\n",
       "  </thead>\n",
       "  <tbody>\n",
       "    <tr>\n",
       "      <th>euclidean</th>\n",
       "      <td>87.77</td>\n",
       "      <td>270.83</td>\n",
       "      <td>321.17</td>\n",
       "      <td>60.66</td>\n",
       "      <td>51.23</td>\n",
       "      <td>32.66</td>\n",
       "    </tr>\n",
       "  </tbody>\n",
       "</table>\n",
       "</div>"
      ],
      "text/plain": [
       "            mean     std   total  <10 %   <5 %   <1 %\n",
       "euclidean  87.77  270.83  321.17  60.66  51.23  32.66"
      ]
     },
     "metadata": {},
     "output_type": "display_data"
    },
    {
     "name": "stderr",
     "output_type": "stream",
     "text": [
      "100%|████████████████████████████████████████████████████████| 21632/21632 [00:15<00:00, 1379.32it/s]\n",
      "100%|██████████████████████████████████████████████████████████████| 483/483 [01:04<00:00,  7.50it/s]\n"
     ]
    },
    {
     "data": {
      "text/html": [
       "<div>\n",
       "<style scoped>\n",
       "    .dataframe tbody tr th:only-of-type {\n",
       "        vertical-align: middle;\n",
       "    }\n",
       "\n",
       "    .dataframe tbody tr th {\n",
       "        vertical-align: top;\n",
       "    }\n",
       "\n",
       "    .dataframe thead th {\n",
       "        text-align: right;\n",
       "    }\n",
       "</style>\n",
       "<table border=\"1\" class=\"dataframe\">\n",
       "  <thead>\n",
       "    <tr style=\"text-align: right;\">\n",
       "      <th></th>\n",
       "      <th>mean</th>\n",
       "      <th>std</th>\n",
       "      <th>total</th>\n",
       "      <th>&lt;10 %</th>\n",
       "      <th>&lt;5 %</th>\n",
       "      <th>&lt;1 %</th>\n",
       "    </tr>\n",
       "  </thead>\n",
       "  <tbody>\n",
       "    <tr>\n",
       "      <th>cosine</th>\n",
       "      <td>77.86</td>\n",
       "      <td>259.51</td>\n",
       "      <td>321.17</td>\n",
       "      <td>63.39</td>\n",
       "      <td>53.86</td>\n",
       "      <td>35.19</td>\n",
       "    </tr>\n",
       "  </tbody>\n",
       "</table>\n",
       "</div>"
      ],
      "text/plain": [
       "         mean     std   total  <10 %   <5 %   <1 %\n",
       "cosine  77.86  259.51  321.17  63.39  53.86  35.19"
      ]
     },
     "metadata": {},
     "output_type": "display_data"
    },
    {
     "name": "stdout",
     "output_type": "stream",
     "text": [
      "\n",
      "\n",
      "ACTOR LOSS = triplet || K = 10 || STEPS = 1\n"
     ]
    },
    {
     "name": "stderr",
     "output_type": "stream",
     "text": [
      "100%|████████████████████████████████████████████████████████████████| 44/44 [00:04<00:00,  9.40it/s]\n",
      "100%|████████████████████████████████████████████████████████| 20480/20480 [00:11<00:00, 1757.95it/s]\n",
      "100%|██████████████████████████████████████████████████████████████| 165/165 [00:20<00:00,  8.07it/s]\n"
     ]
    },
    {
     "data": {
      "text/html": [
       "<div>\n",
       "<style scoped>\n",
       "    .dataframe tbody tr th:only-of-type {\n",
       "        vertical-align: middle;\n",
       "    }\n",
       "\n",
       "    .dataframe tbody tr th {\n",
       "        vertical-align: top;\n",
       "    }\n",
       "\n",
       "    .dataframe thead th {\n",
       "        text-align: right;\n",
       "    }\n",
       "</style>\n",
       "<table border=\"1\" class=\"dataframe\">\n",
       "  <thead>\n",
       "    <tr style=\"text-align: right;\">\n",
       "      <th></th>\n",
       "      <th>mean</th>\n",
       "      <th>std</th>\n",
       "      <th>total</th>\n",
       "      <th>&lt;10 %</th>\n",
       "      <th>&lt;5 %</th>\n",
       "      <th>&lt;1 %</th>\n",
       "    </tr>\n",
       "  </thead>\n",
       "  <tbody>\n",
       "    <tr>\n",
       "      <th>euclidean</th>\n",
       "      <td>1.35</td>\n",
       "      <td>32.8</td>\n",
       "      <td>431.14</td>\n",
       "      <td>98.79</td>\n",
       "      <td>98.76</td>\n",
       "      <td>98.75</td>\n",
       "    </tr>\n",
       "  </tbody>\n",
       "</table>\n",
       "</div>"
      ],
      "text/plain": [
       "           mean   std   total  <10 %   <5 %   <1 %\n",
       "euclidean  1.35  32.8  431.14  98.79  98.76  98.75"
      ]
     },
     "metadata": {},
     "output_type": "display_data"
    },
    {
     "name": "stderr",
     "output_type": "stream",
     "text": [
      "100%|████████████████████████████████████████████████████████| 20480/20480 [00:14<00:00, 1397.07it/s]\n",
      "100%|██████████████████████████████████████████████████████████████| 166/166 [00:19<00:00,  8.32it/s]\n"
     ]
    },
    {
     "data": {
      "text/html": [
       "<div>\n",
       "<style scoped>\n",
       "    .dataframe tbody tr th:only-of-type {\n",
       "        vertical-align: middle;\n",
       "    }\n",
       "\n",
       "    .dataframe tbody tr th {\n",
       "        vertical-align: top;\n",
       "    }\n",
       "\n",
       "    .dataframe thead th {\n",
       "        text-align: right;\n",
       "    }\n",
       "</style>\n",
       "<table border=\"1\" class=\"dataframe\">\n",
       "  <thead>\n",
       "    <tr style=\"text-align: right;\">\n",
       "      <th></th>\n",
       "      <th>mean</th>\n",
       "      <th>std</th>\n",
       "      <th>total</th>\n",
       "      <th>&lt;10 %</th>\n",
       "      <th>&lt;5 %</th>\n",
       "      <th>&lt;1 %</th>\n",
       "    </tr>\n",
       "  </thead>\n",
       "  <tbody>\n",
       "    <tr>\n",
       "      <th>cosine</th>\n",
       "      <td>0.81</td>\n",
       "      <td>27.64</td>\n",
       "      <td>431.14</td>\n",
       "      <td>99.41</td>\n",
       "      <td>99.39</td>\n",
       "      <td>99.37</td>\n",
       "    </tr>\n",
       "  </tbody>\n",
       "</table>\n",
       "</div>"
      ],
      "text/plain": [
       "        mean    std   total  <10 %   <5 %   <1 %\n",
       "cosine  0.81  27.64  431.14  99.41  99.39  99.37"
      ]
     },
     "metadata": {},
     "output_type": "display_data"
    },
    {
     "name": "stdout",
     "output_type": "stream",
     "text": [
      "\n",
      "\n",
      "ACTOR LOSS = triplet || K = 10 || STEPS = 2\n"
     ]
    },
    {
     "name": "stderr",
     "output_type": "stream",
     "text": [
      "100%|████████████████████████████████████████████████████████████████| 44/44 [00:04<00:00,  9.83it/s]\n",
      "100%|████████████████████████████████████████████████████████| 20608/20608 [00:11<00:00, 1732.13it/s]\n",
      "100%|██████████████████████████████████████████████████████████████| 147/147 [00:18<00:00,  7.92it/s]\n"
     ]
    },
    {
     "data": {
      "text/html": [
       "<div>\n",
       "<style scoped>\n",
       "    .dataframe tbody tr th:only-of-type {\n",
       "        vertical-align: middle;\n",
       "    }\n",
       "\n",
       "    .dataframe tbody tr th {\n",
       "        vertical-align: top;\n",
       "    }\n",
       "\n",
       "    .dataframe thead th {\n",
       "        text-align: right;\n",
       "    }\n",
       "</style>\n",
       "<table border=\"1\" class=\"dataframe\">\n",
       "  <thead>\n",
       "    <tr style=\"text-align: right;\">\n",
       "      <th></th>\n",
       "      <th>mean</th>\n",
       "      <th>std</th>\n",
       "      <th>total</th>\n",
       "      <th>&lt;10 %</th>\n",
       "      <th>&lt;5 %</th>\n",
       "      <th>&lt;1 %</th>\n",
       "    </tr>\n",
       "  </thead>\n",
       "  <tbody>\n",
       "    <tr>\n",
       "      <th>euclidean</th>\n",
       "      <td>22.05</td>\n",
       "      <td>151.08</td>\n",
       "      <td>385.75</td>\n",
       "      <td>88.52</td>\n",
       "      <td>88.44</td>\n",
       "      <td>88.38</td>\n",
       "    </tr>\n",
       "  </tbody>\n",
       "</table>\n",
       "</div>"
      ],
      "text/plain": [
       "            mean     std   total  <10 %   <5 %   <1 %\n",
       "euclidean  22.05  151.08  385.75  88.52  88.44  88.38"
      ]
     },
     "metadata": {},
     "output_type": "display_data"
    },
    {
     "name": "stderr",
     "output_type": "stream",
     "text": [
      "100%|████████████████████████████████████████████████████████| 20608/20608 [00:14<00:00, 1410.65it/s]\n",
      "100%|██████████████████████████████████████████████████████████████| 150/150 [00:19<00:00,  7.78it/s]\n"
     ]
    },
    {
     "data": {
      "text/html": [
       "<div>\n",
       "<style scoped>\n",
       "    .dataframe tbody tr th:only-of-type {\n",
       "        vertical-align: middle;\n",
       "    }\n",
       "\n",
       "    .dataframe tbody tr th {\n",
       "        vertical-align: top;\n",
       "    }\n",
       "\n",
       "    .dataframe thead th {\n",
       "        text-align: right;\n",
       "    }\n",
       "</style>\n",
       "<table border=\"1\" class=\"dataframe\">\n",
       "  <thead>\n",
       "    <tr style=\"text-align: right;\">\n",
       "      <th></th>\n",
       "      <th>mean</th>\n",
       "      <th>std</th>\n",
       "      <th>total</th>\n",
       "      <th>&lt;10 %</th>\n",
       "      <th>&lt;5 %</th>\n",
       "      <th>&lt;1 %</th>\n",
       "    </tr>\n",
       "  </thead>\n",
       "  <tbody>\n",
       "    <tr>\n",
       "      <th>cosine</th>\n",
       "      <td>19.33</td>\n",
       "      <td>142.02</td>\n",
       "      <td>385.75</td>\n",
       "      <td>89.93</td>\n",
       "      <td>89.85</td>\n",
       "      <td>89.78</td>\n",
       "    </tr>\n",
       "  </tbody>\n",
       "</table>\n",
       "</div>"
      ],
      "text/plain": [
       "         mean     std   total  <10 %   <5 %   <1 %\n",
       "cosine  19.33  142.02  385.75  89.93  89.85  89.78"
      ]
     },
     "metadata": {},
     "output_type": "display_data"
    },
    {
     "name": "stdout",
     "output_type": "stream",
     "text": [
      "\n",
      "\n",
      "ACTOR LOSS = triplet || K = 10 || STEPS = 5\n"
     ]
    },
    {
     "name": "stderr",
     "output_type": "stream",
     "text": [
      "100%|████████████████████████████████████████████████████████████████| 44/44 [00:04<00:00,  9.99it/s]\n",
      "100%|████████████████████████████████████████████████████████| 21632/21632 [00:12<00:00, 1690.90it/s]\n",
      "100%|██████████████████████████████████████████████████████████████| 110/110 [00:14<00:00,  7.57it/s]\n"
     ]
    },
    {
     "data": {
      "text/html": [
       "<div>\n",
       "<style scoped>\n",
       "    .dataframe tbody tr th:only-of-type {\n",
       "        vertical-align: middle;\n",
       "    }\n",
       "\n",
       "    .dataframe tbody tr th {\n",
       "        vertical-align: top;\n",
       "    }\n",
       "\n",
       "    .dataframe thead th {\n",
       "        text-align: right;\n",
       "    }\n",
       "</style>\n",
       "<table border=\"1\" class=\"dataframe\">\n",
       "  <thead>\n",
       "    <tr style=\"text-align: right;\">\n",
       "      <th></th>\n",
       "      <th>mean</th>\n",
       "      <th>std</th>\n",
       "      <th>total</th>\n",
       "      <th>&lt;10 %</th>\n",
       "      <th>&lt;5 %</th>\n",
       "      <th>&lt;1 %</th>\n",
       "    </tr>\n",
       "  </thead>\n",
       "  <tbody>\n",
       "    <tr>\n",
       "      <th>euclidean</th>\n",
       "      <td>74.93</td>\n",
       "      <td>252.81</td>\n",
       "      <td>321.17</td>\n",
       "      <td>64.55</td>\n",
       "      <td>58.25</td>\n",
       "      <td>42.75</td>\n",
       "    </tr>\n",
       "  </tbody>\n",
       "</table>\n",
       "</div>"
      ],
      "text/plain": [
       "            mean     std   total  <10 %   <5 %   <1 %\n",
       "euclidean  74.93  252.81  321.17  64.55  58.25  42.75"
      ]
     },
     "metadata": {},
     "output_type": "display_data"
    },
    {
     "name": "stderr",
     "output_type": "stream",
     "text": [
      "100%|████████████████████████████████████████████████████████| 21632/21632 [00:15<00:00, 1383.35it/s]\n",
      "100%|██████████████████████████████████████████████████████████████| 116/116 [00:15<00:00,  7.52it/s]\n"
     ]
    },
    {
     "data": {
      "text/html": [
       "<div>\n",
       "<style scoped>\n",
       "    .dataframe tbody tr th:only-of-type {\n",
       "        vertical-align: middle;\n",
       "    }\n",
       "\n",
       "    .dataframe tbody tr th {\n",
       "        vertical-align: top;\n",
       "    }\n",
       "\n",
       "    .dataframe thead th {\n",
       "        text-align: right;\n",
       "    }\n",
       "</style>\n",
       "<table border=\"1\" class=\"dataframe\">\n",
       "  <thead>\n",
       "    <tr style=\"text-align: right;\">\n",
       "      <th></th>\n",
       "      <th>mean</th>\n",
       "      <th>std</th>\n",
       "      <th>total</th>\n",
       "      <th>&lt;10 %</th>\n",
       "      <th>&lt;5 %</th>\n",
       "      <th>&lt;1 %</th>\n",
       "    </tr>\n",
       "  </thead>\n",
       "  <tbody>\n",
       "    <tr>\n",
       "      <th>cosine</th>\n",
       "      <td>68.21</td>\n",
       "      <td>243.58</td>\n",
       "      <td>321.17</td>\n",
       "      <td>67.72</td>\n",
       "      <td>61.37</td>\n",
       "      <td>45.07</td>\n",
       "    </tr>\n",
       "  </tbody>\n",
       "</table>\n",
       "</div>"
      ],
      "text/plain": [
       "         mean     std   total  <10 %   <5 %   <1 %\n",
       "cosine  68.21  243.58  321.17  67.72  61.37  45.07"
      ]
     },
     "metadata": {},
     "output_type": "display_data"
    },
    {
     "name": "stdout",
     "output_type": "stream",
     "text": [
      "\n",
      "\n",
      "ACTOR LOSS = triplet || K = 20 || STEPS = 1\n"
     ]
    },
    {
     "name": "stderr",
     "output_type": "stream",
     "text": [
      "100%|████████████████████████████████████████████████████████████████| 44/44 [00:04<00:00, 10.28it/s]\n",
      "100%|████████████████████████████████████████████████████████| 20480/20480 [00:11<00:00, 1729.48it/s]\n",
      "100%|██████████████████████████████████████████████████████████████| 302/302 [00:36<00:00,  8.30it/s]\n"
     ]
    },
    {
     "data": {
      "text/html": [
       "<div>\n",
       "<style scoped>\n",
       "    .dataframe tbody tr th:only-of-type {\n",
       "        vertical-align: middle;\n",
       "    }\n",
       "\n",
       "    .dataframe tbody tr th {\n",
       "        vertical-align: top;\n",
       "    }\n",
       "\n",
       "    .dataframe thead th {\n",
       "        text-align: right;\n",
       "    }\n",
       "</style>\n",
       "<table border=\"1\" class=\"dataframe\">\n",
       "  <thead>\n",
       "    <tr style=\"text-align: right;\">\n",
       "      <th></th>\n",
       "      <th>mean</th>\n",
       "      <th>std</th>\n",
       "      <th>total</th>\n",
       "      <th>&lt;10 %</th>\n",
       "      <th>&lt;5 %</th>\n",
       "      <th>&lt;1 %</th>\n",
       "    </tr>\n",
       "  </thead>\n",
       "  <tbody>\n",
       "    <tr>\n",
       "      <th>euclidean</th>\n",
       "      <td>1.31</td>\n",
       "      <td>32.79</td>\n",
       "      <td>431.14</td>\n",
       "      <td>99.14</td>\n",
       "      <td>99.12</td>\n",
       "      <td>99.1</td>\n",
       "    </tr>\n",
       "  </tbody>\n",
       "</table>\n",
       "</div>"
      ],
      "text/plain": [
       "           mean    std   total  <10 %   <5 %  <1 %\n",
       "euclidean  1.31  32.79  431.14  99.14  99.12  99.1"
      ]
     },
     "metadata": {},
     "output_type": "display_data"
    },
    {
     "name": "stderr",
     "output_type": "stream",
     "text": [
      "100%|████████████████████████████████████████████████████████| 20480/20480 [00:14<00:00, 1366.44it/s]\n",
      "100%|██████████████████████████████████████████████████████████████| 304/304 [00:38<00:00,  7.93it/s]\n"
     ]
    },
    {
     "data": {
      "text/html": [
       "<div>\n",
       "<style scoped>\n",
       "    .dataframe tbody tr th:only-of-type {\n",
       "        vertical-align: middle;\n",
       "    }\n",
       "\n",
       "    .dataframe tbody tr th {\n",
       "        vertical-align: top;\n",
       "    }\n",
       "\n",
       "    .dataframe thead th {\n",
       "        text-align: right;\n",
       "    }\n",
       "</style>\n",
       "<table border=\"1\" class=\"dataframe\">\n",
       "  <thead>\n",
       "    <tr style=\"text-align: right;\">\n",
       "      <th></th>\n",
       "      <th>mean</th>\n",
       "      <th>std</th>\n",
       "      <th>total</th>\n",
       "      <th>&lt;10 %</th>\n",
       "      <th>&lt;5 %</th>\n",
       "      <th>&lt;1 %</th>\n",
       "    </tr>\n",
       "  </thead>\n",
       "  <tbody>\n",
       "    <tr>\n",
       "      <th>cosine</th>\n",
       "      <td>0.79</td>\n",
       "      <td>27.64</td>\n",
       "      <td>431.14</td>\n",
       "      <td>99.57</td>\n",
       "      <td>99.54</td>\n",
       "      <td>99.53</td>\n",
       "    </tr>\n",
       "  </tbody>\n",
       "</table>\n",
       "</div>"
      ],
      "text/plain": [
       "        mean    std   total  <10 %   <5 %   <1 %\n",
       "cosine  0.79  27.64  431.14  99.57  99.54  99.53"
      ]
     },
     "metadata": {},
     "output_type": "display_data"
    },
    {
     "name": "stdout",
     "output_type": "stream",
     "text": [
      "\n",
      "\n",
      "ACTOR LOSS = triplet || K = 20 || STEPS = 2\n"
     ]
    },
    {
     "name": "stderr",
     "output_type": "stream",
     "text": [
      "100%|████████████████████████████████████████████████████████████████| 44/44 [00:04<00:00,  9.58it/s]\n",
      "100%|████████████████████████████████████████████████████████| 20608/20608 [00:11<00:00, 1728.34it/s]\n",
      "100%|██████████████████████████████████████████████████████████████| 275/275 [00:34<00:00,  7.99it/s]\n"
     ]
    },
    {
     "data": {
      "text/html": [
       "<div>\n",
       "<style scoped>\n",
       "    .dataframe tbody tr th:only-of-type {\n",
       "        vertical-align: middle;\n",
       "    }\n",
       "\n",
       "    .dataframe tbody tr th {\n",
       "        vertical-align: top;\n",
       "    }\n",
       "\n",
       "    .dataframe thead th {\n",
       "        text-align: right;\n",
       "    }\n",
       "</style>\n",
       "<table border=\"1\" class=\"dataframe\">\n",
       "  <thead>\n",
       "    <tr style=\"text-align: right;\">\n",
       "      <th></th>\n",
       "      <th>mean</th>\n",
       "      <th>std</th>\n",
       "      <th>total</th>\n",
       "      <th>&lt;10 %</th>\n",
       "      <th>&lt;5 %</th>\n",
       "      <th>&lt;1 %</th>\n",
       "    </tr>\n",
       "  </thead>\n",
       "  <tbody>\n",
       "    <tr>\n",
       "      <th>euclidean</th>\n",
       "      <td>21.68</td>\n",
       "      <td>151.12</td>\n",
       "      <td>385.75</td>\n",
       "      <td>91.26</td>\n",
       "      <td>91.18</td>\n",
       "      <td>91.11</td>\n",
       "    </tr>\n",
       "  </tbody>\n",
       "</table>\n",
       "</div>"
      ],
      "text/plain": [
       "            mean     std   total  <10 %   <5 %   <1 %\n",
       "euclidean  21.68  151.12  385.75  91.26  91.18  91.11"
      ]
     },
     "metadata": {},
     "output_type": "display_data"
    },
    {
     "name": "stderr",
     "output_type": "stream",
     "text": [
      "100%|████████████████████████████████████████████████████████| 20608/20608 [00:14<00:00, 1404.73it/s]\n",
      "100%|██████████████████████████████████████████████████████████████| 279/279 [00:34<00:00,  8.20it/s]\n"
     ]
    },
    {
     "data": {
      "text/html": [
       "<div>\n",
       "<style scoped>\n",
       "    .dataframe tbody tr th:only-of-type {\n",
       "        vertical-align: middle;\n",
       "    }\n",
       "\n",
       "    .dataframe tbody tr th {\n",
       "        vertical-align: top;\n",
       "    }\n",
       "\n",
       "    .dataframe thead th {\n",
       "        text-align: right;\n",
       "    }\n",
       "</style>\n",
       "<table border=\"1\" class=\"dataframe\">\n",
       "  <thead>\n",
       "    <tr style=\"text-align: right;\">\n",
       "      <th></th>\n",
       "      <th>mean</th>\n",
       "      <th>std</th>\n",
       "      <th>total</th>\n",
       "      <th>&lt;10 %</th>\n",
       "      <th>&lt;5 %</th>\n",
       "      <th>&lt;1 %</th>\n",
       "    </tr>\n",
       "  </thead>\n",
       "  <tbody>\n",
       "    <tr>\n",
       "      <th>cosine</th>\n",
       "      <td>19.01</td>\n",
       "      <td>142.05</td>\n",
       "      <td>385.75</td>\n",
       "      <td>92.27</td>\n",
       "      <td>92.21</td>\n",
       "      <td>92.11</td>\n",
       "    </tr>\n",
       "  </tbody>\n",
       "</table>\n",
       "</div>"
      ],
      "text/plain": [
       "         mean     std   total  <10 %   <5 %   <1 %\n",
       "cosine  19.01  142.05  385.75  92.27  92.21  92.11"
      ]
     },
     "metadata": {},
     "output_type": "display_data"
    },
    {
     "name": "stdout",
     "output_type": "stream",
     "text": [
      "\n",
      "\n",
      "ACTOR LOSS = triplet || K = 20 || STEPS = 5\n"
     ]
    },
    {
     "name": "stderr",
     "output_type": "stream",
     "text": [
      "100%|████████████████████████████████████████████████████████████████| 44/44 [00:04<00:00,  9.99it/s]\n",
      "100%|████████████████████████████████████████████████████████| 21632/21632 [00:12<00:00, 1714.55it/s]\n",
      "100%|██████████████████████████████████████████████████████████████| 217/217 [00:29<00:00,  7.41it/s]\n"
     ]
    },
    {
     "data": {
      "text/html": [
       "<div>\n",
       "<style scoped>\n",
       "    .dataframe tbody tr th:only-of-type {\n",
       "        vertical-align: middle;\n",
       "    }\n",
       "\n",
       "    .dataframe tbody tr th {\n",
       "        vertical-align: top;\n",
       "    }\n",
       "\n",
       "    .dataframe thead th {\n",
       "        text-align: right;\n",
       "    }\n",
       "</style>\n",
       "<table border=\"1\" class=\"dataframe\">\n",
       "  <thead>\n",
       "    <tr style=\"text-align: right;\">\n",
       "      <th></th>\n",
       "      <th>mean</th>\n",
       "      <th>std</th>\n",
       "      <th>total</th>\n",
       "      <th>&lt;10 %</th>\n",
       "      <th>&lt;5 %</th>\n",
       "      <th>&lt;1 %</th>\n",
       "    </tr>\n",
       "  </thead>\n",
       "  <tbody>\n",
       "    <tr>\n",
       "      <th>euclidean</th>\n",
       "      <td>74.79</td>\n",
       "      <td>252.84</td>\n",
       "      <td>321.17</td>\n",
       "      <td>66.61</td>\n",
       "      <td>59.2</td>\n",
       "      <td>40.68</td>\n",
       "    </tr>\n",
       "  </tbody>\n",
       "</table>\n",
       "</div>"
      ],
      "text/plain": [
       "            mean     std   total  <10 %  <5 %   <1 %\n",
       "euclidean  74.79  252.84  321.17  66.61  59.2  40.68"
      ]
     },
     "metadata": {},
     "output_type": "display_data"
    },
    {
     "name": "stderr",
     "output_type": "stream",
     "text": [
      "100%|████████████████████████████████████████████████████████| 21632/21632 [00:15<00:00, 1380.07it/s]\n",
      "100%|██████████████████████████████████████████████████████████████| 227/227 [00:28<00:00,  7.96it/s]\n"
     ]
    },
    {
     "data": {
      "text/html": [
       "<div>\n",
       "<style scoped>\n",
       "    .dataframe tbody tr th:only-of-type {\n",
       "        vertical-align: middle;\n",
       "    }\n",
       "\n",
       "    .dataframe tbody tr th {\n",
       "        vertical-align: top;\n",
       "    }\n",
       "\n",
       "    .dataframe thead th {\n",
       "        text-align: right;\n",
       "    }\n",
       "</style>\n",
       "<table border=\"1\" class=\"dataframe\">\n",
       "  <thead>\n",
       "    <tr style=\"text-align: right;\">\n",
       "      <th></th>\n",
       "      <th>mean</th>\n",
       "      <th>std</th>\n",
       "      <th>total</th>\n",
       "      <th>&lt;10 %</th>\n",
       "      <th>&lt;5 %</th>\n",
       "      <th>&lt;1 %</th>\n",
       "    </tr>\n",
       "  </thead>\n",
       "  <tbody>\n",
       "    <tr>\n",
       "      <th>cosine</th>\n",
       "      <td>68.23</td>\n",
       "      <td>243.58</td>\n",
       "      <td>321.17</td>\n",
       "      <td>68.77</td>\n",
       "      <td>61.14</td>\n",
       "      <td>42.08</td>\n",
       "    </tr>\n",
       "  </tbody>\n",
       "</table>\n",
       "</div>"
      ],
      "text/plain": [
       "         mean     std   total  <10 %   <5 %   <1 %\n",
       "cosine  68.23  243.58  321.17  68.77  61.14  42.08"
      ]
     },
     "metadata": {},
     "output_type": "display_data"
    },
    {
     "name": "stdout",
     "output_type": "stream",
     "text": [
      "\n",
      "\n",
      "ACTOR LOSS = triplet || K = 50 || STEPS = 1\n"
     ]
    },
    {
     "name": "stderr",
     "output_type": "stream",
     "text": [
      "100%|████████████████████████████████████████████████████████████████| 44/44 [00:04<00:00,  9.78it/s]\n",
      "100%|████████████████████████████████████████████████████████| 20480/20480 [00:11<00:00, 1730.54it/s]\n",
      "100%|██████████████████████████████████████████████████████████████| 653/653 [01:16<00:00,  8.55it/s]\n"
     ]
    },
    {
     "data": {
      "text/html": [
       "<div>\n",
       "<style scoped>\n",
       "    .dataframe tbody tr th:only-of-type {\n",
       "        vertical-align: middle;\n",
       "    }\n",
       "\n",
       "    .dataframe tbody tr th {\n",
       "        vertical-align: top;\n",
       "    }\n",
       "\n",
       "    .dataframe thead th {\n",
       "        text-align: right;\n",
       "    }\n",
       "</style>\n",
       "<table border=\"1\" class=\"dataframe\">\n",
       "  <thead>\n",
       "    <tr style=\"text-align: right;\">\n",
       "      <th></th>\n",
       "      <th>mean</th>\n",
       "      <th>std</th>\n",
       "      <th>total</th>\n",
       "      <th>&lt;10 %</th>\n",
       "      <th>&lt;5 %</th>\n",
       "      <th>&lt;1 %</th>\n",
       "    </tr>\n",
       "  </thead>\n",
       "  <tbody>\n",
       "    <tr>\n",
       "      <th>euclidean</th>\n",
       "      <td>1.26</td>\n",
       "      <td>32.78</td>\n",
       "      <td>431.14</td>\n",
       "      <td>99.33</td>\n",
       "      <td>99.3</td>\n",
       "      <td>99.29</td>\n",
       "    </tr>\n",
       "  </tbody>\n",
       "</table>\n",
       "</div>"
      ],
      "text/plain": [
       "           mean    std   total  <10 %  <5 %   <1 %\n",
       "euclidean  1.26  32.78  431.14  99.33  99.3  99.29"
      ]
     },
     "metadata": {},
     "output_type": "display_data"
    },
    {
     "name": "stderr",
     "output_type": "stream",
     "text": [
      "100%|████████████████████████████████████████████████████████| 20480/20480 [00:14<00:00, 1388.37it/s]\n",
      "100%|██████████████████████████████████████████████████████████████| 655/655 [01:17<00:00,  8.41it/s]\n"
     ]
    },
    {
     "data": {
      "text/html": [
       "<div>\n",
       "<style scoped>\n",
       "    .dataframe tbody tr th:only-of-type {\n",
       "        vertical-align: middle;\n",
       "    }\n",
       "\n",
       "    .dataframe tbody tr th {\n",
       "        vertical-align: top;\n",
       "    }\n",
       "\n",
       "    .dataframe thead th {\n",
       "        text-align: right;\n",
       "    }\n",
       "</style>\n",
       "<table border=\"1\" class=\"dataframe\">\n",
       "  <thead>\n",
       "    <tr style=\"text-align: right;\">\n",
       "      <th></th>\n",
       "      <th>mean</th>\n",
       "      <th>std</th>\n",
       "      <th>total</th>\n",
       "      <th>&lt;10 %</th>\n",
       "      <th>&lt;5 %</th>\n",
       "      <th>&lt;1 %</th>\n",
       "    </tr>\n",
       "  </thead>\n",
       "  <tbody>\n",
       "    <tr>\n",
       "      <th>cosine</th>\n",
       "      <td>0.81</td>\n",
       "      <td>27.65</td>\n",
       "      <td>431.14</td>\n",
       "      <td>99.53</td>\n",
       "      <td>99.5</td>\n",
       "      <td>99.48</td>\n",
       "    </tr>\n",
       "  </tbody>\n",
       "</table>\n",
       "</div>"
      ],
      "text/plain": [
       "        mean    std   total  <10 %  <5 %   <1 %\n",
       "cosine  0.81  27.65  431.14  99.53  99.5  99.48"
      ]
     },
     "metadata": {},
     "output_type": "display_data"
    },
    {
     "name": "stdout",
     "output_type": "stream",
     "text": [
      "\n",
      "\n",
      "ACTOR LOSS = triplet || K = 50 || STEPS = 2\n"
     ]
    },
    {
     "name": "stderr",
     "output_type": "stream",
     "text": [
      "100%|████████████████████████████████████████████████████████████████| 44/44 [00:04<00:00,  9.64it/s]\n",
      "100%|████████████████████████████████████████████████████████| 20608/20608 [00:12<00:00, 1693.67it/s]\n",
      "100%|██████████████████████████████████████████████████████████████| 601/601 [01:14<00:00,  8.10it/s]\n"
     ]
    },
    {
     "data": {
      "text/html": [
       "<div>\n",
       "<style scoped>\n",
       "    .dataframe tbody tr th:only-of-type {\n",
       "        vertical-align: middle;\n",
       "    }\n",
       "\n",
       "    .dataframe tbody tr th {\n",
       "        vertical-align: top;\n",
       "    }\n",
       "\n",
       "    .dataframe thead th {\n",
       "        text-align: right;\n",
       "    }\n",
       "</style>\n",
       "<table border=\"1\" class=\"dataframe\">\n",
       "  <thead>\n",
       "    <tr style=\"text-align: right;\">\n",
       "      <th></th>\n",
       "      <th>mean</th>\n",
       "      <th>std</th>\n",
       "      <th>total</th>\n",
       "      <th>&lt;10 %</th>\n",
       "      <th>&lt;5 %</th>\n",
       "      <th>&lt;1 %</th>\n",
       "    </tr>\n",
       "  </thead>\n",
       "  <tbody>\n",
       "    <tr>\n",
       "      <th>euclidean</th>\n",
       "      <td>20.9</td>\n",
       "      <td>151.14</td>\n",
       "      <td>385.75</td>\n",
       "      <td>93.79</td>\n",
       "      <td>93.67</td>\n",
       "      <td>93.59</td>\n",
       "    </tr>\n",
       "  </tbody>\n",
       "</table>\n",
       "</div>"
      ],
      "text/plain": [
       "           mean     std   total  <10 %   <5 %   <1 %\n",
       "euclidean  20.9  151.14  385.75  93.79  93.67  93.59"
      ]
     },
     "metadata": {},
     "output_type": "display_data"
    },
    {
     "name": "stderr",
     "output_type": "stream",
     "text": [
      "100%|████████████████████████████████████████████████████████| 20608/20608 [00:14<00:00, 1393.62it/s]\n",
      "100%|██████████████████████████████████████████████████████████████| 608/608 [01:17<00:00,  7.80it/s]\n"
     ]
    },
    {
     "data": {
      "text/html": [
       "<div>\n",
       "<style scoped>\n",
       "    .dataframe tbody tr th:only-of-type {\n",
       "        vertical-align: middle;\n",
       "    }\n",
       "\n",
       "    .dataframe tbody tr th {\n",
       "        vertical-align: top;\n",
       "    }\n",
       "\n",
       "    .dataframe thead th {\n",
       "        text-align: right;\n",
       "    }\n",
       "</style>\n",
       "<table border=\"1\" class=\"dataframe\">\n",
       "  <thead>\n",
       "    <tr style=\"text-align: right;\">\n",
       "      <th></th>\n",
       "      <th>mean</th>\n",
       "      <th>std</th>\n",
       "      <th>total</th>\n",
       "      <th>&lt;10 %</th>\n",
       "      <th>&lt;5 %</th>\n",
       "      <th>&lt;1 %</th>\n",
       "    </tr>\n",
       "  </thead>\n",
       "  <tbody>\n",
       "    <tr>\n",
       "      <th>cosine</th>\n",
       "      <td>18.33</td>\n",
       "      <td>142.06</td>\n",
       "      <td>385.75</td>\n",
       "      <td>94.49</td>\n",
       "      <td>94.37</td>\n",
       "      <td>94.28</td>\n",
       "    </tr>\n",
       "  </tbody>\n",
       "</table>\n",
       "</div>"
      ],
      "text/plain": [
       "         mean     std   total  <10 %   <5 %   <1 %\n",
       "cosine  18.33  142.06  385.75  94.49  94.37  94.28"
      ]
     },
     "metadata": {},
     "output_type": "display_data"
    },
    {
     "name": "stdout",
     "output_type": "stream",
     "text": [
      "\n",
      "\n",
      "ACTOR LOSS = triplet || K = 50 || STEPS = 5\n"
     ]
    },
    {
     "name": "stderr",
     "output_type": "stream",
     "text": [
      "100%|████████████████████████████████████████████████████████████████| 44/44 [00:04<00:00, 10.11it/s]\n",
      "100%|████████████████████████████████████████████████████████| 21632/21632 [00:12<00:00, 1708.65it/s]\n",
      "100%|██████████████████████████████████████████████████████████████| 498/498 [01:02<00:00,  8.00it/s]\n"
     ]
    },
    {
     "data": {
      "text/html": [
       "<div>\n",
       "<style scoped>\n",
       "    .dataframe tbody tr th:only-of-type {\n",
       "        vertical-align: middle;\n",
       "    }\n",
       "\n",
       "    .dataframe tbody tr th {\n",
       "        vertical-align: top;\n",
       "    }\n",
       "\n",
       "    .dataframe thead th {\n",
       "        text-align: right;\n",
       "    }\n",
       "</style>\n",
       "<table border=\"1\" class=\"dataframe\">\n",
       "  <thead>\n",
       "    <tr style=\"text-align: right;\">\n",
       "      <th></th>\n",
       "      <th>mean</th>\n",
       "      <th>std</th>\n",
       "      <th>total</th>\n",
       "      <th>&lt;10 %</th>\n",
       "      <th>&lt;5 %</th>\n",
       "      <th>&lt;1 %</th>\n",
       "    </tr>\n",
       "  </thead>\n",
       "  <tbody>\n",
       "    <tr>\n",
       "      <th>euclidean</th>\n",
       "      <td>74.67</td>\n",
       "      <td>252.87</td>\n",
       "      <td>321.17</td>\n",
       "      <td>67.52</td>\n",
       "      <td>58.7</td>\n",
       "      <td>37.84</td>\n",
       "    </tr>\n",
       "  </tbody>\n",
       "</table>\n",
       "</div>"
      ],
      "text/plain": [
       "            mean     std   total  <10 %  <5 %   <1 %\n",
       "euclidean  74.67  252.87  321.17  67.52  58.7  37.84"
      ]
     },
     "metadata": {},
     "output_type": "display_data"
    },
    {
     "name": "stderr",
     "output_type": "stream",
     "text": [
      "100%|████████████████████████████████████████████████████████| 21632/21632 [00:15<00:00, 1386.81it/s]\n",
      "100%|██████████████████████████████████████████████████████████████| 514/514 [01:09<00:00,  7.40it/s]\n"
     ]
    },
    {
     "data": {
      "text/html": [
       "<div>\n",
       "<style scoped>\n",
       "    .dataframe tbody tr th:only-of-type {\n",
       "        vertical-align: middle;\n",
       "    }\n",
       "\n",
       "    .dataframe tbody tr th {\n",
       "        vertical-align: top;\n",
       "    }\n",
       "\n",
       "    .dataframe thead th {\n",
       "        text-align: right;\n",
       "    }\n",
       "</style>\n",
       "<table border=\"1\" class=\"dataframe\">\n",
       "  <thead>\n",
       "    <tr style=\"text-align: right;\">\n",
       "      <th></th>\n",
       "      <th>mean</th>\n",
       "      <th>std</th>\n",
       "      <th>total</th>\n",
       "      <th>&lt;10 %</th>\n",
       "      <th>&lt;5 %</th>\n",
       "      <th>&lt;1 %</th>\n",
       "    </tr>\n",
       "  </thead>\n",
       "  <tbody>\n",
       "    <tr>\n",
       "      <th>cosine</th>\n",
       "      <td>68.33</td>\n",
       "      <td>243.55</td>\n",
       "      <td>321.17</td>\n",
       "      <td>68.85</td>\n",
       "      <td>59.85</td>\n",
       "      <td>38.74</td>\n",
       "    </tr>\n",
       "  </tbody>\n",
       "</table>\n",
       "</div>"
      ],
      "text/plain": [
       "         mean     std   total  <10 %   <5 %   <1 %\n",
       "cosine  68.33  243.55  321.17  68.85  59.85  38.74"
      ]
     },
     "metadata": {},
     "output_type": "display_data"
    },
    {
     "name": "stdout",
     "output_type": "stream",
     "text": [
      "\n",
      "\n"
     ]
    }
   ],
   "source": [
    "# SUpervised\n",
    "for actor_loss in [\"mse\", \"triplet\"]:\n",
    "    for k in [10, 20, 50]:\n",
    "        for steps in [1, 2, 5]:\n",
    "            file_string = f\"models/supervised/actor-critic/*{actor_loss}*steps={steps}*/model.pth\"\n",
    "            assert len(glob.glob(file_string)) == 1\n",
    "            ac = torch.load(glob.glob(file_string)[0]).to(device)\n",
    "\n",
    "            print(f\"ACTOR LOSS = {actor_loss} || K = {k} || STEPS = {steps}\")\n",
    "            actor_critic_stats(ac, k, steps)\n",
    "            print()\n",
    "            print()"
   ]
  },
  {
   "cell_type": "code",
   "execution_count": 14,
   "id": "783e44db",
   "metadata": {
    "scrolled": true
   },
   "outputs": [
    {
     "name": "stdout",
     "output_type": "stream",
     "text": [
      "K = 10 || STEPS = 1\n"
     ]
    },
    {
     "name": "stderr",
     "output_type": "stream",
     "text": [
      "100%|████████████████████████████████████████████████████████████████| 44/44 [00:05<00:00,  8.39it/s]\n",
      "100%|████████████████████████████████████████████████████████| 20480/20480 [00:11<00:00, 1763.78it/s]\n",
      "100%|██████████████████████████████████████████████████████████████| 166/166 [00:18<00:00,  8.86it/s]\n"
     ]
    },
    {
     "data": {
      "text/html": [
       "<div>\n",
       "<style scoped>\n",
       "    .dataframe tbody tr th:only-of-type {\n",
       "        vertical-align: middle;\n",
       "    }\n",
       "\n",
       "    .dataframe tbody tr th {\n",
       "        vertical-align: top;\n",
       "    }\n",
       "\n",
       "    .dataframe thead th {\n",
       "        text-align: right;\n",
       "    }\n",
       "</style>\n",
       "<table border=\"1\" class=\"dataframe\">\n",
       "  <thead>\n",
       "    <tr style=\"text-align: right;\">\n",
       "      <th></th>\n",
       "      <th>mean</th>\n",
       "      <th>std</th>\n",
       "      <th>total</th>\n",
       "      <th>&lt;10 %</th>\n",
       "      <th>&lt;5 %</th>\n",
       "      <th>&lt;1 %</th>\n",
       "    </tr>\n",
       "  </thead>\n",
       "  <tbody>\n",
       "    <tr>\n",
       "      <th>euclidean</th>\n",
       "      <td>1.19</td>\n",
       "      <td>34.15</td>\n",
       "      <td>431.14</td>\n",
       "      <td>99.26</td>\n",
       "      <td>99.21</td>\n",
       "      <td>99.18</td>\n",
       "    </tr>\n",
       "  </tbody>\n",
       "</table>\n",
       "</div>"
      ],
      "text/plain": [
       "           mean    std   total  <10 %   <5 %   <1 %\n",
       "euclidean  1.19  34.15  431.14  99.26  99.21  99.18"
      ]
     },
     "metadata": {},
     "output_type": "display_data"
    },
    {
     "name": "stderr",
     "output_type": "stream",
     "text": [
      "100%|████████████████████████████████████████████████████████| 20480/20480 [00:14<00:00, 1440.61it/s]\n",
      "100%|██████████████████████████████████████████████████████████████| 166/166 [00:19<00:00,  8.35it/s]\n"
     ]
    },
    {
     "data": {
      "text/html": [
       "<div>\n",
       "<style scoped>\n",
       "    .dataframe tbody tr th:only-of-type {\n",
       "        vertical-align: middle;\n",
       "    }\n",
       "\n",
       "    .dataframe tbody tr th {\n",
       "        vertical-align: top;\n",
       "    }\n",
       "\n",
       "    .dataframe thead th {\n",
       "        text-align: right;\n",
       "    }\n",
       "</style>\n",
       "<table border=\"1\" class=\"dataframe\">\n",
       "  <thead>\n",
       "    <tr style=\"text-align: right;\">\n",
       "      <th></th>\n",
       "      <th>mean</th>\n",
       "      <th>std</th>\n",
       "      <th>total</th>\n",
       "      <th>&lt;10 %</th>\n",
       "      <th>&lt;5 %</th>\n",
       "      <th>&lt;1 %</th>\n",
       "    </tr>\n",
       "  </thead>\n",
       "  <tbody>\n",
       "    <tr>\n",
       "      <th>cosine</th>\n",
       "      <td>1.03</td>\n",
       "      <td>32.03</td>\n",
       "      <td>431.14</td>\n",
       "      <td>99.37</td>\n",
       "      <td>99.32</td>\n",
       "      <td>99.27</td>\n",
       "    </tr>\n",
       "  </tbody>\n",
       "</table>\n",
       "</div>"
      ],
      "text/plain": [
       "        mean    std   total  <10 %   <5 %   <1 %\n",
       "cosine  1.03  32.03  431.14  99.37  99.32  99.27"
      ]
     },
     "metadata": {},
     "output_type": "display_data"
    },
    {
     "name": "stdout",
     "output_type": "stream",
     "text": [
      "\n",
      "\n",
      "K = 10 || STEPS = 2\n"
     ]
    },
    {
     "name": "stderr",
     "output_type": "stream",
     "text": [
      "100%|████████████████████████████████████████████████████████████████| 44/44 [00:04<00:00, 10.19it/s]\n",
      "100%|████████████████████████████████████████████████████████| 20608/20608 [00:11<00:00, 1776.24it/s]\n",
      "100%|██████████████████████████████████████████████████████████████| 148/148 [00:16<00:00,  8.82it/s]\n"
     ]
    },
    {
     "data": {
      "text/html": [
       "<div>\n",
       "<style scoped>\n",
       "    .dataframe tbody tr th:only-of-type {\n",
       "        vertical-align: middle;\n",
       "    }\n",
       "\n",
       "    .dataframe tbody tr th {\n",
       "        vertical-align: top;\n",
       "    }\n",
       "\n",
       "    .dataframe thead th {\n",
       "        text-align: right;\n",
       "    }\n",
       "</style>\n",
       "<table border=\"1\" class=\"dataframe\">\n",
       "  <thead>\n",
       "    <tr style=\"text-align: right;\">\n",
       "      <th></th>\n",
       "      <th>mean</th>\n",
       "      <th>std</th>\n",
       "      <th>total</th>\n",
       "      <th>&lt;10 %</th>\n",
       "      <th>&lt;5 %</th>\n",
       "      <th>&lt;1 %</th>\n",
       "    </tr>\n",
       "  </thead>\n",
       "  <tbody>\n",
       "    <tr>\n",
       "      <th>euclidean</th>\n",
       "      <td>20.99</td>\n",
       "      <td>144.84</td>\n",
       "      <td>385.75</td>\n",
       "      <td>88.96</td>\n",
       "      <td>88.85</td>\n",
       "      <td>88.75</td>\n",
       "    </tr>\n",
       "  </tbody>\n",
       "</table>\n",
       "</div>"
      ],
      "text/plain": [
       "            mean     std   total  <10 %   <5 %   <1 %\n",
       "euclidean  20.99  144.84  385.75  88.96  88.85  88.75"
      ]
     },
     "metadata": {},
     "output_type": "display_data"
    },
    {
     "name": "stderr",
     "output_type": "stream",
     "text": [
      "100%|████████████████████████████████████████████████████████| 20608/20608 [00:18<00:00, 1128.24it/s]\n",
      "100%|██████████████████████████████████████████████████████████████| 149/149 [00:16<00:00,  8.87it/s]\n"
     ]
    },
    {
     "data": {
      "text/html": [
       "<div>\n",
       "<style scoped>\n",
       "    .dataframe tbody tr th:only-of-type {\n",
       "        vertical-align: middle;\n",
       "    }\n",
       "\n",
       "    .dataframe tbody tr th {\n",
       "        vertical-align: top;\n",
       "    }\n",
       "\n",
       "    .dataframe thead th {\n",
       "        text-align: right;\n",
       "    }\n",
       "</style>\n",
       "<table border=\"1\" class=\"dataframe\">\n",
       "  <thead>\n",
       "    <tr style=\"text-align: right;\">\n",
       "      <th></th>\n",
       "      <th>mean</th>\n",
       "      <th>std</th>\n",
       "      <th>total</th>\n",
       "      <th>&lt;10 %</th>\n",
       "      <th>&lt;5 %</th>\n",
       "      <th>&lt;1 %</th>\n",
       "    </tr>\n",
       "  </thead>\n",
       "  <tbody>\n",
       "    <tr>\n",
       "      <th>cosine</th>\n",
       "      <td>20.22</td>\n",
       "      <td>142.58</td>\n",
       "      <td>385.75</td>\n",
       "      <td>89.47</td>\n",
       "      <td>89.38</td>\n",
       "      <td>89.27</td>\n",
       "    </tr>\n",
       "  </tbody>\n",
       "</table>\n",
       "</div>"
      ],
      "text/plain": [
       "         mean     std   total  <10 %   <5 %   <1 %\n",
       "cosine  20.22  142.58  385.75  89.47  89.38  89.27"
      ]
     },
     "metadata": {},
     "output_type": "display_data"
    },
    {
     "name": "stdout",
     "output_type": "stream",
     "text": [
      "\n",
      "\n",
      "K = 10 || STEPS = 5\n"
     ]
    },
    {
     "name": "stderr",
     "output_type": "stream",
     "text": [
      "100%|████████████████████████████████████████████████████████████████| 44/44 [00:04<00:00, 10.32it/s]\n",
      "100%|████████████████████████████████████████████████████████| 21632/21632 [00:12<00:00, 1736.26it/s]\n",
      "100%|██████████████████████████████████████████████████████████████| 105/105 [00:12<00:00,  8.16it/s]\n"
     ]
    },
    {
     "data": {
      "text/html": [
       "<div>\n",
       "<style scoped>\n",
       "    .dataframe tbody tr th:only-of-type {\n",
       "        vertical-align: middle;\n",
       "    }\n",
       "\n",
       "    .dataframe tbody tr th {\n",
       "        vertical-align: top;\n",
       "    }\n",
       "\n",
       "    .dataframe thead th {\n",
       "        text-align: right;\n",
       "    }\n",
       "</style>\n",
       "<table border=\"1\" class=\"dataframe\">\n",
       "  <thead>\n",
       "    <tr style=\"text-align: right;\">\n",
       "      <th></th>\n",
       "      <th>mean</th>\n",
       "      <th>std</th>\n",
       "      <th>total</th>\n",
       "      <th>&lt;10 %</th>\n",
       "      <th>&lt;5 %</th>\n",
       "      <th>&lt;1 %</th>\n",
       "    </tr>\n",
       "  </thead>\n",
       "  <tbody>\n",
       "    <tr>\n",
       "      <th>euclidean</th>\n",
       "      <td>77.32</td>\n",
       "      <td>258.33</td>\n",
       "      <td>321.17</td>\n",
       "      <td>62.61</td>\n",
       "      <td>55.72</td>\n",
       "      <td>41.31</td>\n",
       "    </tr>\n",
       "  </tbody>\n",
       "</table>\n",
       "</div>"
      ],
      "text/plain": [
       "            mean     std   total  <10 %   <5 %   <1 %\n",
       "euclidean  77.32  258.33  321.17  62.61  55.72  41.31"
      ]
     },
     "metadata": {},
     "output_type": "display_data"
    },
    {
     "name": "stderr",
     "output_type": "stream",
     "text": [
      "100%|████████████████████████████████████████████████████████| 21632/21632 [00:15<00:00, 1422.16it/s]\n",
      "100%|██████████████████████████████████████████████████████████████| 110/110 [00:13<00:00,  8.19it/s]\n"
     ]
    },
    {
     "data": {
      "text/html": [
       "<div>\n",
       "<style scoped>\n",
       "    .dataframe tbody tr th:only-of-type {\n",
       "        vertical-align: middle;\n",
       "    }\n",
       "\n",
       "    .dataframe tbody tr th {\n",
       "        vertical-align: top;\n",
       "    }\n",
       "\n",
       "    .dataframe thead th {\n",
       "        text-align: right;\n",
       "    }\n",
       "</style>\n",
       "<table border=\"1\" class=\"dataframe\">\n",
       "  <thead>\n",
       "    <tr style=\"text-align: right;\">\n",
       "      <th></th>\n",
       "      <th>mean</th>\n",
       "      <th>std</th>\n",
       "      <th>total</th>\n",
       "      <th>&lt;10 %</th>\n",
       "      <th>&lt;5 %</th>\n",
       "      <th>&lt;1 %</th>\n",
       "    </tr>\n",
       "  </thead>\n",
       "  <tbody>\n",
       "    <tr>\n",
       "      <th>cosine</th>\n",
       "      <td>74.16</td>\n",
       "      <td>256.78</td>\n",
       "      <td>321.17</td>\n",
       "      <td>64.58</td>\n",
       "      <td>57.58</td>\n",
       "      <td>42.78</td>\n",
       "    </tr>\n",
       "  </tbody>\n",
       "</table>\n",
       "</div>"
      ],
      "text/plain": [
       "         mean     std   total  <10 %   <5 %   <1 %\n",
       "cosine  74.16  256.78  321.17  64.58  57.58  42.78"
      ]
     },
     "metadata": {},
     "output_type": "display_data"
    },
    {
     "name": "stdout",
     "output_type": "stream",
     "text": [
      "\n",
      "\n",
      "K = 20 || STEPS = 1\n"
     ]
    },
    {
     "name": "stderr",
     "output_type": "stream",
     "text": [
      "100%|████████████████████████████████████████████████████████████████| 44/44 [00:04<00:00, 10.75it/s]\n",
      "100%|████████████████████████████████████████████████████████| 20480/20480 [00:11<00:00, 1778.08it/s]\n",
      "100%|██████████████████████████████████████████████████████████████| 304/304 [00:33<00:00,  9.02it/s]\n"
     ]
    },
    {
     "data": {
      "text/html": [
       "<div>\n",
       "<style scoped>\n",
       "    .dataframe tbody tr th:only-of-type {\n",
       "        vertical-align: middle;\n",
       "    }\n",
       "\n",
       "    .dataframe tbody tr th {\n",
       "        vertical-align: top;\n",
       "    }\n",
       "\n",
       "    .dataframe thead th {\n",
       "        text-align: right;\n",
       "    }\n",
       "</style>\n",
       "<table border=\"1\" class=\"dataframe\">\n",
       "  <thead>\n",
       "    <tr style=\"text-align: right;\">\n",
       "      <th></th>\n",
       "      <th>mean</th>\n",
       "      <th>std</th>\n",
       "      <th>total</th>\n",
       "      <th>&lt;10 %</th>\n",
       "      <th>&lt;5 %</th>\n",
       "      <th>&lt;1 %</th>\n",
       "    </tr>\n",
       "  </thead>\n",
       "  <tbody>\n",
       "    <tr>\n",
       "      <th>euclidean</th>\n",
       "      <td>1.17</td>\n",
       "      <td>34.15</td>\n",
       "      <td>431.14</td>\n",
       "      <td>99.45</td>\n",
       "      <td>99.4</td>\n",
       "      <td>99.37</td>\n",
       "    </tr>\n",
       "  </tbody>\n",
       "</table>\n",
       "</div>"
      ],
      "text/plain": [
       "           mean    std   total  <10 %  <5 %   <1 %\n",
       "euclidean  1.17  34.15  431.14  99.45  99.4  99.37"
      ]
     },
     "metadata": {},
     "output_type": "display_data"
    },
    {
     "name": "stderr",
     "output_type": "stream",
     "text": [
      "100%|████████████████████████████████████████████████████████| 20480/20480 [00:14<00:00, 1436.81it/s]\n",
      "100%|██████████████████████████████████████████████████████████████| 304/304 [00:34<00:00,  8.85it/s]\n"
     ]
    },
    {
     "data": {
      "text/html": [
       "<div>\n",
       "<style scoped>\n",
       "    .dataframe tbody tr th:only-of-type {\n",
       "        vertical-align: middle;\n",
       "    }\n",
       "\n",
       "    .dataframe tbody tr th {\n",
       "        vertical-align: top;\n",
       "    }\n",
       "\n",
       "    .dataframe thead th {\n",
       "        text-align: right;\n",
       "    }\n",
       "</style>\n",
       "<table border=\"1\" class=\"dataframe\">\n",
       "  <thead>\n",
       "    <tr style=\"text-align: right;\">\n",
       "      <th></th>\n",
       "      <th>mean</th>\n",
       "      <th>std</th>\n",
       "      <th>total</th>\n",
       "      <th>&lt;10 %</th>\n",
       "      <th>&lt;5 %</th>\n",
       "      <th>&lt;1 %</th>\n",
       "    </tr>\n",
       "  </thead>\n",
       "  <tbody>\n",
       "    <tr>\n",
       "      <th>cosine</th>\n",
       "      <td>1.02</td>\n",
       "      <td>32.03</td>\n",
       "      <td>431.14</td>\n",
       "      <td>99.5</td>\n",
       "      <td>99.46</td>\n",
       "      <td>99.42</td>\n",
       "    </tr>\n",
       "  </tbody>\n",
       "</table>\n",
       "</div>"
      ],
      "text/plain": [
       "        mean    std   total  <10 %   <5 %   <1 %\n",
       "cosine  1.02  32.03  431.14   99.5  99.46  99.42"
      ]
     },
     "metadata": {},
     "output_type": "display_data"
    },
    {
     "name": "stdout",
     "output_type": "stream",
     "text": [
      "\n",
      "\n",
      "K = 20 || STEPS = 2\n"
     ]
    },
    {
     "name": "stderr",
     "output_type": "stream",
     "text": [
      "100%|████████████████████████████████████████████████████████████████| 44/44 [00:04<00:00, 10.89it/s]\n",
      "100%|████████████████████████████████████████████████████████| 20608/20608 [00:11<00:00, 1772.36it/s]\n",
      "100%|██████████████████████████████████████████████████████████████| 276/276 [00:30<00:00,  8.93it/s]\n"
     ]
    },
    {
     "data": {
      "text/html": [
       "<div>\n",
       "<style scoped>\n",
       "    .dataframe tbody tr th:only-of-type {\n",
       "        vertical-align: middle;\n",
       "    }\n",
       "\n",
       "    .dataframe tbody tr th {\n",
       "        vertical-align: top;\n",
       "    }\n",
       "\n",
       "    .dataframe thead th {\n",
       "        text-align: right;\n",
       "    }\n",
       "</style>\n",
       "<table border=\"1\" class=\"dataframe\">\n",
       "  <thead>\n",
       "    <tr style=\"text-align: right;\">\n",
       "      <th></th>\n",
       "      <th>mean</th>\n",
       "      <th>std</th>\n",
       "      <th>total</th>\n",
       "      <th>&lt;10 %</th>\n",
       "      <th>&lt;5 %</th>\n",
       "      <th>&lt;1 %</th>\n",
       "    </tr>\n",
       "  </thead>\n",
       "  <tbody>\n",
       "    <tr>\n",
       "      <th>euclidean</th>\n",
       "      <td>20.64</td>\n",
       "      <td>144.87</td>\n",
       "      <td>385.75</td>\n",
       "      <td>91.55</td>\n",
       "      <td>91.45</td>\n",
       "      <td>91.38</td>\n",
       "    </tr>\n",
       "  </tbody>\n",
       "</table>\n",
       "</div>"
      ],
      "text/plain": [
       "            mean     std   total  <10 %   <5 %   <1 %\n",
       "euclidean  20.64  144.87  385.75  91.55  91.45  91.38"
      ]
     },
     "metadata": {},
     "output_type": "display_data"
    },
    {
     "name": "stderr",
     "output_type": "stream",
     "text": [
      "100%|████████████████████████████████████████████████████████| 20608/20608 [00:14<00:00, 1429.08it/s]\n",
      "100%|██████████████████████████████████████████████████████████████| 277/277 [00:30<00:00,  8.94it/s]\n"
     ]
    },
    {
     "data": {
      "text/html": [
       "<div>\n",
       "<style scoped>\n",
       "    .dataframe tbody tr th:only-of-type {\n",
       "        vertical-align: middle;\n",
       "    }\n",
       "\n",
       "    .dataframe tbody tr th {\n",
       "        vertical-align: top;\n",
       "    }\n",
       "\n",
       "    .dataframe thead th {\n",
       "        text-align: right;\n",
       "    }\n",
       "</style>\n",
       "<table border=\"1\" class=\"dataframe\">\n",
       "  <thead>\n",
       "    <tr style=\"text-align: right;\">\n",
       "      <th></th>\n",
       "      <th>mean</th>\n",
       "      <th>std</th>\n",
       "      <th>total</th>\n",
       "      <th>&lt;10 %</th>\n",
       "      <th>&lt;5 %</th>\n",
       "      <th>&lt;1 %</th>\n",
       "    </tr>\n",
       "  </thead>\n",
       "  <tbody>\n",
       "    <tr>\n",
       "      <th>cosine</th>\n",
       "      <td>19.89</td>\n",
       "      <td>142.61</td>\n",
       "      <td>385.75</td>\n",
       "      <td>91.83</td>\n",
       "      <td>91.75</td>\n",
       "      <td>91.67</td>\n",
       "    </tr>\n",
       "  </tbody>\n",
       "</table>\n",
       "</div>"
      ],
      "text/plain": [
       "         mean     std   total  <10 %   <5 %   <1 %\n",
       "cosine  19.89  142.61  385.75  91.83  91.75  91.67"
      ]
     },
     "metadata": {},
     "output_type": "display_data"
    },
    {
     "name": "stdout",
     "output_type": "stream",
     "text": [
      "\n",
      "\n",
      "K = 20 || STEPS = 5\n"
     ]
    },
    {
     "name": "stderr",
     "output_type": "stream",
     "text": [
      "100%|████████████████████████████████████████████████████████████████| 44/44 [00:04<00:00, 10.25it/s]\n",
      "100%|████████████████████████████████████████████████████████| 21632/21632 [00:12<00:00, 1730.38it/s]\n",
      "100%|██████████████████████████████████████████████████████████████| 209/209 [00:26<00:00,  7.99it/s]\n"
     ]
    },
    {
     "data": {
      "text/html": [
       "<div>\n",
       "<style scoped>\n",
       "    .dataframe tbody tr th:only-of-type {\n",
       "        vertical-align: middle;\n",
       "    }\n",
       "\n",
       "    .dataframe tbody tr th {\n",
       "        vertical-align: top;\n",
       "    }\n",
       "\n",
       "    .dataframe thead th {\n",
       "        text-align: right;\n",
       "    }\n",
       "</style>\n",
       "<table border=\"1\" class=\"dataframe\">\n",
       "  <thead>\n",
       "    <tr style=\"text-align: right;\">\n",
       "      <th></th>\n",
       "      <th>mean</th>\n",
       "      <th>std</th>\n",
       "      <th>total</th>\n",
       "      <th>&lt;10 %</th>\n",
       "      <th>&lt;5 %</th>\n",
       "      <th>&lt;1 %</th>\n",
       "    </tr>\n",
       "  </thead>\n",
       "  <tbody>\n",
       "    <tr>\n",
       "      <th>euclidean</th>\n",
       "      <td>77.46</td>\n",
       "      <td>258.29</td>\n",
       "      <td>321.17</td>\n",
       "      <td>62.8</td>\n",
       "      <td>54.49</td>\n",
       "      <td>37.97</td>\n",
       "    </tr>\n",
       "  </tbody>\n",
       "</table>\n",
       "</div>"
      ],
      "text/plain": [
       "            mean     std   total  <10 %   <5 %   <1 %\n",
       "euclidean  77.46  258.29  321.17   62.8  54.49  37.97"
      ]
     },
     "metadata": {},
     "output_type": "display_data"
    },
    {
     "name": "stderr",
     "output_type": "stream",
     "text": [
      "100%|████████████████████████████████████████████████████████| 21632/21632 [00:15<00:00, 1417.43it/s]\n",
      "100%|██████████████████████████████████████████████████████████████| 216/216 [00:26<00:00,  8.14it/s]\n"
     ]
    },
    {
     "data": {
      "text/html": [
       "<div>\n",
       "<style scoped>\n",
       "    .dataframe tbody tr th:only-of-type {\n",
       "        vertical-align: middle;\n",
       "    }\n",
       "\n",
       "    .dataframe tbody tr th {\n",
       "        vertical-align: top;\n",
       "    }\n",
       "\n",
       "    .dataframe thead th {\n",
       "        text-align: right;\n",
       "    }\n",
       "</style>\n",
       "<table border=\"1\" class=\"dataframe\">\n",
       "  <thead>\n",
       "    <tr style=\"text-align: right;\">\n",
       "      <th></th>\n",
       "      <th>mean</th>\n",
       "      <th>std</th>\n",
       "      <th>total</th>\n",
       "      <th>&lt;10 %</th>\n",
       "      <th>&lt;5 %</th>\n",
       "      <th>&lt;1 %</th>\n",
       "    </tr>\n",
       "  </thead>\n",
       "  <tbody>\n",
       "    <tr>\n",
       "      <th>cosine</th>\n",
       "      <td>74.35</td>\n",
       "      <td>256.73</td>\n",
       "      <td>321.17</td>\n",
       "      <td>64.31</td>\n",
       "      <td>55.83</td>\n",
       "      <td>39.15</td>\n",
       "    </tr>\n",
       "  </tbody>\n",
       "</table>\n",
       "</div>"
      ],
      "text/plain": [
       "         mean     std   total  <10 %   <5 %   <1 %\n",
       "cosine  74.35  256.73  321.17  64.31  55.83  39.15"
      ]
     },
     "metadata": {},
     "output_type": "display_data"
    },
    {
     "name": "stdout",
     "output_type": "stream",
     "text": [
      "\n",
      "\n",
      "K = 50 || STEPS = 1\n"
     ]
    },
    {
     "name": "stderr",
     "output_type": "stream",
     "text": [
      "100%|████████████████████████████████████████████████████████████████| 44/44 [00:04<00:00, 10.22it/s]\n",
      "100%|████████████████████████████████████████████████████████| 20480/20480 [00:11<00:00, 1792.68it/s]\n",
      "100%|██████████████████████████████████████████████████████████████| 654/654 [01:13<00:00,  8.91it/s]\n"
     ]
    },
    {
     "data": {
      "text/html": [
       "<div>\n",
       "<style scoped>\n",
       "    .dataframe tbody tr th:only-of-type {\n",
       "        vertical-align: middle;\n",
       "    }\n",
       "\n",
       "    .dataframe tbody tr th {\n",
       "        vertical-align: top;\n",
       "    }\n",
       "\n",
       "    .dataframe thead th {\n",
       "        text-align: right;\n",
       "    }\n",
       "</style>\n",
       "<table border=\"1\" class=\"dataframe\">\n",
       "  <thead>\n",
       "    <tr style=\"text-align: right;\">\n",
       "      <th></th>\n",
       "      <th>mean</th>\n",
       "      <th>std</th>\n",
       "      <th>total</th>\n",
       "      <th>&lt;10 %</th>\n",
       "      <th>&lt;5 %</th>\n",
       "      <th>&lt;1 %</th>\n",
       "    </tr>\n",
       "  </thead>\n",
       "  <tbody>\n",
       "    <tr>\n",
       "      <th>euclidean</th>\n",
       "      <td>1.21</td>\n",
       "      <td>34.17</td>\n",
       "      <td>431.14</td>\n",
       "      <td>99.32</td>\n",
       "      <td>99.27</td>\n",
       "      <td>99.25</td>\n",
       "    </tr>\n",
       "  </tbody>\n",
       "</table>\n",
       "</div>"
      ],
      "text/plain": [
       "           mean    std   total  <10 %   <5 %   <1 %\n",
       "euclidean  1.21  34.17  431.14  99.32  99.27  99.25"
      ]
     },
     "metadata": {},
     "output_type": "display_data"
    },
    {
     "name": "stderr",
     "output_type": "stream",
     "text": [
      "100%|████████████████████████████████████████████████████████| 20480/20480 [00:14<00:00, 1435.41it/s]\n",
      "100%|██████████████████████████████████████████████████████████████| 655/655 [01:14<00:00,  8.78it/s]\n"
     ]
    },
    {
     "data": {
      "text/html": [
       "<div>\n",
       "<style scoped>\n",
       "    .dataframe tbody tr th:only-of-type {\n",
       "        vertical-align: middle;\n",
       "    }\n",
       "\n",
       "    .dataframe tbody tr th {\n",
       "        vertical-align: top;\n",
       "    }\n",
       "\n",
       "    .dataframe thead th {\n",
       "        text-align: right;\n",
       "    }\n",
       "</style>\n",
       "<table border=\"1\" class=\"dataframe\">\n",
       "  <thead>\n",
       "    <tr style=\"text-align: right;\">\n",
       "      <th></th>\n",
       "      <th>mean</th>\n",
       "      <th>std</th>\n",
       "      <th>total</th>\n",
       "      <th>&lt;10 %</th>\n",
       "      <th>&lt;5 %</th>\n",
       "      <th>&lt;1 %</th>\n",
       "    </tr>\n",
       "  </thead>\n",
       "  <tbody>\n",
       "    <tr>\n",
       "      <th>cosine</th>\n",
       "      <td>1.07</td>\n",
       "      <td>32.06</td>\n",
       "      <td>431.14</td>\n",
       "      <td>99.38</td>\n",
       "      <td>99.31</td>\n",
       "      <td>99.28</td>\n",
       "    </tr>\n",
       "  </tbody>\n",
       "</table>\n",
       "</div>"
      ],
      "text/plain": [
       "        mean    std   total  <10 %   <5 %   <1 %\n",
       "cosine  1.07  32.06  431.14  99.38  99.31  99.28"
      ]
     },
     "metadata": {},
     "output_type": "display_data"
    },
    {
     "name": "stdout",
     "output_type": "stream",
     "text": [
      "\n",
      "\n",
      "K = 50 || STEPS = 2\n"
     ]
    },
    {
     "name": "stderr",
     "output_type": "stream",
     "text": [
      "100%|████████████████████████████████████████████████████████████████| 44/44 [00:03<00:00, 11.02it/s]\n",
      "100%|████████████████████████████████████████████████████████| 20608/20608 [00:11<00:00, 1767.55it/s]\n",
      "100%|██████████████████████████████████████████████████████████████| 603/603 [01:11<00:00,  8.46it/s]\n"
     ]
    },
    {
     "data": {
      "text/html": [
       "<div>\n",
       "<style scoped>\n",
       "    .dataframe tbody tr th:only-of-type {\n",
       "        vertical-align: middle;\n",
       "    }\n",
       "\n",
       "    .dataframe tbody tr th {\n",
       "        vertical-align: top;\n",
       "    }\n",
       "\n",
       "    .dataframe thead th {\n",
       "        text-align: right;\n",
       "    }\n",
       "</style>\n",
       "<table border=\"1\" class=\"dataframe\">\n",
       "  <thead>\n",
       "    <tr style=\"text-align: right;\">\n",
       "      <th></th>\n",
       "      <th>mean</th>\n",
       "      <th>std</th>\n",
       "      <th>total</th>\n",
       "      <th>&lt;10 %</th>\n",
       "      <th>&lt;5 %</th>\n",
       "      <th>&lt;1 %</th>\n",
       "    </tr>\n",
       "  </thead>\n",
       "  <tbody>\n",
       "    <tr>\n",
       "      <th>euclidean</th>\n",
       "      <td>19.93</td>\n",
       "      <td>144.89</td>\n",
       "      <td>385.75</td>\n",
       "      <td>93.84</td>\n",
       "      <td>93.79</td>\n",
       "      <td>93.7</td>\n",
       "    </tr>\n",
       "  </tbody>\n",
       "</table>\n",
       "</div>"
      ],
      "text/plain": [
       "            mean     std   total  <10 %   <5 %  <1 %\n",
       "euclidean  19.93  144.89  385.75  93.84  93.79  93.7"
      ]
     },
     "metadata": {},
     "output_type": "display_data"
    },
    {
     "name": "stderr",
     "output_type": "stream",
     "text": [
      "100%|████████████████████████████████████████████████████████| 20608/20608 [00:14<00:00, 1419.32it/s]\n",
      "100%|██████████████████████████████████████████████████████████████| 605/605 [01:10<00:00,  8.63it/s]\n"
     ]
    },
    {
     "data": {
      "text/html": [
       "<div>\n",
       "<style scoped>\n",
       "    .dataframe tbody tr th:only-of-type {\n",
       "        vertical-align: middle;\n",
       "    }\n",
       "\n",
       "    .dataframe tbody tr th {\n",
       "        vertical-align: top;\n",
       "    }\n",
       "\n",
       "    .dataframe thead th {\n",
       "        text-align: right;\n",
       "    }\n",
       "</style>\n",
       "<table border=\"1\" class=\"dataframe\">\n",
       "  <thead>\n",
       "    <tr style=\"text-align: right;\">\n",
       "      <th></th>\n",
       "      <th>mean</th>\n",
       "      <th>std</th>\n",
       "      <th>total</th>\n",
       "      <th>&lt;10 %</th>\n",
       "      <th>&lt;5 %</th>\n",
       "      <th>&lt;1 %</th>\n",
       "    </tr>\n",
       "  </thead>\n",
       "  <tbody>\n",
       "    <tr>\n",
       "      <th>cosine</th>\n",
       "      <td>19.2</td>\n",
       "      <td>142.63</td>\n",
       "      <td>385.75</td>\n",
       "      <td>94.09</td>\n",
       "      <td>94.01</td>\n",
       "      <td>93.91</td>\n",
       "    </tr>\n",
       "  </tbody>\n",
       "</table>\n",
       "</div>"
      ],
      "text/plain": [
       "        mean     std   total  <10 %   <5 %   <1 %\n",
       "cosine  19.2  142.63  385.75  94.09  94.01  93.91"
      ]
     },
     "metadata": {},
     "output_type": "display_data"
    },
    {
     "name": "stdout",
     "output_type": "stream",
     "text": [
      "\n",
      "\n",
      "K = 50 || STEPS = 5\n"
     ]
    },
    {
     "name": "stderr",
     "output_type": "stream",
     "text": [
      "100%|████████████████████████████████████████████████████████████████| 44/44 [00:03<00:00, 11.19it/s]\n",
      "100%|████████████████████████████████████████████████████████| 21632/21632 [00:12<00:00, 1755.23it/s]\n",
      "100%|██████████████████████████████████████████████████████████████| 483/483 [00:59<00:00,  8.10it/s]\n"
     ]
    },
    {
     "data": {
      "text/html": [
       "<div>\n",
       "<style scoped>\n",
       "    .dataframe tbody tr th:only-of-type {\n",
       "        vertical-align: middle;\n",
       "    }\n",
       "\n",
       "    .dataframe tbody tr th {\n",
       "        vertical-align: top;\n",
       "    }\n",
       "\n",
       "    .dataframe thead th {\n",
       "        text-align: right;\n",
       "    }\n",
       "</style>\n",
       "<table border=\"1\" class=\"dataframe\">\n",
       "  <thead>\n",
       "    <tr style=\"text-align: right;\">\n",
       "      <th></th>\n",
       "      <th>mean</th>\n",
       "      <th>std</th>\n",
       "      <th>total</th>\n",
       "      <th>&lt;10 %</th>\n",
       "      <th>&lt;5 %</th>\n",
       "      <th>&lt;1 %</th>\n",
       "    </tr>\n",
       "  </thead>\n",
       "  <tbody>\n",
       "    <tr>\n",
       "      <th>euclidean</th>\n",
       "      <td>77.06</td>\n",
       "      <td>258.38</td>\n",
       "      <td>321.17</td>\n",
       "      <td>64.0</td>\n",
       "      <td>54.62</td>\n",
       "      <td>37.57</td>\n",
       "    </tr>\n",
       "  </tbody>\n",
       "</table>\n",
       "</div>"
      ],
      "text/plain": [
       "            mean     std   total  <10 %   <5 %   <1 %\n",
       "euclidean  77.06  258.38  321.17   64.0  54.62  37.57"
      ]
     },
     "metadata": {},
     "output_type": "display_data"
    },
    {
     "name": "stderr",
     "output_type": "stream",
     "text": [
      "100%|████████████████████████████████████████████████████████| 21632/21632 [00:15<00:00, 1421.97it/s]\n",
      "100%|██████████████████████████████████████████████████████████████| 497/497 [01:01<00:00,  8.07it/s]\n"
     ]
    },
    {
     "data": {
      "text/html": [
       "<div>\n",
       "<style scoped>\n",
       "    .dataframe tbody tr th:only-of-type {\n",
       "        vertical-align: middle;\n",
       "    }\n",
       "\n",
       "    .dataframe tbody tr th {\n",
       "        vertical-align: top;\n",
       "    }\n",
       "\n",
       "    .dataframe thead th {\n",
       "        text-align: right;\n",
       "    }\n",
       "</style>\n",
       "<table border=\"1\" class=\"dataframe\">\n",
       "  <thead>\n",
       "    <tr style=\"text-align: right;\">\n",
       "      <th></th>\n",
       "      <th>mean</th>\n",
       "      <th>std</th>\n",
       "      <th>total</th>\n",
       "      <th>&lt;10 %</th>\n",
       "      <th>&lt;5 %</th>\n",
       "      <th>&lt;1 %</th>\n",
       "    </tr>\n",
       "  </thead>\n",
       "  <tbody>\n",
       "    <tr>\n",
       "      <th>cosine</th>\n",
       "      <td>74.13</td>\n",
       "      <td>256.77</td>\n",
       "      <td>321.17</td>\n",
       "      <td>65.01</td>\n",
       "      <td>55.58</td>\n",
       "      <td>38.38</td>\n",
       "    </tr>\n",
       "  </tbody>\n",
       "</table>\n",
       "</div>"
      ],
      "text/plain": [
       "         mean     std   total  <10 %   <5 %   <1 %\n",
       "cosine  74.13  256.77  321.17  65.01  55.58  38.38"
      ]
     },
     "metadata": {},
     "output_type": "display_data"
    },
    {
     "name": "stdout",
     "output_type": "stream",
     "text": [
      "\n",
      "\n"
     ]
    }
   ],
   "source": [
    "for k in [10, 20, 50]:\n",
    "    for steps in [1, 2, 5]:\n",
    "        file_string = f\"models/supervised/offlineRL/*steps={steps}*/model.pth\"\n",
    "        assert len(glob.glob(file_string)) == 1\n",
    "        ac = torch.load(glob.glob(file_string)[0]).to(device)\n",
    "\n",
    "        print(f\"K = {k} || STEPS = {steps}\")\n",
    "        actor_critic_stats(ac, k, steps)\n",
    "        print()\n",
    "        print()"
   ]
  },
  {
   "cell_type": "markdown",
   "id": "dc7caec5",
   "metadata": {},
   "source": [
    "# PLotter code (for later)"
   ]
  },
  {
   "cell_type": "code",
   "execution_count": 56,
   "id": "39d1c72f",
   "metadata": {},
   "outputs": [
    {
     "data": {
      "image/png": "[encoded data removed]",
      "text/plain": [
       "<Figure size 640x480 with 1 Axes>"
      ]
     },
     "metadata": {},
     "output_type": "display_data"
    }
   ],
   "source": [
    "%matplotlib inline\n",
    "arr = np.sort(rank_list)\n",
    "\n",
    "plt.hist(arr[:int(arr.shape[0]*0.96)]+1, bins=100)\n",
    "plt.xlabel(\"Rank\")\n",
    "plt.ylabel(\"Counts\")\n",
    "plt.show()"
   ]
  }
 ],
 "metadata": {
  "kernelspec": {
   "display_name": "Python 3 (ipykernel)",
   "language": "python",
   "name": "python3"
  },
  "language_info": {
   "codemirror_mode": {
    "name": "ipython",
    "version": 3
   },
   "file_extension": ".py",
   "mimetype": "text/x-python",
   "name": "python",
   "nbconvert_exporter": "python",
   "pygments_lexer": "ipython3",
   "version": "3.7.16"
  }
 },
 "nbformat": 4,
 "nbformat_minor": 5
}
