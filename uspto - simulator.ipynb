{
 "cells": [
  {
   "cell_type": "code",
   "execution_count": 1,
   "metadata": {},
   "outputs": [],
   "source": [
    "from rdkit import Chem\n",
    "import numpy as np\n",
    "import pandas as pd\n",
    "from IPython.display import display\n",
    "import tqdm"
   ]
  },
  {
   "cell_type": "markdown",
   "metadata": {},
   "source": [
    "# Load simulator data"
   ]
  },
  {
   "cell_type": "code",
   "execution_count": 2,
   "metadata": {},
   "outputs": [],
   "source": [
    "dataset = pd.read_csv(\"/home/abhor/Desktop/repos/ReactionRL/datasets/my_uspto/action_dataset.csv\", index_col=0)"
   ]
  },
  {
   "cell_type": "code",
   "execution_count": 3,
   "metadata": {
    "scrolled": false
   },
   "outputs": [
    {
     "data": {
      "text/html": [
       "<div>\n",
       "<style scoped>\n",
       "    .dataframe tbody tr th:only-of-type {\n",
       "        vertical-align: middle;\n",
       "    }\n",
       "\n",
       "    .dataframe tbody tr th {\n",
       "        vertical-align: top;\n",
       "    }\n",
       "\n",
       "    .dataframe thead th {\n",
       "        text-align: right;\n",
       "    }\n",
       "</style>\n",
       "<table border=\"1\" class=\"dataframe\">\n",
       "  <thead>\n",
       "    <tr style=\"text-align: right;\">\n",
       "      <th></th>\n",
       "      <th>reactants</th>\n",
       "      <th>products</th>\n",
       "      <th>rsig</th>\n",
       "      <th>psig</th>\n",
       "      <th>rsub</th>\n",
       "      <th>psub</th>\n",
       "      <th>rcen</th>\n",
       "      <th>pcen</th>\n",
       "      <th>rbond</th>\n",
       "      <th>pbond</th>\n",
       "      <th>rsig_clusters</th>\n",
       "    </tr>\n",
       "  </thead>\n",
       "  <tbody>\n",
       "    <tr>\n",
       "      <th>0</th>\n",
       "      <td>CON(C)C(=O)c1ccc(O)nc1</td>\n",
       "      <td>CC(C)CC(=O)c1ccc(O)nc1</td>\n",
       "      <td>[CH3:0][O:1][N:2]([CH3:3])[C:4](=[O:5])[c:6]1[...</td>\n",
       "      <td>[CH3:0][CH:1]([CH3:2])[CH2:3][C:4](=[O:5])[c:6...</td>\n",
       "      <td>[CH3:0][O:1][NH:2][CH3:3]</td>\n",
       "      <td>[CH3:0][CH:1]([CH3:2])[CH3:3]</td>\n",
       "      <td>2</td>\n",
       "      <td>3</td>\n",
       "      <td>[[1.0]]</td>\n",
       "      <td>[[1.0]]</td>\n",
       "      <td>0</td>\n",
       "    </tr>\n",
       "    <tr>\n",
       "      <th>8174</th>\n",
       "      <td>CCc1nc(C(F)(F)F)ccc1C(=O)N(C)OC</td>\n",
       "      <td>CCc1nc(C(F)(F)F)ccc1C=O</td>\n",
       "      <td>[cH:0]1[n:1][cH:2][cH:3][cH:4][c:5]1[C:6](=[O:...</td>\n",
       "      <td>[H:0]</td>\n",
       "      <td>[NH:8]([CH3:9])[O:10][CH3:11]</td>\n",
       "      <td>[H:0]</td>\n",
       "      <td>8</td>\n",
       "      <td>0</td>\n",
       "      <td>[[1.0]]</td>\n",
       "      <td>[]</td>\n",
       "      <td>0</td>\n",
       "    </tr>\n",
       "    <tr>\n",
       "      <th>25624</th>\n",
       "      <td>CON(C)C(=O)c1ccc(Cl)nc1N</td>\n",
       "      <td>COc1cc(C)c(F)cc1C(=O)c1ccc(Cl)nc1N</td>\n",
       "      <td>[CH3:0][O:1][N:2]([CH3:3])[C:4](=[O:5])[c:6]1[...</td>\n",
       "      <td>[CH3:0][O:1][c:2]1[cH:3][c:4]([CH3:5])[c:6]([F...</td>\n",
       "      <td>[CH3:0][O:1][NH:2][CH3:3]</td>\n",
       "      <td>[CH3:0][O:1][c:2]1[cH:3][c:4]([CH3:5])[c:6]([F...</td>\n",
       "      <td>2</td>\n",
       "      <td>9</td>\n",
       "      <td>[[1.0]]</td>\n",
       "      <td>[[1.0]]</td>\n",
       "      <td>0</td>\n",
       "    </tr>\n",
       "    <tr>\n",
       "      <th>27114</th>\n",
       "      <td>CON(C)C(=O)c1cccnc1Cl</td>\n",
       "      <td>CC(=O)c1cccnc1Cl</td>\n",
       "      <td>[CH3:0][O:1][N:2]([CH3:3])[C:4](=[O:5])[c:6]1[...</td>\n",
       "      <td>[CH3:0][C:1](=[O:2])[c:3]1[cH:4][cH:5][cH:6][n...</td>\n",
       "      <td>[CH3:0][O:1][NH:2][CH3:3]</td>\n",
       "      <td>[CH4:0]</td>\n",
       "      <td>2</td>\n",
       "      <td>0</td>\n",
       "      <td>[[1.0]]</td>\n",
       "      <td>[[1.0]]</td>\n",
       "      <td>0</td>\n",
       "    </tr>\n",
       "    <tr>\n",
       "      <th>68734</th>\n",
       "      <td>CON(C)C(=O)c1ccc(Cl)nc1</td>\n",
       "      <td>COc1ccccc1C(=O)c1ccc(Cl)nc1</td>\n",
       "      <td>[CH3:0][O:1][N:2]([CH3:3])[C:4](=[O:5])[c:6]1[...</td>\n",
       "      <td>[CH3:0][O:1][c:2]1[cH:3][cH:4][cH:5][cH:6][c:7...</td>\n",
       "      <td>[CH3:0][O:1][NH:2][CH3:3]</td>\n",
       "      <td>[CH3:0][O:1][c:2]1[cH:3][cH:4][cH:5][cH:6][cH:7]1</td>\n",
       "      <td>2</td>\n",
       "      <td>7</td>\n",
       "      <td>[[1.0]]</td>\n",
       "      <td>[[1.0]]</td>\n",
       "      <td>0</td>\n",
       "    </tr>\n",
       "    <tr>\n",
       "      <th>...</th>\n",
       "      <td>...</td>\n",
       "      <td>...</td>\n",
       "      <td>...</td>\n",
       "      <td>...</td>\n",
       "      <td>...</td>\n",
       "      <td>...</td>\n",
       "      <td>...</td>\n",
       "      <td>...</td>\n",
       "      <td>...</td>\n",
       "      <td>...</td>\n",
       "      <td>...</td>\n",
       "    </tr>\n",
       "    <tr>\n",
       "      <th>448339</th>\n",
       "      <td>OCCC(F)(F)C(F)(F)C(F)(F)F</td>\n",
       "      <td>O=P([O-])(C(F)(F)C(F)(F)F)C(F)(F)C(F)(F)F</td>\n",
       "      <td>[OH:0][CH2:1][CH2:2][C:3]([F:4])([F:5])[C:6]([...</td>\n",
       "      <td>[O:0]=[P:1]([O-:2])([C:3]([F:4])([F:5])[CH3:6]...</td>\n",
       "      <td>[OH:0][CH2:1][CH2:2][CH:3]([F:4])[F:5]</td>\n",
       "      <td>[O:0]=[PH:1]([O-:2])[C:7]([F:8])([F:9])[C:10](...</td>\n",
       "      <td>3</td>\n",
       "      <td>1</td>\n",
       "      <td>[[1.0]]</td>\n",
       "      <td>[[1.0]]</td>\n",
       "      <td>393801</td>\n",
       "    </tr>\n",
       "    <tr>\n",
       "      <th>448392</th>\n",
       "      <td>CCNC(=O)n1nc(N)c2cc(C(F)(F)F)ccc21</td>\n",
       "      <td>CCN=C=O</td>\n",
       "      <td>[CH3:0][NH:1][C:2](=[O:3])[n:4]1[n:5][c:6]([NH...</td>\n",
       "      <td>[CH3:0][N:1]=[C:2]=[O:3]</td>\n",
       "      <td>[CH:2](=[O:3])[n:4]1[n:5][c:6]([NH2:7])[c:8]2[...</td>\n",
       "      <td>[CH2:2]=[O:3]</td>\n",
       "      <td>2</td>\n",
       "      <td>2</td>\n",
       "      <td>[[1.0]]</td>\n",
       "      <td>[[2.0]]</td>\n",
       "      <td>393838</td>\n",
       "    </tr>\n",
       "    <tr>\n",
       "      <th>448417</th>\n",
       "      <td>O=P(C(F)(F)C(F)(F)F)(C(F)(F)C(F)(F)F)C(F)(F)C(...</td>\n",
       "      <td>O=P([O-])(C(F)(F)C(F)(F)F)C(F)(F)C(F)(F)F</td>\n",
       "      <td>[O:0]=[P:1]([CH3:2])([CH3:3])[C:4]([F:5])([F:6...</td>\n",
       "      <td>[O:0]=[P:1]([O-:2])([CH3:3])[CH3:4]</td>\n",
       "      <td>[CH:4]([F:5])([F:6])[C:7]([F:8])([F:9])[F:10]</td>\n",
       "      <td>[O-:2]</td>\n",
       "      <td>4</td>\n",
       "      <td>2</td>\n",
       "      <td>[[1.0]]</td>\n",
       "      <td>[[1.0]]</td>\n",
       "      <td>393859</td>\n",
       "    </tr>\n",
       "    <tr>\n",
       "      <th>448458</th>\n",
       "      <td>CCOc1ccc(C(C)(C)COCc2ccc(F)c(Oc3ccccc3)c2)cc1</td>\n",
       "      <td>CCOc1ccc(C(C)(C)CO)cc1</td>\n",
       "      <td>[CH3:0][O:1][CH2:2][c:3]1[cH:4][cH:5][c:6]([F:...</td>\n",
       "      <td>[H:0]</td>\n",
       "      <td>[CH3:2][c:3]1[cH:4][cH:5][c:6]([F:7])[c:8]([O:...</td>\n",
       "      <td>[H:0]</td>\n",
       "      <td>2</td>\n",
       "      <td>0</td>\n",
       "      <td>[[1.0]]</td>\n",
       "      <td>[]</td>\n",
       "      <td>393888</td>\n",
       "    </tr>\n",
       "    <tr>\n",
       "      <th>448505</th>\n",
       "      <td>CCCCOS(=O)(=O)OCCCC</td>\n",
       "      <td>CCCC[P+](CC)(CC)CC</td>\n",
       "      <td>[CH3:0][CH2:1][O:2][S:3](=[O:4])(=[O:5])[O:6][...</td>\n",
       "      <td>[CH3:0][CH2:1][P+:2]([CH2:3][CH3:4])([CH2:5][C...</td>\n",
       "      <td>[OH:2][S:3](=[O:4])(=[O:5])[O:6][CH2:7][CH2:8]...</td>\n",
       "      <td>[P+:2]([CH2:3][CH3:4])([CH2:5][CH3:6])[CH2:7][...</td>\n",
       "      <td>2</td>\n",
       "      <td>2</td>\n",
       "      <td>[[1.0]]</td>\n",
       "      <td>[[1.0]]</td>\n",
       "      <td>393922</td>\n",
       "    </tr>\n",
       "  </tbody>\n",
       "</table>\n",
       "<p>155735 rows × 11 columns</p>\n",
       "</div>"
      ],
      "text/plain": [
       "                                                reactants  \\\n",
       "0                                  CON(C)C(=O)c1ccc(O)nc1   \n",
       "8174                      CCc1nc(C(F)(F)F)ccc1C(=O)N(C)OC   \n",
       "25624                            CON(C)C(=O)c1ccc(Cl)nc1N   \n",
       "27114                               CON(C)C(=O)c1cccnc1Cl   \n",
       "68734                             CON(C)C(=O)c1ccc(Cl)nc1   \n",
       "...                                                   ...   \n",
       "448339                          OCCC(F)(F)C(F)(F)C(F)(F)F   \n",
       "448392                 CCNC(=O)n1nc(N)c2cc(C(F)(F)F)ccc21   \n",
       "448417  O=P(C(F)(F)C(F)(F)F)(C(F)(F)C(F)(F)F)C(F)(F)C(...   \n",
       "448458      CCOc1ccc(C(C)(C)COCc2ccc(F)c(Oc3ccccc3)c2)cc1   \n",
       "448505                                CCCCOS(=O)(=O)OCCCC   \n",
       "\n",
       "                                         products  \\\n",
       "0                          CC(C)CC(=O)c1ccc(O)nc1   \n",
       "8174                      CCc1nc(C(F)(F)F)ccc1C=O   \n",
       "25624          COc1cc(C)c(F)cc1C(=O)c1ccc(Cl)nc1N   \n",
       "27114                            CC(=O)c1cccnc1Cl   \n",
       "68734                 COc1ccccc1C(=O)c1ccc(Cl)nc1   \n",
       "...                                           ...   \n",
       "448339  O=P([O-])(C(F)(F)C(F)(F)F)C(F)(F)C(F)(F)F   \n",
       "448392                                    CCN=C=O   \n",
       "448417  O=P([O-])(C(F)(F)C(F)(F)F)C(F)(F)C(F)(F)F   \n",
       "448458                     CCOc1ccc(C(C)(C)CO)cc1   \n",
       "448505                         CCCC[P+](CC)(CC)CC   \n",
       "\n",
       "                                                     rsig  \\\n",
       "0       [CH3:0][O:1][N:2]([CH3:3])[C:4](=[O:5])[c:6]1[...   \n",
       "8174    [cH:0]1[n:1][cH:2][cH:3][cH:4][c:5]1[C:6](=[O:...   \n",
       "25624   [CH3:0][O:1][N:2]([CH3:3])[C:4](=[O:5])[c:6]1[...   \n",
       "27114   [CH3:0][O:1][N:2]([CH3:3])[C:4](=[O:5])[c:6]1[...   \n",
       "68734   [CH3:0][O:1][N:2]([CH3:3])[C:4](=[O:5])[c:6]1[...   \n",
       "...                                                   ...   \n",
       "448339  [OH:0][CH2:1][CH2:2][C:3]([F:4])([F:5])[C:6]([...   \n",
       "448392  [CH3:0][NH:1][C:2](=[O:3])[n:4]1[n:5][c:6]([NH...   \n",
       "448417  [O:0]=[P:1]([CH3:2])([CH3:3])[C:4]([F:5])([F:6...   \n",
       "448458  [CH3:0][O:1][CH2:2][c:3]1[cH:4][cH:5][c:6]([F:...   \n",
       "448505  [CH3:0][CH2:1][O:2][S:3](=[O:4])(=[O:5])[O:6][...   \n",
       "\n",
       "                                                     psig  \\\n",
       "0       [CH3:0][CH:1]([CH3:2])[CH2:3][C:4](=[O:5])[c:6...   \n",
       "8174                                                [H:0]   \n",
       "25624   [CH3:0][O:1][c:2]1[cH:3][c:4]([CH3:5])[c:6]([F...   \n",
       "27114   [CH3:0][C:1](=[O:2])[c:3]1[cH:4][cH:5][cH:6][n...   \n",
       "68734   [CH3:0][O:1][c:2]1[cH:3][cH:4][cH:5][cH:6][c:7...   \n",
       "...                                                   ...   \n",
       "448339  [O:0]=[P:1]([O-:2])([C:3]([F:4])([F:5])[CH3:6]...   \n",
       "448392                           [CH3:0][N:1]=[C:2]=[O:3]   \n",
       "448417                [O:0]=[P:1]([O-:2])([CH3:3])[CH3:4]   \n",
       "448458                                              [H:0]   \n",
       "448505  [CH3:0][CH2:1][P+:2]([CH2:3][CH3:4])([CH2:5][C...   \n",
       "\n",
       "                                                     rsub  \\\n",
       "0                               [CH3:0][O:1][NH:2][CH3:3]   \n",
       "8174                        [NH:8]([CH3:9])[O:10][CH3:11]   \n",
       "25624                           [CH3:0][O:1][NH:2][CH3:3]   \n",
       "27114                           [CH3:0][O:1][NH:2][CH3:3]   \n",
       "68734                           [CH3:0][O:1][NH:2][CH3:3]   \n",
       "...                                                   ...   \n",
       "448339             [OH:0][CH2:1][CH2:2][CH:3]([F:4])[F:5]   \n",
       "448392  [CH:2](=[O:3])[n:4]1[n:5][c:6]([NH2:7])[c:8]2[...   \n",
       "448417      [CH:4]([F:5])([F:6])[C:7]([F:8])([F:9])[F:10]   \n",
       "448458  [CH3:2][c:3]1[cH:4][cH:5][c:6]([F:7])[c:8]([O:...   \n",
       "448505  [OH:2][S:3](=[O:4])(=[O:5])[O:6][CH2:7][CH2:8]...   \n",
       "\n",
       "                                                     psub  rcen  pcen  \\\n",
       "0                           [CH3:0][CH:1]([CH3:2])[CH3:3]     2     3   \n",
       "8174                                                [H:0]     8     0   \n",
       "25624   [CH3:0][O:1][c:2]1[cH:3][c:4]([CH3:5])[c:6]([F...     2     9   \n",
       "27114                                             [CH4:0]     2     0   \n",
       "68734   [CH3:0][O:1][c:2]1[cH:3][cH:4][cH:5][cH:6][cH:7]1     2     7   \n",
       "...                                                   ...   ...   ...   \n",
       "448339  [O:0]=[PH:1]([O-:2])[C:7]([F:8])([F:9])[C:10](...     3     1   \n",
       "448392                                      [CH2:2]=[O:3]     2     2   \n",
       "448417                                             [O-:2]     4     2   \n",
       "448458                                              [H:0]     2     0   \n",
       "448505  [P+:2]([CH2:3][CH3:4])([CH2:5][CH3:6])[CH2:7][...     2     2   \n",
       "\n",
       "          rbond    pbond  rsig_clusters  \n",
       "0       [[1.0]]  [[1.0]]              0  \n",
       "8174    [[1.0]]       []              0  \n",
       "25624   [[1.0]]  [[1.0]]              0  \n",
       "27114   [[1.0]]  [[1.0]]              0  \n",
       "68734   [[1.0]]  [[1.0]]              0  \n",
       "...         ...      ...            ...  \n",
       "448339  [[1.0]]  [[1.0]]         393801  \n",
       "448392  [[1.0]]  [[2.0]]         393838  \n",
       "448417  [[1.0]]  [[1.0]]         393859  \n",
       "448458  [[1.0]]       []         393888  \n",
       "448505  [[1.0]]  [[1.0]]         393922  \n",
       "\n",
       "[155735 rows x 11 columns]"
      ]
     },
     "execution_count": 3,
     "metadata": {},
     "output_type": "execute_result"
    }
   ],
   "source": [
    "dataset"
   ]
  },
  {
   "cell_type": "markdown",
   "metadata": {},
   "source": [
    "# Indexing "
   ]
  },
  {
   "cell_type": "markdown",
   "metadata": {},
   "source": [
    "First, we create index for rsub to make for faster searching.\n",
    "\n",
    "Searching will be based on rsub because the action searching algorithm cannot create rsigs. rsigs will be used for substructure matching."
   ]
  },
  {
   "cell_type": "code",
   "execution_count": 4,
   "metadata": {},
   "outputs": [],
   "source": [
    "import pynauty\n",
    "import networkx as nx"
   ]
  },
  {
   "cell_type": "code",
   "execution_count": 5,
   "metadata": {},
   "outputs": [
    {
     "name": "stdout",
     "output_type": "stream",
     "text": [
      "There are 34418 unique (rsigs)rsigs.\n"
     ]
    }
   ],
   "source": [
    "# Fetch the rsigs using the clusters\n",
    "rsig_cluster_to_rsig_d = {}\n",
    "for cluster_id in dataset[\"rsig_clusters\"].unique():\n",
    "    cluster_df = dataset[dataset[\"rsig_clusters\"] == cluster_id]\n",
    "    rsig  = Chem.MolFromSmiles(cluster_df.iloc[0][\"rsig\"])\n",
    "    rsig_cluster_to_rsig_d[cluster_id] = rsig\n",
    "    \n",
    "print(f\"There are {len(rsig_cluster_to_rsig_d)} unique (rsigs)rsigs.\")"
   ]
  },
  {
   "cell_type": "code",
   "execution_count": 6,
   "metadata": {},
   "outputs": [
    {
     "name": "stderr",
     "output_type": "stream",
     "text": [
      "100%|███████████████████████████████████████████████████████████████████| 155735/155735 [02:03<00:00, 1257.02it/s]\n"
     ]
    }
   ],
   "source": [
    "# Get atom frequency for making rings in the signature\n",
    "atom_frequency = {}\n",
    "\n",
    "for i in tqdm.tqdm(range(dataset.shape[0]), total=dataset.shape[0]):\n",
    "    atoms = list(Chem.MolFromSmiles(dataset.iloc[i][\"reactants\"]).GetAtoms()) + list(Chem.MolFromSmiles(dataset.iloc[i][\"products\"]).GetAtoms())\n",
    "    atom_nums, counts = np.unique(list(map(lambda x: x.GetAtomicNum(), atoms)), return_counts=True)\n",
    "    for num, cnt in zip(atom_nums, counts):\n",
    "        if num not in atom_frequency:\n",
    "            atom_frequency[num] = cnt\n",
    "        else:\n",
    "            atom_frequency[num] += cnt\n",
    "\n",
    "mapping = list(range(1, 50))\n",
    "mapping.remove(2)\n",
    "atom_to_freq_order = {x: mapping[i] for i, (_, x) in enumerate(sorted(zip(list(atom_frequency.values()), list(atom_frequency.keys())))[::-1])}"
   ]
  },
  {
   "cell_type": "code",
   "execution_count": 8,
   "metadata": {},
   "outputs": [
    {
     "name": "stderr",
     "output_type": "stream",
     "text": [
      "100%|█████████████████████████████████████████████████████████████████████| 34418/34418 [00:13<00:00, 2589.53it/s]"
     ]
    },
    {
     "name": "stdout",
     "output_type": "stream",
     "text": [
      "Len of dict = 28253\n"
     ]
    },
    {
     "name": "stderr",
     "output_type": "stream",
     "text": [
      "\n"
     ]
    }
   ],
   "source": [
    "# For each rsig, genearate a certificate\n",
    "def get_mol_certificate(mol):\n",
    "    adj_mat = Chem.GetAdjacencyMatrix(mol)\n",
    "\n",
    "    # Create a ring for each atom with size = atomic_num\n",
    "    atom_nums = np.array([atom_to_freq_order[atom.GetAtomicNum()] for atom in list(mol.GetAtoms())])\n",
    "    mat_list = []\n",
    "    for atn in atom_nums:\n",
    "        new_mat = np.zeros(shape=(atn, atn), dtype=np.int8)\n",
    "        for i in range(atn):\n",
    "            new_mat[i, (i+1)%atn] = 1\n",
    "        mat_list.append(new_mat)\n",
    "\n",
    "    # conbine the rings into a new adj mat\n",
    "    new_adj_mat = np.zeros(shape=(sum(atom_nums), sum(atom_nums)), dtype=np.int8)\n",
    "    idx = 0\n",
    "    for i in range(len(atom_nums)):\n",
    "        new_adj_mat[idx:idx+atom_nums[i], idx:idx+atom_nums[i]] = mat_list[i]\n",
    "        idx += atom_nums[i]\n",
    "\n",
    "    # add original last connections\n",
    "    idx = 0\n",
    "    for i, a_i in enumerate(np.cumsum(atom_nums)):\n",
    "        for j, a_j in enumerate(np.cumsum(atom_nums)):\n",
    "            new_adj_mat[a_i-1, a_j-1] = adj_mat[i, j]\n",
    "\n",
    "    adj_mat = new_adj_mat\n",
    "    \n",
    "    # convert adj matrix to adj dict\n",
    "    adj_dict = {}\n",
    "    for i, row in enumerate(adj_mat):\n",
    "        adj_dict[i] = [x for x, j in enumerate(row) if j]\n",
    "        \n",
    "    # get graph\n",
    "    G = pynauty.Graph(len(adj_dict), directed=False, adjacency_dict=adj_dict)#, vertex_coloring=coloring)\n",
    "    \n",
    "    # return certificate\n",
    "    return pynauty.certificate(G)\n",
    "        \n",
    "certificate_to_cluster_id_dict = {}\n",
    "for _id in tqdm.tqdm(rsig_cluster_to_rsig_d):\n",
    "    C = get_mol_certificate(rsig_cluster_to_rsig_d[_id])\n",
    "    if C in certificate_to_cluster_id_dict:\n",
    "        certificate_to_cluster_id_dict[C].append(_id)\n",
    "    else:\n",
    "        certificate_to_cluster_id_dict[C] = [_id]\n",
    "\n",
    "print(\"Len of dict =\", len(certificate_to_cluster_id_dict))"
   ]
  },
  {
   "cell_type": "code",
   "execution_count": 10,
   "metadata": {
    "scrolled": false
   },
   "outputs": [
    {
     "name": "stdout",
     "output_type": "stream",
     "text": [
      "2\n",
      "[0, 69927]\n"
     ]
    },
    {
     "data": {
      "text/html": [
       "<div>\n",
       "<style scoped>\n",
       "    .dataframe tbody tr th:only-of-type {\n",
       "        vertical-align: middle;\n",
       "    }\n",
       "\n",
       "    .dataframe tbody tr th {\n",
       "        vertical-align: top;\n",
       "    }\n",
       "\n",
       "    .dataframe thead th {\n",
       "        text-align: right;\n",
       "    }\n",
       "</style>\n",
       "<table border=\"1\" class=\"dataframe\">\n",
       "  <thead>\n",
       "    <tr style=\"text-align: right;\">\n",
       "      <th></th>\n",
       "      <th>reactants</th>\n",
       "      <th>products</th>\n",
       "      <th>rsig</th>\n",
       "      <th>psig</th>\n",
       "      <th>rsub</th>\n",
       "      <th>psub</th>\n",
       "      <th>rcen</th>\n",
       "      <th>pcen</th>\n",
       "      <th>rbond</th>\n",
       "      <th>pbond</th>\n",
       "      <th>rsig_clusters</th>\n",
       "    </tr>\n",
       "  </thead>\n",
       "  <tbody>\n",
       "    <tr>\n",
       "      <th>0</th>\n",
       "      <td>CON(C)C(=O)c1ccc(O)nc1</td>\n",
       "      <td>CC(C)CC(=O)c1ccc(O)nc1</td>\n",
       "      <td>[CH3:0][O:1][N:2]([CH3:3])[C:4](=[O:5])[c:6]1[...</td>\n",
       "      <td>[CH3:0][CH:1]([CH3:2])[CH2:3][C:4](=[O:5])[c:6...</td>\n",
       "      <td>[CH3:0][O:1][NH:2][CH3:3]</td>\n",
       "      <td>[CH3:0][CH:1]([CH3:2])[CH3:3]</td>\n",
       "      <td>2</td>\n",
       "      <td>3</td>\n",
       "      <td>[[1.0]]</td>\n",
       "      <td>[[1.0]]</td>\n",
       "      <td>0</td>\n",
       "    </tr>\n",
       "    <tr>\n",
       "      <th>8174</th>\n",
       "      <td>CCc1nc(C(F)(F)F)ccc1C(=O)N(C)OC</td>\n",
       "      <td>CCc1nc(C(F)(F)F)ccc1C=O</td>\n",
       "      <td>[cH:0]1[n:1][cH:2][cH:3][cH:4][c:5]1[C:6](=[O:...</td>\n",
       "      <td>[H:0]</td>\n",
       "      <td>[NH:8]([CH3:9])[O:10][CH3:11]</td>\n",
       "      <td>[H:0]</td>\n",
       "      <td>8</td>\n",
       "      <td>0</td>\n",
       "      <td>[[1.0]]</td>\n",
       "      <td>[]</td>\n",
       "      <td>0</td>\n",
       "    </tr>\n",
       "    <tr>\n",
       "      <th>25624</th>\n",
       "      <td>CON(C)C(=O)c1ccc(Cl)nc1N</td>\n",
       "      <td>COc1cc(C)c(F)cc1C(=O)c1ccc(Cl)nc1N</td>\n",
       "      <td>[CH3:0][O:1][N:2]([CH3:3])[C:4](=[O:5])[c:6]1[...</td>\n",
       "      <td>[CH3:0][O:1][c:2]1[cH:3][c:4]([CH3:5])[c:6]([F...</td>\n",
       "      <td>[CH3:0][O:1][NH:2][CH3:3]</td>\n",
       "      <td>[CH3:0][O:1][c:2]1[cH:3][c:4]([CH3:5])[c:6]([F...</td>\n",
       "      <td>2</td>\n",
       "      <td>9</td>\n",
       "      <td>[[1.0]]</td>\n",
       "      <td>[[1.0]]</td>\n",
       "      <td>0</td>\n",
       "    </tr>\n",
       "    <tr>\n",
       "      <th>27114</th>\n",
       "      <td>CON(C)C(=O)c1cccnc1Cl</td>\n",
       "      <td>CC(=O)c1cccnc1Cl</td>\n",
       "      <td>[CH3:0][O:1][N:2]([CH3:3])[C:4](=[O:5])[c:6]1[...</td>\n",
       "      <td>[CH3:0][C:1](=[O:2])[c:3]1[cH:4][cH:5][cH:6][n...</td>\n",
       "      <td>[CH3:0][O:1][NH:2][CH3:3]</td>\n",
       "      <td>[CH4:0]</td>\n",
       "      <td>2</td>\n",
       "      <td>0</td>\n",
       "      <td>[[1.0]]</td>\n",
       "      <td>[[1.0]]</td>\n",
       "      <td>0</td>\n",
       "    </tr>\n",
       "    <tr>\n",
       "      <th>68734</th>\n",
       "      <td>CON(C)C(=O)c1ccc(Cl)nc1</td>\n",
       "      <td>COc1ccccc1C(=O)c1ccc(Cl)nc1</td>\n",
       "      <td>[CH3:0][O:1][N:2]([CH3:3])[C:4](=[O:5])[c:6]1[...</td>\n",
       "      <td>[CH3:0][O:1][c:2]1[cH:3][cH:4][cH:5][cH:6][c:7...</td>\n",
       "      <td>[CH3:0][O:1][NH:2][CH3:3]</td>\n",
       "      <td>[CH3:0][O:1][c:2]1[cH:3][cH:4][cH:5][cH:6][cH:7]1</td>\n",
       "      <td>2</td>\n",
       "      <td>7</td>\n",
       "      <td>[[1.0]]</td>\n",
       "      <td>[[1.0]]</td>\n",
       "      <td>0</td>\n",
       "    </tr>\n",
       "    <tr>\n",
       "      <th>103109</th>\n",
       "      <td>CON(C)C(=O)c1cc(Br)cnc1N</td>\n",
       "      <td>Nc1ncc(Br)cc1C(=O)c1ccccc1OC(F)(F)F</td>\n",
       "      <td>[CH3:0][O:1][N:2]([CH3:3])[C:4](=[O:5])[c:6]1[...</td>\n",
       "      <td>[cH:0]1[n:1][cH:2][cH:3][cH:4][c:5]1[C:6](=[O:...</td>\n",
       "      <td>[CH3:0][O:1][NH:2][CH3:3]</td>\n",
       "      <td>[cH:8]1[cH:9][cH:10][cH:11][cH:12][c:13]1[O:14...</td>\n",
       "      <td>2</td>\n",
       "      <td>8</td>\n",
       "      <td>[[1.0]]</td>\n",
       "      <td>[[1.0]]</td>\n",
       "      <td>0</td>\n",
       "    </tr>\n",
       "    <tr>\n",
       "      <th>119790</th>\n",
       "      <td>CON(C)C(=O)c1ccc(Cl)nc1</td>\n",
       "      <td>O=C(c1ccc(Cl)nc1)c1cccc(F)c1F</td>\n",
       "      <td>[CH3:0][O:1][N:2]([CH3:3])[C:4](=[O:5])[c:6]1[...</td>\n",
       "      <td>[O:0]=[C:1]([c:2]1[cH:3][cH:4][cH:5][n:6][cH:7...</td>\n",
       "      <td>[CH3:0][O:1][NH:2][CH3:3]</td>\n",
       "      <td>[cH:8]1[cH:9][cH:10][cH:11][c:12]([F:13])[c:14...</td>\n",
       "      <td>2</td>\n",
       "      <td>8</td>\n",
       "      <td>[[1.0]]</td>\n",
       "      <td>[[1.0]]</td>\n",
       "      <td>0</td>\n",
       "    </tr>\n",
       "    <tr>\n",
       "      <th>136108</th>\n",
       "      <td>CON(C)C(=O)c1ccc(Cl)nc1N</td>\n",
       "      <td>Nc1nc(Cl)ccc1C(=O)c1c(F)cccc1F</td>\n",
       "      <td>[CH3:0][O:1][N:2]([CH3:3])[C:4](=[O:5])[c:6]1[...</td>\n",
       "      <td>[cH:0]1[n:1][cH:2][cH:3][cH:4][c:5]1[C:6](=[O:...</td>\n",
       "      <td>[CH3:0][O:1][NH:2][CH3:3]</td>\n",
       "      <td>[cH:8]1[c:9]([F:10])[cH:11][cH:12][cH:13][c:14...</td>\n",
       "      <td>2</td>\n",
       "      <td>8</td>\n",
       "      <td>[[1.0]]</td>\n",
       "      <td>[[1.0]]</td>\n",
       "      <td>0</td>\n",
       "    </tr>\n",
       "    <tr>\n",
       "      <th>150906</th>\n",
       "      <td>CON(C)C(=O)c1cc(Br)cnc1N</td>\n",
       "      <td>Nc1ncc(Br)cc1C(=O)c1cccc(F)n1</td>\n",
       "      <td>[CH3:0][O:1][N:2]([CH3:3])[C:4](=[O:5])[c:6]1[...</td>\n",
       "      <td>[cH:0]1[n:1][cH:2][cH:3][cH:4][c:5]1[C:6](=[O:...</td>\n",
       "      <td>[CH3:0][O:1][NH:2][CH3:3]</td>\n",
       "      <td>[cH:8]1[cH:9][cH:10][cH:11][c:12]([F:13])[n:14]1</td>\n",
       "      <td>2</td>\n",
       "      <td>8</td>\n",
       "      <td>[[1.0]]</td>\n",
       "      <td>[[1.0]]</td>\n",
       "      <td>0</td>\n",
       "    </tr>\n",
       "    <tr>\n",
       "      <th>157810</th>\n",
       "      <td>CON(C)C(=O)c1ccc(C(F)(F)F)nc1Nc1ccccc1</td>\n",
       "      <td>CCC(=O)c1ccc(C(F)(F)F)nc1Nc1ccccc1</td>\n",
       "      <td>[CH3:0][O:1][N:2]([CH3:3])[C:4](=[O:5])[c:6]1[...</td>\n",
       "      <td>[CH3:0][CH2:1][C:2](=[O:3])[c:4]1[cH:5][cH:6][...</td>\n",
       "      <td>[CH3:0][O:1][NH:2][CH3:3]</td>\n",
       "      <td>[CH3:0][CH3:1]</td>\n",
       "      <td>2</td>\n",
       "      <td>1</td>\n",
       "      <td>[[1.0]]</td>\n",
       "      <td>[[1.0]]</td>\n",
       "      <td>0</td>\n",
       "    </tr>\n",
       "    <tr>\n",
       "      <th>172962</th>\n",
       "      <td>CON(C)C(=O)c1ccc(Cl)nc1</td>\n",
       "      <td>O=C(c1ccc(Cl)cc1)c1ccc(Cl)nc1</td>\n",
       "      <td>[CH3:0][O:1][N:2]([CH3:3])[C:4](=[O:5])[c:6]1[...</td>\n",
       "      <td>[O:0]=[C:1]([c:2]1[cH:3][cH:4][c:5]([Cl:6])[cH...</td>\n",
       "      <td>[CH3:0][O:1][NH:2][CH3:3]</td>\n",
       "      <td>[cH:2]1[cH:3][cH:4][c:5]([Cl:6])[cH:7][cH:8]1</td>\n",
       "      <td>2</td>\n",
       "      <td>2</td>\n",
       "      <td>[[1.0]]</td>\n",
       "      <td>[[1.0]]</td>\n",
       "      <td>0</td>\n",
       "    </tr>\n",
       "    <tr>\n",
       "      <th>180850</th>\n",
       "      <td>CON(C)C(=O)c1ccc(Cl)nc1</td>\n",
       "      <td>O=C(c1ccc(Cl)nc1)C1CC1</td>\n",
       "      <td>[CH3:0][O:1][N:2]([CH3:3])[C:4](=[O:5])[c:6]1[...</td>\n",
       "      <td>[O:0]=[C:1]([c:2]1[cH:3][cH:4][cH:5][n:6][cH:7...</td>\n",
       "      <td>[CH3:0][O:1][NH:2][CH3:3]</td>\n",
       "      <td>[CH2:8]1[CH2:9][CH2:10]1</td>\n",
       "      <td>2</td>\n",
       "      <td>8</td>\n",
       "      <td>[[1.0]]</td>\n",
       "      <td>[[1.0]]</td>\n",
       "      <td>0</td>\n",
       "    </tr>\n",
       "    <tr>\n",
       "      <th>220365</th>\n",
       "      <td>CON(C)C(=O)c1cc(Br)cnc1N</td>\n",
       "      <td>Nc1ncc(Br)cc1C(=O)c1ccccc1</td>\n",
       "      <td>[CH3:0][O:1][N:2]([CH3:3])[C:4](=[O:5])[c:6]1[...</td>\n",
       "      <td>[cH:0]1[n:1][cH:2][cH:3][cH:4][c:5]1[C:6](=[O:...</td>\n",
       "      <td>[CH3:0][O:1][NH:2][CH3:3]</td>\n",
       "      <td>[cH:8]1[cH:9][cH:10][cH:11][cH:12][cH:13]1</td>\n",
       "      <td>2</td>\n",
       "      <td>8</td>\n",
       "      <td>[[1.0]]</td>\n",
       "      <td>[[1.0]]</td>\n",
       "      <td>0</td>\n",
       "    </tr>\n",
       "    <tr>\n",
       "      <th>249400</th>\n",
       "      <td>CON(C)C(=O)c1ccc(Cl)nc1N</td>\n",
       "      <td>COc1ccc(F)cc1C(=O)c1ccc(Cl)nc1N</td>\n",
       "      <td>[CH3:0][O:1][N:2]([CH3:3])[C:4](=[O:5])[c:6]1[...</td>\n",
       "      <td>[CH3:0][O:1][c:2]1[cH:3][cH:4][c:5]([F:6])[cH:...</td>\n",
       "      <td>[CH3:0][O:1][NH:2][CH3:3]</td>\n",
       "      <td>[CH3:0][O:1][c:2]1[cH:3][cH:4][c:5]([F:6])[cH:...</td>\n",
       "      <td>2</td>\n",
       "      <td>8</td>\n",
       "      <td>[[1.0]]</td>\n",
       "      <td>[[1.0]]</td>\n",
       "      <td>0</td>\n",
       "    </tr>\n",
       "    <tr>\n",
       "      <th>279610</th>\n",
       "      <td>CON(C)C(=O)c1cc(Br)cnc1N</td>\n",
       "      <td>Nc1ncc(Br)cc1C(=O)c1ccc(F)nc1</td>\n",
       "      <td>[CH3:0][O:1][N:2]([CH3:3])[C:4](=[O:5])[c:6]1[...</td>\n",
       "      <td>[cH:0]1[n:1][cH:2][cH:3][cH:4][c:5]1[C:6](=[O:...</td>\n",
       "      <td>[CH3:0][O:1][NH:2][CH3:3]</td>\n",
       "      <td>[cH:8]1[cH:9][cH:10][c:11]([F:12])[n:13][cH:14]1</td>\n",
       "      <td>2</td>\n",
       "      <td>8</td>\n",
       "      <td>[[1.0]]</td>\n",
       "      <td>[[1.0]]</td>\n",
       "      <td>0</td>\n",
       "    </tr>\n",
       "    <tr>\n",
       "      <th>291112</th>\n",
       "      <td>CON(C)C(=O)c1cccnc1</td>\n",
       "      <td>CCCC(=O)c1cccnc1</td>\n",
       "      <td>[CH3:0][O:1][N:2]([CH3:3])[C:4](=[O:5])[c:6]1[...</td>\n",
       "      <td>[CH3:0][CH2:1][CH2:2][C:3](=[O:4])[c:5]1[cH:6]...</td>\n",
       "      <td>[CH3:0][O:1][NH:2][CH3:3]</td>\n",
       "      <td>[CH3:0][CH2:1][CH3:2]</td>\n",
       "      <td>2</td>\n",
       "      <td>2</td>\n",
       "      <td>[[1.0]]</td>\n",
       "      <td>[[1.0]]</td>\n",
       "      <td>0</td>\n",
       "    </tr>\n",
       "    <tr>\n",
       "      <th>300926</th>\n",
       "      <td>CON(C)C(=O)c1cccnc1F</td>\n",
       "      <td>O=C(c1cccnc1F)c1nc(Cl)ccc1C1CC1</td>\n",
       "      <td>[CH3:0][O:1][N:2]([CH3:3])[C:4](=[O:5])[c:6]1[...</td>\n",
       "      <td>[O:0]=[C:1]([c:2]1[cH:3][cH:4][cH:5][n:6][cH:7...</td>\n",
       "      <td>[CH3:0][O:1][NH:2][CH3:3]</td>\n",
       "      <td>[cH:8]1[n:9][c:10]([Cl:11])[cH:12][cH:13][c:14...</td>\n",
       "      <td>2</td>\n",
       "      <td>8</td>\n",
       "      <td>[[1.0]]</td>\n",
       "      <td>[[1.0]]</td>\n",
       "      <td>0</td>\n",
       "    </tr>\n",
       "    <tr>\n",
       "      <th>330287</th>\n",
       "      <td>CON(C)C(=O)c1ccc(Cl)nc1N</td>\n",
       "      <td>Nc1nc(Cl)ccc1C(=O)c1ccccc1F</td>\n",
       "      <td>[CH3:0][O:1][N:2]([CH3:3])[C:4](=[O:5])[c:6]1[...</td>\n",
       "      <td>[cH:0]1[n:1][cH:2][cH:3][cH:4][c:5]1[C:6](=[O:...</td>\n",
       "      <td>[CH3:0][O:1][NH:2][CH3:3]</td>\n",
       "      <td>[cH:8]1[cH:9][cH:10][cH:11][cH:12][c:13]1[F:14]</td>\n",
       "      <td>2</td>\n",
       "      <td>8</td>\n",
       "      <td>[[1.0]]</td>\n",
       "      <td>[[1.0]]</td>\n",
       "      <td>0</td>\n",
       "    </tr>\n",
       "    <tr>\n",
       "      <th>432717</th>\n",
       "      <td>CON(C)C(=O)c1ccc(Cl)nc1N</td>\n",
       "      <td>COc1ccc(C(=O)c2ccc(Cl)nc2N)cc1</td>\n",
       "      <td>[CH3:0][O:1][N:2]([CH3:3])[C:4](=[O:5])[c:6]1[...</td>\n",
       "      <td>[CH3:0][O:1][c:2]1[cH:3][cH:4][c:5]([C:6](=[O:...</td>\n",
       "      <td>[CH3:0][O:1][NH:2][CH3:3]</td>\n",
       "      <td>[CH3:0][O:1][c:2]1[cH:3][cH:4][cH:5][cH:14][cH...</td>\n",
       "      <td>2</td>\n",
       "      <td>5</td>\n",
       "      <td>[[1.0]]</td>\n",
       "      <td>[[1.0]]</td>\n",
       "      <td>0</td>\n",
       "    </tr>\n",
       "  </tbody>\n",
       "</table>\n",
       "</div>"
      ],
      "text/plain": [
       "                                     reactants  \\\n",
       "0                       CON(C)C(=O)c1ccc(O)nc1   \n",
       "8174           CCc1nc(C(F)(F)F)ccc1C(=O)N(C)OC   \n",
       "25624                 CON(C)C(=O)c1ccc(Cl)nc1N   \n",
       "27114                    CON(C)C(=O)c1cccnc1Cl   \n",
       "68734                  CON(C)C(=O)c1ccc(Cl)nc1   \n",
       "103109                CON(C)C(=O)c1cc(Br)cnc1N   \n",
       "119790                 CON(C)C(=O)c1ccc(Cl)nc1   \n",
       "136108                CON(C)C(=O)c1ccc(Cl)nc1N   \n",
       "150906                CON(C)C(=O)c1cc(Br)cnc1N   \n",
       "157810  CON(C)C(=O)c1ccc(C(F)(F)F)nc1Nc1ccccc1   \n",
       "172962                 CON(C)C(=O)c1ccc(Cl)nc1   \n",
       "180850                 CON(C)C(=O)c1ccc(Cl)nc1   \n",
       "220365                CON(C)C(=O)c1cc(Br)cnc1N   \n",
       "249400                CON(C)C(=O)c1ccc(Cl)nc1N   \n",
       "279610                CON(C)C(=O)c1cc(Br)cnc1N   \n",
       "291112                     CON(C)C(=O)c1cccnc1   \n",
       "300926                    CON(C)C(=O)c1cccnc1F   \n",
       "330287                CON(C)C(=O)c1ccc(Cl)nc1N   \n",
       "432717                CON(C)C(=O)c1ccc(Cl)nc1N   \n",
       "\n",
       "                                   products  \\\n",
       "0                    CC(C)CC(=O)c1ccc(O)nc1   \n",
       "8174                CCc1nc(C(F)(F)F)ccc1C=O   \n",
       "25624    COc1cc(C)c(F)cc1C(=O)c1ccc(Cl)nc1N   \n",
       "27114                      CC(=O)c1cccnc1Cl   \n",
       "68734           COc1ccccc1C(=O)c1ccc(Cl)nc1   \n",
       "103109  Nc1ncc(Br)cc1C(=O)c1ccccc1OC(F)(F)F   \n",
       "119790        O=C(c1ccc(Cl)nc1)c1cccc(F)c1F   \n",
       "136108       Nc1nc(Cl)ccc1C(=O)c1c(F)cccc1F   \n",
       "150906        Nc1ncc(Br)cc1C(=O)c1cccc(F)n1   \n",
       "157810   CCC(=O)c1ccc(C(F)(F)F)nc1Nc1ccccc1   \n",
       "172962        O=C(c1ccc(Cl)cc1)c1ccc(Cl)nc1   \n",
       "180850               O=C(c1ccc(Cl)nc1)C1CC1   \n",
       "220365           Nc1ncc(Br)cc1C(=O)c1ccccc1   \n",
       "249400      COc1ccc(F)cc1C(=O)c1ccc(Cl)nc1N   \n",
       "279610        Nc1ncc(Br)cc1C(=O)c1ccc(F)nc1   \n",
       "291112                     CCCC(=O)c1cccnc1   \n",
       "300926      O=C(c1cccnc1F)c1nc(Cl)ccc1C1CC1   \n",
       "330287          Nc1nc(Cl)ccc1C(=O)c1ccccc1F   \n",
       "432717       COc1ccc(C(=O)c2ccc(Cl)nc2N)cc1   \n",
       "\n",
       "                                                     rsig  \\\n",
       "0       [CH3:0][O:1][N:2]([CH3:3])[C:4](=[O:5])[c:6]1[...   \n",
       "8174    [cH:0]1[n:1][cH:2][cH:3][cH:4][c:5]1[C:6](=[O:...   \n",
       "25624   [CH3:0][O:1][N:2]([CH3:3])[C:4](=[O:5])[c:6]1[...   \n",
       "27114   [CH3:0][O:1][N:2]([CH3:3])[C:4](=[O:5])[c:6]1[...   \n",
       "68734   [CH3:0][O:1][N:2]([CH3:3])[C:4](=[O:5])[c:6]1[...   \n",
       "103109  [CH3:0][O:1][N:2]([CH3:3])[C:4](=[O:5])[c:6]1[...   \n",
       "119790  [CH3:0][O:1][N:2]([CH3:3])[C:4](=[O:5])[c:6]1[...   \n",
       "136108  [CH3:0][O:1][N:2]([CH3:3])[C:4](=[O:5])[c:6]1[...   \n",
       "150906  [CH3:0][O:1][N:2]([CH3:3])[C:4](=[O:5])[c:6]1[...   \n",
       "157810  [CH3:0][O:1][N:2]([CH3:3])[C:4](=[O:5])[c:6]1[...   \n",
       "172962  [CH3:0][O:1][N:2]([CH3:3])[C:4](=[O:5])[c:6]1[...   \n",
       "180850  [CH3:0][O:1][N:2]([CH3:3])[C:4](=[O:5])[c:6]1[...   \n",
       "220365  [CH3:0][O:1][N:2]([CH3:3])[C:4](=[O:5])[c:6]1[...   \n",
       "249400  [CH3:0][O:1][N:2]([CH3:3])[C:4](=[O:5])[c:6]1[...   \n",
       "279610  [CH3:0][O:1][N:2]([CH3:3])[C:4](=[O:5])[c:6]1[...   \n",
       "291112  [CH3:0][O:1][N:2]([CH3:3])[C:4](=[O:5])[c:6]1[...   \n",
       "300926  [CH3:0][O:1][N:2]([CH3:3])[C:4](=[O:5])[c:6]1[...   \n",
       "330287  [CH3:0][O:1][N:2]([CH3:3])[C:4](=[O:5])[c:6]1[...   \n",
       "432717  [CH3:0][O:1][N:2]([CH3:3])[C:4](=[O:5])[c:6]1[...   \n",
       "\n",
       "                                                     psig  \\\n",
       "0       [CH3:0][CH:1]([CH3:2])[CH2:3][C:4](=[O:5])[c:6...   \n",
       "8174                                                [H:0]   \n",
       "25624   [CH3:0][O:1][c:2]1[cH:3][c:4]([CH3:5])[c:6]([F...   \n",
       "27114   [CH3:0][C:1](=[O:2])[c:3]1[cH:4][cH:5][cH:6][n...   \n",
       "68734   [CH3:0][O:1][c:2]1[cH:3][cH:4][cH:5][cH:6][c:7...   \n",
       "103109  [cH:0]1[n:1][cH:2][cH:3][cH:4][c:5]1[C:6](=[O:...   \n",
       "119790  [O:0]=[C:1]([c:2]1[cH:3][cH:4][cH:5][n:6][cH:7...   \n",
       "136108  [cH:0]1[n:1][cH:2][cH:3][cH:4][c:5]1[C:6](=[O:...   \n",
       "150906  [cH:0]1[n:1][cH:2][cH:3][cH:4][c:5]1[C:6](=[O:...   \n",
       "157810  [CH3:0][CH2:1][C:2](=[O:3])[c:4]1[cH:5][cH:6][...   \n",
       "172962  [O:0]=[C:1]([c:2]1[cH:3][cH:4][c:5]([Cl:6])[cH...   \n",
       "180850  [O:0]=[C:1]([c:2]1[cH:3][cH:4][cH:5][n:6][cH:7...   \n",
       "220365  [cH:0]1[n:1][cH:2][cH:3][cH:4][c:5]1[C:6](=[O:...   \n",
       "249400  [CH3:0][O:1][c:2]1[cH:3][cH:4][c:5]([F:6])[cH:...   \n",
       "279610  [cH:0]1[n:1][cH:2][cH:3][cH:4][c:5]1[C:6](=[O:...   \n",
       "291112  [CH3:0][CH2:1][CH2:2][C:3](=[O:4])[c:5]1[cH:6]...   \n",
       "300926  [O:0]=[C:1]([c:2]1[cH:3][cH:4][cH:5][n:6][cH:7...   \n",
       "330287  [cH:0]1[n:1][cH:2][cH:3][cH:4][c:5]1[C:6](=[O:...   \n",
       "432717  [CH3:0][O:1][c:2]1[cH:3][cH:4][c:5]([C:6](=[O:...   \n",
       "\n",
       "                                 rsub  \\\n",
       "0           [CH3:0][O:1][NH:2][CH3:3]   \n",
       "8174    [NH:8]([CH3:9])[O:10][CH3:11]   \n",
       "25624       [CH3:0][O:1][NH:2][CH3:3]   \n",
       "27114       [CH3:0][O:1][NH:2][CH3:3]   \n",
       "68734       [CH3:0][O:1][NH:2][CH3:3]   \n",
       "103109      [CH3:0][O:1][NH:2][CH3:3]   \n",
       "119790      [CH3:0][O:1][NH:2][CH3:3]   \n",
       "136108      [CH3:0][O:1][NH:2][CH3:3]   \n",
       "150906      [CH3:0][O:1][NH:2][CH3:3]   \n",
       "157810      [CH3:0][O:1][NH:2][CH3:3]   \n",
       "172962      [CH3:0][O:1][NH:2][CH3:3]   \n",
       "180850      [CH3:0][O:1][NH:2][CH3:3]   \n",
       "220365      [CH3:0][O:1][NH:2][CH3:3]   \n",
       "249400      [CH3:0][O:1][NH:2][CH3:3]   \n",
       "279610      [CH3:0][O:1][NH:2][CH3:3]   \n",
       "291112      [CH3:0][O:1][NH:2][CH3:3]   \n",
       "300926      [CH3:0][O:1][NH:2][CH3:3]   \n",
       "330287      [CH3:0][O:1][NH:2][CH3:3]   \n",
       "432717      [CH3:0][O:1][NH:2][CH3:3]   \n",
       "\n",
       "                                                     psub  rcen  pcen  \\\n",
       "0                           [CH3:0][CH:1]([CH3:2])[CH3:3]     2     3   \n",
       "8174                                                [H:0]     8     0   \n",
       "25624   [CH3:0][O:1][c:2]1[cH:3][c:4]([CH3:5])[c:6]([F...     2     9   \n",
       "27114                                             [CH4:0]     2     0   \n",
       "68734   [CH3:0][O:1][c:2]1[cH:3][cH:4][cH:5][cH:6][cH:7]1     2     7   \n",
       "103109  [cH:8]1[cH:9][cH:10][cH:11][cH:12][c:13]1[O:14...     2     8   \n",
       "119790  [cH:8]1[cH:9][cH:10][cH:11][c:12]([F:13])[c:14...     2     8   \n",
       "136108  [cH:8]1[c:9]([F:10])[cH:11][cH:12][cH:13][c:14...     2     8   \n",
       "150906   [cH:8]1[cH:9][cH:10][cH:11][c:12]([F:13])[n:14]1     2     8   \n",
       "157810                                     [CH3:0][CH3:1]     2     1   \n",
       "172962      [cH:2]1[cH:3][cH:4][c:5]([Cl:6])[cH:7][cH:8]1     2     2   \n",
       "180850                           [CH2:8]1[CH2:9][CH2:10]1     2     8   \n",
       "220365         [cH:8]1[cH:9][cH:10][cH:11][cH:12][cH:13]1     2     8   \n",
       "249400  [CH3:0][O:1][c:2]1[cH:3][cH:4][c:5]([F:6])[cH:...     2     8   \n",
       "279610   [cH:8]1[cH:9][cH:10][c:11]([F:12])[n:13][cH:14]1     2     8   \n",
       "291112                              [CH3:0][CH2:1][CH3:2]     2     2   \n",
       "300926  [cH:8]1[n:9][c:10]([Cl:11])[cH:12][cH:13][c:14...     2     8   \n",
       "330287    [cH:8]1[cH:9][cH:10][cH:11][cH:12][c:13]1[F:14]     2     8   \n",
       "432717  [CH3:0][O:1][c:2]1[cH:3][cH:4][cH:5][cH:14][cH...     2     5   \n",
       "\n",
       "          rbond    pbond  rsig_clusters  \n",
       "0       [[1.0]]  [[1.0]]              0  \n",
       "8174    [[1.0]]       []              0  \n",
       "25624   [[1.0]]  [[1.0]]              0  \n",
       "27114   [[1.0]]  [[1.0]]              0  \n",
       "68734   [[1.0]]  [[1.0]]              0  \n",
       "103109  [[1.0]]  [[1.0]]              0  \n",
       "119790  [[1.0]]  [[1.0]]              0  \n",
       "136108  [[1.0]]  [[1.0]]              0  \n",
       "150906  [[1.0]]  [[1.0]]              0  \n",
       "157810  [[1.0]]  [[1.0]]              0  \n",
       "172962  [[1.0]]  [[1.0]]              0  \n",
       "180850  [[1.0]]  [[1.0]]              0  \n",
       "220365  [[1.0]]  [[1.0]]              0  \n",
       "249400  [[1.0]]  [[1.0]]              0  \n",
       "279610  [[1.0]]  [[1.0]]              0  \n",
       "291112  [[1.0]]  [[1.0]]              0  \n",
       "300926  [[1.0]]  [[1.0]]              0  \n",
       "330287  [[1.0]]  [[1.0]]              0  \n",
       "432717  [[1.0]]  [[1.0]]              0  "
      ]
     },
     "metadata": {},
     "output_type": "display_data"
    },
    {
     "name": "stdout",
     "output_type": "stream",
     "text": [
      "[CH3:0][O:1][N:2]([CH3:3])[C:4](=[O:5])[c:6]1[cH:7][cH:8][cH:9][n:10][cH:11]1\n"
     ]
    },
    {
     "data": {
      "image/png": "[encoded data removed]",
      "text/plain": [
       "<rdkit.Chem.rdchem.Mol at 0x7f1d7e48f3a0>"
      ]
     },
     "metadata": {},
     "output_type": "display_data"
    },
    {
     "data": {
      "text/html": [
       "<div>\n",
       "<style scoped>\n",
       "    .dataframe tbody tr th:only-of-type {\n",
       "        vertical-align: middle;\n",
       "    }\n",
       "\n",
       "    .dataframe tbody tr th {\n",
       "        vertical-align: top;\n",
       "    }\n",
       "\n",
       "    .dataframe thead th {\n",
       "        text-align: right;\n",
       "    }\n",
       "</style>\n",
       "<table border=\"1\" class=\"dataframe\">\n",
       "  <thead>\n",
       "    <tr style=\"text-align: right;\">\n",
       "      <th></th>\n",
       "      <th>reactants</th>\n",
       "      <th>products</th>\n",
       "      <th>rsig</th>\n",
       "      <th>psig</th>\n",
       "      <th>rsub</th>\n",
       "      <th>psub</th>\n",
       "      <th>rcen</th>\n",
       "      <th>pcen</th>\n",
       "      <th>rbond</th>\n",
       "      <th>pbond</th>\n",
       "      <th>rsig_clusters</th>\n",
       "    </tr>\n",
       "  </thead>\n",
       "  <tbody>\n",
       "    <tr>\n",
       "      <th>79413</th>\n",
       "      <td>CON(C)C(=O)c1ccc(N2CCN(C(=O)OC(C)(C)C)CC2)nc1</td>\n",
       "      <td>CC(O)c1ccc(N2CCN(C(=O)OC(C)(C)C)CC2)nc1</td>\n",
       "      <td>[CH3:0][O:1][N:2]([CH3:3])[C:4](=[O:5])[c:6]1[...</td>\n",
       "      <td>[CH3:0][CH:1]([OH:2])[c:3]1[cH:4][cH:5][cH:6][...</td>\n",
       "      <td>[CH3:0][O:1][N:2]([CH3:3])[CH:4]=[O:5]</td>\n",
       "      <td>[CH3:0][CH2:1][OH:2]</td>\n",
       "      <td>4</td>\n",
       "      <td>1</td>\n",
       "      <td>[[1.0]]</td>\n",
       "      <td>[[1.0]]</td>\n",
       "      <td>69927</td>\n",
       "    </tr>\n",
       "  </tbody>\n",
       "</table>\n",
       "</div>"
      ],
      "text/plain": [
       "                                           reactants  \\\n",
       "79413  CON(C)C(=O)c1ccc(N2CCN(C(=O)OC(C)(C)C)CC2)nc1   \n",
       "\n",
       "                                      products  \\\n",
       "79413  CC(O)c1ccc(N2CCN(C(=O)OC(C)(C)C)CC2)nc1   \n",
       "\n",
       "                                                    rsig  \\\n",
       "79413  [CH3:0][O:1][N:2]([CH3:3])[C:4](=[O:5])[c:6]1[...   \n",
       "\n",
       "                                                    psig  \\\n",
       "79413  [CH3:0][CH:1]([OH:2])[c:3]1[cH:4][cH:5][cH:6][...   \n",
       "\n",
       "                                         rsub                  psub  rcen  \\\n",
       "79413  [CH3:0][O:1][N:2]([CH3:3])[CH:4]=[O:5]  [CH3:0][CH2:1][OH:2]     4   \n",
       "\n",
       "       pcen    rbond    pbond  rsig_clusters  \n",
       "79413     1  [[1.0]]  [[1.0]]          69927  "
      ]
     },
     "metadata": {},
     "output_type": "display_data"
    },
    {
     "name": "stdout",
     "output_type": "stream",
     "text": [
      "[CH3:0][O:1][N:2]([CH3:3])[C:4](=[O:5])[c:6]1[cH:7][cH:8][cH:9][n:10][cH:11]1\n"
     ]
    },
    {
     "data": {
      "image/png": "[encoded data removed]",
      "text/plain": [
       "<rdkit.Chem.rdchem.Mol at 0x7f1d81577ee0>"
      ]
     },
     "metadata": {},
     "output_type": "display_data"
    }
   ],
   "source": [
    "for key in certificate_to_cluster_id_dict:\n",
    "    clusters = certificate_to_cluster_id_dict[key]\n",
    "    print(len(clusters))\n",
    "    print(clusters)\n",
    "    \n",
    "    for c in clusters[:10]:\n",
    "        temp_df = dataset[dataset[\"rsig_clusters\"] == c]\n",
    "        display(temp_df)\n",
    "        for i in range(temp_df.shape[0]):\n",
    "#             print(\"Mol\")\n",
    "#             display(Chem.MolFromSmiles(temp_df.iloc[i][\"reactants\"]))\n",
    "#             print(\"rsub\")\n",
    "#             display(Chem.MolFromSmiles(temp_df.iloc[i][\"rsub\"]))\n",
    "#             print(\"sigs\")\n",
    "            print(temp_df.iloc[i][\"rsig\"])\n",
    "            display(Chem.MolFromSmiles(temp_df.iloc[i][\"rsig\"]))\n",
    "#             display(Chem.MolFromSmiles(temp_df.iloc[i][\"psig\"]))\n",
    "#             print()\n",
    "#             print()\n",
    "#             print()\n",
    "            break\n",
    "#         break\n",
    "    break"
   ]
  },
  {
   "cell_type": "code",
   "execution_count": 11,
   "metadata": {
    "scrolled": false
   },
   "outputs": [
    {
     "data": {
      "image/png": "[encoded data removed]",
      "text/plain": [
       "<rdkit.Chem.rdchem.Mol at 0x7f1dd47eaa80>"
      ]
     },
     "metadata": {},
     "output_type": "display_data"
    }
   ],
   "source": [
    "for key in list(certificate_to_cluster_id_dict.keys())[10:]:\n",
    "    for i in certificate_to_cluster_id_dict[key]:\n",
    "        display(Chem.MolFromSmiles(dataset[dataset[\"rsig_clusters\"]==i].iloc[0][\"rsub\"]))\n",
    "    break"
   ]
  },
  {
   "cell_type": "markdown",
   "metadata": {},
   "source": [
    "# Action searching"
   ]
  },
  {
   "cell_type": "markdown",
   "metadata": {},
   "source": [
    "The action searching algorithm has following steps:  \n",
    "1. Find cut vertices\n",
    "2. For each connected component + cut vertex, do index search on rsub\n",
    "3. If MatchFound(), do substructure match on rsig"
   ]
  },
  {
   "cell_type": "code",
   "execution_count": 12,
   "metadata": {},
   "outputs": [],
   "source": [
    "def mol_with_atom_index( mol ):\n",
    "    mol = Chem.Mol(mol)\n",
    "    atoms = mol.GetNumAtoms()\n",
    "    for idx in range( atoms ):\n",
    "        mol.GetAtomWithIdx( idx ).SetProp( 'molAtomMapNumber', str( mol.GetAtomWithIdx( idx ).GetIdx() ) )\n",
    "    return mol"
   ]
  },
  {
   "cell_type": "code",
   "execution_count": 42,
   "metadata": {},
   "outputs": [
    {
     "data": {
      "image/png": "[encoded data removed]",
      "text/plain": [
       "<rdkit.Chem.rdchem.Mol at 0x7f1d7a41f8b0>"
      ]
     },
     "metadata": {},
     "output_type": "display_data"
    },
    {
     "data": {
      "text/plain": [
       "array([ 0,  1,  2,  3,  4,  5,  6,  7,  8,  9, 14])"
      ]
     },
     "execution_count": 42,
     "metadata": {},
     "output_type": "execute_result"
    }
   ],
   "source": [
    "def add_immediate_neighbors(mol, indices):\n",
    "    def _add_neighbors(idx_list):\n",
    "        atoms = list(map(lambda x: mol.GetAtomWithIdx(int(x)), idx_list))\n",
    "        neighbors = []\n",
    "        for atom in atoms:\n",
    "            neighbors.extend(list(map(lambda x: x.GetIdx(), atom.GetNeighbors())))\n",
    "        return np.unique(neighbors).tolist()\n",
    "    \n",
    "    # first add immediate neighbors\n",
    "    indices = _add_neighbors(indices)\n",
    "    \n",
    "    # if any aromtic atoms in neighbors, add them as well\n",
    "    repeat = True\n",
    "    while repeat:\n",
    "        repeat = False\n",
    "        for n in set(_add_neighbors(indices)) - set(indices):\n",
    "            if n not in indices and mol.GetAtomWithIdx(int(n)).GetIsAromatic():\n",
    "                indices.append(n)\n",
    "                repeat = True\n",
    "    \n",
    "    return np.unique(indices)\n",
    "    \n",
    "mol = Chem.MolFromSmiles(\"CNC(=O)Cc1cccc(N(CC)O)c1\")\n",
    "display(mol_with_atom_index(mol))\n",
    "add_immediate_neighbors(mol, [0, 1, 2, 3, 4])"
   ]
  },
  {
   "cell_type": "code",
   "execution_count": null,
   "metadata": {},
   "outputs": [],
   "source": [
    "def verify_action_applicability(mol, cluster_id):\n",
    "    rsig = Chem.MolFromSmiles(dataset[dataset[\"rsig_clusters\"]==cluster_id].iloc[0][\"rsig\"])\n",
    "    rcen = dataset[dataset[\"rsig_clusters\"]==cluster_id].iloc[0][\"rcen\"]\n",
    "    rbond = dataset[dataset[\"rsig_clusters\"]==cluster_id].iloc[0][\"rbond\"]\n",
    "    \n",
    "    # Check if the cluster rsig is in mol\n",
    "    if not mol.HasSubstructMatch(rsig):\n",
    "        return False\n",
    "    \n",
    "    # Check if the rcen matches\n",
    "    match = mol.GetSubstructMatch(rsig)\n",
    "    \n",
    "    cand_rcen = match[rcen]\n",
    "    cand_atom = mol.GetAtomWithIdx(cand_rcen)\n",
    "    neighbors = list(map(lambda x: x.GetIdx(), cand_atom.GetNeighbors()))\n",
    "    if not set(neighbors) - set(match):\n",
    "        return False\n",
    "\n",
    "    return True\n",
    "    \n",
    "def get_mol_from_index_list(mol, indices):\n",
    "    rw = Chem.RWMol(mol)\n",
    "    rw.BeginBatchEdit()\n",
    "    for idx in set(list(range(mol.GetNumAtoms()))) - set(indices):\n",
    "        rw.RemoveAtom(idx)\n",
    "    rw.CommitBatchEdit()\n",
    "    return Chem.Mol(rw)\n",
    "    "
   ]
  },
  {
   "cell_type": "markdown",
   "metadata": {},
   "source": [
    "### For a new molecule, let's find all possible actions applicable"
   ]
  },
  {
   "cell_type": "code",
   "execution_count": 522,
   "metadata": {
    "scrolled": false
   },
   "outputs": [
    {
     "name": "stdout",
     "output_type": "stream",
     "text": [
      "In mol\n"
     ]
    },
    {
     "data": {
      "image/png": "[encoded data removed]",
      "text/plain": [
       "<rdkit.Chem.rdchem.Mol at 0x7f1d844dbeb0>"
      ]
     },
     "metadata": {},
     "output_type": "display_data"
    },
    {
     "name": "stdout",
     "output_type": "stream",
     "text": [
      "[]\n",
      "Mol modification 14647.710347890854 146 100.32678320473188\n",
      "Mol extraction 0.0014767646789550781 20 7.38382339477539e-05\n",
      "Certi create 0.007189750671386719 20 0.0003594875335693359\n",
      "Action verification 0.12292194366455078 37 0.0033222146936365076\n",
      "CPU times: user 52.6 ms, sys: 0 ns, total: 52.6 ms\n",
      "Wall time: 50.7 ms\n"
     ]
    }
   ],
   "source": [
    "%%time\n",
    "\n",
    "# Get input mol\n",
    "print(\"In mol\")\n",
    "in_mol = Chem.MolFromSmiles(dataset.iloc[i][\"reactants\"])\n",
    "display(mol_with_atom_index(in_mol))\n",
    "\n",
    "# For each cut vertex, we find two disconnected components and search the smaller one in our index\n",
    "G = nx.from_numpy_matrix(Chem.GetAdjacencyMatrix(in_mol))\n",
    "applicable_actions = []\n",
    "\n",
    "for x in nx.articulation_points(G):\n",
    "    # Remove atom (not directly, otherwise the index resets)\n",
    "    # First remove bonds to x\n",
    "    mw = Chem.RWMol(in_mol)\n",
    "    Chem.Kekulize(mw, clearAromaticFlags=True)\n",
    "    for n in mw.GetAtomWithIdx(x).GetNeighbors():\n",
    "        mw.RemoveBond(x, n.GetIdx())\n",
    "\n",
    "    # Find fragments\n",
    "    mol_frags = list(Chem.rdmolops.GetMolFrags(mw))\n",
    "\n",
    "    # Remove x from fragments\n",
    "    mol_frags.remove((x,))\n",
    "    times_mol_modification+=1\n",
    "    time_for_mol_modification+= (time.time()-t)\n",
    "\n",
    "    # For each fragment, add x and extract sub-molecule and search\n",
    "    for frag in mol_frags:\n",
    "        indices = [x] + list(frag)\n",
    "\n",
    "        for _ in range(2):\n",
    "            # we add neighbors twice to rsub and then search for rsig\n",
    "            indices = add_immediate_neighbors(in_mol, indices)\n",
    "\n",
    "            candidate = get_mol_from_index_list(in_mol, indices)\n",
    "\n",
    "            # get certificate and search in rsig\n",
    "            cand_certi = get_mol_certificate(candidate)\n",
    "\n",
    "            if cand_certi in certificate_to_cluster_id_dict:\n",
    "                # Verify rsig\n",
    "                for cluster_id in certificate_to_cluster_id_dict[cand_certi]:\n",
    "#                     print(\"Verification...\", cluster_id)\n",
    "                    if verify_action_applicability(in_mol, cluster_id):\n",
    "                        display(candidate)\n",
    "                        applicable_actions.append(cluster_id)\n",
    "                \n",
    "applicable_actions = np.unique(applicable_actions)\n",
    "print(applicable_actions)\n",
    "print(\"Mol modification\", time_for_mol_modification, times_mol_modification, time_for_mol_modification/times_mol_modification)\n",
    "print(\"Mol extraction\", time_for_mol_extraction, times_mol_extraction, time_for_mol_extraction/times_mol_extraction)\n",
    "print(\"Certi create\", time_for_certi_create, times_certi_create, time_for_certi_create/times_certi_create)\n",
    "print(\"Action verification\", time_for_action_verification, times_action_verification, time_for_action_verification/times_action_verification)\n",
    "\n",
    "\n",
    "# i += 1"
   ]
  },
  {
   "cell_type": "code",
   "execution_count": 523,
   "metadata": {},
   "outputs": [],
   "source": [
    "# TODO: WHY IS THIS MOLECULE WITHOUT AN ACTION!?\n",
    "# I'M PROBABLY NOT GETTING ALL APPLICABLE ACTIONS FOR SOME REASON"
   ]
  },
  {
   "cell_type": "code",
   "execution_count": 363,
   "metadata": {},
   "outputs": [],
   "source": [
    "i+=1"
   ]
  },
  {
   "cell_type": "code",
   "execution_count": 336,
   "metadata": {},
   "outputs": [],
   "source": [
    "i=2"
   ]
  },
  {
   "cell_type": "code",
   "execution_count": 521,
   "metadata": {},
   "outputs": [
    {
     "data": {
      "text/plain": [
       "34"
      ]
     },
     "execution_count": 521,
     "metadata": {},
     "output_type": "execute_result"
    }
   ],
   "source": [
    "i"
   ]
  },
  {
   "cell_type": "code",
   "execution_count": 520,
   "metadata": {},
   "outputs": [],
   "source": [
    "i-=1"
   ]
  },
  {
   "cell_type": "code",
   "execution_count": 331,
   "metadata": {},
   "outputs": [
    {
     "name": "stdout",
     "output_type": "stream",
     "text": [
      "Input molecule\n"
     ]
    },
    {
     "data": {
      "image/png": "[encoded data removed]",
      "text/plain": [
       "<rdkit.Chem.rdchem.Mol at 0x7f5411384e40>"
      ]
     },
     "metadata": {},
     "output_type": "display_data"
    },
    {
     "name": "stdout",
     "output_type": "stream",
     "text": [
      "Random rsig chosen (rcen = 0)\n"
     ]
    },
    {
     "data": {
      "image/png": "[encoded data removed]",
      "text/plain": [
       "<rdkit.Chem.rdchem.Mol at 0x7f54112e7f30>"
      ]
     },
     "metadata": {},
     "output_type": "display_data"
    },
    {
     "name": "stdout",
     "output_type": "stream",
     "text": [
      "Random psig chosen (pcen = 0)\n"
     ]
    },
    {
     "data": {
      "image/png": "[encoded data removed]",
      "text/plain": [
       "<rdkit.Chem.rdchem.Mol at 0x7f54112e7da0>"
      ]
     },
     "metadata": {},
     "output_type": "display_data"
    }
   ],
   "source": [
    "# Pick a random action from all the possible ones\n",
    "temp_df = dataset[dataset[\"rsig_clusters\"].isin(applicable_actions)]\n",
    "random_action = temp_df.iloc[int(np.random.random()*temp_df.shape[0])]\n",
    "\n",
    "print(\"Input molecule\")\n",
    "display(in_mol)\n",
    "print(f\"Random rsig chosen (rcen = {random_action['rcen']})\")\n",
    "display(Chem.MolFromSmiles(random_action[\"rsig\"]))\n",
    "print(f\"Random psig chosen (pcen = {random_action['pcen']})\")\n",
    "display(Chem.MolFromSmiles(random_action[\"psig\"]))"
   ]
  },
  {
   "cell_type": "code",
   "execution_count": 341,
   "metadata": {},
   "outputs": [
    {
     "name": "stdout",
     "output_type": "stream",
     "text": [
      "[<rdkit.Chem.rdchem.Atom object at 0x7f54150502b0>]\n",
      "Input molecule with canditate matches\n"
     ]
    },
    {
     "data": {
      "image/png": "[encoded data removed]",
      "text/plain": [
       "<rdkit.Chem.rdchem.Mol at 0x7f5414f2b070>"
      ]
     },
     "metadata": {},
     "output_type": "display_data"
    },
    {
     "name": "stdout",
     "output_type": "stream",
     "text": [
      "Input molecule without rsig\n"
     ]
    },
    {
     "data": {
      "image/png": "[encoded data removed]",
      "text/plain": [
       "<rdkit.Chem.rdchem.Mol at 0x7f541285e7f0>"
      ]
     },
     "metadata": {},
     "output_type": "display_data"
    },
    {
     "name": "stdout",
     "output_type": "stream",
     "text": [
      "Input molecule with psig\n"
     ]
    },
    {
     "data": {
      "image/png": "[encoded data removed]",
      "text/plain": [
       "<rdkit.Chem.rdchem.Mol at 0x7f5414f1efb0>"
      ]
     },
     "metadata": {},
     "output_type": "display_data"
    },
    {
     "data": {
      "image/png": "[encoded data removed]",
      "text/plain": [
       "<rdkit.Chem.rdchem.Mol at 0x7f54113081b0>"
      ]
     },
     "execution_count": 341,
     "metadata": {},
     "output_type": "execute_result"
    }
   ],
   "source": [
    "def mol_with_atom_index( mol ):\n",
    "    '''\n",
    "    draw molecule with index\n",
    "    '''\n",
    "    colored = False\n",
    "    if hasattr(mol, \"__sssAtoms\"):\n",
    "        sss = mol.__sssAtoms\n",
    "        colored = True\n",
    "    mol = Chem.Mol(mol)\n",
    "    atoms = mol.GetNumAtoms()\n",
    "    for idx in range( atoms ):\n",
    "        mol.GetAtomWithIdx( idx ).SetProp( 'molAtomMapNumber', str( mol.GetAtomWithIdx( idx ).GetIdx() ) )\n",
    "    if colored:\n",
    "        mol.__sssAtoms = sss\n",
    "    return mol\n",
    "\n",
    "def smiles_without_atom_index( smiles ):\n",
    "    '''\n",
    "    Convert smiles with numbers to smiles without numbers\n",
    "    '''\n",
    "    mol = Chem.MolFromSmiles(smiles)\n",
    "    atoms = mol.GetNumAtoms()\n",
    "    for idx in range( atoms ):\n",
    "        mol.GetAtomWithIdx( idx ).ClearProp( 'molAtomMapNumber' )\n",
    "    return Chem.MolToSmiles(mol)\n",
    "\n",
    "def replace_signature(input_mol, rsig, rcen, rbond, psig, pcen, pbond):\n",
    "    input_mol = Chem.Mol(input_mol)\n",
    "    matches = input_mol.GetSubstructMatches(Chem.MolFromSmiles(rsig))\n",
    "    # FIXME: Provide option to use more than just the first match\n",
    "    match = matches[0]\n",
    "\n",
    "    # Find the connecting atom idx\n",
    "    connecting_atoms = []\n",
    "    for atm_idx in match:\n",
    "        atom = input_mol.GetAtomWithIdx(atm_idx)\n",
    "        neighbors = atom.GetNeighbors()\n",
    "        neighbors_indices = list(map(lambda x: x.GetIdx(), neighbors))\n",
    "        connecting_atoms.extend(list(map(lambda x: input_mol.GetAtomWithIdx(x), set(neighbors_indices) - set(match))))\n",
    "    print(connecting_atoms)\n",
    "    pcen_atom = input_mol.GetAtomWithIdx(int(pcen))\n",
    "        \n",
    "    print(\"Input molecule with canditate matches\")\n",
    "    display(mol_with_atom_index(input_mol))\n",
    "    rwmol = Chem.RWMol(input_mol)\n",
    "    for idx in match:\n",
    "        rwmol.RemoveAtom(idx)\n",
    "    print(\"Input molecule without rsig\")\n",
    "    display(mol_with_atom_index(rwmol))\n",
    "\n",
    "    original_num_atoms = rwmol.GetNumAtoms()\n",
    "    rwmol.InsertMol(Chem.MolFromSmiles(smiles_without_atom_index(psig)))\n",
    "#     display(mol_with_atom_index(rwmol))\n",
    "    \n",
    "    for c_atom in connecting_atoms:\n",
    "#         print(c_atom.GetIdx(), pcen_atom.GetIdx()+original_num_atoms)\n",
    "        rwmol.AddBond(c_atom.GetIdx(), pcen_atom.GetIdx()+original_num_atoms, Chem.BondType.SINGLE)\n",
    "    \n",
    "    output_mol = Chem.Mol(rwmol)\n",
    "    \n",
    "    temp_mol = Chem.Mol(output_mol)\n",
    "    temp_mol.GetSubstructMatch(Chem.MolFromSmiles(psig))\n",
    "    print(\"Input molecule with psig\")\n",
    "    display(mol_with_atom_index(temp_mol))\n",
    "    \n",
    "#     display(Chem.MolFromSmiles(psig))\n",
    "#     print(pcen)\n",
    "    \n",
    "    return output_mol\n",
    "    \n",
    "replace_signature(in_mol, random_action[\"rsig\"], random_action[\"rcen\"], [], random_action[\"psig\"], random_action[\"pcen\"], [])"
   ]
  },
  {
   "cell_type": "code",
   "execution_count": null,
   "metadata": {},
   "outputs": [],
   "source": []
  },
  {
   "cell_type": "code",
   "execution_count": null,
   "metadata": {},
   "outputs": [],
   "source": []
  },
  {
   "cell_type": "code",
   "execution_count": null,
   "metadata": {},
   "outputs": [],
   "source": []
  },
  {
   "cell_type": "code",
   "execution_count": null,
   "metadata": {},
   "outputs": [],
   "source": []
  },
  {
   "cell_type": "code",
   "execution_count": 249,
   "metadata": {},
   "outputs": [
    {
     "data": {
      "text/html": [
       "<div>\n",
       "<style scoped>\n",
       "    .dataframe tbody tr th:only-of-type {\n",
       "        vertical-align: middle;\n",
       "    }\n",
       "\n",
       "    .dataframe tbody tr th {\n",
       "        vertical-align: top;\n",
       "    }\n",
       "\n",
       "    .dataframe thead th {\n",
       "        text-align: right;\n",
       "    }\n",
       "</style>\n",
       "<table border=\"1\" class=\"dataframe\">\n",
       "  <thead>\n",
       "    <tr style=\"text-align: right;\">\n",
       "      <th></th>\n",
       "      <th>reactants</th>\n",
       "      <th>products</th>\n",
       "      <th>rsig</th>\n",
       "      <th>psig</th>\n",
       "      <th>rcen</th>\n",
       "      <th>pcen</th>\n",
       "      <th>rbond</th>\n",
       "      <th>pbond</th>\n",
       "      <th>rsig_clusters</th>\n",
       "    </tr>\n",
       "  </thead>\n",
       "  <tbody>\n",
       "  </tbody>\n",
       "</table>\n",
       "</div>"
      ],
      "text/plain": [
       "Empty DataFrame\n",
       "Columns: [reactants, products, rsig, psig, rcen, pcen, rbond, pbond, rsig_clusters]\n",
       "Index: []"
      ]
     },
     "execution_count": 249,
     "metadata": {},
     "output_type": "execute_result"
    }
   ],
   "source": [
    "temp_df"
   ]
  },
  {
   "cell_type": "code",
   "execution_count": null,
   "metadata": {},
   "outputs": [],
   "source": []
  },
  {
   "cell_type": "code",
   "execution_count": null,
   "metadata": {},
   "outputs": [],
   "source": []
  },
  {
   "cell_type": "code",
   "execution_count": null,
   "metadata": {},
   "outputs": [],
   "source": []
  },
  {
   "cell_type": "code",
   "execution_count": 13,
   "metadata": {},
   "outputs": [],
   "source": [
    "mol = Chem.MolFromSmiles(\"CONC\")"
   ]
  },
  {
   "cell_type": "code",
   "execution_count": 14,
   "metadata": {},
   "outputs": [
    {
     "data": {
      "image/png": "[encoded data removed]",
      "text/plain": [
       "<rdkit.Chem.rdchem.Mol at 0x7f7465a5f850>"
      ]
     },
     "execution_count": 14,
     "metadata": {},
     "output_type": "execute_result"
    }
   ],
   "source": [
    "mol"
   ]
  },
  {
   "cell_type": "code",
   "execution_count": 152,
   "metadata": {},
   "outputs": [
    {
     "data": {
      "text/plain": [
       "array([[0, 1, 0, 0],\n",
       "       [1, 0, 1, 0],\n",
       "       [0, 1, 0, 1],\n",
       "       [0, 0, 1, 0]], dtype=int32)"
      ]
     },
     "execution_count": 152,
     "metadata": {},
     "output_type": "execute_result"
    }
   ],
   "source": [
    "Chem.GetAdjacencyMatrix(mol)"
   ]
  },
  {
   "cell_type": "code",
   "execution_count": 15,
   "metadata": {},
   "outputs": [],
   "source": [
    "mol = Chem.MolFromSmiles(\"CC(C)C\")"
   ]
  },
  {
   "cell_type": "code",
   "execution_count": 16,
   "metadata": {},
   "outputs": [],
   "source": [
    "adj_mat = Chem.GetAdjacencyMatrix(mol)\n",
    "\n",
    "# Create a ring for each atom with size = atomic_num\n",
    "atom_nums = np.array([atom.GetAtomicNum() for atom in list(mol.GetAtoms())])\n",
    "# atom_nums[atom_nums == 6] = 1\n",
    "mat_list = []\n",
    "for atn in atom_nums:\n",
    "    new_mat = np.zeros(shape=(atn, atn), dtype=np.int8)\n",
    "    for i in range(atn):\n",
    "        new_mat[i, (i+1)%atn] = 1\n",
    "    mat_list.append(new_mat)\n",
    "\n",
    "# conbine the rings into a new adj mat\n",
    "new_adj_mat = np.zeros(shape=(sum(atom_nums), sum(atom_nums)), dtype=np.int8)\n",
    "idx = 0\n",
    "for i in range(len(atom_nums)):\n",
    "    new_adj_mat[idx:idx+atom_nums[i], idx:idx+atom_nums[i]] = mat_list[i]\n",
    "    idx += atom_nums[i]\n",
    "    \n",
    "# add original last connections\n",
    "idx = 0\n",
    "for i, a_i in enumerate(np.cumsum(atom_nums)):\n",
    "    for j, a_j in enumerate(np.cumsum(atom_nums)):\n",
    "        new_adj_mat[a_i-1, a_j-1] = adj_mat[i, j]\n",
    "#         print(a_i-1, a_j-1, adj_mat[i, j])"
   ]
  },
  {
   "cell_type": "code",
   "execution_count": 17,
   "metadata": {},
   "outputs": [
    {
     "name": "stdout",
     "output_type": "stream",
     "text": [
      "[0 1 0 0 0 0 0 0 0 0 0 0 0 0 0 0 0 0 0 0 0 0 0 0]\n",
      "[0 0 1 0 0 0 0 0 0 0 0 0 0 0 0 0 0 0 0 0 0 0 0 0]\n",
      "[0 0 0 1 0 0 0 0 0 0 0 0 0 0 0 0 0 0 0 0 0 0 0 0]\n",
      "[0 0 0 0 1 0 0 0 0 0 0 0 0 0 0 0 0 0 0 0 0 0 0 0]\n",
      "[0 0 0 0 0 1 0 0 0 0 0 0 0 0 0 0 0 0 0 0 0 0 0 0]\n",
      "[1 0 0 0 0 0 0 0 0 0 0 1 0 0 0 0 0 0 0 0 0 0 0 0]\n",
      "[0 0 0 0 0 0 0 1 0 0 0 0 0 0 0 0 0 0 0 0 0 0 0 0]\n",
      "[0 0 0 0 0 0 0 0 1 0 0 0 0 0 0 0 0 0 0 0 0 0 0 0]\n",
      "[0 0 0 0 0 0 0 0 0 1 0 0 0 0 0 0 0 0 0 0 0 0 0 0]\n",
      "[0 0 0 0 0 0 0 0 0 0 1 0 0 0 0 0 0 0 0 0 0 0 0 0]\n",
      "[0 0 0 0 0 0 0 0 0 0 0 1 0 0 0 0 0 0 0 0 0 0 0 0]\n",
      "[0 0 0 0 0 1 1 0 0 0 0 0 0 0 0 0 0 1 0 0 0 0 0 1]\n",
      "[0 0 0 0 0 0 0 0 0 0 0 0 0 1 0 0 0 0 0 0 0 0 0 0]\n",
      "[0 0 0 0 0 0 0 0 0 0 0 0 0 0 1 0 0 0 0 0 0 0 0 0]\n",
      "[0 0 0 0 0 0 0 0 0 0 0 0 0 0 0 1 0 0 0 0 0 0 0 0]\n",
      "[0 0 0 0 0 0 0 0 0 0 0 0 0 0 0 0 1 0 0 0 0 0 0 0]\n",
      "[0 0 0 0 0 0 0 0 0 0 0 0 0 0 0 0 0 1 0 0 0 0 0 0]\n",
      "[0 0 0 0 0 0 0 0 0 0 0 1 1 0 0 0 0 0 0 0 0 0 0 0]\n",
      "[0 0 0 0 0 0 0 0 0 0 0 0 0 0 0 0 0 0 0 1 0 0 0 0]\n",
      "[0 0 0 0 0 0 0 0 0 0 0 0 0 0 0 0 0 0 0 0 1 0 0 0]\n",
      "[0 0 0 0 0 0 0 0 0 0 0 0 0 0 0 0 0 0 0 0 0 1 0 0]\n",
      "[0 0 0 0 0 0 0 0 0 0 0 0 0 0 0 0 0 0 0 0 0 0 1 0]\n",
      "[0 0 0 0 0 0 0 0 0 0 0 0 0 0 0 0 0 0 0 0 0 0 0 1]\n",
      "[0 0 0 0 0 0 0 0 0 0 0 1 0 0 0 0 0 0 1 0 0 0 0 0]\n"
     ]
    }
   ],
   "source": [
    "for row in new_adj_mat:\n",
    "    print(row)"
   ]
  },
  {
   "cell_type": "code",
   "execution_count": 156,
   "metadata": {},
   "outputs": [
    {
     "data": {
      "image/png": "[encoded data removed]",
      "text/plain": [
       "<Figure size 432x288 with 1 Axes>"
      ]
     },
     "metadata": {},
     "output_type": "display_data"
    }
   ],
   "source": [
    "import networkx as nx\n",
    "G = nx.from_numpy_matrix(new_adj_mat)\n",
    "\n",
    "nx.draw_kamada_kawai(G)"
   ]
  }
 ],
 "metadata": {
  "kernelspec": {
   "display_name": "Python 3 (ipykernel)",
   "language": "python",
   "name": "python3"
  },
  "language_info": {
   "codemirror_mode": {
    "name": "ipython",
    "version": 3
   },
   "file_extension": ".py",
   "mimetype": "text/x-python",
   "name": "python",
   "nbconvert_exporter": "python",
   "pygments_lexer": "ipython3",
   "version": "3.7.13"
  }
 },
 "nbformat": 4,
 "nbformat_minor": 2
}
