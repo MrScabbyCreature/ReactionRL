{
 "cells": [
  {
   "cell_type": "code",
   "execution_count": 1,
   "metadata": {},
   "outputs": [],
   "source": [
    "from rdkit import Chem\n",
    "import numpy as np\n",
    "import pandas as pd\n",
    "from IPython.display import display\n",
    "import tqdm"
   ]
  },
  {
   "cell_type": "markdown",
   "metadata": {},
   "source": [
    "# Load simulator data"
   ]
  },
  {
   "cell_type": "code",
   "execution_count": 2,
   "metadata": {},
   "outputs": [],
   "source": [
    "dataset = pd.read_csv(\"/home/abhor/Desktop/repos/ReactionRL/datasets/my_uspto/action_dataset.csv\", index_col=0)"
   ]
  },
  {
   "cell_type": "code",
   "execution_count": 3,
   "metadata": {
    "scrolled": false
   },
   "outputs": [
    {
     "data": {
      "text/html": [
       "<div>\n",
       "<style scoped>\n",
       "    .dataframe tbody tr th:only-of-type {\n",
       "        vertical-align: middle;\n",
       "    }\n",
       "\n",
       "    .dataframe tbody tr th {\n",
       "        vertical-align: top;\n",
       "    }\n",
       "\n",
       "    .dataframe thead th {\n",
       "        text-align: right;\n",
       "    }\n",
       "</style>\n",
       "<table border=\"1\" class=\"dataframe\">\n",
       "  <thead>\n",
       "    <tr style=\"text-align: right;\">\n",
       "      <th></th>\n",
       "      <th>reactants</th>\n",
       "      <th>products</th>\n",
       "      <th>rsig</th>\n",
       "      <th>psig</th>\n",
       "      <th>rsub</th>\n",
       "      <th>psub</th>\n",
       "      <th>rcen</th>\n",
       "      <th>pcen</th>\n",
       "      <th>rbond</th>\n",
       "      <th>pbond</th>\n",
       "      <th>rsig_clusters</th>\n",
       "    </tr>\n",
       "  </thead>\n",
       "  <tbody>\n",
       "    <tr>\n",
       "      <th>0</th>\n",
       "      <td>CON(C)C(=O)c1ccc(O)nc1</td>\n",
       "      <td>CC(C)CC(=O)c1ccc(O)nc1</td>\n",
       "      <td>[CH3:0][O:1][N:2]([CH3:3])[C:4](=[O:5])[c:6]1[...</td>\n",
       "      <td>[CH3:0][CH:1]([CH3:2])[CH2:3][C:4](=[O:5])[c:6...</td>\n",
       "      <td>[CH3:0][O:1][NH:2][CH3:3]</td>\n",
       "      <td>[CH3:0][CH:1]([CH3:2])[CH3:3]</td>\n",
       "      <td>2</td>\n",
       "      <td>3</td>\n",
       "      <td>[[1.0]]</td>\n",
       "      <td>[[1.0]]</td>\n",
       "      <td>0</td>\n",
       "    </tr>\n",
       "    <tr>\n",
       "      <th>25624</th>\n",
       "      <td>CON(C)C(=O)c1ccc(Cl)nc1N</td>\n",
       "      <td>COc1cc(C)c(F)cc1C(=O)c1ccc(Cl)nc1N</td>\n",
       "      <td>[CH3:0][O:1][N:2]([CH3:3])[C:4](=[O:5])[c:6]1[...</td>\n",
       "      <td>[CH3:0][O:1][c:2]1[cH:3][c:4]([CH3:5])[c:6]([F...</td>\n",
       "      <td>[CH3:0][O:1][NH:2][CH3:3]</td>\n",
       "      <td>[CH3:0][O:1][c:2]1[cH:3][c:4]([CH3:5])[c:6]([F...</td>\n",
       "      <td>2</td>\n",
       "      <td>9</td>\n",
       "      <td>[[1.0]]</td>\n",
       "      <td>[[1.0]]</td>\n",
       "      <td>0</td>\n",
       "    </tr>\n",
       "    <tr>\n",
       "      <th>26279</th>\n",
       "      <td>CON(C)C(=O)c1ccc(Cl)nc1</td>\n",
       "      <td>O=Cc1ccc(Cl)nc1</td>\n",
       "      <td>[CH3:0][O:1][N:2]([CH3:3])[C:4](=[O:5])[c:6]1[...</td>\n",
       "      <td>[H:0]</td>\n",
       "      <td>[CH3:0][O:1][NH:2][CH3:3]</td>\n",
       "      <td>[H:0]</td>\n",
       "      <td>2</td>\n",
       "      <td>0</td>\n",
       "      <td>[[1.0]]</td>\n",
       "      <td>[]</td>\n",
       "      <td>0</td>\n",
       "    </tr>\n",
       "    <tr>\n",
       "      <th>27114</th>\n",
       "      <td>CON(C)C(=O)c1cccnc1Cl</td>\n",
       "      <td>CC(=O)c1cccnc1Cl</td>\n",
       "      <td>[CH3:0][O:1][N:2]([CH3:3])[C:4](=[O:5])[c:6]1[...</td>\n",
       "      <td>[CH3:0][C:1](=[O:2])[c:3]1[cH:4][cH:5][cH:6][n...</td>\n",
       "      <td>[CH3:0][O:1][NH:2][CH3:3]</td>\n",
       "      <td>[CH4:0]</td>\n",
       "      <td>2</td>\n",
       "      <td>0</td>\n",
       "      <td>[[1.0]]</td>\n",
       "      <td>[[1.0]]</td>\n",
       "      <td>0</td>\n",
       "    </tr>\n",
       "    <tr>\n",
       "      <th>68734</th>\n",
       "      <td>CON(C)C(=O)c1ccc(Cl)nc1</td>\n",
       "      <td>COc1ccccc1C(=O)c1ccc(Cl)nc1</td>\n",
       "      <td>[CH3:0][O:1][N:2]([CH3:3])[C:4](=[O:5])[c:6]1[...</td>\n",
       "      <td>[CH3:0][O:1][c:2]1[cH:3][cH:4][cH:5][cH:6][c:7...</td>\n",
       "      <td>[CH3:0][O:1][NH:2][CH3:3]</td>\n",
       "      <td>[CH3:0][O:1][c:2]1[cH:3][cH:4][cH:5][cH:6][cH:7]1</td>\n",
       "      <td>2</td>\n",
       "      <td>7</td>\n",
       "      <td>[[1.0]]</td>\n",
       "      <td>[[1.0]]</td>\n",
       "      <td>0</td>\n",
       "    </tr>\n",
       "    <tr>\n",
       "      <th>...</th>\n",
       "      <td>...</td>\n",
       "      <td>...</td>\n",
       "      <td>...</td>\n",
       "      <td>...</td>\n",
       "      <td>...</td>\n",
       "      <td>...</td>\n",
       "      <td>...</td>\n",
       "      <td>...</td>\n",
       "      <td>...</td>\n",
       "      <td>...</td>\n",
       "      <td>...</td>\n",
       "    </tr>\n",
       "    <tr>\n",
       "      <th>448339</th>\n",
       "      <td>OCCC(F)(F)C(F)(F)C(F)(F)F</td>\n",
       "      <td>O=P([O-])(C(F)(F)C(F)(F)F)C(F)(F)C(F)(F)F</td>\n",
       "      <td>[OH:0][CH2:1][CH2:2][C:3]([F:4])([F:5])[C:6]([...</td>\n",
       "      <td>[O:0]=[P:1]([O-:2])([C:3]([F:4])([F:5])[CH3:6]...</td>\n",
       "      <td>[OH:0][CH2:1][CH2:2][CH:3]([F:4])[F:5]</td>\n",
       "      <td>[O:0]=[PH:1]([O-:2])[C:7]([F:8])([F:9])[C:10](...</td>\n",
       "      <td>3</td>\n",
       "      <td>1</td>\n",
       "      <td>[[1.0]]</td>\n",
       "      <td>[[1.0]]</td>\n",
       "      <td>393801</td>\n",
       "    </tr>\n",
       "    <tr>\n",
       "      <th>448392</th>\n",
       "      <td>CCNC(=O)n1nc(N)c2cc(C(F)(F)F)ccc21</td>\n",
       "      <td>CCN=C=O</td>\n",
       "      <td>[CH3:0][NH:1][C:2](=[O:3])[n:4]1[n:5][c:6]([NH...</td>\n",
       "      <td>[CH3:0][N:1]=[C:2]=[O:3]</td>\n",
       "      <td>[CH:2](=[O:3])[n:4]1[n:5][c:6]([NH2:7])[c:8]2[...</td>\n",
       "      <td>[CH2:2]=[O:3]</td>\n",
       "      <td>2</td>\n",
       "      <td>2</td>\n",
       "      <td>[[1.0]]</td>\n",
       "      <td>[[2.0]]</td>\n",
       "      <td>393838</td>\n",
       "    </tr>\n",
       "    <tr>\n",
       "      <th>448417</th>\n",
       "      <td>O=P(C(F)(F)C(F)(F)F)(C(F)(F)C(F)(F)F)C(F)(F)C(...</td>\n",
       "      <td>O=P([O-])(C(F)(F)C(F)(F)F)C(F)(F)C(F)(F)F</td>\n",
       "      <td>[O:0]=[P:1]([CH3:2])([CH3:3])[C:4]([F:5])([F:6...</td>\n",
       "      <td>[O:0]=[P:1]([O-:2])([CH3:3])[CH3:4]</td>\n",
       "      <td>[CH:4]([F:5])([F:6])[C:7]([F:8])([F:9])[F:10]</td>\n",
       "      <td>[O-:2]</td>\n",
       "      <td>4</td>\n",
       "      <td>2</td>\n",
       "      <td>[[1.0]]</td>\n",
       "      <td>[[1.0]]</td>\n",
       "      <td>393859</td>\n",
       "    </tr>\n",
       "    <tr>\n",
       "      <th>448458</th>\n",
       "      <td>CCOc1ccc(C(C)(C)COCc2ccc(F)c(Oc3ccccc3)c2)cc1</td>\n",
       "      <td>CCOc1ccc(C(C)(C)CO)cc1</td>\n",
       "      <td>[CH3:0][O:1][CH2:2][c:3]1[cH:4][cH:5][c:6]([F:...</td>\n",
       "      <td>[H:0]</td>\n",
       "      <td>[CH3:2][c:3]1[cH:4][cH:5][c:6]([F:7])[c:8]([O:...</td>\n",
       "      <td>[H:0]</td>\n",
       "      <td>2</td>\n",
       "      <td>0</td>\n",
       "      <td>[[1.0]]</td>\n",
       "      <td>[]</td>\n",
       "      <td>393888</td>\n",
       "    </tr>\n",
       "    <tr>\n",
       "      <th>448505</th>\n",
       "      <td>CCCCOS(=O)(=O)OCCCC</td>\n",
       "      <td>CCCC[P+](CC)(CC)CC</td>\n",
       "      <td>[CH3:0][CH2:1][O:2][S:3](=[O:4])(=[O:5])[O:6][...</td>\n",
       "      <td>[CH3:0][CH2:1][P+:2]([CH2:3][CH3:4])([CH2:5][C...</td>\n",
       "      <td>[OH:2][S:3](=[O:4])(=[O:5])[O:6][CH2:7][CH2:8]...</td>\n",
       "      <td>[P+:2]([CH2:3][CH3:4])([CH2:5][CH3:6])[CH2:7][...</td>\n",
       "      <td>2</td>\n",
       "      <td>2</td>\n",
       "      <td>[[1.0]]</td>\n",
       "      <td>[[1.0]]</td>\n",
       "      <td>393922</td>\n",
       "    </tr>\n",
       "  </tbody>\n",
       "</table>\n",
       "<p>191108 rows × 11 columns</p>\n",
       "</div>"
      ],
      "text/plain": [
       "                                                reactants  \\\n",
       "0                                  CON(C)C(=O)c1ccc(O)nc1   \n",
       "25624                            CON(C)C(=O)c1ccc(Cl)nc1N   \n",
       "26279                             CON(C)C(=O)c1ccc(Cl)nc1   \n",
       "27114                               CON(C)C(=O)c1cccnc1Cl   \n",
       "68734                             CON(C)C(=O)c1ccc(Cl)nc1   \n",
       "...                                                   ...   \n",
       "448339                          OCCC(F)(F)C(F)(F)C(F)(F)F   \n",
       "448392                 CCNC(=O)n1nc(N)c2cc(C(F)(F)F)ccc21   \n",
       "448417  O=P(C(F)(F)C(F)(F)F)(C(F)(F)C(F)(F)F)C(F)(F)C(...   \n",
       "448458      CCOc1ccc(C(C)(C)COCc2ccc(F)c(Oc3ccccc3)c2)cc1   \n",
       "448505                                CCCCOS(=O)(=O)OCCCC   \n",
       "\n",
       "                                         products  \\\n",
       "0                          CC(C)CC(=O)c1ccc(O)nc1   \n",
       "25624          COc1cc(C)c(F)cc1C(=O)c1ccc(Cl)nc1N   \n",
       "26279                             O=Cc1ccc(Cl)nc1   \n",
       "27114                            CC(=O)c1cccnc1Cl   \n",
       "68734                 COc1ccccc1C(=O)c1ccc(Cl)nc1   \n",
       "...                                           ...   \n",
       "448339  O=P([O-])(C(F)(F)C(F)(F)F)C(F)(F)C(F)(F)F   \n",
       "448392                                    CCN=C=O   \n",
       "448417  O=P([O-])(C(F)(F)C(F)(F)F)C(F)(F)C(F)(F)F   \n",
       "448458                     CCOc1ccc(C(C)(C)CO)cc1   \n",
       "448505                         CCCC[P+](CC)(CC)CC   \n",
       "\n",
       "                                                     rsig  \\\n",
       "0       [CH3:0][O:1][N:2]([CH3:3])[C:4](=[O:5])[c:6]1[...   \n",
       "25624   [CH3:0][O:1][N:2]([CH3:3])[C:4](=[O:5])[c:6]1[...   \n",
       "26279   [CH3:0][O:1][N:2]([CH3:3])[C:4](=[O:5])[c:6]1[...   \n",
       "27114   [CH3:0][O:1][N:2]([CH3:3])[C:4](=[O:5])[c:6]1[...   \n",
       "68734   [CH3:0][O:1][N:2]([CH3:3])[C:4](=[O:5])[c:6]1[...   \n",
       "...                                                   ...   \n",
       "448339  [OH:0][CH2:1][CH2:2][C:3]([F:4])([F:5])[C:6]([...   \n",
       "448392  [CH3:0][NH:1][C:2](=[O:3])[n:4]1[n:5][c:6]([NH...   \n",
       "448417  [O:0]=[P:1]([CH3:2])([CH3:3])[C:4]([F:5])([F:6...   \n",
       "448458  [CH3:0][O:1][CH2:2][c:3]1[cH:4][cH:5][c:6]([F:...   \n",
       "448505  [CH3:0][CH2:1][O:2][S:3](=[O:4])(=[O:5])[O:6][...   \n",
       "\n",
       "                                                     psig  \\\n",
       "0       [CH3:0][CH:1]([CH3:2])[CH2:3][C:4](=[O:5])[c:6...   \n",
       "25624   [CH3:0][O:1][c:2]1[cH:3][c:4]([CH3:5])[c:6]([F...   \n",
       "26279                                               [H:0]   \n",
       "27114   [CH3:0][C:1](=[O:2])[c:3]1[cH:4][cH:5][cH:6][n...   \n",
       "68734   [CH3:0][O:1][c:2]1[cH:3][cH:4][cH:5][cH:6][c:7...   \n",
       "...                                                   ...   \n",
       "448339  [O:0]=[P:1]([O-:2])([C:3]([F:4])([F:5])[CH3:6]...   \n",
       "448392                           [CH3:0][N:1]=[C:2]=[O:3]   \n",
       "448417                [O:0]=[P:1]([O-:2])([CH3:3])[CH3:4]   \n",
       "448458                                              [H:0]   \n",
       "448505  [CH3:0][CH2:1][P+:2]([CH2:3][CH3:4])([CH2:5][C...   \n",
       "\n",
       "                                                     rsub  \\\n",
       "0                               [CH3:0][O:1][NH:2][CH3:3]   \n",
       "25624                           [CH3:0][O:1][NH:2][CH3:3]   \n",
       "26279                           [CH3:0][O:1][NH:2][CH3:3]   \n",
       "27114                           [CH3:0][O:1][NH:2][CH3:3]   \n",
       "68734                           [CH3:0][O:1][NH:2][CH3:3]   \n",
       "...                                                   ...   \n",
       "448339             [OH:0][CH2:1][CH2:2][CH:3]([F:4])[F:5]   \n",
       "448392  [CH:2](=[O:3])[n:4]1[n:5][c:6]([NH2:7])[c:8]2[...   \n",
       "448417      [CH:4]([F:5])([F:6])[C:7]([F:8])([F:9])[F:10]   \n",
       "448458  [CH3:2][c:3]1[cH:4][cH:5][c:6]([F:7])[c:8]([O:...   \n",
       "448505  [OH:2][S:3](=[O:4])(=[O:5])[O:6][CH2:7][CH2:8]...   \n",
       "\n",
       "                                                     psub  rcen  pcen  \\\n",
       "0                           [CH3:0][CH:1]([CH3:2])[CH3:3]     2     3   \n",
       "25624   [CH3:0][O:1][c:2]1[cH:3][c:4]([CH3:5])[c:6]([F...     2     9   \n",
       "26279                                               [H:0]     2     0   \n",
       "27114                                             [CH4:0]     2     0   \n",
       "68734   [CH3:0][O:1][c:2]1[cH:3][cH:4][cH:5][cH:6][cH:7]1     2     7   \n",
       "...                                                   ...   ...   ...   \n",
       "448339  [O:0]=[PH:1]([O-:2])[C:7]([F:8])([F:9])[C:10](...     3     1   \n",
       "448392                                      [CH2:2]=[O:3]     2     2   \n",
       "448417                                             [O-:2]     4     2   \n",
       "448458                                              [H:0]     2     0   \n",
       "448505  [P+:2]([CH2:3][CH3:4])([CH2:5][CH3:6])[CH2:7][...     2     2   \n",
       "\n",
       "          rbond    pbond  rsig_clusters  \n",
       "0       [[1.0]]  [[1.0]]              0  \n",
       "25624   [[1.0]]  [[1.0]]              0  \n",
       "26279   [[1.0]]       []              0  \n",
       "27114   [[1.0]]  [[1.0]]              0  \n",
       "68734   [[1.0]]  [[1.0]]              0  \n",
       "...         ...      ...            ...  \n",
       "448339  [[1.0]]  [[1.0]]         393801  \n",
       "448392  [[1.0]]  [[2.0]]         393838  \n",
       "448417  [[1.0]]  [[1.0]]         393859  \n",
       "448458  [[1.0]]       []         393888  \n",
       "448505  [[1.0]]  [[1.0]]         393922  \n",
       "\n",
       "[191108 rows x 11 columns]"
      ]
     },
     "execution_count": 3,
     "metadata": {},
     "output_type": "execute_result"
    }
   ],
   "source": [
    "dataset"
   ]
  },
  {
   "cell_type": "markdown",
   "metadata": {},
   "source": [
    "# Indexing "
   ]
  },
  {
   "cell_type": "markdown",
   "metadata": {},
   "source": [
    "First, we create index for rsub to make for faster searching.\n",
    "\n",
    "Searching will be based on rsub because the action searching algorithm cannot create rsigs. rsigs will be used for substructure matching."
   ]
  },
  {
   "cell_type": "code",
   "execution_count": 4,
   "metadata": {},
   "outputs": [],
   "source": [
    "import pynauty\n",
    "import networkx as nx"
   ]
  },
  {
   "cell_type": "code",
   "execution_count": 5,
   "metadata": {},
   "outputs": [
    {
     "name": "stdout",
     "output_type": "stream",
     "text": [
      "There are 43861 unique (rsigs)rsubs.\n"
     ]
    }
   ],
   "source": [
    "# Fetch the rsubs using the clusters\n",
    "rsig_cluster_to_rsub_d = {}\n",
    "for cluster_id in dataset[\"rsig_clusters\"].unique():\n",
    "    cluster_df = dataset[dataset[\"rsig_clusters\"] == cluster_id]\n",
    "    rsub  = Chem.MolFromSmiles(cluster_df.iloc[0][\"rsub\"])\n",
    "    rsig_cluster_to_rsub_d[cluster_id] = rsub\n",
    "    \n",
    "print(f\"There are {len(rsig_cluster_to_rsub_d)} unique (rsigs)rsubs.\")"
   ]
  },
  {
   "cell_type": "code",
   "execution_count": 6,
   "metadata": {},
   "outputs": [
    {
     "name": "stderr",
     "output_type": "stream",
     "text": [
      "100%|███████████████████████████████████████████████████████████████████| 191108/191108 [02:19<00:00, 1374.17it/s]\n"
     ]
    }
   ],
   "source": [
    "# Get atom frequency for making rings in the signature\n",
    "atom_frequency = {}\n",
    "\n",
    "for i in tqdm.tqdm(range(dataset.shape[0]), total=dataset.shape[0]):\n",
    "    atoms = list(Chem.MolFromSmiles(dataset.iloc[i][\"reactants\"]).GetAtoms()) + list(Chem.MolFromSmiles(dataset.iloc[i][\"products\"]).GetAtoms())\n",
    "    atom_nums, counts = np.unique(list(map(lambda x: x.GetAtomicNum(), atoms)), return_counts=True)\n",
    "    for num, cnt in zip(atom_nums, counts):\n",
    "        if num not in atom_frequency:\n",
    "            atom_frequency[num] = cnt\n",
    "        else:\n",
    "            atom_frequency[num] += cnt\n",
    "\n",
    "mapping = list(range(1, 50))\n",
    "mapping.remove(2)\n",
    "atom_to_freq_order = {x: mapping[i] for i, (_, x) in enumerate(sorted(zip(list(atom_frequency.values()), list(atom_frequency.keys())))[::-1])}"
   ]
  },
  {
   "cell_type": "code",
   "execution_count": 7,
   "metadata": {},
   "outputs": [
    {
     "name": "stderr",
     "output_type": "stream",
     "text": [
      "100%|█████████████████████████████████████████████████████████████████████| 43861/43861 [00:06<00:00, 7120.83it/s]\n"
     ]
    }
   ],
   "source": [
    "# For each rsig, genearate a certificate\n",
    "def get_mol_certificate(mol):\n",
    "    adj_mat = Chem.GetAdjacencyMatrix(mol)\n",
    "\n",
    "    # Create a ring for each atom with size = atomic_num\n",
    "    atom_nums = np.array([atom_to_freq_order[atom.GetAtomicNum()] for atom in list(mol.GetAtoms())])\n",
    "    mat_list = []\n",
    "    for atn in atom_nums:\n",
    "        new_mat = np.zeros(shape=(atn, atn), dtype=np.int8)\n",
    "        for i in range(atn):\n",
    "            new_mat[i, (i+1)%atn] = 1\n",
    "        mat_list.append(new_mat)\n",
    "\n",
    "    # conbine the rings into a new adj mat\n",
    "    new_adj_mat = np.zeros(shape=(sum(atom_nums), sum(atom_nums)), dtype=np.int8)\n",
    "    idx = 0\n",
    "    for i in range(len(atom_nums)):\n",
    "        new_adj_mat[idx:idx+atom_nums[i], idx:idx+atom_nums[i]] = mat_list[i]\n",
    "        idx += atom_nums[i]\n",
    "\n",
    "    # add original last connections\n",
    "    idx = 0\n",
    "    for i, a_i in enumerate(np.cumsum(atom_nums)):\n",
    "        for j, a_j in enumerate(np.cumsum(atom_nums)):\n",
    "            new_adj_mat[a_i-1, a_j-1] = adj_mat[i, j]\n",
    "\n",
    "    adj_mat = new_adj_mat\n",
    "    \n",
    "    # convert adj matrix to adj dict\n",
    "    adj_dict = {}\n",
    "    for i, row in enumerate(adj_mat):\n",
    "        adj_dict[i] = [x for x, j in enumerate(row) if j]\n",
    "        \n",
    "    # get graph\n",
    "    G = pynauty.Graph(len(adj_dict), directed=False, adjacency_dict=adj_dict)#, vertex_coloring=coloring)\n",
    "    \n",
    "    # return certificate\n",
    "    return pynauty.certificate(G)\n",
    "        \n",
    "certificate_to_cluster_id_dict = {}\n",
    "for _id in tqdm.tqdm(rsig_cluster_to_rsub_d):\n",
    "    C = get_mol_certificate(rsig_cluster_to_rsub_d[_id])\n",
    "    if C in certificate_to_cluster_id_dict:\n",
    "        certificate_to_cluster_id_dict[C].append(_id)\n",
    "    else:\n",
    "        certificate_to_cluster_id_dict[C] = [_id]"
   ]
  },
  {
   "cell_type": "code",
   "execution_count": 8,
   "metadata": {
    "scrolled": false
   },
   "outputs": [
    {
     "name": "stdout",
     "output_type": "stream",
     "text": [
      "138\n",
      "[0, 7222, 24719, 14436, 181219, 358364, 89401, 165672, 2123, 10525, 41437, 77056, 172019, 259883, 351713, 161693, 185148, 101652, 110135, 111987, 212774, 355145, 35384, 308531, 160632, 233029, 209769, 259918, 89905, 150773, 1047, 1300, 36259, 123933, 447, 33204, 55341, 116281, 494, 298142, 5627, 40796, 135484, 354785, 366344, 49189, 104500, 227782, 362169, 12862, 32596, 83525, 72281, 195494, 209198, 1310, 17701, 100663, 353182, 36736, 42267, 117181, 145544, 176441, 4244, 51450, 30043, 78216, 120498, 228275, 11419, 56794, 115506, 246680, 254933, 1992, 5947, 103669, 188835, 236008, 60130, 86550, 213614, 241350, 29319, 50568, 94405, 313245, 154804, 267803, 17798, 242046, 259187, 7116, 248567, 252729, 229117, 5958, 74251, 384996, 82829, 79289, 65105, 147784, 213924, 92255, 119184, 15653, 293233, 10197, 47187, 253017, 14205, 76162, 301373, 36173, 315280, 21245, 23867, 88560, 112840, 222759, 117811, 120098, 158385, 324854, 186074, 133217, 62032, 220870, 307558, 63537, 125992, 183878, 334348, 76691, 331708, 252354]\n"
     ]
    },
    {
     "data": {
      "text/html": [
       "<div>\n",
       "<style scoped>\n",
       "    .dataframe tbody tr th:only-of-type {\n",
       "        vertical-align: middle;\n",
       "    }\n",
       "\n",
       "    .dataframe tbody tr th {\n",
       "        vertical-align: top;\n",
       "    }\n",
       "\n",
       "    .dataframe thead th {\n",
       "        text-align: right;\n",
       "    }\n",
       "</style>\n",
       "<table border=\"1\" class=\"dataframe\">\n",
       "  <thead>\n",
       "    <tr style=\"text-align: right;\">\n",
       "      <th></th>\n",
       "      <th>reactants</th>\n",
       "      <th>products</th>\n",
       "      <th>rsig</th>\n",
       "      <th>psig</th>\n",
       "      <th>rsub</th>\n",
       "      <th>psub</th>\n",
       "      <th>rcen</th>\n",
       "      <th>pcen</th>\n",
       "      <th>rbond</th>\n",
       "      <th>pbond</th>\n",
       "      <th>rsig_clusters</th>\n",
       "    </tr>\n",
       "  </thead>\n",
       "  <tbody>\n",
       "    <tr>\n",
       "      <th>0</th>\n",
       "      <td>CON(C)C(=O)c1ccc(O)nc1</td>\n",
       "      <td>CC(C)CC(=O)c1ccc(O)nc1</td>\n",
       "      <td>[CH3:0][O:1][N:2]([CH3:3])[C:4](=[O:5])[c:6]1[...</td>\n",
       "      <td>[CH3:0][CH:1]([CH3:2])[CH2:3][C:4](=[O:5])[c:6...</td>\n",
       "      <td>[CH3:0][O:1][NH:2][CH3:3]</td>\n",
       "      <td>[CH3:0][CH:1]([CH3:2])[CH3:3]</td>\n",
       "      <td>2</td>\n",
       "      <td>3</td>\n",
       "      <td>[[1.0]]</td>\n",
       "      <td>[[1.0]]</td>\n",
       "      <td>0</td>\n",
       "    </tr>\n",
       "    <tr>\n",
       "      <th>25624</th>\n",
       "      <td>CON(C)C(=O)c1ccc(Cl)nc1N</td>\n",
       "      <td>COc1cc(C)c(F)cc1C(=O)c1ccc(Cl)nc1N</td>\n",
       "      <td>[CH3:0][O:1][N:2]([CH3:3])[C:4](=[O:5])[c:6]1[...</td>\n",
       "      <td>[CH3:0][O:1][c:2]1[cH:3][c:4]([CH3:5])[c:6]([F...</td>\n",
       "      <td>[CH3:0][O:1][NH:2][CH3:3]</td>\n",
       "      <td>[CH3:0][O:1][c:2]1[cH:3][c:4]([CH3:5])[c:6]([F...</td>\n",
       "      <td>2</td>\n",
       "      <td>9</td>\n",
       "      <td>[[1.0]]</td>\n",
       "      <td>[[1.0]]</td>\n",
       "      <td>0</td>\n",
       "    </tr>\n",
       "    <tr>\n",
       "      <th>26279</th>\n",
       "      <td>CON(C)C(=O)c1ccc(Cl)nc1</td>\n",
       "      <td>O=Cc1ccc(Cl)nc1</td>\n",
       "      <td>[CH3:0][O:1][N:2]([CH3:3])[C:4](=[O:5])[c:6]1[...</td>\n",
       "      <td>[H:0]</td>\n",
       "      <td>[CH3:0][O:1][NH:2][CH3:3]</td>\n",
       "      <td>[H:0]</td>\n",
       "      <td>2</td>\n",
       "      <td>0</td>\n",
       "      <td>[[1.0]]</td>\n",
       "      <td>[]</td>\n",
       "      <td>0</td>\n",
       "    </tr>\n",
       "    <tr>\n",
       "      <th>27114</th>\n",
       "      <td>CON(C)C(=O)c1cccnc1Cl</td>\n",
       "      <td>CC(=O)c1cccnc1Cl</td>\n",
       "      <td>[CH3:0][O:1][N:2]([CH3:3])[C:4](=[O:5])[c:6]1[...</td>\n",
       "      <td>[CH3:0][C:1](=[O:2])[c:3]1[cH:4][cH:5][cH:6][n...</td>\n",
       "      <td>[CH3:0][O:1][NH:2][CH3:3]</td>\n",
       "      <td>[CH4:0]</td>\n",
       "      <td>2</td>\n",
       "      <td>0</td>\n",
       "      <td>[[1.0]]</td>\n",
       "      <td>[[1.0]]</td>\n",
       "      <td>0</td>\n",
       "    </tr>\n",
       "    <tr>\n",
       "      <th>68734</th>\n",
       "      <td>CON(C)C(=O)c1ccc(Cl)nc1</td>\n",
       "      <td>COc1ccccc1C(=O)c1ccc(Cl)nc1</td>\n",
       "      <td>[CH3:0][O:1][N:2]([CH3:3])[C:4](=[O:5])[c:6]1[...</td>\n",
       "      <td>[CH3:0][O:1][c:2]1[cH:3][cH:4][cH:5][cH:6][c:7...</td>\n",
       "      <td>[CH3:0][O:1][NH:2][CH3:3]</td>\n",
       "      <td>[CH3:0][O:1][c:2]1[cH:3][cH:4][cH:5][cH:6][cH:7]1</td>\n",
       "      <td>2</td>\n",
       "      <td>7</td>\n",
       "      <td>[[1.0]]</td>\n",
       "      <td>[[1.0]]</td>\n",
       "      <td>0</td>\n",
       "    </tr>\n",
       "    <tr>\n",
       "      <th>79413</th>\n",
       "      <td>CON(C)C(=O)c1ccc(N2CCN(C(=O)OC(C)(C)C)CC2)nc1</td>\n",
       "      <td>CC(O)c1ccc(N2CCN(C(=O)OC(C)(C)C)CC2)nc1</td>\n",
       "      <td>[CH3:0][O:1][N:2]([CH3:3])[C:4](=[O:5])[c:6]1[...</td>\n",
       "      <td>[CH3:0][CH:1]([OH:2])[c:3]1[cH:4][cH:5][cH:6][...</td>\n",
       "      <td>[CH3:0][O:1][N:2]([CH3:3])[CH:4]=[O:5]</td>\n",
       "      <td>[CH3:0][CH2:1][OH:2]</td>\n",
       "      <td>4</td>\n",
       "      <td>1</td>\n",
       "      <td>[[1.0]]</td>\n",
       "      <td>[[1.0]]</td>\n",
       "      <td>0</td>\n",
       "    </tr>\n",
       "    <tr>\n",
       "      <th>103109</th>\n",
       "      <td>CON(C)C(=O)c1cc(Br)cnc1N</td>\n",
       "      <td>Nc1ncc(Br)cc1C(=O)c1ccccc1OC(F)(F)F</td>\n",
       "      <td>[CH3:0][O:1][N:2]([CH3:3])[C:4](=[O:5])[c:6]1[...</td>\n",
       "      <td>[cH:0]1[n:1][cH:2][cH:3][cH:4][c:5]1[C:6](=[O:...</td>\n",
       "      <td>[CH3:0][O:1][NH:2][CH3:3]</td>\n",
       "      <td>[cH:8]1[cH:9][cH:10][cH:11][cH:12][c:13]1[O:14...</td>\n",
       "      <td>2</td>\n",
       "      <td>8</td>\n",
       "      <td>[[1.0]]</td>\n",
       "      <td>[[1.0]]</td>\n",
       "      <td>0</td>\n",
       "    </tr>\n",
       "    <tr>\n",
       "      <th>119790</th>\n",
       "      <td>CON(C)C(=O)c1ccc(Cl)nc1</td>\n",
       "      <td>O=C(c1ccc(Cl)nc1)c1cccc(F)c1F</td>\n",
       "      <td>[CH3:0][O:1][N:2]([CH3:3])[C:4](=[O:5])[c:6]1[...</td>\n",
       "      <td>[O:0]=[C:1]([c:2]1[cH:3][cH:4][cH:5][n:6][cH:7...</td>\n",
       "      <td>[CH3:0][O:1][NH:2][CH3:3]</td>\n",
       "      <td>[cH:8]1[cH:9][cH:10][cH:11][c:12]([F:13])[c:14...</td>\n",
       "      <td>2</td>\n",
       "      <td>8</td>\n",
       "      <td>[[1.0]]</td>\n",
       "      <td>[[1.0]]</td>\n",
       "      <td>0</td>\n",
       "    </tr>\n",
       "    <tr>\n",
       "      <th>136108</th>\n",
       "      <td>CON(C)C(=O)c1ccc(Cl)nc1N</td>\n",
       "      <td>Nc1nc(Cl)ccc1C(=O)c1c(F)cccc1F</td>\n",
       "      <td>[CH3:0][O:1][N:2]([CH3:3])[C:4](=[O:5])[c:6]1[...</td>\n",
       "      <td>[cH:0]1[n:1][cH:2][cH:3][cH:4][c:5]1[C:6](=[O:...</td>\n",
       "      <td>[CH3:0][O:1][NH:2][CH3:3]</td>\n",
       "      <td>[cH:8]1[c:9]([F:10])[cH:11][cH:12][cH:13][c:14...</td>\n",
       "      <td>2</td>\n",
       "      <td>8</td>\n",
       "      <td>[[1.0]]</td>\n",
       "      <td>[[1.0]]</td>\n",
       "      <td>0</td>\n",
       "    </tr>\n",
       "    <tr>\n",
       "      <th>150906</th>\n",
       "      <td>CON(C)C(=O)c1cc(Br)cnc1N</td>\n",
       "      <td>Nc1ncc(Br)cc1C(=O)c1cccc(F)n1</td>\n",
       "      <td>[CH3:0][O:1][N:2]([CH3:3])[C:4](=[O:5])[c:6]1[...</td>\n",
       "      <td>[cH:0]1[n:1][cH:2][cH:3][cH:4][c:5]1[C:6](=[O:...</td>\n",
       "      <td>[CH3:0][O:1][NH:2][CH3:3]</td>\n",
       "      <td>[cH:8]1[cH:9][cH:10][cH:11][c:12]([F:13])[n:14]1</td>\n",
       "      <td>2</td>\n",
       "      <td>8</td>\n",
       "      <td>[[1.0]]</td>\n",
       "      <td>[[1.0]]</td>\n",
       "      <td>0</td>\n",
       "    </tr>\n",
       "    <tr>\n",
       "      <th>157810</th>\n",
       "      <td>CON(C)C(=O)c1ccc(C(F)(F)F)nc1Nc1ccccc1</td>\n",
       "      <td>CCC(=O)c1ccc(C(F)(F)F)nc1Nc1ccccc1</td>\n",
       "      <td>[CH3:0][O:1][N:2]([CH3:3])[C:4](=[O:5])[c:6]1[...</td>\n",
       "      <td>[CH3:0][CH2:1][C:2](=[O:3])[c:4]1[cH:5][cH:6][...</td>\n",
       "      <td>[CH3:0][O:1][NH:2][CH3:3]</td>\n",
       "      <td>[CH3:0][CH3:1]</td>\n",
       "      <td>2</td>\n",
       "      <td>1</td>\n",
       "      <td>[[1.0]]</td>\n",
       "      <td>[[1.0]]</td>\n",
       "      <td>0</td>\n",
       "    </tr>\n",
       "    <tr>\n",
       "      <th>172962</th>\n",
       "      <td>CON(C)C(=O)c1ccc(Cl)nc1</td>\n",
       "      <td>O=C(c1ccc(Cl)cc1)c1ccc(Cl)nc1</td>\n",
       "      <td>[CH3:0][O:1][N:2]([CH3:3])[C:4](=[O:5])[c:6]1[...</td>\n",
       "      <td>[O:0]=[C:1]([c:2]1[cH:3][cH:4][c:5]([Cl:6])[cH...</td>\n",
       "      <td>[CH3:0][O:1][NH:2][CH3:3]</td>\n",
       "      <td>[cH:2]1[cH:3][cH:4][c:5]([Cl:6])[cH:7][cH:8]1</td>\n",
       "      <td>2</td>\n",
       "      <td>2</td>\n",
       "      <td>[[1.0]]</td>\n",
       "      <td>[[1.0]]</td>\n",
       "      <td>0</td>\n",
       "    </tr>\n",
       "    <tr>\n",
       "      <th>180850</th>\n",
       "      <td>CON(C)C(=O)c1ccc(Cl)nc1</td>\n",
       "      <td>O=C(c1ccc(Cl)nc1)C1CC1</td>\n",
       "      <td>[CH3:0][O:1][N:2]([CH3:3])[C:4](=[O:5])[c:6]1[...</td>\n",
       "      <td>[O:0]=[C:1]([c:2]1[cH:3][cH:4][cH:5][n:6][cH:7...</td>\n",
       "      <td>[CH3:0][O:1][NH:2][CH3:3]</td>\n",
       "      <td>[CH2:8]1[CH2:9][CH2:10]1</td>\n",
       "      <td>2</td>\n",
       "      <td>8</td>\n",
       "      <td>[[1.0]]</td>\n",
       "      <td>[[1.0]]</td>\n",
       "      <td>0</td>\n",
       "    </tr>\n",
       "    <tr>\n",
       "      <th>220365</th>\n",
       "      <td>CON(C)C(=O)c1cc(Br)cnc1N</td>\n",
       "      <td>Nc1ncc(Br)cc1C(=O)c1ccccc1</td>\n",
       "      <td>[CH3:0][O:1][N:2]([CH3:3])[C:4](=[O:5])[c:6]1[...</td>\n",
       "      <td>[cH:0]1[n:1][cH:2][cH:3][cH:4][c:5]1[C:6](=[O:...</td>\n",
       "      <td>[CH3:0][O:1][NH:2][CH3:3]</td>\n",
       "      <td>[cH:8]1[cH:9][cH:10][cH:11][cH:12][cH:13]1</td>\n",
       "      <td>2</td>\n",
       "      <td>8</td>\n",
       "      <td>[[1.0]]</td>\n",
       "      <td>[[1.0]]</td>\n",
       "      <td>0</td>\n",
       "    </tr>\n",
       "    <tr>\n",
       "      <th>249400</th>\n",
       "      <td>CON(C)C(=O)c1ccc(Cl)nc1N</td>\n",
       "      <td>COc1ccc(F)cc1C(=O)c1ccc(Cl)nc1N</td>\n",
       "      <td>[CH3:0][O:1][N:2]([CH3:3])[C:4](=[O:5])[c:6]1[...</td>\n",
       "      <td>[CH3:0][O:1][c:2]1[cH:3][cH:4][c:5]([F:6])[cH:...</td>\n",
       "      <td>[CH3:0][O:1][NH:2][CH3:3]</td>\n",
       "      <td>[CH3:0][O:1][c:2]1[cH:3][cH:4][c:5]([F:6])[cH:...</td>\n",
       "      <td>2</td>\n",
       "      <td>8</td>\n",
       "      <td>[[1.0]]</td>\n",
       "      <td>[[1.0]]</td>\n",
       "      <td>0</td>\n",
       "    </tr>\n",
       "    <tr>\n",
       "      <th>279610</th>\n",
       "      <td>CON(C)C(=O)c1cc(Br)cnc1N</td>\n",
       "      <td>Nc1ncc(Br)cc1C(=O)c1ccc(F)nc1</td>\n",
       "      <td>[CH3:0][O:1][N:2]([CH3:3])[C:4](=[O:5])[c:6]1[...</td>\n",
       "      <td>[cH:0]1[n:1][cH:2][cH:3][cH:4][c:5]1[C:6](=[O:...</td>\n",
       "      <td>[CH3:0][O:1][NH:2][CH3:3]</td>\n",
       "      <td>[cH:8]1[cH:9][cH:10][c:11]([F:12])[n:13][cH:14]1</td>\n",
       "      <td>2</td>\n",
       "      <td>8</td>\n",
       "      <td>[[1.0]]</td>\n",
       "      <td>[[1.0]]</td>\n",
       "      <td>0</td>\n",
       "    </tr>\n",
       "    <tr>\n",
       "      <th>291112</th>\n",
       "      <td>CON(C)C(=O)c1cccnc1</td>\n",
       "      <td>CCCC(=O)c1cccnc1</td>\n",
       "      <td>[CH3:0][O:1][N:2]([CH3:3])[C:4](=[O:5])[c:6]1[...</td>\n",
       "      <td>[CH3:0][CH2:1][CH2:2][C:3](=[O:4])[c:5]1[cH:6]...</td>\n",
       "      <td>[CH3:0][O:1][NH:2][CH3:3]</td>\n",
       "      <td>[CH3:0][CH2:1][CH3:2]</td>\n",
       "      <td>2</td>\n",
       "      <td>2</td>\n",
       "      <td>[[1.0]]</td>\n",
       "      <td>[[1.0]]</td>\n",
       "      <td>0</td>\n",
       "    </tr>\n",
       "    <tr>\n",
       "      <th>300926</th>\n",
       "      <td>CON(C)C(=O)c1cccnc1F</td>\n",
       "      <td>O=C(c1cccnc1F)c1nc(Cl)ccc1C1CC1</td>\n",
       "      <td>[CH3:0][O:1][N:2]([CH3:3])[C:4](=[O:5])[c:6]1[...</td>\n",
       "      <td>[O:0]=[C:1]([c:2]1[cH:3][cH:4][cH:5][n:6][cH:7...</td>\n",
       "      <td>[CH3:0][O:1][NH:2][CH3:3]</td>\n",
       "      <td>[cH:8]1[n:9][c:10]([Cl:11])[cH:12][cH:13][c:14...</td>\n",
       "      <td>2</td>\n",
       "      <td>8</td>\n",
       "      <td>[[1.0]]</td>\n",
       "      <td>[[1.0]]</td>\n",
       "      <td>0</td>\n",
       "    </tr>\n",
       "    <tr>\n",
       "      <th>330287</th>\n",
       "      <td>CON(C)C(=O)c1ccc(Cl)nc1N</td>\n",
       "      <td>Nc1nc(Cl)ccc1C(=O)c1ccccc1F</td>\n",
       "      <td>[CH3:0][O:1][N:2]([CH3:3])[C:4](=[O:5])[c:6]1[...</td>\n",
       "      <td>[cH:0]1[n:1][cH:2][cH:3][cH:4][c:5]1[C:6](=[O:...</td>\n",
       "      <td>[CH3:0][O:1][NH:2][CH3:3]</td>\n",
       "      <td>[cH:8]1[cH:9][cH:10][cH:11][cH:12][c:13]1[F:14]</td>\n",
       "      <td>2</td>\n",
       "      <td>8</td>\n",
       "      <td>[[1.0]]</td>\n",
       "      <td>[[1.0]]</td>\n",
       "      <td>0</td>\n",
       "    </tr>\n",
       "    <tr>\n",
       "      <th>432717</th>\n",
       "      <td>CON(C)C(=O)c1ccc(Cl)nc1N</td>\n",
       "      <td>COc1ccc(C(=O)c2ccc(Cl)nc2N)cc1</td>\n",
       "      <td>[CH3:0][O:1][N:2]([CH3:3])[C:4](=[O:5])[c:6]1[...</td>\n",
       "      <td>[CH3:0][O:1][c:2]1[cH:3][cH:4][c:5]([C:6](=[O:...</td>\n",
       "      <td>[CH3:0][O:1][NH:2][CH3:3]</td>\n",
       "      <td>[CH3:0][O:1][c:2]1[cH:3][cH:4][cH:5][cH:14][cH...</td>\n",
       "      <td>2</td>\n",
       "      <td>5</td>\n",
       "      <td>[[1.0]]</td>\n",
       "      <td>[[1.0]]</td>\n",
       "      <td>0</td>\n",
       "    </tr>\n",
       "  </tbody>\n",
       "</table>\n",
       "</div>"
      ],
      "text/plain": [
       "                                            reactants  \\\n",
       "0                              CON(C)C(=O)c1ccc(O)nc1   \n",
       "25624                        CON(C)C(=O)c1ccc(Cl)nc1N   \n",
       "26279                         CON(C)C(=O)c1ccc(Cl)nc1   \n",
       "27114                           CON(C)C(=O)c1cccnc1Cl   \n",
       "68734                         CON(C)C(=O)c1ccc(Cl)nc1   \n",
       "79413   CON(C)C(=O)c1ccc(N2CCN(C(=O)OC(C)(C)C)CC2)nc1   \n",
       "103109                       CON(C)C(=O)c1cc(Br)cnc1N   \n",
       "119790                        CON(C)C(=O)c1ccc(Cl)nc1   \n",
       "136108                       CON(C)C(=O)c1ccc(Cl)nc1N   \n",
       "150906                       CON(C)C(=O)c1cc(Br)cnc1N   \n",
       "157810         CON(C)C(=O)c1ccc(C(F)(F)F)nc1Nc1ccccc1   \n",
       "172962                        CON(C)C(=O)c1ccc(Cl)nc1   \n",
       "180850                        CON(C)C(=O)c1ccc(Cl)nc1   \n",
       "220365                       CON(C)C(=O)c1cc(Br)cnc1N   \n",
       "249400                       CON(C)C(=O)c1ccc(Cl)nc1N   \n",
       "279610                       CON(C)C(=O)c1cc(Br)cnc1N   \n",
       "291112                            CON(C)C(=O)c1cccnc1   \n",
       "300926                           CON(C)C(=O)c1cccnc1F   \n",
       "330287                       CON(C)C(=O)c1ccc(Cl)nc1N   \n",
       "432717                       CON(C)C(=O)c1ccc(Cl)nc1N   \n",
       "\n",
       "                                       products  \\\n",
       "0                        CC(C)CC(=O)c1ccc(O)nc1   \n",
       "25624        COc1cc(C)c(F)cc1C(=O)c1ccc(Cl)nc1N   \n",
       "26279                           O=Cc1ccc(Cl)nc1   \n",
       "27114                          CC(=O)c1cccnc1Cl   \n",
       "68734               COc1ccccc1C(=O)c1ccc(Cl)nc1   \n",
       "79413   CC(O)c1ccc(N2CCN(C(=O)OC(C)(C)C)CC2)nc1   \n",
       "103109      Nc1ncc(Br)cc1C(=O)c1ccccc1OC(F)(F)F   \n",
       "119790            O=C(c1ccc(Cl)nc1)c1cccc(F)c1F   \n",
       "136108           Nc1nc(Cl)ccc1C(=O)c1c(F)cccc1F   \n",
       "150906            Nc1ncc(Br)cc1C(=O)c1cccc(F)n1   \n",
       "157810       CCC(=O)c1ccc(C(F)(F)F)nc1Nc1ccccc1   \n",
       "172962            O=C(c1ccc(Cl)cc1)c1ccc(Cl)nc1   \n",
       "180850                   O=C(c1ccc(Cl)nc1)C1CC1   \n",
       "220365               Nc1ncc(Br)cc1C(=O)c1ccccc1   \n",
       "249400          COc1ccc(F)cc1C(=O)c1ccc(Cl)nc1N   \n",
       "279610            Nc1ncc(Br)cc1C(=O)c1ccc(F)nc1   \n",
       "291112                         CCCC(=O)c1cccnc1   \n",
       "300926          O=C(c1cccnc1F)c1nc(Cl)ccc1C1CC1   \n",
       "330287              Nc1nc(Cl)ccc1C(=O)c1ccccc1F   \n",
       "432717           COc1ccc(C(=O)c2ccc(Cl)nc2N)cc1   \n",
       "\n",
       "                                                     rsig  \\\n",
       "0       [CH3:0][O:1][N:2]([CH3:3])[C:4](=[O:5])[c:6]1[...   \n",
       "25624   [CH3:0][O:1][N:2]([CH3:3])[C:4](=[O:5])[c:6]1[...   \n",
       "26279   [CH3:0][O:1][N:2]([CH3:3])[C:4](=[O:5])[c:6]1[...   \n",
       "27114   [CH3:0][O:1][N:2]([CH3:3])[C:4](=[O:5])[c:6]1[...   \n",
       "68734   [CH3:0][O:1][N:2]([CH3:3])[C:4](=[O:5])[c:6]1[...   \n",
       "79413   [CH3:0][O:1][N:2]([CH3:3])[C:4](=[O:5])[c:6]1[...   \n",
       "103109  [CH3:0][O:1][N:2]([CH3:3])[C:4](=[O:5])[c:6]1[...   \n",
       "119790  [CH3:0][O:1][N:2]([CH3:3])[C:4](=[O:5])[c:6]1[...   \n",
       "136108  [CH3:0][O:1][N:2]([CH3:3])[C:4](=[O:5])[c:6]1[...   \n",
       "150906  [CH3:0][O:1][N:2]([CH3:3])[C:4](=[O:5])[c:6]1[...   \n",
       "157810  [CH3:0][O:1][N:2]([CH3:3])[C:4](=[O:5])[c:6]1[...   \n",
       "172962  [CH3:0][O:1][N:2]([CH3:3])[C:4](=[O:5])[c:6]1[...   \n",
       "180850  [CH3:0][O:1][N:2]([CH3:3])[C:4](=[O:5])[c:6]1[...   \n",
       "220365  [CH3:0][O:1][N:2]([CH3:3])[C:4](=[O:5])[c:6]1[...   \n",
       "249400  [CH3:0][O:1][N:2]([CH3:3])[C:4](=[O:5])[c:6]1[...   \n",
       "279610  [CH3:0][O:1][N:2]([CH3:3])[C:4](=[O:5])[c:6]1[...   \n",
       "291112  [CH3:0][O:1][N:2]([CH3:3])[C:4](=[O:5])[c:6]1[...   \n",
       "300926  [CH3:0][O:1][N:2]([CH3:3])[C:4](=[O:5])[c:6]1[...   \n",
       "330287  [CH3:0][O:1][N:2]([CH3:3])[C:4](=[O:5])[c:6]1[...   \n",
       "432717  [CH3:0][O:1][N:2]([CH3:3])[C:4](=[O:5])[c:6]1[...   \n",
       "\n",
       "                                                     psig  \\\n",
       "0       [CH3:0][CH:1]([CH3:2])[CH2:3][C:4](=[O:5])[c:6...   \n",
       "25624   [CH3:0][O:1][c:2]1[cH:3][c:4]([CH3:5])[c:6]([F...   \n",
       "26279                                               [H:0]   \n",
       "27114   [CH3:0][C:1](=[O:2])[c:3]1[cH:4][cH:5][cH:6][n...   \n",
       "68734   [CH3:0][O:1][c:2]1[cH:3][cH:4][cH:5][cH:6][c:7...   \n",
       "79413   [CH3:0][CH:1]([OH:2])[c:3]1[cH:4][cH:5][cH:6][...   \n",
       "103109  [cH:0]1[n:1][cH:2][cH:3][cH:4][c:5]1[C:6](=[O:...   \n",
       "119790  [O:0]=[C:1]([c:2]1[cH:3][cH:4][cH:5][n:6][cH:7...   \n",
       "136108  [cH:0]1[n:1][cH:2][cH:3][cH:4][c:5]1[C:6](=[O:...   \n",
       "150906  [cH:0]1[n:1][cH:2][cH:3][cH:4][c:5]1[C:6](=[O:...   \n",
       "157810  [CH3:0][CH2:1][C:2](=[O:3])[c:4]1[cH:5][cH:6][...   \n",
       "172962  [O:0]=[C:1]([c:2]1[cH:3][cH:4][c:5]([Cl:6])[cH...   \n",
       "180850  [O:0]=[C:1]([c:2]1[cH:3][cH:4][cH:5][n:6][cH:7...   \n",
       "220365  [cH:0]1[n:1][cH:2][cH:3][cH:4][c:5]1[C:6](=[O:...   \n",
       "249400  [CH3:0][O:1][c:2]1[cH:3][cH:4][c:5]([F:6])[cH:...   \n",
       "279610  [cH:0]1[n:1][cH:2][cH:3][cH:4][c:5]1[C:6](=[O:...   \n",
       "291112  [CH3:0][CH2:1][CH2:2][C:3](=[O:4])[c:5]1[cH:6]...   \n",
       "300926  [O:0]=[C:1]([c:2]1[cH:3][cH:4][cH:5][n:6][cH:7...   \n",
       "330287  [cH:0]1[n:1][cH:2][cH:3][cH:4][c:5]1[C:6](=[O:...   \n",
       "432717  [CH3:0][O:1][c:2]1[cH:3][cH:4][c:5]([C:6](=[O:...   \n",
       "\n",
       "                                          rsub  \\\n",
       "0                    [CH3:0][O:1][NH:2][CH3:3]   \n",
       "25624                [CH3:0][O:1][NH:2][CH3:3]   \n",
       "26279                [CH3:0][O:1][NH:2][CH3:3]   \n",
       "27114                [CH3:0][O:1][NH:2][CH3:3]   \n",
       "68734                [CH3:0][O:1][NH:2][CH3:3]   \n",
       "79413   [CH3:0][O:1][N:2]([CH3:3])[CH:4]=[O:5]   \n",
       "103109               [CH3:0][O:1][NH:2][CH3:3]   \n",
       "119790               [CH3:0][O:1][NH:2][CH3:3]   \n",
       "136108               [CH3:0][O:1][NH:2][CH3:3]   \n",
       "150906               [CH3:0][O:1][NH:2][CH3:3]   \n",
       "157810               [CH3:0][O:1][NH:2][CH3:3]   \n",
       "172962               [CH3:0][O:1][NH:2][CH3:3]   \n",
       "180850               [CH3:0][O:1][NH:2][CH3:3]   \n",
       "220365               [CH3:0][O:1][NH:2][CH3:3]   \n",
       "249400               [CH3:0][O:1][NH:2][CH3:3]   \n",
       "279610               [CH3:0][O:1][NH:2][CH3:3]   \n",
       "291112               [CH3:0][O:1][NH:2][CH3:3]   \n",
       "300926               [CH3:0][O:1][NH:2][CH3:3]   \n",
       "330287               [CH3:0][O:1][NH:2][CH3:3]   \n",
       "432717               [CH3:0][O:1][NH:2][CH3:3]   \n",
       "\n",
       "                                                     psub  rcen  pcen  \\\n",
       "0                           [CH3:0][CH:1]([CH3:2])[CH3:3]     2     3   \n",
       "25624   [CH3:0][O:1][c:2]1[cH:3][c:4]([CH3:5])[c:6]([F...     2     9   \n",
       "26279                                               [H:0]     2     0   \n",
       "27114                                             [CH4:0]     2     0   \n",
       "68734   [CH3:0][O:1][c:2]1[cH:3][cH:4][cH:5][cH:6][cH:7]1     2     7   \n",
       "79413                                [CH3:0][CH2:1][OH:2]     4     1   \n",
       "103109  [cH:8]1[cH:9][cH:10][cH:11][cH:12][c:13]1[O:14...     2     8   \n",
       "119790  [cH:8]1[cH:9][cH:10][cH:11][c:12]([F:13])[c:14...     2     8   \n",
       "136108  [cH:8]1[c:9]([F:10])[cH:11][cH:12][cH:13][c:14...     2     8   \n",
       "150906   [cH:8]1[cH:9][cH:10][cH:11][c:12]([F:13])[n:14]1     2     8   \n",
       "157810                                     [CH3:0][CH3:1]     2     1   \n",
       "172962      [cH:2]1[cH:3][cH:4][c:5]([Cl:6])[cH:7][cH:8]1     2     2   \n",
       "180850                           [CH2:8]1[CH2:9][CH2:10]1     2     8   \n",
       "220365         [cH:8]1[cH:9][cH:10][cH:11][cH:12][cH:13]1     2     8   \n",
       "249400  [CH3:0][O:1][c:2]1[cH:3][cH:4][c:5]([F:6])[cH:...     2     8   \n",
       "279610   [cH:8]1[cH:9][cH:10][c:11]([F:12])[n:13][cH:14]1     2     8   \n",
       "291112                              [CH3:0][CH2:1][CH3:2]     2     2   \n",
       "300926  [cH:8]1[n:9][c:10]([Cl:11])[cH:12][cH:13][c:14...     2     8   \n",
       "330287    [cH:8]1[cH:9][cH:10][cH:11][cH:12][c:13]1[F:14]     2     8   \n",
       "432717  [CH3:0][O:1][c:2]1[cH:3][cH:4][cH:5][cH:14][cH...     2     5   \n",
       "\n",
       "          rbond    pbond  rsig_clusters  \n",
       "0       [[1.0]]  [[1.0]]              0  \n",
       "25624   [[1.0]]  [[1.0]]              0  \n",
       "26279   [[1.0]]       []              0  \n",
       "27114   [[1.0]]  [[1.0]]              0  \n",
       "68734   [[1.0]]  [[1.0]]              0  \n",
       "79413   [[1.0]]  [[1.0]]              0  \n",
       "103109  [[1.0]]  [[1.0]]              0  \n",
       "119790  [[1.0]]  [[1.0]]              0  \n",
       "136108  [[1.0]]  [[1.0]]              0  \n",
       "150906  [[1.0]]  [[1.0]]              0  \n",
       "157810  [[1.0]]  [[1.0]]              0  \n",
       "172962  [[1.0]]  [[1.0]]              0  \n",
       "180850  [[1.0]]  [[1.0]]              0  \n",
       "220365  [[1.0]]  [[1.0]]              0  \n",
       "249400  [[1.0]]  [[1.0]]              0  \n",
       "279610  [[1.0]]  [[1.0]]              0  \n",
       "291112  [[1.0]]  [[1.0]]              0  \n",
       "300926  [[1.0]]  [[1.0]]              0  \n",
       "330287  [[1.0]]  [[1.0]]              0  \n",
       "432717  [[1.0]]  [[1.0]]              0  "
      ]
     },
     "metadata": {},
     "output_type": "display_data"
    },
    {
     "data": {
      "image/png": "[encoded data removed]",
      "text/plain": [
       "<rdkit.Chem.rdchem.Mol at 0x7f22bc0af3f0>"
      ]
     },
     "metadata": {},
     "output_type": "display_data"
    },
    {
     "data": {
      "text/html": [
       "<div>\n",
       "<style scoped>\n",
       "    .dataframe tbody tr th:only-of-type {\n",
       "        vertical-align: middle;\n",
       "    }\n",
       "\n",
       "    .dataframe tbody tr th {\n",
       "        vertical-align: top;\n",
       "    }\n",
       "\n",
       "    .dataframe thead th {\n",
       "        text-align: right;\n",
       "    }\n",
       "</style>\n",
       "<table border=\"1\" class=\"dataframe\">\n",
       "  <thead>\n",
       "    <tr style=\"text-align: right;\">\n",
       "      <th></th>\n",
       "      <th>reactants</th>\n",
       "      <th>products</th>\n",
       "      <th>rsig</th>\n",
       "      <th>psig</th>\n",
       "      <th>rsub</th>\n",
       "      <th>psub</th>\n",
       "      <th>rcen</th>\n",
       "      <th>pcen</th>\n",
       "      <th>rbond</th>\n",
       "      <th>pbond</th>\n",
       "      <th>rsig_clusters</th>\n",
       "    </tr>\n",
       "  </thead>\n",
       "  <tbody>\n",
       "    <tr>\n",
       "      <th>8174</th>\n",
       "      <td>CCc1nc(C(F)(F)F)ccc1C(=O)N(C)OC</td>\n",
       "      <td>CCc1nc(C(F)(F)F)ccc1C=O</td>\n",
       "      <td>[cH:0]1[n:1][cH:2][cH:3][cH:4][c:5]1[C:6](=[O:...</td>\n",
       "      <td>[H:0]</td>\n",
       "      <td>[NH:8]([CH3:9])[O:10][CH3:11]</td>\n",
       "      <td>[H:0]</td>\n",
       "      <td>8</td>\n",
       "      <td>0</td>\n",
       "      <td>[[1.0]]</td>\n",
       "      <td>[]</td>\n",
       "      <td>7222</td>\n",
       "    </tr>\n",
       "  </tbody>\n",
       "</table>\n",
       "</div>"
      ],
      "text/plain": [
       "                            reactants                 products  \\\n",
       "8174  CCc1nc(C(F)(F)F)ccc1C(=O)N(C)OC  CCc1nc(C(F)(F)F)ccc1C=O   \n",
       "\n",
       "                                                   rsig   psig  \\\n",
       "8174  [cH:0]1[n:1][cH:2][cH:3][cH:4][c:5]1[C:6](=[O:...  [H:0]   \n",
       "\n",
       "                               rsub   psub  rcen  pcen    rbond pbond  \\\n",
       "8174  [NH:8]([CH3:9])[O:10][CH3:11]  [H:0]     8     0  [[1.0]]    []   \n",
       "\n",
       "      rsig_clusters  \n",
       "8174           7222  "
      ]
     },
     "metadata": {},
     "output_type": "display_data"
    },
    {
     "data": {
      "image/png": "[encoded data removed]",
      "text/plain": [
       "<rdkit.Chem.rdchem.Mol at 0x7f2288393e40>"
      ]
     },
     "metadata": {},
     "output_type": "display_data"
    },
    {
     "data": {
      "text/html": [
       "<div>\n",
       "<style scoped>\n",
       "    .dataframe tbody tr th:only-of-type {\n",
       "        vertical-align: middle;\n",
       "    }\n",
       "\n",
       "    .dataframe tbody tr th {\n",
       "        vertical-align: top;\n",
       "    }\n",
       "\n",
       "    .dataframe thead th {\n",
       "        text-align: right;\n",
       "    }\n",
       "</style>\n",
       "<table border=\"1\" class=\"dataframe\">\n",
       "  <thead>\n",
       "    <tr style=\"text-align: right;\">\n",
       "      <th></th>\n",
       "      <th>reactants</th>\n",
       "      <th>products</th>\n",
       "      <th>rsig</th>\n",
       "      <th>psig</th>\n",
       "      <th>rsub</th>\n",
       "      <th>psub</th>\n",
       "      <th>rcen</th>\n",
       "      <th>pcen</th>\n",
       "      <th>rbond</th>\n",
       "      <th>pbond</th>\n",
       "      <th>rsig_clusters</th>\n",
       "    </tr>\n",
       "  </thead>\n",
       "  <tbody>\n",
       "    <tr>\n",
       "      <th>28119</th>\n",
       "      <td>CCOc1cncc(C(=O)N(C)OC)c1</td>\n",
       "      <td>CCOc1cncc(C=O)c1</td>\n",
       "      <td>[cH:0]1[cH:1][n:2][cH:3][c:4]([C:5](=[O:6])[N:...</td>\n",
       "      <td>[H:0]</td>\n",
       "      <td>[NH:7]([CH3:8])[O:9][CH3:10]</td>\n",
       "      <td>[H:0]</td>\n",
       "      <td>7</td>\n",
       "      <td>0</td>\n",
       "      <td>[[1.0]]</td>\n",
       "      <td>[]</td>\n",
       "      <td>24719</td>\n",
       "    </tr>\n",
       "  </tbody>\n",
       "</table>\n",
       "</div>"
      ],
      "text/plain": [
       "                      reactants          products  \\\n",
       "28119  CCOc1cncc(C(=O)N(C)OC)c1  CCOc1cncc(C=O)c1   \n",
       "\n",
       "                                                    rsig   psig  \\\n",
       "28119  [cH:0]1[cH:1][n:2][cH:3][c:4]([C:5](=[O:6])[N:...  [H:0]   \n",
       "\n",
       "                               rsub   psub  rcen  pcen    rbond pbond  \\\n",
       "28119  [NH:7]([CH3:8])[O:9][CH3:10]  [H:0]     7     0  [[1.0]]    []   \n",
       "\n",
       "       rsig_clusters  \n",
       "28119          24719  "
      ]
     },
     "metadata": {},
     "output_type": "display_data"
    },
    {
     "data": {
      "image/png": "[encoded data removed]",
      "text/plain": [
       "<rdkit.Chem.rdchem.Mol at 0x7f228838d850>"
      ]
     },
     "metadata": {},
     "output_type": "display_data"
    },
    {
     "data": {
      "text/html": [
       "<div>\n",
       "<style scoped>\n",
       "    .dataframe tbody tr th:only-of-type {\n",
       "        vertical-align: middle;\n",
       "    }\n",
       "\n",
       "    .dataframe tbody tr th {\n",
       "        vertical-align: top;\n",
       "    }\n",
       "\n",
       "    .dataframe thead th {\n",
       "        text-align: right;\n",
       "    }\n",
       "</style>\n",
       "<table border=\"1\" class=\"dataframe\">\n",
       "  <thead>\n",
       "    <tr style=\"text-align: right;\">\n",
       "      <th></th>\n",
       "      <th>reactants</th>\n",
       "      <th>products</th>\n",
       "      <th>rsig</th>\n",
       "      <th>psig</th>\n",
       "      <th>rsub</th>\n",
       "      <th>psub</th>\n",
       "      <th>rcen</th>\n",
       "      <th>pcen</th>\n",
       "      <th>rbond</th>\n",
       "      <th>pbond</th>\n",
       "      <th>rsig_clusters</th>\n",
       "    </tr>\n",
       "  </thead>\n",
       "  <tbody>\n",
       "    <tr>\n",
       "      <th>16397</th>\n",
       "      <td>CON(C)C(=O)c1cc(NS(=O)(=O)c2ccc(Cl)cc2Cl)ncc1S...</td>\n",
       "      <td>O=Cc1cc(NS(=O)(=O)c2ccc(Cl)cc2Cl)ncc1Sc1ccc(S(...</td>\n",
       "      <td>[CH3:0][O:1][N:2]([CH3:3])[C:4](=[O:5])[c:6]1[...</td>\n",
       "      <td>[H:0]</td>\n",
       "      <td>[CH3:0][O:1][NH:2][CH3:3]</td>\n",
       "      <td>[H:0]</td>\n",
       "      <td>2</td>\n",
       "      <td>0</td>\n",
       "      <td>[[1.0]]</td>\n",
       "      <td>[[1.0]]</td>\n",
       "      <td>14436</td>\n",
       "    </tr>\n",
       "    <tr>\n",
       "      <th>21011</th>\n",
       "      <td>CON(C)C(=O)c1ccncc1</td>\n",
       "      <td>COc1cccc(C(=O)c2ccncc2)c1OC</td>\n",
       "      <td>[CH3:0][O:1][N:2]([CH3:3])[C:4](=[O:5])[c:6]1[...</td>\n",
       "      <td>[CH3:0][O:1][c:2]1[cH:3][cH:4][cH:5][c:6]([C:7...</td>\n",
       "      <td>[CH3:0][O:1][NH:2][CH3:3]</td>\n",
       "      <td>[CH3:0][O:1][c:2]1[cH:3][cH:4][cH:5][cH:6][c:1...</td>\n",
       "      <td>2</td>\n",
       "      <td>6</td>\n",
       "      <td>[[1.0]]</td>\n",
       "      <td>[[1.0]]</td>\n",
       "      <td>14436</td>\n",
       "    </tr>\n",
       "    <tr>\n",
       "      <th>23151</th>\n",
       "      <td>CON(C)C(=O)c1ccnc(NC(=O)OC(C)(C)C)c1</td>\n",
       "      <td>CC(=O)c1ccnc(NC(=O)OC(C)(C)C)c1</td>\n",
       "      <td>[CH3:0][O:1][N:2]([CH3:3])[C:4](=[O:5])[c:6]1[...</td>\n",
       "      <td>[CH3:0][C:1](=[O:2])[c:3]1[cH:4][cH:5][n:6][cH...</td>\n",
       "      <td>[CH3:0][O:1][NH:2][CH3:3]</td>\n",
       "      <td>[CH4:0]</td>\n",
       "      <td>2</td>\n",
       "      <td>0</td>\n",
       "      <td>[[1.0]]</td>\n",
       "      <td>[[1.0]]</td>\n",
       "      <td>14436</td>\n",
       "    </tr>\n",
       "    <tr>\n",
       "      <th>125331</th>\n",
       "      <td>CON(C)C(=O)c1cc(NS(=O)(=O)c2ccc(Cl)cc2Cl)ncc1S...</td>\n",
       "      <td>CCCC(=O)c1cc(NS(=O)(=O)c2ccc(Cl)cc2Cl)ncc1Sc1c...</td>\n",
       "      <td>[CH3:0][O:1][N:2]([CH3:3])[C:4](=[O:5])[c:6]1[...</td>\n",
       "      <td>[CH3:0][CH2:1][CH2:2][C:3](=[O:4])[c:5]1[cH:6]...</td>\n",
       "      <td>[CH3:0][O:1][NH:2][CH3:3]</td>\n",
       "      <td>[CH3:0][CH2:1][CH3:2]</td>\n",
       "      <td>2</td>\n",
       "      <td>2</td>\n",
       "      <td>[[1.0]]</td>\n",
       "      <td>[[1.0]]</td>\n",
       "      <td>14436</td>\n",
       "    </tr>\n",
       "    <tr>\n",
       "      <th>392499</th>\n",
       "      <td>CON(C)C(=O)c1ccncc1</td>\n",
       "      <td>CC(C)(C#CC(=O)c1ccncc1)O[Si](C)(C)C</td>\n",
       "      <td>[CH3:0][O:1][N:2]([CH3:3])[C:4](=[O:5])[c:6]1[...</td>\n",
       "      <td>[CH3:0][C:1]([CH3:2])([C:3]#[C:4][C:5](=[O:6])...</td>\n",
       "      <td>[CH3:0][O:1][NH:2][CH3:3]</td>\n",
       "      <td>[CH3:0][C:1]([CH3:2])([C:3]#[CH:4])[O:13][Si:1...</td>\n",
       "      <td>2</td>\n",
       "      <td>4</td>\n",
       "      <td>[[1.0]]</td>\n",
       "      <td>[[1.0]]</td>\n",
       "      <td>14436</td>\n",
       "    </tr>\n",
       "  </tbody>\n",
       "</table>\n",
       "</div>"
      ],
      "text/plain": [
       "                                                reactants  \\\n",
       "16397   CON(C)C(=O)c1cc(NS(=O)(=O)c2ccc(Cl)cc2Cl)ncc1S...   \n",
       "21011                                 CON(C)C(=O)c1ccncc1   \n",
       "23151                CON(C)C(=O)c1ccnc(NC(=O)OC(C)(C)C)c1   \n",
       "125331  CON(C)C(=O)c1cc(NS(=O)(=O)c2ccc(Cl)cc2Cl)ncc1S...   \n",
       "392499                                CON(C)C(=O)c1ccncc1   \n",
       "\n",
       "                                                 products  \\\n",
       "16397   O=Cc1cc(NS(=O)(=O)c2ccc(Cl)cc2Cl)ncc1Sc1ccc(S(...   \n",
       "21011                         COc1cccc(C(=O)c2ccncc2)c1OC   \n",
       "23151                     CC(=O)c1ccnc(NC(=O)OC(C)(C)C)c1   \n",
       "125331  CCCC(=O)c1cc(NS(=O)(=O)c2ccc(Cl)cc2Cl)ncc1Sc1c...   \n",
       "392499                CC(C)(C#CC(=O)c1ccncc1)O[Si](C)(C)C   \n",
       "\n",
       "                                                     rsig  \\\n",
       "16397   [CH3:0][O:1][N:2]([CH3:3])[C:4](=[O:5])[c:6]1[...   \n",
       "21011   [CH3:0][O:1][N:2]([CH3:3])[C:4](=[O:5])[c:6]1[...   \n",
       "23151   [CH3:0][O:1][N:2]([CH3:3])[C:4](=[O:5])[c:6]1[...   \n",
       "125331  [CH3:0][O:1][N:2]([CH3:3])[C:4](=[O:5])[c:6]1[...   \n",
       "392499  [CH3:0][O:1][N:2]([CH3:3])[C:4](=[O:5])[c:6]1[...   \n",
       "\n",
       "                                                     psig  \\\n",
       "16397                                               [H:0]   \n",
       "21011   [CH3:0][O:1][c:2]1[cH:3][cH:4][cH:5][c:6]([C:7...   \n",
       "23151   [CH3:0][C:1](=[O:2])[c:3]1[cH:4][cH:5][n:6][cH...   \n",
       "125331  [CH3:0][CH2:1][CH2:2][C:3](=[O:4])[c:5]1[cH:6]...   \n",
       "392499  [CH3:0][C:1]([CH3:2])([C:3]#[C:4][C:5](=[O:6])...   \n",
       "\n",
       "                             rsub  \\\n",
       "16397   [CH3:0][O:1][NH:2][CH3:3]   \n",
       "21011   [CH3:0][O:1][NH:2][CH3:3]   \n",
       "23151   [CH3:0][O:1][NH:2][CH3:3]   \n",
       "125331  [CH3:0][O:1][NH:2][CH3:3]   \n",
       "392499  [CH3:0][O:1][NH:2][CH3:3]   \n",
       "\n",
       "                                                     psub  rcen  pcen  \\\n",
       "16397                                               [H:0]     2     0   \n",
       "21011   [CH3:0][O:1][c:2]1[cH:3][cH:4][cH:5][cH:6][c:1...     2     6   \n",
       "23151                                             [CH4:0]     2     0   \n",
       "125331                              [CH3:0][CH2:1][CH3:2]     2     2   \n",
       "392499  [CH3:0][C:1]([CH3:2])([C:3]#[CH:4])[O:13][Si:1...     2     4   \n",
       "\n",
       "          rbond    pbond  rsig_clusters  \n",
       "16397   [[1.0]]  [[1.0]]          14436  \n",
       "21011   [[1.0]]  [[1.0]]          14436  \n",
       "23151   [[1.0]]  [[1.0]]          14436  \n",
       "125331  [[1.0]]  [[1.0]]          14436  \n",
       "392499  [[1.0]]  [[1.0]]          14436  "
      ]
     },
     "metadata": {},
     "output_type": "display_data"
    },
    {
     "data": {
      "image/png": "[encoded data removed]",
      "text/plain": [
       "<rdkit.Chem.rdchem.Mol at 0x7f228b4fa580>"
      ]
     },
     "metadata": {},
     "output_type": "display_data"
    },
    {
     "data": {
      "text/html": [
       "<div>\n",
       "<style scoped>\n",
       "    .dataframe tbody tr th:only-of-type {\n",
       "        vertical-align: middle;\n",
       "    }\n",
       "\n",
       "    .dataframe tbody tr th {\n",
       "        vertical-align: top;\n",
       "    }\n",
       "\n",
       "    .dataframe thead th {\n",
       "        text-align: right;\n",
       "    }\n",
       "</style>\n",
       "<table border=\"1\" class=\"dataframe\">\n",
       "  <thead>\n",
       "    <tr style=\"text-align: right;\">\n",
       "      <th></th>\n",
       "      <th>reactants</th>\n",
       "      <th>products</th>\n",
       "      <th>rsig</th>\n",
       "      <th>psig</th>\n",
       "      <th>rsub</th>\n",
       "      <th>psub</th>\n",
       "      <th>rcen</th>\n",
       "      <th>pcen</th>\n",
       "      <th>rbond</th>\n",
       "      <th>pbond</th>\n",
       "      <th>rsig_clusters</th>\n",
       "    </tr>\n",
       "  </thead>\n",
       "  <tbody>\n",
       "    <tr>\n",
       "      <th>206267</th>\n",
       "      <td>CCN(CC)C(=O)c1c(C(=O)N(C)OC)ccnc1OC</td>\n",
       "      <td>CCN(CC)C(=O)c1c(C(=O)c2cc3cnccc3n2S(=O)(=O)c2c...</td>\n",
       "      <td>[cH:0]1[c:1]([C:2](=[O:3])[N:4]([CH3:5])[O:6][...</td>\n",
       "      <td>[cH:0]1[c:1]([C:2](=[O:3])[c:4]2[cH:5][c:6]3[c...</td>\n",
       "      <td>[NH:4]([CH3:5])[O:6][CH3:7]</td>\n",
       "      <td>[cH:4]1[cH:5][c:6]2[cH:7][n:8][cH:9][cH:10][c:...</td>\n",
       "      <td>4</td>\n",
       "      <td>4</td>\n",
       "      <td>[[1.0]]</td>\n",
       "      <td>[[1.0]]</td>\n",
       "      <td>181219</td>\n",
       "    </tr>\n",
       "  </tbody>\n",
       "</table>\n",
       "</div>"
      ],
      "text/plain": [
       "                                  reactants  \\\n",
       "206267  CCN(CC)C(=O)c1c(C(=O)N(C)OC)ccnc1OC   \n",
       "\n",
       "                                                 products  \\\n",
       "206267  CCN(CC)C(=O)c1c(C(=O)c2cc3cnccc3n2S(=O)(=O)c2c...   \n",
       "\n",
       "                                                     rsig  \\\n",
       "206267  [cH:0]1[c:1]([C:2](=[O:3])[N:4]([CH3:5])[O:6][...   \n",
       "\n",
       "                                                     psig  \\\n",
       "206267  [cH:0]1[c:1]([C:2](=[O:3])[c:4]2[cH:5][c:6]3[c...   \n",
       "\n",
       "                               rsub  \\\n",
       "206267  [NH:4]([CH3:5])[O:6][CH3:7]   \n",
       "\n",
       "                                                     psub  rcen  pcen  \\\n",
       "206267  [cH:4]1[cH:5][c:6]2[cH:7][n:8][cH:9][cH:10][c:...     4     4   \n",
       "\n",
       "          rbond    pbond  rsig_clusters  \n",
       "206267  [[1.0]]  [[1.0]]         181219  "
      ]
     },
     "metadata": {},
     "output_type": "display_data"
    },
    {
     "data": {
      "image/png": "[encoded data removed]",
      "text/plain": [
       "<rdkit.Chem.rdchem.Mol at 0x7f228afc0300>"
      ]
     },
     "metadata": {},
     "output_type": "display_data"
    },
    {
     "data": {
      "text/html": [
       "<div>\n",
       "<style scoped>\n",
       "    .dataframe tbody tr th:only-of-type {\n",
       "        vertical-align: middle;\n",
       "    }\n",
       "\n",
       "    .dataframe tbody tr th {\n",
       "        vertical-align: top;\n",
       "    }\n",
       "\n",
       "    .dataframe thead th {\n",
       "        text-align: right;\n",
       "    }\n",
       "</style>\n",
       "<table border=\"1\" class=\"dataframe\">\n",
       "  <thead>\n",
       "    <tr style=\"text-align: right;\">\n",
       "      <th></th>\n",
       "      <th>reactants</th>\n",
       "      <th>products</th>\n",
       "      <th>rsig</th>\n",
       "      <th>psig</th>\n",
       "      <th>rsub</th>\n",
       "      <th>psub</th>\n",
       "      <th>rcen</th>\n",
       "      <th>pcen</th>\n",
       "      <th>rbond</th>\n",
       "      <th>pbond</th>\n",
       "      <th>rsig_clusters</th>\n",
       "    </tr>\n",
       "  </thead>\n",
       "  <tbody>\n",
       "    <tr>\n",
       "      <th>408005</th>\n",
       "      <td>COc1cc(C(=O)N(C)OC)cc(N=C(c2ccccc2)c2ccccc2)n1</td>\n",
       "      <td>COc1cc(C(=O)c2cn(C(C)C)c3ncnc(Cl)c23)cc(N=C(c2...</td>\n",
       "      <td>[cH:0]1[cH:1][c:2]([C:3](=[O:4])[N:5]([CH3:6])...</td>\n",
       "      <td>[cH:0]1[cH:1][c:2]([C:3](=[O:4])[c:5]2[cH:6][n...</td>\n",
       "      <td>[NH:5]([CH3:6])[O:7][CH3:8]</td>\n",
       "      <td>[cH:5]1[cH:6][n:7]([CH:8]([CH3:9])[CH3:10])[c:...</td>\n",
       "      <td>5</td>\n",
       "      <td>5</td>\n",
       "      <td>[[1.0]]</td>\n",
       "      <td>[[1.0]]</td>\n",
       "      <td>358364</td>\n",
       "    </tr>\n",
       "  </tbody>\n",
       "</table>\n",
       "</div>"
      ],
      "text/plain": [
       "                                             reactants  \\\n",
       "408005  COc1cc(C(=O)N(C)OC)cc(N=C(c2ccccc2)c2ccccc2)n1   \n",
       "\n",
       "                                                 products  \\\n",
       "408005  COc1cc(C(=O)c2cn(C(C)C)c3ncnc(Cl)c23)cc(N=C(c2...   \n",
       "\n",
       "                                                     rsig  \\\n",
       "408005  [cH:0]1[cH:1][c:2]([C:3](=[O:4])[N:5]([CH3:6])...   \n",
       "\n",
       "                                                     psig  \\\n",
       "408005  [cH:0]1[cH:1][c:2]([C:3](=[O:4])[c:5]2[cH:6][n...   \n",
       "\n",
       "                               rsub  \\\n",
       "408005  [NH:5]([CH3:6])[O:7][CH3:8]   \n",
       "\n",
       "                                                     psub  rcen  pcen  \\\n",
       "408005  [cH:5]1[cH:6][n:7]([CH:8]([CH3:9])[CH3:10])[c:...     5     5   \n",
       "\n",
       "          rbond    pbond  rsig_clusters  \n",
       "408005  [[1.0]]  [[1.0]]         358364  "
      ]
     },
     "metadata": {},
     "output_type": "display_data"
    },
    {
     "data": {
      "image/png": "[encoded data removed]",
      "text/plain": [
       "<rdkit.Chem.rdchem.Mol at 0x7f228afbbf80>"
      ]
     },
     "metadata": {},
     "output_type": "display_data"
    },
    {
     "data": {
      "text/html": [
       "<div>\n",
       "<style scoped>\n",
       "    .dataframe tbody tr th:only-of-type {\n",
       "        vertical-align: middle;\n",
       "    }\n",
       "\n",
       "    .dataframe tbody tr th {\n",
       "        vertical-align: top;\n",
       "    }\n",
       "\n",
       "    .dataframe thead th {\n",
       "        text-align: right;\n",
       "    }\n",
       "</style>\n",
       "<table border=\"1\" class=\"dataframe\">\n",
       "  <thead>\n",
       "    <tr style=\"text-align: right;\">\n",
       "      <th></th>\n",
       "      <th>reactants</th>\n",
       "      <th>products</th>\n",
       "      <th>rsig</th>\n",
       "      <th>psig</th>\n",
       "      <th>rsub</th>\n",
       "      <th>psub</th>\n",
       "      <th>rcen</th>\n",
       "      <th>pcen</th>\n",
       "      <th>rbond</th>\n",
       "      <th>pbond</th>\n",
       "      <th>rsig_clusters</th>\n",
       "    </tr>\n",
       "  </thead>\n",
       "  <tbody>\n",
       "    <tr>\n",
       "      <th>101601</th>\n",
       "      <td>CON(C)C(=O)c1ncc(Br)cc1F</td>\n",
       "      <td>O=Cc1ncc(Br)cc1F</td>\n",
       "      <td>[CH3:0][O:1][N:2]([CH3:3])[C:4](=[O:5])[c:6]1[...</td>\n",
       "      <td>[H:0]</td>\n",
       "      <td>[CH3:0][O:1][NH:2][CH3:3]</td>\n",
       "      <td>[H:0]</td>\n",
       "      <td>2</td>\n",
       "      <td>0</td>\n",
       "      <td>[[1.0]]</td>\n",
       "      <td>[[1.0]]</td>\n",
       "      <td>89401</td>\n",
       "    </tr>\n",
       "    <tr>\n",
       "      <th>106923</th>\n",
       "      <td>CON(C)C(=O)c1cccc(C)n1</td>\n",
       "      <td>Cc1ccc(CC(=O)c2cccc(C)n2)cc1</td>\n",
       "      <td>[CH3:0][O:1][N:2]([CH3:3])[C:4](=[O:5])[c:6]1[...</td>\n",
       "      <td>[CH3:0][c:1]1[cH:2][cH:3][c:4]([CH2:5][C:6](=[...</td>\n",
       "      <td>[CH3:0][O:1][NH:2][CH3:3]</td>\n",
       "      <td>[CH3:0][c:1]1[cH:2][cH:3][c:4]([CH3:5])[cH:14]...</td>\n",
       "      <td>2</td>\n",
       "      <td>5</td>\n",
       "      <td>[[1.0]]</td>\n",
       "      <td>[[1.0]]</td>\n",
       "      <td>89401</td>\n",
       "    </tr>\n",
       "    <tr>\n",
       "      <th>175514</th>\n",
       "      <td>CON(C)C(=O)c1ncccc1CSc1cccc(Cl)c1</td>\n",
       "      <td>CN1CCC(C(=O)c2ncccc2CSc2cccc(Cl)c2)CC1</td>\n",
       "      <td>[CH3:0][O:1][N:2]([CH3:3])[C:4](=[O:5])[c:6]1[...</td>\n",
       "      <td>[CH3:0][N:1]1[CH2:2][CH2:3][CH:4]([C:5](=[O:6]...</td>\n",
       "      <td>[CH3:0][O:1][NH:2][CH3:3]</td>\n",
       "      <td>[CH3:0][N:1]1[CH2:2][CH2:3][CH2:4][CH2:13][CH2...</td>\n",
       "      <td>2</td>\n",
       "      <td>4</td>\n",
       "      <td>[[1.0]]</td>\n",
       "      <td>[[1.0]]</td>\n",
       "      <td>89401</td>\n",
       "    </tr>\n",
       "    <tr>\n",
       "      <th>284428</th>\n",
       "      <td>CON(C)C(=O)c1cc(Cl)ccn1</td>\n",
       "      <td>CC(=O)c1cc(Cl)ccn1</td>\n",
       "      <td>[CH3:0][O:1][N:2]([CH3:3])[C:4](=[O:5])[c:6]1[...</td>\n",
       "      <td>[CH3:0][C:1](=[O:2])[c:3]1[cH:4][cH:5][cH:6][c...</td>\n",
       "      <td>[CH3:0][O:1][NH:2][CH3:3]</td>\n",
       "      <td>[CH4:0]</td>\n",
       "      <td>2</td>\n",
       "      <td>0</td>\n",
       "      <td>[[1.0]]</td>\n",
       "      <td>[[1.0]]</td>\n",
       "      <td>89401</td>\n",
       "    </tr>\n",
       "    <tr>\n",
       "      <th>433597</th>\n",
       "      <td>CON(C)C(=O)c1ncc(Cl)cc1NS(=O)(=O)c1ccc(Cl)c(C(...</td>\n",
       "      <td>O=C(c1ncc(Cl)cc1NS(=O)(=O)c1ccc(Cl)c(C(F)(F)F)...</td>\n",
       "      <td>[CH3:0][O:1][N:2]([CH3:3])[C:4](=[O:5])[c:6]1[...</td>\n",
       "      <td>[O:0]=[C:1]([c:2]1[n:3][cH:4][cH:5][cH:6][cH:7...</td>\n",
       "      <td>[CH3:0][O:1][NH:2][CH3:3]</td>\n",
       "      <td>[cH:8]1[cH:9][cH:10][n:11][c:12]2[nH:13][n:14]...</td>\n",
       "      <td>2</td>\n",
       "      <td>8</td>\n",
       "      <td>[[1.0]]</td>\n",
       "      <td>[[1.0]]</td>\n",
       "      <td>89401</td>\n",
       "    </tr>\n",
       "  </tbody>\n",
       "</table>\n",
       "</div>"
      ],
      "text/plain": [
       "                                                reactants  \\\n",
       "101601                           CON(C)C(=O)c1ncc(Br)cc1F   \n",
       "106923                             CON(C)C(=O)c1cccc(C)n1   \n",
       "175514                  CON(C)C(=O)c1ncccc1CSc1cccc(Cl)c1   \n",
       "284428                            CON(C)C(=O)c1cc(Cl)ccn1   \n",
       "433597  CON(C)C(=O)c1ncc(Cl)cc1NS(=O)(=O)c1ccc(Cl)c(C(...   \n",
       "\n",
       "                                                 products  \\\n",
       "101601                                   O=Cc1ncc(Br)cc1F   \n",
       "106923                       Cc1ccc(CC(=O)c2cccc(C)n2)cc1   \n",
       "175514             CN1CCC(C(=O)c2ncccc2CSc2cccc(Cl)c2)CC1   \n",
       "284428                                 CC(=O)c1cc(Cl)ccn1   \n",
       "433597  O=C(c1ncc(Cl)cc1NS(=O)(=O)c1ccc(Cl)c(C(F)(F)F)...   \n",
       "\n",
       "                                                     rsig  \\\n",
       "101601  [CH3:0][O:1][N:2]([CH3:3])[C:4](=[O:5])[c:6]1[...   \n",
       "106923  [CH3:0][O:1][N:2]([CH3:3])[C:4](=[O:5])[c:6]1[...   \n",
       "175514  [CH3:0][O:1][N:2]([CH3:3])[C:4](=[O:5])[c:6]1[...   \n",
       "284428  [CH3:0][O:1][N:2]([CH3:3])[C:4](=[O:5])[c:6]1[...   \n",
       "433597  [CH3:0][O:1][N:2]([CH3:3])[C:4](=[O:5])[c:6]1[...   \n",
       "\n",
       "                                                     psig  \\\n",
       "101601                                              [H:0]   \n",
       "106923  [CH3:0][c:1]1[cH:2][cH:3][c:4]([CH2:5][C:6](=[...   \n",
       "175514  [CH3:0][N:1]1[CH2:2][CH2:3][CH:4]([C:5](=[O:6]...   \n",
       "284428  [CH3:0][C:1](=[O:2])[c:3]1[cH:4][cH:5][cH:6][c...   \n",
       "433597  [O:0]=[C:1]([c:2]1[n:3][cH:4][cH:5][cH:6][cH:7...   \n",
       "\n",
       "                             rsub  \\\n",
       "101601  [CH3:0][O:1][NH:2][CH3:3]   \n",
       "106923  [CH3:0][O:1][NH:2][CH3:3]   \n",
       "175514  [CH3:0][O:1][NH:2][CH3:3]   \n",
       "284428  [CH3:0][O:1][NH:2][CH3:3]   \n",
       "433597  [CH3:0][O:1][NH:2][CH3:3]   \n",
       "\n",
       "                                                     psub  rcen  pcen  \\\n",
       "101601                                              [H:0]     2     0   \n",
       "106923  [CH3:0][c:1]1[cH:2][cH:3][c:4]([CH3:5])[cH:14]...     2     5   \n",
       "175514  [CH3:0][N:1]1[CH2:2][CH2:3][CH2:4][CH2:13][CH2...     2     4   \n",
       "284428                                            [CH4:0]     2     0   \n",
       "433597  [cH:8]1[cH:9][cH:10][n:11][c:12]2[nH:13][n:14]...     2     8   \n",
       "\n",
       "          rbond    pbond  rsig_clusters  \n",
       "101601  [[1.0]]  [[1.0]]          89401  \n",
       "106923  [[1.0]]  [[1.0]]          89401  \n",
       "175514  [[1.0]]  [[1.0]]          89401  \n",
       "284428  [[1.0]]  [[1.0]]          89401  \n",
       "433597  [[1.0]]  [[1.0]]          89401  "
      ]
     },
     "metadata": {},
     "output_type": "display_data"
    },
    {
     "data": {
      "image/png": "[encoded data removed]",
      "text/plain": [
       "<rdkit.Chem.rdchem.Mol at 0x7f228afb61c0>"
      ]
     },
     "metadata": {},
     "output_type": "display_data"
    },
    {
     "data": {
      "text/html": [
       "<div>\n",
       "<style scoped>\n",
       "    .dataframe tbody tr th:only-of-type {\n",
       "        vertical-align: middle;\n",
       "    }\n",
       "\n",
       "    .dataframe tbody tr th {\n",
       "        vertical-align: top;\n",
       "    }\n",
       "\n",
       "    .dataframe thead th {\n",
       "        text-align: right;\n",
       "    }\n",
       "</style>\n",
       "<table border=\"1\" class=\"dataframe\">\n",
       "  <thead>\n",
       "    <tr style=\"text-align: right;\">\n",
       "      <th></th>\n",
       "      <th>reactants</th>\n",
       "      <th>products</th>\n",
       "      <th>rsig</th>\n",
       "      <th>psig</th>\n",
       "      <th>rsub</th>\n",
       "      <th>psub</th>\n",
       "      <th>rcen</th>\n",
       "      <th>pcen</th>\n",
       "      <th>rbond</th>\n",
       "      <th>pbond</th>\n",
       "      <th>rsig_clusters</th>\n",
       "    </tr>\n",
       "  </thead>\n",
       "  <tbody>\n",
       "    <tr>\n",
       "      <th>188466</th>\n",
       "      <td>COc1cccnc1C(=O)N(C)OC</td>\n",
       "      <td>COc1cccnc1C(=O)c1cc(Br)cnc1F</td>\n",
       "      <td>[cH:0]1[cH:1][cH:2][cH:3][n:4][c:5]1[C:6](=[O:...</td>\n",
       "      <td>[cH:0]1[cH:1][cH:2][cH:3][n:4][c:5]1[C:6](=[O:...</td>\n",
       "      <td>[NH:8]([CH3:9])[O:10][CH3:11]</td>\n",
       "      <td>[cH:8]1[cH:9][c:10]([Br:11])[cH:12][n:13][c:14...</td>\n",
       "      <td>8</td>\n",
       "      <td>8</td>\n",
       "      <td>[[1.0]]</td>\n",
       "      <td>[[1.0]]</td>\n",
       "      <td>165672</td>\n",
       "    </tr>\n",
       "  </tbody>\n",
       "</table>\n",
       "</div>"
      ],
      "text/plain": [
       "                    reactants                      products  \\\n",
       "188466  COc1cccnc1C(=O)N(C)OC  COc1cccnc1C(=O)c1cc(Br)cnc1F   \n",
       "\n",
       "                                                     rsig  \\\n",
       "188466  [cH:0]1[cH:1][cH:2][cH:3][n:4][c:5]1[C:6](=[O:...   \n",
       "\n",
       "                                                     psig  \\\n",
       "188466  [cH:0]1[cH:1][cH:2][cH:3][n:4][c:5]1[C:6](=[O:...   \n",
       "\n",
       "                                 rsub  \\\n",
       "188466  [NH:8]([CH3:9])[O:10][CH3:11]   \n",
       "\n",
       "                                                     psub  rcen  pcen  \\\n",
       "188466  [cH:8]1[cH:9][c:10]([Br:11])[cH:12][n:13][c:14...     8     8   \n",
       "\n",
       "          rbond    pbond  rsig_clusters  \n",
       "188466  [[1.0]]  [[1.0]]         165672  "
      ]
     },
     "metadata": {},
     "output_type": "display_data"
    },
    {
     "data": {
      "image/png": "[encoded data removed]",
      "text/plain": [
       "<rdkit.Chem.rdchem.Mol at 0x7f228afad670>"
      ]
     },
     "metadata": {},
     "output_type": "display_data"
    },
    {
     "data": {
      "text/html": [
       "<div>\n",
       "<style scoped>\n",
       "    .dataframe tbody tr th:only-of-type {\n",
       "        vertical-align: middle;\n",
       "    }\n",
       "\n",
       "    .dataframe tbody tr th {\n",
       "        vertical-align: top;\n",
       "    }\n",
       "\n",
       "    .dataframe thead th {\n",
       "        text-align: right;\n",
       "    }\n",
       "</style>\n",
       "<table border=\"1\" class=\"dataframe\">\n",
       "  <thead>\n",
       "    <tr style=\"text-align: right;\">\n",
       "      <th></th>\n",
       "      <th>reactants</th>\n",
       "      <th>products</th>\n",
       "      <th>rsig</th>\n",
       "      <th>psig</th>\n",
       "      <th>rsub</th>\n",
       "      <th>psub</th>\n",
       "      <th>rcen</th>\n",
       "      <th>pcen</th>\n",
       "      <th>rbond</th>\n",
       "      <th>pbond</th>\n",
       "      <th>rsig_clusters</th>\n",
       "    </tr>\n",
       "  </thead>\n",
       "  <tbody>\n",
       "    <tr>\n",
       "      <th>2431</th>\n",
       "      <td>CON(C)C(=O)c1ccc(CO[Si](C(C)C)(C(C)C)C(C)C)cc1</td>\n",
       "      <td>CC(C)[Si](OCc1ccc(C(=O)Cc2ccncc2)cc1)(C(C)C)C(C)C</td>\n",
       "      <td>[CH3:0][O:1][N:2]([CH3:3])[C:4](=[O:5])[c:6]1[...</td>\n",
       "      <td>[cH:0]1[cH:1][cH:2][c:3]([C:4](=[O:5])[CH2:6][...</td>\n",
       "      <td>[CH3:0][O:1][NH:2][CH3:3]</td>\n",
       "      <td>[CH3:6][c:7]1[cH:8][cH:9][n:10][cH:11][cH:12]1</td>\n",
       "      <td>2</td>\n",
       "      <td>6</td>\n",
       "      <td>[[1.0]]</td>\n",
       "      <td>[[1.0]]</td>\n",
       "      <td>2123</td>\n",
       "    </tr>\n",
       "    <tr>\n",
       "      <th>102798</th>\n",
       "      <td>CON(C)C(=O)c1ccc(OCc2ccc3ccccc3n2)c(F)c1F</td>\n",
       "      <td>O=C(Cc1ccncc1)c1ccc(OCc2ccc3ccccc3n2)c(F)c1F</td>\n",
       "      <td>[CH3:0][O:1][N:2]([CH3:3])[C:4](=[O:5])[c:6]1[...</td>\n",
       "      <td>[O:0]=[C:1]([CH2:2][c:3]1[cH:4][cH:5][n:6][cH:...</td>\n",
       "      <td>[CH3:0][O:1][NH:2][CH3:3]</td>\n",
       "      <td>[CH3:2][c:3]1[cH:4][cH:5][n:6][cH:7][cH:8]1</td>\n",
       "      <td>2</td>\n",
       "      <td>2</td>\n",
       "      <td>[[1.0]]</td>\n",
       "      <td>[[1.0]]</td>\n",
       "      <td>2123</td>\n",
       "    </tr>\n",
       "    <tr>\n",
       "      <th>2520</th>\n",
       "      <td>CON(C)C(=O)c1cccc(F)c1C1CCN(C(=O)OC(C)(C)C)CC1</td>\n",
       "      <td>CC(C)(C)OC(=O)N1CCC(c2c(F)cccc2C=O)CC1</td>\n",
       "      <td>[CH3:0][O:1][N:2]([CH3:3])[C:4](=[O:5])[c:6]1[...</td>\n",
       "      <td>[H:0]</td>\n",
       "      <td>[CH3:0][O:1][NH:2][CH3:3]</td>\n",
       "      <td>[H:0]</td>\n",
       "      <td>2</td>\n",
       "      <td>0</td>\n",
       "      <td>[[1.0]]</td>\n",
       "      <td>[]</td>\n",
       "      <td>2123</td>\n",
       "    </tr>\n",
       "    <tr>\n",
       "      <th>2639</th>\n",
       "      <td>CON(C)C(=O)c1ccc(Br)cc1Cl</td>\n",
       "      <td>CC(=O)c1ccc(Br)cc1Cl</td>\n",
       "      <td>[CH3:0][O:1][N:2]([CH3:3])[C:4](=[O:5])[c:6]1[...</td>\n",
       "      <td>[CH3:0][C:1](=[O:2])[c:3]1[cH:4][cH:5][cH:6][c...</td>\n",
       "      <td>[CH3:0][O:1][NH:2][CH3:3]</td>\n",
       "      <td>[CH4:0]</td>\n",
       "      <td>2</td>\n",
       "      <td>0</td>\n",
       "      <td>[[1.0]]</td>\n",
       "      <td>[[1.0]]</td>\n",
       "      <td>2123</td>\n",
       "    </tr>\n",
       "    <tr>\n",
       "      <th>172356</th>\n",
       "      <td>CON(C)C(=O)c1cc(NC(C)=O)cc(S(F)(F)(F)(F)F)c1</td>\n",
       "      <td>CC(=O)Nc1cc(C(C)=O)cc(S(F)(F)(F)(F)F)c1</td>\n",
       "      <td>[CH3:0][O:1][N:2]([CH3:3])[C:4](=[O:5])[c:6]1[...</td>\n",
       "      <td>[cH:0]1[cH:1][c:2]([C:3]([CH3:4])=[O:5])[cH:6]...</td>\n",
       "      <td>[CH3:0][O:1][NH:2][CH3:3]</td>\n",
       "      <td>[CH4:4]</td>\n",
       "      <td>2</td>\n",
       "      <td>4</td>\n",
       "      <td>[[1.0]]</td>\n",
       "      <td>[[1.0]]</td>\n",
       "      <td>2123</td>\n",
       "    </tr>\n",
       "    <tr>\n",
       "      <th>...</th>\n",
       "      <td>...</td>\n",
       "      <td>...</td>\n",
       "      <td>...</td>\n",
       "      <td>...</td>\n",
       "      <td>...</td>\n",
       "      <td>...</td>\n",
       "      <td>...</td>\n",
       "      <td>...</td>\n",
       "      <td>...</td>\n",
       "      <td>...</td>\n",
       "      <td>...</td>\n",
       "    </tr>\n",
       "    <tr>\n",
       "      <th>424156</th>\n",
       "      <td>CON(C)C(=O)c1ccc(Cl)cc1</td>\n",
       "      <td>CCOC(=O)C1CCCC(C(=O)c2ccc(Cl)cc2)C1=O</td>\n",
       "      <td>[CH3:0][O:1][N:2]([CH3:3])[C:4](=[O:5])[c:6]1[...</td>\n",
       "      <td>[CH3:0][CH2:1][O:2][C:3](=[O:4])[CH:5]1[CH2:6]...</td>\n",
       "      <td>[CH3:0][O:1][NH:2][CH3:3]</td>\n",
       "      <td>[CH3:0][CH2:1][O:2][C:3](=[O:4])[CH:5]1[CH2:6]...</td>\n",
       "      <td>2</td>\n",
       "      <td>9</td>\n",
       "      <td>[[1.0]]</td>\n",
       "      <td>[[1.0]]</td>\n",
       "      <td>2123</td>\n",
       "    </tr>\n",
       "    <tr>\n",
       "      <th>432242</th>\n",
       "      <td>CON(C)C(=O)c1cccc(Br)c1</td>\n",
       "      <td>O=C(CCC(F)(F)F)c1cccc(Br)c1</td>\n",
       "      <td>[CH3:0][O:1][N:2]([CH3:3])[C:4](=[O:5])[c:6]1[...</td>\n",
       "      <td>[O:0]=[C:1]([CH2:2][CH2:3][C:4]([F:5])([F:6])[...</td>\n",
       "      <td>[CH3:0][O:1][NH:2][CH3:3]</td>\n",
       "      <td>[CH3:2][CH2:3][C:4]([F:5])([F:6])[F:7]</td>\n",
       "      <td>2</td>\n",
       "      <td>2</td>\n",
       "      <td>[[1.0]]</td>\n",
       "      <td>[[1.0]]</td>\n",
       "      <td>2123</td>\n",
       "    </tr>\n",
       "    <tr>\n",
       "      <th>432345</th>\n",
       "      <td>CON(C)C(=O)c1ccc(CN(Cc2ccccc2)c2cccc(NS(C)(=O)...</td>\n",
       "      <td>C=CCOc1cccc(C(=O)c2ccc(CN(Cc3ccccc3)c3cccc(NS(...</td>\n",
       "      <td>[CH3:0][O:1][N:2]([CH3:3])[C:4](=[O:5])[c:6]1[...</td>\n",
       "      <td>[CH2:0]=[CH:1][CH2:2][O:3][c:4]1[cH:5][cH:6][c...</td>\n",
       "      <td>[CH3:0][O:1][NH:2][CH3:3]</td>\n",
       "      <td>[CH2:0]=[CH:1][CH2:2][O:3][c:4]1[cH:5][cH:6][c...</td>\n",
       "      <td>2</td>\n",
       "      <td>8</td>\n",
       "      <td>[[1.0]]</td>\n",
       "      <td>[[1.0]]</td>\n",
       "      <td>2123</td>\n",
       "    </tr>\n",
       "    <tr>\n",
       "      <th>434038</th>\n",
       "      <td>CON(C)C(=O)c1ccc(Br)cc1</td>\n",
       "      <td>O=C(c1ccc(Br)cc1)c1ccc(N2CCOCC2)cc1</td>\n",
       "      <td>[CH3:0][O:1][N:2]([CH3:3])[C:4](=[O:5])[c:6]1[...</td>\n",
       "      <td>[O:0]=[C:1]([c:2]1[cH:3][cH:4][cH:5][cH:6][cH:...</td>\n",
       "      <td>[CH3:0][O:1][NH:2][CH3:3]</td>\n",
       "      <td>[cH:8]1[cH:9][cH:10][c:11]([N:12]2[CH2:13][CH2...</td>\n",
       "      <td>2</td>\n",
       "      <td>8</td>\n",
       "      <td>[[1.0]]</td>\n",
       "      <td>[[1.0]]</td>\n",
       "      <td>2123</td>\n",
       "    </tr>\n",
       "    <tr>\n",
       "      <th>444365</th>\n",
       "      <td>CON(C)C(=O)c1ccc(Cl)c(Cl)c1</td>\n",
       "      <td>O=C(C#CCOC1CCCCO1)c1ccc(Cl)c(Cl)c1</td>\n",
       "      <td>[CH3:0][O:1][N:2]([CH3:3])[C:4](=[O:5])[c:6]1[...</td>\n",
       "      <td>[O:0]=[C:1]([C:2]#[C:3][CH2:4][O:5][CH:6]1[CH2...</td>\n",
       "      <td>[CH3:0][O:1][NH:2][CH3:3]</td>\n",
       "      <td>[CH:2]#[C:3][CH2:4][O:5][CH:6]1[CH2:7][CH2:8][...</td>\n",
       "      <td>2</td>\n",
       "      <td>2</td>\n",
       "      <td>[[1.0]]</td>\n",
       "      <td>[[1.0]]</td>\n",
       "      <td>2123</td>\n",
       "    </tr>\n",
       "  </tbody>\n",
       "</table>\n",
       "<p>66 rows × 11 columns</p>\n",
       "</div>"
      ],
      "text/plain": [
       "                                                reactants  \\\n",
       "2431       CON(C)C(=O)c1ccc(CO[Si](C(C)C)(C(C)C)C(C)C)cc1   \n",
       "102798          CON(C)C(=O)c1ccc(OCc2ccc3ccccc3n2)c(F)c1F   \n",
       "2520       CON(C)C(=O)c1cccc(F)c1C1CCN(C(=O)OC(C)(C)C)CC1   \n",
       "2639                            CON(C)C(=O)c1ccc(Br)cc1Cl   \n",
       "172356       CON(C)C(=O)c1cc(NC(C)=O)cc(S(F)(F)(F)(F)F)c1   \n",
       "...                                                   ...   \n",
       "424156                            CON(C)C(=O)c1ccc(Cl)cc1   \n",
       "432242                            CON(C)C(=O)c1cccc(Br)c1   \n",
       "432345  CON(C)C(=O)c1ccc(CN(Cc2ccccc2)c2cccc(NS(C)(=O)...   \n",
       "434038                            CON(C)C(=O)c1ccc(Br)cc1   \n",
       "444365                        CON(C)C(=O)c1ccc(Cl)c(Cl)c1   \n",
       "\n",
       "                                                 products  \\\n",
       "2431    CC(C)[Si](OCc1ccc(C(=O)Cc2ccncc2)cc1)(C(C)C)C(C)C   \n",
       "102798       O=C(Cc1ccncc1)c1ccc(OCc2ccc3ccccc3n2)c(F)c1F   \n",
       "2520               CC(C)(C)OC(=O)N1CCC(c2c(F)cccc2C=O)CC1   \n",
       "2639                                 CC(=O)c1ccc(Br)cc1Cl   \n",
       "172356            CC(=O)Nc1cc(C(C)=O)cc(S(F)(F)(F)(F)F)c1   \n",
       "...                                                   ...   \n",
       "424156              CCOC(=O)C1CCCC(C(=O)c2ccc(Cl)cc2)C1=O   \n",
       "432242                        O=C(CCC(F)(F)F)c1cccc(Br)c1   \n",
       "432345  C=CCOc1cccc(C(=O)c2ccc(CN(Cc3ccccc3)c3cccc(NS(...   \n",
       "434038                O=C(c1ccc(Br)cc1)c1ccc(N2CCOCC2)cc1   \n",
       "444365                 O=C(C#CCOC1CCCCO1)c1ccc(Cl)c(Cl)c1   \n",
       "\n",
       "                                                     rsig  \\\n",
       "2431    [CH3:0][O:1][N:2]([CH3:3])[C:4](=[O:5])[c:6]1[...   \n",
       "102798  [CH3:0][O:1][N:2]([CH3:3])[C:4](=[O:5])[c:6]1[...   \n",
       "2520    [CH3:0][O:1][N:2]([CH3:3])[C:4](=[O:5])[c:6]1[...   \n",
       "2639    [CH3:0][O:1][N:2]([CH3:3])[C:4](=[O:5])[c:6]1[...   \n",
       "172356  [CH3:0][O:1][N:2]([CH3:3])[C:4](=[O:5])[c:6]1[...   \n",
       "...                                                   ...   \n",
       "424156  [CH3:0][O:1][N:2]([CH3:3])[C:4](=[O:5])[c:6]1[...   \n",
       "432242  [CH3:0][O:1][N:2]([CH3:3])[C:4](=[O:5])[c:6]1[...   \n",
       "432345  [CH3:0][O:1][N:2]([CH3:3])[C:4](=[O:5])[c:6]1[...   \n",
       "434038  [CH3:0][O:1][N:2]([CH3:3])[C:4](=[O:5])[c:6]1[...   \n",
       "444365  [CH3:0][O:1][N:2]([CH3:3])[C:4](=[O:5])[c:6]1[...   \n",
       "\n",
       "                                                     psig  \\\n",
       "2431    [cH:0]1[cH:1][cH:2][c:3]([C:4](=[O:5])[CH2:6][...   \n",
       "102798  [O:0]=[C:1]([CH2:2][c:3]1[cH:4][cH:5][n:6][cH:...   \n",
       "2520                                                [H:0]   \n",
       "2639    [CH3:0][C:1](=[O:2])[c:3]1[cH:4][cH:5][cH:6][c...   \n",
       "172356  [cH:0]1[cH:1][c:2]([C:3]([CH3:4])=[O:5])[cH:6]...   \n",
       "...                                                   ...   \n",
       "424156  [CH3:0][CH2:1][O:2][C:3](=[O:4])[CH:5]1[CH2:6]...   \n",
       "432242  [O:0]=[C:1]([CH2:2][CH2:3][C:4]([F:5])([F:6])[...   \n",
       "432345  [CH2:0]=[CH:1][CH2:2][O:3][c:4]1[cH:5][cH:6][c...   \n",
       "434038  [O:0]=[C:1]([c:2]1[cH:3][cH:4][cH:5][cH:6][cH:...   \n",
       "444365  [O:0]=[C:1]([C:2]#[C:3][CH2:4][O:5][CH:6]1[CH2...   \n",
       "\n",
       "                             rsub  \\\n",
       "2431    [CH3:0][O:1][NH:2][CH3:3]   \n",
       "102798  [CH3:0][O:1][NH:2][CH3:3]   \n",
       "2520    [CH3:0][O:1][NH:2][CH3:3]   \n",
       "2639    [CH3:0][O:1][NH:2][CH3:3]   \n",
       "172356  [CH3:0][O:1][NH:2][CH3:3]   \n",
       "...                           ...   \n",
       "424156  [CH3:0][O:1][NH:2][CH3:3]   \n",
       "432242  [CH3:0][O:1][NH:2][CH3:3]   \n",
       "432345  [CH3:0][O:1][NH:2][CH3:3]   \n",
       "434038  [CH3:0][O:1][NH:2][CH3:3]   \n",
       "444365  [CH3:0][O:1][NH:2][CH3:3]   \n",
       "\n",
       "                                                     psub  rcen  pcen  \\\n",
       "2431       [CH3:6][c:7]1[cH:8][cH:9][n:10][cH:11][cH:12]1     2     6   \n",
       "102798        [CH3:2][c:3]1[cH:4][cH:5][n:6][cH:7][cH:8]1     2     2   \n",
       "2520                                                [H:0]     2     0   \n",
       "2639                                              [CH4:0]     2     0   \n",
       "172356                                            [CH4:4]     2     4   \n",
       "...                                                   ...   ...   ...   \n",
       "424156  [CH3:0][CH2:1][O:2][C:3](=[O:4])[CH:5]1[CH2:6]...     2     9   \n",
       "432242             [CH3:2][CH2:3][C:4]([F:5])([F:6])[F:7]     2     2   \n",
       "432345  [CH2:0]=[CH:1][CH2:2][O:3][c:4]1[cH:5][cH:6][c...     2     8   \n",
       "434038  [cH:8]1[cH:9][cH:10][c:11]([N:12]2[CH2:13][CH2...     2     8   \n",
       "444365  [CH:2]#[C:3][CH2:4][O:5][CH:6]1[CH2:7][CH2:8][...     2     2   \n",
       "\n",
       "          rbond    pbond  rsig_clusters  \n",
       "2431    [[1.0]]  [[1.0]]           2123  \n",
       "102798  [[1.0]]  [[1.0]]           2123  \n",
       "2520    [[1.0]]       []           2123  \n",
       "2639    [[1.0]]  [[1.0]]           2123  \n",
       "172356  [[1.0]]  [[1.0]]           2123  \n",
       "...         ...      ...            ...  \n",
       "424156  [[1.0]]  [[1.0]]           2123  \n",
       "432242  [[1.0]]  [[1.0]]           2123  \n",
       "432345  [[1.0]]  [[1.0]]           2123  \n",
       "434038  [[1.0]]  [[1.0]]           2123  \n",
       "444365  [[1.0]]  [[1.0]]           2123  \n",
       "\n",
       "[66 rows x 11 columns]"
      ]
     },
     "metadata": {},
     "output_type": "display_data"
    },
    {
     "data": {
      "image/png": "[encoded data removed]",
      "text/plain": [
       "<rdkit.Chem.rdchem.Mol at 0x7f228839a760>"
      ]
     },
     "metadata": {},
     "output_type": "display_data"
    },
    {
     "data": {
      "text/html": [
       "<div>\n",
       "<style scoped>\n",
       "    .dataframe tbody tr th:only-of-type {\n",
       "        vertical-align: middle;\n",
       "    }\n",
       "\n",
       "    .dataframe tbody tr th {\n",
       "        vertical-align: top;\n",
       "    }\n",
       "\n",
       "    .dataframe thead th {\n",
       "        text-align: right;\n",
       "    }\n",
       "</style>\n",
       "<table border=\"1\" class=\"dataframe\">\n",
       "  <thead>\n",
       "    <tr style=\"text-align: right;\">\n",
       "      <th></th>\n",
       "      <th>reactants</th>\n",
       "      <th>products</th>\n",
       "      <th>rsig</th>\n",
       "      <th>psig</th>\n",
       "      <th>rsub</th>\n",
       "      <th>psub</th>\n",
       "      <th>rcen</th>\n",
       "      <th>pcen</th>\n",
       "      <th>rbond</th>\n",
       "      <th>pbond</th>\n",
       "      <th>rsig_clusters</th>\n",
       "    </tr>\n",
       "  </thead>\n",
       "  <tbody>\n",
       "    <tr>\n",
       "      <th>11940</th>\n",
       "      <td>COCOc1ccc2c(c1C(=O)N(C)OC)OCO2</td>\n",
       "      <td>COCOc1ccc2c(c1C(C)=O)OCO2</td>\n",
       "      <td>[cH:0]1[cH:1][cH:2][cH:3][cH:4][c:5]1[C:6](=[O...</td>\n",
       "      <td>[cH:0]1[cH:1][cH:2][cH:3][cH:4][c:5]1[C:6]([CH...</td>\n",
       "      <td>[NH:8]([CH3:9])[O:10][CH3:11]</td>\n",
       "      <td>[CH4:7]</td>\n",
       "      <td>8</td>\n",
       "      <td>7</td>\n",
       "      <td>[[1.0]]</td>\n",
       "      <td>[[1.0]]</td>\n",
       "      <td>10525</td>\n",
       "    </tr>\n",
       "    <tr>\n",
       "      <th>34685</th>\n",
       "      <td>CCCCOc1cc(C(F)(F)F)ccc1C(=O)N(C)OC</td>\n",
       "      <td>CCCCOc1cc(C(F)(F)F)ccc1C=O</td>\n",
       "      <td>[cH:0]1[cH:1][cH:2][cH:3][cH:4][c:5]1[C:6](=[O...</td>\n",
       "      <td>[H:0]</td>\n",
       "      <td>[NH:8]([CH3:9])[O:10][CH3:11]</td>\n",
       "      <td>[H:0]</td>\n",
       "      <td>8</td>\n",
       "      <td>0</td>\n",
       "      <td>[[1.0]]</td>\n",
       "      <td>[[1.0]]</td>\n",
       "      <td>10525</td>\n",
       "    </tr>\n",
       "    <tr>\n",
       "      <th>103016</th>\n",
       "      <td>CCCCC#Cc1ccccc1C(=O)N(C)OC</td>\n",
       "      <td>CCCCC#Cc1ccccc1C(=O)Cc1ccccc1</td>\n",
       "      <td>[cH:0]1[cH:1][cH:2][cH:3][cH:4][c:5]1[C:6](=[O...</td>\n",
       "      <td>[cH:0]1[cH:1][cH:2][cH:3][cH:4][c:5]1[C:6](=[O...</td>\n",
       "      <td>[NH:8]([CH3:9])[O:10][CH3:11]</td>\n",
       "      <td>[CH3:8][c:9]1[cH:10][cH:11][cH:12][cH:13][cH:14]1</td>\n",
       "      <td>8</td>\n",
       "      <td>8</td>\n",
       "      <td>[[1.0]]</td>\n",
       "      <td>[[1.0]]</td>\n",
       "      <td>10525</td>\n",
       "    </tr>\n",
       "    <tr>\n",
       "      <th>241912</th>\n",
       "      <td>CCCCNc1cc(F)ccc1C(=O)N(C)OC</td>\n",
       "      <td>CCCCNc1cc(F)ccc1C=CC(=O)OC</td>\n",
       "      <td>[cH:0]1[cH:1][cH:2][cH:3][cH:4][c:5]1[C:6](=[O...</td>\n",
       "      <td>[cH:0]1[cH:1][cH:2][cH:3][cH:4][c:5]1[CH:6]=[C...</td>\n",
       "      <td>[CH:6](=[O:7])[N:8]([CH3:9])[O:10][CH3:11]</td>\n",
       "      <td>[CH2:6]=[CH:7][C:8](=[O:9])[O:10][CH3:11]</td>\n",
       "      <td>6</td>\n",
       "      <td>6</td>\n",
       "      <td>[[1.0]]</td>\n",
       "      <td>[[1.0]]</td>\n",
       "      <td>10525</td>\n",
       "    </tr>\n",
       "    <tr>\n",
       "      <th>337700</th>\n",
       "      <td>COc1cc(N)c(Cl)cc1C(=O)N(C)OC</td>\n",
       "      <td>COc1cc(N)c(Cl)cc1C(=O)CCCCCl</td>\n",
       "      <td>[cH:0]1[cH:1][cH:2][cH:3][cH:4][c:5]1[C:6](=[O...</td>\n",
       "      <td>[cH:0]1[cH:1][cH:2][cH:3][cH:4][c:5]1[C:6](=[O...</td>\n",
       "      <td>[NH:8]([CH3:9])[O:10][CH3:11]</td>\n",
       "      <td>[CH3:8][CH2:9][CH2:10][CH2:11][Cl:12]</td>\n",
       "      <td>8</td>\n",
       "      <td>8</td>\n",
       "      <td>[[1.0]]</td>\n",
       "      <td>[[1.0]]</td>\n",
       "      <td>10525</td>\n",
       "    </tr>\n",
       "    <tr>\n",
       "      <th>365338</th>\n",
       "      <td>CCCCC#Cc1ccccc1C(=O)N(C)OC</td>\n",
       "      <td>CCCCC#Cc1ccccc1C(=O)Cc1ccc(F)cc1</td>\n",
       "      <td>[cH:0]1[cH:1][cH:2][cH:3][cH:4][c:5]1[C:6](=[O...</td>\n",
       "      <td>[cH:0]1[cH:1][cH:2][cH:3][cH:4][c:5]1[C:6](=[O...</td>\n",
       "      <td>[NH:8]([CH3:9])[O:10][CH3:11]</td>\n",
       "      <td>[CH3:8][c:9]1[cH:10][cH:11][c:12]([F:13])[cH:1...</td>\n",
       "      <td>8</td>\n",
       "      <td>8</td>\n",
       "      <td>[[1.0]]</td>\n",
       "      <td>[[1.0]]</td>\n",
       "      <td>10525</td>\n",
       "    </tr>\n",
       "    <tr>\n",
       "      <th>408155</th>\n",
       "      <td>CCCCC#Cc1ccccc1C(=O)N(C)OC</td>\n",
       "      <td>CCCCC#Cc1ccccc1C(=O)Cc1ccc(OC)cc1</td>\n",
       "      <td>[cH:0]1[cH:1][cH:2][cH:3][cH:4][c:5]1[C:6](=[O...</td>\n",
       "      <td>[cH:0]1[cH:1][cH:2][cH:3][cH:4][c:5]1[C:6](=[O...</td>\n",
       "      <td>[NH:8]([CH3:9])[O:10][CH3:11]</td>\n",
       "      <td>[CH3:8][c:9]1[cH:10][cH:11][c:12]([O:13][CH3:1...</td>\n",
       "      <td>8</td>\n",
       "      <td>8</td>\n",
       "      <td>[[1.0]]</td>\n",
       "      <td>[[1.0]]</td>\n",
       "      <td>10525</td>\n",
       "    </tr>\n",
       "  </tbody>\n",
       "</table>\n",
       "</div>"
      ],
      "text/plain": [
       "                                 reactants                           products  \\\n",
       "11940       COCOc1ccc2c(c1C(=O)N(C)OC)OCO2          COCOc1ccc2c(c1C(C)=O)OCO2   \n",
       "34685   CCCCOc1cc(C(F)(F)F)ccc1C(=O)N(C)OC         CCCCOc1cc(C(F)(F)F)ccc1C=O   \n",
       "103016          CCCCC#Cc1ccccc1C(=O)N(C)OC      CCCCC#Cc1ccccc1C(=O)Cc1ccccc1   \n",
       "241912         CCCCNc1cc(F)ccc1C(=O)N(C)OC         CCCCNc1cc(F)ccc1C=CC(=O)OC   \n",
       "337700        COc1cc(N)c(Cl)cc1C(=O)N(C)OC       COc1cc(N)c(Cl)cc1C(=O)CCCCCl   \n",
       "365338          CCCCC#Cc1ccccc1C(=O)N(C)OC   CCCCC#Cc1ccccc1C(=O)Cc1ccc(F)cc1   \n",
       "408155          CCCCC#Cc1ccccc1C(=O)N(C)OC  CCCCC#Cc1ccccc1C(=O)Cc1ccc(OC)cc1   \n",
       "\n",
       "                                                     rsig  \\\n",
       "11940   [cH:0]1[cH:1][cH:2][cH:3][cH:4][c:5]1[C:6](=[O...   \n",
       "34685   [cH:0]1[cH:1][cH:2][cH:3][cH:4][c:5]1[C:6](=[O...   \n",
       "103016  [cH:0]1[cH:1][cH:2][cH:3][cH:4][c:5]1[C:6](=[O...   \n",
       "241912  [cH:0]1[cH:1][cH:2][cH:3][cH:4][c:5]1[C:6](=[O...   \n",
       "337700  [cH:0]1[cH:1][cH:2][cH:3][cH:4][c:5]1[C:6](=[O...   \n",
       "365338  [cH:0]1[cH:1][cH:2][cH:3][cH:4][c:5]1[C:6](=[O...   \n",
       "408155  [cH:0]1[cH:1][cH:2][cH:3][cH:4][c:5]1[C:6](=[O...   \n",
       "\n",
       "                                                     psig  \\\n",
       "11940   [cH:0]1[cH:1][cH:2][cH:3][cH:4][c:5]1[C:6]([CH...   \n",
       "34685                                               [H:0]   \n",
       "103016  [cH:0]1[cH:1][cH:2][cH:3][cH:4][c:5]1[C:6](=[O...   \n",
       "241912  [cH:0]1[cH:1][cH:2][cH:3][cH:4][c:5]1[CH:6]=[C...   \n",
       "337700  [cH:0]1[cH:1][cH:2][cH:3][cH:4][c:5]1[C:6](=[O...   \n",
       "365338  [cH:0]1[cH:1][cH:2][cH:3][cH:4][c:5]1[C:6](=[O...   \n",
       "408155  [cH:0]1[cH:1][cH:2][cH:3][cH:4][c:5]1[C:6](=[O...   \n",
       "\n",
       "                                              rsub  \\\n",
       "11940                [NH:8]([CH3:9])[O:10][CH3:11]   \n",
       "34685                [NH:8]([CH3:9])[O:10][CH3:11]   \n",
       "103016               [NH:8]([CH3:9])[O:10][CH3:11]   \n",
       "241912  [CH:6](=[O:7])[N:8]([CH3:9])[O:10][CH3:11]   \n",
       "337700               [NH:8]([CH3:9])[O:10][CH3:11]   \n",
       "365338               [NH:8]([CH3:9])[O:10][CH3:11]   \n",
       "408155               [NH:8]([CH3:9])[O:10][CH3:11]   \n",
       "\n",
       "                                                     psub  rcen  pcen  \\\n",
       "11940                                             [CH4:7]     8     7   \n",
       "34685                                               [H:0]     8     0   \n",
       "103016  [CH3:8][c:9]1[cH:10][cH:11][cH:12][cH:13][cH:14]1     8     8   \n",
       "241912          [CH2:6]=[CH:7][C:8](=[O:9])[O:10][CH3:11]     6     6   \n",
       "337700              [CH3:8][CH2:9][CH2:10][CH2:11][Cl:12]     8     8   \n",
       "365338  [CH3:8][c:9]1[cH:10][cH:11][c:12]([F:13])[cH:1...     8     8   \n",
       "408155  [CH3:8][c:9]1[cH:10][cH:11][c:12]([O:13][CH3:1...     8     8   \n",
       "\n",
       "          rbond    pbond  rsig_clusters  \n",
       "11940   [[1.0]]  [[1.0]]          10525  \n",
       "34685   [[1.0]]  [[1.0]]          10525  \n",
       "103016  [[1.0]]  [[1.0]]          10525  \n",
       "241912  [[1.0]]  [[1.0]]          10525  \n",
       "337700  [[1.0]]  [[1.0]]          10525  \n",
       "365338  [[1.0]]  [[1.0]]          10525  \n",
       "408155  [[1.0]]  [[1.0]]          10525  "
      ]
     },
     "metadata": {},
     "output_type": "display_data"
    },
    {
     "data": {
      "image/png": "[encoded data removed]",
      "text/plain": [
       "<rdkit.Chem.rdchem.Mol at 0x7f2288328030>"
      ]
     },
     "metadata": {},
     "output_type": "display_data"
    }
   ],
   "source": [
    "for key in certificate_to_cluster_id_dict:\n",
    "    clusters = certificate_to_cluster_id_dict[key]\n",
    "    print(len(clusters))\n",
    "    print(clusters)\n",
    "    \n",
    "    for c in clusters[:10]:\n",
    "        temp_df = dataset[dataset[\"rsig_clusters\"] == c]\n",
    "        display(temp_df)\n",
    "        for i in range(temp_df.shape[0]):\n",
    "#             print(\"Mol\")\n",
    "#             display(Chem.MolFromSmiles(temp_df.iloc[i][\"reactants\"]))\n",
    "#             print(\"rsub\")\n",
    "#             display(Chem.MolFromSmiles(temp_df.iloc[i][\"rsub\"]))\n",
    "#             print(\"sigs\")\n",
    "            display(Chem.MolFromSmiles(temp_df.iloc[i][\"rsig\"]))\n",
    "#             display(Chem.MolFromSmiles(temp_df.iloc[i][\"psig\"]))\n",
    "#             print()\n",
    "#             print()\n",
    "#             print()\n",
    "            break\n",
    "#         break\n",
    "    break"
   ]
  },
  {
   "cell_type": "code",
   "execution_count": 72,
   "metadata": {
    "scrolled": false
   },
   "outputs": [
    {
     "data": {
      "image/png": "[encoded data removed]",
      "text/plain": [
       "<rdkit.Chem.rdchem.Mol at 0x7f1d6ee77260>"
      ]
     },
     "metadata": {},
     "output_type": "display_data"
    },
    {
     "data": {
      "image/png": "[encoded data removed]",
      "text/plain": [
       "<rdkit.Chem.rdchem.Mol at 0x7f1d6ee77a80>"
      ]
     },
     "metadata": {},
     "output_type": "display_data"
    },
    {
     "data": {
      "image/png": "[encoded data removed]",
      "text/plain": [
       "<rdkit.Chem.rdchem.Mol at 0x7f1d6ee77990>"
      ]
     },
     "metadata": {},
     "output_type": "display_data"
    }
   ],
   "source": [
    "for key in list(certificate_to_cluster_id_dict.keys())[9:]:\n",
    "    for i in certificate_to_cluster_id_dict[key]:\n",
    "        display(Chem.MolFromSmiles(dataset[dataset[\"rsig_clusters\"]==i].iloc[0][\"rsub\"]))\n",
    "    break"
   ]
  },
  {
   "cell_type": "markdown",
   "metadata": {},
   "source": [
    "# Action searching"
   ]
  },
  {
   "cell_type": "markdown",
   "metadata": {},
   "source": [
    "The action searching algorithm has following steps:  \n",
    "1. Find cut vertices\n",
    "2. For each connected component + cut vertex, do index search on rsub\n",
    "3. If MatchFound(), do substructure match on rsig"
   ]
  },
  {
   "cell_type": "code",
   "execution_count": 99,
   "metadata": {},
   "outputs": [],
   "source": [
    "def mol_with_atom_index( mol ):\n",
    "    mol = Chem.Mol(mol)\n",
    "    atoms = mol.GetNumAtoms()\n",
    "    for idx in range( atoms ):\n",
    "        mol.GetAtomWithIdx( idx ).SetProp( 'molAtomMapNumber', str( mol.GetAtomWithIdx( idx ).GetIdx() ) )\n",
    "    return mol"
   ]
  },
  {
   "cell_type": "code",
   "execution_count": 116,
   "metadata": {},
   "outputs": [],
   "source": [
    "from rdkit.Chem import rdMMPA"
   ]
  },
  {
   "cell_type": "code",
   "execution_count": 123,
   "metadata": {},
   "outputs": [],
   "source": [
    "m = Chem.MolFromSmiles('c1ccccc1OC')\n",
    "frags = rdMMPA.FragmentMol(m, resultsAsMols=True)"
   ]
  },
  {
   "cell_type": "code",
   "execution_count": 124,
   "metadata": {},
   "outputs": [
    {
     "data": {
      "image/png": "[encoded data removed]",
      "text/plain": [
       "<rdkit.Chem.rdchem.Mol at 0x7f1d5ab7dcf0>"
      ]
     },
     "metadata": {},
     "output_type": "display_data"
    },
    {
     "data": {
      "image/png": "[encoded data removed]",
      "text/plain": [
       "<rdkit.Chem.rdchem.Mol at 0x7f1d5aba44b0>"
      ]
     },
     "metadata": {},
     "output_type": "display_data"
    },
    {
     "data": {
      "image/png": "[encoded data removed]",
      "text/plain": [
       "<rdkit.Chem.rdchem.Mol at 0x7f1d5aba45d0>"
      ]
     },
     "metadata": {},
     "output_type": "display_data"
    }
   ],
   "source": [
    "for frag in frags:\n",
    "    display(frag[-1])"
   ]
  },
  {
   "cell_type": "code",
   "execution_count": 139,
   "metadata": {
    "scrolled": false
   },
   "outputs": [
    {
     "name": "stdout",
     "output_type": "stream",
     "text": [
      "In mol\n"
     ]
    },
    {
     "data": {
      "image/png": "[encoded data removed]",
      "text/plain": [
       "<rdkit.Chem.rdchem.Mol at 0x7f1d5ac425b0>"
      ]
     },
     "metadata": {},
     "output_type": "display_data"
    },
    {
     "name": "stdout",
     "output_type": "stream",
     "text": [
      "Rsub\n"
     ]
    },
    {
     "data": {
      "image/png": "[encoded data removed]",
      "text/plain": [
       "<rdkit.Chem.rdchem.Mol at 0x7f1d5a947b70>"
      ]
     },
     "metadata": {},
     "output_type": "display_data"
    },
    {
     "name": "stdout",
     "output_type": "stream",
     "text": [
      "Rsig\n"
     ]
    },
    {
     "data": {
      "image/png": "[encoded data removed]",
      "text/plain": [
       "<rdkit.Chem.rdchem.Mol at 0x7f1d5a9479e0>"
      ]
     },
     "metadata": {},
     "output_type": "display_data"
    },
    {
     "name": "stdout",
     "output_type": "stream",
     "text": [
      "Candidate\n"
     ]
    },
    {
     "data": {
      "image/png": "[encoded data removed]",
      "text/plain": [
       "<rdkit.Chem.rdchem.Mol at 0x7f1d5ac42cb0>"
      ]
     },
     "metadata": {},
     "output_type": "display_data"
    },
    {
     "name": "stdout",
     "output_type": "stream",
     "text": [
      "Candidate\n"
     ]
    },
    {
     "data": {
      "image/png": "[encoded data removed]",
      "text/plain": [
       "<rdkit.Chem.rdchem.Mol at 0x7f1d5ac694f0>"
      ]
     },
     "metadata": {},
     "output_type": "display_data"
    },
    {
     "name": "stdout",
     "output_type": "stream",
     "text": [
      "Candidate\n"
     ]
    },
    {
     "data": {
      "image/png": "[encoded data removed]",
      "text/plain": [
       "<rdkit.Chem.rdchem.Mol at 0x7f1d5ac421f0>"
      ]
     },
     "metadata": {},
     "output_type": "display_data"
    },
    {
     "name": "stdout",
     "output_type": "stream",
     "text": [
      "Candidate\n"
     ]
    },
    {
     "data": {
      "image/png": "[encoded data removed]",
      "text/plain": [
       "<rdkit.Chem.rdchem.Mol at 0x7f1d5ac425b0>"
      ]
     },
     "metadata": {},
     "output_type": "display_data"
    },
    {
     "name": "stdout",
     "output_type": "stream",
     "text": [
      "Candidate\n"
     ]
    },
    {
     "data": {
      "image/png": "[encoded data removed]",
      "text/plain": [
       "<rdkit.Chem.rdchem.Mol at 0x7f1d5ac69170>"
      ]
     },
     "metadata": {},
     "output_type": "display_data"
    },
    {
     "name": "stdout",
     "output_type": "stream",
     "text": [
      "Candidate\n"
     ]
    },
    {
     "data": {
      "image/png": "[encoded data removed]",
      "text/plain": [
       "<rdkit.Chem.rdchem.Mol at 0x7f1d5ac69f70>"
      ]
     },
     "metadata": {},
     "output_type": "display_data"
    },
    {
     "name": "stdout",
     "output_type": "stream",
     "text": [
      "Candidate\n"
     ]
    },
    {
     "data": {
      "image/png": "[encoded data removed]",
      "text/plain": [
       "<rdkit.Chem.rdchem.Mol at 0x7f1d5ac42070>"
      ]
     },
     "metadata": {},
     "output_type": "display_data"
    },
    {
     "name": "stdout",
     "output_type": "stream",
     "text": [
      "Candidate\n"
     ]
    },
    {
     "data": {
      "image/png": "[encoded data removed]",
      "text/plain": [
       "<rdkit.Chem.rdchem.Mol at 0x7f1d5ac421f0>"
      ]
     },
     "metadata": {},
     "output_type": "display_data"
    },
    {
     "name": "stdout",
     "output_type": "stream",
     "text": [
      "Candidate\n"
     ]
    },
    {
     "data": {
      "image/png": "[encoded data removed]",
      "text/plain": [
       "<rdkit.Chem.rdchem.Mol at 0x7f1d5ac691b0>"
      ]
     },
     "metadata": {},
     "output_type": "display_data"
    },
    {
     "name": "stdout",
     "output_type": "stream",
     "text": [
      "Candidate\n"
     ]
    },
    {
     "data": {
      "image/png": "[encoded data removed]",
      "text/plain": [
       "<rdkit.Chem.rdchem.Mol at 0x7f1d5ac42cb0>"
      ]
     },
     "metadata": {},
     "output_type": "display_data"
    },
    {
     "name": "stdout",
     "output_type": "stream",
     "text": [
      "Candidate\n"
     ]
    },
    {
     "data": {
      "image/png": "[encoded data removed]",
      "text/plain": [
       "<rdkit.Chem.rdchem.Mol at 0x7f1d5ac302f0>"
      ]
     },
     "metadata": {},
     "output_type": "display_data"
    },
    {
     "name": "stdout",
     "output_type": "stream",
     "text": [
      "Candidate\n"
     ]
    },
    {
     "data": {
      "image/png": "[encoded data removed]",
      "text/plain": [
       "<rdkit.Chem.rdchem.Mol at 0x7f1d5ac42db0>"
      ]
     },
     "metadata": {},
     "output_type": "display_data"
    },
    {
     "name": "stdout",
     "output_type": "stream",
     "text": [
      "Candidate\n"
     ]
    },
    {
     "data": {
      "image/png": "[encoded data removed]",
      "text/plain": [
       "<rdkit.Chem.rdchem.Mol at 0x7f1d5ac37bb0>"
      ]
     },
     "metadata": {},
     "output_type": "display_data"
    },
    {
     "name": "stdout",
     "output_type": "stream",
     "text": [
      "Candidate\n"
     ]
    },
    {
     "data": {
      "image/png": "[encoded data removed]",
      "text/plain": [
       "<rdkit.Chem.rdchem.Mol at 0x7f1d5ac691b0>"
      ]
     },
     "metadata": {},
     "output_type": "display_data"
    },
    {
     "name": "stdout",
     "output_type": "stream",
     "text": [
      "Candidate\n"
     ]
    },
    {
     "data": {
      "image/png": "[encoded data removed]",
      "text/plain": [
       "<rdkit.Chem.rdchem.Mol at 0x7f1d5ac421f0>"
      ]
     },
     "metadata": {},
     "output_type": "display_data"
    },
    {
     "name": "stdout",
     "output_type": "stream",
     "text": [
      "Candidate\n"
     ]
    },
    {
     "data": {
      "image/png": "[encoded data removed]",
      "text/plain": [
       "<rdkit.Chem.rdchem.Mol at 0x7f1d5ac69f70>"
      ]
     },
     "metadata": {},
     "output_type": "display_data"
    },
    {
     "name": "stdout",
     "output_type": "stream",
     "text": [
      "Candidate\n"
     ]
    },
    {
     "data": {
      "image/png": "[encoded data removed]",
      "text/plain": [
       "<rdkit.Chem.rdchem.Mol at 0x7f1d5ac425b0>"
      ]
     },
     "metadata": {},
     "output_type": "display_data"
    },
    {
     "name": "stdout",
     "output_type": "stream",
     "text": [
      "Candidate\n"
     ]
    },
    {
     "data": {
      "image/png": "[encoded data removed]",
      "text/plain": [
       "<rdkit.Chem.rdchem.Mol at 0x7f1d5ac69f70>"
      ]
     },
     "metadata": {},
     "output_type": "display_data"
    },
    {
     "name": "stdout",
     "output_type": "stream",
     "text": [
      "[13191, 21332, 63487, 1364]\n",
      "CPU times: user 8.22 s, sys: 12.1 ms, total: 8.24 s\n",
      "Wall time: 8.22 s\n"
     ]
    }
   ],
   "source": [
    "%%time\n",
    "\n",
    "# For a new molecule, let's find all possible actions applicable\n",
    "i = 200\n",
    "in_mol = Chem.MolFromSmiles(dataset.iloc[i][\"reactants\"])\n",
    "rsub = Chem.MolFromSmiles(dataset.iloc[i][\"rsub\"])\n",
    "rsig = Chem.MolFromSmiles(dataset.iloc[i][\"rsig\"])\n",
    "\n",
    "print(\"In mol\")\n",
    "display(mol_with_atom_index(in_mol))\n",
    "print(\"Rsub\")\n",
    "display(rsub)\n",
    "print(\"Rsig\")\n",
    "display(rsig)\n",
    "\n",
    "def verify_action_applicability(mol, cluster_id):\n",
    "    rsig = Chem.MolFromSmiles(dataset[dataset[\"rsig_clusters\"]==cluster_id].iloc[0][\"rsig\"])\n",
    "    rcen = dataset[dataset[\"rsig_clusters\"]==cluster_id].iloc[0][\"rcen\"]\n",
    "    rbond = dataset[dataset[\"rsig_clusters\"]==cluster_id].iloc[0][\"rbond\"]\n",
    "    \n",
    "    # Check if the cluster rsig is in mol\n",
    "    if not mol.HasSubstructMatch(rsig):\n",
    "        return False\n",
    "    \n",
    "    # Check if the rcen matches\n",
    "    match = mol.GetSubstructMatch(rsig)\n",
    "    \n",
    "    cand_rcen = match[rcen]\n",
    "    cand_atom = mol.GetAtomWithIdx(cand_rcen)\n",
    "    neighbors = list(map(lambda x: x.GetIdx(), cand_atom.GetNeighbors()))\n",
    "    if not set(neighbors) - set(match):\n",
    "        return False\n",
    "\n",
    "    return True\n",
    "    \n",
    "def get_mol_from_index_list(mol, indices):\n",
    "    rw = Chem.RWMol(mol)\n",
    "    rw.BeginBatchEdit()\n",
    "    for idx in set(list(range(mol.GetNumAtoms()))) - set(indices):\n",
    "        rw.RemoveAtom(idx)\n",
    "    rw.CommitBatchEdit()\n",
    "    return Chem.Mol(rw)\n",
    "    \n",
    "\n",
    "# For each cut vertex, we find two disconnected components and search the smaller one in our index\n",
    "G = nx.from_numpy_matrix(Chem.GetAdjacencyMatrix(in_mol))\n",
    "applicable_actions = []\n",
    "\n",
    "for x in nx.articulation_points(G):\n",
    "    # Remove atom (not directly, otherwise the index resets)\n",
    "    # First remove bonds to x\n",
    "    mw = Chem.RWMol(in_mol)\n",
    "    Chem.Kekulize(mw, clearAromaticFlags=True)\n",
    "    for n in mw.GetAtomWithIdx(x).GetNeighbors():\n",
    "        mw.RemoveBond(x, n.GetIdx())\n",
    "    \n",
    "    # Find fragments\n",
    "    mol_frags = list(Chem.rdmolops.GetMolFrags(mw))\n",
    "    \n",
    "    # Remove x from fragments\n",
    "    mol_frags.remove((x,))\n",
    "    \n",
    "    \n",
    "    # For each fragment, add x and extract sub-molecule and search\n",
    "    for frag in mol_frags:\n",
    "        indices = [x] + list(frag)\n",
    "        candidate = get_mol_from_index_list(in_mol, indices)\n",
    "        print(\"Candidate\")\n",
    "        display(candidate)\n",
    "\n",
    "        # get certificate and search in rsub\n",
    "        cand_certi = get_mol_certificate(candidate)\n",
    "        if cand_certi in certificate_to_cluster_id_dict:\n",
    "            # Verify rsig\n",
    "            for cluster_id in certificate_to_cluster_id_dict[cand_certi]:\n",
    "#                 print(\"Verification...\", cluster_id)\n",
    "                if verify_action_applicability(in_mol, cluster_id):\n",
    "                    applicable_actions.append(cluster_id)\n",
    "                \n",
    "print(applicable_actions)"
   ]
  },
  {
   "cell_type": "code",
   "execution_count": 331,
   "metadata": {},
   "outputs": [
    {
     "name": "stdout",
     "output_type": "stream",
     "text": [
      "Input molecule\n"
     ]
    },
    {
     "data": {
      "image/png": "[encoded data removed]",
      "text/plain": [
       "<rdkit.Chem.rdchem.Mol at 0x7f5411384e40>"
      ]
     },
     "metadata": {},
     "output_type": "display_data"
    },
    {
     "name": "stdout",
     "output_type": "stream",
     "text": [
      "Random rsig chosen (rcen = 0)\n"
     ]
    },
    {
     "data": {
      "image/png": "[encoded data removed]",
      "text/plain": [
       "<rdkit.Chem.rdchem.Mol at 0x7f54112e7f30>"
      ]
     },
     "metadata": {},
     "output_type": "display_data"
    },
    {
     "name": "stdout",
     "output_type": "stream",
     "text": [
      "Random psig chosen (pcen = 0)\n"
     ]
    },
    {
     "data": {
      "image/png": "[encoded data removed]",
      "text/plain": [
       "<rdkit.Chem.rdchem.Mol at 0x7f54112e7da0>"
      ]
     },
     "metadata": {},
     "output_type": "display_data"
    }
   ],
   "source": [
    "# Pick a random action from all the possible ones\n",
    "temp_df = dataset[dataset[\"rsig_clusters\"].isin(applicable_actions)]\n",
    "random_action = temp_df.iloc[int(np.random.random()*temp_df.shape[0])]\n",
    "\n",
    "print(\"Input molecule\")\n",
    "display(in_mol)\n",
    "print(f\"Random rsig chosen (rcen = {random_action['rcen']})\")\n",
    "display(Chem.MolFromSmiles(random_action[\"rsig\"]))\n",
    "print(f\"Random psig chosen (pcen = {random_action['pcen']})\")\n",
    "display(Chem.MolFromSmiles(random_action[\"psig\"]))"
   ]
  },
  {
   "cell_type": "code",
   "execution_count": 341,
   "metadata": {},
   "outputs": [
    {
     "name": "stdout",
     "output_type": "stream",
     "text": [
      "[<rdkit.Chem.rdchem.Atom object at 0x7f54150502b0>]\n",
      "Input molecule with canditate matches\n"
     ]
    },
    {
     "data": {
      "image/png": "[encoded data removed]",
      "text/plain": [
       "<rdkit.Chem.rdchem.Mol at 0x7f5414f2b070>"
      ]
     },
     "metadata": {},
     "output_type": "display_data"
    },
    {
     "name": "stdout",
     "output_type": "stream",
     "text": [
      "Input molecule without rsig\n"
     ]
    },
    {
     "data": {
      "image/png": "[encoded data removed]",
      "text/plain": [
       "<rdkit.Chem.rdchem.Mol at 0x7f541285e7f0>"
      ]
     },
     "metadata": {},
     "output_type": "display_data"
    },
    {
     "name": "stdout",
     "output_type": "stream",
     "text": [
      "Input molecule with psig\n"
     ]
    },
    {
     "data": {
      "image/png": "[encoded data removed]",
      "text/plain": [
       "<rdkit.Chem.rdchem.Mol at 0x7f5414f1efb0>"
      ]
     },
     "metadata": {},
     "output_type": "display_data"
    },
    {
     "data": {
      "image/png": "[encoded data removed]",
      "text/plain": [
       "<rdkit.Chem.rdchem.Mol at 0x7f54113081b0>"
      ]
     },
     "execution_count": 341,
     "metadata": {},
     "output_type": "execute_result"
    }
   ],
   "source": [
    "def mol_with_atom_index( mol ):\n",
    "    '''\n",
    "    draw molecule with index\n",
    "    '''\n",
    "    colored = False\n",
    "    if hasattr(mol, \"__sssAtoms\"):\n",
    "        sss = mol.__sssAtoms\n",
    "        colored = True\n",
    "    mol = Chem.Mol(mol)\n",
    "    atoms = mol.GetNumAtoms()\n",
    "    for idx in range( atoms ):\n",
    "        mol.GetAtomWithIdx( idx ).SetProp( 'molAtomMapNumber', str( mol.GetAtomWithIdx( idx ).GetIdx() ) )\n",
    "    if colored:\n",
    "        mol.__sssAtoms = sss\n",
    "    return mol\n",
    "\n",
    "def smiles_without_atom_index( smiles ):\n",
    "    '''\n",
    "    Convert smiles with numbers to smiles without numbers\n",
    "    '''\n",
    "    mol = Chem.MolFromSmiles(smiles)\n",
    "    atoms = mol.GetNumAtoms()\n",
    "    for idx in range( atoms ):\n",
    "        mol.GetAtomWithIdx( idx ).ClearProp( 'molAtomMapNumber' )\n",
    "    return Chem.MolToSmiles(mol)\n",
    "\n",
    "def replace_signature(input_mol, rsig, rcen, rbond, psig, pcen, pbond):\n",
    "    input_mol = Chem.Mol(input_mol)\n",
    "    matches = input_mol.GetSubstructMatches(Chem.MolFromSmiles(rsig))\n",
    "    # FIXME: Provide option to use more than just the first match\n",
    "    match = matches[0]\n",
    "\n",
    "    # Find the connecting atom idx\n",
    "    connecting_atoms = []\n",
    "    for atm_idx in match:\n",
    "        atom = input_mol.GetAtomWithIdx(atm_idx)\n",
    "        neighbors = atom.GetNeighbors()\n",
    "        neighbors_indices = list(map(lambda x: x.GetIdx(), neighbors))\n",
    "        connecting_atoms.extend(list(map(lambda x: input_mol.GetAtomWithIdx(x), set(neighbors_indices) - set(match))))\n",
    "    print(connecting_atoms)\n",
    "    pcen_atom = input_mol.GetAtomWithIdx(int(pcen))\n",
    "        \n",
    "    print(\"Input molecule with canditate matches\")\n",
    "    display(mol_with_atom_index(input_mol))\n",
    "    rwmol = Chem.RWMol(input_mol)\n",
    "    for idx in match:\n",
    "        rwmol.RemoveAtom(idx)\n",
    "    print(\"Input molecule without rsig\")\n",
    "    display(mol_with_atom_index(rwmol))\n",
    "\n",
    "    original_num_atoms = rwmol.GetNumAtoms()\n",
    "    rwmol.InsertMol(Chem.MolFromSmiles(smiles_without_atom_index(psig)))\n",
    "#     display(mol_with_atom_index(rwmol))\n",
    "    \n",
    "    for c_atom in connecting_atoms:\n",
    "#         print(c_atom.GetIdx(), pcen_atom.GetIdx()+original_num_atoms)\n",
    "        rwmol.AddBond(c_atom.GetIdx(), pcen_atom.GetIdx()+original_num_atoms, Chem.BondType.SINGLE)\n",
    "    \n",
    "    output_mol = Chem.Mol(rwmol)\n",
    "    \n",
    "    temp_mol = Chem.Mol(output_mol)\n",
    "    temp_mol.GetSubstructMatch(Chem.MolFromSmiles(psig))\n",
    "    print(\"Input molecule with psig\")\n",
    "    display(mol_with_atom_index(temp_mol))\n",
    "    \n",
    "#     display(Chem.MolFromSmiles(psig))\n",
    "#     print(pcen)\n",
    "    \n",
    "    return output_mol\n",
    "    \n",
    "replace_signature(in_mol, random_action[\"rsig\"], random_action[\"rcen\"], [], random_action[\"psig\"], random_action[\"pcen\"], [])"
   ]
  },
  {
   "cell_type": "code",
   "execution_count": null,
   "metadata": {},
   "outputs": [],
   "source": []
  },
  {
   "cell_type": "code",
   "execution_count": null,
   "metadata": {},
   "outputs": [],
   "source": []
  },
  {
   "cell_type": "code",
   "execution_count": null,
   "metadata": {},
   "outputs": [],
   "source": []
  },
  {
   "cell_type": "code",
   "execution_count": null,
   "metadata": {},
   "outputs": [],
   "source": []
  },
  {
   "cell_type": "code",
   "execution_count": 249,
   "metadata": {},
   "outputs": [
    {
     "data": {
      "text/html": [
       "<div>\n",
       "<style scoped>\n",
       "    .dataframe tbody tr th:only-of-type {\n",
       "        vertical-align: middle;\n",
       "    }\n",
       "\n",
       "    .dataframe tbody tr th {\n",
       "        vertical-align: top;\n",
       "    }\n",
       "\n",
       "    .dataframe thead th {\n",
       "        text-align: right;\n",
       "    }\n",
       "</style>\n",
       "<table border=\"1\" class=\"dataframe\">\n",
       "  <thead>\n",
       "    <tr style=\"text-align: right;\">\n",
       "      <th></th>\n",
       "      <th>reactants</th>\n",
       "      <th>products</th>\n",
       "      <th>rsig</th>\n",
       "      <th>psig</th>\n",
       "      <th>rcen</th>\n",
       "      <th>pcen</th>\n",
       "      <th>rbond</th>\n",
       "      <th>pbond</th>\n",
       "      <th>rsig_clusters</th>\n",
       "    </tr>\n",
       "  </thead>\n",
       "  <tbody>\n",
       "  </tbody>\n",
       "</table>\n",
       "</div>"
      ],
      "text/plain": [
       "Empty DataFrame\n",
       "Columns: [reactants, products, rsig, psig, rcen, pcen, rbond, pbond, rsig_clusters]\n",
       "Index: []"
      ]
     },
     "execution_count": 249,
     "metadata": {},
     "output_type": "execute_result"
    }
   ],
   "source": [
    "temp_df"
   ]
  },
  {
   "cell_type": "code",
   "execution_count": null,
   "metadata": {},
   "outputs": [],
   "source": []
  },
  {
   "cell_type": "code",
   "execution_count": null,
   "metadata": {},
   "outputs": [],
   "source": []
  },
  {
   "cell_type": "code",
   "execution_count": null,
   "metadata": {},
   "outputs": [],
   "source": []
  },
  {
   "cell_type": "code",
   "execution_count": 13,
   "metadata": {},
   "outputs": [],
   "source": [
    "mol = Chem.MolFromSmiles(\"CONC\")"
   ]
  },
  {
   "cell_type": "code",
   "execution_count": 14,
   "metadata": {},
   "outputs": [
    {
     "data": {
      "image/png": "[encoded data removed]",
      "text/plain": [
       "<rdkit.Chem.rdchem.Mol at 0x7f7465a5f850>"
      ]
     },
     "execution_count": 14,
     "metadata": {},
     "output_type": "execute_result"
    }
   ],
   "source": [
    "mol"
   ]
  },
  {
   "cell_type": "code",
   "execution_count": 152,
   "metadata": {},
   "outputs": [
    {
     "data": {
      "text/plain": [
       "array([[0, 1, 0, 0],\n",
       "       [1, 0, 1, 0],\n",
       "       [0, 1, 0, 1],\n",
       "       [0, 0, 1, 0]], dtype=int32)"
      ]
     },
     "execution_count": 152,
     "metadata": {},
     "output_type": "execute_result"
    }
   ],
   "source": [
    "Chem.GetAdjacencyMatrix(mol)"
   ]
  },
  {
   "cell_type": "code",
   "execution_count": 15,
   "metadata": {},
   "outputs": [],
   "source": [
    "mol = Chem.MolFromSmiles(\"CC(C)C\")"
   ]
  },
  {
   "cell_type": "code",
   "execution_count": 16,
   "metadata": {},
   "outputs": [],
   "source": [
    "adj_mat = Chem.GetAdjacencyMatrix(mol)\n",
    "\n",
    "# Create a ring for each atom with size = atomic_num\n",
    "atom_nums = np.array([atom.GetAtomicNum() for atom in list(mol.GetAtoms())])\n",
    "# atom_nums[atom_nums == 6] = 1\n",
    "mat_list = []\n",
    "for atn in atom_nums:\n",
    "    new_mat = np.zeros(shape=(atn, atn), dtype=np.int8)\n",
    "    for i in range(atn):\n",
    "        new_mat[i, (i+1)%atn] = 1\n",
    "    mat_list.append(new_mat)\n",
    "\n",
    "# conbine the rings into a new adj mat\n",
    "new_adj_mat = np.zeros(shape=(sum(atom_nums), sum(atom_nums)), dtype=np.int8)\n",
    "idx = 0\n",
    "for i in range(len(atom_nums)):\n",
    "    new_adj_mat[idx:idx+atom_nums[i], idx:idx+atom_nums[i]] = mat_list[i]\n",
    "    idx += atom_nums[i]\n",
    "    \n",
    "# add original last connections\n",
    "idx = 0\n",
    "for i, a_i in enumerate(np.cumsum(atom_nums)):\n",
    "    for j, a_j in enumerate(np.cumsum(atom_nums)):\n",
    "        new_adj_mat[a_i-1, a_j-1] = adj_mat[i, j]\n",
    "#         print(a_i-1, a_j-1, adj_mat[i, j])"
   ]
  },
  {
   "cell_type": "code",
   "execution_count": 17,
   "metadata": {},
   "outputs": [
    {
     "name": "stdout",
     "output_type": "stream",
     "text": [
      "[0 1 0 0 0 0 0 0 0 0 0 0 0 0 0 0 0 0 0 0 0 0 0 0]\n",
      "[0 0 1 0 0 0 0 0 0 0 0 0 0 0 0 0 0 0 0 0 0 0 0 0]\n",
      "[0 0 0 1 0 0 0 0 0 0 0 0 0 0 0 0 0 0 0 0 0 0 0 0]\n",
      "[0 0 0 0 1 0 0 0 0 0 0 0 0 0 0 0 0 0 0 0 0 0 0 0]\n",
      "[0 0 0 0 0 1 0 0 0 0 0 0 0 0 0 0 0 0 0 0 0 0 0 0]\n",
      "[1 0 0 0 0 0 0 0 0 0 0 1 0 0 0 0 0 0 0 0 0 0 0 0]\n",
      "[0 0 0 0 0 0 0 1 0 0 0 0 0 0 0 0 0 0 0 0 0 0 0 0]\n",
      "[0 0 0 0 0 0 0 0 1 0 0 0 0 0 0 0 0 0 0 0 0 0 0 0]\n",
      "[0 0 0 0 0 0 0 0 0 1 0 0 0 0 0 0 0 0 0 0 0 0 0 0]\n",
      "[0 0 0 0 0 0 0 0 0 0 1 0 0 0 0 0 0 0 0 0 0 0 0 0]\n",
      "[0 0 0 0 0 0 0 0 0 0 0 1 0 0 0 0 0 0 0 0 0 0 0 0]\n",
      "[0 0 0 0 0 1 1 0 0 0 0 0 0 0 0 0 0 1 0 0 0 0 0 1]\n",
      "[0 0 0 0 0 0 0 0 0 0 0 0 0 1 0 0 0 0 0 0 0 0 0 0]\n",
      "[0 0 0 0 0 0 0 0 0 0 0 0 0 0 1 0 0 0 0 0 0 0 0 0]\n",
      "[0 0 0 0 0 0 0 0 0 0 0 0 0 0 0 1 0 0 0 0 0 0 0 0]\n",
      "[0 0 0 0 0 0 0 0 0 0 0 0 0 0 0 0 1 0 0 0 0 0 0 0]\n",
      "[0 0 0 0 0 0 0 0 0 0 0 0 0 0 0 0 0 1 0 0 0 0 0 0]\n",
      "[0 0 0 0 0 0 0 0 0 0 0 1 1 0 0 0 0 0 0 0 0 0 0 0]\n",
      "[0 0 0 0 0 0 0 0 0 0 0 0 0 0 0 0 0 0 0 1 0 0 0 0]\n",
      "[0 0 0 0 0 0 0 0 0 0 0 0 0 0 0 0 0 0 0 0 1 0 0 0]\n",
      "[0 0 0 0 0 0 0 0 0 0 0 0 0 0 0 0 0 0 0 0 0 1 0 0]\n",
      "[0 0 0 0 0 0 0 0 0 0 0 0 0 0 0 0 0 0 0 0 0 0 1 0]\n",
      "[0 0 0 0 0 0 0 0 0 0 0 0 0 0 0 0 0 0 0 0 0 0 0 1]\n",
      "[0 0 0 0 0 0 0 0 0 0 0 1 0 0 0 0 0 0 1 0 0 0 0 0]\n"
     ]
    }
   ],
   "source": [
    "for row in new_adj_mat:\n",
    "    print(row)"
   ]
  },
  {
   "cell_type": "code",
   "execution_count": 156,
   "metadata": {},
   "outputs": [
    {
     "data": {
      "image/png": "[encoded data removed]",
      "text/plain": [
       "<Figure size 432x288 with 1 Axes>"
      ]
     },
     "metadata": {},
     "output_type": "display_data"
    }
   ],
   "source": [
    "import networkx as nx\n",
    "G = nx.from_numpy_matrix(new_adj_mat)\n",
    "\n",
    "nx.draw_kamada_kawai(G)"
   ]
  }
 ],
 "metadata": {
  "kernelspec": {
   "display_name": "Python 3 (ipykernel)",
   "language": "python",
   "name": "python3"
  },
  "language_info": {
   "codemirror_mode": {
    "name": "ipython",
    "version": 3
   },
   "file_extension": ".py",
   "mimetype": "text/x-python",
   "name": "python",
   "nbconvert_exporter": "python",
   "pygments_lexer": "ipython3",
   "version": "3.7.13"
  }
 },
 "nbformat": 4,
 "nbformat_minor": 2
}
